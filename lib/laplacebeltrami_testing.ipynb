{
 "cells": [
  {
   "cell_type": "code",
   "execution_count": 1,
   "metadata": {},
   "outputs": [],
   "source": [
    "%matplotlib notebook\n",
    "import numpy as np\n",
    "import scipy.linalg as la\n",
    "import mpl_toolkits.mplot3d\n",
    "import matplotlib.pyplot as plt\n",
    "\n",
    "from scipy.spatial import cKDTree\n",
    "\n",
    "import scipy.sparse as sp\n",
    "from scipy.sparse.linalg import spsolve, lsqr\n",
    "\n",
    "from numpy.linalg import cond, norm, inv, lstsq\n",
    "\n",
    "from scipy.optimize import minimize_scalar\n",
    "\n",
    "from poly_basis import *\n",
    "from spherepts import *\n",
    "from rbf import *\n",
    "\n",
    "from laplacebeltrami import *\n",
    "\n",
    "from math import factorial as fac"
   ]
  },
  {
   "cell_type": "code",
   "execution_count": 10,
   "metadata": {},
   "outputs": [
    {
     "name": "stdout",
     "output_type": "stream",
     "text": [
      "Harmonic degree: 4\n"
     ]
    }
   ],
   "source": [
    "n = 400\n",
    "eps = None\n",
    "k = 50\n",
    "#rbf_obj = rbf_dict['multiquadric']\n",
    "rbf_obj = rbf_dict['r^9']\n",
    "# Choose solution and forcing fuction\n",
    "solution_index = 20\n",
    "\n",
    "nodes = gen_spiral_nodes(n)\n",
    "normals = nodes\n",
    "\n",
    "rbf = rbf_obj['rbf']\n",
    "zeta  = rbf_obj['zeta']\n",
    "d2rbf = rbf_obj['d2rbf']\n",
    "Lrbf = lambda r,eps: 1*zeta(r,eps) + d2rbf(r,eps)\n",
    "\n",
    "sol_deg = sphere_harm_degs[solution_index]\n",
    "exact = lambda x: sphere_harm[solution_index](*x)*-sol_deg*(sol_deg+1)\n",
    "forcing = lambda x: sphere_harm[solution_index](*x)\n",
    "print('Harmonic degree: %d' % sol_deg)"
   ]
  },
  {
   "cell_type": "markdown",
   "metadata": {},
   "source": [
    "# Shankar-Wright Method"
   ]
  },
  {
   "cell_type": "code",
   "execution_count": 11,
   "metadata": {},
   "outputs": [
    {
     "name": "stdout",
     "output_type": "stream",
     "text": [
      "3.4765217129917323\n"
     ]
    }
   ],
   "source": [
    "C = SWM(nodes, normals, rbf_obj, eps, k, poly_deg=2, poly_type='p')\n",
    "fs = np.array([forcing(node) for node in nodes])\n",
    "ds = C @ fs\n",
    "es = np.array([exact(node) for node in nodes])\n",
    "print(la.norm(ds - es)/la.norm(es))"
   ]
  },
  {
   "cell_type": "code",
   "execution_count": 12,
   "metadata": {},
   "outputs": [
    {
     "name": "stdout",
     "output_type": "stream",
     "text": [
      "0.001904940403098113\n"
     ]
    }
   ],
   "source": [
    "C = SWM(nodes, normals, rbf_obj, eps, k, poly_deg=1, poly_type='p')\n",
    "fs = np.array([forcing(node) for node in nodes])\n",
    "ds = C @ fs\n",
    "es = np.array([exact(node) for node in nodes])\n",
    "print(la.norm(ds - es)/la.norm(es))"
   ]
  },
  {
   "cell_type": "code",
   "execution_count": 13,
   "metadata": {},
   "outputs": [
    {
     "name": "stdout",
     "output_type": "stream",
     "text": [
      "0.0005002980927061657\n"
     ]
    }
   ],
   "source": [
    "C = SWM(nodes, normals, rbf_obj, eps, k, poly_deg=4, poly_type='p')\n",
    "fs = np.array([forcing(node) for node in nodes])\n",
    "ds = C @ fs\n",
    "es = np.array([exact(node) for node in nodes])\n",
    "print(la.norm(ds - es)/la.norm(es))"
   ]
  },
  {
   "cell_type": "code",
   "execution_count": 14,
   "metadata": {},
   "outputs": [
    {
     "name": "stdout",
     "output_type": "stream",
     "text": [
      "3.476521860070867\n"
     ]
    }
   ],
   "source": [
    "C = SWM(nodes, normals, rbf_obj, eps, k, poly_deg=2, poly_type='s')\n",
    "fs = np.array([forcing(node) for node in nodes])\n",
    "ds = C @ fs\n",
    "es = np.array([exact(node) for node in nodes])\n",
    "print(la.norm(ds - es)/la.norm(es))"
   ]
  },
  {
   "cell_type": "markdown",
   "metadata": {},
   "source": [
    "# Tangent Plane Method"
   ]
  },
  {
   "cell_type": "code",
   "execution_count": 7,
   "metadata": {},
   "outputs": [
    {
     "name": "stdout",
     "output_type": "stream",
     "text": [
      "0.00048721016990151497\n"
     ]
    }
   ],
   "source": [
    "C = TPM(nodes, normals, rbf_obj, eps, k, poly_deg=2)\n",
    "fs = np.array([forcing(node) for node in nodes])\n",
    "ds = C @ fs\n",
    "es = np.array([exact(node) for node in nodes])\n",
    "print(la.norm(ds - es)/la.norm(es))"
   ]
  },
  {
   "cell_type": "code",
   "execution_count": 8,
   "metadata": {},
   "outputs": [
    {
     "name": "stdout",
     "output_type": "stream",
     "text": [
      "0.00024036219976002443\n"
     ]
    }
   ],
   "source": [
    "C = TPM(nodes, normals, rbf_obj, eps, k, poly_deg=4)\n",
    "fs = np.array([forcing(node) for node in nodes])\n",
    "ds = C @ fs\n",
    "es = np.array([exact(node) for node in nodes])\n",
    "print(la.norm(ds - es)/la.norm(es))"
   ]
  },
  {
   "cell_type": "code",
   "execution_count": 9,
   "metadata": {},
   "outputs": [
    {
     "ename": "SyntaxError",
     "evalue": "invalid syntax (<ipython-input-9-4b37ef281455>, line 1)",
     "output_type": "error",
     "traceback": [
      "\u001b[0;36m  File \u001b[0;32m\"<ipython-input-9-4b37ef281455>\"\u001b[0;36m, line \u001b[0;32m1\u001b[0m\n\u001b[0;31m    |\u001b[0m\n\u001b[0m    ^\u001b[0m\n\u001b[0;31mSyntaxError\u001b[0m\u001b[0;31m:\u001b[0m invalid syntax\n"
     ]
    }
   ],
   "source": [
    "|"
   ]
  }
 ],
 "metadata": {
  "kernelspec": {
   "display_name": "Python 3",
   "language": "python",
   "name": "python3"
  },
  "language_info": {
   "codemirror_mode": {
    "name": "ipython",
    "version": 3
   },
   "file_extension": ".py",
   "mimetype": "text/x-python",
   "name": "python",
   "nbconvert_exporter": "python",
   "pygments_lexer": "ipython3",
   "version": "3.6.7"
  }
 },
 "nbformat": 4,
 "nbformat_minor": 2
}

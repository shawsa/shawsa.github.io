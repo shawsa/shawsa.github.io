{
 "cells": [
  {
   "cell_type": "code",
   "execution_count": 1,
   "metadata": {},
   "outputs": [],
   "source": [
    "%matplotlib notebook\n",
    "import numpy as np\n",
    "import scipy.linalg as la\n",
    "import mpl_toolkits.mplot3d\n",
    "import matplotlib.pyplot as plt\n",
    "\n",
    "from scipy.spatial import cKDTree\n",
    "\n",
    "import scipy.sparse as sp\n",
    "from scipy.sparse.linalg import spsolve, lsqr\n",
    "\n",
    "from numpy.linalg import cond, norm, inv, lstsq\n",
    "\n",
    "from scipy.optimize import minimize_scalar\n",
    "\n",
    "from poly_basis import *\n",
    "from spherepts import *\n",
    "from rbf import *\n",
    "\n",
    "from laplacebeltrami import *\n",
    "\n",
    "from math import factorial as fac"
   ]
  },
  {
   "cell_type": "code",
   "execution_count": 2,
   "metadata": {},
   "outputs": [
    {
     "name": "stdout",
     "output_type": "stream",
     "text": [
      "Harmonic degree: 3\n"
     ]
    }
   ],
   "source": [
    "n = 2000\n",
    "eps = None\n",
    "k = 21\n",
    "#rbf_obj = rbf_dict['multiquadric']\n",
    "rbf_obj = rbf_dict['r^9']\n",
    "# Choose solution and forcing fuction\n",
    "solution_index = 10\n",
    "\n",
    "nodes = gen_spiral_nodes(n)\n",
    "normals = nodes\n",
    "\n",
    "rbf = rbf_obj['rbf']\n",
    "zeta  = rbf_obj['zeta']\n",
    "d2rbf = rbf_obj['d2rbf']\n",
    "Lrbf = lambda r,eps: 1*zeta(r,eps) + d2rbf(r,eps)\n",
    "\n",
    "sol_deg = sphere_harm_degs[solution_index]\n",
    "exact = lambda x: sphere_harm[solution_index](*x)*-sol_deg*(sol_deg+1)\n",
    "forcing = lambda x: sphere_harm[solution_index](*x)\n",
    "print('Harmonic degree: %d' % sol_deg)"
   ]
  },
  {
   "cell_type": "markdown",
   "metadata": {},
   "source": [
    "# Shankar-Wright Method"
   ]
  },
  {
   "cell_type": "code",
   "execution_count": 6,
   "metadata": {},
   "outputs": [
    {
     "name": "stdout",
     "output_type": "stream",
     "text": [
      "0.06607840264081355\n"
     ]
    }
   ],
   "source": [
    "C = SWM(nodes, normals, rbf_obj, eps, 50, poly_deg=2, poly_type='p')\n",
    "fs = np.array([forcing(node) for node in nodes])\n",
    "ds = C @ fs\n",
    "es = np.array([exact(node) for node in nodes])\n",
    "print(la.norm(ds - es)/la.norm(es))"
   ]
  },
  {
   "cell_type": "code",
   "execution_count": 7,
   "metadata": {},
   "outputs": [
    {
     "name": "stdout",
     "output_type": "stream",
     "text": [
      "1.5853510437202983e-10\n"
     ]
    }
   ],
   "source": [
    "C = SWM(nodes, normals, rbf_obj, eps, 50, poly_deg=4, poly_type='p')\n",
    "fs = np.array([forcing(node) for node in nodes])\n",
    "ds = C @ fs\n",
    "es = np.array([exact(node) for node in nodes])\n",
    "print(la.norm(ds - es)/la.norm(es))"
   ]
  },
  {
   "cell_type": "code",
   "execution_count": 3,
   "metadata": {},
   "outputs": [
    {
     "name": "stdout",
     "output_type": "stream",
     "text": [
      "0.00010744546883886061\n"
     ]
    }
   ],
   "source": [
    "C = SWM(nodes, normals, rbf_obj, eps, 50, poly_deg=2, poly_type='s')\n",
    "fs = np.array([forcing(node) for node in nodes])\n",
    "ds = C @ fs\n",
    "es = np.array([exact(node) for node in nodes])\n",
    "print(la.norm(ds - es)/la.norm(es))"
   ]
  },
  {
   "cell_type": "markdown",
   "metadata": {},
   "source": [
    "# Tangent Plane Method"
   ]
  },
  {
   "cell_type": "code",
   "execution_count": 9,
   "metadata": {},
   "outputs": [
    {
     "name": "stdout",
     "output_type": "stream",
     "text": [
      "cond(A): 78955.9\n",
      "0.05222889697222633\n"
     ]
    }
   ],
   "source": [
    "C = TPM(nodes, normals, rbf_obj, eps, k, poly_deg=2)\n",
    "fs = np.array([forcing(node) for node in nodes])\n",
    "ds = C @ fs\n",
    "es = np.array([exact(node) for node in nodes])\n",
    "print(la.norm(ds - es)/la.norm(es))"
   ]
  },
  {
   "cell_type": "code",
   "execution_count": 8,
   "metadata": {},
   "outputs": [
    {
     "name": "stdout",
     "output_type": "stream",
     "text": [
      "cond(A): 800220\n",
      "6.985633605941399e-06\n"
     ]
    }
   ],
   "source": [
    "C = TPM(nodes, normals, rbf_obj, eps, k, poly_deg=4)\n",
    "fs = np.array([forcing(node) for node in nodes])\n",
    "ds = C @ fs\n",
    "es = np.array([exact(node) for node in nodes])\n",
    "print(la.norm(ds - es)/la.norm(es))"
   ]
  },
  {
   "cell_type": "code",
   "execution_count": null,
   "metadata": {},
   "outputs": [],
   "source": [
    "|"
   ]
  }
 ],
 "metadata": {
  "kernelspec": {
   "display_name": "Python 3",
   "language": "python",
   "name": "python3"
  },
  "language_info": {
   "codemirror_mode": {
    "name": "ipython",
    "version": 3
   },
   "file_extension": ".py",
   "mimetype": "text/x-python",
   "name": "python",
   "nbconvert_exporter": "python",
   "pygments_lexer": "ipython3",
   "version": "3.6.7"
  }
 },
 "nbformat": 4,
 "nbformat_minor": 2
}

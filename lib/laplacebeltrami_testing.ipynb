{
 "cells": [
  {
   "cell_type": "code",
   "execution_count": 1,
   "metadata": {},
   "outputs": [],
   "source": [
    "%matplotlib notebook\n",
    "import numpy as np\n",
    "import scipy.linalg as la\n",
    "import mpl_toolkits.mplot3d\n",
    "import matplotlib.pyplot as plt\n",
    "\n",
    "from scipy.spatial import cKDTree\n",
    "\n",
    "import scipy.sparse as sp\n",
    "from scipy.sparse.linalg import spsolve, lsqr\n",
    "\n",
    "from numpy.linalg import cond, norm, inv, lstsq\n",
    "\n",
    "from scipy.optimize import minimize_scalar\n",
    "\n",
    "from poly_basis import *\n",
    "from spherepts import *\n",
    "from rbf import *\n",
    "\n",
    "from laplacebeltrami import *\n",
    "\n",
    "from math import factorial as fac"
   ]
  },
  {
   "cell_type": "code",
   "execution_count": 2,
   "metadata": {},
   "outputs": [
    {
     "name": "stdout",
     "output_type": "stream",
     "text": [
      "Harmonic degree: 3\n"
     ]
    }
   ],
   "source": [
    "n = 200\n",
    "eps = None\n",
    "k = 21\n",
    "rbf_obj = rbf_dict['multiquadric']\n",
    "# Choose solution and forcing fuction\n",
    "solution_index = 10\n",
    "\n",
    "nodes = gen_spiral_nodes(n)\n",
    "normals = nodes\n",
    "\n",
    "rbf = rbf_obj['rbf']\n",
    "zeta  = rbf_obj['zeta']\n",
    "d2rbf = rbf_obj['d2rbf']\n",
    "Lrbf = lambda r,eps: 1*zeta(r,eps) + d2rbf(r,eps)\n",
    "\n",
    "sol_deg = sphere_harm_degs[solution_index]\n",
    "exact = lambda x: sphere_harm[solution_index](*x)*-sol_deg*(sol_deg+1)\n",
    "forcing = lambda x: sphere_harm[solution_index](*x)\n",
    "print('Harmonic degree: %d' % sol_deg)"
   ]
  },
  {
   "cell_type": "markdown",
   "metadata": {},
   "source": [
    "# Shakar-Wright Method"
   ]
  },
  {
   "cell_type": "code",
   "execution_count": 218,
   "metadata": {},
   "outputs": [],
   "source": [
    "def grad_poly(nodes, projectors, deg):\n",
    "    n = len(nodes)\n",
    "    x = nodes[:,0]\n",
    "    y = nodes[:,1]\n",
    "    z = nodes[:,2]\n",
    "    cols = fac(deg+3)//(fac(deg)*fac(3))\n",
    "    P = np.zeros((n, cols))\n",
    "    rhs_dx = np.zeros((cols, n))\n",
    "    rhs_dy = np.zeros((cols, n))\n",
    "    rhs_dz = np.zeros((cols, n))\n",
    "    rhs_x = np.zeros((cols, n))\n",
    "    rhs_y = np.zeros((cols, n))\n",
    "    rhs_z = np.zeros((cols, n))\n",
    "    i = 0\n",
    "    for d in range(deg+1):\n",
    "        #x^a y^b z^c with a+b+c = d\n",
    "        for a in range(d,-1, -1):\n",
    "            for b in range(d-a, -1, -1):\n",
    "                c = d-a-b\n",
    "                P[:,i] = x**a * y**b * z**c\n",
    "                if a == 0:\n",
    "                    rhs_dx[i] = 0\n",
    "                else:\n",
    "                    rhs_dx[i] = a * x**(a-1) * y**b * z**c\n",
    "                if b == 0:\n",
    "                    rhs_dy[i] = 0\n",
    "                else:\n",
    "                    rhs_dy[i] = b * x**a * y**(b-1) * z**c\n",
    "                if c == 0:\n",
    "                    rhs_dz[i] = 0\n",
    "                else:\n",
    "                    rhs_dz[i] = c * x**a * y**b * z**(c-1)\n",
    "                i += 1\n",
    "    for i, p in enumerate(projectors):\n",
    "        rhs_x[:,i] = p[0,0]*rhs_dx[:,i] + p[1,0]*rhs_dy[:,i] + p[2,0]*rhs_dz[:,i]\n",
    "        rhs_y[:,i] = p[0,1]*rhs_dx[:,i] + p[1,1]*rhs_dy[:,i] + p[2,1]*rhs_dz[:,i]\n",
    "        rhs_z[:,i] = p[0,2]*rhs_dx[:,i] + p[1,2]*rhs_dy[:,i] + p[2,2]*rhs_dz[:,i]\n",
    "    return P, rhs_x, rhs_y, rhs_z\n",
    "\n",
    "def grad_rbf_outer(nodes, centers, zeta, epsilon):\n",
    "    n_len = len(nodes)\n",
    "    c_len = len(centers)\n",
    "    r = dist_outer(nodes, centers)[:,:,np.newaxis]\n",
    "    xs = (np.array(nodes).reshape((1,n_len,3)) - np.array(centers).reshape((c_len,1,3)))\n",
    "    return zeta(r, epsilon) * xs\n",
    "\n",
    "def SWM(nodes, normals, rbf_obj=rbf_dict['multiquadric'], epsilon=None, \n",
    "        stencil_size=15, poly_deg=None, poly_type='s'):\n",
    "    n = len(nodes)\n",
    "    k = stencil_size\n",
    "    rbf = rbf_obj['rbf']\n",
    "    zeta = rbf_obj['zeta']\n",
    "    \n",
    "    weights = np.zeros((n, stencil_size))\n",
    "    row_index = [r for r in range(n) for c in range(stencil_size)]\n",
    "    col_index = np.zeros((n, stencil_size))\n",
    "    \n",
    "    tree = cKDTree(np.array(nodes))\n",
    "    projectors = [np.eye(3) - np.outer(node, node) for node in normals]\n",
    "    \n",
    "    for i, node in enumerate(nodes):\n",
    "        stencil = tree.query(nodes[i], k)[1]\n",
    "        col_index[i] = stencil\n",
    "        nn = np.array([nodes[i] for i in stencil])\n",
    "        nn_proj = np.array([projectors[i] for i in stencil])\n",
    "        # center stencil\n",
    "        nn -= nn[0]\n",
    "        # scale stencil\n",
    "        scale = np.max(np.abs(nn))\n",
    "        nn /= scale        \n",
    "        \n",
    "        if poly_deg is None:\n",
    "            P = None\n",
    "        else:\n",
    "            if poly_type == 'p':\n",
    "                P, rhs_x, rhs_y, rhs_z = grad_poly(nn, nn_proj, poly_deg)\n",
    "            elif poly_type == 's':\n",
    "                P, rhs_x, rhs_y, rhs_z = gen_sphere_harm_basis(poly_deg, nn, nn_proj)\n",
    "            rhs_x /= scale\n",
    "            rhs_y /= scale\n",
    "            rhs_z /= scale\n",
    "            \n",
    "        #return P\n",
    "        \n",
    "        dist_mat = dist_outer(nn,nn)\n",
    "        #print(cond(rbf(dist_mat, 1)))\n",
    "        if i==0 and epsilon is None and rbf_obj['shape']:\n",
    "            if P is None or cond(P)>10**14:\n",
    "                epsilon = optimize_eps(rbf, dist_mat, P=None, target_cond=10**12)\n",
    "            else:\n",
    "                epsilon = optimize_eps(rbf, dist_mat, P=P, target_cond=10**12)\n",
    "            print('epsilon set: %g' % epsilon)\n",
    "            \n",
    "        A = rbf(dist_mat, epsilon)\n",
    "        rhsAs = np.matmul(nn_proj, grad_rbf_outer(nn, nn, zeta, epsilon).reshape(\n",
    "                (stencil_size,stencil_size,3,1))).reshape((stencil_size,stencil_size,3))\n",
    "        rhsAs /= scale\n",
    "        \n",
    "        # For testing\n",
    "        #return A, P, rhsAs[:,:,0], rhs_x, dist_mat\n",
    "        \n",
    "        if P is None:\n",
    "            rhs = rhsAs[:,:,0] # only the x coordinates\n",
    "            weights_grad = la.solve(A, rhs).T\n",
    "            weights[i] = (weights_grad@weights_grad)[0]\n",
    "\n",
    "            rhs = rhsAs[:,:,1] # only the y coordinates\n",
    "            weights_grad = la.solve(A, rhs).T\n",
    "            weights[i] += (weights_grad@weights_grad)[0]\n",
    "\n",
    "            rhs = rhsAs[:,:,2] # only the z coordinates\n",
    "            weights_grad = la.solve(A, rhs)[:stencil_size,:].T\n",
    "            weights[i] += (weights_grad@weights_grad)[0]\n",
    "        else:\n",
    "            schur = True\n",
    "            if schur:\n",
    "                weights_grad = schur_solve(A, P, rhsAs[:,:,0], rhs_x)[0]\n",
    "                weights[i] = (weights_grad@weights_grad)[0]\n",
    "                weights_grad = schur_solve(A, P, rhsAs[:,:,1], rhs_y)[0]\n",
    "                weights[i] += (weights_grad@weights_grad)[0]\n",
    "                weights_grad = schur_solve(A, P, rhsAs[:,:,2], rhs_z)[0]\n",
    "                weights[i] += (weights_grad@weights_grad)[0]\n",
    "            else:\n",
    "                num_basis = P.shape[1]\n",
    "\n",
    "                AP = np.block([[A,P],[P.T, np.zeros((num_basis,num_basis))]])\n",
    "                grad_rbf = []\n",
    "                rhsA = rhsAs[:,:,0] # only the x coordinates\n",
    "                rhs = np.block([[rhsA],\n",
    "                               [rhs_x]])\n",
    "                weights_grad = la.solve(AP, rhs)[:stencil_size,:].T\n",
    "                weights[i] = (weights_grad@weights_grad)[0]\n",
    "\n",
    "                rhsA = rhsAs[:,:,1] # only the y coordinates\n",
    "                rhs = np.block([[rhsA],\n",
    "                               [rhs_y]])\n",
    "                weights_grad = la.solve(AP, rhs)[:stencil_size,:].T\n",
    "                weights[i] += (weights_grad@weights_grad)[0]\n",
    "\n",
    "                rhsA = rhsAs[:,:,2] # only the z coordinates\n",
    "                rhs = np.block([[rhsA],\n",
    "                                [rhs_z]])\n",
    "                weights_grad = la.solve(AP, rhs)[:stencil_size,:].T\n",
    "                weights[i] += (weights_grad@weights_grad)[0]\n",
    "\n",
    "    C = sp.csc_matrix((weights.ravel(), (row_index, col_index.ravel())),shape=(n,n))\n",
    "    return C"
   ]
  },
  {
   "cell_type": "code",
   "execution_count": 219,
   "metadata": {},
   "outputs": [
    {
     "name": "stdout",
     "output_type": "stream",
     "text": [
      "epsilon set: 0.371308\n",
      "216.37485816156186\n"
     ]
    }
   ],
   "source": [
    "C = SWM(nodes, normals, rbf_obj, eps, 50, poly_deg=1, poly_type='p')\n",
    "fs = np.array([forcing(node) for node in nodes])\n",
    "ds = C @ fs\n",
    "es = np.array([exact(node) for node in nodes])\n",
    "print(la.norm(ds - es)/la.norm(es))"
   ]
  },
  {
   "cell_type": "code",
   "execution_count": 149,
   "metadata": {},
   "outputs": [
    {
     "name": "stdout",
     "output_type": "stream",
     "text": [
      "epsilon set: 0.370841\n"
     ]
    }
   ],
   "source": [
    "A, P, f, g, dist_mat = SWM(nodes, normals, rbf_obj, None, 50, poly_deg=4, poly_type='p')"
   ]
  },
  {
   "cell_type": "code",
   "execution_count": 131,
   "metadata": {},
   "outputs": [],
   "source": [
    "f = f[:,0]\n",
    "g = g[:,0]"
   ]
  },
  {
   "cell_type": "code",
   "execution_count": 217,
   "metadata": {},
   "outputs": [],
   "source": [
    "def schur_solve(A, P, f, g):\n",
    "#     U, S, V = la.svd(P)\n",
    "#     num = len(S)\n",
    "#     S[S < 10**-10] = 0\n",
    "#     P = (U[:,:num]*S)@V\n",
    "    B = P.T @ la.solve(A, P)\n",
    "    lam = lstsq(B, P.T@la.solve(A,f) - g, rcond=10**-14)[0]\n",
    "    w = la.solve(A, f- P@lam)\n",
    "    return w, lam"
   ]
  },
  {
   "cell_type": "code",
   "execution_count": 186,
   "metadata": {},
   "outputs": [
    {
     "name": "stdout",
     "output_type": "stream",
     "text": [
      "[[ 6.70346747e-01  4.04951115e+00 -4.03302869e+00 ... -1.16451733e+01\n",
      "   1.06297372e+00  1.50191262e+01]\n",
      " [-3.31307476e+00 -1.71518062e+00  2.05407473e+00 ...  4.49928747e+00\n",
      "  -1.09062702e+01 -9.89172764e+00]\n",
      " [ 1.81454317e+00 -1.48044512e+00  2.62926304e-01 ...  7.96047283e+00\n",
      "   2.46433465e+00  3.94957883e+00]\n",
      " ...\n",
      " [-1.04076400e-02 -2.49231895e-03 -1.71431034e-02 ...  1.40077106e+00\n",
      "   1.28904486e-01 -2.72142669e-01]\n",
      " [ 5.10782882e-02  3.28633001e-02  2.26535043e-02 ...  8.12690541e-01\n",
      "   5.66570513e+00 -2.15250935e-01]\n",
      " [-3.21170168e-03 -2.89114996e-02 -1.94910950e-02 ... -2.02139808e-01\n",
      "   5.80393163e-01 -4.62289838e+00]]\n"
     ]
    }
   ],
   "source": [
    "w, lam = schur_solve(A, P, f, g)\n",
    "print(w)"
   ]
  },
  {
   "cell_type": "code",
   "execution_count": 187,
   "metadata": {},
   "outputs": [
    {
     "name": "stdout",
     "output_type": "stream",
     "text": [
      "2.3078437503726834e+19\n"
     ]
    }
   ],
   "source": [
    "AP = np.block([[A, P],[P.T, np.zeros((P.shape[1],P.shape[1]))]])\n",
    "print(cond(AP))\n",
    "c = np.block([[w],[lam]])\n",
    "#c = np.block([w,lam])\n",
    "rhs = np.block([[f],[g]])\n",
    "#rhs = np.block([f,g])"
   ]
  },
  {
   "cell_type": "code",
   "execution_count": 188,
   "metadata": {},
   "outputs": [
    {
     "name": "stdout",
     "output_type": "stream",
     "text": [
      "True\n",
      "[[ 8.30186996e-16 -1.17267307e-15  5.55111512e-17 ...  5.90499871e-15\n",
      "   2.43555176e-14 -1.98452366e-15]\n",
      " [ 2.28983499e-16 -1.96911370e-15  1.38777878e-16 ... -1.48284163e-14\n",
      "   1.50157664e-14  1.71251902e-14]\n",
      " [ 1.38777878e-17  1.17961196e-16  1.48406364e-15 ... -2.85362012e-15\n",
      "   6.14092110e-15 -1.48769885e-14]\n",
      " ...\n",
      " [-3.45799593e-12  2.99984999e-12  1.34525296e-11 ...  1.01526773e-11\n",
      "   5.45467838e-12  1.34996181e-11]\n",
      " [-1.22203829e-11 -1.18755545e-12 -4.31580469e-12 ...  3.00360015e-11\n",
      "  -7.39919931e-12  5.05467890e-12]\n",
      " [-6.41390968e-11  3.34987771e-11 -6.70963333e-11 ...  3.24999472e-11\n",
      "  -8.26936852e-11 -1.18099475e-10]]\n"
     ]
    }
   ],
   "source": [
    "print(np.allclose(AP @ c, rhs))\n",
    "print(AP @ c - rhs)"
   ]
  },
  {
   "cell_type": "code",
   "execution_count": 142,
   "metadata": {},
   "outputs": [
    {
     "data": {
      "text/plain": [
       "array([[ 1.00000000e+00,  0.00000000e+00,  0.00000000e+00, ...,\n",
       "        -0.00000000e+00,  0.00000000e+00,  0.00000000e+00],\n",
       "       [ 1.00000000e+00, -1.53948759e-01, -3.52421726e-02, ...,\n",
       "        -1.71404807e-02, -2.14838713e-04, -3.58701365e-03],\n",
       "       [ 1.00000000e+00,  1.82312176e-01, -2.34947817e-02, ...,\n",
       "        -1.00342935e-02,  2.75782445e-04, -5.65676033e-03],\n",
       "       ...,\n",
       "       [ 1.00000000e+00, -8.89346930e-01, -6.46106498e-01, ...,\n",
       "        -1.36073209e+00,  4.26289719e-01,  2.38468633e-01],\n",
       "       [ 1.00000000e+00, -2.29892248e-01, -6.10864325e-01, ...,\n",
       "         1.32107616e+00, -4.07240487e-01,  4.87138319e-01],\n",
       "       [ 1.00000000e+00,  7.52718847e-01, -5.05137808e-01, ...,\n",
       "         1.76287233e-02, -4.30612228e-01, -1.33439519e+00]])"
      ]
     },
     "execution_count": 142,
     "metadata": {},
     "output_type": "execute_result"
    }
   ],
   "source": [
    "P"
   ]
  },
  {
   "cell_type": "code",
   "execution_count": 165,
   "metadata": {},
   "outputs": [],
   "source": [
    "U, S, V = la.svd(P)"
   ]
  },
  {
   "cell_type": "code",
   "execution_count": 166,
   "metadata": {},
   "outputs": [
    {
     "data": {
      "text/plain": [
       "array([[-3.10862447e-15,  4.53490640e-16,  6.29519122e-17, ...,\n",
       "        -1.82471226e-16, -2.10335221e-17, -1.53739868e-16],\n",
       "       [-6.66133815e-16,  1.94289029e-16,  1.02695630e-15, ...,\n",
       "        -2.71355475e-17, -1.26199439e-17, -1.12085329e-16],\n",
       "       [-9.99200722e-16,  8.32667268e-17, -7.21644966e-16, ...,\n",
       "         8.04342487e-17,  4.60684279e-17,  1.47780250e-16],\n",
       "       ...,\n",
       "       [-1.88737914e-15, -6.66133815e-16, -1.11022302e-16, ...,\n",
       "         0.00000000e+00, -2.49800181e-16, -2.77555756e-17],\n",
       "       [-2.33146835e-15,  1.11022302e-16, -3.60822483e-16, ...,\n",
       "         9.02056208e-17, -1.94289029e-16, -2.77555756e-17],\n",
       "       [-1.77635684e-15,  7.77156117e-16, -6.66133815e-16, ...,\n",
       "        -5.55111512e-17,  3.60822483e-16, -2.77555756e-17]])"
      ]
     },
     "execution_count": 166,
     "metadata": {},
     "output_type": "execute_result"
    }
   ],
   "source": [
    "S[S < 10**-12] = 0\n",
    "num = len(S)\n",
    "(U[:,:num]*S)@V - P"
   ]
  },
  {
   "cell_type": "code",
   "execution_count": 153,
   "metadata": {},
   "outputs": [],
   "source": []
  },
  {
   "cell_type": "code",
   "execution_count": 154,
   "metadata": {},
   "outputs": [
    {
     "data": {
      "text/plain": [
       "array([8.33779500e+00, 4.97120460e+00, 4.66311974e+00, 3.10929536e+00,\n",
       "       2.31851276e+00, 2.00862293e+00, 1.17478009e+00, 1.08497219e+00,\n",
       "       8.88521909e-01, 7.62103780e-01, 5.24517637e-01, 4.69675151e-01,\n",
       "       3.95559224e-01, 3.69598553e-01, 2.53684232e-01, 1.41083462e-01,\n",
       "       1.31443373e-01, 8.79517335e-02, 7.96528630e-02, 5.83921321e-02,\n",
       "       4.14072581e-02, 2.79865804e-02, 1.30832271e-02, 1.03078451e-02,\n",
       "       4.42739297e-03, 0.00000000e+00, 0.00000000e+00, 0.00000000e+00,\n",
       "       0.00000000e+00, 0.00000000e+00, 0.00000000e+00, 0.00000000e+00,\n",
       "       0.00000000e+00, 0.00000000e+00, 0.00000000e+00])"
      ]
     },
     "execution_count": 154,
     "metadata": {},
     "output_type": "execute_result"
    }
   ],
   "source": [
    "S"
   ]
  },
  {
   "cell_type": "markdown",
   "metadata": {},
   "source": [
    "# Tangent Plane Method"
   ]
  },
  {
   "cell_type": "code",
   "execution_count": null,
   "metadata": {},
   "outputs": [],
   "source": [
    "C = TPM(nodes, normals, rbf_obj, eps, k)\n",
    "fs = np.array([forcing(node) for node in nodes])\n",
    "ds = C @ fs\n",
    "es = np.array([exact(node) for node in nodes])\n",
    "print(la.norm(ds - es)/la.norm(es))"
   ]
  },
  {
   "cell_type": "code",
   "execution_count": null,
   "metadata": {},
   "outputs": [],
   "source": [
    "rbf_obj = rbf_dict['ninth degree PHS']\n",
    "C = TPM(nodes, normals, rbf_obj, 1, k, poly_deg = 3)\n",
    "fs = np.array([forcing(node) for node in nodes])\n",
    "ds = C @ fs\n",
    "es = np.array([exact(node) for node in nodes])\n",
    "print(la.norm(ds - es)/la.norm(es))"
   ]
  },
  {
   "cell_type": "code",
   "execution_count": null,
   "metadata": {},
   "outputs": [],
   "source": [
    "deg = 4\n",
    "for a in range(deg,-1, -1):\n",
    "    for b in range(deg-a, -1, -1):\n",
    "        print(a, b, deg-a-b)"
   ]
  },
  {
   "cell_type": "code",
   "execution_count": null,
   "metadata": {},
   "outputs": [],
   "source": [
    "from math import factorial as fac"
   ]
  },
  {
   "cell_type": "code",
   "execution_count": null,
   "metadata": {},
   "outputs": [],
   "source": [
    "fac(4+3)/(fac(4)*fac(3))"
   ]
  },
  {
   "cell_type": "code",
   "execution_count": null,
   "metadata": {},
   "outputs": [],
   "source": []
  },
  {
   "cell_type": "code",
   "execution_count": null,
   "metadata": {},
   "outputs": [],
   "source": [
    "nodes = np.array([[7,2,3],[7,2,3]])"
   ]
  },
  {
   "cell_type": "code",
   "execution_count": null,
   "metadata": {},
   "outputs": [],
   "source": [
    "P, rhs_x, rhs_y, rhs_z = grad_poly(nodes, 3)"
   ]
  },
  {
   "cell_type": "code",
   "execution_count": null,
   "metadata": {},
   "outputs": [],
   "source": [
    "print(P)"
   ]
  },
  {
   "cell_type": "code",
   "execution_count": null,
   "metadata": {},
   "outputs": [],
   "source": [
    "print(rhs_x)"
   ]
  },
  {
   "cell_type": "code",
   "execution_count": null,
   "metadata": {},
   "outputs": [],
   "source": [
    "3*49"
   ]
  },
  {
   "cell_type": "code",
   "execution_count": null,
   "metadata": {},
   "outputs": [],
   "source": [
    "node = nodes[0]"
   ]
  },
  {
   "cell_type": "code",
   "execution_count": null,
   "metadata": {},
   "outputs": [],
   "source": [
    "node"
   ]
  },
  {
   "cell_type": "code",
   "execution_count": null,
   "metadata": {},
   "outputs": [],
   "source": [
    "nn = nodes[:5]"
   ]
  },
  {
   "cell_type": "code",
   "execution_count": null,
   "metadata": {},
   "outputs": [],
   "source": [
    "nn"
   ]
  },
  {
   "cell_type": "code",
   "execution_count": null,
   "metadata": {},
   "outputs": [],
   "source": [
    "nn - node"
   ]
  },
  {
   "cell_type": "code",
   "execution_count": null,
   "metadata": {},
   "outputs": [],
   "source": [
    "nn[1] - node"
   ]
  },
  {
   "cell_type": "code",
   "execution_count": null,
   "metadata": {},
   "outputs": [],
   "source": []
  }
 ],
 "metadata": {
  "kernelspec": {
   "display_name": "Python 3",
   "language": "python",
   "name": "python3"
  },
  "language_info": {
   "codemirror_mode": {
    "name": "ipython",
    "version": 3
   },
   "file_extension": ".py",
   "mimetype": "text/x-python",
   "name": "python",
   "nbconvert_exporter": "python",
   "pygments_lexer": "ipython3",
   "version": "3.6.7"
  }
 },
 "nbformat": 4,
 "nbformat_minor": 2
}

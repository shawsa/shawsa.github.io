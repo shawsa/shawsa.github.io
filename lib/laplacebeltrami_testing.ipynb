{
 "cells": [
  {
   "cell_type": "code",
   "execution_count": 1,
   "metadata": {},
   "outputs": [],
   "source": [
    "%matplotlib notebook\n",
    "import numpy as np\n",
    "import scipy.linalg as la\n",
    "import mpl_toolkits.mplot3d\n",
    "import matplotlib.pyplot as plt\n",
    "\n",
    "from scipy.spatial import cKDTree\n",
    "\n",
    "import scipy.sparse as sp\n",
    "from scipy.sparse.linalg import spsolve, lsqr\n",
    "\n",
    "from numpy.linalg import cond, norm, inv, lstsq\n",
    "\n",
    "from scipy.optimize import minimize_scalar\n",
    "\n",
    "from poly_basis import *\n",
    "from spherepts import *\n",
    "from rbf import *\n",
    "\n",
    "from laplacebeltrami import *\n",
    "\n",
    "from math import factorial as fac"
   ]
  },
  {
   "cell_type": "code",
   "execution_count": 5,
   "metadata": {},
   "outputs": [
    {
     "name": "stdout",
     "output_type": "stream",
     "text": [
      "Harmonic degree: 3\n"
     ]
    }
   ],
   "source": [
    "n = 200\n",
    "eps = None\n",
    "k = 21\n",
    "rbf_obj = rbf_dict['multiquadric']\n",
    "# Choose solution and forcing fuction\n",
    "solution_index = 10\n",
    "\n",
    "nodes = gen_spiral_nodes(n)\n",
    "normals = nodes\n",
    "\n",
    "rbf = rbf_obj['rbf']\n",
    "zeta  = rbf_obj['zeta']\n",
    "d2rbf = rbf_obj['d2rbf']\n",
    "Lrbf = lambda r,eps: 1*zeta(r,eps) + d2rbf(r,eps)\n",
    "\n",
    "sol_deg = sphere_harm_degs[solution_index]\n",
    "exact = lambda x: sphere_harm[solution_index](*x)*-sol_deg*(sol_deg+1)\n",
    "forcing = lambda x: sphere_harm[solution_index](*x)\n",
    "print('Harmonic degree: %d' % sol_deg)"
   ]
  },
  {
   "cell_type": "markdown",
   "metadata": {},
   "source": [
    "# Shakar-Wright Method"
   ]
  },
  {
   "cell_type": "code",
   "execution_count": 108,
   "metadata": {},
   "outputs": [],
   "source": [
    "def grad_poly(nodes, projectors, deg):\n",
    "    n = len(nodes)\n",
    "    x = nodes[:,0]\n",
    "    y = nodes[:,1]\n",
    "    z = nodes[:,2]\n",
    "    cols = fac(deg+3)//(fac(deg)*fac(3))\n",
    "    P = np.zeros((n, cols))\n",
    "    rhs_dx = np.zeros((cols, n))\n",
    "    rhs_dy = np.zeros((cols, n))\n",
    "    rhs_dz = np.zeros((cols, n))\n",
    "    rhs_x = np.zeros((cols, n))\n",
    "    rhs_y = np.zeros((cols, n))\n",
    "    rhs_z = np.zeros((cols, n))\n",
    "    i = 0\n",
    "    for d in range(deg+1):\n",
    "        #x^a y^b z^c with a+b+c = d\n",
    "        for a in range(d,-1, -1):\n",
    "            for b in range(d-a, -1, -1):\n",
    "                c = d-a-b\n",
    "                P[:,i] = x**a * y**b * z**c\n",
    "                if a == 0:\n",
    "                    rhs_dx[i] = 0\n",
    "                else:\n",
    "                    rhs_dx[i] = a * x**(a-1) * y**b * z**c\n",
    "                if b == 0:\n",
    "                    rhs_dy[i] = 0\n",
    "                else:\n",
    "                    rhs_dy[i] = b * x**a * y**(b-1) * z**c\n",
    "                if c == 0:\n",
    "                    rhs_dz[i] = 0\n",
    "                else:\n",
    "                    rhs_dz[i] = c * x**a * y**b * z**(c-1)\n",
    "                i += 1\n",
    "    for i, p in enumerate(projectors):\n",
    "        rhs_x[:,i] = p[0,0]*rhs_dx[:,i] + p[1,0]*rhs_dy[:,i] + p[2,0]*rhs_dz[:,i]\n",
    "        rhs_y[:,i] = p[0,1]*rhs_dx[:,i] + p[1,1]*rhs_dy[:,i] + p[2,1]*rhs_dz[:,i]\n",
    "        rhs_z[:,i] = p[0,2]*rhs_dx[:,i] + p[1,2]*rhs_dy[:,i] + p[2,2]*rhs_dz[:,i]\n",
    "    return P, rhs_x, rhs_y, rhs_z\n",
    "\n",
    "def grad_rbf_outer(nodes, centers, zeta, epsilon):\n",
    "    n_len = len(nodes)\n",
    "    c_len = len(centers)\n",
    "    r = dist_outer(nodes, centers)[:,:,np.newaxis]\n",
    "    xs = (np.array(nodes).reshape((1,n_len,3)) - np.array(centers).reshape((c_len,1,3)))\n",
    "    return zeta(r, epsilon) * xs\n",
    "\n",
    "def SWM(nodes, normals, rbf_obj=rbf_dict['multiquadric'], epsilon=None, \n",
    "        stencil_size=15, poly_deg=None, poly_type='s'):\n",
    "    n = len(nodes)\n",
    "    k = stencil_size\n",
    "    rbf = rbf_obj['rbf']\n",
    "    zeta = rbf_obj['zeta']\n",
    "    \n",
    "    weights = np.zeros((n, stencil_size))\n",
    "    row_index = [r for r in range(n) for c in range(stencil_size)]\n",
    "    col_index = np.zeros((n, stencil_size))\n",
    "    \n",
    "    tree = cKDTree(np.array(nodes))\n",
    "    projectors = [np.eye(3) - np.outer(node, node) for node in normals]\n",
    "    \n",
    "    for i, node in enumerate(nodes):\n",
    "        stencil = tree.query(nodes[i], k)[1]\n",
    "        col_index[i] = stencil\n",
    "        nn = np.array([nodes[i] for i in stencil])\n",
    "        nn_proj = np.array([projectors[i] for i in stencil])\n",
    "        # center stencil\n",
    "        nn -= nn[0]\n",
    "        # scale stencil\n",
    "        scale = np.max(np.abs(nn))\n",
    "        nn /= scale        \n",
    "        \n",
    "        if poly_deg is None:\n",
    "            P = None\n",
    "        else:\n",
    "            if poly_type == 'p':\n",
    "                P, rhs_x, rhs_y, rhs_z = grad_poly(nn, nn_proj, poly_deg)\n",
    "            elif poly_type == 's':\n",
    "                P, rhs_x, rhs_y, rhs_z = gen_sphere_harm_basis(poly_deg, nn, nn_proj)\n",
    "            rhs_x /= scale\n",
    "            rhs_y /= scale\n",
    "            rhs_z /= scale\n",
    "            \n",
    "        #return P\n",
    "        \n",
    "        dist_mat = dist_outer(nn,nn)\n",
    "        #print(cond(rbf(dist_mat, 1)))\n",
    "        if i==0 and epsilon is None and rbf_obj['shape']:\n",
    "            if P is None or cond(P)>10**14:\n",
    "                epsilon = optimize_eps(rbf, dist_mat, P=None, target_cond=10**12)\n",
    "            else:\n",
    "                epsilon = optimize_eps(rbf, dist_mat, P=P, target_cond=10**12)\n",
    "            print('epsilon set: %g' % epsilon)\n",
    "            \n",
    "        A = rbf(dist_mat, epsilon)\n",
    "        rhsAs = np.matmul(nn_proj, grad_rbf_outer(nn, nn, zeta, epsilon).reshape(\n",
    "                (stencil_size,stencil_size,3,1))).reshape((stencil_size,stencil_size,3))\n",
    "        rhsAs /= scale\n",
    "        \n",
    "        # For testing\n",
    "        return A, P, rhsAs[:,:,0], rhs_x, dist_mat\n",
    "        \n",
    "        if P is None:\n",
    "            rhs = rhsAs[:,:,0] # only the x coordinates\n",
    "            weights_grad = la.solve(A, rhs).T\n",
    "            weights[i] = (weights_grad@weights_grad)[0]\n",
    "\n",
    "            rhs = rhsAs[:,:,1] # only the y coordinates\n",
    "            weights_grad = la.solve(A, rhs).T\n",
    "            weights[i] += (weights_grad@weights_grad)[0]\n",
    "\n",
    "            rhs = rhsAs[:,:,2] # only the z coordinates\n",
    "            weights_grad = la.solve(A, rhs)[:stencil_size,:].T\n",
    "            weights[i] += (weights_grad@weights_grad)[0]\n",
    "        else:\n",
    "            schur = True\n",
    "            if schur:\n",
    "                weights_grad = schur_solve(A, P, rhsAs[:,:,0], rhs_x)[0]\n",
    "                weights[i] = (weights_grad@weights_grad)[0]\n",
    "                weights_grad = schur_solve(A, P, rhsAs[:,:,1], rhs_y)[0]\n",
    "                weights[i] += (weights_grad@weights_grad)[0]\n",
    "                weights_grad = schur_solve(A, P, rhsAs[:,:,2], rhs_z)[0]\n",
    "                weights[i] += (weights_grad@weights_grad)[0]\n",
    "            else:\n",
    "                num_basis = P.shape[1]\n",
    "\n",
    "                AP = np.block([[A,P],[P.T, np.zeros((num_basis,num_basis))]])\n",
    "                grad_rbf = []\n",
    "                rhsA = rhsAs[:,:,0] # only the x coordinates\n",
    "                rhs = np.block([[rhsA],\n",
    "                               [rhs_x]])\n",
    "                weights_grad = la.solve(AP, rhs)[:stencil_size,:].T\n",
    "                weights[i] = (weights_grad@weights_grad)[0]\n",
    "\n",
    "                rhsA = rhsAs[:,:,1] # only the y coordinates\n",
    "                rhs = np.block([[rhsA],\n",
    "                               [rhs_y]])\n",
    "                weights_grad = la.solve(AP, rhs)[:stencil_size,:].T\n",
    "                weights[i] += (weights_grad@weights_grad)[0]\n",
    "\n",
    "                rhsA = rhsAs[:,:,2] # only the z coordinates\n",
    "                rhs = np.block([[rhsA],\n",
    "                                [rhs_z]])\n",
    "                weights_grad = la.solve(AP, rhs)[:stencil_size,:].T\n",
    "                weights[i] += (weights_grad@weights_grad)[0]\n",
    "\n",
    "    C = sp.csc_matrix((weights.ravel(), (row_index, col_index.ravel())),shape=(n,n))\n",
    "    return C"
   ]
  },
  {
   "cell_type": "code",
   "execution_count": 109,
   "metadata": {},
   "outputs": [
    {
     "name": "stdout",
     "output_type": "stream",
     "text": [
      "epsilon set: 0.371308\n"
     ]
    },
    {
     "ename": "ValueError",
     "evalue": "setting an array element with a sequence.",
     "output_type": "error",
     "traceback": [
      "\u001b[0;31m---------------------------------------------------------------------------\u001b[0m",
      "\u001b[0;31mValueError\u001b[0m                                Traceback (most recent call last)",
      "\u001b[0;32m<ipython-input-109-1dbae66ade9f>\u001b[0m in \u001b[0;36m<module>\u001b[0;34m()\u001b[0m\n\u001b[1;32m      1\u001b[0m \u001b[0mC\u001b[0m \u001b[0;34m=\u001b[0m \u001b[0mSWM\u001b[0m\u001b[0;34m(\u001b[0m\u001b[0mnodes\u001b[0m\u001b[0;34m,\u001b[0m \u001b[0mnormals\u001b[0m\u001b[0;34m,\u001b[0m \u001b[0mrbf_obj\u001b[0m\u001b[0;34m,\u001b[0m \u001b[0meps\u001b[0m\u001b[0;34m,\u001b[0m \u001b[0;36m50\u001b[0m\u001b[0;34m,\u001b[0m \u001b[0mpoly_deg\u001b[0m\u001b[0;34m=\u001b[0m\u001b[0;36m1\u001b[0m\u001b[0;34m,\u001b[0m \u001b[0mpoly_type\u001b[0m\u001b[0;34m=\u001b[0m\u001b[0;34m'p'\u001b[0m\u001b[0;34m)\u001b[0m\u001b[0;34m\u001b[0m\u001b[0;34m\u001b[0m\u001b[0m\n\u001b[1;32m      2\u001b[0m \u001b[0mfs\u001b[0m \u001b[0;34m=\u001b[0m \u001b[0mnp\u001b[0m\u001b[0;34m.\u001b[0m\u001b[0marray\u001b[0m\u001b[0;34m(\u001b[0m\u001b[0;34m[\u001b[0m\u001b[0mforcing\u001b[0m\u001b[0;34m(\u001b[0m\u001b[0mnode\u001b[0m\u001b[0;34m)\u001b[0m \u001b[0;32mfor\u001b[0m \u001b[0mnode\u001b[0m \u001b[0;32min\u001b[0m \u001b[0mnodes\u001b[0m\u001b[0;34m]\u001b[0m\u001b[0;34m)\u001b[0m\u001b[0;34m\u001b[0m\u001b[0;34m\u001b[0m\u001b[0m\n\u001b[0;32m----> 3\u001b[0;31m \u001b[0mds\u001b[0m \u001b[0;34m=\u001b[0m \u001b[0mC\u001b[0m \u001b[0;34m@\u001b[0m \u001b[0mfs\u001b[0m\u001b[0;34m\u001b[0m\u001b[0;34m\u001b[0m\u001b[0m\n\u001b[0m\u001b[1;32m      4\u001b[0m \u001b[0mes\u001b[0m \u001b[0;34m=\u001b[0m \u001b[0mnp\u001b[0m\u001b[0;34m.\u001b[0m\u001b[0marray\u001b[0m\u001b[0;34m(\u001b[0m\u001b[0;34m[\u001b[0m\u001b[0mexact\u001b[0m\u001b[0;34m(\u001b[0m\u001b[0mnode\u001b[0m\u001b[0;34m)\u001b[0m \u001b[0;32mfor\u001b[0m \u001b[0mnode\u001b[0m \u001b[0;32min\u001b[0m \u001b[0mnodes\u001b[0m\u001b[0;34m]\u001b[0m\u001b[0;34m)\u001b[0m\u001b[0;34m\u001b[0m\u001b[0;34m\u001b[0m\u001b[0m\n\u001b[1;32m      5\u001b[0m \u001b[0mprint\u001b[0m\u001b[0;34m(\u001b[0m\u001b[0mla\u001b[0m\u001b[0;34m.\u001b[0m\u001b[0mnorm\u001b[0m\u001b[0;34m(\u001b[0m\u001b[0mds\u001b[0m \u001b[0;34m-\u001b[0m \u001b[0mes\u001b[0m\u001b[0;34m)\u001b[0m\u001b[0;34m/\u001b[0m\u001b[0mla\u001b[0m\u001b[0;34m.\u001b[0m\u001b[0mnorm\u001b[0m\u001b[0;34m(\u001b[0m\u001b[0mes\u001b[0m\u001b[0;34m)\u001b[0m\u001b[0;34m)\u001b[0m\u001b[0;34m\u001b[0m\u001b[0;34m\u001b[0m\u001b[0m\n",
      "\u001b[0;31mValueError\u001b[0m: setting an array element with a sequence."
     ]
    }
   ],
   "source": [
    "C = SWM(nodes, normals, rbf_obj, eps, 50, poly_deg=1, poly_type='p')\n",
    "fs = np.array([forcing(node) for node in nodes])\n",
    "ds = C @ fs\n",
    "es = np.array([exact(node) for node in nodes])\n",
    "print(la.norm(ds - es)/la.norm(es))"
   ]
  },
  {
   "cell_type": "code",
   "execution_count": 110,
   "metadata": {},
   "outputs": [
    {
     "name": "stdout",
     "output_type": "stream",
     "text": [
      "epsilon set: 0.371308\n",
      "983665812826.5153\n",
      "6.424753161546076\n"
     ]
    }
   ],
   "source": [
    "A, P, f, g, dist_mat = SWM(nodes, normals, rbf_obj, None, 50, poly_deg=1, poly_type='p')\n",
    "print(cond(A))\n",
    "print(cond(P))"
   ]
  },
  {
   "cell_type": "code",
   "execution_count": 111,
   "metadata": {},
   "outputs": [
    {
     "name": "stdout",
     "output_type": "stream",
     "text": [
      "(50, 50)\n",
      "(50, 4)\n",
      "(50, 50)\n",
      "(4, 50)\n",
      "(50, 50)\n"
     ]
    }
   ],
   "source": [
    "for x in [A, P, f, g, dist_mat]:\n",
    "    print(x.shape)"
   ]
  },
  {
   "cell_type": "code",
   "execution_count": 112,
   "metadata": {},
   "outputs": [],
   "source": [
    "def schur_solve(A, P, f, g):\n",
    "#     U, S, V = la.svd(P, full_matrices=False)\n",
    "#     num = np.sum( S > 1e-12)\n",
    "#     print(num, U.shape, S.shape, V.shape)\n",
    "#     U = U[:,:num]\n",
    "#     S = S[:num]\n",
    "#     V = V[:num, :]\n",
    "#     B = P.T @ la.solve(A, P)\n",
    "    #lam = lstsq(B, P.T@la.solve(A,f) - g, rcond=10**-14)[0]\n",
    "    #lam = la.solve(P.T @ la.solve(A, (U*S)@V), P.T @ la.solve(A,f) - g)\n",
    "    lam = la.solve(P.T @ la.solve(A, P), P.T @ la.solve(A,f) - g)\n",
    "    w = la.solve(A, f- P@lam)\n",
    "    return w, lam"
   ]
  },
  {
   "cell_type": "code",
   "execution_count": 113,
   "metadata": {},
   "outputs": [
    {
     "name": "stdout",
     "output_type": "stream",
     "text": [
      "[[ 8.81473330e-01  3.90077802e+00 -4.34399158e+00 ... -1.07047887e+01\n",
      "   5.79676233e+00  6.07342463e+00]\n",
      " [-3.44722250e+00 -1.53686825e+00  2.25467035e+00 ...  4.90526454e+00\n",
      "  -1.09893726e+01 -5.70596124e+00]\n",
      " [ 1.70238995e+00 -1.40673924e+00  4.86862691e-01 ...  8.57405998e+00\n",
      "  -7.07847837e-01  6.51362462e+00]\n",
      " ...\n",
      " [-1.54623800e-02 -3.84693266e-04 -6.43168072e-03 ...  1.34654442e+00\n",
      "   5.49205244e-02 -1.85435037e-01]\n",
      " [ 5.05468688e-02  3.15839370e-02  1.76594089e-02 ...  6.10420413e-01\n",
      "   5.07774472e+00 -1.15434772e-01]\n",
      " [-7.11522553e-03 -3.06438031e-02 -1.49919087e-02 ... -2.78953408e-01\n",
      "   4.17168127e-01 -4.10500284e+00]]\n"
     ]
    }
   ],
   "source": [
    "w, lam = schur_solve(A, P, f, g)\n",
    "print(w)"
   ]
  },
  {
   "cell_type": "code",
   "execution_count": 121,
   "metadata": {},
   "outputs": [
    {
     "name": "stdout",
     "output_type": "stream",
     "text": [
      "1.1214362771738706e-12\n",
      "0.15487210407210547\n"
     ]
    }
   ],
   "source": [
    "print(np.max(np.abs(P.T @ w - g)))\n",
    "print(np.max(np.abs(A@w, f - P@lam)))"
   ]
  },
  {
   "cell_type": "code",
   "execution_count": 114,
   "metadata": {},
   "outputs": [
    {
     "name": "stdout",
     "output_type": "stream",
     "text": [
      "[[ 1.24956947e-16  6.59194921e-16 -2.35922393e-16 ... -7.70217223e-16\n",
      "   1.33226763e-15 -2.62290190e-15]\n",
      " [ 2.01227923e-16 -5.60995405e-17  1.59594560e-16 ...  4.95437025e-15\n",
      "  -2.77555756e-17 -5.93969318e-15]\n",
      " [-5.13478149e-16  2.24820162e-15  1.43003777e-15 ... -2.25687524e-15\n",
      "  -1.33018596e-14  1.07136522e-14]\n",
      " ...\n",
      " [-1.94066985e-13 -3.08642001e-14  1.06137321e-13 ...  3.10862447e-15\n",
      "  -1.70585768e-13  5.52891066e-14]\n",
      " [ 8.42060796e-14  7.84650123e-14  2.86073248e-14 ...  3.47499807e-14\n",
      "  -3.91908728e-14  6.38378239e-15]\n",
      " [ 2.13926099e-14 -2.10526041e-13 -3.51718654e-13 ...  3.88161725e-13\n",
      "  -2.69839706e-13 -3.33788552e-13]]\n"
     ]
    }
   ],
   "source": [
    "numP = P.shape[1]\n",
    "AP = np.block([[A, P],[P.T, np.zeros((numP,numP))]])\n",
    "fg = np.block([[f],[g]])\n",
    "wlam = np.block([[w],[lam]])\n",
    "np.allclose(AP @ wlam, fg)\n",
    "print(AP @ wlam - fg)"
   ]
  },
  {
   "cell_type": "code",
   "execution_count": 115,
   "metadata": {},
   "outputs": [
    {
     "name": "stdout",
     "output_type": "stream",
     "text": [
      "[[-5.55111512e-16 -1.87350135e-16 -3.46944695e-18 -1.11022302e-16]\n",
      " [-4.44089210e-16 -1.11022302e-16  8.32667268e-17 -6.93889390e-17]\n",
      " [-5.55111512e-16 -3.05311332e-16  3.33066907e-16 -1.38777878e-16]\n",
      " [-4.44089210e-16 -3.88578059e-16 -5.55111512e-17 -4.16333634e-17]\n",
      " [-2.22044605e-16 -1.66533454e-16  5.55111512e-17 -1.80411242e-16]\n",
      " [-4.44089210e-16 -1.04083409e-16  5.55111512e-17 -1.52655666e-16]\n",
      " [-3.33066907e-16  0.00000000e+00  1.24900090e-16 -6.93889390e-17]\n",
      " [-4.44089210e-16 -2.49800181e-16  0.00000000e+00 -8.32667268e-17]\n",
      " [-4.44089210e-16 -2.22044605e-16 -5.55111512e-17 -5.55111512e-17]\n",
      " [-4.44089210e-16 -4.99600361e-16 -1.11022302e-16 -1.38777878e-17]\n",
      " [-4.44089210e-16 -3.88578059e-16 -5.55111512e-17 -1.11022302e-16]\n",
      " [-3.33066907e-16  5.55111512e-17  1.66533454e-16 -5.55111512e-17]\n",
      " [-3.33066907e-16  1.11022302e-16  1.11022302e-16 -8.32667268e-17]\n",
      " [-4.44089210e-16 -5.55111512e-17  1.11022302e-16 -2.77555756e-17]\n",
      " [-5.55111512e-16 -4.44089210e-16 -1.11022302e-16  5.55111512e-17]\n",
      " [-3.33066907e-16 -1.11022302e-16 -1.11022302e-16 -2.77555756e-17]\n",
      " [-4.44089210e-16 -7.77156117e-16 -1.66533454e-16  5.55111512e-17]\n",
      " [-4.44089210e-16 -3.05311332e-16  1.11022302e-16  5.55111512e-17]\n",
      " [-3.33066907e-16  1.11022302e-16  0.00000000e+00  2.77555756e-17]\n",
      " [-3.33066907e-16  3.33066907e-16  2.08166817e-16 -2.77555756e-17]\n",
      " [-2.22044605e-16 -2.22044605e-16 -5.55111512e-17  0.00000000e+00]\n",
      " [-3.33066907e-16  1.11022302e-16  1.11022302e-16  5.55111512e-17]\n",
      " [-2.22044605e-16 -4.44089210e-16 -1.38777878e-16  5.55111512e-17]\n",
      " [-5.55111512e-16 -1.11022302e-16  0.00000000e+00  8.32667268e-17]\n",
      " [-4.44089210e-16  1.94289029e-16  1.11022302e-16  0.00000000e+00]\n",
      " [-2.22044605e-16 -4.44089210e-16 -2.22044605e-16  5.55111512e-17]\n",
      " [ 0.00000000e+00 -5.55111512e-17  0.00000000e+00  5.55111512e-17]\n",
      " [-4.44089210e-16 -4.44089210e-16 -1.11022302e-16  1.11022302e-16]\n",
      " [-6.66133815e-16  1.11022302e-16  2.22044605e-16  1.66533454e-16]\n",
      " [ 0.00000000e+00  2.22044605e-16  2.77555756e-17  5.55111512e-17]\n",
      " [-3.33066907e-16 -4.44089210e-16 -1.11022302e-16  5.55111512e-17]\n",
      " [-1.11022302e-16  3.33066907e-16  1.66533454e-16  0.00000000e+00]\n",
      " [-5.55111512e-16 -1.94289029e-16  0.00000000e+00  1.11022302e-16]\n",
      " [-3.33066907e-16  2.22044605e-16  1.11022302e-16  1.66533454e-16]\n",
      " [-2.22044605e-16 -2.22044605e-16 -1.66533454e-16  1.66533454e-16]\n",
      " [-2.22044605e-16  2.63677968e-16 -1.11022302e-16  1.11022302e-16]\n",
      " [-2.22044605e-16 -4.44089210e-16 -2.22044605e-16  1.66533454e-16]\n",
      " [-3.33066907e-16  1.11022302e-16 -1.11022302e-16  1.11022302e-16]\n",
      " [ 0.00000000e+00 -3.33066907e-16 -1.11022302e-16  2.22044605e-16]\n",
      " [-4.44089210e-16 -2.49800181e-16 -1.11022302e-16  1.66533454e-16]\n",
      " [-2.22044605e-16  2.22044605e-16  5.55111512e-17  1.11022302e-16]\n",
      " [-2.22044605e-16 -3.33066907e-16 -1.66533454e-16  2.22044605e-16]\n",
      " [-4.44089210e-16  5.55111512e-16  2.22044605e-16  2.22044605e-16]\n",
      " [ 0.00000000e+00  5.55111512e-16  1.11022302e-16  1.11022302e-16]\n",
      " [-5.55111512e-16  4.44089210e-16  2.22044605e-16  2.22044605e-16]\n",
      " [-1.11022302e-16 -4.44089210e-16 -3.33066907e-16  1.11022302e-16]\n",
      " [-1.11022302e-16  0.00000000e+00 -2.22044605e-16  2.22044605e-16]\n",
      " [-3.33066907e-16  1.11022302e-16 -2.22044605e-16  2.22044605e-16]\n",
      " [-5.55111512e-16 -4.44089210e-16 -2.77555756e-17  4.44089210e-16]\n",
      " [-2.22044605e-16  1.11022302e-16  0.00000000e+00  2.22044605e-16]]\n"
     ]
    }
   ],
   "source": [
    "U, S, V = la.svd(P, full_matrices=False)\n",
    "num = np.sum( S > 1e-12)\n",
    "U = U[:,:num]\n",
    "S = S[:num]\n",
    "V = V[:num, :]\n",
    "np.allclose((U*S) @ V, P)\n",
    "print((U*S) @ V - P)"
   ]
  },
  {
   "cell_type": "markdown",
   "metadata": {},
   "source": [
    "# Tangent Plane Method"
   ]
  },
  {
   "cell_type": "code",
   "execution_count": null,
   "metadata": {},
   "outputs": [],
   "source": [
    "C = TPM(nodes, normals, rbf_obj, eps, k)\n",
    "fs = np.array([forcing(node) for node in nodes])\n",
    "ds = C @ fs\n",
    "es = np.array([exact(node) for node in nodes])\n",
    "print(la.norm(ds - es)/la.norm(es))"
   ]
  },
  {
   "cell_type": "code",
   "execution_count": null,
   "metadata": {},
   "outputs": [],
   "source": [
    "rbf_obj = rbf_dict['ninth degree PHS']\n",
    "C = TPM(nodes, normals, rbf_obj, 1, k, poly_deg = 3)\n",
    "fs = np.array([forcing(node) for node in nodes])\n",
    "ds = C @ fs\n",
    "es = np.array([exact(node) for node in nodes])\n",
    "print(la.norm(ds - es)/la.norm(es))"
   ]
  },
  {
   "cell_type": "code",
   "execution_count": null,
   "metadata": {},
   "outputs": [],
   "source": [
    "deg = 4\n",
    "for a in range(deg,-1, -1):\n",
    "    for b in range(deg-a, -1, -1):\n",
    "        print(a, b, deg-a-b)"
   ]
  },
  {
   "cell_type": "code",
   "execution_count": null,
   "metadata": {},
   "outputs": [],
   "source": [
    "from math import factorial as fac"
   ]
  },
  {
   "cell_type": "code",
   "execution_count": null,
   "metadata": {},
   "outputs": [],
   "source": [
    "fac(4+3)/(fac(4)*fac(3))"
   ]
  },
  {
   "cell_type": "code",
   "execution_count": null,
   "metadata": {},
   "outputs": [],
   "source": []
  },
  {
   "cell_type": "code",
   "execution_count": null,
   "metadata": {},
   "outputs": [],
   "source": [
    "nodes = np.array([[7,2,3],[7,2,3]])"
   ]
  },
  {
   "cell_type": "code",
   "execution_count": null,
   "metadata": {},
   "outputs": [],
   "source": [
    "P, rhs_x, rhs_y, rhs_z = grad_poly(nodes, 3)"
   ]
  },
  {
   "cell_type": "code",
   "execution_count": null,
   "metadata": {},
   "outputs": [],
   "source": [
    "print(P)"
   ]
  },
  {
   "cell_type": "code",
   "execution_count": null,
   "metadata": {},
   "outputs": [],
   "source": [
    "print(rhs_x)"
   ]
  },
  {
   "cell_type": "code",
   "execution_count": null,
   "metadata": {},
   "outputs": [],
   "source": [
    "3*49"
   ]
  },
  {
   "cell_type": "code",
   "execution_count": null,
   "metadata": {},
   "outputs": [],
   "source": [
    "node = nodes[0]"
   ]
  },
  {
   "cell_type": "code",
   "execution_count": null,
   "metadata": {},
   "outputs": [],
   "source": [
    "node"
   ]
  },
  {
   "cell_type": "code",
   "execution_count": null,
   "metadata": {},
   "outputs": [],
   "source": [
    "nn = nodes[:5]"
   ]
  },
  {
   "cell_type": "code",
   "execution_count": null,
   "metadata": {},
   "outputs": [],
   "source": [
    "nn"
   ]
  },
  {
   "cell_type": "code",
   "execution_count": null,
   "metadata": {},
   "outputs": [],
   "source": [
    "nn - node"
   ]
  },
  {
   "cell_type": "code",
   "execution_count": null,
   "metadata": {},
   "outputs": [],
   "source": [
    "nn[1] - node"
   ]
  },
  {
   "cell_type": "code",
   "execution_count": null,
   "metadata": {},
   "outputs": [],
   "source": []
  }
 ],
 "metadata": {
  "kernelspec": {
   "display_name": "Python 3",
   "language": "python",
   "name": "python3"
  },
  "language_info": {
   "codemirror_mode": {
    "name": "ipython",
    "version": 3
   },
   "file_extension": ".py",
   "mimetype": "text/x-python",
   "name": "python",
   "nbconvert_exporter": "python",
   "pygments_lexer": "ipython3",
   "version": "3.6.7"
  }
 },
 "nbformat": 4,
 "nbformat_minor": 2
}

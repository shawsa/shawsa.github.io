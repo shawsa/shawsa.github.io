{
 "cells": [
  {
   "cell_type": "code",
   "execution_count": 1,
   "metadata": {},
   "outputs": [],
   "source": [
    "import matplotlib.pyplot as plt\n",
    "import numpy as np"
   ]
  },
  {
   "cell_type": "code",
   "execution_count": 26,
   "metadata": {},
   "outputs": [],
   "source": [
    "def gen_sphere_harm_basis(nodes, degree):\n",
    "    x, y , z = nodes[:,0], nodes[:,1], nodes[:,2]\n",
    "    num_cols = (degree + 1)**2\n",
    "    P = np.zeros((n, num_cols))\n",
    "    j = 0\n",
    "    for k in range(degree+1):\n",
    "        if k == 0:\n",
    "            P[:,j] = 1+0*x\n",
    "            j += 1\n",
    "        if k == 1:\n",
    "            P[:,j] = y\n",
    "            j += 1\n",
    "            P[:,j] = z\n",
    "            j += 1\n",
    "            P[:,j] = x\n",
    "            j += 1\n",
    "        if k == 2:\n",
    "            P[:,j] = x*y\n",
    "            j += 1\n",
    "            P[:,j] = y*z\n",
    "            j += 1\n",
    "            P[:,j] = 3*z**2 - 1\n",
    "            j += 1\n",
    "            P[:,j] = x*z\n",
    "            j += 1\n",
    "            P[:,j] = x**2 - y**2\n",
    "            j += 1\n",
    "        if k == 3:\n",
    "            P[:,j] = y*(-3*x**2 + y**2)\n",
    "            j += 1\n",
    "            P[:,j] = x*y*z\n",
    "            j += 1\n",
    "            P[:,j] = y*(1 - 5*z**2)\n",
    "            j += 1\n",
    "            P[:,j] = z*(-3 + 5*z**2)\n",
    "            j += 1\n",
    "            P[:,j] = x*(1 - 5*z**2)\n",
    "            j += 1\n",
    "            P[:,j] = z*(x**2 - y**2)\n",
    "            j += 1\n",
    "            P[:,j] = x*(x**2 - 3*y**2)\n",
    "            j += 1\n",
    "        if k == 4:\n",
    "            P[:,j] = x*y*(x**2 - y**2)\n",
    "            j += 1\n",
    "            P[:,j] = y*z*(y**2 - 3*x**2)\n",
    "            j += 1\n",
    "            P[:,j] = x*y*(-1 + 7*z**2)\n",
    "            j += 1\n",
    "            P[:,j] = y*z*(3 - 7*z**2)\n",
    "            j += 1\n",
    "            P[:,j] = 35*z**4 - 30*z**2 + 3\n",
    "            j += 1\n",
    "            P[:,j] = x*z*(3 - 7*z**2)\n",
    "            j += 1\n",
    "            P[:,j] = (x**2 - y**2)*(-1 + 7*z**2)\n",
    "            j += 1\n",
    "            P[:,j] = x*z*(x**2 - 3*y**2)\n",
    "            j += 1\n",
    "            P[:,j] = x**4 - 6*x**2*y**2 + y**4\n",
    "            j += 1\n",
    "        if k == 5:\n",
    "            P[:,j] = y*(5*x**4-10*x**2*y**2+ y**4)\n",
    "            j += 1\n",
    "            P[:,j] = x*y*(x**2-1*y**2)*z\n",
    "            j += 1\n",
    "            P[:,j] = y*(-3*x**2+y**2)*(-1+9*z**2)\n",
    "            j += 1\n",
    "            P[:,j] = x*y*z*(-1+3*z**2)\n",
    "            j += 1\n",
    "            P[:,j] = y*(1-14*z**2+21*z**4)\n",
    "            j += 1\n",
    "            P[:,j] = z*(15-70*z**2+63*z**4)\n",
    "            j += 1\n",
    "            P[:,j] = x*(1-14*z**2+21*z**4)\n",
    "            j += 1\n",
    "            P[:,j] = (x**2-y**2)*z*(-1+3*z**2)\n",
    "            j += 1\n",
    "            P[:,j] = x*(x**2-3*y**2)*(-1+9*z**2)\n",
    "            j += 1\n",
    "            P[:,j] = (x**4-6*x**2*y**2+y**4)*z\n",
    "            j += 1\n",
    "            P[:,j] = x*(x**4-10*x**2*y**2+5*y**4)\n",
    "            j += 1\n",
    "        if k == 6:\n",
    "            P[:,j] = x*y*(3*x**4-10*x**2*y**2+3*y**4)            \n",
    "            j += 1\n",
    "            P[:,j] = y*(5*x**4-10*x**2*y**2+y**4)*z\n",
    "            j += 1\n",
    "            P[:,j] = x*y*(x**2-y**2)*(-1+11*z**2)\n",
    "            j += 1\n",
    "            P[:,j] = y*(-3*x**2+y**2)*z*(-3+11*z**2)\n",
    "            j += 1\n",
    "            P[:,j] = x*y*(1-18*z**2+33*z**4)\n",
    "            j += 1\n",
    "            P[:,j] = y*z*(5-30*z**2+33*z**4)\n",
    "            j += 1\n",
    "            P[:,j] = (-5+105*z**2-315*z**4+231*z**6)\n",
    "            j += 1\n",
    "            P[:,j] = x*z*(5-30*z**2+33*z**4)\n",
    "            j += 1\n",
    "            P[:,j] = (x**2-y**2)*(1-18*z**2+33*z**4)\n",
    "            j += 1\n",
    "            P[:,j] = x*(x**2-3*y**2)*z*(-3+11*z**2)\n",
    "            j += 1\n",
    "            P[:,j] = (x**4-6*x**2*y**2+y**4)*(-1+11*z**2)\n",
    "            j += 1\n",
    "            P[:,j] = x*(x**4-10*x**2*y**2+5*y**4)*z\n",
    "            j += 1\n",
    "            P[:,j] = (x**6-15*x**4*y**2+15*x**2*y**4-y**6)\n",
    "            j += 1\n",
    "        if k == 7:\n",
    "            P[:,j] = y*((-7)*x**6+35*x**4*y**2+(-21)*x**2*y**4+y**6)\n",
    "            j += 1\n",
    "            P[:,j] = x*y*(3*x**4+(-10)*x**2*y**2+3*y**4)*z\n",
    "            j += 1\n",
    "            P[:,j] = y*(5*x**4+(-10)*x**2*y**2+y**4)*((-1)+13*z**2)\n",
    "            j += 1\n",
    "            P[:,j] = x*y*(x**2+(-1)*y**2)*z*((-3)+13*z**2)\n",
    "            j += 1\n",
    "            P[:,j] = y*((-3)*x**2+y**2)*(3+(-66)*z**2+143*z**4)\n",
    "            j += 1\n",
    "            P[:,j] = x*y*z*(15+(-110)*z**2+143*z**4)\n",
    "            j += 1\n",
    "            P[:,j] = y*(5+(-135)*z**2+495*z**4+(-429)*z**6)\n",
    "            j += 1\n",
    "            P[:,j] = z*((-35)+315*z**2+(-693)*z**4+429*z**6)\n",
    "            j += 1\n",
    "            P[:,j] = x*(5+(-135)*z**2+495*z**4+(-429)*z**6)\n",
    "            j += 1\n",
    "            P[:,j] = (x**2+(-1)*y**2)*z*(15+(-110)*z**2+143*z**4)\n",
    "            j += 1\n",
    "            P[:,j] = x*(x**2+(-3)*y**2)*(3+(-66)*z**2+143*z**4)\n",
    "            j += 1\n",
    "            P[:,j] = (x**4+(-6)*x**2*y**2+y**4)*z*((-3)+13*z**2)\n",
    "            j += 1\n",
    "            P[:,j] = x*(x**4+(-10)*x**2*y**2+5*y**4)*((-1)+13*z**2)\n",
    "            j += 1\n",
    "            P[:,j] = (x**6+(-15)*x**4*y**2+15*x**2*y**4+(-1)*y**6)*z\n",
    "            j += 1\n",
    "            P[:,j] = x*(x**6+(-21)*x**4*y**2+35*x**2*y**4+(-7)*y**6)\n",
    "            j += 1\n",
    "            \n",
    "    rhs_x = np.zeros((n, num_cols))\n",
    "    \n",
    "    rhs_y = np.zeros((n, num_cols))\n",
    "    \n",
    "    rhs_z = np.zeros((n, num_cols))\n",
    "    \n",
    "    return P"
   ]
  },
  {
   "cell_type": "code",
   "execution_count": 27,
   "metadata": {},
   "outputs": [],
   "source": [
    "n = 5\n",
    "\n",
    "indices = np.arange(0, n, dtype=float) + 0.5\n",
    "phi = np.arccos(1 - 2*indices/n)\n",
    "theta = np.pi * (1 + 5**0.5) * indices\n",
    "xs, ys, zs = np.cos(theta) * np.sin(phi), np.sin(theta) * np.sin(phi), np.cos(phi)\n",
    "nodes = np.array([(x,y,z) for x,y,z in zip(xs,ys,zs)])"
   ]
  },
  {
   "cell_type": "code",
   "execution_count": 28,
   "metadata": {},
   "outputs": [
    {
     "data": {
      "text/plain": [
       "array([[ 2.17424934e-01, -5.59219454e-01,  8.00000000e-01],\n",
       "       [-8.21915033e-01,  4.05531353e-01,  4.00000000e-01],\n",
       "       [ 9.60144597e-01,  2.79503761e-01,  6.12323400e-17],\n",
       "       [-4.75835108e-01, -7.83314082e-01, -4.00000000e-01],\n",
       "       [-1.16695329e-01,  5.88542437e-01, -8.00000000e-01]])"
      ]
     },
     "execution_count": 28,
     "metadata": {},
     "output_type": "execute_result"
    }
   ],
   "source": [
    "nodes"
   ]
  },
  {
   "cell_type": "code",
   "execution_count": 43,
   "metadata": {},
   "outputs": [],
   "source": [
    "P = gen_sphere_harm_basis(nodes, 7)"
   ]
  },
  {
   "cell_type": "code",
   "execution_count": 44,
   "metadata": {},
   "outputs": [
    {
     "name": "stdout",
     "output_type": "stream",
     "text": [
      "[0. 0. 0. 0. 0.]\n"
     ]
    }
   ],
   "source": [
    "print(P[:,4] - nodes[:,0]*nodes[:,1])"
   ]
  },
  {
   "cell_type": "code",
   "execution_count": 46,
   "metadata": {},
   "outputs": [
    {
     "data": {
      "text/plain": [
       "(5, 64)"
      ]
     },
     "execution_count": 46,
     "metadata": {},
     "output_type": "execute_result"
    }
   ],
   "source": [
    "P.shape"
   ]
  },
  {
   "cell_type": "code",
   "execution_count": 36,
   "metadata": {},
   "outputs": [
    {
     "data": {
      "text/plain": [
       "array([ 0.21742493, -0.82191503,  0.9601446 , -0.47583511, -0.11669533])"
      ]
     },
     "execution_count": 36,
     "metadata": {},
     "output_type": "execute_result"
    }
   ],
   "source": [
    "xs"
   ]
  },
  {
   "cell_type": "code",
   "execution_count": 37,
   "metadata": {},
   "outputs": [
    {
     "data": {
      "text/plain": [
       "array([[ 2.17424934e-01, -5.59219454e-01,  8.00000000e-01],\n",
       "       [-8.21915033e-01,  4.05531353e-01,  4.00000000e-01],\n",
       "       [ 9.60144597e-01,  2.79503761e-01,  6.12323400e-17],\n",
       "       [-4.75835108e-01, -7.83314082e-01, -4.00000000e-01],\n",
       "       [-1.16695329e-01,  5.88542437e-01, -8.00000000e-01]])"
      ]
     },
     "execution_count": 37,
     "metadata": {},
     "output_type": "execute_result"
    }
   ],
   "source": [
    "nodes"
   ]
  },
  {
   "cell_type": "code",
   "execution_count": null,
   "metadata": {},
   "outputs": [],
   "source": []
  }
 ],
 "metadata": {
  "kernelspec": {
   "display_name": "Python 3",
   "language": "python",
   "name": "python3"
  },
  "language_info": {
   "codemirror_mode": {
    "name": "ipython",
    "version": 3
   },
   "file_extension": ".py",
   "mimetype": "text/x-python",
   "name": "python",
   "nbconvert_exporter": "python",
   "pygments_lexer": "ipython3",
   "version": "3.6.5"
  }
 },
 "nbformat": 4,
 "nbformat_minor": 2
}

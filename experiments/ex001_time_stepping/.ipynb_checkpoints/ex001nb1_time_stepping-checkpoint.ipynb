{
 "cells": [
  {
   "cell_type": "code",
   "execution_count": 1,
   "metadata": {},
   "outputs": [],
   "source": [
    "import numpy as np\n",
    "import numpy.linalg as la\n",
    "import matplotlib.pyplot as plt\n",
    "import matplotlib.animation as animation\n",
    "%matplotlib notebook\n",
    "import itertools\n",
    "import scipy.sparse as sp"
   ]
  },
  {
   "cell_type": "code",
   "execution_count": 2,
   "metadata": {},
   "outputs": [],
   "source": [
    "def html_table(lol, headers, string_formating='{:.8f}'):\n",
    "    assert len(lol) == len(headers)\n",
    "    n = len(lol[0])\n",
    "    for l in lol:\n",
    "        assert len(l) == n\n",
    "    ret = '<table>\\n'\n",
    "    for header in headers:\n",
    "        ret += '\\t<th>' + header + '</th>'\n",
    "    ret += '\\n'\n",
    "    rows = zip(*lol)\n",
    "    for row in rows:\n",
    "        ret += '\\t<tr>\\n\\t\\t'\n",
    "        for v in row:\n",
    "            if isinstance(v, str):\n",
    "                str_val = v\n",
    "            else:\n",
    "                str_val = string_formating.format(v)\n",
    "            ret += '<td>' + str_val + '</td>'\n",
    "        ret += '\\n\\t</tr>\\n'\n",
    "    ret += '</table>'\n",
    "    return ret"
   ]
  },
  {
   "cell_type": "markdown",
   "metadata": {},
   "source": [
    "# ODEs Time-Stepping"
   ]
  },
  {
   "cell_type": "markdown",
   "metadata": {},
   "source": [
    "The ODE $y^\\prime = \\lambda y$ with the initial condition $y(0) = 1$ has the solution\n",
    "$$\n",
    "y(t) = e^{\\lambda t}\n",
    "$$"
   ]
  },
  {
   "cell_type": "code",
   "execution_count": 37,
   "metadata": {},
   "outputs": [],
   "source": [
    "def foo(y_0, t, lam):\n",
    "    return np.exp(lam*t)\n",
    "\n",
    "def forward(y_0, delta_t, lam, n):\n",
    "    return y_0 * (1+lam*delta_t)**n\n",
    "        \n",
    "def backward(y_0, delta_t, lam, n):\n",
    "    return y_0 * (1-lam*delta_t)**-n"
   ]
  },
  {
   "cell_type": "code",
   "execution_count": 35,
   "metadata": {},
   "outputs": [
    {
     "data": {
      "text/plain": [
       "<matplotlib.legend.Legend at 0x7fb088251c88>"
      ]
     },
     "execution_count": 35,
     "metadata": {},
     "output_type": "execute_result"
    },
    {
     "data": {
      "image/png": "[encoded data removed]",
      "text/plain": [
       "<Figure size 432x288 with 1 Axes>"
      ]
     },
     "metadata": {},
     "output_type": "display_data"
    }
   ],
   "source": [
    "delta_t = .1\n",
    "n = 100\n",
    "lam = -1\n",
    "y_0 = 1\n",
    "\n",
    "ts = [delta_t * i for i in range(n)]\n",
    "y_true = [foo(y_0, delta_t*i, lam) for i in range(n)]\n",
    "y_forward = [forward(y_0, delta_t, lam, i) for i in range(n)]\n",
    "y_backward = [backward(y_0, delta_t, lam, i) for i in range(n)]\n",
    "\n",
    "plt.title('True vs Forward and Backward')\n",
    "plt.plot(ts, y_true, '-b', label='True')\n",
    "plt.plot(ts, y_forward, '--r', label='Forward')\n",
    "plt.plot(ts, y_backward, '--g', label='Backward')\n",
    "plt.legend()"
   ]
  },
  {
   "cell_type": "code",
   "execution_count": 100,
   "metadata": {},
   "outputs": [
    {
     "name": "stdout",
     "output_type": "stream",
     "text": [
      "fw_err\t\tfw_ratio\tback_err\tback_ratio\n",
      "136.163159\tN/A \t\t147.968715\tN/A  \n",
      "122.784253\t0.901744\t107.586841\t0.727092\n",
      "99.791819\t0.812741\t2408.699476\t22.388421\n",
      "70.861875\t0.710097\t253.041738\t0.105053\n",
      "44.263977\t0.624652\t81.285708\t0.321234\n",
      "25.152788\t0.568245\t33.972039\t0.417934\n",
      "13.475265\t0.535736\t15.654073\t0.460793\n",
      "6.984065\t0.518288\t7.527161\t0.480844\n",
      "3.556640\t0.509251\t3.692314\t0.490532\n",
      "1.794867\t0.504652\t1.828779\t0.495293\n",
      "0.901621\t0.502333\t0.910098\t0.497654\n",
      "0.451863\t0.501168\t0.453983\t0.498828\n",
      "0.226196\t0.500584\t0.226726\t0.499415\n",
      "0.113164\t0.500292\t0.113297\t0.499707\n",
      "0.056599\t0.500146\t0.056632\t0.499854\n",
      "0.028303\t0.500073\t0.028312\t0.499927\n",
      "0.014153\t0.500037\t0.014155\t0.499963\n",
      "0.007077\t0.500018\t0.007077\t0.499982\n",
      "0.003538\t0.500009\t0.003539\t0.499991\n"
     ]
    }
   ],
   "source": [
    "target_t = 5\n",
    "time_steps = [2**i for i in range(1,20)]\n",
    "lam = -1\n",
    "y_0 = 1\n",
    "\n",
    "fw_errors = []\n",
    "bk_errors = []\n",
    "\n",
    "steps = [target_t/t for t in time_steps]\n",
    "\n",
    "for step in time_steps:\n",
    "    delta_t = target_t/step\n",
    "    fw = forward(y_0, delta_t, lam, step)\n",
    "    back = backward(y_0, delta_t, lam, step)\n",
    "    true_value = foo(y_0, target_t, lam)\n",
    "    fw_errors.append(np.abs(fw - true_value))\n",
    "    bk_errors.append(np.abs(back - true_value))\n",
    "    \n",
    "print('fw_err\\t\\tfw_ratio\\tback_err\\tback_ratio')\n",
    "print('%f\\tN/A \\t\\t%f\\tN/A  ' % (fw_errors[0], bk_errors[0]) )\n",
    "for fw, fw_prev, bk, bk_prev in zip(fw_errors[1:], fw_errors[:-1], bk_errors[1:], bk_errors[:-1]):\n",
    "    print('%f\\t%f\\t%f\\t%f' % (fw, fw/fw_prev, bk, bk/bk_prev))\n",
    "    \n",
    "        \n"
   ]
  },
  {
   "cell_type": "code",
   "execution_count": 19,
   "metadata": {},
   "outputs": [
    {
     "name": "stdout",
     "output_type": "stream",
     "text": [
      "0.09813016014842982 0.36787944117144233 0.07316613614786646 0.13212055882855767\n",
      "0.04029005673169514 0.09813016014842982 0.03594125654955485 0.07316613614786646\n",
      "0.018421153106358418 0.04029005673169514 0.017533267781211725 0.03594125654955485\n",
      "0.00882228696598622 0.018421153106358418 0.00862363532858676 0.017533267781211725\n",
      "0.004318736626198916 0.00882228696598622 0.004271903885053968 0.00862363532858676\n",
      "0.00213681456395598 0.004318736626198916 0.002125455235711504 0.004271903885053968\n",
      "0.0010628353081024722 0.00213681456395598 0.0010600387870733918 0.002125455235711504\n",
      "0.0005300328463224702 0.0010628353081024722 0.000529339111767918 0.0010600387870733918\n"
     ]
    }
   ],
   "source": [
    "l = zip(fw_errors[1:], fw_errors[:-1], bk_errors[1:], bk_errors[:-1])\n",
    "for a, b, c, d in l:\n",
    "    print(a,b,c,d)"
   ]
  },
  {
   "cell_type": "markdown",
   "metadata": {},
   "source": [
    "# Systems of ODEs"
   ]
  },
  {
   "cell_type": "code",
   "execution_count": 3,
   "metadata": {},
   "outputs": [],
   "source": [
    "def solution_u(t):\n",
    "    return (1+3*np.exp(-8/3*t))/8\n",
    "def solution_v(t):\n",
    "    return -3*np.exp(-8/3*t)\n",
    "\n",
    "def solution(t):\n",
    "    return np.array([solution_u(t), solution_v(t)])"
   ]
  },
  {
   "cell_type": "code",
   "execution_count": 4,
   "metadata": {},
   "outputs": [
    {
     "data": {
      "text/plain": [
       "[<matplotlib.lines.Line2D at 0x7f2eb90c8908>]"
      ]
     },
     "execution_count": 4,
     "metadata": {},
     "output_type": "execute_result"
    },
    {
     "data": {
      "image/png": "[encoded data removed]",
      "text/plain": [
       "<Figure size 432x288 with 1 Axes>"
      ]
     },
     "metadata": {},
     "output_type": "display_data"
    }
   ],
   "source": [
    "ts = np.linspace(0, 5)\n",
    "plt.plot(ts, solution_u(ts), 'b-')\n",
    "plt.plot(ts, solution_v(ts), 'g-')"
   ]
  },
  {
   "cell_type": "code",
   "execution_count": 29,
   "metadata": {},
   "outputs": [],
   "source": [
    "def foo(z):\n",
    "    u, v = z[0], z[1]\n",
    "    return np.array((1/3 * v, v*(v-1)/(3*u)))\n",
    "\n",
    "z0 = np.array([.5, -3])\n",
    "\n",
    "def forward(delta_t, n):\n",
    "    z = z0*1\n",
    "    for i in range(n):\n",
    "        z += delta_t * foo(z)\n",
    "    return z\n",
    "\n",
    "def backward(delta_t, n):\n",
    "    A = delta_t/3\n",
    "    u, v = z0[0], z0[1]\n",
    "    for i in range(n):\n",
    "        v = v*(u)/(u-A*v+A)\n",
    "        u += A*v\n",
    "    return np.array([u,v])"
   ]
  },
  {
   "cell_type": "code",
   "execution_count": 30,
   "metadata": {},
   "outputs": [
    {
     "name": "stdout",
     "output_type": "stream",
     "text": [
      "fw_err\t\tfw_ratio\tback_err\tback_ratio\n",
      "0.461018\tN/A \t\t0.291459\tN/A  \n",
      "0.199741\t0.433261\t0.159660\t0.547796\n",
      "0.093812\t0.469666\t0.083928\t0.525667\n",
      "0.045546\t0.485503\t0.043083\t0.513337\n",
      "0.022450\t0.492907\t0.021835\t0.506803\n",
      "0.011146\t0.496491\t0.010992\t0.503436\n",
      "0.005554\t0.498255\t0.005515\t0.501727\n",
      "0.002772\t0.499130\t0.002762\t0.500866\n",
      "0.001385\t0.499565\t0.001382\t0.500433\n",
      "0.000692\t0.499783\t0.000691\t0.500217\n",
      "0.000346\t0.499891\t0.000346\t0.500108\n",
      "0.000173\t0.499946\t0.000173\t0.500054\n",
      "0.000086\t0.499973\t0.000086\t0.500027\n",
      "0.000043\t0.499986\t0.000043\t0.500014\n",
      "0.000022\t0.499993\t0.000022\t0.500007\n",
      "0.000011\t0.499997\t0.000011\t0.500003\n",
      "0.000005\t0.499998\t0.000005\t0.500002\n",
      "0.000003\t0.499999\t0.000003\t0.500000\n",
      "0.000001\t0.500000\t0.000001\t0.500004\n"
     ]
    }
   ],
   "source": [
    "target_t = .5\n",
    "time_steps = [2**i for i in range(1,20)]\n",
    "\n",
    "fw_errors = []\n",
    "bk_errors = []\n",
    "\n",
    "steps = [target_t/t for t in time_steps]\n",
    "true_value = solution(target_t)\n",
    "for step in time_steps:\n",
    "    delta_t = target_t/step\n",
    "    fw = forward(delta_t, step)\n",
    "    back = backward(delta_t, step)\n",
    "    fw_errors.append(la.norm(fw - true_value))\n",
    "    bk_errors.append(la.norm(back - true_value))\n",
    "    \n",
    "print('fw_err\\t\\tfw_ratio\\tback_err\\tback_ratio')\n",
    "print('%f\\tN/A \\t\\t%f\\tN/A  ' % (fw_errors[0], bk_errors[0]) )\n",
    "for fw, fw_prev, bk, bk_prev in zip(fw_errors[1:], fw_errors[:-1], bk_errors[1:], bk_errors[:-1]):\n",
    "    print('%f\\t%f\\t%f\\t%f' % (fw, fw/fw_prev, bk, bk/bk_prev))"
   ]
  },
  {
   "cell_type": "code",
   "execution_count": 23,
   "metadata": {},
   "outputs": [
    {
     "data": {
      "text/plain": [
       "[]"
      ]
     },
     "execution_count": 23,
     "metadata": {},
     "output_type": "execute_result"
    }
   ],
   "source": [
    "bk_errors\n"
   ]
  },
  {
   "cell_type": "code",
   "execution_count": null,
   "metadata": {},
   "outputs": [],
   "source": []
  },
  {
   "cell_type": "markdown",
   "metadata": {},
   "source": [
    "# 1-D Heat Equation"
   ]
  },
  {
   "cell_type": "code",
   "execution_count": 34,
   "metadata": {},
   "outputs": [],
   "source": [
    "from heat_equation import *\n",
    "c = 1\n",
    "def f(x):\n",
    "    return x**2 * (1-x)\n",
    "\n",
    "f = np.vectorize(f)\n",
    "u = dirichlet_solution(c,f)\n",
    "\n",
    "def forward(u0, D, delta_t, n):\n",
    "    u = u0\n",
    "    for i in range(n):\n",
    "        u += delta_t * D@u\n",
    "    return u\n",
    "\n",
    "def backward(u0, D, delta_t, n):\n",
    "    return u0"
   ]
  },
  {
   "cell_type": "code",
   "execution_count": 39,
   "metadata": {},
   "outputs": [
    {
     "name": "stdout",
     "output_type": "stream",
     "text": [
      "Processing steps=4\n",
      "Processing steps=8\n",
      "Processing steps=16\n",
      "Processing steps=32\n",
      "Processing steps=64\n",
      "Processing steps=128\n",
      "Processing steps=256\n",
      "fw_err\t\tfw_ratio\tback_err\tback_ratio\n",
      "0.130812\tN/A \t\t0.130812\tN/A  \n",
      "0.130812\t1.000001\t0.130812\t1.000001\n",
      "0.199566\t1.525591\t0.199566\t1.525591\n",
      "0.199566\t1.000000\t0.199566\t1.000000\n",
      "0.199566\t1.000000\t0.199566\t1.000000\n",
      "0.249064\t1.248033\t0.249064\t1.248033\n",
      "0.290180\t1.165079\t0.290180\t1.165079\n"
     ]
    }
   ],
   "source": [
    "target_t = .1\n",
    "time_steps = [2**i for i in range(2,9)]\n",
    "\n",
    "fw_errors = []\n",
    "bk_errors = []\n",
    "\n",
    "steps = [target_t/t for t in time_steps]\n",
    "for step in time_steps:\n",
    "    delta_t = target_t/step\n",
    "    print('Processing steps=%d' % step)\n",
    "    n = int(step**(1/4))\n",
    "    n*=5\n",
    "    h = 1/n\n",
    "    D = sp.diags([1] + [-2]*(n-2) + [1]) + sp.diags([0] + [1]*(n-2), 1) + sp.diags([1]*(n-2) + [0], -1)\n",
    "    D = h**2 * D\n",
    "    D[0,0] = 1\n",
    "    D[n-1,n-1] = 1\n",
    "    #print(D)\n",
    "    xs = np.linspace(0,1, n)\n",
    "    u0 = f(xs)\n",
    "    true_value = u(xs, target_t)\n",
    "    fw = forward(u0, D, delta_t, step)\n",
    "    back = backward(u0, D, delta_t, step)\n",
    "    fw_errors.append(la.norm(fw - true_value))\n",
    "    bk_errors.append(la.norm(back - true_value))\n",
    "    \n",
    "print('fw_err\\t\\tfw_ratio\\tback_err\\tback_ratio')\n",
    "print('%f\\tN/A \\t\\t%f\\tN/A  ' % (fw_errors[0], bk_errors[0]) )\n",
    "for fw, fw_prev, bk, bk_prev in zip(fw_errors[1:], fw_errors[:-1], bk_errors[1:], bk_errors[:-1]):\n",
    "    print('%f\\t%f\\t%f\\t%f' % (fw, fw/fw_prev, bk, bk/bk_prev))"
   ]
  },
  {
   "cell_type": "code",
   "execution_count": 36,
   "metadata": {},
   "outputs": [
    {
     "data": {
      "text/plain": [
       "1"
      ]
     },
     "execution_count": 36,
     "metadata": {},
     "output_type": "execute_result"
    }
   ],
   "source": [
    "n"
   ]
  },
  {
   "cell_type": "code",
   "execution_count": 23,
   "metadata": {},
   "outputs": [
    {
     "data": {
      "text/plain": [
       "0.5"
      ]
     },
     "execution_count": 23,
     "metadata": {},
     "output_type": "execute_result"
    }
   ],
   "source": [
    "h"
   ]
  },
  {
   "cell_type": "code",
   "execution_count": null,
   "metadata": {},
   "outputs": [],
   "source": []
  },
  {
   "cell_type": "code",
   "execution_count": null,
   "metadata": {},
   "outputs": [],
   "source": []
  },
  {
   "cell_type": "code",
   "execution_count": null,
   "metadata": {},
   "outputs": [],
   "source": []
  },
  {
   "cell_type": "code",
   "execution_count": null,
   "metadata": {},
   "outputs": [],
   "source": []
  },
  {
   "cell_type": "markdown",
   "metadata": {},
   "source": [
    "# Animation Testing"
   ]
  },
  {
   "cell_type": "code",
   "execution_count": 4,
   "metadata": {},
   "outputs": [
    {
     "data": {
      "image/png": "[encoded data removed]",
      "text/plain": [
       "<Figure size 432x288 with 1 Axes>"
      ]
     },
     "metadata": {},
     "output_type": "display_data"
    }
   ],
   "source": [
    "from heat_equation import *\n",
    "def f(x):\n",
    "    return x**2 * (1-x)\n",
    "u = dirichlet_solution(1,f)\n",
    "x = np.linspace(0,1)\n",
    "\n",
    "import matplotlib.pyplot as plt\n",
    "import matplotlib.animation as animation\n",
    "\n",
    "fig, ax = plt.subplots()\n",
    "plt.xlabel('Position')\n",
    "plt.ylabel('Temperature')\n",
    "plt.title('Temperature Distribution')\n",
    "\n",
    "line, = ax.plot(x, f(x))\n",
    "time_text = ax.text(0.02, 0.95, '', transform=ax.transAxes)\n",
    "\n",
    "\n",
    "def animate(i):\n",
    "    line.set_ydata(u(x,i/1000))  # update the data\n",
    "    time_text.set_text('time (s) = %.3f' % (i/1000))\n",
    "    return line, time_text\n",
    "\n",
    "\n",
    "# Init only required for blitting to give a clean slate.\n",
    "def init():\n",
    "    line.set_ydata(np.ma.array(x, mask=True))\n",
    "    time_text.set_text('')\n",
    "    return line, time_text\n",
    "\n",
    "ani = animation.FuncAnimation(fig, animate, np.arange(1, 200), init_func=init,\n",
    "                              interval=25, blit=True)\n",
    "\n",
    "ani.save('1D-heat.mp4', writer='imagemagick', fps=30)\n",
    "\n",
    "plt.show()"
   ]
  },
  {
   "cell_type": "code",
   "execution_count": 90,
   "metadata": {},
   "outputs": [],
   "source": [
    "\n",
    "    \n",
    "    "
   ]
  },
  {
   "cell_type": "code",
   "execution_count": 31,
   "metadata": {},
   "outputs": [
    {
     "name": "stdout",
     "output_type": "stream",
     "text": [
      "<table>\n",
      "\t<th>$\\Delta t$</th>\t<th>fw_err</th>\t<th>fw_ratio</th>\t<th>bk_err</th>\t<th>bk_ratio</th>\n",
      "\t<tr>\n",
      "\t\t<td>0.25000000</td><td>0.46101812</td><td>N/A</td><td>0.29145927</td><td>N/A</td>\n",
      "\t</tr>\n",
      "\t<tr>\n",
      "\t\t<td>0.12500000</td><td>0.19974125</td><td>0.43326117</td><td>0.15966025</td><td>0.54779610</td>\n",
      "\t</tr>\n",
      "\t<tr>\n",
      "\t\t<td>0.06250000</td><td>0.09381172</td><td>0.46966624</td><td>0.08392814</td><td>0.52566712</td>\n",
      "\t</tr>\n",
      "\t<tr>\n",
      "\t\t<td>0.03125000</td><td>0.04554590</td><td>0.48550334</td><td>0.04308341</td><td>0.51333685</td>\n",
      "\t</tr>\n",
      "\t<tr>\n",
      "\t\t<td>0.01562500</td><td>0.02244991</td><td>0.49290732</td><td>0.02183481</td><td>0.50680318</td>\n",
      "\t</tr>\n",
      "\t<tr>\n",
      "\t\t<td>0.00781250</td><td>0.01114618</td><td>0.49649117</td><td>0.01099244</td><td>0.50343648</td>\n",
      "\t</tr>\n",
      "\t<tr>\n",
      "\t\t<td>0.00390625</td><td>0.00555364</td><td>0.49825479</td><td>0.00551520</td><td>0.50172712</td>\n",
      "\t</tr>\n",
      "\t<tr>\n",
      "\t\t<td>0.00195312</td><td>0.00277199</td><td>0.49912968</td><td>0.00276238</td><td>0.50086580</td>\n",
      "\t</tr>\n",
      "\t<tr>\n",
      "\t\t<td>0.00097656</td><td>0.00138479</td><td>0.49956541</td><td>0.00138239</td><td>0.50043346</td>\n",
      "\t</tr>\n",
      "\t<tr>\n",
      "\t\t<td>0.00048828</td><td>0.00069209</td><td>0.49978284</td><td>0.00069149</td><td>0.50021687</td>\n",
      "\t</tr>\n",
      "\t<tr>\n",
      "\t\t<td>0.00024414</td><td>0.00034597</td><td>0.49989146</td><td>0.00034582</td><td>0.50010847</td>\n",
      "\t</tr>\n",
      "\t<tr>\n",
      "\t\t<td>0.00012207</td><td>0.00017297</td><td>0.49994574</td><td>0.00017293</td><td>0.50005424</td>\n",
      "\t</tr>\n",
      "\t<tr>\n",
      "\t\t<td>0.00006104</td><td>0.00008648</td><td>0.49997287</td><td>0.00008647</td><td>0.50002713</td>\n",
      "\t</tr>\n",
      "\t<tr>\n",
      "\t\t<td>0.00003052</td><td>0.00004324</td><td>0.49998644</td><td>0.00004324</td><td>0.50001356</td>\n",
      "\t</tr>\n",
      "\t<tr>\n",
      "\t\t<td>0.00001526</td><td>0.00002162</td><td>0.49999322</td><td>0.00002162</td><td>0.50000679</td>\n",
      "\t</tr>\n",
      "\t<tr>\n",
      "\t\t<td>0.00000763</td><td>0.00001081</td><td>0.49999661</td><td>0.00001081</td><td>0.50000334</td>\n",
      "\t</tr>\n",
      "\t<tr>\n",
      "\t\t<td>0.00000381</td><td>0.00000540</td><td>0.49999831</td><td>0.00000540</td><td>0.50000189</td>\n",
      "\t</tr>\n",
      "\t<tr>\n",
      "\t\t<td>0.00000191</td><td>0.00000270</td><td>0.49999915</td><td>0.00000270</td><td>0.50000005</td>\n",
      "\t</tr>\n",
      "\t<tr>\n",
      "\t\t<td>0.00000095</td><td>0.00000135</td><td>0.49999959</td><td>0.00000135</td><td>0.50000363</td>\n",
      "\t</tr>\n",
      "</table>\n"
     ]
    }
   ],
   "source": [
    "fw_ratio = ['N/A'] + [e/p for e, p in zip(fw_errors[1:], fw_errors[:-1])]\n",
    "bk_ratio = ['N/A'] + [e/p for e, p in zip(bk_errors[1:], bk_errors[:-1])]\n",
    "print(html_table((steps, fw_errors, fw_ratio, bk_errors, bk_ratio), ('$\\Delta t$', 'fw_err','fw_ratio','bk_err','bk_ratio')))"
   ]
  },
  {
   "cell_type": "code",
   "execution_count": 82,
   "metadata": {},
   "outputs": [
    {
     "data": {
      "text/plain": [
       "True"
      ]
     },
     "execution_count": 82,
     "metadata": {},
     "output_type": "execute_result"
    }
   ],
   "source": [
    "isinstance('a', str)"
   ]
  },
  {
   "cell_type": "code",
   "execution_count": null,
   "metadata": {},
   "outputs": [],
   "source": []
  }
 ],
 "metadata": {
  "kernelspec": {
   "display_name": "Python 3",
   "language": "python",
   "name": "python3"
  },
  "language_info": {
   "codemirror_mode": {
    "name": "ipython",
    "version": 3
   },
   "file_extension": ".py",
   "mimetype": "text/x-python",
   "name": "python",
   "nbconvert_exporter": "python",
   "pygments_lexer": "ipython3",
   "version": "3.5.2"
  }
 },
 "nbformat": 4,
 "nbformat_minor": 2
}

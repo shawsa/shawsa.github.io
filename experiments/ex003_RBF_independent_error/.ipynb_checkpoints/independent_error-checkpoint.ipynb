{
 "cells": [
  {
   "cell_type": "code",
   "execution_count": 1,
   "metadata": {},
   "outputs": [],
   "source": [
    "%matplotlib inline\n",
    "import numpy as np\n",
    "import scipy.linalg as la\n",
    "import mpl_toolkits.mplot3d\n",
    "import matplotlib.pyplot as plt\n",
    "\n",
    "from scipy.spatial import cKDTree\n",
    "from poly_basis import *"
   ]
  },
  {
   "cell_type": "markdown",
   "metadata": {},
   "source": [
    "# Parameters"
   ]
  },
  {
   "cell_type": "code",
   "execution_count": 2,
   "metadata": {},
   "outputs": [
    {
     "name": "stdout",
     "output_type": "stream",
     "text": [
      "n: 200\n",
      "forcing deg: 4\n"
     ]
    }
   ],
   "source": [
    "n = 200\n",
    "center_index = 30\n",
    "\n",
    "rbf_labels = ['r^3', 'r^4*log(r)', 'r^5', 'r^6*log(r)', 'r^7', 'r^8*log(r)', 'r^9', 'gaussian']\n",
    "epsilon = 1\n",
    "\n",
    "#rbf_label = 'r^4*log(r)'\n",
    "rbf_label = rbf_labels[2]\n",
    "\n",
    "harm_index = 20\n",
    "\n",
    "deg_diff = 0\n",
    "\n",
    "print('n: %d' % n)\n",
    "print('forcing deg: %d' % sphere_harm_degs[harm_index])"
   ]
  },
  {
   "cell_type": "code",
   "execution_count": 3,
   "metadata": {},
   "outputs": [
    {
     "name": "stdout",
     "output_type": "stream",
     "text": [
      "Stencil Size: 50\n"
     ]
    }
   ],
   "source": [
    "basis_deg = sphere_harm_degs[harm_index] + deg_diff\n",
    "stencil_size = 2*(basis_deg+1)**2 #101\n",
    "assert stencil_size > (basis_deg+1)**2\n",
    "assert n >= stencil_size\n",
    "print('Stencil Size: %d' % stencil_size)"
   ]
  },
  {
   "cell_type": "markdown",
   "metadata": {},
   "source": [
    "# Solutions"
   ]
  },
  {
   "cell_type": "code",
   "execution_count": 4,
   "metadata": {},
   "outputs": [],
   "source": [
    "harm_deg = sphere_harm_degs[harm_index]\n",
    "\n",
    "foo = lambda x: -harm_deg*(harm_deg+1)*sphere_harm[harm_index](*x)\n",
    "exact = lambda x: sphere_harm[harm_index](*x)\n",
    "exact_x = lambda x: sphere_harm_grad_x[harm_index](*x)\n",
    "exact_y = lambda x: sphere_harm_grad_y[harm_index](*x)\n",
    "exact_z = lambda x: sphere_harm_grad_z[harm_index](*x)"
   ]
  },
  {
   "cell_type": "markdown",
   "metadata": {},
   "source": [
    "# RBFs"
   ]
  },
  {
   "cell_type": "code",
   "execution_count": null,
   "metadata": {},
   "outputs": [],
   "source": []
  },
  {
   "cell_type": "code",
   "execution_count": 5,
   "metadata": {},
   "outputs": [],
   "source": [
    "rbf_dict = {}\n",
    "\n",
    "even_tol = 1e-14\n",
    "\n",
    "def rbf(r):\n",
    "    return r**3\n",
    "def d_phi_dr_div_r(r):\n",
    "    return 3 * r\n",
    "rbf_dict['r^3'] = (rbf, d_phi_dr_div_r)\n",
    "\n",
    "def rbf(r):\n",
    "    if abs(r)< even_tol:\n",
    "        return 0\n",
    "    return r**4 * np.log(r)\n",
    "def d_phi_dr_div_r(r):\n",
    "    if abs(r)< even_tol:\n",
    "        return 0\n",
    "    return r**2 * (1 + 4*np.log(r))\n",
    "rbf_dict['r^4*log(r)'] = (rbf, d_phi_dr_div_r)\n",
    "\n",
    "def rbf(r):\n",
    "    return r**5\n",
    "def d_phi_dr_div_r(r):\n",
    "    return 5 * r**3\n",
    "rbf_dict['r^5'] = (rbf, d_phi_dr_div_r)\n",
    "\n",
    "def rbf(r):\n",
    "    if abs(r)< even_tol:\n",
    "        return 0\n",
    "    return r**6 * np.log(r)\n",
    "def d_phi_dr_div_r(r):\n",
    "    if abs(r)< even_tol:\n",
    "        return 0\n",
    "    return r**4 * (1 + 6*np.log(r))\n",
    "rbf_dict['r^6*log(r)'] = (rbf, d_phi_dr_div_r)\n",
    "\n",
    "def rbf(r):\n",
    "    return r**7\n",
    "def d_phi_dr_div_r(r):\n",
    "    return 7 * r**5\n",
    "rbf_dict['r^7'] = (rbf, d_phi_dr_div_r)\n",
    "\n",
    "def rbf(r):\n",
    "    if abs(r)< even_tol:\n",
    "        return 0\n",
    "    return r**8 * np.log(r)\n",
    "def d_phi_dr_div_r(r):\n",
    "    if abs(r)< even_tol:\n",
    "        return 0\n",
    "    return r**6 * (1 + 8*np.log(r))\n",
    "rbf_dict['r^8*log(r)'] = (rbf, d_phi_dr_div_r)\n",
    "\n",
    "def rbf(r):\n",
    "    return r**9\n",
    "def d_phi_dr_div_r(r):\n",
    "    return 9 * r**7\n",
    "rbf_dict['r^9'] = (rbf, d_phi_dr_div_r)\n",
    "\n",
    "# RBFs with Shape Parameter\n",
    "shape_rbfs = []\n",
    "\n",
    "def rbf(r):\n",
    "    return np.exp(-(epsilon*r)**2)\n",
    "def d_phi_dr_div_r(r):\n",
    "    return -2 * epsilon**2 * np.exp(-(epsilon*r)**2)\n",
    "rbf_dict['gaussian'] = (rbf, d_phi_dr_div_r)\n",
    "shape_rbfs += ['gaussian']\n",
    "\n",
    "\n",
    "\n",
    "def grad_rbf(node, node_center):\n",
    "    r = dist(node, node_center)\n",
    "    return d_phi_dr_div_r(r) * (np.array(node) - np.array(node_center))\n",
    "\n",
    "########################################################################################\n",
    "#\n",
    "# misc\n",
    "#\n",
    "########################################################################################\n",
    "\n",
    "def dist(node1, node2):\n",
    "    return np.sqrt( (node1[0]-node2[0])**2 + (node1[1]-node2[1])**2 + (node1[2]-node2[2])**2 )"
   ]
  },
  {
   "cell_type": "markdown",
   "metadata": {},
   "source": [
    "# Calculate Gradient Weights"
   ]
  },
  {
   "cell_type": "code",
   "execution_count": 6,
   "metadata": {},
   "outputs": [],
   "source": [
    "# generate nodes\n",
    "indices = np.arange(0, n, dtype=float) + 0.5\n",
    "phi = np.arccos(1 - 2*indices/n)\n",
    "theta = np.pi * (1 + 5**0.5) * indices\n",
    "xs, ys, zs = np.cos(theta) * np.sin(phi), np.sin(theta) * np.sin(phi), np.cos(phi)\n",
    "nodes = np.array([(x,y,z) for x,y,z in zip(xs,ys,zs)])\n",
    "projectors = [np.eye(3) - np.outer(node, node) for node in nodes]\n",
    "\n",
    "# generate stencils\n",
    "tree = cKDTree(np.array(nodes))\n",
    "\n",
    "\n",
    "# generate weights\n",
    "rbf, d_phi_dr_div_r = rbf_dict[rbf_label]\n",
    "stencils = [tree.query(node, stencil_size)[1] for node in nodes]\n",
    "weights_LB = np.zeros(stencil_size)\n",
    "\n",
    "stencil = stencils[center_index]\n",
    "\n",
    "nn = np.array([nodes[i] for i in stencil])\n",
    "nn_proj = [projectors[i] for i in stencil]\n",
    "center_x, center_y, center_z = nn[0]\n",
    "P, rhs_x, rhs_y, rhs_z = gen_sphere_harm_basis(basis_deg, nn, nn_proj)\n",
    "A = np.array([[rbf(dist(node, node_center)) for node in nn] for node_center in nn])\n",
    "num_basis = P.shape[1]\n",
    "AP = np.block([[A,P],[P.T, np.zeros((num_basis,num_basis))]])\n",
    "rhsAs = np.array([ [ nn_proj[j]@grad_rbf(node, node_center) for j, node in enumerate(nn) ]\n",
    "                                    for node_center in nn] )\n",
    "\n",
    "rhsA = rhsAs[:,:,0] # only the x coordinates\n",
    "rhs = np.block([[rhsA],[rhs_x]])\n",
    "weights_grad_x = la.solve(AP, rhs)[:stencil_size,:].T\n",
    "weights_LB = (weights_grad_x@weights_grad_x)[0]\n",
    "\n",
    "rhsA = rhsAs[:,:,1] # only the y coordinates\n",
    "rhs = np.block([[rhsA],\n",
    "                [rhs_y]])\n",
    "weights_grad_y = la.solve(AP, rhs)[:stencil_size,:].T\n",
    "weights_LB += (weights_grad_y@weights_grad_y)[0]\n",
    "\n",
    "rhsA = rhsAs[:,:,2] # only the z coordinates\n",
    "rhs = np.block([[rhsA],\n",
    "                [rhs_z]])\n",
    "weights_grad_z = la.solve(AP, rhs)[:stencil_size,:].T\n",
    "weights_LB += (weights_grad_z@weights_grad_z)[0]"
   ]
  },
  {
   "cell_type": "markdown",
   "metadata": {},
   "source": [
    "# Difference in Surface Gradient"
   ]
  },
  {
   "cell_type": "code",
   "execution_count": 7,
   "metadata": {},
   "outputs": [
    {
     "name": "stdout",
     "output_type": "stream",
     "text": [
      "[-1.88737914e-14  2.66453526e-15 -1.15463195e-14]\n"
     ]
    }
   ],
   "source": [
    "surf_grad = np.array([ weights_grad_x[0] @ [exact(x) for x in nn],\n",
    "           weights_grad_y[0] @ [exact(x) for x in nn],\n",
    "           weights_grad_z[0] @ [exact(x) for x in nn]])\n",
    "\n",
    "exact_grad = np.array([exact_x(nodes[center_index]), \n",
    "                       exact_y(nodes[center_index]), \n",
    "                       exact_z(nodes[center_index])])\n",
    "exact_surf_grad = projectors[center_index]@ exact_grad\n",
    "\n",
    "print(surf_grad - exact_surf_grad)"
   ]
  },
  {
   "cell_type": "markdown",
   "metadata": {},
   "source": [
    "# Difference in Laplace-Beltrami"
   ]
  },
  {
   "cell_type": "code",
   "execution_count": 8,
   "metadata": {},
   "outputs": [
    {
     "data": {
      "text/plain": [
       "0.01849153186057606"
      ]
     },
     "execution_count": 8,
     "metadata": {},
     "output_type": "execute_result"
    }
   ],
   "source": [
    "weights_LB @ [exact(x) for x in nn] - foo(nodes[center_index])"
   ]
  }
 ],
 "metadata": {
  "kernelspec": {
   "display_name": "Python 3",
   "language": "python",
   "name": "python3"
  },
  "language_info": {
   "codemirror_mode": {
    "name": "ipython",
    "version": 3
   },
   "file_extension": ".py",
   "mimetype": "text/x-python",
   "name": "python",
   "nbconvert_exporter": "python",
   "pygments_lexer": "ipython3",
   "version": "3.6.5"
  }
 },
 "nbformat": 4,
 "nbformat_minor": 2
}

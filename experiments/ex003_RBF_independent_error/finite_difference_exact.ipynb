{
 "cells": [
  {
   "cell_type": "code",
   "execution_count": 1,
   "metadata": {},
   "outputs": [],
   "source": [
    "import numpy as np\n",
    "import numpy.linalg as la"
   ]
  },
  {
   "cell_type": "code",
   "execution_count": 77,
   "metadata": {},
   "outputs": [],
   "source": [
    "def foo(x):\n",
    "    return x**2\n",
    "\n",
    "def d2foo(x):\n",
    "    return 2\n",
    "\n",
    "a, b = 0, 1\n",
    "f_a, f_b = 0, 1"
   ]
  },
  {
   "cell_type": "code",
   "execution_count": 79,
   "metadata": {},
   "outputs": [
    {
     "name": "stdout",
     "output_type": "stream",
     "text": [
      "2.2887833992611187e-16\n"
     ]
    }
   ],
   "source": [
    "n = 10\n",
    "h = 1/(n-1)\n",
    "xs = np.linspace(a,b,n)\n",
    "\n",
    "#D = np.eye(n)\n",
    "\n",
    "D = np.diag([-2.0]*(n))\n",
    "D += np.diag([1.0]*(n-1), k=1)\n",
    "D += np.diag([1.0]*(n-1), k=-1)\n",
    "D /= h**2\n",
    "\n",
    "'''D = np.diag([-5/2]*(n))\n",
    "D += np.diag([4/3]*(n-1), k=1)\n",
    "D += np.diag([4/3]*(n-1), k=-1)\n",
    "D += np.diag([-1/12]*(n-2), k=2)\n",
    "D += np.diag([-1/12]*(n-2), k=-2)\n",
    "D /= h**3'''\n",
    "\n",
    "D[0] = [1] + [0]*(n-1)\n",
    "D[-1] = [0]*(n-1) + [1]\n",
    "\n",
    "f = np.zeros(n)\n",
    "f[0] = f_a\n",
    "f[-1] = f_b\n",
    "f[1:-1] = d2foo(xs[1:-1])\n",
    "\n",
    "u = la.solve(D, f)\n",
    "print(la.norm(u - foo(xs)))"
   ]
  },
  {
   "cell_type": "code",
   "execution_count": null,
   "metadata": {},
   "outputs": [],
   "source": []
  },
  {
   "cell_type": "code",
   "execution_count": null,
   "metadata": {},
   "outputs": [],
   "source": []
  }
 ],
 "metadata": {
  "kernelspec": {
   "display_name": "Python 3",
   "language": "python",
   "name": "python3"
  },
  "language_info": {
   "codemirror_mode": {
    "name": "ipython",
    "version": 3
   },
   "file_extension": ".py",
   "mimetype": "text/x-python",
   "name": "python",
   "nbconvert_exporter": "python",
   "pygments_lexer": "ipython3",
   "version": "3.6.5"
  }
 },
 "nbformat": 4,
 "nbformat_minor": 2
}

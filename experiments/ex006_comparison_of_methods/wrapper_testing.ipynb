{
 "cells": [
  {
   "cell_type": "code",
   "execution_count": null,
   "metadata": {},
   "outputs": [],
   "source": [
    "%matplotlib inline\n",
    "import mpl_toolkits.mplot3d\n",
    "import matplotlib.pyplot as plt\n",
    "import matplotlib\n",
    "\n",
    "import numpy as np\n",
    "from numpy.linalg import cond, norm, inv\n",
    "\n",
    "from scipy.spatial import cKDTree\n",
    "import scipy.linalg as la\n",
    "import scipy.sparse as sp\n",
    "from scipy.sparse.linalg import spsolve, lsqr\n",
    "import scipy.sparse.linalg as spla\n",
    "from scipy.optimize import minimize_scalar\n",
    "from scipy.stats import linregress as linreg\n",
    "\n",
    "import pandas as pd\n",
    "\n",
    "import pickle\n",
    "import os.path\n",
    "\n",
    "import warnings\n",
    "warnings.simplefilter('ignore')\n",
    "\n",
    "from poly_basis import *\n",
    "from rbf import *"
   ]
  }
 ],
 "metadata": {
  "kernelspec": {
   "display_name": "Python 3",
   "language": "python",
   "name": "python3"
  },
  "language_info": {
   "codemirror_mode": {
    "name": "ipython",
    "version": 3
   },
   "file_extension": ".py",
   "mimetype": "text/x-python",
   "name": "python",
   "nbconvert_exporter": "python",
   "pygments_lexer": "ipython3",
   "version": "3.6.7"
  }
 },
 "nbformat": 4,
 "nbformat_minor": 2
}

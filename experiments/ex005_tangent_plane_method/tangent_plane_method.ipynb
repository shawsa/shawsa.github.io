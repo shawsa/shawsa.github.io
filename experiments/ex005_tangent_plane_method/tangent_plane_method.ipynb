{
 "cells": [
  {
   "cell_type": "code",
   "execution_count": 2,
   "metadata": {},
   "outputs": [],
   "source": [
    "%matplotlib notebook\n",
    "import numpy as np\n",
    "MEPS = np.finfo(float).eps\n",
    "import scipy.linalg as la\n",
    "import mpl_toolkits.mplot3d\n",
    "import matplotlib.pyplot as plt\n",
    "\n",
    "from scipy.spatial import cKDTree\n",
    "\n",
    "import scipy.sparse as sp\n",
    "from scipy.sparse.linalg import spsolve, lsqr\n",
    "\n",
    "from numpy.linalg import cond, norm, inv\n",
    "\n",
    "\n",
    "import pandas as pd\n",
    "\n",
    "import pickle\n",
    "import os.path\n",
    "\n",
    "import warnings\n",
    "warnings.simplefilter('ignore')\n",
    "\n",
    "from scipy.optimize import minimize_scalar\n",
    "\n",
    "from poly_basis import *\n",
    "from spherepts import *\n",
    "from rbf import *"
   ]
  },
  {
   "cell_type": "code",
   "execution_count": 142,
   "metadata": {},
   "outputs": [],
   "source": [
    "def dist_outer(nodes1, nodes2, W):\n",
    "    ret = [ [(n1-n2) @ W @ (n1-n2) for n1 in nodes1] for n2 in nodes2]\n",
    "    return np.sqrt(ret)"
   ]
  },
  {
   "cell_type": "code",
   "execution_count": 171,
   "metadata": {},
   "outputs": [
    {
     "name": "stdout",
     "output_type": "stream",
     "text": [
      "Harmonic degree: 4\n"
     ]
    }
   ],
   "source": [
    "# Choose RBF\n",
    "rbf_obj = rbf_dict['gaussian']\n",
    "zeta  = rbf_obj['zeta']\n",
    "d2rbf = rbf_obj['d2rbf']\n",
    "Lrbf = lambda r,eps: 2*zeta(r,eps) + d2rbf(r,eps)\n",
    "\n",
    "# Choose solution and forcing fuction\n",
    "solution_index = 20\n",
    "sol_deg = sphere_harm_degs[solution_index]\n",
    "foo = lambda x: sphere_harm[solution_index](*x)*sol_deg*(sol_deg+1)\n",
    "exact = lambda x: sphere_harm[solution_index](*x)\n",
    "print('Harmonic degree: %d' % sphere_harm_degs[solution_index])"
   ]
  },
  {
   "cell_type": "code",
   "execution_count": 172,
   "metadata": {},
   "outputs": [],
   "source": [
    "n = 200\n",
    "eps = 2\n",
    "k = 20\n",
    "\n",
    "nodes = gen_spiral_nodes(n)\n",
    "Ws = np.zeros((n, 3, 3))\n",
    "R = np.zeros((3, 3))\n",
    "e1, e2, e3 = np.eye(3)\n",
    "E = np.eye(3)\n",
    "E[2,2] = 0\n",
    "for i, node in enumerate(nodes):\n",
    "    t1 = e2 - np.dot(node, e2)*node\n",
    "    t1 /= la.norm(t1)\n",
    "    t2 = e3 - np.dot(node, e3)*node - np.dot(t1, e3)*t1\n",
    "    t2 /= la.norm(t2)\n",
    "    R[0] = t1\n",
    "    R[1] = t2\n",
    "    R[2] = node\n",
    "    Ws[i] = R.T @ E @ R"
   ]
  },
  {
   "cell_type": "markdown",
   "metadata": {},
   "source": [
    "# Tangent Plane Method"
   ]
  },
  {
   "cell_type": "code",
   "execution_count": 173,
   "metadata": {},
   "outputs": [],
   "source": [
    "my_node = n//3\n",
    "\n",
    "W = Ws[my_node]\n",
    "\n",
    "tree = cKDTree(np.array(nodes))\n",
    "stencil = tree.query(nodes[my_node], k)[1]\n",
    "nn = np.array([nodes[i] for i in stencil]) #nodes in the stencil\n",
    "\n",
    "A = rbf(dist_outer(nn, nn, W), eps)\n",
    "rhs = Lrbf(dist_outer(nn[0].reshape((1,3)), nn, W), eps)\n",
    "ws = la.solve(A, rhs.flatten())\n",
    "\n",
    "L_approx = np.dot(ws, [foo(n) for n in nn])\n",
    "L_actual = exact(nn[0])"
   ]
  },
  {
   "cell_type": "code",
   "execution_count": 174,
   "metadata": {},
   "outputs": [
    {
     "name": "stdout",
     "output_type": "stream",
     "text": [
      "-28.369006644203488\n",
      "0.07405577187500167\n",
      "-384.07624005441977\n"
     ]
    }
   ],
   "source": [
    "print(L_approx)\n",
    "print(L_actual)\n",
    "print((L_approx - L_actual)/L_actual)"
   ]
  },
  {
   "cell_type": "code",
   "execution_count": 162,
   "metadata": {},
   "outputs": [
    {
     "data": {
      "text/plain": [
       "array([[-93.06024999],\n",
       "       [ 26.0802739 ],\n",
       "       [ 25.94250877],\n",
       "       [ 25.11678854],\n",
       "       [ 22.68455274],\n",
       "       [  4.4265188 ],\n",
       "       [  3.22264584],\n",
       "       [  1.37876794],\n",
       "       [ -2.12475456],\n",
       "       [ -2.62071888],\n",
       "       [ -3.00391685],\n",
       "       [ -3.03666699],\n",
       "       [ -1.03341334],\n",
       "       [ -1.88310619],\n",
       "       [ -0.68724229],\n",
       "       [ -1.36375183],\n",
       "       [ -0.4636377 ],\n",
       "       [ -0.33004129],\n",
       "       [ -0.42796954],\n",
       "       [  0.6626804 ]])"
      ]
     },
     "execution_count": 162,
     "metadata": {},
     "output_type": "execute_result"
    }
   ],
   "source": [
    "ws"
   ]
  },
  {
   "cell_type": "code",
   "execution_count": null,
   "metadata": {},
   "outputs": [],
   "source": []
  }
 ],
 "metadata": {
  "kernelspec": {
   "display_name": "Python 3",
   "language": "python",
   "name": "python3"
  },
  "language_info": {
   "codemirror_mode": {
    "name": "ipython",
    "version": 3
   },
   "file_extension": ".py",
   "mimetype": "text/x-python",
   "name": "python",
   "nbconvert_exporter": "python",
   "pygments_lexer": "ipython3",
   "version": "3.6.6"
  }
 },
 "nbformat": 4,
 "nbformat_minor": 2
}

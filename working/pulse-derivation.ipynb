{
 "cells": [
  {
   "cell_type": "code",
   "execution_count": 1,
   "metadata": {
    "tags": []
   },
   "outputs": [],
   "source": [
    "%matplotlib inline\n",
    "import matplotlib.pyplot as plt\n",
    "import matplotlib.animation as animation\n",
    "from IPython.display import HTML\n",
    "\n",
    "import numpy as np\n",
    "import numpy.linalg as la\n",
    "from scipy.integrate import RK45\n",
    "\n",
    "import sympy as sym\n",
    "# Heaviside numerics workaround\n",
    "sympy_modules = [{'Heaviside': lambda x: np.heaviside(x,0.5)}, 'numpy']\n",
    "\n",
    "from table_maker import *\n",
    "from functools import partial, reduce\n",
    "from itertools import *\n",
    "from math import ceil\n",
    "\n",
    "import pickle\n",
    "\n",
    "def cos_bell(x, center=0, width=2*np.pi, height=1):\n",
    "    return (np.cos((x-center)/width*2*np.pi)+1)/2*height * np.heaviside(x-center+width/2,0) * np.heaviside(-x+center+width/2,0)\n",
    "\n",
    "import collections.abc\n",
    "def collect_eqn(expr, terms):\n",
    "    if not isinstance(terms, collections.abc.Container):\n",
    "        term = terms # isn't a list or tuple\n",
    "        left, right = 0,0\n",
    "        for my_expr in expr.args:\n",
    "            has_term = False\n",
    "            for my_term in sym.postorder_traversal(my_expr):\n",
    "                if term == my_term:\n",
    "                    has_term = True\n",
    "                    break\n",
    "            if has_term:\n",
    "                left += my_expr\n",
    "            else:\n",
    "                right -= my_expr\n",
    "        return sym.Eq(left, right, evaluate=False)\n",
    "    else: # isn't a list or tuple\n",
    "        left_total, right_total = 0, expr\n",
    "        for term in terms:\n",
    "            left, right = collect_eqn(right_total, term).args\n",
    "            left_total += left\n",
    "            right_total = -right\n",
    "        return sym.Eq(left_total, right_total, evaluate=False)\n",
    "    \n",
    "def my_print(expr):\n",
    "    global eviron_print_tex\n",
    "    if eviron_print_tex:\n",
    "        print('$$' + sym.latex(expr) + '$$')\n",
    "    else:\n",
    "        display(expr)\n",
    "        \n",
    "def batch_print(expr_list, punctuation='.', return_string=False):\n",
    "    global eviron_print_tex\n",
    "    if eviron_print_tex:\n",
    "        print_str = '$$\\\\begin{align*}\\n'\n",
    "        for expr in expr_list:\n",
    "            print_str += '\\t' + sym.latex(expr).replace('=','&=') + '\\\\\\\\\\n'\n",
    "        # remove last new-line and add ending puncuation\n",
    "        print_str = print_str[:-3] + punctuation + '\\n'\n",
    "        print_str += '\\\\end{align*}$$'\n",
    "        if return_string:\n",
    "            return print_str\n",
    "        else:\n",
    "            print(print_str)\n",
    "    else:\n",
    "        for expr in expr_list:\n",
    "            display(expr)\n",
    "            \n",
    "def py_code(expr, replace_numpy=True, replace_unicode=True, numpy_package='np.'):\n",
    "    code = sym.ccode(expr)\n",
    "    \n",
    "    if replace_unicode:\n",
    "        unicode_replacements = [\n",
    "            ('\\\\alpha', 'α'),\n",
    "            ('\\\\beta', 'β'),\n",
    "            ('\\\\gamma', 'γ'),\n",
    "            ('\\\\Gamma', 'Γ'),\n",
    "            ('\\\\delta', 'δ'),\n",
    "            ('\\\\Delta', 'Δ'),\n",
    "            ('\\\\epsilon', 'ϵ'),\n",
    "            ('\\\\zeta', 'ζ'),\n",
    "            ('\\\\eta', 'η'),\n",
    "            ('\\\\theta', 'θ'),\n",
    "            ('\\\\xi', 'ξ'),\n",
    "            ('\\\\mu', 'μ')\n",
    "        ]\n",
    "        for unicode, symbol in unicode_replacements:\n",
    "            code = code.replace(unicode, symbol)\n",
    "    \n",
    "    if replace_numpy:\n",
    "        numpy_replacements = [\n",
    "            ('exp', numpy_package + 'exp'),\n",
    "            ('log', numpy_package + 'log'),\n",
    "            ('pow', '( lambda base, exponent: base**exponent )'),\n",
    "            ('Heaviside', '(lambda input: np.heaviside(input,0.5))')\n",
    "        ]\n",
    "        for c_func, np_func in numpy_replacements:\n",
    "            code = code.replace(c_func, np_func)\n",
    "        \n",
    "    return code"
   ]
  },
  {
   "cell_type": "code",
   "execution_count": 2,
   "metadata": {
    "jupyter": {
     "source_hidden": true
    },
    "tags": []
   },
   "outputs": [],
   "source": [
    "import matplotlib\n",
    "matplotlib.rcParams.update({'font.size': 24})"
   ]
  },
  {
   "cell_type": "markdown",
   "metadata": {
    "tags": []
   },
   "source": [
    "From [Kilpatrick and Bressloff 2010](https://doi.org/10.1016/j.physd.2009.06.003)\n",
    "$$\\begin{align*}\n",
    "    \\mu u_t &= -u + \\int_{-\\infty}^\\infty w(x,x^\\prime) q(x^\\prime,t) f( u(x^\\prime,t) - a(x^\\prime,t)) \\ dx^\\prime \\\\\n",
    "    q_t &= \\frac{1 - q}{\\alpha} - \\beta q f(u - a) \\\\\n",
    "    \\epsilon a_t &= -a + \\gamma f(u - a)\n",
    "\\end{align*}$$"
   ]
  },
  {
   "cell_type": "markdown",
   "metadata": {},
   "source": [
    "Modified version - remove synaptic depression $q$\n",
    "$$\\begin{align*}\n",
    "    \\mu u_t &= -u + \\int_{-\\infty}^\\infty w(x,x^\\prime) f( u(x^\\prime,t) - a(x^\\prime,t)) \\ dx^\\prime \\\\\n",
    "    \\alpha a_t &= -a + \\gamma f(u - a)\n",
    "\\end{align*}$$\n",
    "(note that parameters have been relabeled)"
   ]
  },
  {
   "cell_type": "code",
   "execution_count": 3,
   "metadata": {
    "tags": []
   },
   "outputs": [
    {
     "name": "stdout",
     "output_type": "stream",
     "text": [
      "Our problem reduces to solving\n"
     ]
    },
    {
     "data": {
      "text/latex": [
       "$\\displaystyle 0 = \\mu c \\frac{d}{d \\xi} U{\\left(\\xi \\right)} + \\frac{\\left(1 - e^{- \\Delta}\\right) e^{- \\xi} \\theta\\left(\\xi\\right)}{4} + \\frac{\\left(e^{\\Delta} - 1\\right) e^{\\xi} \\theta\\left(- \\Delta - \\xi\\right)}{4} + \\frac{\\left(- \\frac{e^{\\xi}}{2} + 1 - \\frac{e^{- \\Delta} e^{- \\xi}}{2}\\right) \\theta\\left(- \\xi\\right) \\theta\\left(\\Delta + \\xi\\right)}{2} - U{\\left(\\xi \\right)}$"
      ],
      "text/plain": [
       "Eq(0, \\mu*c*Derivative(U(\\xi), \\xi) + (1 - exp(-\\Delta))*exp(-\\xi)*Heaviside(\\xi)/4 + (exp(\\Delta) - 1)*exp(\\xi)*Heaviside(-\\Delta - \\xi)/4 + (-exp(\\xi)/2 + 1 - exp(-\\Delta)*exp(-\\xi)/2)*Heaviside(-\\xi)*Heaviside(\\Delta + \\xi)/2 - U(\\xi))"
      ]
     },
     "metadata": {},
     "output_type": "display_data"
    },
    {
     "data": {
      "text/latex": [
       "$\\displaystyle 0 = \\alpha c \\frac{d}{d \\xi} A{\\left(\\xi \\right)} + \\gamma \\left(- \\theta\\left(\\xi\\right) + \\theta\\left(\\Delta + \\xi\\right)\\right) - A{\\left(\\xi \\right)}$"
      ],
      "text/plain": [
       "Eq(0, \\alpha*c*Derivative(A(\\xi), \\xi) + \\gamma*(-Heaviside(\\xi) + Heaviside(\\Delta + \\xi)) - A(\\xi))"
      ]
     },
     "metadata": {},
     "output_type": "display_data"
    },
    {
     "name": "stdout",
     "output_type": "stream",
     "text": [
      "We will first find $A$. The homogeneous solution is given by\n"
     ]
    },
    {
     "data": {
      "text/latex": [
       "$\\displaystyle A{\\left(\\xi \\right)} = e^{\\frac{C_{1}}{\\alpha c}} e^{\\frac{\\xi}{\\alpha c}}$"
      ],
      "text/plain": [
       "Eq(A(\\xi), exp(C1/(\\alpha*c))*exp(\\xi/(\\alpha*c)))"
      ]
     },
     "metadata": {},
     "output_type": "display_data"
    },
    {
     "name": "stdout",
     "output_type": "stream",
     "text": [
      "From this, and our right-boundary condition, we see that $A(\\xi) = 0$ for $\\xi > 0$.\n",
      "Solving for $A$ in $-\\Delta < \\xi < 0$ with this boundary condition $A(0)=0$ we have\n"
     ]
    },
    {
     "data": {
      "text/latex": [
       "$\\displaystyle A{\\left(\\xi \\right)} = \\gamma \\left(1 - e^{\\frac{\\xi}{\\alpha c}}\\right)$"
      ],
      "text/plain": [
       "Eq(A(\\xi), \\gamma*(1 - exp(\\xi/(\\alpha*c))))"
      ]
     },
     "metadata": {},
     "output_type": "display_data"
    },
    {
     "name": "stdout",
     "output_type": "stream",
     "text": [
      "Then we use this new boundary condition for $A(-\\Delta)$ and the homogeneous solution to find $A(\\xi)$ for $\\xi < -\\Delta$\n"
     ]
    },
    {
     "data": {
      "text/latex": [
       "$\\displaystyle A{\\left(\\xi \\right)} = \\gamma \\left(e^{\\frac{\\Delta}{\\alpha c}} - 1\\right) e^{\\frac{\\xi}{\\alpha c}}$"
      ],
      "text/plain": [
       "Eq(A(\\xi), \\gamma*(exp(\\Delta/(\\alpha*c)) - 1)*exp(\\xi/(\\alpha*c)))"
      ]
     },
     "metadata": {},
     "output_type": "display_data"
    },
    {
     "name": "stdout",
     "output_type": "stream",
     "text": [
      "Thus\n"
     ]
    },
    {
     "data": {
      "text/latex": [
       "$\\displaystyle A{\\left(\\xi \\right)} = \\begin{cases} \\gamma \\left(e^{\\frac{\\Delta}{\\alpha c}} - 1\\right) e^{\\frac{\\xi}{\\alpha c}} & \\text{for}\\: \\Delta < - \\xi \\\\\\gamma \\left(1 - e^{\\frac{\\xi}{\\alpha c}}\\right) & \\text{for}\\: \\xi < 0 \\\\0 & \\text{otherwise} \\end{cases}$"
      ],
      "text/plain": [
       "Eq(A(\\xi), Piecewise((\\gamma*(exp(\\Delta/(\\alpha*c)) - 1)*exp(\\xi/(\\alpha*c)), \\Delta < -\\xi), (\\gamma*(1 - exp(\\xi/(\\alpha*c))), \\xi < 0), (0, True)))"
      ]
     },
     "metadata": {},
     "output_type": "display_data"
    },
    {
     "name": "stdout",
     "output_type": "stream",
     "text": [
      "We next solve for $U$ on the right domain.\n",
      "We seek a solution to\n"
     ]
    },
    {
     "data": {
      "text/latex": [
       "$\\displaystyle 0 = \\mu c \\frac{d}{d \\xi} U{\\left(\\xi \\right)} + \\frac{\\left(1 - e^{- \\Delta}\\right) e^{- \\xi}}{2} - U{\\left(\\xi \\right)}$"
      ],
      "text/plain": [
       "Eq(0, \\mu*c*Derivative(U(\\xi), \\xi) + (1 - exp(-\\Delta))*exp(-\\xi)/2 - U(\\xi))"
      ]
     },
     "metadata": {},
     "output_type": "display_data"
    },
    {
     "data": {
      "text/latex": [
       "$\\displaystyle U{\\left(0 \\right)} = \\theta$"
      ],
      "text/plain": [
       "Eq(U(0), \\theta)"
      ]
     },
     "metadata": {},
     "output_type": "display_data"
    },
    {
     "name": "stdout",
     "output_type": "stream",
     "text": [
      "Solving, we find\n"
     ]
    },
    {
     "data": {
      "text/latex": [
       "$\\displaystyle U{\\left(\\xi \\right)} = \\frac{e^{\\Delta}}{2 \\mu c e^{\\Delta} e^{\\xi} + 2 e^{\\Delta} e^{\\xi}} - \\frac{1}{2 \\mu c e^{\\Delta} e^{\\xi} + 2 e^{\\Delta} e^{\\xi}} + \\frac{\\left(\\mu \\theta c e^{\\Delta} + \\theta e^{\\Delta} - \\frac{e^{\\Delta}}{2} + \\frac{1}{2}\\right) e^{- \\Delta} e^{\\frac{\\xi}{\\mu c}}}{\\mu c + 1}$"
      ],
      "text/plain": [
       "Eq(U(\\xi), exp(\\Delta)/(2*\\mu*c*exp(\\Delta)*exp(\\xi) + 2*exp(\\Delta)*exp(\\xi)) - 1/(2*\\mu*c*exp(\\Delta)*exp(\\xi) + 2*exp(\\Delta)*exp(\\xi)) + (\\mu*\\theta*c*exp(\\Delta) + \\theta*exp(\\Delta) - exp(\\Delta)/2 + 1/2)*exp(-\\Delta)*exp(\\xi/(\\mu*c))/(\\mu*c + 1))"
      ]
     },
     "metadata": {},
     "output_type": "display_data"
    },
    {
     "name": "stdout",
     "output_type": "stream",
     "text": [
      "On the middle domain, we seek a solution to\n"
     ]
    },
    {
     "data": {
      "text/latex": [
       "$\\displaystyle 0 = \\mu c \\frac{d}{d \\xi} U{\\left(\\xi \\right)} - U{\\left(\\xi \\right)} - \\frac{e^{\\xi}}{2} + 1 - \\frac{e^{- \\Delta} e^{- \\xi}}{2}$"
      ],
      "text/plain": [
       "Eq(0, \\mu*c*Derivative(U(\\xi), \\xi) - U(\\xi) - exp(\\xi)/2 + 1 - exp(-\\Delta)*exp(-\\xi)/2)"
      ]
     },
     "metadata": {},
     "output_type": "display_data"
    },
    {
     "data": {
      "text/latex": [
       "$\\displaystyle U{\\left(0 \\right)} = \\theta$"
      ],
      "text/plain": [
       "Eq(U(0), \\theta)"
      ]
     },
     "metadata": {},
     "output_type": "display_data"
    },
    {
     "name": "stdout",
     "output_type": "stream",
     "text": [
      "Solving, we find\n"
     ]
    },
    {
     "data": {
      "text/latex": [
       "$\\displaystyle U{\\left(\\xi \\right)} = 1 - \\frac{1}{2 \\mu c e^{\\Delta} e^{\\xi} + 2 e^{\\Delta} e^{\\xi}} + \\frac{\\left(2 \\mu^{2} \\theta c^{2} e^{\\Delta} - 2 \\mu^{2} c^{2} e^{\\Delta} - \\mu c e^{\\Delta} + \\mu c - 2 \\theta e^{\\Delta} + e^{\\Delta} - 1\\right) e^{- \\Delta} e^{\\frac{\\xi}{\\mu c}}}{2 \\left(\\mu^{2} c^{2} - 1\\right)} + \\frac{e^{\\xi}}{2 \\mu c - 2}$"
      ],
      "text/plain": [
       "Eq(U(\\xi), 1 - 1/(2*\\mu*c*exp(\\Delta)*exp(\\xi) + 2*exp(\\Delta)*exp(\\xi)) + (2*\\mu**2*\\theta*c**2*exp(\\Delta) - 2*\\mu**2*c**2*exp(\\Delta) - \\mu*c*exp(\\Delta) + \\mu*c - 2*\\theta*exp(\\Delta) + exp(\\Delta) - 1)*exp(-\\Delta)*exp(\\xi/(\\mu*c))/(2*(\\mu**2*c**2 - 1)) + exp(\\xi)/(2*\\mu*c - 2))"
      ]
     },
     "metadata": {},
     "output_type": "display_data"
    },
    {
     "name": "stdout",
     "output_type": "stream",
     "text": [
      "On the left domain, we seek a solution to\n"
     ]
    },
    {
     "data": {
      "text/latex": [
       "$\\displaystyle 0 = \\mu c \\frac{d}{d \\xi} U{\\left(\\xi \\right)} + \\frac{\\left(e^{\\Delta} - 1\\right) e^{\\xi}}{2} - U{\\left(\\xi \\right)}$"
      ],
      "text/plain": [
       "Eq(0, \\mu*c*Derivative(U(\\xi), \\xi) + (exp(\\Delta) - 1)*exp(\\xi)/2 - U(\\xi))"
      ]
     },
     "metadata": {},
     "output_type": "display_data"
    },
    {
     "data": {
      "text/latex": [
       "$\\displaystyle U{\\left(- \\Delta \\right)} = 1 + \\frac{\\left(2 \\mu^{2} \\theta c^{2} e^{\\Delta} - 2 \\mu^{2} c^{2} e^{\\Delta} - \\mu c e^{\\Delta} + \\mu c - 2 \\theta e^{\\Delta} + e^{\\Delta} - 1\\right) e^{- \\Delta} e^{- \\frac{\\Delta}{\\mu c}}}{2 \\left(\\mu^{2} c^{2} - 1\\right)} - \\frac{1}{2 \\mu c + 2} + \\frac{e^{- \\Delta}}{2 \\mu c - 2}$"
      ],
      "text/plain": [
       "Eq(U(-\\Delta), 1 + (2*\\mu**2*\\theta*c**2*exp(\\Delta) - 2*\\mu**2*c**2*exp(\\Delta) - \\mu*c*exp(\\Delta) + \\mu*c - 2*\\theta*exp(\\Delta) + exp(\\Delta) - 1)*exp(-\\Delta)*exp(-\\Delta/(\\mu*c))/(2*(\\mu**2*c**2 - 1)) - 1/(2*\\mu*c + 2) + exp(-\\Delta)/(2*\\mu*c - 2))"
      ]
     },
     "metadata": {},
     "output_type": "display_data"
    },
    {
     "name": "stdout",
     "output_type": "stream",
     "text": [
      "Solving, we find\n"
     ]
    },
    {
     "data": {
      "text/latex": [
       "$\\displaystyle U{\\left(\\xi \\right)} = \\frac{\\left(\\mu^{2} \\theta c^{2} e^{\\Delta} - \\mu^{2} c^{2} e^{\\Delta} + \\mu^{2} c^{2} e^{\\Delta + \\frac{\\Delta}{\\mu c}} - \\frac{\\mu c e^{\\Delta}}{2} + \\frac{\\mu c}{2} - \\theta e^{\\Delta} + \\frac{e^{\\Delta}}{2} - \\frac{1}{2}\\right) e^{- \\Delta} e^{\\frac{\\xi}{\\mu c}}}{\\mu^{2} c^{2} - 1} - \\frac{e^{\\Delta} e^{\\xi}}{2 \\mu c - 2} + \\frac{e^{\\xi}}{2 \\mu c - 2}$"
      ],
      "text/plain": [
       "Eq(U(\\xi), (\\mu**2*\\theta*c**2*exp(\\Delta) - \\mu**2*c**2*exp(\\Delta) + \\mu**2*c**2*exp(\\Delta + \\Delta/(\\mu*c)) - \\mu*c*exp(\\Delta)/2 + \\mu*c/2 - \\theta*exp(\\Delta) + exp(\\Delta)/2 - 1/2)*exp(-\\Delta)*exp(\\xi/(\\mu*c))/(\\mu**2*c**2 - 1) - exp(\\Delta)*exp(\\xi)/(2*\\mu*c - 2) + exp(\\xi)/(2*\\mu*c - 2))"
      ]
     },
     "metadata": {},
     "output_type": "display_data"
    },
    {
     "name": "stdout",
     "output_type": "stream",
     "text": [
      "Imposing the conditions $\\lim\\limits_{\\xi \\to \\infty} (U-A)(\\xi) = 0$ and $(U-A)(-\\Delta)=\\tau$ we have\n"
     ]
    },
    {
     "data": {
      "text/latex": [
       "$\\displaystyle 0 = \\left(2 \\theta \\left(\\mu c + 1\\right) - 1\\right) e^{\\Delta} + 1$"
      ],
      "text/plain": [
       "Eq(0, (2*\\theta*(\\mu*c + 1) - 1)*exp(\\Delta) + 1)"
      ]
     },
     "metadata": {},
     "output_type": "display_data"
    },
    {
     "data": {
      "text/latex": [
       "$\\displaystyle 0 = - \\gamma \\left(1 - e^{- \\frac{\\Delta}{\\alpha c}}\\right) - \\theta + \\left(\\theta - \\frac{\\mu^{2} c^{2} + \\frac{\\mu c}{2} - \\left(\\frac{\\mu c}{2} - \\frac{1}{2}\\right) e^{- \\Delta} - \\frac{1}{2}}{\\mu^{2} c^{2} - 1}\\right) e^{- \\frac{\\Delta}{\\mu c}} + 1 - \\frac{1}{2 \\left(\\mu c + 1\\right)} + \\frac{e^{- \\Delta}}{2 \\left(\\mu c - 1\\right)}$"
      ],
      "text/plain": [
       "Eq(0, -\\gamma*(1 - exp(-\\Delta/(\\alpha*c))) - \\theta + (\\theta - (\\mu**2*c**2 + \\mu*c/2 - (\\mu*c/2 - 1/2)*exp(-\\Delta) - 1/2)/(\\mu**2*c**2 - 1))*exp(-\\Delta/(\\mu*c)) + 1 - 1/(2*(\\mu*c + 1)) + exp(-\\Delta)/(2*(\\mu*c - 1)))"
      ]
     },
     "metadata": {},
     "output_type": "display_data"
    },
    {
     "name": "stdout",
     "output_type": "stream",
     "text": [
      "All together this becomes\n"
     ]
    },
    {
     "data": {
      "text/latex": [
       "$\\displaystyle U{\\left(\\xi \\right)} = \\begin{cases} \\frac{\\left(- \\frac{e^{\\Delta}}{\\mu c - 1} + \\frac{1}{\\mu c - 1}\\right) e^{\\xi}}{2} + \\frac{\\left(\\mu^{2} c^{2} e^{\\frac{\\Delta}{\\mu c}} - \\mu^{2} c^{2} - \\frac{\\mu c}{2} + \\theta \\left(\\mu^{2} c^{2} - 1\\right) + \\frac{\\left(\\mu c - 1\\right) e^{- \\Delta}}{2} + \\frac{1}{2}\\right) e^{\\frac{\\xi}{\\mu c}}}{\\mu^{2} c^{2} - 1} & \\text{for}\\: \\Delta < - \\xi \\\\\\left(\\theta + \\frac{- \\mu^{2} c^{2} - \\frac{\\mu c}{2} + \\left(\\frac{\\mu c}{2} - \\frac{1}{2}\\right) e^{- \\Delta} + \\frac{1}{2}}{\\mu^{2} c^{2} - 1}\\right) e^{\\frac{\\xi}{\\mu c}} + 1 - \\frac{e^{- \\Delta} e^{- \\xi}}{2 \\left(\\mu c + 1\\right)} + \\frac{e^{\\xi}}{2 \\left(\\mu c - 1\\right)} & \\text{for}\\: \\xi < 0 \\\\\\frac{\\left(1 - e^{- \\Delta}\\right) e^{- \\xi}}{2 \\left(\\mu c + 1\\right)} & \\text{otherwise} \\end{cases}$"
      ],
      "text/plain": [
       "Eq(U(\\xi), Piecewise(((-exp(\\Delta)/(\\mu*c - 1) + 1/(\\mu*c - 1))*exp(\\xi)/2 + (\\mu**2*c**2*exp(\\Delta/(\\mu*c)) - \\mu**2*c**2 - \\mu*c/2 + \\theta*(\\mu**2*c**2 - 1) + (\\mu*c - 1)*exp(-\\Delta)/2 + 1/2)*exp(\\xi/(\\mu*c))/(\\mu**2*c**2 - 1), \\Delta < -\\xi), ((\\theta + (-\\mu**2*c**2 - \\mu*c/2 + (\\mu*c/2 - 1/2)*exp(-\\Delta) + 1/2)/(\\mu**2*c**2 - 1))*exp(\\xi/(\\mu*c)) + 1 - exp(-\\Delta)*exp(-\\xi)/(2*(\\mu*c + 1)) + exp(\\xi)/(2*(\\mu*c - 1)), \\xi < 0), ((1 - exp(-\\Delta))*exp(-\\xi)/(2*(\\mu*c + 1)), True)))"
      ]
     },
     "metadata": {},
     "output_type": "display_data"
    },
    {
     "data": {
      "text/latex": [
       "$\\displaystyle A{\\left(\\xi \\right)} = \\begin{cases} \\gamma \\left(e^{\\frac{\\Delta}{\\alpha c}} - 1\\right) e^{\\frac{\\xi}{\\alpha c}} & \\text{for}\\: \\Delta < - \\xi \\\\\\gamma \\left(1 - e^{\\frac{\\xi}{\\alpha c}}\\right) & \\text{for}\\: \\xi < 0 \\\\0 & \\text{otherwise} \\end{cases}$"
      ],
      "text/plain": [
       "Eq(A(\\xi), Piecewise((\\gamma*(exp(\\Delta/(\\alpha*c)) - 1)*exp(\\xi/(\\alpha*c)), \\Delta < -\\xi), (\\gamma*(1 - exp(\\xi/(\\alpha*c))), \\xi < 0), (0, True)))"
      ]
     },
     "metadata": {},
     "output_type": "display_data"
    }
   ],
   "source": [
    "eviron_print_tex = False\n",
    "\n",
    "μ, α, γ, τ, c, Δ = sym.symbols('\\\\mu \\\\alpha \\\\gamma, \\\\theta, c \\\\Delta', real=True, positive = True)\n",
    "with open('profile.pickle', 'rb') as f:\n",
    "    xs, Us, As, param_list = pickle.load(f)\n",
    "    params = [μ, α,  γ,  τ, Δ, c]\n",
    "    param_dict = {key:val for key,val in zip(params, param_list)}\n",
    "\n",
    "x, xp, t, ξ, ξp = sym.symbols('x x^\\\\prime t \\\\xi \\\\xi^\\\\prime', real=True)\n",
    "u = sym.Function('u', real=True)(x,t)\n",
    "a = sym.Function('a', real=True)(x,t)\n",
    "U = sym.Function('U', real=True)(ξ)\n",
    "A = sym.Function('A', real=True)(ξ)\n",
    "\n",
    "Fright = (1-sym.exp(-Δ))*sym.exp(-ξ)/2\n",
    "Fmid = (2 - sym.exp(ξ) - sym.exp(-ξ-Δ)).collect(sym.exp(ξ))/2\n",
    "Fleft = (sym.exp(ξ+Δ) - sym.exp(ξ)).collect(sym.exp(ξ))/2\n",
    "F = (Fright*sym.Heaviside(ξ) + Fmid*sym.Heaviside(ξ+Δ)*sym.Heaviside(-ξ) + Fleft*sym.Heaviside(-ξ-Δ))/2\n",
    "G =  γ*( sym.Heaviside(ξ+Δ) - sym.Heaviside(ξ) )\n",
    "\n",
    "\n",
    "LU = lambda f: μ*c*f.diff(ξ) - f\n",
    "LA = lambda f: α*c*f.diff(ξ) - f\n",
    "\n",
    "print('Our problem reduces to solving')\n",
    "H = sym.symbols('H')\n",
    "batch_print([sym.Eq(0,LU(U)+F).subs(sym.Heaviside, H), sym.Eq(0, LA(A) + G).subs(sym.Heaviside, H)])\n",
    "\n",
    "##########################################################\n",
    "#\n",
    "# A homogeneous \n",
    "#\n",
    "##########################################################\n",
    "\n",
    "print('We will first find $A$. The homogeneous solution is given by')\n",
    "Ahom = sym.dsolve(LA(A), A).args[1].expand()\n",
    "C1 = sym.symbols('C1')\n",
    "batch_print([sym.Eq(A, Ahom)])\n",
    "\n",
    "##########################################################\n",
    "#\n",
    "# A right = 0 \n",
    "#\n",
    "##########################################################\n",
    "print('From this, and our right-boundary condition, we see that $A(\\\\xi) = 0$ for $\\\\xi > 0$.')\n",
    "Aright = 0\n",
    "\n",
    "##########################################################\n",
    "#\n",
    "# A middle \n",
    "#\n",
    "##########################################################\n",
    "Gmid = γ\n",
    "Amid = sym.dsolve(LA(A) + Gmid, ics={A.subs(ξ,0):0}).args[1].expand().collect(γ)\n",
    "print('Solving for $A$ in $-\\\\Delta < \\\\xi < 0$ with this boundary condition $A(0)=0$ we have')\n",
    "batch_print([ sym.Eq(A, Amid) ])\n",
    "\n",
    "##########################################################\n",
    "#\n",
    "# A left \n",
    "#\n",
    "##########################################################\n",
    "C1exp = sym.solve(Ahom.subs(ξ, -Δ) - Amid.subs(ξ,-Δ), sym.exp(C1/α/c))[0]\n",
    "Aleft = Ahom.subs(sym.exp(C1/α/c), C1exp)\n",
    "print('Then we use this new boundary condition for $A(-\\\\Delta)$ and the homogeneous solution to find $A(\\\\xi)$ for $\\\\xi < -\\\\Delta$')\n",
    "batch_print([sym.Eq(A, Aleft)])\n",
    "\n",
    "##########################################################\n",
    "#\n",
    "# Combine to get A\n",
    "#\n",
    "##########################################################\n",
    "Asub = sym.Piecewise( (Aleft, ξ<-Δ), (Amid, ξ<0), (Aright, True))\n",
    "print('Thus')\n",
    "batch_print([sym.Eq(A, Asub)])\n",
    "\n",
    "##########################################################\n",
    "#\n",
    "# Find Uright \n",
    "#\n",
    "##########################################################\n",
    "print('We next solve for $U$ on the right domain.')\n",
    "print('We seek a solution to')\n",
    "batch_print([sym.Eq(0, LU(U)+Fright), sym.Eq(U.subs(ξ,0), τ)])\n",
    "Uhom = sym.dsolve(LU(U), U).args[1]\n",
    "assert LU(Uhom).simplify() == 0\n",
    "temp = sym.symbols('T_{emp}')\n",
    "form = sym.exp(-ξ)\n",
    "temp_sub = sym.solve( LU(temp*form)+Fright, temp )[0]\n",
    "Upar = temp_sub*form\n",
    "assert (LU(Upar)+Fright).simplify() == 0\n",
    "Uright = Uhom + Upar\n",
    "assert (LU(Uright)+Fright).simplify() == 0\n",
    "C1 = sym.symbols('C1')\n",
    "C1exp_sub = sym.solve(Uright.subs(ξ, 0).expand()-τ, sym.exp(C1/μ/c))[0]\n",
    "Uright = Uright.expand().subs(sym.exp(C1/μ/c), C1exp_sub)\n",
    "assert (LU(Uright)+Fright).simplify() == 0\n",
    "assert (Uright.subs(ξ,0) - τ).simplify() == 0\n",
    "print('Solving, we find')\n",
    "batch_print([sym.Eq(U, Uright)])\n",
    "##########################################################\n",
    "#\n",
    "# Find Umid \n",
    "#\n",
    "##########################################################\n",
    "print('On the middle domain, we seek a solution to')\n",
    "batch_print([sym.Eq(0, LU(U)+Fmid), sym.Eq(U.subs(ξ,0), τ)])\n",
    "temp1, temp2, temp3 = sym.symbols('T1 T2 T3')\n",
    "form1, form2, form3 = 1, sym.exp(-ξ), sym.exp(ξ)\n",
    "ansatz = temp1*form1 + temp2*form2 + temp3*form3\n",
    "Lansatz = LU(ansatz).expand().collect(sym.exp(ξ))\n",
    "temp1_sub = sym.solve( Lansatz.subs(temp2, 0).subs(temp3, 0) - [term for term in Fmid.args if 'exp' not in str(term)][0], temp1 )[0]\n",
    "temp2_sub = sym.solve(  Lansatz.coeff(sym.exp(-ξ)) - Fmid.coeff(sym.exp(-ξ)), temp2)[0]\n",
    "temp3_sub = sym.solve(  Lansatz.coeff(sym.exp(ξ)) - Fmid.coeff(sym.exp(ξ)), temp3)[0]\n",
    "Upar = -temp1_sub*form1 - temp2_sub*form2 - temp3_sub*form3\n",
    "assert (LU(Upar) + Fmid).simplify() == 0\n",
    "Umid = Uhom + Upar\n",
    "C1exp_sub = sym.solve(Umid.subs(ξ, 0).expand()-τ, sym.exp(C1/μ/c))[0]\n",
    "Umid = Umid.expand().subs(sym.exp(C1/μ/c), C1exp_sub)\n",
    "assert (LU(Umid)+Fmid).simplify() == 0\n",
    "assert (Umid.subs(ξ,0) - τ).simplify() == 0\n",
    "print('Solving, we find')\n",
    "batch_print([sym.Eq(U, Umid)])\n",
    "\n",
    "##########################################################\n",
    "#\n",
    "# Find Uleft \n",
    "#\n",
    "##########################################################\n",
    "print('On the left domain, we seek a solution to')\n",
    "batch_print([sym.Eq(0, LU(U)+Fleft), sym.Eq(U.subs(ξ,-Δ), Umid.subs(ξ,-Δ))])\n",
    "form = sym.exp(ξ)\n",
    "ansatz = LU(temp*form).collect(form)\n",
    "temp_sub = sym.solve( ansatz.coeff(form) - Fleft.coeff(form), temp )[0]\n",
    "Upar = -temp_sub * form\n",
    "assert (  LU(Upar) + Fleft ).simplify() == 0\n",
    "Uleft = Uhom + Upar\n",
    "C1exp_sub = sym.solve( Uleft.subs(ξ,-Δ).expand() - Umid.subs(ξ,-Δ).expand(), sym.exp(C1/μ/c))[0]\n",
    "Uleft = Uleft.expand().subs(sym.exp(C1/μ/c), C1exp_sub)\n",
    "assert (  LU(Uleft) + Fleft ).simplify() == 0\n",
    "assert ( Uleft.subs(ξ,-Δ) - Umid.subs(ξ,-Δ) ).simplify() == 0\n",
    "print('Solving, we find')\n",
    "batch_print([sym.Eq(U, Uleft)])\n",
    "##########################################################\n",
    "#\n",
    "# Simplify\n",
    "#\n",
    "##########################################################\n",
    "Uleft = Uleft.expand().collect(sym.exp(ξ)).collect(sym.exp(ξ/μ/c)).collect(sym.exp(Δ)).collect(τ).collect(1/(μ*c-1)).collect(1/(μ**2*c**2-1))\n",
    "Uleft = Uleft.collect(1/(2*μ**2*c**2-2)).collect(2).collect(1/(μ**2*c**2-1))\n",
    "#Umid = Umid.expand().collect(sym.exp(ξ)).collect(sym.exp(ξ/μ/c)).collect(τ).collect(2).collect(sym.exp(Δ)).collect(1/(μ**2*c**2-1))\n",
    "test = sum([arg.simplify() for arg in Umid.expand().collect(τ).args])\n",
    "test = test.collect(sym.exp(ξ/μ/c)).collect(sym.exp(ξ)).collect(2).collect(μ**2*c**2 - 1).collect(sym.exp(Δ)).collect(sym.exp(ξ))\n",
    "assert (Umid - test).simplify() == 0\n",
    "Umid = test\n",
    "Uright = Uright.collect(sym.exp(ξ)).collect(sym.exp(ξ/μ/c)).collect(sym.exp(Δ)).collect(τ).collect(2).collect(1/(μ*c+1))\n",
    "# display(Uleft)\n",
    "# display(Umid)\n",
    "# display(Uright)\n",
    "\n",
    "##########################################################\n",
    "#\n",
    "# get conditions \n",
    "#\n",
    "##########################################################\n",
    "\n",
    "cond1 = sym.limit(Uright, ξ, sym.oo).args[1].args[0].collect(sym.exp(Δ)).collect(τ).collect(2)\n",
    "cond2 = (Umid - Amid).subs(ξ, -Δ) - τ\n",
    "#cond2 = cond2.expand().collect(γ).collect(τ).collect(sym.exp(Δ/μ/c)).collect(sym.exp(Δ)).collect(2).collect(μ**2 * c**2 - 1)\n",
    "cond2 = cond2.simplify()\n",
    "\n",
    "cond1_sub = (cond1/2).expand().collect(τ).collect(sym.exp(Δ))\n",
    "Uright = Uright.subs( cond1_sub, 0 )\n",
    "\n",
    "print('Imposing the conditions $\\\\lim\\limits_{\\\\xi \\\\to \\infty} (U-A)(\\\\xi) = 0$ and $(U-A)(-\\\\Delta)=\\\\tau$ we have')\n",
    "batch_print([sym.Eq(0, cond1), sym.Eq(0, cond2)])\n",
    "\n",
    "Usub = sym.Piecewise( (Uleft, ξ<-Δ), (Umid, ξ<0), (Uright, True))\n",
    "print('All together this becomes')\n",
    "batch_print([sym.Eq(U, Usub), sym.Eq(A, Asub)])\n",
    "\n",
    "Δexp_sub = sym.solve(cond1, sym.exp(Δ))[0]\n",
    "cond2_c = cond2.subs(sym.exp(Δ), Δexp_sub).subs(sym.exp(Δ/μ/c), Δexp_sub**(1/μ/c)).subs(sym.exp(Δ/α/c), Δexp_sub**(1/α/c)).collect(τ).collect(2)"
   ]
  },
  {
   "cell_type": "code",
   "execution_count": 4,
   "metadata": {},
   "outputs": [
    {
     "name": "stdout",
     "output_type": "stream",
     "text": [
      "Ultimately this gives the traveling pulse solution\n"
     ]
    },
    {
     "data": {
      "text/latex": [
       "$\\displaystyle U{\\left(\\xi \\right)} = \\begin{cases} \\frac{\\left(- \\frac{e^{\\Delta}}{\\mu c - 1} + \\frac{1}{\\mu c - 1}\\right) e^{\\xi}}{2} + \\frac{\\left(\\mu^{2} c^{2} e^{\\frac{\\Delta}{\\mu c}} - \\mu^{2} c^{2} - \\frac{\\mu c}{2} + \\theta \\left(\\mu^{2} c^{2} - 1\\right) + \\frac{\\left(\\mu c - 1\\right) e^{- \\Delta}}{2} + \\frac{1}{2}\\right) e^{\\frac{\\xi}{\\mu c}}}{\\mu^{2} c^{2} - 1} & \\text{for}\\: \\Delta < - \\xi \\\\\\left(\\theta + \\frac{- \\mu^{2} c^{2} - \\frac{\\mu c}{2} + \\left(\\frac{\\mu c}{2} - \\frac{1}{2}\\right) e^{- \\Delta} + \\frac{1}{2}}{\\mu^{2} c^{2} - 1}\\right) e^{\\frac{\\xi}{\\mu c}} + 1 - \\frac{e^{- \\Delta} e^{- \\xi}}{2 \\left(\\mu c + 1\\right)} + \\frac{e^{\\xi}}{2 \\left(\\mu c - 1\\right)} & \\text{for}\\: \\xi < 0 \\\\\\frac{\\left(1 - e^{- \\Delta}\\right) e^{- \\xi}}{2 \\left(\\mu c + 1\\right)} & \\text{otherwise} \\end{cases}$"
      ],
      "text/plain": [
       "Eq(U(\\xi), Piecewise(((-exp(\\Delta)/(\\mu*c - 1) + 1/(\\mu*c - 1))*exp(\\xi)/2 + (\\mu**2*c**2*exp(\\Delta/(\\mu*c)) - \\mu**2*c**2 - \\mu*c/2 + \\theta*(\\mu**2*c**2 - 1) + (\\mu*c - 1)*exp(-\\Delta)/2 + 1/2)*exp(\\xi/(\\mu*c))/(\\mu**2*c**2 - 1), \\Delta < -\\xi), ((\\theta + (-\\mu**2*c**2 - \\mu*c/2 + (\\mu*c/2 - 1/2)*exp(-\\Delta) + 1/2)/(\\mu**2*c**2 - 1))*exp(\\xi/(\\mu*c)) + 1 - exp(-\\Delta)*exp(-\\xi)/(2*(\\mu*c + 1)) + exp(\\xi)/(2*(\\mu*c - 1)), \\xi < 0), ((1 - exp(-\\Delta))*exp(-\\xi)/(2*(\\mu*c + 1)), True)))"
      ]
     },
     "metadata": {},
     "output_type": "display_data"
    },
    {
     "data": {
      "text/latex": [
       "$\\displaystyle A{\\left(\\xi \\right)} = \\begin{cases} \\gamma \\left(e^{\\frac{\\Delta}{\\alpha c}} - 1\\right) e^{\\frac{- c t + x}{\\alpha c}} & \\text{for}\\: \\Delta < c t - x \\\\\\gamma \\left(1 - e^{\\frac{- c t + x}{\\alpha c}}\\right) & \\text{for}\\: c t - x > 0 \\\\0 & \\text{otherwise} \\end{cases}$"
      ],
      "text/plain": [
       "Eq(A(\\xi), Piecewise((\\gamma*(exp(\\Delta/(\\alpha*c)) - 1)*exp((-c*t + x)/(\\alpha*c)), \\Delta < c*t - x), (\\gamma*(1 - exp((-c*t + x)/(\\alpha*c))), c*t - x > 0), (0, True)))"
      ]
     },
     "metadata": {},
     "output_type": "display_data"
    },
    {
     "data": {
      "text/latex": [
       "$\\displaystyle \\xi = - c t + x$"
      ],
      "text/plain": [
       "Eq(\\xi, -c*t + x)"
      ]
     },
     "metadata": {},
     "output_type": "display_data"
    },
    {
     "data": {
      "text/latex": [
       "$\\displaystyle e^{\\Delta} = - \\frac{1}{2 \\theta \\left(\\mu c + 1\\right) - 1}$"
      ],
      "text/plain": [
       "Eq(exp(\\Delta), -1/(2*\\theta*(\\mu*c + 1) - 1))"
      ]
     },
     "metadata": {},
     "output_type": "display_data"
    },
    {
     "name": "stdout",
     "output_type": "stream",
     "text": [
      "where $c$ is given implicitly by\n"
     ]
    },
    {
     "data": {
      "text/latex": [
       "$\\displaystyle 0 = - \\gamma \\left(1 - \\left(- \\frac{1}{2 \\theta \\left(\\mu c + 1\\right) - 1}\\right)^{- \\frac{1}{\\alpha c}}\\right) - \\theta + 1 - \\frac{1}{2 \\left(\\mu c + 1\\right)} + \\frac{2 \\theta \\left(- \\mu c - 1\\right) + 1}{2 \\left(\\mu c - 1\\right)} + \\left(- \\frac{1}{2 \\theta \\left(\\mu c + 1\\right) - 1}\\right)^{- \\frac{1}{\\mu c}} \\left(\\theta - \\frac{\\mu^{2} c^{2} + \\frac{\\mu c}{2} - \\left(\\frac{\\mu c}{2} - \\frac{1}{2}\\right) \\left(2 \\theta \\left(- \\mu c - 1\\right) + 1\\right) - \\frac{1}{2}}{\\mu^{2} c^{2} - 1}\\right)$"
      ],
      "text/plain": [
       "Eq(0, -\\gamma*(1 - (-1/(2*\\theta*(\\mu*c + 1) - 1))**(-1/(\\alpha*c))) - \\theta + 1 - 1/(2*(\\mu*c + 1)) + (2*\\theta*(-\\mu*c - 1) + 1)/(2*(\\mu*c - 1)) + (-1/(2*\\theta*(\\mu*c + 1) - 1))**(-1/(\\mu*c))*(\\theta - (\\mu**2*c**2 + \\mu*c/2 - (\\mu*c/2 - 1/2)*(2*\\theta*(-\\mu*c - 1) + 1) - 1/2)/(\\mu**2*c**2 - 1)))"
      ]
     },
     "metadata": {},
     "output_type": "display_data"
    }
   ],
   "source": [
    "print('Ultimately this gives the traveling pulse solution')\n",
    "Δexp_sub = sym.solve(cond1, sym.exp(Δ))[0].collect(τ).collect(2)\n",
    "cond2_c = cond2.subs(sym.exp(Δ), Δexp_sub).subs(sym.exp(Δ/μ/c), Δexp_sub**(1/μ/c)).subs(sym.exp(Δ/α/c), Δexp_sub**(1/α/c)).collect(τ).collect(2)\n",
    "batch_print([sym.Eq(U,Usub) , sym.Eq(A, Asub.subs(ξ,x-c*t)), sym.Eq(ξ, x-c*t), sym.Eq(sym.exp(Δ), Δexp_sub)], punctuation=',')\n",
    "print('where $c$ is given implicitly by')\n",
    "batch_print([sym.Eq(0, cond2_c)])"
   ]
  },
  {
   "cell_type": "code",
   "execution_count": 5,
   "metadata": {},
   "outputs": [
    {
     "data": {
      "text/latex": [
       "$\\displaystyle \\frac{1 - e^{- \\Delta}}{2 \\left(\\mu c + 1\\right)}$"
      ],
      "text/plain": [
       "(1 - exp(-\\Delta))/(2*(\\mu*c + 1))"
      ]
     },
     "execution_count": 5,
     "metadata": {},
     "output_type": "execute_result"
    }
   ],
   "source": [
    "Uright.subs(ξ, 0)"
   ]
  },
  {
   "cell_type": "code",
   "execution_count": 6,
   "metadata": {},
   "outputs": [
    {
     "data": {
      "text/latex": [
       "$\\displaystyle \\theta + 1 + \\frac{- \\mu^{2} c^{2} - \\frac{\\mu c}{2} + \\left(\\frac{\\mu c}{2} - \\frac{1}{2}\\right) e^{- \\Delta} + \\frac{1}{2}}{\\mu^{2} c^{2} - 1} - \\frac{e^{- \\Delta}}{2 \\left(\\mu c + 1\\right)} + \\frac{1}{2 \\left(\\mu c - 1\\right)}$"
      ],
      "text/plain": [
       "\\theta + 1 + (-\\mu**2*c**2 - \\mu*c/2 + (\\mu*c/2 - 1/2)*exp(-\\Delta) + 1/2)/(\\mu**2*c**2 - 1) - exp(-\\Delta)/(2*(\\mu*c + 1)) + 1/(2*(\\mu*c - 1))"
      ]
     },
     "execution_count": 6,
     "metadata": {},
     "output_type": "execute_result"
    }
   ],
   "source": [
    "Umid.subs(ξ, 0)"
   ]
  },
  {
   "cell_type": "code",
   "execution_count": 7,
   "metadata": {},
   "outputs": [],
   "source": [
    "J_diff = Utest = sym.Heaviside(-ξ-Δ)*(Uleft-Aleft).diff(ξ) + sym.Heaviside(-ξ)*sym.Heaviside(ξ+Δ)*(Umid-Amid).diff(ξ) + sym.Heaviside(ξ)*(Uright-Aright).diff(ξ)"
   ]
  },
  {
   "cell_type": "code",
   "execution_count": 8,
   "metadata": {},
   "outputs": [
    {
     "name": "stdout",
     "output_type": "stream",
     "text": [
      "def Jdiff(ξ, μ, α, γ, θ, Δ, c):\n",
      "\treturn // Not supported in C:\n",
      "// (lambda input: np.heaviside(input,0.5))\n",
      "// (lambda input: np.heaviside(input,0.5))\n",
      "// (lambda input: np.heaviside(input,0.5))\n",
      "// (lambda input: np.heaviside(input,0.5))\n",
      "-1.0/2.0*(1 - np.exp(-Δ))*np.exp(-ξ)*(lambda input: np.heaviside(input,0.5))(ξ)/(μ*c + 1) + ((-1.0/2.0*np.exp(Δ)/(μ*c - 1) + (1.0/2.0)/(μ*c - 1))*np.exp(ξ) + (( lambda base, exponent: base**exponent )(μ, 2)*( lambda base, exponent: base**exponent )(c, 2)*np.exp(Δ/(μ*c)) - ( lambda base, exponent: base**exponent )(μ, 2)*( lambda base, exponent: base**exponent )(c, 2) - 1.0/2.0*μ*c + θ*(( lambda base, exponent: base**exponent )(μ, 2)*( lambda base, exponent: base**exponent )(c, 2) - 1) + (1.0/2.0)*(μ*c - 1)*np.exp(-Δ) + 1.0/2.0)*np.exp(ξ/(μ*c))/(μ*c*(( lambda base, exponent: base**exponent )(μ, 2)*( lambda base, exponent: base**exponent )(c, 2) - 1)) - γ*(np.exp(Δ/(α*c)) - 1)*np.exp(ξ/(α*c))/(α*c))*(lambda input: np.heaviside(input,0.5))(-Δ - ξ) + ((1.0/2.0)*np.exp(-Δ)*np.exp(-ξ)/(μ*c + 1) + (1.0/2.0)*np.exp(ξ)/(μ*c - 1) + (θ + (-( lambda base, exponent: base**exponent )(μ, 2)*( lambda base, exponent: base**exponent )(c, 2) - 1.0/2.0*μ*c + ((1.0/2.0)*μ*c - 1.0/2.0)*np.exp(-Δ) + 1.0/2.0)/(( lambda base, exponent: base**exponent )(μ, 2)*( lambda base, exponent: base**exponent )(c, 2) - 1))*np.exp(ξ/(μ*c))/(μ*c) + γ*np.exp(ξ/(α*c))/(α*c))*(lambda input: np.heaviside(input,0.5))(-ξ)*(lambda input: np.heaviside(input,0.5))(Δ + ξ)\n"
     ]
    }
   ],
   "source": [
    "code = 'def Jdiff(ξ, μ, α, γ, θ, Δ, c):\\n\\treturn ' + py_code(J_diff)\n",
    "print(code)"
   ]
  },
  {
   "cell_type": "markdown",
   "metadata": {},
   "source": [
    "# Testing vs Simulation"
   ]
  },
  {
   "cell_type": "code",
   "execution_count": 11,
   "metadata": {},
   "outputs": [
    {
     "name": "stderr",
     "output_type": "stream",
     "text": [
      "The PostScript backend does not support transparency; partially transparent artists will be rendered opaque.\n",
      "The PostScript backend does not support transparency; partially transparent artists will be rendered opaque.\n"
     ]
    },
    {
     "data": {
      "image/png": "[encoded data removed]",
      "text/plain": [
       "<Figure size 1152x576 with 1 Axes>"
      ]
     },
     "metadata": {
      "needs_background": "light"
     },
     "output_type": "display_data"
    }
   ],
   "source": [
    "Unumeric = sym.lambdify(ξ, Usub.subs(param_dict))\n",
    "Anumeric = sym.lambdify(ξ, Asub.subs(param_dict))\n",
    "\n",
    "plt.figure(figsize=(16, 8))\n",
    "plt.plot(xs, Us, 'b', label='$u$')\n",
    "# plt.plot(xs, Unumeric(xs), 'b--')\n",
    "plt.plot(xs, As, 'm-', label='$a$')\n",
    "# plt.plot(xs, Anumeric(xs), 'm--')\n",
    "plt.ylim(-.1, 1.1)\n",
    "\n",
    "plt.xlabel('$\\\\xi$')\n",
    "\n",
    "plt.legend()\n",
    "\n",
    "# plt.savefig('../reports/report20210603/pulse.png')\n",
    "# plt.savefig('pulse.eps')\n",
    "\n",
    "plt.show()"
   ]
  },
  {
   "cell_type": "code",
   "execution_count": 6,
   "metadata": {},
   "outputs": [
    {
     "name": "stdout",
     "output_type": "stream",
     "text": [
      "3.9239239239238697\n",
      "4.18545935079561\n"
     ]
    },
    {
     "data": {
      "image/png": "[encoded data removed]",
      "text/plain": [
       "<Figure size 1152x576 with 1 Axes>"
      ]
     },
     "metadata": {
      "needs_background": "light"
     },
     "output_type": "display_data"
    }
   ],
   "source": [
    "param_dict2 = param_dict.copy()\n",
    "param_dict2[Δ] = sym.solve(cond1, Δ)[0].subs(param_dict)\n",
    "print(param_dict2[c])\n",
    "print(param_dict2[Δ])\n",
    "Unumeric = sym.lambdify(ξ, Usub.subs(param_dict2))\n",
    "Anumeric = sym.lambdify(ξ, Asub.subs(param_dict2))\n",
    "\n",
    "plt.figure(figsize=(16, 8))\n",
    "plt.plot(xs, Us, 'b')\n",
    "plt.plot(xs, Unumeric(xs), 'b--')\n",
    "plt.plot(xs, As, 'm-')\n",
    "plt.plot(xs, Anumeric(xs), 'm--')\n",
    "plt.ylim(-.1, 1.1)\n",
    "\n",
    "plt.xlabel('$\\\\xi$')\n",
    "\n",
    "# plt.savefig('../reports/report20210603/pulse2.png')\n",
    "\n",
    "plt.show()"
   ]
  },
  {
   "cell_type": "markdown",
   "metadata": {},
   "source": [
    "# Root-finding"
   ]
  },
  {
   "cell_type": "code",
   "execution_count": 7,
   "metadata": {},
   "outputs": [
    {
     "name": "stdout",
     "output_type": "stream",
     "text": [
      "2.0282014018537943e+28\n",
      "1.2693697593662305e+27\n",
      "7.639157381573485e+26\n",
      "3.389129064941727e+25\n",
      "9.569104430979571e+24\n",
      "2.047231972992756e+24\n",
      "4.8223644167607934e+23\n",
      "1.1338897356268823e+23\n",
      "2.691553420104771e+22\n",
      "6.41735706093444e+21\n"
     ]
    }
   ],
   "source": [
    "E = sym.symbols('E', real=True, positive=True)\n",
    "Esub = sym.exp(-Δ)\n",
    "var_vec = sym.Matrix([[E], [c]])\n",
    "cond1E = cond1.subs(Esub, E)\n",
    "cond2E = cond2.subs(Esub, E).subs(Esub**(1/μ/c), E**(1/μ/c)).subs(Esub**(1/α/c), E**(1/α/c))\n",
    "vecF = sym.Matrix([[cond1E],[cond2E]])\n",
    "\n",
    "var_vec = sym.Matrix([[E],[c]])\n",
    "param_dict2 = {key:param_dict[key] for key in param_dict if key not in [Δ, c]}\n",
    "F = sym.lambdify( (E,c),  vecF.T.subs(param_dict2) )\n",
    "jac = sym.lambdify( (E,c),  vecF.jacobian(var_vec).subs(param_dict2) )\n",
    "\n",
    "vec = np.array([np.exp(-param_dict[Δ]), param_dict[c]])\n",
    "for i in range(10):\n",
    "    print(la.cond(jac(*vec)))\n",
    "    vec -= la.solve(jac(*vec), F(*vec)[0])\n"
   ]
  },
  {
   "cell_type": "code",
   "execution_count": 8,
   "metadata": {},
   "outputs": [
    {
     "data": {
      "text/plain": [
       "array([3.06733053e-11, 3.15995063e+00])"
      ]
     },
     "execution_count": 8,
     "metadata": {},
     "output_type": "execute_result"
    }
   ],
   "source": [
    "vec"
   ]
  },
  {
   "cell_type": "code",
   "execution_count": 9,
   "metadata": {},
   "outputs": [],
   "source": [
    "Δsub = sym.solve(cond1, sym.exp(Δ))[0]\n",
    "cond_c = cond2.subs(sym.exp(Δ),Δsub).subs(sym.exp(Δ/μ/c),Δsub**(1/μ/c)).subs(sym.exp(Δ/α/c),Δsub**(1/α/c))"
   ]
  },
  {
   "cell_type": "code",
   "execution_count": 10,
   "metadata": {},
   "outputs": [
    {
     "data": {
      "text/latex": [
       "$\\displaystyle - \\gamma \\left(1 - \\left(- \\frac{1}{2 \\mu \\theta c + 2 \\theta - 1}\\right)^{- \\frac{1}{\\alpha c}}\\right) - \\theta + 1 - \\frac{1}{2 \\left(\\mu c + 1\\right)} + \\frac{- 2 \\mu \\theta c - 2 \\theta + 1}{2 \\left(\\mu c - 1\\right)} + \\left(- \\frac{1}{2 \\mu \\theta c + 2 \\theta - 1}\\right)^{- \\frac{1}{\\mu c}} \\left(\\theta - \\frac{\\mu^{2} c^{2} + \\frac{\\mu c}{2} - \\left(\\frac{\\mu c}{2} - \\frac{1}{2}\\right) \\left(- 2 \\mu \\theta c - 2 \\theta + 1\\right) - \\frac{1}{2}}{\\mu^{2} c^{2} - 1}\\right)$"
      ],
      "text/plain": [
       "-\\gamma*(1 - (-1/(2*\\mu*\\theta*c + 2*\\theta - 1))**(-1/(\\alpha*c))) - \\theta + 1 - 1/(2*(\\mu*c + 1)) + (-2*\\mu*\\theta*c - 2*\\theta + 1)/(2*(\\mu*c - 1)) + (-1/(2*\\mu*\\theta*c + 2*\\theta - 1))**(-1/(\\mu*c))*(\\theta - (\\mu**2*c**2 + \\mu*c/2 - (\\mu*c/2 - 1/2)*(-2*\\mu*\\theta*c - 2*\\theta + 1) - 1/2)/(\\mu**2*c**2 - 1))"
      ]
     },
     "execution_count": 10,
     "metadata": {},
     "output_type": "execute_result"
    }
   ],
   "source": [
    "cond_c"
   ]
  },
  {
   "cell_type": "code",
   "execution_count": 11,
   "metadata": {},
   "outputs": [
    {
     "data": {
      "text/latex": [
       "$\\displaystyle \\gamma \\left(- \\frac{1}{2 \\mu \\theta c + 2 \\theta - 1}\\right)^{- \\frac{1}{\\alpha c}} \\left(- \\frac{2 \\mu \\theta \\left(- 2 \\mu \\theta c - 2 \\theta + 1\\right)}{\\alpha c \\left(2 \\mu \\theta c + 2 \\theta - 1\\right)^{2}} + \\frac{\\log{\\left(- \\frac{1}{2 \\mu \\theta c + 2 \\theta - 1} \\right)}}{\\alpha c^{2}}\\right) - \\frac{\\mu \\theta}{\\mu c - 1} + \\frac{\\mu}{2 \\left(\\mu c + 1\\right)^{2}} - \\frac{\\mu \\left(- 2 \\mu \\theta c - 2 \\theta + 1\\right)}{2 \\left(\\mu c - 1\\right)^{2}} + \\left(- \\frac{1}{2 \\mu \\theta c + 2 \\theta - 1}\\right)^{- \\frac{1}{\\mu c}} \\left(\\theta - \\frac{\\mu^{2} c^{2} + \\frac{\\mu c}{2} - \\left(\\frac{\\mu c}{2} - \\frac{1}{2}\\right) \\left(- 2 \\mu \\theta c - 2 \\theta + 1\\right) - \\frac{1}{2}}{\\mu^{2} c^{2} - 1}\\right) \\left(- \\frac{2 \\theta \\left(- 2 \\mu \\theta c - 2 \\theta + 1\\right)}{c \\left(2 \\mu \\theta c + 2 \\theta - 1\\right)^{2}} + \\frac{\\log{\\left(- \\frac{1}{2 \\mu \\theta c + 2 \\theta - 1} \\right)}}{\\mu c^{2}}\\right) + \\left(- \\frac{1}{2 \\mu \\theta c + 2 \\theta - 1}\\right)^{- \\frac{1}{\\mu c}} \\left(\\frac{2 \\mu^{2} c \\left(\\mu^{2} c^{2} + \\frac{\\mu c}{2} - \\left(\\frac{\\mu c}{2} - \\frac{1}{2}\\right) \\left(- 2 \\mu \\theta c - 2 \\theta + 1\\right) - \\frac{1}{2}\\right)}{\\left(\\mu^{2} c^{2} - 1\\right)^{2}} - \\frac{2 \\mu^{2} c - 2 \\mu \\theta \\left(- \\frac{\\mu c}{2} + \\frac{1}{2}\\right) - \\frac{\\mu \\left(- 2 \\mu \\theta c - 2 \\theta + 1\\right)}{2} + \\frac{\\mu}{2}}{\\mu^{2} c^{2} - 1}\\right)$"
      ],
      "text/plain": [
       "\\gamma*(-1/(2*\\mu*\\theta*c + 2*\\theta - 1))**(-1/(\\alpha*c))*(-2*\\mu*\\theta*(-2*\\mu*\\theta*c - 2*\\theta + 1)/(\\alpha*c*(2*\\mu*\\theta*c + 2*\\theta - 1)**2) + log(-1/(2*\\mu*\\theta*c + 2*\\theta - 1))/(\\alpha*c**2)) - \\mu*\\theta/(\\mu*c - 1) + \\mu/(2*(\\mu*c + 1)**2) - \\mu*(-2*\\mu*\\theta*c - 2*\\theta + 1)/(2*(\\mu*c - 1)**2) + (-1/(2*\\mu*\\theta*c + 2*\\theta - 1))**(-1/(\\mu*c))*(\\theta - (\\mu**2*c**2 + \\mu*c/2 - (\\mu*c/2 - 1/2)*(-2*\\mu*\\theta*c - 2*\\theta + 1) - 1/2)/(\\mu**2*c**2 - 1))*(-2*\\theta*(-2*\\mu*\\theta*c - 2*\\theta + 1)/(c*(2*\\mu*\\theta*c + 2*\\theta - 1)**2) + log(-1/(2*\\mu*\\theta*c + 2*\\theta - 1))/(\\mu*c**2)) + (-1/(2*\\mu*\\theta*c + 2*\\theta - 1))**(-1/(\\mu*c))*(2*\\mu**2*c*(\\mu**2*c**2 + \\mu*c/2 - (\\mu*c/2 - 1/2)*(-2*\\mu*\\theta*c - 2*\\theta + 1) - 1/2)/(\\mu**2*c**2 - 1)**2 - (2*\\mu**2*c - 2*\\mu*\\theta*(-\\mu*c/2 + 1/2) - \\mu*(-2*\\mu*\\theta*c - 2*\\theta + 1)/2 + \\mu/2)/(\\mu**2*c**2 - 1))"
      ]
     },
     "execution_count": 11,
     "metadata": {},
     "output_type": "execute_result"
    }
   ],
   "source": [
    "cond_c.diff(c)"
   ]
  },
  {
   "cell_type": "code",
   "execution_count": 12,
   "metadata": {},
   "outputs": [
    {
     "name": "stderr",
     "output_type": "stream",
     "text": [
      "<string>:2: RuntimeWarning: divide by zero encountered in true_divide\n",
      "<string>:2: RuntimeWarning: invalid value encountered in add\n",
      "<string>:2: RuntimeWarning: invalid value encountered in power\n"
     ]
    },
    {
     "data": {
      "image/png": "[encoded data removed]",
      "text/plain": [
       "<Figure size 1152x576 with 2 Axes>"
      ]
     },
     "metadata": {
      "needs_background": "light"
     },
     "output_type": "display_data"
    }
   ],
   "source": [
    "param_dict2 = {key:param_dict[key] for key in param_dict if key not in [Δ, c]}\n",
    "test = sym.lambdify(c, cond_c.subs(param_dict2))\n",
    "\n",
    "fig, axes = plt.subplots(1, 2, figsize=(16, 8), sharey=True)\n",
    "cs = np.linspace(1, 4, 2001)\n",
    "axes[0].plot(cs, test(cs))\n",
    "axes[0].plot(cs, 0*cs, 'k--')\n",
    "axes[0].set_xlim(cs[0], cs[-1]+.1)\n",
    "axes[0].set_xlabel('$c$')\n",
    "axes[0].set_ylabel('$f(c)$')\n",
    "\n",
    "cs = np.linspace(3.99999, 4.00001, 2001)\n",
    "axes[1].plot(cs, test(cs))\n",
    "axes[1].plot(cs, 0*cs, 'k--')\n",
    "axes[1].set_xlabel('$c$')\n",
    "axes[1].set_xticks([cs[0], cs[-1]])\n",
    "\n",
    "# plt.savefig('../reports/report20210603/rootfinding.png')\n",
    "\n",
    "plt.show()"
   ]
  },
  {
   "cell_type": "markdown",
   "metadata": {},
   "source": [
    "# Export numerical code"
   ]
  },
  {
   "cell_type": "code",
   "execution_count": 13,
   "metadata": {},
   "outputs": [
    {
     "data": {
      "image/png": "[encoded data removed]",
      "text/plain": [
       "<Figure size 1152x576 with 1 Axes>"
      ]
     },
     "metadata": {
      "needs_background": "light"
     },
     "output_type": "display_data"
    }
   ],
   "source": [
    "Utest = sym.Heaviside(-ξ-Δ)*Uleft + sym.Heaviside(-ξ)*sym.Heaviside(ξ+Δ)*Umid + sym.Heaviside(ξ)*Uright\n",
    "Atest = sym.Heaviside(-ξ-Δ)*Aleft + sym.Heaviside(-ξ)*sym.Heaviside(ξ+Δ)*Amid + sym.Heaviside(ξ)*Aright\n",
    "Unumeric = sym.lambdify(ξ, Utest.subs(param_dict), modules=sympy_modules)\n",
    "Anumeric = sym.lambdify(ξ, Atest.subs(param_dict), modules=sympy_modules)\n",
    "\n",
    "plt.figure(figsize=(16, 8))\n",
    "plt.plot(xs, Us, 'b')\n",
    "plt.plot(xs, Unumeric(xs), 'b--')\n",
    "plt.plot(xs, As, 'm-')\n",
    "plt.plot(xs, Anumeric(xs), 'm--')\n",
    "plt.ylim(-.1, 1.1)\n",
    "\n",
    "plt.xlabel('$\\\\xi$')\n",
    "\n",
    "plt.show()"
   ]
  },
  {
   "cell_type": "code",
   "execution_count": 14,
   "metadata": {},
   "outputs": [
    {
     "name": "stdout",
     "output_type": "stream",
     "text": [
      "def Unum(ξ, μ, α, γ, θ, Δ, c):\n",
      "\treturn // Not supported in C:\n",
      "// (lambda input: np.heaviside(input,0.5))\n",
      "// (lambda input: np.heaviside(input,0.5))\n",
      "// (lambda input: np.heaviside(input,0.5))\n",
      "// (lambda input: np.heaviside(input,0.5))\n",
      "(1.0/2.0)*(1 - np.exp(-Δ))*np.exp(-ξ)*(lambda input: np.heaviside(input,0.5))(ξ)/(μ*c + 1) + ((1.0/2.0)*(-np.exp(Δ)/(μ*c - 1) + 1.0/(μ*c - 1))*np.exp(ξ) + (( lambda base, exponent: base**exponent )(μ, 2)*( lambda base, exponent: base**exponent )(c, 2)*np.exp(Δ/(μ*c)) - ( lambda base, exponent: base**exponent )(μ, 2)*( lambda base, exponent: base**exponent )(c, 2) - 1.0/2.0*μ*c + θ*(( lambda base, exponent: base**exponent )(μ, 2)*( lambda base, exponent: base**exponent )(c, 2) - 1) + (1.0/2.0)*(μ*c - 1)*np.exp(-Δ) + 1.0/2.0)*np.exp(ξ/(μ*c))/(( lambda base, exponent: base**exponent )(μ, 2)*( lambda base, exponent: base**exponent )(c, 2) - 1))*(lambda input: np.heaviside(input,0.5))(-Δ - ξ) + ((θ + (-( lambda base, exponent: base**exponent )(μ, 2)*( lambda base, exponent: base**exponent )(c, 2) - 1.0/2.0*μ*c + ((1.0/2.0)*μ*c - 1.0/2.0)*np.exp(-Δ) + 1.0/2.0)/(( lambda base, exponent: base**exponent )(μ, 2)*( lambda base, exponent: base**exponent )(c, 2) - 1))*np.exp(ξ/(μ*c)) + 1 - 1.0/2.0*np.exp(-Δ)*np.exp(-ξ)/(μ*c + 1) + (1.0/2.0)*np.exp(ξ)/(μ*c - 1))*(lambda input: np.heaviside(input,0.5))(-ξ)*(lambda input: np.heaviside(input,0.5))(Δ + ξ)\n",
      "def Anum(ξ, μ, α, γ, θ, Δ, c):\n",
      "\treturn // Not supported in C:\n",
      "// (lambda input: np.heaviside(input,0.5))\n",
      "// (lambda input: np.heaviside(input,0.5))\n",
      "// (lambda input: np.heaviside(input,0.5))\n",
      "γ*(1 - np.exp(ξ/(α*c)))*(lambda input: np.heaviside(input,0.5))(-ξ)*(lambda input: np.heaviside(input,0.5))(Δ + ξ) + γ*(np.exp(Δ/(α*c)) - 1)*np.exp(ξ/(α*c))*(lambda input: np.heaviside(input,0.5))(-Δ - ξ)\n"
     ]
    }
   ],
   "source": [
    "code = 'def Unum(ξ, μ, α, γ, θ, Δ, c):\\n\\treturn ' + py_code(Utest)\n",
    "print(code)\n",
    "\n",
    "code = 'def Anum(ξ, μ, α, γ, θ, Δ, c):\\n\\treturn ' + py_code(Atest)\n",
    "print(code)"
   ]
  },
  {
   "cell_type": "code",
   "execution_count": 15,
   "metadata": {},
   "outputs": [],
   "source": [
    "with open('profile.pickle', 'rb') as f:\n",
    "    xs, Us, As, param_list = pickle.load(f)\n",
    "    param_keys = ['μ', 'α',  'γ',  'θ', 'Δ', 'c']\n",
    "    params = {key:val for key,val in zip(param_keys, param_list)}\n",
    "    \n",
    "def Unum(ξ, μ, α, γ, θ, Δ, c):\n",
    "    return (1.0/2.0)*(1 - np.exp(-Δ))*np.exp(-ξ)*(lambda input: np.heaviside(input,0.5))(ξ)/(μ*c + 1) + ((1.0/2.0)*(-np.exp(Δ)/(μ*c - 1) + 1.0/(μ*c - 1))*np.exp(ξ) + (( lambda base, exponent: base**exponent )(μ, 2)*( lambda base, exponent: base**exponent )(c, 2)*np.exp(Δ/(μ*c)) - ( lambda base, exponent: base**exponent )(μ, 2)*( lambda base, exponent: base**exponent )(c, 2) - 1.0/2.0*μ*c + θ*(( lambda base, exponent: base**exponent )(μ, 2)*( lambda base, exponent: base**exponent )(c, 2) - 1) + (1.0/2.0)*(μ*c - 1)*np.exp(-Δ) + 1.0/2.0)*np.exp(ξ/(μ*c))/(( lambda base, exponent: base**exponent )(μ, 2)*( lambda base, exponent: base**exponent )(c, 2) - 1))*(lambda input: np.heaviside(input,0.5))(-Δ - ξ) + ((θ + (-( lambda base, exponent: base**exponent )(μ, 2)*( lambda base, exponent: base**exponent )(c, 2) - 1.0/2.0*μ*c + ((1.0/2.0)*μ*c - 1.0/2.0)*np.exp(-Δ) + 1.0/2.0)/(( lambda base, exponent: base**exponent )(μ, 2)*( lambda base, exponent: base**exponent )(c, 2) - 1))*np.exp(ξ/(μ*c)) + 1 - 1.0/2.0*np.exp(-Δ)*np.exp(-ξ)/(μ*c + 1) + (1.0/2.0)*np.exp(ξ)/(μ*c - 1))*(lambda input: np.heaviside(input,0.5))(-ξ)*(lambda input: np.heaviside(input,0.5))(Δ + ξ)\n",
    "\n",
    "def Anum(ξ, μ, α, γ, θ, Δ, c):\n",
    "    return γ*(1 - np.exp(ξ/(α*c)))*(lambda input: np.heaviside(input,0.5))(-ξ)*(lambda input: np.heaviside(input,0.5))(Δ + ξ) + γ*(np.exp(Δ/(α*c)) - 1)*np.exp(ξ/(α*c))*(lambda input: np.heaviside(input,0.5))(-Δ - ξ)\n"
   ]
  },
  {
   "cell_type": "code",
   "execution_count": 16,
   "metadata": {},
   "outputs": [
    {
     "data": {
      "text/plain": [
       "[<matplotlib.lines.Line2D at 0x7fb82c1bb8d0>]"
      ]
     },
     "execution_count": 16,
     "metadata": {},
     "output_type": "execute_result"
    },
    {
     "data": {
      "image/png": "[encoded data removed]",
      "text/plain": [
       "<Figure size 432x288 with 1 Axes>"
      ]
     },
     "metadata": {
      "needs_background": "light"
     },
     "output_type": "display_data"
    }
   ],
   "source": [
    "plt.plot(xs, Unum(xs, **params))\n",
    "plt.plot(xs, Anum(xs, **params))"
   ]
  },
  {
   "cell_type": "code",
   "execution_count": null,
   "metadata": {},
   "outputs": [],
   "source": []
  },
  {
   "cell_type": "code",
   "execution_count": null,
   "metadata": {},
   "outputs": [],
   "source": []
  },
  {
   "cell_type": "code",
   "execution_count": 11,
   "metadata": {},
   "outputs": [
    {
     "data": {
      "text/latex": [
       "$\\displaystyle \\frac{\\left(- \\frac{e^{\\Delta}}{\\mu c - 1} + \\frac{1}{\\mu c - 1}\\right) e^{\\xi}}{2} + \\frac{\\left(\\mu^{2} c^{2} e^{\\frac{\\Delta}{\\mu c}} - \\mu^{2} c^{2} - \\frac{\\mu c}{2} + \\theta \\left(\\mu^{2} c^{2} - 1\\right) + \\frac{\\left(\\mu c - 1\\right) e^{- \\Delta}}{2} + \\frac{1}{2}\\right) e^{\\frac{\\xi}{\\mu c}}}{\\mu^{2} c^{2} - 1}$"
      ],
      "text/plain": [
       "(-exp(\\Delta)/(\\mu*c - 1) + 1/(\\mu*c - 1))*exp(\\xi)/2 + (\\mu**2*c**2*exp(\\Delta/(\\mu*c)) - \\mu**2*c**2 - \\mu*c/2 + \\theta*(\\mu**2*c**2 - 1) + (\\mu*c - 1)*exp(-\\Delta)/2 + 1/2)*exp(\\xi/(\\mu*c))/(\\mu**2*c**2 - 1)"
      ]
     },
     "execution_count": 11,
     "metadata": {},
     "output_type": "execute_result"
    }
   ],
   "source": [
    "Uleft"
   ]
  },
  {
   "cell_type": "code",
   "execution_count": 12,
   "metadata": {},
   "outputs": [
    {
     "data": {
      "text/latex": [
       "$\\displaystyle \\left(\\theta + \\frac{- \\mu^{2} c^{2} - \\frac{\\mu c}{2} + \\left(\\frac{\\mu c}{2} - \\frac{1}{2}\\right) e^{- \\Delta} + \\frac{1}{2}}{\\mu^{2} c^{2} - 1}\\right) e^{\\frac{\\xi}{\\mu c}} + 1 - \\frac{e^{- \\Delta} e^{- \\xi}}{2 \\left(\\mu c + 1\\right)} + \\frac{e^{\\xi}}{2 \\left(\\mu c - 1\\right)}$"
      ],
      "text/plain": [
       "(\\theta + (-\\mu**2*c**2 - \\mu*c/2 + (\\mu*c/2 - 1/2)*exp(-\\Delta) + 1/2)/(\\mu**2*c**2 - 1))*exp(\\xi/(\\mu*c)) + 1 - exp(-\\Delta)*exp(-\\xi)/(2*(\\mu*c + 1)) + exp(\\xi)/(2*(\\mu*c - 1))"
      ]
     },
     "execution_count": 12,
     "metadata": {},
     "output_type": "execute_result"
    }
   ],
   "source": [
    "Umid"
   ]
  },
  {
   "cell_type": "code",
   "execution_count": 10,
   "metadata": {},
   "outputs": [
    {
     "data": {
      "text/latex": [
       "$\\displaystyle \\frac{\\left(1 - e^{- \\Delta}\\right) e^{- \\xi}}{2 \\left(\\mu c + 1\\right)}$"
      ],
      "text/plain": [
       "(1 - exp(-\\Delta))*exp(-\\xi)/(2*(\\mu*c + 1))"
      ]
     },
     "execution_count": 10,
     "metadata": {},
     "output_type": "execute_result"
    }
   ],
   "source": [
    "Uright"
   ]
  },
  {
   "cell_type": "code",
   "execution_count": null,
   "metadata": {},
   "outputs": [],
   "source": []
  },
  {
   "cell_type": "code",
   "execution_count": null,
   "metadata": {},
   "outputs": [],
   "source": []
  },
  {
   "cell_type": "code",
   "execution_count": null,
   "metadata": {},
   "outputs": [],
   "source": []
  },
  {
   "cell_type": "code",
   "execution_count": 20,
   "metadata": {},
   "outputs": [
    {
     "data": {
      "text/latex": [
       "$\\displaystyle \\frac{\\left(2 \\alpha \\mu^{2} \\theta c^{2} e^{\\Delta + \\frac{\\Delta}{\\alpha c}} - 2 \\alpha \\mu^{2} c^{2} e^{\\Delta + \\frac{\\Delta}{\\alpha c}} + \\alpha \\mu^{2} c^{2} e^{\\frac{\\Delta}{\\mu c} + \\frac{\\Delta}{\\alpha c}} + \\alpha \\mu^{2} c^{2} e^{\\Delta + \\frac{\\Delta}{\\mu c} + \\frac{\\Delta}{\\alpha c}} + \\alpha \\mu c e^{\\frac{\\Delta}{\\alpha c}} - \\alpha \\mu c e^{\\Delta + \\frac{\\Delta}{\\alpha c}} + \\alpha \\mu c e^{\\frac{\\Delta}{\\mu c} + \\frac{\\Delta}{\\alpha c}} - \\alpha \\mu c e^{\\Delta + \\frac{\\Delta}{\\mu c} + \\frac{\\Delta}{\\alpha c}} - 2 \\alpha \\theta e^{\\Delta + \\frac{\\Delta}{\\alpha c}} - \\alpha e^{\\frac{\\Delta}{\\alpha c}} + \\alpha e^{\\Delta + \\frac{\\Delta}{\\alpha c}} + 2 \\gamma \\mu^{3} c^{2} e^{\\Delta + \\frac{\\Delta}{\\mu c}} - 2 \\gamma \\mu^{3} c^{2} e^{\\Delta + \\frac{\\Delta}{\\mu c} + \\frac{\\Delta}{\\alpha c}} - 2 \\gamma \\mu e^{\\Delta + \\frac{\\Delta}{\\mu c}} + 2 \\gamma \\mu e^{\\Delta + \\frac{\\Delta}{\\mu c} + \\frac{\\Delta}{\\alpha c}}\\right) e^{- \\Delta - \\frac{\\Delta}{\\mu c} - \\frac{\\Delta}{\\alpha c}}}{2 \\alpha \\mu c \\left(\\mu^{2} c^{2} - 1\\right)}$"
      ],
      "text/plain": [
       "(2*\\alpha*\\mu**2*\\theta*c**2*exp(\\Delta + \\Delta/(\\alpha*c)) - 2*\\alpha*\\mu**2*c**2*exp(\\Delta + \\Delta/(\\alpha*c)) + \\alpha*\\mu**2*c**2*exp(\\Delta/(\\mu*c) + \\Delta/(\\alpha*c)) + \\alpha*\\mu**2*c**2*exp(\\Delta + \\Delta/(\\mu*c) + \\Delta/(\\alpha*c)) + \\alpha*\\mu*c*exp(\\Delta/(\\alpha*c)) - \\alpha*\\mu*c*exp(\\Delta + \\Delta/(\\alpha*c)) + \\alpha*\\mu*c*exp(\\Delta/(\\mu*c) + \\Delta/(\\alpha*c)) - \\alpha*\\mu*c*exp(\\Delta + \\Delta/(\\mu*c) + \\Delta/(\\alpha*c)) - 2*\\alpha*\\theta*exp(\\Delta + \\Delta/(\\alpha*c)) - \\alpha*exp(\\Delta/(\\alpha*c)) + \\alpha*exp(\\Delta + \\Delta/(\\alpha*c)) + 2*\\gamma*\\mu**3*c**2*exp(\\Delta + \\Delta/(\\mu*c)) - 2*\\gamma*\\mu**3*c**2*exp(\\Delta + \\Delta/(\\mu*c) + \\Delta/(\\alpha*c)) - 2*\\gamma*\\mu*exp(\\Delta + \\Delta/(\\mu*c)) + 2*\\gamma*\\mu*exp(\\Delta + \\Delta/(\\mu*c) + \\Delta/(\\alpha*c)))*exp(-\\Delta - \\Delta/(\\mu*c) - \\Delta/(\\alpha*c))/(2*\\alpha*\\mu*c*(\\mu**2*c**2 - 1))"
      ]
     },
     "execution_count": 20,
     "metadata": {},
     "output_type": "execute_result"
    }
   ],
   "source": [
    "sym.limit((Uleft-Aleft).diff(ξ), ξ, -Δ).simplify()"
   ]
  },
  {
   "cell_type": "code",
   "execution_count": 21,
   "metadata": {},
   "outputs": [
    {
     "data": {
      "text/latex": [
       "$\\displaystyle \\frac{\\left(2 \\alpha \\mu^{2} \\theta c^{2} e^{\\Delta + \\frac{\\Delta}{\\alpha c}} - 2 \\alpha \\mu^{2} c^{2} e^{\\Delta + \\frac{\\Delta}{\\alpha c}} + \\alpha \\mu^{2} c^{2} e^{\\frac{\\Delta}{\\mu c} + \\frac{\\Delta}{\\alpha c}} + \\alpha \\mu^{2} c^{2} e^{\\Delta + \\frac{\\Delta}{\\mu c} + \\frac{\\Delta}{\\alpha c}} + \\alpha \\mu c e^{\\frac{\\Delta}{\\alpha c}} - \\alpha \\mu c e^{\\Delta + \\frac{\\Delta}{\\alpha c}} + \\alpha \\mu c e^{\\frac{\\Delta}{\\mu c} + \\frac{\\Delta}{\\alpha c}} - \\alpha \\mu c e^{\\Delta + \\frac{\\Delta}{\\mu c} + \\frac{\\Delta}{\\alpha c}} - 2 \\alpha \\theta e^{\\Delta + \\frac{\\Delta}{\\alpha c}} - \\alpha e^{\\frac{\\Delta}{\\alpha c}} + \\alpha e^{\\Delta + \\frac{\\Delta}{\\alpha c}} + 2 \\gamma \\mu^{3} c^{2} e^{\\Delta + \\frac{\\Delta}{\\mu c}} - 2 \\gamma \\mu e^{\\Delta + \\frac{\\Delta}{\\mu c}}\\right) e^{- \\Delta - \\frac{\\Delta}{\\mu c} - \\frac{\\Delta}{\\alpha c}}}{2 \\alpha \\mu c \\left(\\mu^{2} c^{2} - 1\\right)}$"
      ],
      "text/plain": [
       "(2*\\alpha*\\mu**2*\\theta*c**2*exp(\\Delta + \\Delta/(\\alpha*c)) - 2*\\alpha*\\mu**2*c**2*exp(\\Delta + \\Delta/(\\alpha*c)) + \\alpha*\\mu**2*c**2*exp(\\Delta/(\\mu*c) + \\Delta/(\\alpha*c)) + \\alpha*\\mu**2*c**2*exp(\\Delta + \\Delta/(\\mu*c) + \\Delta/(\\alpha*c)) + \\alpha*\\mu*c*exp(\\Delta/(\\alpha*c)) - \\alpha*\\mu*c*exp(\\Delta + \\Delta/(\\alpha*c)) + \\alpha*\\mu*c*exp(\\Delta/(\\mu*c) + \\Delta/(\\alpha*c)) - \\alpha*\\mu*c*exp(\\Delta + \\Delta/(\\mu*c) + \\Delta/(\\alpha*c)) - 2*\\alpha*\\theta*exp(\\Delta + \\Delta/(\\alpha*c)) - \\alpha*exp(\\Delta/(\\alpha*c)) + \\alpha*exp(\\Delta + \\Delta/(\\alpha*c)) + 2*\\gamma*\\mu**3*c**2*exp(\\Delta + \\Delta/(\\mu*c)) - 2*\\gamma*\\mu*exp(\\Delta + \\Delta/(\\mu*c)))*exp(-\\Delta - \\Delta/(\\mu*c) - \\Delta/(\\alpha*c))/(2*\\alpha*\\mu*c*(\\mu**2*c**2 - 1))"
      ]
     },
     "execution_count": 21,
     "metadata": {},
     "output_type": "execute_result"
    }
   ],
   "source": [
    "sym.limit((Umid-Amid).diff(ξ), ξ, -Δ).simplify()"
   ]
  },
  {
   "cell_type": "code",
   "execution_count": null,
   "metadata": {},
   "outputs": [],
   "source": []
  },
  {
   "cell_type": "code",
   "execution_count": 22,
   "metadata": {},
   "outputs": [
    {
     "data": {
      "text/latex": [
       "$\\displaystyle \\frac{\\theta}{\\mu c} - \\frac{1}{2 \\mu c} + \\frac{e^{- \\Delta}}{2 \\mu c} + \\frac{\\gamma}{\\alpha c}$"
      ],
      "text/plain": [
       "\\theta/(\\mu*c) - 1/(2*\\mu*c) + exp(-\\Delta)/(2*\\mu*c) + \\gamma/(\\alpha*c)"
      ]
     },
     "execution_count": 22,
     "metadata": {},
     "output_type": "execute_result"
    }
   ],
   "source": [
    "sym.limit((Umid-Amid).diff(ξ), ξ, 0).simplify()"
   ]
  },
  {
   "cell_type": "code",
   "execution_count": 23,
   "metadata": {},
   "outputs": [
    {
     "data": {
      "text/latex": [
       "$\\displaystyle \\frac{\\left(1 - e^{\\Delta}\\right) e^{- \\Delta}}{2 \\left(\\mu c + 1\\right)}$"
      ],
      "text/plain": [
       "(1 - exp(\\Delta))*exp(-\\Delta)/(2*(\\mu*c + 1))"
      ]
     },
     "execution_count": 23,
     "metadata": {},
     "output_type": "execute_result"
    }
   ],
   "source": [
    "sym.limit((Uright-Aright).diff(ξ), ξ, 0).simplify()"
   ]
  },
  {
   "cell_type": "code",
   "execution_count": null,
   "metadata": {},
   "outputs": [],
   "source": []
  }
 ],
 "metadata": {
  "kernelspec": {
   "display_name": "Python 3",
   "language": "python",
   "name": "python3"
  },
  "language_info": {
   "codemirror_mode": {
    "name": "ipython",
    "version": 3
   },
   "file_extension": ".py",
   "mimetype": "text/x-python",
   "name": "python",
   "nbconvert_exporter": "python",
   "pygments_lexer": "ipython3",
   "version": "3.6.9"
  }
 },
 "nbformat": 4,
 "nbformat_minor": 4
}

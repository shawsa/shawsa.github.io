{
 "cells": [
  {
   "cell_type": "code",
   "execution_count": 1,
   "metadata": {},
   "outputs": [],
   "source": [
    "%matplotlib inline\n",
    "import matplotlib.pyplot as plt\n",
    "import matplotlib.animation as animation\n",
    "from IPython.display import HTML\n",
    "\n",
    "import numpy as np\n",
    "import numpy.linalg as la\n",
    "from scipy.integrate import RK45\n",
    "\n",
    "import sympy as sym\n",
    "\n",
    "from table_maker import *\n",
    "from functools import partial\n",
    "from itertools import *\n",
    "from math import ceil"
   ]
  },
  {
   "cell_type": "code",
   "execution_count": 2,
   "metadata": {},
   "outputs": [],
   "source": [
    "import matplotlib\n",
    "matplotlib.rcParams.update({'font.size': 16})"
   ]
  },
  {
   "cell_type": "markdown",
   "metadata": {},
   "source": [
    "# Kilpatrick et al SIADS 2008"
   ]
  },
  {
   "cell_type": "markdown",
   "metadata": {},
   "source": [
    "$$\n",
    "\\begin{align*}\n",
    "    \\tau_m u_t &= -u + \\int_{-\\infty}^{\\infty} w(x,x') f( u(x\\prime,t) ) dx^\\prime - \\beta v \\\\\n",
    "    \\frac{1}{\\alpha} v_t &= -v + u\n",
    "\\end{align*}\n",
    "$$"
   ]
  },
  {
   "cell_type": "code",
   "execution_count": 3,
   "metadata": {},
   "outputs": [],
   "source": [
    "a, b = -40, 40\n",
    "n = 10**3\n",
    "\n",
    "tau_m = 1\n",
    "\n",
    "alpha = .1\n",
    "beta = 2.5\n",
    "\n",
    "xs = np.linspace(a,b,n)\n",
    "h = xs[1]-xs[0]\n",
    "\n",
    "def firing_rate(u, theta=.2, eta=20):\n",
    "#     return 1/(1 + np.exp(-eta*(u-theta)))\n",
    "    return np.heaviside(u-theta, 0)\n",
    "    \n",
    "M = .5*np.exp( - np.abs( np.subtract.outer(xs, xs) ) ) * h\n",
    "\n",
    "def convolution(u):\n",
    "    return M@firing_rate(u)\n",
    "\n",
    "def RK4_step(F, t, u, dt):\n",
    "    k1 = F(t,u)\n",
    "    k2 = F(t+dt/2, u + dt/2*k1)\n",
    "    k3 = F(t+dt/2, u + dt/2*k2)\n",
    "    k4 = F(t+dt, u + dt*k3)\n",
    "    return u + dt/6*(k1+2*k2+2*k3+k4)\n",
    "\n",
    "F = lambda t, u: np.array([1/tau_m * (-u[0] + convolution(u[0]) - beta*u[1]),\n",
    "                           alpha * (-u[1] + u[0]) ])"
   ]
  },
  {
   "cell_type": "code",
   "execution_count": 4,
   "metadata": {},
   "outputs": [
    {
     "name": "stdout",
     "output_type": "stream",
     "text": [
      "step 1999/2000\r"
     ]
    }
   ],
   "source": [
    "# Cosine bell with no negative feedback\n",
    "# u0 = np.zeros((2,n))\n",
    "# u0[0,np.abs(xs)<np.pi] = (np.cos( xs[np.abs(xs)<np.pi] ) + 1)/2\n",
    "\n",
    "# Cosine bells, offset\n",
    "# u0 = np.zeros((2,n))\n",
    "# u0[0,np.abs(xs)<np.pi] = (np.cos( xs[np.abs(xs)<np.pi] ) + 1)/2\n",
    "# shift = 2*np.pi\n",
    "# u0[1,np.abs(xs+shift)<np.pi] = (np.cos( xs[np.abs(xs+shift)<np.pi]+shift ) + 1)/2\n",
    "\n",
    "# Cosine Bell, with heaviside feedback\n",
    "# u0 = np.zeros((2,n))\n",
    "# u0[0,np.abs(xs)<np.pi] = (np.cos( xs[np.abs(xs)<np.pi] ) + 1)/2\n",
    "# u0[1] = np.heaviside(-xs, 0) - np.heaviside(-np.pi-xs,0)\n",
    "\n",
    "# test 3\n",
    "u0 = np.zeros((2,n))\n",
    "u0[0,np.abs(xs+20)<np.pi] = (np.cos( xs[np.abs(xs+20)<np.pi] ) + 1)/2 * (xs[np.abs(xs+20)<np.pi]+20)\n",
    "shift = np.pi/2 + 20\n",
    "u0[1,np.abs(xs+shift)<np.pi] = (np.cos( xs[np.abs(xs+shift)<np.pi]+shift ) + 1)/2\n",
    "\n",
    "t0 = 0\n",
    "t_final = 20\n",
    "k = 1e-2\n",
    "\n",
    "########################\n",
    "steps = int(np.ceil( (t_final - t0)/k ))\n",
    "k = (t_final - t0)/steps\n",
    "\n",
    "us = [u0]\n",
    "ts = [t0]\n",
    "\n",
    "for step in range(steps):\n",
    "    ts += [ts[-1] + k]\n",
    "    us += [ RK4_step(F, ts[-1], us[-1], k) ]\n",
    "    print('step %d/%d' % (step,steps), end='\\r')\n"
   ]
  },
  {
   "cell_type": "code",
   "execution_count": 6,
   "metadata": {},
   "outputs": [
    {
     "name": "stderr",
     "output_type": "stream",
     "text": [
      "Traceback (most recent call last):\n",
      "  File \"/usr/local/lib/python3.6/dist-packages/matplotlib/cbook/__init__.py\", line 216, in process\n",
      "    func(*args, **kwargs)\n",
      "  File \"/usr/local/lib/python3.6/dist-packages/matplotlib/animation.py\", line 953, in _start\n",
      "    self._init_draw()\n",
      "  File \"/usr/local/lib/python3.6/dist-packages/matplotlib/animation.py\", line 1735, in _init_draw\n",
      "    self._drawn_artists = self._init_func()\n",
      "  File \"<ipython-input-6-0536bbed7363>\", line 18, in init\n",
      "    return line,\n",
      "NameError: name 'line' is not defined\n"
     ]
    },
    {
     "ename": "NameError",
     "evalue": "name 'line' is not defined",
     "output_type": "error",
     "traceback": [
      "\u001b[0;31m---------------------------------------------------------------------------\u001b[0m",
      "\u001b[0;31mNameError\u001b[0m                                 Traceback (most recent call last)",
      "\u001b[0;32m<ipython-input-6-0536bbed7363>\u001b[0m in \u001b[0;36m<module>\u001b[0;34m\u001b[0m\n\u001b[1;32m     25\u001b[0m \u001b[0;34m\u001b[0m\u001b[0m\n\u001b[1;32m     26\u001b[0m \u001b[0mplt\u001b[0m\u001b[0;34m.\u001b[0m\u001b[0mclose\u001b[0m\u001b[0;34m(\u001b[0m\u001b[0;34m)\u001b[0m\u001b[0;34m\u001b[0m\u001b[0;34m\u001b[0m\u001b[0m\n\u001b[0;32m---> 27\u001b[0;31m \u001b[0mHTML\u001b[0m\u001b[0;34m(\u001b[0m\u001b[0manim\u001b[0m\u001b[0;34m.\u001b[0m\u001b[0mto_html5_video\u001b[0m\u001b[0;34m(\u001b[0m\u001b[0;34m)\u001b[0m\u001b[0;34m)\u001b[0m\u001b[0;34m\u001b[0m\u001b[0;34m\u001b[0m\u001b[0m\n\u001b[0m",
      "\u001b[0;32m/usr/local/lib/python3.6/dist-packages/matplotlib/animation.py\u001b[0m in \u001b[0;36mto_html5_video\u001b[0;34m(self, embed_limit)\u001b[0m\n\u001b[1;32m   1328\u001b[0m                                 \u001b[0mbitrate\u001b[0m\u001b[0;34m=\u001b[0m\u001b[0mrcParams\u001b[0m\u001b[0;34m[\u001b[0m\u001b[0;34m'animation.bitrate'\u001b[0m\u001b[0;34m]\u001b[0m\u001b[0;34m,\u001b[0m\u001b[0;34m\u001b[0m\u001b[0;34m\u001b[0m\u001b[0m\n\u001b[1;32m   1329\u001b[0m                                 fps=1000. / self._interval)\n\u001b[0;32m-> 1330\u001b[0;31m                 \u001b[0mself\u001b[0m\u001b[0;34m.\u001b[0m\u001b[0msave\u001b[0m\u001b[0;34m(\u001b[0m\u001b[0mstr\u001b[0m\u001b[0;34m(\u001b[0m\u001b[0mpath\u001b[0m\u001b[0;34m)\u001b[0m\u001b[0;34m,\u001b[0m \u001b[0mwriter\u001b[0m\u001b[0;34m=\u001b[0m\u001b[0mwriter\u001b[0m\u001b[0;34m)\u001b[0m\u001b[0;34m\u001b[0m\u001b[0;34m\u001b[0m\u001b[0m\n\u001b[0m\u001b[1;32m   1331\u001b[0m                 \u001b[0;31m# Now open and base64 encode.\u001b[0m\u001b[0;34m\u001b[0m\u001b[0;34m\u001b[0m\u001b[0;34m\u001b[0m\u001b[0m\n\u001b[1;32m   1332\u001b[0m                 \u001b[0mvid64\u001b[0m \u001b[0;34m=\u001b[0m \u001b[0mbase64\u001b[0m\u001b[0;34m.\u001b[0m\u001b[0mencodebytes\u001b[0m\u001b[0;34m(\u001b[0m\u001b[0mpath\u001b[0m\u001b[0;34m.\u001b[0m\u001b[0mread_bytes\u001b[0m\u001b[0;34m(\u001b[0m\u001b[0;34m)\u001b[0m\u001b[0;34m)\u001b[0m\u001b[0;34m\u001b[0m\u001b[0;34m\u001b[0m\u001b[0m\n",
      "\u001b[0;32m/usr/local/lib/python3.6/dist-packages/matplotlib/animation.py\u001b[0m in \u001b[0;36msave\u001b[0;34m(self, filename, writer, fps, dpi, codec, bitrate, extra_args, metadata, extra_anim, savefig_kwargs, progress_callback)\u001b[0m\n\u001b[1;32m   1137\u001b[0m                 \u001b[0;32mfor\u001b[0m \u001b[0manim\u001b[0m \u001b[0;32min\u001b[0m \u001b[0mall_anim\u001b[0m\u001b[0;34m:\u001b[0m\u001b[0;34m\u001b[0m\u001b[0;34m\u001b[0m\u001b[0m\n\u001b[1;32m   1138\u001b[0m                     \u001b[0;31m# Clear the initial frame\u001b[0m\u001b[0;34m\u001b[0m\u001b[0;34m\u001b[0m\u001b[0;34m\u001b[0m\u001b[0m\n\u001b[0;32m-> 1139\u001b[0;31m                     \u001b[0manim\u001b[0m\u001b[0;34m.\u001b[0m\u001b[0m_init_draw\u001b[0m\u001b[0;34m(\u001b[0m\u001b[0;34m)\u001b[0m\u001b[0;34m\u001b[0m\u001b[0;34m\u001b[0m\u001b[0m\n\u001b[0m\u001b[1;32m   1140\u001b[0m                 \u001b[0mframe_number\u001b[0m \u001b[0;34m=\u001b[0m \u001b[0;36m0\u001b[0m\u001b[0;34m\u001b[0m\u001b[0;34m\u001b[0m\u001b[0m\n\u001b[1;32m   1141\u001b[0m                 \u001b[0;31m# TODO: Currently only FuncAnimation has a save_count\u001b[0m\u001b[0;34m\u001b[0m\u001b[0;34m\u001b[0m\u001b[0;34m\u001b[0m\u001b[0m\n",
      "\u001b[0;32m/usr/local/lib/python3.6/dist-packages/matplotlib/animation.py\u001b[0m in \u001b[0;36m_init_draw\u001b[0;34m(self)\u001b[0m\n\u001b[1;32m   1733\u001b[0m \u001b[0;34m\u001b[0m\u001b[0m\n\u001b[1;32m   1734\u001b[0m         \u001b[0;32melse\u001b[0m\u001b[0;34m:\u001b[0m\u001b[0;34m\u001b[0m\u001b[0;34m\u001b[0m\u001b[0m\n\u001b[0;32m-> 1735\u001b[0;31m             \u001b[0mself\u001b[0m\u001b[0;34m.\u001b[0m\u001b[0m_drawn_artists\u001b[0m \u001b[0;34m=\u001b[0m \u001b[0mself\u001b[0m\u001b[0;34m.\u001b[0m\u001b[0m_init_func\u001b[0m\u001b[0;34m(\u001b[0m\u001b[0;34m)\u001b[0m\u001b[0;34m\u001b[0m\u001b[0;34m\u001b[0m\u001b[0m\n\u001b[0m\u001b[1;32m   1736\u001b[0m             \u001b[0;32mif\u001b[0m \u001b[0mself\u001b[0m\u001b[0;34m.\u001b[0m\u001b[0m_blit\u001b[0m\u001b[0;34m:\u001b[0m\u001b[0;34m\u001b[0m\u001b[0;34m\u001b[0m\u001b[0m\n\u001b[1;32m   1737\u001b[0m                 \u001b[0;32mif\u001b[0m \u001b[0mself\u001b[0m\u001b[0;34m.\u001b[0m\u001b[0m_drawn_artists\u001b[0m \u001b[0;32mis\u001b[0m \u001b[0;32mNone\u001b[0m\u001b[0;34m:\u001b[0m\u001b[0;34m\u001b[0m\u001b[0;34m\u001b[0m\u001b[0m\n",
      "\u001b[0;32m<ipython-input-6-0536bbed7363>\u001b[0m in \u001b[0;36minit\u001b[0;34m()\u001b[0m\n\u001b[1;32m     16\u001b[0m \u001b[0;32mdef\u001b[0m \u001b[0minit\u001b[0m\u001b[0;34m(\u001b[0m\u001b[0;34m)\u001b[0m\u001b[0;34m:\u001b[0m\u001b[0;34m\u001b[0m\u001b[0;34m\u001b[0m\u001b[0m\n\u001b[1;32m     17\u001b[0m     \u001b[0mline_u\u001b[0m\u001b[0;34m.\u001b[0m\u001b[0mset_ydata\u001b[0m\u001b[0;34m(\u001b[0m\u001b[0mus\u001b[0m\u001b[0;34m[\u001b[0m\u001b[0;36m0\u001b[0m\u001b[0;34m]\u001b[0m\u001b[0;34m)\u001b[0m\u001b[0;34m\u001b[0m\u001b[0;34m\u001b[0m\u001b[0m\n\u001b[0;32m---> 18\u001b[0;31m     \u001b[0;32mreturn\u001b[0m \u001b[0mline\u001b[0m\u001b[0;34m,\u001b[0m\u001b[0;34m\u001b[0m\u001b[0;34m\u001b[0m\u001b[0m\n\u001b[0m\u001b[1;32m     19\u001b[0m \u001b[0;34m\u001b[0m\u001b[0m\n\u001b[1;32m     20\u001b[0m anim = animation.FuncAnimation(fig, animate, np.arange(0,len(ts),stride), init_func=init,\n",
      "\u001b[0;31mNameError\u001b[0m: name 'line' is not defined"
     ]
    }
   ],
   "source": [
    "stride = 10\n",
    "\n",
    "fig, ax = plt.subplots(1, 1, figsize=(12,8))\n",
    "\n",
    "line_u, = ax.plot(xs, us[0][0], 'b-', label=\"$u$\")\n",
    "line_v, = ax.plot(xs, us[0][1], 'g-', label=\"$v$\")\n",
    "\n",
    "def animate(i):\n",
    "    print('step %d/%d' % (i,len(ts)), end='\\r')\n",
    "    line_u.set_ydata(us[i][0])\n",
    "    line_v.set_ydata(us[i][1])\n",
    "    return line,\n",
    "\n",
    "\n",
    "# Init only required for blitting to give a clean slate.\n",
    "def init():\n",
    "    line_u.set_ydata(us[0])\n",
    "    return line_u,\n",
    "\n",
    "anim = animation.FuncAnimation(fig, animate, np.arange(0,len(ts),stride), init_func=init,\n",
    "                              interval=1/24*1000, blit=True)\n",
    "\n",
    "# anim.save('images/project/reprfig2.mp4', writer='imagemagick', fps=24)\n",
    "# plt.show()\n",
    "\n",
    "plt.close()\n",
    "HTML(anim.to_html5_video())"
   ]
  },
  {
   "cell_type": "code",
   "execution_count": null,
   "metadata": {},
   "outputs": [],
   "source": []
  }
 ],
 "metadata": {
  "kernelspec": {
   "display_name": "Python 3",
   "language": "python",
   "name": "python3"
  },
  "language_info": {
   "codemirror_mode": {
    "name": "ipython",
    "version": 3
   },
   "file_extension": ".py",
   "mimetype": "text/x-python",
   "name": "python",
   "nbconvert_exporter": "python",
   "pygments_lexer": "ipython3",
   "version": "3.6.9"
  }
 },
 "nbformat": 4,
 "nbformat_minor": 4
}

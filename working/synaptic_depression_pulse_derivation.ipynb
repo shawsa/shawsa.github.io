{
 "cells": [
  {
   "cell_type": "code",
   "execution_count": 170,
   "id": "4791ed63",
   "metadata": {},
   "outputs": [],
   "source": [
    "%matplotlib inline\n",
    "import matplotlib.pyplot as plt\n",
    "\n",
    "import sympy as sym\n",
    "# Heaviside numerics workaround\n",
    "sympy_modules = [{'Heaviside': lambda x: np.heaviside(x,0.5)}, 'numpy']\n",
    "from functools import reduce\n",
    "\n",
    "import numpy as np\n",
    "import numpy.linalg as la\n",
    "\n",
    "import pickle"
   ]
  },
  {
   "cell_type": "code",
   "execution_count": 213,
   "id": "cf832493",
   "metadata": {},
   "outputs": [],
   "source": [
    "import matplotlib\n",
    "matplotlib.rcParams.update({'font.size': 16})"
   ]
  },
  {
   "cell_type": "markdown",
   "id": "71a46ee9",
   "metadata": {},
   "source": [
    "# Final 2022/02/10"
   ]
  },
  {
   "cell_type": "code",
   "execution_count": 91,
   "id": "cb33f27d",
   "metadata": {},
   "outputs": [],
   "source": [
    "display_mode = 'display'\n",
    "def my_display(expr):\n",
    "    if display_mode == 'latex':\n",
    "        print(sym.latex(expr))\n",
    "    else:\n",
    "        display(expr)\n",
    "    return None"
   ]
  },
  {
   "cell_type": "code",
   "execution_count": 92,
   "id": "05b8859f",
   "metadata": {},
   "outputs": [
    {
     "data": {
      "text/latex": [
       "$\\displaystyle Q{\\left(\\xi \\right)} = \\begin{cases} \\frac{\\alpha \\beta \\left(- e^{\\frac{\\Delta}{\\alpha c}} + e^{- \\frac{\\Delta \\beta}{c}}\\right) e^{\\frac{\\xi}{\\alpha c}}}{\\alpha \\beta + 1} + 1 & \\text{for}\\: \\Delta < - \\xi \\\\\\frac{\\alpha \\beta e^{\\frac{\\xi \\left(\\alpha \\beta + 1\\right)}{\\alpha c}} + 1}{\\alpha \\beta + 1} & \\text{for}\\: \\xi < 0 \\\\1 & \\text{otherwise} \\end{cases}$"
      ],
      "text/plain": [
       "Eq(Q(\\xi), Piecewise((\\alpha*\\beta*(-exp(\\Delta/(\\alpha*c)) + exp(-\\Delta*\\beta/c))*exp(\\xi/(\\alpha*c))/(\\alpha*\\beta + 1) + 1, \\Delta < -\\xi), ((\\alpha*\\beta*exp(\\xi*(\\alpha*\\beta + 1)/(\\alpha*c)) + 1)/(\\alpha*\\beta + 1), \\xi < 0), (1, True)))"
      ]
     },
     "metadata": {},
     "output_type": "display_data"
    }
   ],
   "source": [
    "ξ, y = sym.symbols('\\\\xi y', real=True)\n",
    "α, β, c, Δ, μ = sym.symbols('\\\\alpha, \\\\beta, c, \\\\Delta \\\\mu', positive=True)\n",
    "Q_right = 1\n",
    "Q_mid = 1/(1+α*β)*(1 + α*β*sym.exp((1+α*β)/(c*α)*ξ))\n",
    "Q_left = 1 + α*β/(1+α*β)*(sym.exp(-β*Δ/c) - sym.exp(Δ/(α*c)))*sym.exp(ξ/(α*c))\n",
    "Q = sym.Piecewise((Q_left, ξ<-Δ), (Q_mid, ξ<0), (Q_right, True))\n",
    "my_display(sym.Eq(sym.Function('Q')(ξ), Q))"
   ]
  },
  {
   "cell_type": "code",
   "execution_count": 93,
   "id": "dbcc735c",
   "metadata": {},
   "outputs": [
    {
     "name": "stdout",
     "output_type": "stream",
     "text": [
      "Assuming\n"
     ]
    },
    {
     "data": {
      "text/latex": [
       "$\\displaystyle \\frac{\\alpha \\beta + 1}{\\alpha c} \\neq 1$"
      ],
      "text/plain": [
       "Ne((\\alpha*\\beta + 1)/(\\alpha*c), 1)"
      ]
     },
     "metadata": {},
     "output_type": "display_data"
    },
    {
     "data": {
      "text/latex": [
       "$\\displaystyle \\text{True}$"
      ],
      "text/plain": [
       "True"
      ]
     },
     "metadata": {},
     "output_type": "display_data"
    },
    {
     "name": "stdout",
     "output_type": "stream",
     "text": [
      "with\n"
     ]
    },
    {
     "data": {
      "text/latex": [
       "$\\displaystyle r_{1} = \\frac{\\alpha \\beta + 1}{\\alpha c}$"
      ],
      "text/plain": [
       "Eq(r_1, (\\alpha*\\beta + 1)/(\\alpha*c))"
      ]
     },
     "metadata": {},
     "output_type": "display_data"
    },
    {
     "data": {
      "text/latex": [
       "$\\displaystyle B_{1} = \\frac{1}{\\alpha \\beta + 1}$"
      ],
      "text/plain": [
       "Eq(B_1, 1/(\\alpha*\\beta + 1))"
      ]
     },
     "metadata": {},
     "output_type": "display_data"
    },
    {
     "data": {
      "text/latex": [
       "$\\displaystyle B_{2} = \\frac{\\alpha \\beta}{\\alpha \\beta + 1}$"
      ],
      "text/plain": [
       "Eq(B_2, \\alpha*\\beta/(\\alpha*\\beta + 1))"
      ]
     },
     "metadata": {},
     "output_type": "display_data"
    },
    {
     "data": {
      "text/latex": [
       "$\\displaystyle B_{3} = \\frac{\\left(- \\alpha^{2} \\beta c e^{\\Delta} + \\alpha c \\left(\\alpha \\beta - e^{\\Delta} + 1\\right) e^{\\frac{\\Delta \\left(\\alpha \\beta + 1\\right)}{\\alpha c}} - \\left(1 - e^{\\Delta}\\right) \\left(\\alpha \\beta + 1\\right) e^{\\frac{\\Delta \\left(\\alpha \\beta + 1\\right)}{\\alpha c}}\\right) e^{- \\frac{\\Delta \\left(\\alpha \\beta + 1\\right)}{\\alpha c}}}{2 \\left(\\alpha \\beta + 1\\right) \\left(\\alpha \\beta - \\alpha c + 1\\right)}$"
      ],
      "text/plain": [
       "Eq(B_3, (-\\alpha**2*\\beta*c*exp(\\Delta) + \\alpha*c*(\\alpha*\\beta - exp(\\Delta) + 1)*exp(\\Delta*(\\alpha*\\beta + 1)/(\\alpha*c)) - (1 - exp(\\Delta))*(\\alpha*\\beta + 1)*exp(\\Delta*(\\alpha*\\beta + 1)/(\\alpha*c)))*exp(-\\Delta*(\\alpha*\\beta + 1)/(\\alpha*c))/(2*(\\alpha*\\beta + 1)*(\\alpha*\\beta - \\alpha*c + 1)))"
      ]
     },
     "metadata": {},
     "output_type": "display_data"
    },
    {
     "data": {
      "text/latex": [
       "$\\displaystyle B_{4} = \\frac{\\left(- \\alpha^{2} \\beta c + \\alpha c \\left(\\alpha \\beta + 1\\right) e^{\\frac{\\Delta \\left(\\alpha \\beta + \\alpha c + 1\\right)}{\\alpha c}} - \\alpha c e^{\\frac{\\Delta \\left(\\alpha \\beta + 1\\right)}{\\alpha c}} - \\left(\\alpha \\beta + 1\\right) e^{\\frac{\\Delta \\left(\\alpha \\beta + 1\\right)}{\\alpha c}} + \\left(\\alpha \\beta + 1\\right) e^{\\frac{\\Delta \\left(\\alpha \\beta + \\alpha c + 1\\right)}{\\alpha c}}\\right) e^{- \\frac{\\Delta \\left(\\alpha \\beta + \\alpha c + 1\\right)}{\\alpha c}}}{2 \\left(\\alpha \\beta + 1\\right) \\left(\\alpha \\beta + \\alpha c + 1\\right)}$"
      ],
      "text/plain": [
       "Eq(B_4, (-\\alpha**2*\\beta*c + \\alpha*c*(\\alpha*\\beta + 1)*exp(\\Delta*(\\alpha*\\beta + \\alpha*c + 1)/(\\alpha*c)) - \\alpha*c*exp(\\Delta*(\\alpha*\\beta + 1)/(\\alpha*c)) - (\\alpha*\\beta + 1)*exp(\\Delta*(\\alpha*\\beta + 1)/(\\alpha*c)) + (\\alpha*\\beta + 1)*exp(\\Delta*(\\alpha*\\beta + \\alpha*c + 1)/(\\alpha*c)))*exp(-\\Delta*(\\alpha*\\beta + \\alpha*c + 1)/(\\alpha*c))/(2*(\\alpha*\\beta + 1)*(\\alpha*\\beta + \\alpha*c + 1)))"
      ]
     },
     "metadata": {},
     "output_type": "display_data"
    },
    {
     "data": {
      "text/latex": [
       "$\\displaystyle B_{5} = \\frac{\\alpha^{2} \\beta c}{\\left(\\alpha \\beta + 1\\right) \\left(\\alpha \\beta + \\alpha c + 1\\right)}$"
      ],
      "text/plain": [
       "Eq(B_5, \\alpha**2*\\beta*c/((\\alpha*\\beta + 1)*(\\alpha*\\beta + \\alpha*c + 1)))"
      ]
     },
     "metadata": {},
     "output_type": "display_data"
    },
    {
     "data": {
      "text/latex": [
       "$\\displaystyle B_{6} = - \\frac{\\left(\\alpha^{2} \\beta c e^{\\Delta} + \\left(\\alpha \\beta + \\alpha c + 1\\right) e^{\\frac{\\Delta \\left(\\alpha \\beta + \\alpha c + 1\\right)}{\\alpha c}}\\right) e^{- \\frac{\\Delta \\left(\\alpha \\beta + 2 \\alpha c + 1\\right)}{\\alpha c}}}{\\left(\\alpha \\beta + 1\\right) \\left(\\alpha \\beta + \\alpha c + 1\\right)}$"
      ],
      "text/plain": [
       "Eq(B_6, -(\\alpha**2*\\beta*c*exp(\\Delta) + (\\alpha*\\beta + \\alpha*c + 1)*exp(\\Delta*(\\alpha*\\beta + \\alpha*c + 1)/(\\alpha*c)))*exp(-\\Delta*(\\alpha*\\beta + 2*\\alpha*c + 1)/(\\alpha*c))/((\\alpha*\\beta + 1)*(\\alpha*\\beta + \\alpha*c + 1)))"
      ]
     },
     "metadata": {},
     "output_type": "display_data"
    },
    {
     "data": {
      "text/latex": [
       "$\\displaystyle B_{7} = \\frac{\\alpha^{2} \\beta c}{\\left(\\alpha \\beta + 1\\right) \\left(- \\alpha \\beta + \\alpha c - 1\\right)}$"
      ],
      "text/plain": [
       "Eq(B_7, \\alpha**2*\\beta*c/((\\alpha*\\beta + 1)*(-\\alpha*\\beta + \\alpha*c - 1)))"
      ]
     },
     "metadata": {},
     "output_type": "display_data"
    },
    {
     "data": {
      "text/latex": [
       "$\\displaystyle B_{8} = \\frac{\\alpha c - 1}{- \\alpha \\beta + \\alpha c - 1}$"
      ],
      "text/plain": [
       "Eq(B_8, (\\alpha*c - 1)/(-\\alpha*\\beta + \\alpha*c - 1))"
      ]
     },
     "metadata": {},
     "output_type": "display_data"
    },
    {
     "data": {
      "text/latex": [
       "$\\displaystyle B_{9} = - \\frac{\\left(\\alpha^{2} \\beta c e^{\\Delta} + \\left(\\alpha \\beta + \\alpha c + 1\\right) e^{\\frac{\\Delta \\left(\\alpha \\beta + \\alpha c + 1\\right)}{\\alpha c}}\\right) e^{- \\frac{\\Delta \\left(\\alpha \\beta + 2 \\alpha c + 1\\right)}{\\alpha c}}}{2 \\left(\\alpha \\beta + 1\\right) \\left(\\mu c + 1\\right) \\left(\\alpha \\beta + \\alpha c + 1\\right)}$"
      ],
      "text/plain": [
       "Eq(B_9, -(\\alpha**2*\\beta*c*exp(\\Delta) + (\\alpha*\\beta + \\alpha*c + 1)*exp(\\Delta*(\\alpha*\\beta + \\alpha*c + 1)/(\\alpha*c)))*exp(-\\Delta*(\\alpha*\\beta + 2*\\alpha*c + 1)/(\\alpha*c))/(2*(\\alpha*\\beta + 1)*(\\mu*c + 1)*(\\alpha*\\beta + \\alpha*c + 1)))"
      ]
     },
     "metadata": {},
     "output_type": "display_data"
    },
    {
     "data": {
      "text/latex": [
       "$\\displaystyle B_{10} = \\frac{- \\alpha^{2} \\beta c + \\alpha \\beta - \\alpha c + 1}{2 \\left(\\alpha \\beta + 1\\right) \\left(\\mu c - 1\\right) \\left(- \\alpha \\beta + \\alpha c - 1\\right)}$"
      ],
      "text/plain": [
       "Eq(B_10, (-\\alpha**2*\\beta*c + \\alpha*\\beta - \\alpha*c + 1)/(2*(\\alpha*\\beta + 1)*(\\mu*c - 1)*(-\\alpha*\\beta + \\alpha*c - 1)))"
      ]
     },
     "metadata": {},
     "output_type": "display_data"
    },
    {
     "data": {
      "text/latex": [
       "$\\displaystyle B_{11} = \\frac{\\alpha^{4} \\beta c^{2}}{\\left(\\alpha - \\mu \\left(\\alpha \\beta + 1\\right)\\right) \\left(\\alpha \\beta + 1\\right) \\left(- \\alpha \\beta + \\alpha c - 1\\right) \\left(\\alpha \\beta + \\alpha c + 1\\right)}$"
      ],
      "text/plain": [
       "Eq(B_11, \\alpha**4*\\beta*c**2/((\\alpha - \\mu*(\\alpha*\\beta + 1))*(\\alpha*\\beta + 1)*(-\\alpha*\\beta + \\alpha*c - 1)*(\\alpha*\\beta + \\alpha*c + 1)))"
      ]
     },
     "metadata": {},
     "output_type": "display_data"
    },
    {
     "data": {
      "text/latex": [
       "$\\displaystyle B_{12} = \\frac{\\left(\\alpha^{2} \\beta c e^{\\Delta} - \\alpha c \\left(\\alpha \\beta - e^{\\Delta} + 1\\right) e^{\\frac{\\Delta \\left(\\alpha \\beta + 1\\right)}{\\alpha c}} + \\left(1 - e^{\\Delta}\\right) \\left(\\alpha \\beta + 1\\right) e^{\\frac{\\Delta \\left(\\alpha \\beta + 1\\right)}{\\alpha c}}\\right) e^{- \\frac{\\Delta \\left(\\alpha \\beta + 1\\right)}{\\alpha c}}}{2 \\left(\\alpha \\beta + 1\\right) \\left(\\mu c - 1\\right) \\left(\\alpha \\beta - \\alpha c + 1\\right)}$"
      ],
      "text/plain": [
       "Eq(B_12, (\\alpha**2*\\beta*c*exp(\\Delta) - \\alpha*c*(\\alpha*\\beta - exp(\\Delta) + 1)*exp(\\Delta*(\\alpha*\\beta + 1)/(\\alpha*c)) + (1 - exp(\\Delta))*(\\alpha*\\beta + 1)*exp(\\Delta*(\\alpha*\\beta + 1)/(\\alpha*c)))*exp(-\\Delta*(\\alpha*\\beta + 1)/(\\alpha*c))/(2*(\\alpha*\\beta + 1)*(\\mu*c - 1)*(\\alpha*\\beta - \\alpha*c + 1)))"
      ]
     },
     "metadata": {},
     "output_type": "display_data"
    },
    {
     "data": {
      "text/latex": [
       "$\\displaystyle B_{13} = \\frac{\\left(- \\alpha^{2} \\beta c + \\alpha c \\left(\\alpha \\beta + 1\\right) e^{\\frac{\\Delta \\left(\\alpha \\beta + \\alpha c + 1\\right)}{\\alpha c}} - \\alpha c e^{\\frac{\\Delta \\left(\\alpha \\beta + 1\\right)}{\\alpha c}} - \\left(\\alpha \\beta + 1\\right) e^{\\frac{\\Delta \\left(\\alpha \\beta + 1\\right)}{\\alpha c}} + \\left(\\alpha \\beta + 1\\right) e^{\\frac{\\Delta \\left(\\alpha \\beta + \\alpha c + 1\\right)}{\\alpha c}}\\right) e^{- \\frac{\\Delta \\left(\\alpha \\beta + \\alpha c + 1\\right)}{\\alpha c}}}{2 \\left(\\alpha \\beta + 1\\right) \\left(\\mu c + 1\\right) \\left(\\alpha \\beta + \\alpha c + 1\\right)}$"
      ],
      "text/plain": [
       "Eq(B_13, (-\\alpha**2*\\beta*c + \\alpha*c*(\\alpha*\\beta + 1)*exp(\\Delta*(\\alpha*\\beta + \\alpha*c + 1)/(\\alpha*c)) - \\alpha*c*exp(\\Delta*(\\alpha*\\beta + 1)/(\\alpha*c)) - (\\alpha*\\beta + 1)*exp(\\Delta*(\\alpha*\\beta + 1)/(\\alpha*c)) + (\\alpha*\\beta + 1)*exp(\\Delta*(\\alpha*\\beta + \\alpha*c + 1)/(\\alpha*c)))*exp(-\\Delta*(\\alpha*\\beta + \\alpha*c + 1)/(\\alpha*c))/(2*(\\alpha*\\beta + 1)*(\\mu*c + 1)*(\\alpha*\\beta + \\alpha*c + 1)))"
      ]
     },
     "metadata": {},
     "output_type": "display_data"
    },
    {
     "data": {
      "text/latex": [
       "$\\displaystyle r_{2} = 1 + \\frac{1}{\\mu c}$"
      ],
      "text/plain": [
       "Eq(r_2, 1 + 1/(\\mu*c))"
      ]
     },
     "metadata": {},
     "output_type": "display_data"
    },
    {
     "data": {
      "text/latex": [
       "$\\displaystyle A_{M} = - B_{1} - B_{10} - B_{11} + B_{13} - B_{9}$"
      ],
      "text/plain": [
       "Eq(A_M, -B_1 - B_10 - B_11 + B_13 - B_9)"
      ]
     },
     "metadata": {},
     "output_type": "display_data"
    },
    {
     "data": {
      "text/latex": [
       "$\\displaystyle A_{L} = A_{M} + B_{1} e^{\\frac{\\Delta}{\\mu c}} + B_{10} e^{- \\Delta + \\frac{\\Delta}{\\mu c}} + B_{11} e^{- \\Delta r_{1} + \\frac{\\Delta}{\\mu c}} - B_{12} e^{- \\Delta + \\frac{\\Delta}{\\mu c}} + B_{9} e^{\\Delta + \\frac{\\Delta}{\\mu c}}$"
      ],
      "text/plain": [
       "Eq(A_L, A_M + B_1*exp(\\Delta/(\\mu*c)) + B_10*exp(-\\Delta + \\Delta/(\\mu*c)) + B_11*exp(-\\Delta*r_1 + \\Delta/(\\mu*c)) - B_12*exp(-\\Delta + \\Delta/(\\mu*c)) + B_9*exp(\\Delta + \\Delta/(\\mu*c)))"
      ]
     },
     "metadata": {},
     "output_type": "display_data"
    },
    {
     "data": {
      "text/latex": [
       "$\\displaystyle U{\\left(\\xi \\right)} = \\begin{cases} A_{L} e^{\\frac{\\xi}{\\mu c}} + B_{12} e^{\\xi} & \\text{for}\\: \\Delta < - \\xi \\\\A_{M} e^{\\frac{\\xi}{\\mu c}} + B_{1} + B_{10} e^{\\xi} + B_{11} e^{\\xi r_{1}} + B_{9} e^{- \\xi} & \\text{for}\\: \\xi < 0 \\\\B_{13} e^{- \\xi r_{2}} & \\text{otherwise} \\end{cases}$"
      ],
      "text/plain": [
       "Eq(U(\\xi), Piecewise((A_L*exp(\\xi/(\\mu*c)) + B_12*exp(\\xi), \\Delta < -\\xi), (A_M*exp(\\xi/(\\mu*c)) + B_1 + B_10*exp(\\xi) + B_11*exp(\\xi*r_1) + B_9*exp(-\\xi), \\xi < 0), (B_13*exp(-\\xi*r_2), True)))"
      ]
     },
     "metadata": {},
     "output_type": "display_data"
    }
   ],
   "source": [
    "B1, B2, B3, B4, B5, B6, B7, B8, B9, B10, B11, B12, B13 = sym.symbols([f'B_{i}' for i in range(1, 14)])\n",
    "r1, r2 = sym.symbols('r_1 r_2')\n",
    "\n",
    "assumptions = []\n",
    "sub_dict = {r1: (1+α*β)/(c*α)}\n",
    "sub_dict[B1] = 1/(1+α*β)\n",
    "sub_dict[B2] = α*β/(1+α*β)\n",
    "\n",
    "B3_integral_result = sym.integrate(sym.Rational(1,2)*sym.exp(-y)*(B1 + B2*sym.exp(r1*y)), (y, -Δ, 0) )\n",
    "sub_dict[B3] = B3_integral_result.args[0][0].subs(sub_dict).simplify()\n",
    "assumptions += [B3_integral_result.args[0][1]]\n",
    "\n",
    "B4_integral_result = sym.integrate(sym.Rational(1,2)*sym.exp(y)*(B1 + B2*sym.exp(r1*y)), (y, -Δ, 0) )\n",
    "sub_dict[B4] = B4_integral_result.args[0][0].subs(sub_dict).simplify()\n",
    "assumptions += [B4_integral_result.args[0][1]]\n",
    "\n",
    "sub_dict[B5] = (B2/(1+r1)).subs(sub_dict)\n",
    "sub_dict[B6] = (-B1*sym.exp(-Δ) - B2/(1+r1)*sym.exp(-(1+r1)*Δ)).subs(sub_dict)\n",
    "sub_dict[B7] = (-B2/(r1-1)).subs(sub_dict)\n",
    "sub_dict[B8] = (B1 - B2/(r1-1)).subs(sub_dict)\n",
    "\n",
    "sub_dict[B9] = (B6/2/(1+c*μ)).subs(sub_dict)\n",
    "sub_dict[B10] = (B8/2/(1-c*μ)).subs(sub_dict)\n",
    "sub_dict[B11] = ((B5+B7)/2/(1-r1*c*μ)).subs(sub_dict)\n",
    "sub_dict[B12] = (B3/(1-c*μ)).subs(sub_dict)\n",
    "sub_dict[B13] = (B4/(1+c*μ)).subs(sub_dict)\n",
    "\n",
    "sub_dict[r2] = ((1+c*μ)/(c*μ)).subs(sub_dict)\n",
    "\n",
    "\n",
    "for key, val in sub_dict.items():\n",
    "    sub_dict[key] = val.simplify()\n",
    "\n",
    "print('Assuming')\n",
    "for assumption in assumptions:\n",
    "    my_display(assumption.subs(sub_dict))\n",
    "    \n",
    "print('with')\n",
    "for key, val in sub_dict.items():\n",
    "    my_display(sym.Eq(key, val))\n",
    "\n",
    "AL, AM = sym.symbols('A_L A_M')\n",
    "U_left = B12*sym.exp(ξ) + AL*sym.exp(ξ/(c*μ))\n",
    "U_right = B13*sym.exp(-r2*ξ)\n",
    "U_mid = B1 + B9*sym.exp(-ξ) + B10*sym.exp(ξ) + B11*sym.exp(r1*ξ) + AM*sym.exp(ξ/(c*μ))\n",
    "U = sym.Piecewise((U_left, ξ<-Δ), \n",
    "                  (U_mid, ξ<0), \n",
    "                  (U_right, True))\n",
    "\n",
    "AM_subs = sym.solve( (U_right - U_mid).subs(ξ,0), AM)[0]\n",
    "sub_dict[AM] = AM_subs.subs(sub_dict)\n",
    "my_display(sym.Eq(AM, AM_subs))\n",
    "\n",
    "AL_subs = sym.solve( (U_left - U_mid).subs(ξ,-Δ), AL)[0]\n",
    "sub_dict[AL] = AL_subs.subs(sub_dict)\n",
    "my_display(sym.Eq(AL, AL_subs))\n",
    "\n",
    "my_display(sym.Eq(sym.Function('U')(ξ), U))"
   ]
  },
  {
   "cell_type": "code",
   "execution_count": 103,
   "id": "35a7a079",
   "metadata": {},
   "outputs": [
    {
     "data": {
      "text/latex": [
       "$\\displaystyle 0 = A_{M} + B_{1} + B_{10} + B_{11} + B_{9} - \\theta$"
      ],
      "text/plain": [
       "Eq(0, A_M + B_1 + B_10 + B_11 + B_9 - \\theta)"
      ]
     },
     "metadata": {},
     "output_type": "display_data"
    },
    {
     "data": {
      "text/latex": [
       "$\\displaystyle 0 = A_{M} e^{- \\frac{\\Delta}{\\mu c}} + B_{1} + B_{10} e^{- \\Delta} + B_{11} e^{- \\Delta r_{1}} + B_{9} e^{\\Delta} - \\theta$"
      ],
      "text/plain": [
       "Eq(0, A_M*exp(-\\Delta/(\\mu*c)) + B_1 + B_10*exp(-\\Delta) + B_11*exp(-\\Delta*r_1) + B_9*exp(\\Delta) - \\theta)"
      ]
     },
     "metadata": {},
     "output_type": "display_data"
    }
   ],
   "source": [
    "θ = sym.symbols('\\\\theta', positive=True)\n",
    "eq1 = U_mid.subs(ξ, 0) - θ\n",
    "display(sym.Eq(0, eq1))\n",
    "eq2 = U_mid.subs(ξ, -Δ) - θ\n",
    "display(sym.Eq(0, eq2))"
   ]
  },
  {
   "cell_type": "code",
   "execution_count": 95,
   "id": "27f4a9dc",
   "metadata": {},
   "outputs": [
    {
     "data": {
      "text/latex": [
       "$\\displaystyle \\theta = \\frac{\\left(- \\alpha^{2} \\beta c + \\alpha c \\left(\\alpha \\beta + 1\\right) e^{\\frac{\\Delta \\left(\\alpha \\beta + \\alpha c + 1\\right)}{\\alpha c}} - \\alpha c e^{\\frac{\\Delta \\left(\\alpha \\beta + 1\\right)}{\\alpha c}} - \\left(\\alpha \\beta + 1\\right) e^{\\frac{\\Delta \\left(\\alpha \\beta + 1\\right)}{\\alpha c}} + \\left(\\alpha \\beta + 1\\right) e^{\\frac{\\Delta \\left(\\alpha \\beta + \\alpha c + 1\\right)}{\\alpha c}}\\right) e^{- \\frac{\\Delta \\left(\\alpha \\beta + \\alpha c + 1\\right)}{\\alpha c}}}{2 \\left(\\alpha \\beta + 1\\right) \\left(\\mu c + 1\\right) \\left(\\alpha \\beta + \\alpha c + 1\\right)}$"
      ],
      "text/plain": [
       "Eq(\\theta, (-\\alpha**2*\\beta*c + \\alpha*c*(\\alpha*\\beta + 1)*exp(\\Delta*(\\alpha*\\beta + \\alpha*c + 1)/(\\alpha*c)) - \\alpha*c*exp(\\Delta*(\\alpha*\\beta + 1)/(\\alpha*c)) - (\\alpha*\\beta + 1)*exp(\\Delta*(\\alpha*\\beta + 1)/(\\alpha*c)) + (\\alpha*\\beta + 1)*exp(\\Delta*(\\alpha*\\beta + \\alpha*c + 1)/(\\alpha*c)))*exp(-\\Delta*(\\alpha*\\beta + \\alpha*c + 1)/(\\alpha*c))/(2*(\\alpha*\\beta + 1)*(\\mu*c + 1)*(\\alpha*\\beta + \\alpha*c + 1)))"
      ]
     },
     "metadata": {},
     "output_type": "display_data"
    },
    {
     "data": {
      "text/latex": [
       "$\\displaystyle \\theta = \\frac{\\alpha^{4} \\beta c^{2} e^{- \\frac{\\Delta \\left(\\alpha \\beta + 1\\right)}{\\alpha c}}}{\\left(\\alpha - \\mu \\left(\\alpha \\beta + 1\\right)\\right) \\left(\\alpha \\beta + 1\\right) \\left(- \\alpha \\beta + \\alpha c - 1\\right) \\left(\\alpha \\beta + \\alpha c + 1\\right)} + \\left(- \\frac{\\alpha^{4} \\beta c^{2}}{\\left(\\alpha - \\mu \\left(\\alpha \\beta + 1\\right)\\right) \\left(\\alpha \\beta + 1\\right) \\left(- \\alpha \\beta + \\alpha c - 1\\right) \\left(\\alpha \\beta + \\alpha c + 1\\right)} - \\frac{1}{\\alpha \\beta + 1} + \\frac{\\left(\\alpha^{2} \\beta c e^{\\Delta} + \\left(\\alpha \\beta + \\alpha c + 1\\right) e^{\\frac{\\Delta \\left(\\alpha \\beta + \\alpha c + 1\\right)}{\\alpha c}}\\right) e^{- \\frac{\\Delta \\left(\\alpha \\beta + 2 \\alpha c + 1\\right)}{\\alpha c}}}{2 \\left(\\alpha \\beta + 1\\right) \\left(\\mu c + 1\\right) \\left(\\alpha \\beta + \\alpha c + 1\\right)} + \\frac{\\left(- \\alpha^{2} \\beta c + \\alpha c \\left(\\alpha \\beta + 1\\right) e^{\\frac{\\Delta \\left(\\alpha \\beta + \\alpha c + 1\\right)}{\\alpha c}} - \\alpha c e^{\\frac{\\Delta \\left(\\alpha \\beta + 1\\right)}{\\alpha c}} - \\left(\\alpha \\beta + 1\\right) e^{\\frac{\\Delta \\left(\\alpha \\beta + 1\\right)}{\\alpha c}} + \\left(\\alpha \\beta + 1\\right) e^{\\frac{\\Delta \\left(\\alpha \\beta + \\alpha c + 1\\right)}{\\alpha c}}\\right) e^{- \\frac{\\Delta \\left(\\alpha \\beta + \\alpha c + 1\\right)}{\\alpha c}}}{2 \\left(\\alpha \\beta + 1\\right) \\left(\\mu c + 1\\right) \\left(\\alpha \\beta + \\alpha c + 1\\right)} - \\frac{- \\alpha^{2} \\beta c + \\alpha \\beta - \\alpha c + 1}{2 \\left(\\alpha \\beta + 1\\right) \\left(\\mu c - 1\\right) \\left(- \\alpha \\beta + \\alpha c - 1\\right)}\\right) e^{- \\frac{\\Delta}{\\mu c}} + \\frac{1}{\\alpha \\beta + 1} - \\frac{\\left(\\alpha^{2} \\beta c e^{\\Delta} + \\left(\\alpha \\beta + \\alpha c + 1\\right) e^{\\frac{\\Delta \\left(\\alpha \\beta + \\alpha c + 1\\right)}{\\alpha c}}\\right) e^{\\Delta} e^{- \\frac{\\Delta \\left(\\alpha \\beta + 2 \\alpha c + 1\\right)}{\\alpha c}}}{2 \\left(\\alpha \\beta + 1\\right) \\left(\\mu c + 1\\right) \\left(\\alpha \\beta + \\alpha c + 1\\right)} + \\frac{\\left(- \\alpha^{2} \\beta c + \\alpha \\beta - \\alpha c + 1\\right) e^{- \\Delta}}{2 \\left(\\alpha \\beta + 1\\right) \\left(\\mu c - 1\\right) \\left(- \\alpha \\beta + \\alpha c - 1\\right)}$"
      ],
      "text/plain": [
       "Eq(\\theta, \\alpha**4*\\beta*c**2*exp(-\\Delta*(\\alpha*\\beta + 1)/(\\alpha*c))/((\\alpha - \\mu*(\\alpha*\\beta + 1))*(\\alpha*\\beta + 1)*(-\\alpha*\\beta + \\alpha*c - 1)*(\\alpha*\\beta + \\alpha*c + 1)) + (-\\alpha**4*\\beta*c**2/((\\alpha - \\mu*(\\alpha*\\beta + 1))*(\\alpha*\\beta + 1)*(-\\alpha*\\beta + \\alpha*c - 1)*(\\alpha*\\beta + \\alpha*c + 1)) - 1/(\\alpha*\\beta + 1) + (\\alpha**2*\\beta*c*exp(\\Delta) + (\\alpha*\\beta + \\alpha*c + 1)*exp(\\Delta*(\\alpha*\\beta + \\alpha*c + 1)/(\\alpha*c)))*exp(-\\Delta*(\\alpha*\\beta + 2*\\alpha*c + 1)/(\\alpha*c))/(2*(\\alpha*\\beta + 1)*(\\mu*c + 1)*(\\alpha*\\beta + \\alpha*c + 1)) + (-\\alpha**2*\\beta*c + \\alpha*c*(\\alpha*\\beta + 1)*exp(\\Delta*(\\alpha*\\beta + \\alpha*c + 1)/(\\alpha*c)) - \\alpha*c*exp(\\Delta*(\\alpha*\\beta + 1)/(\\alpha*c)) - (\\alpha*\\beta + 1)*exp(\\Delta*(\\alpha*\\beta + 1)/(\\alpha*c)) + (\\alpha*\\beta + 1)*exp(\\Delta*(\\alpha*\\beta + \\alpha*c + 1)/(\\alpha*c)))*exp(-\\Delta*(\\alpha*\\beta + \\alpha*c + 1)/(\\alpha*c))/(2*(\\alpha*\\beta + 1)*(\\mu*c + 1)*(\\alpha*\\beta + \\alpha*c + 1)) - (-\\alpha**2*\\beta*c + \\alpha*\\beta - \\alpha*c + 1)/(2*(\\alpha*\\beta + 1)*(\\mu*c - 1)*(-\\alpha*\\beta + \\alpha*c - 1)))*exp(-\\Delta/(\\mu*c)) + 1/(\\alpha*\\beta + 1) - (\\alpha**2*\\beta*c*exp(\\Delta) + (\\alpha*\\beta + \\alpha*c + 1)*exp(\\Delta*(\\alpha*\\beta + \\alpha*c + 1)/(\\alpha*c)))*exp(\\Delta)*exp(-\\Delta*(\\alpha*\\beta + 2*\\alpha*c + 1)/(\\alpha*c))/(2*(\\alpha*\\beta + 1)*(\\mu*c + 1)*(\\alpha*\\beta + \\alpha*c + 1)) + (-\\alpha**2*\\beta*c + \\alpha*\\beta - \\alpha*c + 1)*exp(-\\Delta)/(2*(\\alpha*\\beta + 1)*(\\mu*c - 1)*(-\\alpha*\\beta + \\alpha*c - 1)))"
      ]
     },
     "metadata": {},
     "output_type": "display_data"
    }
   ],
   "source": [
    "display(eq1.subs(sub_dict))\n",
    "display(eq2.subs(sub_dict))"
   ]
  },
  {
   "cell_type": "markdown",
   "id": "0801cb0e",
   "metadata": {},
   "source": [
    "# Numerics"
   ]
  },
  {
   "cell_type": "code",
   "execution_count": 104,
   "id": "9530eb69",
   "metadata": {},
   "outputs": [],
   "source": [
    "params = {\n",
    "    θ : .2,\n",
    "    α : 20,\n",
    "    β : .25,\n",
    "    μ : 1,\n",
    "}"
   ]
  },
  {
   "cell_type": "code",
   "execution_count": 117,
   "id": "c96ed6c0",
   "metadata": {},
   "outputs": [
    {
     "data": {
      "text/latex": [
       "$\\displaystyle \\frac{10.0 c}{20 c^{2} + 26.0 c + 6.0} + \\left(- \\frac{1.66666666666667 c}{20 c^{2} + 26.0 c + 6.0} - \\frac{8.33333333333333 c e^{- \\frac{0.3 \\Delta}{c}}}{20 c^{2} + 26.0 c + 6.0} - \\frac{0.5}{20 c^{2} + 26.0 c + 6.0}\\right) e^{- \\Delta} - 0.2 + \\frac{0.5}{20 c^{2} + 26.0 c + 6.0}$"
      ],
      "text/plain": [
       "10.0*c/(20*c**2 + 26.0*c + 6.0) + (-1.66666666666667*c/(20*c**2 + 26.0*c + 6.0) - 8.33333333333333*c*exp(-0.3*\\Delta/c)/(20*c**2 + 26.0*c + 6.0) - 0.5/(20*c**2 + 26.0*c + 6.0))*exp(-\\Delta) - 0.2 + 0.5/(20*c**2 + 26.0*c + 6.0)"
      ]
     },
     "metadata": {},
     "output_type": "display_data"
    }
   ],
   "source": [
    "f1 = eq1.subs(sub_dict).subs(params).expand().collect(sym.exp(Δ)).collect(sym.exp(Δ/c))\n",
    "display(f1)"
   ]
  },
  {
   "cell_type": "code",
   "execution_count": 118,
   "id": "47fde1ff",
   "metadata": {},
   "outputs": [
    {
     "data": {
      "text/latex": [
       "$\\displaystyle - \\frac{1.66666666666667 c}{20 c^{2} + 26.0 c + 6.0} + \\left(- \\frac{10.0 c}{20 c^{2} - 26.0 c + 6.0} + \\frac{0.5}{20 c^{2} - 26.0 c + 6.0}\\right) e^{- \\Delta} + \\left(\\frac{10.0 c}{20 c^{2} + 26.0 c + 6.0} + \\frac{0.5}{20 c^{2} + 26.0 c + 6.0}\\right) e^{- \\frac{1.0 \\Delta}{c}} + \\left(\\frac{476.190476190476 c^{2}}{400 c^{2} - 36.0} - \\frac{8.33333333333333 c}{20 c^{2} + 26.0 c + 6.0}\\right) e^{- \\frac{0.3 \\Delta}{c}} + \\left(- \\frac{476.190476190476 c^{2}}{400 c^{2} - 36.0} + \\frac{10.0 c}{20 c^{2} - 26.0 c + 6.0} - 0.166666666666667 - \\frac{0.5}{20 c^{2} - 26.0 c + 6.0}\\right) e^{- \\frac{\\Delta}{c}} - 0.0333333333333334 - \\frac{0.5}{20 c^{2} + 26.0 c + 6.0}$"
      ],
      "text/plain": [
       "-1.66666666666667*c/(20*c**2 + 26.0*c + 6.0) + (-10.0*c/(20*c**2 - 26.0*c + 6.0) + 0.5/(20*c**2 - 26.0*c + 6.0))*exp(-\\Delta) + (10.0*c/(20*c**2 + 26.0*c + 6.0) + 0.5/(20*c**2 + 26.0*c + 6.0))*exp(-1.0*\\Delta/c) + (476.190476190476*c**2/(400*c**2 - 36.0) - 8.33333333333333*c/(20*c**2 + 26.0*c + 6.0))*exp(-0.3*\\Delta/c) + (-476.190476190476*c**2/(400*c**2 - 36.0) + 10.0*c/(20*c**2 - 26.0*c + 6.0) - 0.166666666666667 - 0.5/(20*c**2 - 26.0*c + 6.0))*exp(-\\Delta/c) - 0.0333333333333334 - 0.5/(20*c**2 + 26.0*c + 6.0)"
      ]
     },
     "metadata": {},
     "output_type": "display_data"
    }
   ],
   "source": [
    "f2 = eq2.subs(sub_dict).subs(params).expand().collect(sym.exp(Δ)).collect(sym.exp(Δ/c))\n",
    "display(f2)"
   ]
  },
  {
   "cell_type": "code",
   "execution_count": 137,
   "id": "169f6bf3",
   "metadata": {},
   "outputs": [],
   "source": [
    "F = sym.Matrix([[f1],[f2]])\n",
    "vec = sym.Matrix([[c],[Δ]])\n",
    "J = F.jacobian(vec)\n",
    "\n",
    "F_numeric_raw = sym.lambdify(vec, F)\n",
    "F_numeric = lambda tup: F_numeric_raw(*tup).reshape(2)\n",
    "J_numeric_raw = sym.lambdify(vec, J)\n",
    "J_numeric = lambda tup: J_numeric_raw(*tup)"
   ]
  },
  {
   "cell_type": "code",
   "execution_count": 138,
   "id": "08d57d67",
   "metadata": {},
   "outputs": [
    {
     "data": {
      "text/plain": [
       "array([-0.0860139 ,  0.42495963])"
      ]
     },
     "execution_count": 138,
     "metadata": {},
     "output_type": "execute_result"
    }
   ],
   "source": [
    "F_numeric((3, 4))"
   ]
  },
  {
   "cell_type": "code",
   "execution_count": 139,
   "id": "840a5913",
   "metadata": {},
   "outputs": [
    {
     "data": {
      "text/plain": [
       "array([[-0.02581717,  0.00166047],\n",
       "       [-0.04245575,  0.01689595]])"
      ]
     },
     "execution_count": 139,
     "metadata": {},
     "output_type": "execute_result"
    }
   ],
   "source": [
    "J_numeric((3,4))"
   ]
  },
  {
   "cell_type": "code",
   "execution_count": 166,
   "id": "9f4fa8ff",
   "metadata": {},
   "outputs": [
    {
     "name": "stdout",
     "output_type": "stream",
     "text": [
      "[ 1.2 12. ]\n",
      "[1.02564145 9.00109729]\n",
      "[1.03005368 9.37761384]\n",
      "[1.03004949 9.39810114]\n",
      "[1.03004948 9.3981645 ]\n",
      "[1.03004948 9.3981645 ]\n",
      "[1.03004948 9.3981645 ]\n",
      "[1.03004948 9.3981645 ]\n",
      "[1.03004948 9.3981645 ]\n",
      "[1.03004948 9.3981645 ]\n",
      "[1.03004948 9.3981645 ]\n",
      "[1.03004948 9.3981645 ]\n",
      "[1.03004948 9.3981645 ]\n",
      "[1.03004948 9.3981645 ]\n",
      "[1.03004948 9.3981645 ]\n",
      "[1.03004948 9.3981645 ]\n",
      "[1.03004948 9.3981645 ]\n",
      "[1.03004948 9.3981645 ]\n",
      "[1.03004948 9.3981645 ]\n",
      "[1.03004948 9.3981645 ]\n",
      "[1.03004948 9.3981645 ] [1.21430643e-17 2.25514052e-17]\n"
     ]
    }
   ],
   "source": [
    "x = np.array([1.2, 12], dtype='float')\n",
    "for _ in range(20):\n",
    "    print(x)\n",
    "    x -= la.solve(J_numeric(x), F_numeric(x))\n",
    "print(x, F_numeric(x))\n",
    "params[c], params[Δ] = x\n",
    "\n"
   ]
  },
  {
   "cell_type": "code",
   "execution_count": 168,
   "id": "b18f1f20",
   "metadata": {},
   "outputs": [
    {
     "data": {
      "text/latex": [
       "$\\displaystyle r_{1} = 0.291248144682865$"
      ],
      "text/plain": [
       "Eq(r_1, 0.291248144682865)"
      ]
     },
     "metadata": {},
     "output_type": "display_data"
    },
    {
     "data": {
      "text/latex": [
       "$\\displaystyle B_{1} = 0.166666666666667$"
      ],
      "text/plain": [
       "Eq(B_1, 0.166666666666667)"
      ]
     },
     "metadata": {},
     "output_type": "display_data"
    },
    {
     "data": {
      "text/latex": [
       "$\\displaystyle B_{2} = 0.833333333333333$"
      ],
      "text/plain": [
       "Eq(B_2, 0.833333333333333)"
      ]
     },
     "metadata": {},
     "output_type": "display_data"
    },
    {
     "data": {
      "text/latex": [
       "$\\displaystyle B_{3} = 1464.16673120023$"
      ],
      "text/plain": [
       "Eq(B_3, 1464.16673120023)"
      ]
     },
     "metadata": {},
     "output_type": "display_data"
    },
    {
     "data": {
      "text/latex": [
       "$\\displaystyle B_{4} = 0.40600989601267$"
      ],
      "text/plain": [
       "Eq(B_4, 0.40600989601267)"
      ]
     },
     "metadata": {},
     "output_type": "display_data"
    },
    {
     "data": {
      "text/latex": [
       "$\\displaystyle B_{5} = 0.645370401316629$"
      ],
      "text/plain": [
       "Eq(B_5, 0.645370401316629)"
      ]
     },
     "metadata": {},
     "output_type": "display_data"
    },
    {
     "data": {
      "text/latex": [
       "$\\displaystyle B_{6} = -1.72759579563911 \\cdot 10^{-5}$"
      ],
      "text/plain": [
       "Eq(B_6, -1.72759579563911e-5)"
      ]
     },
     "metadata": {},
     "output_type": "display_data"
    },
    {
     "data": {
      "text/latex": [
       "$\\displaystyle B_{7} = 1.17577587569129$"
      ],
      "text/plain": [
       "Eq(B_7, 1.17577587569129)"
      ]
     },
     "metadata": {},
     "output_type": "display_data"
    },
    {
     "data": {
      "text/latex": [
       "$\\displaystyle B_{8} = 1.34244254235796$"
      ],
      "text/plain": [
       "Eq(B_8, 1.34244254235796)"
      ]
     },
     "metadata": {},
     "output_type": "display_data"
    },
    {
     "data": {
      "text/latex": [
       "$\\displaystyle B_{9} = -4.25505834366462 \\cdot 10^{-6}$"
      ],
      "text/plain": [
       "Eq(B_9, -4.25505834366462e-6)"
      ]
     },
     "metadata": {},
     "output_type": "display_data"
    },
    {
     "data": {
      "text/latex": [
       "$\\displaystyle B_{10} = -22.3372008355544$"
      ],
      "text/plain": [
       "Eq(B_10, -22.3372008355544)"
      ]
     },
     "metadata": {},
     "output_type": "display_data"
    },
    {
     "data": {
      "text/latex": [
       "$\\displaystyle B_{11} = 1.30081876929137$"
      ],
      "text/plain": [
       "Eq(B_11, 1.30081876929137)"
      ]
     },
     "metadata": {},
     "output_type": "display_data"
    },
    {
     "data": {
      "text/latex": [
       "$\\displaystyle B_{12} = -48725.1935179446$"
      ],
      "text/plain": [
       "Eq(B_12, -48725.1935179446)"
      ]
     },
     "metadata": {},
     "output_type": "display_data"
    },
    {
     "data": {
      "text/latex": [
       "$\\displaystyle B_{13} = 0.2$"
      ],
      "text/plain": [
       "Eq(B_13, 0.2)"
      ]
     },
     "metadata": {},
     "output_type": "display_data"
    },
    {
     "data": {
      "text/latex": [
       "$\\displaystyle r_{2} = 1.97082714894288$"
      ],
      "text/plain": [
       "Eq(r_2, 1.97082714894288)"
      ]
     },
     "metadata": {},
     "output_type": "display_data"
    },
    {
     "data": {
      "text/latex": [
       "$\\displaystyle A_{M} = 21.0697196546547$"
      ],
      "text/plain": [
       "Eq(A_M, 21.0697196546547)"
      ]
     },
     "metadata": {},
     "output_type": "display_data"
    },
    {
     "data": {
      "text/latex": [
       "$\\displaystyle A_{L} = 38875.5351105185$"
      ],
      "text/plain": [
       "Eq(A_L, 38875.5351105185)"
      ]
     },
     "metadata": {},
     "output_type": "display_data"
    }
   ],
   "source": [
    "for key, val in sub_dict.items():\n",
    "    display(sym.Eq(key, val.subs(params)))"
   ]
  },
  {
   "cell_type": "code",
   "execution_count": 148,
   "id": "0a041abf",
   "metadata": {},
   "outputs": [
    {
     "data": {
      "text/plain": [
       "{\\theta: 0.2,\n",
       " \\alpha: 20,\n",
       " \\beta: 0.25,\n",
       " \\mu: 1,\n",
       " c: 1.0300494800633475,\n",
       " \\Delta: 9.398164502290209}"
      ]
     },
     "execution_count": 148,
     "metadata": {},
     "output_type": "execute_result"
    }
   ],
   "source": [
    "params"
   ]
  },
  {
   "cell_type": "code",
   "execution_count": 156,
   "id": "645c6786",
   "metadata": {},
   "outputs": [],
   "source": [
    "Q_numeric = sym.lambdify(ξ, Q.subs(params))\n",
    "U_numeric = sym.lambdify(ξ, U.subs(sub_dict).subs(params))"
   ]
  },
  {
   "cell_type": "code",
   "execution_count": 165,
   "id": "efd6e324",
   "metadata": {},
   "outputs": [
    {
     "data": {
      "text/plain": [
       "[<matplotlib.lines.Line2D at 0x7f6119c76320>]"
      ]
     },
     "execution_count": 165,
     "metadata": {},
     "output_type": "execute_result"
    },
    {
     "data": {
      "image/png": "[encoded data removed]",
      "text/plain": [
       "<Figure size 864x576 with 1 Axes>"
      ]
     },
     "metadata": {
      "needs_background": "light"
     },
     "output_type": "display_data"
    }
   ],
   "source": [
    "xs = np.linspace(-100,100, 2001)\n",
    "\n",
    "plt.figure(figsize=(12,8))\n",
    "\n",
    "plt.plot(xs, U_numeric(xs))\n",
    "plt.plot(xs, Q_numeric(xs))\n",
    "plt.plot(xs, params[θ] + 0*xs, 'k:')"
   ]
  },
  {
   "cell_type": "markdown",
   "id": "2a54494e",
   "metadata": {},
   "source": [
    "# Pickle functions"
   ]
  },
  {
   "cell_type": "code",
   "execution_count": 174,
   "id": "a6f8dfd6",
   "metadata": {},
   "outputs": [],
   "source": [
    "def py_code(expr, replace_numpy=True, replace_unicode=True, numpy_package='np.'):\n",
    "    code = sym.ccode(expr)\n",
    "    \n",
    "    if replace_unicode:\n",
    "        unicode_replacements = [\n",
    "            ('\\\\alpha', 'α'),\n",
    "            ('\\\\beta', 'β'),\n",
    "            ('\\\\gamma', 'γ'),\n",
    "            ('\\\\Gamma', 'Γ'),\n",
    "            ('\\\\delta', 'δ'),\n",
    "            ('\\\\Delta', 'Δ'),\n",
    "            ('\\\\epsilon', 'ϵ'),\n",
    "            ('\\\\zeta', 'ζ'),\n",
    "            ('\\\\eta', 'η'),\n",
    "            ('\\\\theta', 'θ'),\n",
    "            ('\\\\xi', 'ξ'),\n",
    "            ('\\\\mu', 'μ')\n",
    "        ]\n",
    "        for unicode, symbol in unicode_replacements:\n",
    "            code = code.replace(unicode, symbol)\n",
    "    \n",
    "    if replace_numpy:\n",
    "        numpy_replacements = [\n",
    "            ('exp', numpy_package + 'exp'),\n",
    "            ('log', numpy_package + 'log'),\n",
    "            ('pow', '( lambda base, exponent: base**exponent )'),\n",
    "            ('Heaviside', '(lambda input: np.heaviside(input,0.5))')\n",
    "        ]\n",
    "        for c_func, np_func in numpy_replacements:\n",
    "            code = code.replace(c_func, np_func)\n",
    "        \n",
    "    return code"
   ]
  },
  {
   "cell_type": "code",
   "execution_count": 194,
   "id": "cea79190",
   "metadata": {},
   "outputs": [
    {
     "data": {
      "text/plain": [
       "'\\\\theta'"
      ]
     },
     "execution_count": 194,
     "metadata": {},
     "output_type": "execute_result"
    }
   ],
   "source": []
  },
  {
   "cell_type": "code",
   "execution_count": 197,
   "id": "b69e0be5",
   "metadata": {},
   "outputs": [
    {
     "data": {
      "text/plain": [
       "{\\theta: 0.2,\n",
       " \\alpha: 20,\n",
       " \\beta: 0.25,\n",
       " \\mu: 1,\n",
       " c: 1.0300494800633475,\n",
       " \\Delta: 9.398164502290209}"
      ]
     },
     "execution_count": 197,
     "metadata": {},
     "output_type": "execute_result"
    }
   ],
   "source": [
    "params"
   ]
  },
  {
   "cell_type": "code",
   "execution_count": null,
   "id": "eb1a5634",
   "metadata": {},
   "outputs": [],
   "source": []
  },
  {
   "cell_type": "code",
   "execution_count": 209,
   "id": "bcc1cc94",
   "metadata": {},
   "outputs": [
    {
     "name": "stdout",
     "output_type": "stream",
     "text": [
      "def Unum(ξ, θ, α, β, μ, c, Δ):\n",
      "\treturn // Not supported in C:\n",
      "// (lambda input: np.heaviside(input,0.5))\n",
      "// (lambda input: np.heaviside(input,0.5))\n",
      "// (lambda input: np.heaviside(input,0.5))\n",
      "// (lambda input: np.heaviside(input,0.5))\n",
      "((( lambda base, exponent: base**exponent )(α, 4)*β*( lambda base, exponent: base**exponent )(c, 2)*np.exp(Δ/(μ*c) - Δ*(α*β + 1)/(α*c))/((α - μ*(α*β + 1))*(α*β + 1)*(-α*β + α*c - 1)*(α*β + α*c + 1)) - ( lambda base, exponent: base**exponent )(α, 4)*β*( lambda base, exponent: base**exponent )(c, 2)/((α - μ*(α*β + 1))*(α*β + 1)*(-α*β + α*c - 1)*(α*β + α*c + 1)) + np.exp(Δ/(μ*c))/(α*β + 1) - 1/(α*β + 1) - 1.0/2.0*(( lambda base, exponent: base**exponent )(α, 2)*β*c*np.exp(Δ) + (α*β + α*c + 1)*np.exp(Δ*(α*β + α*c + 1)/(α*c)))*np.exp(-Δ*(α*β + 2*α*c + 1)/(α*c))*np.exp(Δ + Δ/(μ*c))/((α*β + 1)*(μ*c + 1)*(α*β + α*c + 1)) + (1.0/2.0)*(( lambda base, exponent: base**exponent )(α, 2)*β*c*np.exp(Δ) + (α*β + α*c + 1)*np.exp(Δ*(α*β + α*c + 1)/(α*c)))*np.exp(-Δ*(α*β + 2*α*c + 1)/(α*c))/((α*β + 1)*(μ*c + 1)*(α*β + α*c + 1)) + (1.0/2.0)*(-( lambda base, exponent: base**exponent )(α, 2)*β*c + α*c*(α*β + 1)*np.exp(Δ*(α*β + α*c + 1)/(α*c)) - α*c*np.exp(Δ*(α*β + 1)/(α*c)) - (α*β + 1)*np.exp(Δ*(α*β + 1)/(α*c)) + (α*β + 1)*np.exp(Δ*(α*β + α*c + 1)/(α*c)))*np.exp(-Δ*(α*β + α*c + 1)/(α*c))/((α*β + 1)*(μ*c + 1)*(α*β + α*c + 1)) - 1.0/2.0*(( lambda base, exponent: base**exponent )(α, 2)*β*c*np.exp(Δ) - α*c*(α*β - np.exp(Δ) + 1)*np.exp(Δ*(α*β + 1)/(α*c)) + (1 - np.exp(Δ))*(α*β + 1)*np.exp(Δ*(α*β + 1)/(α*c)))*np.exp(-Δ*(α*β + 1)/(α*c))*np.exp(-Δ + Δ/(μ*c))/((α*β + 1)*(μ*c - 1)*(α*β - α*c + 1)) + (1.0/2.0)*(-( lambda base, exponent: base**exponent )(α, 2)*β*c + α*β - α*c + 1)*np.exp(-Δ + Δ/(μ*c))/((α*β + 1)*(μ*c - 1)*(-α*β + α*c - 1)) - 1.0/2.0*(-( lambda base, exponent: base**exponent )(α, 2)*β*c + α*β - α*c + 1)/((α*β + 1)*(μ*c - 1)*(-α*β + α*c - 1)))*np.exp(ξ/(μ*c)) + (1.0/2.0)*(( lambda base, exponent: base**exponent )(α, 2)*β*c*np.exp(Δ) - α*c*(α*β - np.exp(Δ) + 1)*np.exp(Δ*(α*β + 1)/(α*c)) + (1 - np.exp(Δ))*(α*β + 1)*np.exp(Δ*(α*β + 1)/(α*c)))*np.exp(ξ)*np.exp(-Δ*(α*β + 1)/(α*c))/((α*β + 1)*(μ*c - 1)*(α*β - α*c + 1)))*(lambda input: np.heaviside(input,0.5))(-Δ - ξ) + (( lambda base, exponent: base**exponent )(α, 4)*β*( lambda base, exponent: base**exponent )(c, 2)*np.exp(ξ*(α*β + 1)/(α*c))/((α - μ*(α*β + 1))*(α*β + 1)*(-α*β + α*c - 1)*(α*β + α*c + 1)) + (-( lambda base, exponent: base**exponent )(α, 4)*β*( lambda base, exponent: base**exponent )(c, 2)/((α - μ*(α*β + 1))*(α*β + 1)*(-α*β + α*c - 1)*(α*β + α*c + 1)) - 1/(α*β + 1) + (1.0/2.0)*(( lambda base, exponent: base**exponent )(α, 2)*β*c*np.exp(Δ) + (α*β + α*c + 1)*np.exp(Δ*(α*β + α*c + 1)/(α*c)))*np.exp(-Δ*(α*β + 2*α*c + 1)/(α*c))/((α*β + 1)*(μ*c + 1)*(α*β + α*c + 1)) + (1.0/2.0)*(-( lambda base, exponent: base**exponent )(α, 2)*β*c + α*c*(α*β + 1)*np.exp(Δ*(α*β + α*c + 1)/(α*c)) - α*c*np.exp(Δ*(α*β + 1)/(α*c)) - (α*β + 1)*np.exp(Δ*(α*β + 1)/(α*c)) + (α*β + 1)*np.exp(Δ*(α*β + α*c + 1)/(α*c)))*np.exp(-Δ*(α*β + α*c + 1)/(α*c))/((α*β + 1)*(μ*c + 1)*(α*β + α*c + 1)) - 1.0/2.0*(-( lambda base, exponent: base**exponent )(α, 2)*β*c + α*β - α*c + 1)/((α*β + 1)*(μ*c - 1)*(-α*β + α*c - 1)))*np.exp(ξ/(μ*c)) + 1.0/(α*β + 1) - 1.0/2.0*(( lambda base, exponent: base**exponent )(α, 2)*β*c*np.exp(Δ) + (α*β + α*c + 1)*np.exp(Δ*(α*β + α*c + 1)/(α*c)))*np.exp(-ξ)*np.exp(-Δ*(α*β + 2*α*c + 1)/(α*c))/((α*β + 1)*(μ*c + 1)*(α*β + α*c + 1)) + (1.0/2.0)*(-( lambda base, exponent: base**exponent )(α, 2)*β*c + α*β - α*c + 1)*np.exp(ξ)/((α*β + 1)*(μ*c - 1)*(-α*β + α*c - 1)))*(lambda input: np.heaviside(input,0.5))(-ξ)*(lambda input: np.heaviside(input,0.5))(Δ + ξ) + (1.0/2.0)*(-( lambda base, exponent: base**exponent )(α, 2)*β*c + α*c*(α*β + 1)*np.exp(Δ*(α*β + α*c + 1)/(α*c)) - α*c*np.exp(Δ*(α*β + 1)/(α*c)) - (α*β + 1)*np.exp(Δ*(α*β + 1)/(α*c)) + (α*β + 1)*np.exp(Δ*(α*β + α*c + 1)/(α*c)))*np.exp(-ξ*(1 + 1/(μ*c)))*np.exp(-Δ*(α*β + α*c + 1)/(α*c))*(lambda input: np.heaviside(input,0.5))(ξ)/((α*β + 1)*(μ*c + 1)*(α*β + α*c + 1))\n",
      "def Qnum(ξ, θ, α, β, μ, c, Δ):\n",
      "\treturn // Not supported in C:\n",
      "// (lambda input: np.heaviside(input,0.5))\n",
      "// (lambda input: np.heaviside(input,0.5))\n",
      "// (lambda input: np.heaviside(input,0.5))\n",
      "// (lambda input: np.heaviside(input,0.5))\n",
      "(α*β*(-np.exp(Δ/(α*c)) + np.exp(-Δ*β/c))*np.exp(ξ/(α*c))/(α*β + 1) + 1)*(lambda input: np.heaviside(input,0.5))(-Δ - ξ) + (lambda input: np.heaviside(input,0.5))(ξ) + (α*β*np.exp(ξ*(α*β + 1)/(α*c)) + 1)*(lambda input: np.heaviside(input,0.5))(-ξ)*(lambda input: np.heaviside(input,0.5))(Δ + ξ)/(α*β + 1)\n"
     ]
    }
   ],
   "source": [
    "U_code = sym.Heaviside(-ξ-Δ)*U_left + sym.Heaviside(ξ+Δ)*sym.Heaviside(-ξ)*U_mid + sym.Heaviside(ξ)*U_right\n",
    "code = 'def Unum(ξ, θ, α, β, μ, c, Δ):\\n\\treturn ' + py_code(U_code.subs(sub_dict))\n",
    "print(code)\n",
    "\n",
    "Q_code = sym.Heaviside(-ξ-Δ)*Q_left + sym.Heaviside(ξ+Δ)*sym.Heaviside(-ξ)*Q_mid + sym.Heaviside(ξ)*Q_right\n",
    "code = 'def Qnum(ξ, θ, α, β, μ, c, Δ):\\n\\treturn ' + py_code(Q_code.subs(sub_dict))\n",
    "print(code)"
   ]
  },
  {
   "cell_type": "code",
   "execution_count": 211,
   "id": "8192a7d4",
   "metadata": {},
   "outputs": [],
   "source": [
    "def Unum(ξ, θ, α, β, μ, c, Δ):\n",
    "    return ((( lambda base, exponent: base**exponent )(α, 4)*β*( lambda base, exponent: base**exponent )(c, 2)*np.exp(Δ/(μ*c) - Δ*(α*β + 1)/(α*c))/((α - μ*(α*β + 1))*(α*β + 1)*(-α*β + α*c - 1)*(α*β + α*c + 1)) - ( lambda base, exponent: base**exponent )(α, 4)*β*( lambda base, exponent: base**exponent )(c, 2)/((α - μ*(α*β + 1))*(α*β + 1)*(-α*β + α*c - 1)*(α*β + α*c + 1)) + np.exp(Δ/(μ*c))/(α*β + 1) - 1/(α*β + 1) - 1.0/2.0*(( lambda base, exponent: base**exponent )(α, 2)*β*c*np.exp(Δ) + (α*β + α*c + 1)*np.exp(Δ*(α*β + α*c + 1)/(α*c)))*np.exp(-Δ*(α*β + 2*α*c + 1)/(α*c))*np.exp(Δ + Δ/(μ*c))/((α*β + 1)*(μ*c + 1)*(α*β + α*c + 1)) + (1.0/2.0)*(( lambda base, exponent: base**exponent )(α, 2)*β*c*np.exp(Δ) + (α*β + α*c + 1)*np.exp(Δ*(α*β + α*c + 1)/(α*c)))*np.exp(-Δ*(α*β + 2*α*c + 1)/(α*c))/((α*β + 1)*(μ*c + 1)*(α*β + α*c + 1)) + (1.0/2.0)*(-( lambda base, exponent: base**exponent )(α, 2)*β*c + α*c*(α*β + 1)*np.exp(Δ*(α*β + α*c + 1)/(α*c)) - α*c*np.exp(Δ*(α*β + 1)/(α*c)) - (α*β + 1)*np.exp(Δ*(α*β + 1)/(α*c)) + (α*β + 1)*np.exp(Δ*(α*β + α*c + 1)/(α*c)))*np.exp(-Δ*(α*β + α*c + 1)/(α*c))/((α*β + 1)*(μ*c + 1)*(α*β + α*c + 1)) - 1.0/2.0*(( lambda base, exponent: base**exponent )(α, 2)*β*c*np.exp(Δ) - α*c*(α*β - np.exp(Δ) + 1)*np.exp(Δ*(α*β + 1)/(α*c)) + (1 - np.exp(Δ))*(α*β + 1)*np.exp(Δ*(α*β + 1)/(α*c)))*np.exp(-Δ*(α*β + 1)/(α*c))*np.exp(-Δ + Δ/(μ*c))/((α*β + 1)*(μ*c - 1)*(α*β - α*c + 1)) + (1.0/2.0)*(-( lambda base, exponent: base**exponent )(α, 2)*β*c + α*β - α*c + 1)*np.exp(-Δ + Δ/(μ*c))/((α*β + 1)*(μ*c - 1)*(-α*β + α*c - 1)) - 1.0/2.0*(-( lambda base, exponent: base**exponent )(α, 2)*β*c + α*β - α*c + 1)/((α*β + 1)*(μ*c - 1)*(-α*β + α*c - 1)))*np.exp(ξ/(μ*c)) + (1.0/2.0)*(( lambda base, exponent: base**exponent )(α, 2)*β*c*np.exp(Δ) - α*c*(α*β - np.exp(Δ) + 1)*np.exp(Δ*(α*β + 1)/(α*c)) + (1 - np.exp(Δ))*(α*β + 1)*np.exp(Δ*(α*β + 1)/(α*c)))*np.exp(ξ)*np.exp(-Δ*(α*β + 1)/(α*c))/((α*β + 1)*(μ*c - 1)*(α*β - α*c + 1)))*(lambda input: np.heaviside(input,0.5))(-Δ - ξ) + (( lambda base, exponent: base**exponent )(α, 4)*β*( lambda base, exponent: base**exponent )(c, 2)*np.exp(ξ*(α*β + 1)/(α*c))/((α - μ*(α*β + 1))*(α*β + 1)*(-α*β + α*c - 1)*(α*β + α*c + 1)) + (-( lambda base, exponent: base**exponent )(α, 4)*β*( lambda base, exponent: base**exponent )(c, 2)/((α - μ*(α*β + 1))*(α*β + 1)*(-α*β + α*c - 1)*(α*β + α*c + 1)) - 1/(α*β + 1) + (1.0/2.0)*(( lambda base, exponent: base**exponent )(α, 2)*β*c*np.exp(Δ) + (α*β + α*c + 1)*np.exp(Δ*(α*β + α*c + 1)/(α*c)))*np.exp(-Δ*(α*β + 2*α*c + 1)/(α*c))/((α*β + 1)*(μ*c + 1)*(α*β + α*c + 1)) + (1.0/2.0)*(-( lambda base, exponent: base**exponent )(α, 2)*β*c + α*c*(α*β + 1)*np.exp(Δ*(α*β + α*c + 1)/(α*c)) - α*c*np.exp(Δ*(α*β + 1)/(α*c)) - (α*β + 1)*np.exp(Δ*(α*β + 1)/(α*c)) + (α*β + 1)*np.exp(Δ*(α*β + α*c + 1)/(α*c)))*np.exp(-Δ*(α*β + α*c + 1)/(α*c))/((α*β + 1)*(μ*c + 1)*(α*β + α*c + 1)) - 1.0/2.0*(-( lambda base, exponent: base**exponent )(α, 2)*β*c + α*β - α*c + 1)/((α*β + 1)*(μ*c - 1)*(-α*β + α*c - 1)))*np.exp(ξ/(μ*c)) + 1.0/(α*β + 1) - 1.0/2.0*(( lambda base, exponent: base**exponent )(α, 2)*β*c*np.exp(Δ) + (α*β + α*c + 1)*np.exp(Δ*(α*β + α*c + 1)/(α*c)))*np.exp(-ξ)*np.exp(-Δ*(α*β + 2*α*c + 1)/(α*c))/((α*β + 1)*(μ*c + 1)*(α*β + α*c + 1)) + (1.0/2.0)*(-( lambda base, exponent: base**exponent )(α, 2)*β*c + α*β - α*c + 1)*np.exp(ξ)/((α*β + 1)*(μ*c - 1)*(-α*β + α*c - 1)))*(lambda input: np.heaviside(input,0.5))(-ξ)*(lambda input: np.heaviside(input,0.5))(Δ + ξ) + (1.0/2.0)*(-( lambda base, exponent: base**exponent )(α, 2)*β*c + α*c*(α*β + 1)*np.exp(Δ*(α*β + α*c + 1)/(α*c)) - α*c*np.exp(Δ*(α*β + 1)/(α*c)) - (α*β + 1)*np.exp(Δ*(α*β + 1)/(α*c)) + (α*β + 1)*np.exp(Δ*(α*β + α*c + 1)/(α*c)))*np.exp(-ξ*(1 + 1/(μ*c)))*np.exp(-Δ*(α*β + α*c + 1)/(α*c))*(lambda input: np.heaviside(input,0.5))(ξ)/((α*β + 1)*(μ*c + 1)*(α*β + α*c + 1))\n",
    "def Qnum(ξ, θ, α, β, μ, c, Δ):\n",
    "    return (α*β*(-np.exp(Δ/(α*c)) + np.exp(-Δ*β/c))*np.exp(ξ/(α*c))/(α*β + 1) + 1)*(lambda input: np.heaviside(input,0.5))(-Δ - ξ) + (lambda input: np.heaviside(input,0.5))(ξ) + (α*β*np.exp(ξ*(α*β + 1)/(α*c)) + 1)*(lambda input: np.heaviside(input,0.5))(-ξ)*(lambda input: np.heaviside(input,0.5))(Δ + ξ)/(α*β + 1)"
   ]
  },
  {
   "cell_type": "code",
   "execution_count": 215,
   "id": "c4d531c8",
   "metadata": {},
   "outputs": [
    {
     "data": {
      "image/png": "[encoded data removed]",
      "text/plain": [
       "<Figure size 432x288 with 1 Axes>"
      ]
     },
     "metadata": {
      "needs_background": "light"
     },
     "output_type": "display_data"
    }
   ],
   "source": [
    "xs = np.linspace(-100, 100, 2001)\n",
    "plt.plot(xs, Unum(xs, *params.values()))\n",
    "plt.plot(xs, Qnum(xs, *params.values()), 'g-')\n",
    "plt.show()"
   ]
  },
  {
   "cell_type": "code",
   "execution_count": null,
   "id": "d5486c20",
   "metadata": {},
   "outputs": [],
   "source": []
  }
 ],
 "metadata": {
  "kernelspec": {
   "display_name": "Python 3",
   "language": "python",
   "name": "python3"
  },
  "language_info": {
   "codemirror_mode": {
    "name": "ipython",
    "version": 3
   },
   "file_extension": ".py",
   "mimetype": "text/x-python",
   "name": "python",
   "nbconvert_exporter": "python",
   "pygments_lexer": "ipython3",
   "version": "3.6.9"
  }
 },
 "nbformat": 4,
 "nbformat_minor": 5
}

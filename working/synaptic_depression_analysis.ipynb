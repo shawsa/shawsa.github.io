{
 "cells": [
  {
   "cell_type": "code",
   "execution_count": 1,
   "id": "b6df7846",
   "metadata": {},
   "outputs": [],
   "source": [
    "%matplotlib inline\n",
    "import matplotlib.pyplot as plt\n",
    "\n",
    "import sympy as sym\n",
    "from sympy.functions.special.delta_functions import DiracDelta\n",
    "# Heaviside numerics workaround\n",
    "sympy_modules = [{'Heaviside': lambda x: np.heaviside(x,0.5)}, 'numpy']\n",
    "from functools import reduce\n",
    "\n",
    "import numpy as np\n",
    "import numpy.linalg as la\n",
    "\n",
    "import pickle"
   ]
  },
  {
   "cell_type": "code",
   "execution_count": 2,
   "id": "8c168e6a",
   "metadata": {},
   "outputs": [],
   "source": [
    "import matplotlib\n",
    "matplotlib.rcParams.update({'font.size': 16})"
   ]
  },
  {
   "cell_type": "markdown",
   "id": "a42d7d53",
   "metadata": {},
   "source": [
    "# Traveling Pulse"
   ]
  },
  {
   "cell_type": "code",
   "execution_count": 3,
   "id": "bd08e585",
   "metadata": {},
   "outputs": [],
   "source": [
    "display_mode = 'display'\n",
    "# display_mode = 'latex'\n",
    "def my_display(expr):\n",
    "    if display_mode == 'latex':\n",
    "        print(sym.latex(expr))\n",
    "    else:\n",
    "        display(expr)\n",
    "    return None"
   ]
  },
  {
   "cell_type": "code",
   "execution_count": 4,
   "id": "14c869a6",
   "metadata": {},
   "outputs": [
    {
     "data": {
      "text/latex": [
       "$\\displaystyle Q{\\left(\\xi \\right)} = \\begin{cases} \\frac{\\alpha \\beta \\left(- e^{\\frac{\\Delta}{\\alpha c}} + e^{- \\frac{\\Delta \\beta}{c}}\\right) e^{\\frac{\\xi}{\\alpha c}}}{\\alpha \\beta + 1} + 1 & \\text{for}\\: \\Delta < - \\xi \\\\\\frac{\\alpha \\beta e^{\\frac{\\xi \\left(\\alpha \\beta + 1\\right)}{\\alpha c}} + 1}{\\alpha \\beta + 1} & \\text{for}\\: \\xi < 0 \\\\1 & \\text{otherwise} \\end{cases}$"
      ],
      "text/plain": [
       "Eq(Q(\\xi), Piecewise((\\alpha*\\beta*(-exp(\\Delta/(\\alpha*c)) + exp(-\\Delta*\\beta/c))*exp(\\xi/(\\alpha*c))/(\\alpha*\\beta + 1) + 1, \\Delta < -\\xi), ((\\alpha*\\beta*exp(\\xi*(\\alpha*\\beta + 1)/(\\alpha*c)) + 1)/(\\alpha*\\beta + 1), \\xi < 0), (1, True)))"
      ]
     },
     "metadata": {},
     "output_type": "display_data"
    }
   ],
   "source": [
    "ξ, y = sym.symbols('\\\\xi y', real=True)\n",
    "α, β, c, Δ, μ = sym.symbols('\\\\alpha, \\\\beta, c, \\\\Delta \\\\mu', real=True, positive=True)\n",
    "Q_right = 1\n",
    "Q_mid = 1/(1+α*β)*(1 + α*β*sym.exp((1+α*β)/(c*α)*ξ))\n",
    "Q_left = 1 + α*β/(1+α*β)*(sym.exp(-β*Δ/c) - sym.exp(Δ/(α*c)))*sym.exp(ξ/(α*c))\n",
    "Q = sym.Piecewise((Q_left, ξ<-Δ), (Q_mid, ξ<0), (Q_right, True))\n",
    "my_display(sym.Eq(sym.Function('Q')(ξ), Q))"
   ]
  },
  {
   "cell_type": "code",
   "execution_count": 5,
   "id": "6e5c2bbc",
   "metadata": {},
   "outputs": [
    {
     "name": "stdout",
     "output_type": "stream",
     "text": [
      "Assuming\n"
     ]
    },
    {
     "data": {
      "text/latex": [
       "$\\displaystyle \\frac{\\alpha \\beta + 1}{\\alpha c} \\neq 1$"
      ],
      "text/plain": [
       "Ne((\\alpha*\\beta + 1)/(\\alpha*c), 1)"
      ]
     },
     "metadata": {},
     "output_type": "display_data"
    },
    {
     "data": {
      "text/latex": [
       "$\\displaystyle \\text{True}$"
      ],
      "text/plain": [
       "True"
      ]
     },
     "metadata": {},
     "output_type": "display_data"
    },
    {
     "name": "stdout",
     "output_type": "stream",
     "text": [
      "with\n"
     ]
    },
    {
     "data": {
      "text/latex": [
       "$\\displaystyle r_{1} = \\frac{\\alpha \\beta + 1}{\\alpha c}$"
      ],
      "text/plain": [
       "Eq(r_1, (\\alpha*\\beta + 1)/(\\alpha*c))"
      ]
     },
     "metadata": {},
     "output_type": "display_data"
    },
    {
     "data": {
      "text/latex": [
       "$\\displaystyle B_{1} = \\frac{1}{\\alpha \\beta + 1}$"
      ],
      "text/plain": [
       "Eq(B_1, 1/(\\alpha*\\beta + 1))"
      ]
     },
     "metadata": {},
     "output_type": "display_data"
    },
    {
     "data": {
      "text/latex": [
       "$\\displaystyle B_{2} = \\frac{\\alpha \\beta}{\\alpha \\beta + 1}$"
      ],
      "text/plain": [
       "Eq(B_2, \\alpha*\\beta/(\\alpha*\\beta + 1))"
      ]
     },
     "metadata": {},
     "output_type": "display_data"
    },
    {
     "data": {
      "text/latex": [
       "$\\displaystyle B_{3} = \\frac{\\left(- \\alpha^{2} \\beta c e^{\\Delta} + \\alpha c \\left(\\alpha \\beta - e^{\\Delta} + 1\\right) e^{\\frac{\\Delta \\left(\\alpha \\beta + 1\\right)}{\\alpha c}} - \\left(1 - e^{\\Delta}\\right) \\left(\\alpha \\beta + 1\\right) e^{\\frac{\\Delta \\left(\\alpha \\beta + 1\\right)}{\\alpha c}}\\right) e^{- \\frac{\\Delta \\left(\\alpha \\beta + 1\\right)}{\\alpha c}}}{2 \\left(\\alpha \\beta + 1\\right) \\left(\\alpha \\beta - \\alpha c + 1\\right)}$"
      ],
      "text/plain": [
       "Eq(B_3, (-\\alpha**2*\\beta*c*exp(\\Delta) + \\alpha*c*(\\alpha*\\beta - exp(\\Delta) + 1)*exp(\\Delta*(\\alpha*\\beta + 1)/(\\alpha*c)) - (1 - exp(\\Delta))*(\\alpha*\\beta + 1)*exp(\\Delta*(\\alpha*\\beta + 1)/(\\alpha*c)))*exp(-\\Delta*(\\alpha*\\beta + 1)/(\\alpha*c))/(2*(\\alpha*\\beta + 1)*(\\alpha*\\beta - \\alpha*c + 1)))"
      ]
     },
     "metadata": {},
     "output_type": "display_data"
    },
    {
     "data": {
      "text/latex": [
       "$\\displaystyle B_{4} = \\frac{\\left(- \\alpha^{2} \\beta c + \\alpha c \\left(\\alpha \\beta + 1\\right) e^{\\frac{\\Delta \\left(\\alpha \\beta + \\alpha c + 1\\right)}{\\alpha c}} - \\alpha c e^{\\frac{\\Delta \\left(\\alpha \\beta + 1\\right)}{\\alpha c}} - \\left(\\alpha \\beta + 1\\right) e^{\\frac{\\Delta \\left(\\alpha \\beta + 1\\right)}{\\alpha c}} + \\left(\\alpha \\beta + 1\\right) e^{\\frac{\\Delta \\left(\\alpha \\beta + \\alpha c + 1\\right)}{\\alpha c}}\\right) e^{- \\frac{\\Delta \\left(\\alpha \\beta + \\alpha c + 1\\right)}{\\alpha c}}}{2 \\left(\\alpha \\beta + 1\\right) \\left(\\alpha \\beta + \\alpha c + 1\\right)}$"
      ],
      "text/plain": [
       "Eq(B_4, (-\\alpha**2*\\beta*c + \\alpha*c*(\\alpha*\\beta + 1)*exp(\\Delta*(\\alpha*\\beta + \\alpha*c + 1)/(\\alpha*c)) - \\alpha*c*exp(\\Delta*(\\alpha*\\beta + 1)/(\\alpha*c)) - (\\alpha*\\beta + 1)*exp(\\Delta*(\\alpha*\\beta + 1)/(\\alpha*c)) + (\\alpha*\\beta + 1)*exp(\\Delta*(\\alpha*\\beta + \\alpha*c + 1)/(\\alpha*c)))*exp(-\\Delta*(\\alpha*\\beta + \\alpha*c + 1)/(\\alpha*c))/(2*(\\alpha*\\beta + 1)*(\\alpha*\\beta + \\alpha*c + 1)))"
      ]
     },
     "metadata": {},
     "output_type": "display_data"
    },
    {
     "data": {
      "text/latex": [
       "$\\displaystyle B_{5} = \\frac{\\alpha^{2} \\beta c}{\\left(\\alpha \\beta + 1\\right) \\left(\\alpha \\beta + \\alpha c + 1\\right)}$"
      ],
      "text/plain": [
       "Eq(B_5, \\alpha**2*\\beta*c/((\\alpha*\\beta + 1)*(\\alpha*\\beta + \\alpha*c + 1)))"
      ]
     },
     "metadata": {},
     "output_type": "display_data"
    },
    {
     "data": {
      "text/latex": [
       "$\\displaystyle B_{6} = - \\frac{\\left(\\alpha^{2} \\beta c e^{\\Delta} + \\left(\\alpha \\beta + \\alpha c + 1\\right) e^{\\frac{\\Delta \\left(\\alpha \\beta + \\alpha c + 1\\right)}{\\alpha c}}\\right) e^{- \\frac{\\Delta \\left(\\alpha \\beta + 2 \\alpha c + 1\\right)}{\\alpha c}}}{\\left(\\alpha \\beta + 1\\right) \\left(\\alpha \\beta + \\alpha c + 1\\right)}$"
      ],
      "text/plain": [
       "Eq(B_6, -(\\alpha**2*\\beta*c*exp(\\Delta) + (\\alpha*\\beta + \\alpha*c + 1)*exp(\\Delta*(\\alpha*\\beta + \\alpha*c + 1)/(\\alpha*c)))*exp(-\\Delta*(\\alpha*\\beta + 2*\\alpha*c + 1)/(\\alpha*c))/((\\alpha*\\beta + 1)*(\\alpha*\\beta + \\alpha*c + 1)))"
      ]
     },
     "metadata": {},
     "output_type": "display_data"
    },
    {
     "data": {
      "text/latex": [
       "$\\displaystyle B_{7} = \\frac{\\alpha^{2} \\beta c}{\\left(\\alpha \\beta + 1\\right) \\left(- \\alpha \\beta + \\alpha c - 1\\right)}$"
      ],
      "text/plain": [
       "Eq(B_7, \\alpha**2*\\beta*c/((\\alpha*\\beta + 1)*(-\\alpha*\\beta + \\alpha*c - 1)))"
      ]
     },
     "metadata": {},
     "output_type": "display_data"
    },
    {
     "data": {
      "text/latex": [
       "$\\displaystyle B_{8} = \\frac{- \\alpha c + 1}{- \\alpha \\beta + \\alpha c - 1}$"
      ],
      "text/plain": [
       "Eq(B_8, (-\\alpha*c + 1)/(-\\alpha*\\beta + \\alpha*c - 1))"
      ]
     },
     "metadata": {},
     "output_type": "display_data"
    },
    {
     "data": {
      "text/latex": [
       "$\\displaystyle B_{9} = - \\frac{\\left(\\alpha^{2} \\beta c e^{\\Delta} + \\left(\\alpha \\beta + \\alpha c + 1\\right) e^{\\frac{\\Delta \\left(\\alpha \\beta + \\alpha c + 1\\right)}{\\alpha c}}\\right) e^{- \\frac{\\Delta \\left(\\alpha \\beta + 2 \\alpha c + 1\\right)}{\\alpha c}}}{2 \\left(\\alpha \\beta + 1\\right) \\left(\\mu c + 1\\right) \\left(\\alpha \\beta + \\alpha c + 1\\right)}$"
      ],
      "text/plain": [
       "Eq(B_9, -(\\alpha**2*\\beta*c*exp(\\Delta) + (\\alpha*\\beta + \\alpha*c + 1)*exp(\\Delta*(\\alpha*\\beta + \\alpha*c + 1)/(\\alpha*c)))*exp(-\\Delta*(\\alpha*\\beta + 2*\\alpha*c + 1)/(\\alpha*c))/(2*(\\alpha*\\beta + 1)*(\\mu*c + 1)*(\\alpha*\\beta + \\alpha*c + 1)))"
      ]
     },
     "metadata": {},
     "output_type": "display_data"
    },
    {
     "data": {
      "text/latex": [
       "$\\displaystyle B_{10} = \\frac{\\alpha^{2} \\beta c - \\alpha \\beta + \\alpha c - 1}{2 \\left(\\alpha \\beta + 1\\right) \\left(\\mu c - 1\\right) \\left(- \\alpha \\beta + \\alpha c - 1\\right)}$"
      ],
      "text/plain": [
       "Eq(B_10, (\\alpha**2*\\beta*c - \\alpha*\\beta + \\alpha*c - 1)/(2*(\\alpha*\\beta + 1)*(\\mu*c - 1)*(-\\alpha*\\beta + \\alpha*c - 1)))"
      ]
     },
     "metadata": {},
     "output_type": "display_data"
    },
    {
     "data": {
      "text/latex": [
       "$\\displaystyle B_{11} = \\frac{\\alpha^{4} \\beta c^{2}}{\\left(\\alpha - \\mu \\left(\\alpha \\beta + 1\\right)\\right) \\left(\\alpha \\beta + 1\\right) \\left(- \\alpha \\beta + \\alpha c - 1\\right) \\left(\\alpha \\beta + \\alpha c + 1\\right)}$"
      ],
      "text/plain": [
       "Eq(B_11, \\alpha**4*\\beta*c**2/((\\alpha - \\mu*(\\alpha*\\beta + 1))*(\\alpha*\\beta + 1)*(-\\alpha*\\beta + \\alpha*c - 1)*(\\alpha*\\beta + \\alpha*c + 1)))"
      ]
     },
     "metadata": {},
     "output_type": "display_data"
    },
    {
     "data": {
      "text/latex": [
       "$\\displaystyle B_{12} = \\frac{\\left(\\alpha^{2} \\beta c e^{\\Delta} - \\alpha c \\left(\\alpha \\beta - e^{\\Delta} + 1\\right) e^{\\frac{\\Delta \\left(\\alpha \\beta + 1\\right)}{\\alpha c}} + \\left(1 - e^{\\Delta}\\right) \\left(\\alpha \\beta + 1\\right) e^{\\frac{\\Delta \\left(\\alpha \\beta + 1\\right)}{\\alpha c}}\\right) e^{- \\frac{\\Delta \\left(\\alpha \\beta + 1\\right)}{\\alpha c}}}{2 \\left(\\alpha \\beta + 1\\right) \\left(\\mu c - 1\\right) \\left(\\alpha \\beta - \\alpha c + 1\\right)}$"
      ],
      "text/plain": [
       "Eq(B_12, (\\alpha**2*\\beta*c*exp(\\Delta) - \\alpha*c*(\\alpha*\\beta - exp(\\Delta) + 1)*exp(\\Delta*(\\alpha*\\beta + 1)/(\\alpha*c)) + (1 - exp(\\Delta))*(\\alpha*\\beta + 1)*exp(\\Delta*(\\alpha*\\beta + 1)/(\\alpha*c)))*exp(-\\Delta*(\\alpha*\\beta + 1)/(\\alpha*c))/(2*(\\alpha*\\beta + 1)*(\\mu*c - 1)*(\\alpha*\\beta - \\alpha*c + 1)))"
      ]
     },
     "metadata": {},
     "output_type": "display_data"
    },
    {
     "data": {
      "text/latex": [
       "$\\displaystyle B_{13} = \\frac{\\left(- \\alpha^{2} \\beta c + \\alpha c \\left(\\alpha \\beta + 1\\right) e^{\\frac{\\Delta \\left(\\alpha \\beta + \\alpha c + 1\\right)}{\\alpha c}} - \\alpha c e^{\\frac{\\Delta \\left(\\alpha \\beta + 1\\right)}{\\alpha c}} - \\left(\\alpha \\beta + 1\\right) e^{\\frac{\\Delta \\left(\\alpha \\beta + 1\\right)}{\\alpha c}} + \\left(\\alpha \\beta + 1\\right) e^{\\frac{\\Delta \\left(\\alpha \\beta + \\alpha c + 1\\right)}{\\alpha c}}\\right) e^{- \\frac{\\Delta \\left(\\alpha \\beta + \\alpha c + 1\\right)}{\\alpha c}}}{2 \\left(\\alpha \\beta + 1\\right) \\left(\\mu c + 1\\right) \\left(\\alpha \\beta + \\alpha c + 1\\right)}$"
      ],
      "text/plain": [
       "Eq(B_13, (-\\alpha**2*\\beta*c + \\alpha*c*(\\alpha*\\beta + 1)*exp(\\Delta*(\\alpha*\\beta + \\alpha*c + 1)/(\\alpha*c)) - \\alpha*c*exp(\\Delta*(\\alpha*\\beta + 1)/(\\alpha*c)) - (\\alpha*\\beta + 1)*exp(\\Delta*(\\alpha*\\beta + 1)/(\\alpha*c)) + (\\alpha*\\beta + 1)*exp(\\Delta*(\\alpha*\\beta + \\alpha*c + 1)/(\\alpha*c)))*exp(-\\Delta*(\\alpha*\\beta + \\alpha*c + 1)/(\\alpha*c))/(2*(\\alpha*\\beta + 1)*(\\mu*c + 1)*(\\alpha*\\beta + \\alpha*c + 1)))"
      ]
     },
     "metadata": {},
     "output_type": "display_data"
    },
    {
     "data": {
      "text/latex": [
       "$\\displaystyle A_{M} = - B_{1} - B_{10} - B_{11} + B_{13} - B_{9}$"
      ],
      "text/plain": [
       "Eq(A_M, -B_1 - B_10 - B_11 + B_13 - B_9)"
      ]
     },
     "metadata": {},
     "output_type": "display_data"
    },
    {
     "data": {
      "text/latex": [
       "$\\displaystyle A_{L} = A_{M} + B_{1} e^{\\frac{\\Delta}{\\mu c}} + B_{10} e^{- \\Delta + \\frac{\\Delta}{\\mu c}} + B_{11} e^{- \\Delta r_{1} + \\frac{\\Delta}{\\mu c}} - B_{12} e^{- \\Delta + \\frac{\\Delta}{\\mu c}} + B_{9} e^{\\Delta + \\frac{\\Delta}{\\mu c}}$"
      ],
      "text/plain": [
       "Eq(A_L, A_M + B_1*exp(\\Delta/(\\mu*c)) + B_10*exp(-\\Delta + \\Delta/(\\mu*c)) + B_11*exp(-\\Delta*r_1 + \\Delta/(\\mu*c)) - B_12*exp(-\\Delta + \\Delta/(\\mu*c)) + B_9*exp(\\Delta + \\Delta/(\\mu*c)))"
      ]
     },
     "metadata": {},
     "output_type": "display_data"
    },
    {
     "data": {
      "text/latex": [
       "$\\displaystyle U{\\left(\\xi \\right)} = \\begin{cases} A_{L} e^{\\frac{\\xi}{\\mu c}} + B_{12} e^{\\xi} & \\text{for}\\: \\Delta < - \\xi \\\\A_{M} e^{\\frac{\\xi}{\\mu c}} + B_{1} + B_{10} e^{\\xi} + B_{11} e^{\\xi r_{1}} + B_{9} e^{- \\xi} & \\text{for}\\: \\xi < 0 \\\\B_{13} e^{- \\xi} & \\text{otherwise} \\end{cases}$"
      ],
      "text/plain": [
       "Eq(U(\\xi), Piecewise((A_L*exp(\\xi/(\\mu*c)) + B_12*exp(\\xi), \\Delta < -\\xi), (A_M*exp(\\xi/(\\mu*c)) + B_1 + B_10*exp(\\xi) + B_11*exp(\\xi*r_1) + B_9*exp(-\\xi), \\xi < 0), (B_13*exp(-\\xi), True)))"
      ]
     },
     "metadata": {},
     "output_type": "display_data"
    }
   ],
   "source": [
    "B1, B2, B3, B4, B5, B6, B7, B8, B9, B10, B11, B12, B13 = sym.symbols([f'B_{i}' for i in range(1, 14)])\n",
    "r1, r2 = sym.symbols('r_1 r_2')\n",
    "\n",
    "assumptions = []\n",
    "sub_dict = {r1: (1+α*β)/(c*α)}\n",
    "sub_dict[B1] = 1/(1+α*β)\n",
    "sub_dict[B2] = α*β/(1+α*β)\n",
    "\n",
    "B3_integral_result = sym.integrate(sym.Rational(1,2)*sym.exp(-y)*(B1 + B2*sym.exp(r1*y)), (y, -Δ, 0) )\n",
    "sub_dict[B3] = B3_integral_result.args[0][0].subs(sub_dict).simplify()\n",
    "assumptions += [B3_integral_result.args[0][1]]\n",
    "\n",
    "B4_integral_result = sym.integrate(sym.Rational(1,2)*sym.exp(y)*(B1 + B2*sym.exp(r1*y)), (y, -Δ, 0) )\n",
    "sub_dict[B4] = B4_integral_result.args[0][0].subs(sub_dict).simplify()\n",
    "assumptions += [B4_integral_result.args[0][1]]\n",
    "\n",
    "sub_dict[B5] = (B2/(1+r1)).subs(sub_dict)\n",
    "sub_dict[B6] = (-B1*sym.exp(-Δ) - B2/(1+r1)*sym.exp(-(1+r1)*Δ)).subs(sub_dict)\n",
    "sub_dict[B7] = (-B2/(r1-1)).subs(sub_dict)\n",
    "sub_dict[B8] = (-B1 + B2/(r1-1)).subs(sub_dict)\n",
    "\n",
    "sub_dict[B9] = (B6/2/(1+c*μ)).subs(sub_dict)\n",
    "sub_dict[B10] = (B8/2/(1-c*μ)).subs(sub_dict)\n",
    "sub_dict[B11] = ((B5+B7)/2/(1-r1*c*μ)).subs(sub_dict)\n",
    "sub_dict[B12] = (B3/(1-c*μ)).subs(sub_dict)\n",
    "sub_dict[B13] = (B4/(1+c*μ)).subs(sub_dict)\n",
    "\n",
    "\n",
    "for key, val in sub_dict.items():\n",
    "    sub_dict[key] = val.simplify()\n",
    "\n",
    "print('Assuming')\n",
    "for assumption in assumptions:\n",
    "    my_display(assumption.subs(sub_dict))\n",
    "    \n",
    "print('with')\n",
    "for key, val in sub_dict.items():\n",
    "    my_display(sym.Eq(key, val))\n",
    "\n",
    "AL, AM = sym.symbols('A_L A_M')\n",
    "U_left = B12*sym.exp(ξ) + AL*sym.exp(ξ/(c*μ))\n",
    "U_right = B13*sym.exp(-ξ)\n",
    "U_mid = B1 + B9*sym.exp(-ξ) + B10*sym.exp(ξ) + B11*sym.exp(r1*ξ) + AM*sym.exp(ξ/(c*μ))\n",
    "U = sym.Piecewise((U_left, ξ<-Δ), \n",
    "                  (U_mid, ξ<0), \n",
    "                  (U_right, True))\n",
    "\n",
    "AM_subs = sym.solve( (U_right - U_mid).subs(ξ,0), AM)[0]\n",
    "sub_dict[AM] = AM_subs.subs(sub_dict)\n",
    "my_display(sym.Eq(AM, AM_subs))\n",
    "\n",
    "AL_subs = sym.solve( (U_left - U_mid).subs(ξ,-Δ), AL)[0]\n",
    "sub_dict[AL] = AL_subs.subs(sub_dict)\n",
    "my_display(sym.Eq(AL, AL_subs))\n",
    "\n",
    "my_display(sym.Eq(sym.Function('U')(ξ), U))"
   ]
  },
  {
   "cell_type": "code",
   "execution_count": 6,
   "id": "b730d6da",
   "metadata": {},
   "outputs": [
    {
     "data": {
      "text/latex": [
       "$\\displaystyle 0 = A_{M} + B_{1} + B_{10} + B_{11} + B_{9} - \\theta$"
      ],
      "text/plain": [
       "Eq(0, A_M + B_1 + B_10 + B_11 + B_9 - \\theta)"
      ]
     },
     "metadata": {},
     "output_type": "display_data"
    },
    {
     "data": {
      "text/latex": [
       "$\\displaystyle 0 = A_{M} e^{- \\frac{\\Delta}{\\mu c}} + B_{1} + B_{10} e^{- \\Delta} + B_{11} e^{- \\Delta r_{1}} + B_{9} e^{\\Delta} - \\theta$"
      ],
      "text/plain": [
       "Eq(0, A_M*exp(-\\Delta/(\\mu*c)) + B_1 + B_10*exp(-\\Delta) + B_11*exp(-\\Delta*r_1) + B_9*exp(\\Delta) - \\theta)"
      ]
     },
     "metadata": {},
     "output_type": "display_data"
    }
   ],
   "source": [
    "θ = sym.symbols('\\\\theta', positive=True)\n",
    "eq1 = U_mid.subs(ξ, 0) - θ\n",
    "my_display(sym.Eq(0, eq1))\n",
    "eq2 = U_mid.subs(ξ, -Δ) - θ\n",
    "my_display(sym.Eq(0, eq2))"
   ]
  },
  {
   "cell_type": "code",
   "execution_count": 7,
   "id": "077acb68",
   "metadata": {},
   "outputs": [
    {
     "data": {
      "text/latex": [
       "$\\displaystyle - \\theta + \\frac{\\left(- \\alpha^{2} \\beta c + \\alpha c \\left(\\alpha \\beta + 1\\right) e^{\\frac{\\Delta \\left(\\alpha \\beta + \\alpha c + 1\\right)}{\\alpha c}} - \\alpha c e^{\\frac{\\Delta \\left(\\alpha \\beta + 1\\right)}{\\alpha c}} - \\left(\\alpha \\beta + 1\\right) e^{\\frac{\\Delta \\left(\\alpha \\beta + 1\\right)}{\\alpha c}} + \\left(\\alpha \\beta + 1\\right) e^{\\frac{\\Delta \\left(\\alpha \\beta + \\alpha c + 1\\right)}{\\alpha c}}\\right) e^{- \\frac{\\Delta \\left(\\alpha \\beta + \\alpha c + 1\\right)}{\\alpha c}}}{2 \\left(\\alpha \\beta + 1\\right) \\left(\\mu c + 1\\right) \\left(\\alpha \\beta + \\alpha c + 1\\right)}$"
      ],
      "text/plain": [
       "-\\theta + (-\\alpha**2*\\beta*c + \\alpha*c*(\\alpha*\\beta + 1)*exp(\\Delta*(\\alpha*\\beta + \\alpha*c + 1)/(\\alpha*c)) - \\alpha*c*exp(\\Delta*(\\alpha*\\beta + 1)/(\\alpha*c)) - (\\alpha*\\beta + 1)*exp(\\Delta*(\\alpha*\\beta + 1)/(\\alpha*c)) + (\\alpha*\\beta + 1)*exp(\\Delta*(\\alpha*\\beta + \\alpha*c + 1)/(\\alpha*c)))*exp(-\\Delta*(\\alpha*\\beta + \\alpha*c + 1)/(\\alpha*c))/(2*(\\alpha*\\beta + 1)*(\\mu*c + 1)*(\\alpha*\\beta + \\alpha*c + 1))"
      ]
     },
     "metadata": {},
     "output_type": "display_data"
    },
    {
     "data": {
      "text/latex": [
       "$\\displaystyle \\frac{\\alpha^{4} \\beta c^{2} e^{- \\frac{\\Delta \\left(\\alpha \\beta + 1\\right)}{\\alpha c}}}{\\left(\\alpha - \\mu \\left(\\alpha \\beta + 1\\right)\\right) \\left(\\alpha \\beta + 1\\right) \\left(- \\alpha \\beta + \\alpha c - 1\\right) \\left(\\alpha \\beta + \\alpha c + 1\\right)} - \\theta + \\left(- \\frac{\\alpha^{4} \\beta c^{2}}{\\left(\\alpha - \\mu \\left(\\alpha \\beta + 1\\right)\\right) \\left(\\alpha \\beta + 1\\right) \\left(- \\alpha \\beta + \\alpha c - 1\\right) \\left(\\alpha \\beta + \\alpha c + 1\\right)} - \\frac{1}{\\alpha \\beta + 1} + \\frac{\\left(\\alpha^{2} \\beta c e^{\\Delta} + \\left(\\alpha \\beta + \\alpha c + 1\\right) e^{\\frac{\\Delta \\left(\\alpha \\beta + \\alpha c + 1\\right)}{\\alpha c}}\\right) e^{- \\frac{\\Delta \\left(\\alpha \\beta + 2 \\alpha c + 1\\right)}{\\alpha c}}}{2 \\left(\\alpha \\beta + 1\\right) \\left(\\mu c + 1\\right) \\left(\\alpha \\beta + \\alpha c + 1\\right)} + \\frac{\\left(- \\alpha^{2} \\beta c + \\alpha c \\left(\\alpha \\beta + 1\\right) e^{\\frac{\\Delta \\left(\\alpha \\beta + \\alpha c + 1\\right)}{\\alpha c}} - \\alpha c e^{\\frac{\\Delta \\left(\\alpha \\beta + 1\\right)}{\\alpha c}} - \\left(\\alpha \\beta + 1\\right) e^{\\frac{\\Delta \\left(\\alpha \\beta + 1\\right)}{\\alpha c}} + \\left(\\alpha \\beta + 1\\right) e^{\\frac{\\Delta \\left(\\alpha \\beta + \\alpha c + 1\\right)}{\\alpha c}}\\right) e^{- \\frac{\\Delta \\left(\\alpha \\beta + \\alpha c + 1\\right)}{\\alpha c}}}{2 \\left(\\alpha \\beta + 1\\right) \\left(\\mu c + 1\\right) \\left(\\alpha \\beta + \\alpha c + 1\\right)} - \\frac{\\alpha^{2} \\beta c - \\alpha \\beta + \\alpha c - 1}{2 \\left(\\alpha \\beta + 1\\right) \\left(\\mu c - 1\\right) \\left(- \\alpha \\beta + \\alpha c - 1\\right)}\\right) e^{- \\frac{\\Delta}{\\mu c}} + \\frac{1}{\\alpha \\beta + 1} - \\frac{\\left(\\alpha^{2} \\beta c e^{\\Delta} + \\left(\\alpha \\beta + \\alpha c + 1\\right) e^{\\frac{\\Delta \\left(\\alpha \\beta + \\alpha c + 1\\right)}{\\alpha c}}\\right) e^{\\Delta} e^{- \\frac{\\Delta \\left(\\alpha \\beta + 2 \\alpha c + 1\\right)}{\\alpha c}}}{2 \\left(\\alpha \\beta + 1\\right) \\left(\\mu c + 1\\right) \\left(\\alpha \\beta + \\alpha c + 1\\right)} + \\frac{\\left(\\alpha^{2} \\beta c - \\alpha \\beta + \\alpha c - 1\\right) e^{- \\Delta}}{2 \\left(\\alpha \\beta + 1\\right) \\left(\\mu c - 1\\right) \\left(- \\alpha \\beta + \\alpha c - 1\\right)}$"
      ],
      "text/plain": [
       "\\alpha**4*\\beta*c**2*exp(-\\Delta*(\\alpha*\\beta + 1)/(\\alpha*c))/((\\alpha - \\mu*(\\alpha*\\beta + 1))*(\\alpha*\\beta + 1)*(-\\alpha*\\beta + \\alpha*c - 1)*(\\alpha*\\beta + \\alpha*c + 1)) - \\theta + (-\\alpha**4*\\beta*c**2/((\\alpha - \\mu*(\\alpha*\\beta + 1))*(\\alpha*\\beta + 1)*(-\\alpha*\\beta + \\alpha*c - 1)*(\\alpha*\\beta + \\alpha*c + 1)) - 1/(\\alpha*\\beta + 1) + (\\alpha**2*\\beta*c*exp(\\Delta) + (\\alpha*\\beta + \\alpha*c + 1)*exp(\\Delta*(\\alpha*\\beta + \\alpha*c + 1)/(\\alpha*c)))*exp(-\\Delta*(\\alpha*\\beta + 2*\\alpha*c + 1)/(\\alpha*c))/(2*(\\alpha*\\beta + 1)*(\\mu*c + 1)*(\\alpha*\\beta + \\alpha*c + 1)) + (-\\alpha**2*\\beta*c + \\alpha*c*(\\alpha*\\beta + 1)*exp(\\Delta*(\\alpha*\\beta + \\alpha*c + 1)/(\\alpha*c)) - \\alpha*c*exp(\\Delta*(\\alpha*\\beta + 1)/(\\alpha*c)) - (\\alpha*\\beta + 1)*exp(\\Delta*(\\alpha*\\beta + 1)/(\\alpha*c)) + (\\alpha*\\beta + 1)*exp(\\Delta*(\\alpha*\\beta + \\alpha*c + 1)/(\\alpha*c)))*exp(-\\Delta*(\\alpha*\\beta + \\alpha*c + 1)/(\\alpha*c))/(2*(\\alpha*\\beta + 1)*(\\mu*c + 1)*(\\alpha*\\beta + \\alpha*c + 1)) - (\\alpha**2*\\beta*c - \\alpha*\\beta + \\alpha*c - 1)/(2*(\\alpha*\\beta + 1)*(\\mu*c - 1)*(-\\alpha*\\beta + \\alpha*c - 1)))*exp(-\\Delta/(\\mu*c)) + 1/(\\alpha*\\beta + 1) - (\\alpha**2*\\beta*c*exp(\\Delta) + (\\alpha*\\beta + \\alpha*c + 1)*exp(\\Delta*(\\alpha*\\beta + \\alpha*c + 1)/(\\alpha*c)))*exp(\\Delta)*exp(-\\Delta*(\\alpha*\\beta + 2*\\alpha*c + 1)/(\\alpha*c))/(2*(\\alpha*\\beta + 1)*(\\mu*c + 1)*(\\alpha*\\beta + \\alpha*c + 1)) + (\\alpha**2*\\beta*c - \\alpha*\\beta + \\alpha*c - 1)*exp(-\\Delta)/(2*(\\alpha*\\beta + 1)*(\\mu*c - 1)*(-\\alpha*\\beta + \\alpha*c - 1))"
      ]
     },
     "metadata": {},
     "output_type": "display_data"
    }
   ],
   "source": [
    "display(eq1.subs(sub_dict))\n",
    "display(eq2.subs(sub_dict))"
   ]
  },
  {
   "cell_type": "markdown",
   "id": "88b09107",
   "metadata": {},
   "source": [
    "## Numerics"
   ]
  },
  {
   "cell_type": "code",
   "execution_count": 8,
   "id": "e22e28d3",
   "metadata": {},
   "outputs": [],
   "source": [
    "params = {\n",
    "    θ : .2,\n",
    "    α : 20,\n",
    "    β : .25,\n",
    "    μ : 1,\n",
    "}"
   ]
  },
  {
   "cell_type": "code",
   "execution_count": 9,
   "id": "4f8fe879",
   "metadata": {},
   "outputs": [
    {
     "data": {
      "text/latex": [
       "$\\displaystyle \\frac{10.0 c}{20 c^{2} + 26.0 c + 6.0} + \\left(- \\frac{1.66666666666667 c}{20 c^{2} + 26.0 c + 6.0} - \\frac{8.33333333333333 c e^{- \\frac{0.3 \\Delta}{c}}}{20 c^{2} + 26.0 c + 6.0} - \\frac{0.5}{20 c^{2} + 26.0 c + 6.0}\\right) e^{- \\Delta} - 0.2 + \\frac{0.5}{20 c^{2} + 26.0 c + 6.0}$"
      ],
      "text/plain": [
       "10.0*c/(20*c**2 + 26.0*c + 6.0) + (-1.66666666666667*c/(20*c**2 + 26.0*c + 6.0) - 8.33333333333333*c*exp(-0.3*\\Delta/c)/(20*c**2 + 26.0*c + 6.0) - 0.5/(20*c**2 + 26.0*c + 6.0))*exp(-\\Delta) - 0.2 + 0.5/(20*c**2 + 26.0*c + 6.0)"
      ]
     },
     "metadata": {},
     "output_type": "display_data"
    }
   ],
   "source": [
    "f1 = eq1.subs(sub_dict).subs(params).expand().collect(sym.exp(Δ)).collect(sym.exp(Δ/c))\n",
    "display(f1)"
   ]
  },
  {
   "cell_type": "code",
   "execution_count": 10,
   "id": "1e27109f",
   "metadata": {},
   "outputs": [
    {
     "data": {
      "text/latex": [
       "$\\displaystyle - \\frac{1.66666666666667 c}{20 c^{2} + 26.0 c + 6.0} + \\left(\\frac{10.0 c}{20 c^{2} - 26.0 c + 6.0} - \\frac{0.5}{20 c^{2} - 26.0 c + 6.0}\\right) e^{- \\Delta} + \\left(\\frac{10.0 c}{20 c^{2} + 26.0 c + 6.0} + \\frac{0.5}{20 c^{2} + 26.0 c + 6.0}\\right) e^{- \\frac{1.0 \\Delta}{c}} + \\left(\\frac{476.190476190476 c^{2}}{400 c^{2} - 36.0} - \\frac{8.33333333333333 c}{20 c^{2} + 26.0 c + 6.0}\\right) e^{- \\frac{0.3 \\Delta}{c}} + \\left(- \\frac{476.190476190476 c^{2}}{400 c^{2} - 36.0} - \\frac{10.0 c}{20 c^{2} - 26.0 c + 6.0} - 0.166666666666667 + \\frac{0.5}{20 c^{2} - 26.0 c + 6.0}\\right) e^{- \\frac{\\Delta}{c}} - 0.0333333333333334 - \\frac{0.5}{20 c^{2} + 26.0 c + 6.0}$"
      ],
      "text/plain": [
       "-1.66666666666667*c/(20*c**2 + 26.0*c + 6.0) + (10.0*c/(20*c**2 - 26.0*c + 6.0) - 0.5/(20*c**2 - 26.0*c + 6.0))*exp(-\\Delta) + (10.0*c/(20*c**2 + 26.0*c + 6.0) + 0.5/(20*c**2 + 26.0*c + 6.0))*exp(-1.0*\\Delta/c) + (476.190476190476*c**2/(400*c**2 - 36.0) - 8.33333333333333*c/(20*c**2 + 26.0*c + 6.0))*exp(-0.3*\\Delta/c) + (-476.190476190476*c**2/(400*c**2 - 36.0) - 10.0*c/(20*c**2 - 26.0*c + 6.0) - 0.166666666666667 + 0.5/(20*c**2 - 26.0*c + 6.0))*exp(-\\Delta/c) - 0.0333333333333334 - 0.5/(20*c**2 + 26.0*c + 6.0)"
      ]
     },
     "metadata": {},
     "output_type": "display_data"
    }
   ],
   "source": [
    "f2 = eq2.subs(sub_dict).subs(params).expand().collect(sym.exp(Δ)).collect(sym.exp(Δ/c))\n",
    "display(f2)"
   ]
  },
  {
   "cell_type": "code",
   "execution_count": 11,
   "id": "261d691e",
   "metadata": {},
   "outputs": [],
   "source": [
    "F = sym.Matrix([[f1],[f2]])\n",
    "vec = sym.Matrix([[c],[Δ]])\n",
    "J = F.jacobian(vec)\n",
    "\n",
    "F_numeric_raw = sym.lambdify(vec, F)\n",
    "F_numeric = lambda tup: F_numeric_raw(*tup).reshape(2)\n",
    "J_numeric_raw = sym.lambdify(vec, J)\n",
    "J_numeric = lambda tup: J_numeric_raw(*tup)"
   ]
  },
  {
   "cell_type": "code",
   "execution_count": 12,
   "id": "e14b798b",
   "metadata": {},
   "outputs": [
    {
     "data": {
      "text/plain": [
       "array([-0.0860139 ,  0.29096326])"
      ]
     },
     "execution_count": 12,
     "metadata": {},
     "output_type": "execute_result"
    }
   ],
   "source": [
    "F_numeric((3, 4))"
   ]
  },
  {
   "cell_type": "code",
   "execution_count": 13,
   "id": "2b816058",
   "metadata": {},
   "outputs": [
    {
     "data": {
      "text/plain": [
       "array([[-0.02581717,  0.00166047],\n",
       "       [-0.03525273,  0.05489089]])"
      ]
     },
     "execution_count": 13,
     "metadata": {},
     "output_type": "execute_result"
    }
   ],
   "source": [
    "J_numeric((3,4))"
   ]
  },
  {
   "cell_type": "code",
   "execution_count": 14,
   "id": "76448af3",
   "metadata": {},
   "outputs": [
    {
     "name": "stdout",
     "output_type": "stream",
     "text": [
      "[ 1.2 12. ]\n",
      "[1.02564122 8.9527535 ]\n",
      "[1.03005    9.32505165]\n",
      "[1.03004545 9.34259085]\n",
      "[1.03004544 9.34263285]\n",
      "[1.03004544 9.34263285]\n",
      "[1.03004544 9.34263285]\n",
      "[1.03004544 9.34263285]\n",
      "[1.03004544 9.34263285]\n",
      "[1.03004544 9.34263285]\n",
      "[1.03004544 9.34263285]\n",
      "[1.03004544 9.34263285]\n",
      "[1.03004544 9.34263285]\n",
      "[1.03004544 9.34263285]\n",
      "[1.03004544 9.34263285]\n",
      "[1.03004544 9.34263285]\n",
      "[1.03004544 9.34263285]\n",
      "[1.03004544 9.34263285]\n",
      "[1.03004544 9.34263285]\n",
      "[1.03004544 9.34263285]\n",
      "[1.03004544 9.34263285] [3.46944695e-18 3.46944695e-18]\n"
     ]
    }
   ],
   "source": [
    "x = np.array([1.2, 12], dtype='float')\n",
    "for _ in range(20):\n",
    "    print(x)\n",
    "    x -= la.solve(J_numeric(x), F_numeric(x))\n",
    "print(x, F_numeric(x))\n",
    "params[c], params[Δ] = x\n",
    "\n"
   ]
  },
  {
   "cell_type": "code",
   "execution_count": 15,
   "id": "e7b4905e",
   "metadata": {},
   "outputs": [
    {
     "data": {
      "text/latex": [
       "$\\displaystyle r_{1} = 0.29124928819074$"
      ],
      "text/plain": [
       "Eq(r_1, 0.29124928819074)"
      ]
     },
     "metadata": {},
     "output_type": "display_data"
    },
    {
     "data": {
      "text/latex": [
       "$\\displaystyle B_{1} = 0.166666666666667$"
      ],
      "text/plain": [
       "Eq(B_1, 0.166666666666667)"
      ]
     },
     "metadata": {},
     "output_type": "display_data"
    },
    {
     "data": {
      "text/latex": [
       "$\\displaystyle B_{2} = 0.833333333333333$"
      ],
      "text/plain": [
       "Eq(B_2, 0.833333333333333)"
      ]
     },
     "metadata": {},
     "output_type": "display_data"
    },
    {
     "data": {
      "text/latex": [
       "$\\displaystyle B_{3} = 1392.11988420956$"
      ],
      "text/plain": [
       "Eq(B_3, 1392.11988420956)"
      ]
     },
     "metadata": {},
     "output_type": "display_data"
    },
    {
     "data": {
      "text/latex": [
       "$\\displaystyle B_{4} = 0.406009087173136$"
      ],
      "text/plain": [
       "Eq(B_4, 0.406009087173136)"
      ]
     },
     "metadata": {},
     "output_type": "display_data"
    },
    {
     "data": {
      "text/latex": [
       "$\\displaystyle B_{5} = 0.645369829787844$"
      ],
      "text/plain": [
       "Eq(B_5, 0.645369829787844)"
      ]
     },
     "metadata": {},
     "output_type": "display_data"
    },
    {
     "data": {
      "text/latex": [
       "$\\displaystyle B_{6} = -1.83221082392493 \\cdot 10^{-5}$"
      ],
      "text/plain": [
       "Eq(B_6, -1.83221082392493e-5)"
      ]
     },
     "metadata": {},
     "output_type": "display_data"
    },
    {
     "data": {
      "text/latex": [
       "$\\displaystyle B_{7} = 1.17577777270381$"
      ],
      "text/plain": [
       "Eq(B_7, 1.17577777270381)"
      ]
     },
     "metadata": {},
     "output_type": "display_data"
    },
    {
     "data": {
      "text/latex": [
       "$\\displaystyle B_{8} = -1.34244443937048$"
      ],
      "text/plain": [
       "Eq(B_8, -1.34244443937048)"
      ]
     },
     "metadata": {},
     "output_type": "display_data"
    },
    {
     "data": {
      "text/latex": [
       "$\\displaystyle B_{9} = -4.51273353678316 \\cdot 10^{-6}$"
      ],
      "text/plain": [
       "Eq(B_9, -4.51273353678316e-6)"
      ]
     },
     "metadata": {},
     "output_type": "display_data"
    },
    {
     "data": {
      "text/latex": [
       "$\\displaystyle B_{10} = 22.3402390528132$"
      ],
      "text/plain": [
       "Eq(B_10, 22.3402390528132)"
      ]
     },
     "metadata": {},
     "output_type": "display_data"
    },
    {
     "data": {
      "text/latex": [
       "$\\displaystyle B_{11} = 1.30081971606547$"
      ],
      "text/plain": [
       "Eq(B_11, 1.30081971606547)"
      ]
     },
     "metadata": {},
     "output_type": "display_data"
    },
    {
     "data": {
      "text/latex": [
       "$\\displaystyle B_{12} = -46333.8222295445$"
      ],
      "text/plain": [
       "Eq(B_12, -46333.8222295445)"
      ]
     },
     "metadata": {},
     "output_type": "display_data"
    },
    {
     "data": {
      "text/latex": [
       "$\\displaystyle B_{13} = 0.2$"
      ],
      "text/plain": [
       "Eq(B_13, 0.2)"
      ]
     },
     "metadata": {},
     "output_type": "display_data"
    },
    {
     "data": {
      "text/latex": [
       "$\\displaystyle A_{M} = -23.6077209228118$"
      ],
      "text/plain": [
       "Eq(A_M, -23.6077209228118)"
      ]
     },
     "metadata": {},
     "output_type": "display_data"
    },
    {
     "data": {
      "text/latex": [
       "$\\displaystyle A_{L} = 37019.7517334255$"
      ],
      "text/plain": [
       "Eq(A_L, 37019.7517334255)"
      ]
     },
     "metadata": {},
     "output_type": "display_data"
    }
   ],
   "source": [
    "for key, val in sub_dict.items():\n",
    "    display(sym.Eq(key, val.subs(params)))"
   ]
  },
  {
   "cell_type": "code",
   "execution_count": 16,
   "id": "a21fd872",
   "metadata": {},
   "outputs": [
    {
     "data": {
      "text/plain": [
       "{\\theta: 0.2,\n",
       " \\alpha: 20,\n",
       " \\beta: 0.25,\n",
       " \\mu: 1,\n",
       " c: 1.0300454358656792,\n",
       " \\Delta: 9.342632848278724}"
      ]
     },
     "execution_count": 16,
     "metadata": {},
     "output_type": "execute_result"
    }
   ],
   "source": [
    "params"
   ]
  },
  {
   "cell_type": "code",
   "execution_count": 17,
   "id": "c6e22f5d",
   "metadata": {},
   "outputs": [],
   "source": [
    "Q_numeric = sym.lambdify(ξ, Q.subs(params))\n",
    "U_numeric = sym.lambdify(ξ, U.subs(sub_dict).subs(params))"
   ]
  },
  {
   "cell_type": "markdown",
   "id": "f9a3475b",
   "metadata": {},
   "source": [
    "## Traveling Pulse Figure"
   ]
  },
  {
   "cell_type": "code",
   "execution_count": 18,
   "id": "14bc45ae",
   "metadata": {},
   "outputs": [
    {
     "name": "stderr",
     "output_type": "stream",
     "text": [
      "The PostScript backend does not support transparency; partially transparent artists will be rendered opaque.\n",
      "The PostScript backend does not support transparency; partially transparent artists will be rendered opaque.\n"
     ]
    },
    {
     "data": {
      "image/png": "[encoded data removed]",
      "text/plain": [
       "<Figure size 864x576 with 1 Axes>"
      ]
     },
     "metadata": {
      "needs_background": "light"
     },
     "output_type": "display_data"
    },
    {
     "name": "stdout",
     "output_type": "stream",
     "text": [
      "{\\theta: 0.2, \\alpha: 20, \\beta: 0.25, \\mu: 1, c: 1.0300454358656792, \\Delta: 9.342632848278724}\n"
     ]
    }
   ],
   "source": [
    "xs = np.linspace(-20,10, 2001)\n",
    "\n",
    "plt.figure(figsize=(12,8))\n",
    "\n",
    "plt.plot(xs, U_numeric(xs), 'b-', label='$U(\\\\xi)$')\n",
    "plt.plot(xs, Q_numeric(xs), 'g-', label='$Q(\\\\xi)$')\n",
    "plt.plot(xs, params[θ] + 0*xs, 'k:', label='$\\\\theta$', linewidth=3)\n",
    "plt.legend()\n",
    "plt.title('Traveling Pulse Solution')\n",
    "plt.xlabel('$\\\\xi$')\n",
    "\n",
    "plt.savefig('traveling_pulse.eps')\n",
    "\n",
    "plt.show()\n",
    "print(params)"
   ]
  },
  {
   "cell_type": "markdown",
   "id": "2adafc74",
   "metadata": {},
   "source": [
    "## Generated Code"
   ]
  },
  {
   "cell_type": "code",
   "execution_count": 19,
   "id": "0502d2fa",
   "metadata": {},
   "outputs": [],
   "source": [
    "def py_code(expr, replace_numpy=True, replace_unicode=True, numpy_package='np.'):\n",
    "    code = sym.ccode(expr)\n",
    "    \n",
    "    if replace_unicode:\n",
    "        unicode_replacements = [\n",
    "            ('\\\\alpha', 'α'),\n",
    "            ('\\\\beta', 'β'),\n",
    "            ('\\\\gamma', 'γ'),\n",
    "            ('\\\\Gamma', 'Γ'),\n",
    "            ('\\\\delta', 'δ'),\n",
    "            ('\\\\Delta', 'Δ'),\n",
    "            ('\\\\epsilon', 'ϵ'),\n",
    "            ('\\\\zeta', 'ζ'),\n",
    "            ('\\\\eta', 'η'),\n",
    "            ('\\\\theta', 'θ'),\n",
    "            ('\\\\xi', 'ξ'),\n",
    "            ('\\\\mu', 'μ')\n",
    "        ]\n",
    "        for unicode, symbol in unicode_replacements:\n",
    "            code = code.replace(unicode, symbol)\n",
    "    \n",
    "    if replace_numpy:\n",
    "        numpy_replacements = [\n",
    "            ('exp', numpy_package + 'exp'),\n",
    "            ('log', numpy_package + 'log'),\n",
    "            ('pow', '( lambda base, exponent: base**exponent )'),\n",
    "            ('Heaviside', '(lambda input: np.heaviside(input,0.5))')\n",
    "        ]\n",
    "        for c_func, np_func in numpy_replacements:\n",
    "            code = code.replace(c_func, np_func)\n",
    "        \n",
    "    return code"
   ]
  },
  {
   "cell_type": "code",
   "execution_count": 20,
   "id": "68834ba0",
   "metadata": {},
   "outputs": [
    {
     "name": "stdout",
     "output_type": "stream",
     "text": [
      "def Unum(ξ, θ, α, β, μ, c, Δ):\n",
      "\treturn // Not supported in C:\n",
      "// (lambda input: np.heaviside(input,0.5))\n",
      "// (lambda input: np.heaviside(input,0.5))\n",
      "// (lambda input: np.heaviside(input,0.5))\n",
      "// (lambda input: np.heaviside(input,0.5))\n",
      "((( lambda base, exponent: base**exponent )(α, 4)*β*( lambda base, exponent: base**exponent )(c, 2)*np.exp(Δ/(μ*c) - Δ*(α*β + 1)/(α*c))/((α - μ*(α*β + 1))*(α*β + 1)*(-α*β + α*c - 1)*(α*β + α*c + 1)) - ( lambda base, exponent: base**exponent )(α, 4)*β*( lambda base, exponent: base**exponent )(c, 2)/((α - μ*(α*β + 1))*(α*β + 1)*(-α*β + α*c - 1)*(α*β + α*c + 1)) + np.exp(Δ/(μ*c))/(α*β + 1) - 1/(α*β + 1) - 1.0/2.0*(( lambda base, exponent: base**exponent )(α, 2)*β*c*np.exp(Δ) + (α*β + α*c + 1)*np.exp(Δ*(α*β + α*c + 1)/(α*c)))*np.exp(-Δ*(α*β + 2*α*c + 1)/(α*c))*np.exp(Δ + Δ/(μ*c))/((α*β + 1)*(μ*c + 1)*(α*β + α*c + 1)) + (1.0/2.0)*(( lambda base, exponent: base**exponent )(α, 2)*β*c*np.exp(Δ) + (α*β + α*c + 1)*np.exp(Δ*(α*β + α*c + 1)/(α*c)))*np.exp(-Δ*(α*β + 2*α*c + 1)/(α*c))/((α*β + 1)*(μ*c + 1)*(α*β + α*c + 1)) + (1.0/2.0)*(-( lambda base, exponent: base**exponent )(α, 2)*β*c + α*c*(α*β + 1)*np.exp(Δ*(α*β + α*c + 1)/(α*c)) - α*c*np.exp(Δ*(α*β + 1)/(α*c)) - (α*β + 1)*np.exp(Δ*(α*β + 1)/(α*c)) + (α*β + 1)*np.exp(Δ*(α*β + α*c + 1)/(α*c)))*np.exp(-Δ*(α*β + α*c + 1)/(α*c))/((α*β + 1)*(μ*c + 1)*(α*β + α*c + 1)) - 1.0/2.0*(( lambda base, exponent: base**exponent )(α, 2)*β*c*np.exp(Δ) - α*c*(α*β - np.exp(Δ) + 1)*np.exp(Δ*(α*β + 1)/(α*c)) + (1 - np.exp(Δ))*(α*β + 1)*np.exp(Δ*(α*β + 1)/(α*c)))*np.exp(-Δ*(α*β + 1)/(α*c))*np.exp(-Δ + Δ/(μ*c))/((α*β + 1)*(μ*c - 1)*(α*β - α*c + 1)) + (1.0/2.0)*(( lambda base, exponent: base**exponent )(α, 2)*β*c - α*β + α*c - 1)*np.exp(-Δ + Δ/(μ*c))/((α*β + 1)*(μ*c - 1)*(-α*β + α*c - 1)) - 1.0/2.0*(( lambda base, exponent: base**exponent )(α, 2)*β*c - α*β + α*c - 1)/((α*β + 1)*(μ*c - 1)*(-α*β + α*c - 1)))*np.exp(ξ/(μ*c)) + (1.0/2.0)*(( lambda base, exponent: base**exponent )(α, 2)*β*c*np.exp(Δ) - α*c*(α*β - np.exp(Δ) + 1)*np.exp(Δ*(α*β + 1)/(α*c)) + (1 - np.exp(Δ))*(α*β + 1)*np.exp(Δ*(α*β + 1)/(α*c)))*np.exp(ξ)*np.exp(-Δ*(α*β + 1)/(α*c))/((α*β + 1)*(μ*c - 1)*(α*β - α*c + 1)))*(lambda input: np.heaviside(input,0.5))(-Δ - ξ) + (( lambda base, exponent: base**exponent )(α, 4)*β*( lambda base, exponent: base**exponent )(c, 2)*np.exp(ξ*(α*β + 1)/(α*c))/((α - μ*(α*β + 1))*(α*β + 1)*(-α*β + α*c - 1)*(α*β + α*c + 1)) + (-( lambda base, exponent: base**exponent )(α, 4)*β*( lambda base, exponent: base**exponent )(c, 2)/((α - μ*(α*β + 1))*(α*β + 1)*(-α*β + α*c - 1)*(α*β + α*c + 1)) - 1/(α*β + 1) + (1.0/2.0)*(( lambda base, exponent: base**exponent )(α, 2)*β*c*np.exp(Δ) + (α*β + α*c + 1)*np.exp(Δ*(α*β + α*c + 1)/(α*c)))*np.exp(-Δ*(α*β + 2*α*c + 1)/(α*c))/((α*β + 1)*(μ*c + 1)*(α*β + α*c + 1)) + (1.0/2.0)*(-( lambda base, exponent: base**exponent )(α, 2)*β*c + α*c*(α*β + 1)*np.exp(Δ*(α*β + α*c + 1)/(α*c)) - α*c*np.exp(Δ*(α*β + 1)/(α*c)) - (α*β + 1)*np.exp(Δ*(α*β + 1)/(α*c)) + (α*β + 1)*np.exp(Δ*(α*β + α*c + 1)/(α*c)))*np.exp(-Δ*(α*β + α*c + 1)/(α*c))/((α*β + 1)*(μ*c + 1)*(α*β + α*c + 1)) - 1.0/2.0*(( lambda base, exponent: base**exponent )(α, 2)*β*c - α*β + α*c - 1)/((α*β + 1)*(μ*c - 1)*(-α*β + α*c - 1)))*np.exp(ξ/(μ*c)) + 1.0/(α*β + 1) - 1.0/2.0*(( lambda base, exponent: base**exponent )(α, 2)*β*c*np.exp(Δ) + (α*β + α*c + 1)*np.exp(Δ*(α*β + α*c + 1)/(α*c)))*np.exp(-ξ)*np.exp(-Δ*(α*β + 2*α*c + 1)/(α*c))/((α*β + 1)*(μ*c + 1)*(α*β + α*c + 1)) + (1.0/2.0)*(( lambda base, exponent: base**exponent )(α, 2)*β*c - α*β + α*c - 1)*np.exp(ξ)/((α*β + 1)*(μ*c - 1)*(-α*β + α*c - 1)))*(lambda input: np.heaviside(input,0.5))(-ξ)*(lambda input: np.heaviside(input,0.5))(Δ + ξ) + (1.0/2.0)*(-( lambda base, exponent: base**exponent )(α, 2)*β*c + α*c*(α*β + 1)*np.exp(Δ*(α*β + α*c + 1)/(α*c)) - α*c*np.exp(Δ*(α*β + 1)/(α*c)) - (α*β + 1)*np.exp(Δ*(α*β + 1)/(α*c)) + (α*β + 1)*np.exp(Δ*(α*β + α*c + 1)/(α*c)))*np.exp(-ξ)*np.exp(-Δ*(α*β + α*c + 1)/(α*c))*(lambda input: np.heaviside(input,0.5))(ξ)/((α*β + 1)*(μ*c + 1)*(α*β + α*c + 1))\n",
      "def Qnum(ξ, θ, α, β, μ, c, Δ):\n",
      "\treturn // Not supported in C:\n",
      "// (lambda input: np.heaviside(input,0.5))\n",
      "// (lambda input: np.heaviside(input,0.5))\n",
      "// (lambda input: np.heaviside(input,0.5))\n",
      "// (lambda input: np.heaviside(input,0.5))\n",
      "(α*β*(-np.exp(Δ/(α*c)) + np.exp(-Δ*β/c))*np.exp(ξ/(α*c))/(α*β + 1) + 1)*(lambda input: np.heaviside(input,0.5))(-Δ - ξ) + (lambda input: np.heaviside(input,0.5))(ξ) + (α*β*np.exp(ξ*(α*β + 1)/(α*c)) + 1)*(lambda input: np.heaviside(input,0.5))(-ξ)*(lambda input: np.heaviside(input,0.5))(Δ + ξ)/(α*β + 1)\n"
     ]
    }
   ],
   "source": [
    "U_code = sym.Heaviside(-ξ-Δ)*U_left + sym.Heaviside(ξ+Δ)*sym.Heaviside(-ξ)*U_mid + sym.Heaviside(ξ)*U_right\n",
    "code = 'def Unum(ξ, θ, α, β, μ, c, Δ):\\n\\treturn ' + py_code(U_code.subs(sub_dict))\n",
    "print(code)\n",
    "\n",
    "Q_code = sym.Heaviside(-ξ-Δ)*Q_left + sym.Heaviside(ξ+Δ)*sym.Heaviside(-ξ)*Q_mid + sym.Heaviside(ξ)*Q_right\n",
    "code = 'def Qnum(ξ, θ, α, β, μ, c, Δ):\\n\\treturn ' + py_code(Q_code.subs(sub_dict))\n",
    "print(code)"
   ]
  },
  {
   "cell_type": "code",
   "execution_count": 21,
   "id": "bfb4bf45",
   "metadata": {},
   "outputs": [],
   "source": [
    "def Unum(ξ, θ, α, β, μ, c, Δ):\n",
    "    return ((( lambda base, exponent: base**exponent )(α, 4)*β*( lambda base, exponent: base**exponent )(c, 2)*np.exp(Δ/(μ*c) - Δ*(α*β + 1)/(α*c))/((α - μ*(α*β + 1))*(α*β + 1)*(-α*β + α*c - 1)*(α*β + α*c + 1)) - ( lambda base, exponent: base**exponent )(α, 4)*β*( lambda base, exponent: base**exponent )(c, 2)/((α - μ*(α*β + 1))*(α*β + 1)*(-α*β + α*c - 1)*(α*β + α*c + 1)) + np.exp(Δ/(μ*c))/(α*β + 1) - 1/(α*β + 1) - 1.0/2.0*(( lambda base, exponent: base**exponent )(α, 2)*β*c*np.exp(Δ) + (α*β + α*c + 1)*np.exp(Δ*(α*β + α*c + 1)/(α*c)))*np.exp(-Δ*(α*β + 2*α*c + 1)/(α*c))*np.exp(Δ + Δ/(μ*c))/((α*β + 1)*(μ*c + 1)*(α*β + α*c + 1)) + (1.0/2.0)*(( lambda base, exponent: base**exponent )(α, 2)*β*c*np.exp(Δ) + (α*β + α*c + 1)*np.exp(Δ*(α*β + α*c + 1)/(α*c)))*np.exp(-Δ*(α*β + 2*α*c + 1)/(α*c))/((α*β + 1)*(μ*c + 1)*(α*β + α*c + 1)) + (1.0/2.0)*(-( lambda base, exponent: base**exponent )(α, 2)*β*c + α*c*(α*β + 1)*np.exp(Δ*(α*β + α*c + 1)/(α*c)) - α*c*np.exp(Δ*(α*β + 1)/(α*c)) - (α*β + 1)*np.exp(Δ*(α*β + 1)/(α*c)) + (α*β + 1)*np.exp(Δ*(α*β + α*c + 1)/(α*c)))*np.exp(-Δ*(α*β + α*c + 1)/(α*c))/((α*β + 1)*(μ*c + 1)*(α*β + α*c + 1)) - 1.0/2.0*(( lambda base, exponent: base**exponent )(α, 2)*β*c*np.exp(Δ) - α*c*(α*β - np.exp(Δ) + 1)*np.exp(Δ*(α*β + 1)/(α*c)) + (1 - np.exp(Δ))*(α*β + 1)*np.exp(Δ*(α*β + 1)/(α*c)))*np.exp(-Δ*(α*β + 1)/(α*c))*np.exp(-Δ + Δ/(μ*c))/((α*β + 1)*(μ*c - 1)*(α*β - α*c + 1)) + (1.0/2.0)*(( lambda base, exponent: base**exponent )(α, 2)*β*c - α*β + α*c - 1)*np.exp(-Δ + Δ/(μ*c))/((α*β + 1)*(μ*c - 1)*(-α*β + α*c - 1)) - 1.0/2.0*(( lambda base, exponent: base**exponent )(α, 2)*β*c - α*β + α*c - 1)/((α*β + 1)*(μ*c - 1)*(-α*β + α*c - 1)))*np.exp(ξ/(μ*c)) + (1.0/2.0)*(( lambda base, exponent: base**exponent )(α, 2)*β*c*np.exp(Δ) - α*c*(α*β - np.exp(Δ) + 1)*np.exp(Δ*(α*β + 1)/(α*c)) + (1 - np.exp(Δ))*(α*β + 1)*np.exp(Δ*(α*β + 1)/(α*c)))*np.exp(ξ)*np.exp(-Δ*(α*β + 1)/(α*c))/((α*β + 1)*(μ*c - 1)*(α*β - α*c + 1)))*(lambda input: np.heaviside(input,0.5))(-Δ - ξ) + (( lambda base, exponent: base**exponent )(α, 4)*β*( lambda base, exponent: base**exponent )(c, 2)*np.exp(ξ*(α*β + 1)/(α*c))/((α - μ*(α*β + 1))*(α*β + 1)*(-α*β + α*c - 1)*(α*β + α*c + 1)) + (-( lambda base, exponent: base**exponent )(α, 4)*β*( lambda base, exponent: base**exponent )(c, 2)/((α - μ*(α*β + 1))*(α*β + 1)*(-α*β + α*c - 1)*(α*β + α*c + 1)) - 1/(α*β + 1) + (1.0/2.0)*(( lambda base, exponent: base**exponent )(α, 2)*β*c*np.exp(Δ) + (α*β + α*c + 1)*np.exp(Δ*(α*β + α*c + 1)/(α*c)))*np.exp(-Δ*(α*β + 2*α*c + 1)/(α*c))/((α*β + 1)*(μ*c + 1)*(α*β + α*c + 1)) + (1.0/2.0)*(-( lambda base, exponent: base**exponent )(α, 2)*β*c + α*c*(α*β + 1)*np.exp(Δ*(α*β + α*c + 1)/(α*c)) - α*c*np.exp(Δ*(α*β + 1)/(α*c)) - (α*β + 1)*np.exp(Δ*(α*β + 1)/(α*c)) + (α*β + 1)*np.exp(Δ*(α*β + α*c + 1)/(α*c)))*np.exp(-Δ*(α*β + α*c + 1)/(α*c))/((α*β + 1)*(μ*c + 1)*(α*β + α*c + 1)) - 1.0/2.0*(( lambda base, exponent: base**exponent )(α, 2)*β*c - α*β + α*c - 1)/((α*β + 1)*(μ*c - 1)*(-α*β + α*c - 1)))*np.exp(ξ/(μ*c)) + 1.0/(α*β + 1) - 1.0/2.0*(( lambda base, exponent: base**exponent )(α, 2)*β*c*np.exp(Δ) + (α*β + α*c + 1)*np.exp(Δ*(α*β + α*c + 1)/(α*c)))*np.exp(-ξ)*np.exp(-Δ*(α*β + 2*α*c + 1)/(α*c))/((α*β + 1)*(μ*c + 1)*(α*β + α*c + 1)) + (1.0/2.0)*(( lambda base, exponent: base**exponent )(α, 2)*β*c - α*β + α*c - 1)*np.exp(ξ)/((α*β + 1)*(μ*c - 1)*(-α*β + α*c - 1)))*(lambda input: np.heaviside(input,0.5))(-ξ)*(lambda input: np.heaviside(input,0.5))(Δ + ξ) + (1.0/2.0)*(-( lambda base, exponent: base**exponent )(α, 2)*β*c + α*c*(α*β + 1)*np.exp(Δ*(α*β + α*c + 1)/(α*c)) - α*c*np.exp(Δ*(α*β + 1)/(α*c)) - (α*β + 1)*np.exp(Δ*(α*β + 1)/(α*c)) + (α*β + 1)*np.exp(Δ*(α*β + α*c + 1)/(α*c)))*np.exp(-ξ)*np.exp(-Δ*(α*β + α*c + 1)/(α*c))*(lambda input: np.heaviside(input,0.5))(ξ)/((α*β + 1)*(μ*c + 1)*(α*β + α*c + 1))\n",
    "def Qnum(ξ, θ, α, β, μ, c, Δ):\n",
    "    return (α*β*(-np.exp(Δ/(α*c)) + np.exp(-Δ*β/c))*np.exp(ξ/(α*c))/(α*β + 1) + 1)*(lambda input: np.heaviside(input,0.5))(-Δ - ξ) + (lambda input: np.heaviside(input,0.5))(ξ) + (α*β*np.exp(ξ*(α*β + 1)/(α*c)) + 1)*(lambda input: np.heaviside(input,0.5))(-ξ)*(lambda input: np.heaviside(input,0.5))(Δ + ξ)/(α*β + 1)"
   ]
  },
  {
   "cell_type": "code",
   "execution_count": 22,
   "id": "158614dd",
   "metadata": {},
   "outputs": [
    {
     "data": {
      "image/png": "[encoded data removed]",
      "text/plain": [
       "<Figure size 432x288 with 1 Axes>"
      ]
     },
     "metadata": {
      "needs_background": "light"
     },
     "output_type": "display_data"
    }
   ],
   "source": [
    "xs = np.linspace(-100, 100, 2001)\n",
    "plt.plot(xs, Unum(xs, *params.values()))\n",
    "plt.plot(xs, Qnum(xs, *params.values()), 'g-')\n",
    "plt.show()"
   ]
  },
  {
   "cell_type": "code",
   "execution_count": null,
   "id": "bedf2a78",
   "metadata": {},
   "outputs": [],
   "source": []
  },
  {
   "cell_type": "markdown",
   "id": "ba12a454",
   "metadata": {},
   "source": [
    "# Adjoint Nullspace"
   ]
  },
  {
   "cell_type": "markdown",
   "id": "a8a3ca21",
   "metadata": {},
   "source": [
    "We seek $v_1, v_2 \\in L^2(\\mathbb{R})$ such that\n",
    "$$\n",
    "\\begin{align*}\n",
    "    -c \\mu v_1' &= v_1 - f'(U)Q \\bigg[ \\int_{\\mathbb{R}} w(y,\\xi) v_1(y) \\ dy - \\alpha \\beta v_2\\bigg] \\\\\n",
    "    -c \\alpha v_2' &= v_2 - f(U)\\bigg[ \\int_{\\mathbb{R}} w(y, \\xi) v_1(y) \\ dy - \\alpha \\beta v_2 \\bigg]\n",
    "\\end{align*}\n",
    "$$"
   ]
  },
  {
   "cell_type": "markdown",
   "id": "7d9e6b8a",
   "metadata": {},
   "source": [
    "Rearranging, we have\n",
    "$$\n",
    "\\begin{align*}\n",
    "    v_1' + \\frac{1}{c\\mu} v_1 &= \\frac{1}{c\\mu}f'(U)Q \\bigg[ \\int_{\\mathbb{R}} w(y,\\xi) v_1(y) \\ dy - \\alpha \\beta v_2\\bigg] \\\\\n",
    "    v_2' + \\frac{1}{c\\alpha}v_2 &= \\frac{1}{c\\alpha}f(U)\\bigg[ \\int_{\\mathbb{R}} w(y, \\xi) v_1(y) \\ dy - \\alpha \\beta v_2 \\bigg]\n",
    "\\end{align*}\n",
    "$$"
   ]
  },
  {
   "cell_type": "markdown",
   "id": "f0cd21ea",
   "metadata": {},
   "source": [
    "Choosing $f(\\cdot) = H(\\cdot - \\theta)$ and $w(x,y) = \\tfrac{1}{2} e^{-|x - y|}$ we have\n",
    "$$\n",
    "\\begin{align*}\n",
    "    v_1' + \\frac{1}{c\\mu} v_1 &= \n",
    "        \\frac{1}{c\\mu}\\bigg( \\frac{\\delta(\\xi)}{U'(0)} + \\frac{\\delta(\\xi + \\Delta)}{U'(-\\Delta)} \\bigg)Q \\bigg[ \\int_{\\mathbb{R}} \\tfrac{1}{2} e^{-|y - \\xi|} v_1(y) \\ dy - \\alpha \\beta v_2\\bigg] \\\\\n",
    "    \\big[ e^{\\frac{1}{c\\mu} \\xi} v_1 \\big]' &=  \n",
    "         \\frac{1}{c\\mu}\\bigg( \\frac{\\delta(\\xi)}{U'(0)} + \\frac{\\delta(\\xi + \\Delta)}{U'(-\\Delta)} \\bigg)Q e^{\\frac{1}{c\\mu} \\xi} \\bigg[ \\int_{\\mathbb{R}} \\tfrac{1}{2} e^{-|y - \\xi|} v_1(y) \\ dy - \\alpha \\beta v_2\\bigg] \\\\\n",
    "    e^{\\frac{1}{c\\mu} \\xi} v_1 &= \n",
    "        A_{-\\infty} + \\frac{1}{c\\mu}\\frac{Q(0)}{U'(0)} \\bigg[ \\int_{\\mathbb{R}} \\tfrac{1}{2}e^{-|y|} v_1(y) \\ dy + \\alpha \\beta v_2(0) \\bigg] H(\\xi) + \\frac{1}{c\\mu} e^{-\\frac{\\Delta}{c\\mu}} \\frac{Q(-\\Delta)}{U'(-\\Delta)} \\bigg[ \\int_{\\mathbb{R}} \\tfrac{1}{2}e^{-|y + \\Delta|} v_1(y) \\ dy + \\alpha \\beta v_2(-\\Delta) \\bigg] H(\\xi + \\Delta) \\\\\n",
    "    v_1 &= \n",
    "        A_{-\\infty}e^{-\\frac{1}{c\\mu} \\xi}  + \\underbrace{\\frac{1}{c\\mu}\\frac{Q(0)}{U'(0)} \\bigg[ \\int_{\\mathbb{R}} \\tfrac{1}{2}e^{-|y|} v_1(y) \\ dy + \\alpha \\beta v_2(0) \\bigg]}_{A_{0}} e^{-\\frac{1}{c\\mu} \\xi} H(\\xi) + \\underbrace{\\frac{1}{c\\mu} e^{-\\frac{\\Delta}{c\\mu}} \\frac{Q(-\\Delta)}{U'(-\\Delta)} \\bigg[ \\int_{\\mathbb{R}} \\tfrac{1}{2}e^{-|y + \\Delta|} v_1(y) \\ dy + \\alpha \\beta v_2(-\\Delta) \\bigg]}_{A_{-\\Delta}} e^{-\\frac{1}{c\\mu} \\xi} H(\\xi + \\Delta) \\\\\n",
    "    v_1(\\xi) &= A_{-\\infty} e^{-\\frac{1}{c\\mu} \\xi} + A_{-\\Delta} e^{-\\frac{1}{c\\mu} \\xi} H(\\xi + \\Delta) + A_{0} e^{-\\frac{1}{c\\mu} \\xi}H(\\xi)\n",
    "\\end{align*}\n",
    "$$"
   ]
  },
  {
   "cell_type": "markdown",
   "id": "551da576",
   "metadata": {},
   "source": [
    "For $v_1$ to be bounded, we need $0 = \\lim\\limits_{\\xi \\to -\\infty} v_1(\\xi) \\implies A_{-\\infty} = 0$. This gives two consistency conditions\n",
    "$$\n",
    "\\begin{align*}\n",
    "    A_{-\\Delta} &= \\underbrace{\\frac{1}{c\\mu} e^{-\\frac{\\Delta}{c\\mu}} \\frac{Q(-\\Delta)}{U'(-\\Delta)}}_{D_{-\\Delta}} \\bigg[ \\int \\tfrac{1}{2}e^{-|y + \\Delta|} \\bigg( A_{-\\Delta} e^{-\\frac{1}{c\\mu} y} H(y + \\Delta) + A_{0} e^{-\\frac{1}{c\\mu} y}H(y) \\bigg) \\ dy + \\alpha \\beta v_2(-\\Delta) \\bigg] \\\\\n",
    "    A_{0} &= \\underbrace{\\frac{1}{c\\mu}\\frac{Q(0)}{U'(0)}}_{D_0} \\bigg[ \\int \\tfrac{1}{2}e^{-|y|} \\bigg( A_{-\\Delta} e^{-\\frac{1}{c\\mu} y} H(y + \\Delta) + A_{0} e^{-\\frac{1}{c\\mu} y}H(y) \\bigg) \\ dy + \\alpha \\beta v_2(0) \\bigg]\n",
    "\\end{align*}\n",
    "$$"
   ]
  },
  {
   "cell_type": "code",
   "execution_count": 23,
   "id": "597e5f39",
   "metadata": {},
   "outputs": [
    {
     "name": "stdout",
     "output_type": "stream",
     "text": [
      "assume\n"
     ]
    },
    {
     "data": {
      "text/latex": [
       "$\\displaystyle \\left|{\\arg{\\left(\\mu c - 1 \\right)}}\\right| \\leq \\frac{\\pi}{2}$"
      ],
      "text/plain": [
       "Abs(arg(\\mu*c - 1)) <= pi/2"
      ]
     },
     "metadata": {},
     "output_type": "display_data"
    },
    {
     "data": {
      "text/latex": [
       "$\\displaystyle 0 = \\frac{A_{0} D_{-\\Delta} \\mu c e^{\\frac{\\Delta}{\\mu c}}}{2 \\mu c e^{\\Delta} e^{\\frac{\\Delta}{\\mu c}} + 2 e^{\\Delta} e^{\\frac{\\Delta}{\\mu c}}} + A_{-\\Delta} \\left(\\frac{D_{-\\Delta} \\mu c e^{\\frac{\\Delta}{\\mu c}}}{2 \\mu c + 2} - 1\\right) + D_{-\\Delta} \\alpha \\beta \\operatorname{v_{2}}{\\left(- \\Delta \\right)}$"
      ],
      "text/plain": [
       "Eq(0, A_0*D_{-\\Delta}*\\mu*c*exp(\\Delta/(\\mu*c))/(2*\\mu*c*exp(\\Delta)*exp(\\Delta/(\\mu*c)) + 2*exp(\\Delta)*exp(\\Delta/(\\mu*c))) + A_{-\\Delta}*(D_{-\\Delta}*\\mu*c*exp(\\Delta/(\\mu*c))/(2*\\mu*c + 2) - 1) + D_{-\\Delta}*\\alpha*\\beta*v_2(-\\Delta))"
      ]
     },
     "metadata": {},
     "output_type": "display_data"
    },
    {
     "data": {
      "text/latex": [
       "$\\displaystyle 0 = A_{0} \\left(\\frac{D_{0} \\mu c}{2 \\mu c + 2} - 1\\right) + A_{-\\Delta} \\left(- \\frac{D_{0} \\mu c e^{\\frac{\\Delta}{\\mu c}}}{2 \\mu c e^{\\Delta} - 2 e^{\\Delta}} + \\frac{D_{0} \\mu c}{2 \\mu c + 2} + \\frac{D_{0} \\mu c}{2 \\mu c - 2}\\right) + D_{0} \\alpha \\beta \\operatorname{v_{2}}{\\left(0 \\right)}$"
      ],
      "text/plain": [
       "Eq(0, A_0*(D_0*\\mu*c/(2*\\mu*c + 2) - 1) + A_{-\\Delta}*(-D_0*\\mu*c*exp(\\Delta/(\\mu*c))/(2*\\mu*c*exp(\\Delta) - 2*exp(\\Delta)) + D_0*\\mu*c/(2*\\mu*c + 2) + D_0*\\mu*c/(2*\\mu*c - 2)) + D_0*\\alpha*\\beta*v_2(0))"
      ]
     },
     "metadata": {},
     "output_type": "display_data"
    }
   ],
   "source": [
    "Am, A0, Dm, D0 = sym.symbols('A_{-\\\\Delta} A_0 D_{-\\\\Delta} D_0', real=True)\n",
    "v2 = sym.Function('v_2')\n",
    "\n",
    "D0_sub = 1/c/μ * Q_mid.subs(ξ,0)/U_mid.diff(ξ).subs(ξ, 0)\n",
    "Dm_sub = 1/c/μ *sym.exp(-Δ/c/μ) * Q_mid.subs(ξ,-Δ)/U_mid.diff(ξ).subs(ξ, -Δ)\n",
    "\n",
    "v1_sub = sym.exp(-1/c/μ *y) * (Am*sym.Heaviside(y+Δ) + A0*sym.Heaviside(y))\n",
    "argm = sym.exp(-sym.Abs(y+Δ))/2 * v1_sub\n",
    "arg0 = sym.exp(-sym.Abs(y))/2 * v1_sub\n",
    "\n",
    "expr_m = Dm * ( sym.integrate( argm, (y, -sym.oo, sym.oo)) + α*β*v2(-Δ) ) - Am\n",
    "integral_expression = sym.integrate( arg0, (y, -sym.oo, sym.oo))\n",
    "print('assume')\n",
    "display(integral_expression.args[0].args[1])\n",
    "expr_0 = D0 * ( integral_expression.args[0].args[0] + α*β*v2(0) ) - A0\n",
    "\n",
    "expr_m = expr_m.expand().collect(Am).collect(A0)\n",
    "expr_0 = expr_0.expand().collect(Am).collect(A0)\n",
    "\n",
    "display(sym.Eq(0, expr_m))\n",
    "display(sym.Eq(0, expr_0))"
   ]
  },
  {
   "cell_type": "markdown",
   "id": "72abe4f3",
   "metadata": {},
   "source": [
    "Also,\n",
    "$$\\begin{align*}\n",
    "    v_2' + \\frac{1}{c\\alpha}v_2 &= \\frac{1}{c\\alpha}f(U)\\bigg[ \\int_{\\mathbb{R}} w(y, \\xi) v_1(y) \\ dy - \\alpha \\beta v_2 \\bigg] \\\\\n",
    "    \\big[ e^{\\frac{1}{c\\alpha} \\xi} v_2 \\big]' &= I_{[-\\Delta, 0]}(\\xi) \\frac{1}{c\\alpha}\\bigg[ \\int_{\\mathbb{R}} \\tfrac{1}{2}e^{-|y - \\xi|} \\bigg( A_{-\\Delta} e^{-\\frac{1}{c\\mu} y} H(y + \\Delta) + A_{0} e^{-\\frac{1}{c\\mu} y}H(y) \\bigg) \\ dy - \\alpha \\beta v_2 \\bigg]\n",
    "\\end{align*}$$"
   ]
  },
  {
   "cell_type": "code",
   "execution_count": 24,
   "id": "9e58addb",
   "metadata": {},
   "outputs": [],
   "source": [
    "# integral_expression = sym.integrate( sym.exp(-sym.Abs(y - ξ))/2 * v1_sub, (y, -sym.oo, sym.oo))\n",
    "# display(integral_expression.args[0].args[1])\n",
    "# integral_expression = integral_expression.args[0].args[0].collect(Am).collect(A0)\n",
    "# display(integral_expression)"
   ]
  },
  {
   "cell_type": "code",
   "execution_count": 25,
   "id": "f9ed8f74",
   "metadata": {},
   "outputs": [],
   "source": [
    "# integral_expression.expand().collect(sym.exp(ξ)).collect(sym.exp(ξ/μ/c))"
   ]
  },
  {
   "cell_type": "code",
   "execution_count": 26,
   "id": "b45ffd73",
   "metadata": {},
   "outputs": [],
   "source": [
    "integral_expression =   Am/2*( sym.integrate( sym.exp(y-ξ)*sym.exp(-1/c/μ*y), (y, -Δ, ξ) ).args[0].args[0] +\\\n",
    "                               sym.integrate( sym.exp(ξ-y)*sym.exp(-1/c/μ*y), (y, ξ, sym.oo) ) ).expand().collect(sym.exp(ξ)).collect(sym.exp(ξ/μ/c)) + \\\n",
    "                        A0/2 * sym.integrate(sym.exp(ξ-y) * sym.exp(-1/c/μ*y), (y, 0, sym.oo))\n",
    "\n",
    "integral_expression = integral_expression.expand().collect(sym.exp(ξ)).collect(sym.exp(ξ/μ/c))\n",
    "terms = [sym.exp(ξ), sym.exp(-ξ), sym.exp(-ξ/μ/c)]\n",
    "coeffs = [integral_expression.coeff(term) for term in terms]\n",
    "coeffs_sub = [sym.symbols(f'E_{i}', real=True) for i in range(len(terms))]\n",
    "coeffs_sub_dict = {k:v for k, v in zip(coeffs_sub, coeffs)}\n",
    "integral_expression_sub = sum(term*coeff for term, coeff in zip(terms, coeffs_sub))\n",
    "assert 0 == integral_expression - sum(term*coeff for term, coeff in zip(terms, coeffs))\n",
    "assert 0 == integral_expression - integral_expression_sub.subs(coeffs_sub_dict)\n"
   ]
  },
  {
   "cell_type": "code",
   "execution_count": 27,
   "id": "c66b9bcc",
   "metadata": {},
   "outputs": [],
   "source": [
    "v2_mid = sym.dsolve( c*α*v2(ξ).diff(ξ) + (1+α*β)*v2(ξ) - integral_expression_sub, func=v2(ξ),\n",
    "                     hint='nth_linear_constant_coeff_undetermined_coefficients').args[1]\n",
    "C1 = sym.symbols('C1')"
   ]
  },
  {
   "cell_type": "code",
   "execution_count": 29,
   "id": "157d35f7",
   "metadata": {},
   "outputs": [
    {
     "data": {
      "text/latex": [
       "$\\displaystyle C_{1} e^{\\frac{\\xi \\left(- \\beta - \\frac{1}{\\alpha}\\right)}{c}} + \\frac{E_{0} e^{\\xi}}{\\alpha \\beta + \\alpha c + 1} - \\frac{E_{1} e^{- \\xi}}{- \\alpha \\beta + \\alpha c - 1} + \\frac{E_{2} \\mu e^{- \\frac{\\xi}{\\mu c}}}{\\alpha \\beta \\mu - \\alpha + \\mu}$"
      ],
      "text/plain": [
       "C1*exp(\\xi*(-\\beta - 1/\\alpha)/c) + E_0*exp(\\xi)/(\\alpha*\\beta + \\alpha*c + 1) - E_1*exp(-\\xi)/(-\\alpha*\\beta + \\alpha*c - 1) + E_2*\\mu*exp(-\\xi/(\\mu*c))/(\\alpha*\\beta*\\mu - \\alpha + \\mu)"
      ]
     },
     "execution_count": 29,
     "metadata": {},
     "output_type": "execute_result"
    }
   ],
   "source": [
    "v2_mid"
   ]
  },
  {
   "cell_type": "code",
   "execution_count": 31,
   "id": "49a81a6d",
   "metadata": {},
   "outputs": [
    {
     "data": {
      "text/latex": [
       "$\\displaystyle 0 = \\frac{A_{0} D_{-\\Delta} \\mu c e^{\\frac{\\Delta}{\\mu c}}}{2 \\mu c e^{\\Delta} e^{\\frac{\\Delta}{\\mu c}} + 2 e^{\\Delta} e^{\\frac{\\Delta}{\\mu c}}} + A_{-\\Delta} \\left(\\frac{D_{-\\Delta} \\mu c e^{\\frac{\\Delta}{\\mu c}}}{2 \\mu c + 2} - 1\\right)$"
      ],
      "text/plain": [
       "Eq(0, A_0*D_{-\\Delta}*\\mu*c*exp(\\Delta/(\\mu*c))/(2*\\mu*c*exp(\\Delta)*exp(\\Delta/(\\mu*c)) + 2*exp(\\Delta)*exp(\\Delta/(\\mu*c))) + A_{-\\Delta}*(D_{-\\Delta}*\\mu*c*exp(\\Delta/(\\mu*c))/(2*\\mu*c + 2) - 1))"
      ]
     },
     "metadata": {},
     "output_type": "display_data"
    },
    {
     "data": {
      "text/latex": [
       "$\\displaystyle 0 = A_{0} \\left(\\frac{D_{0} \\alpha \\beta \\mu c}{2 \\alpha \\beta \\mu c + 2 \\alpha \\beta + 2 \\alpha \\mu c^{2} + 2 \\alpha c + 2 \\mu c + 2} + \\frac{D_{0} \\mu c}{2 \\mu c + 2} - 1\\right) + A_{-\\Delta} \\left(\\frac{D_{0} \\alpha \\beta \\mu^{2} c}{2 \\alpha \\beta \\mu^{2} c + 2 \\alpha \\beta \\mu - 2 \\alpha \\mu c - 2 \\alpha + 2 \\mu^{2} c + 2 \\mu} + \\frac{D_{0} \\alpha \\beta \\mu^{2} c}{2 \\alpha \\beta \\mu^{2} c - 2 \\alpha \\beta \\mu - 2 \\alpha \\mu c + 2 \\alpha + 2 \\mu^{2} c - 2 \\mu} + \\frac{D_{0} \\alpha \\beta \\mu c}{- 2 \\alpha \\beta \\mu c e^{\\Delta} e^{- \\frac{\\Delta}{\\mu c}} + 2 \\alpha \\beta e^{\\Delta} e^{- \\frac{\\Delta}{\\mu c}} + 2 \\alpha \\mu c^{2} e^{\\Delta} e^{- \\frac{\\Delta}{\\mu c}} - 2 \\alpha c e^{\\Delta} e^{- \\frac{\\Delta}{\\mu c}} - 2 \\mu c e^{\\Delta} e^{- \\frac{\\Delta}{\\mu c}} + 2 e^{\\Delta} e^{- \\frac{\\Delta}{\\mu c}}} - \\frac{D_{0} \\mu c e^{\\frac{\\Delta}{\\mu c}}}{2 \\mu c e^{\\Delta} - 2 e^{\\Delta}} + \\frac{D_{0} \\mu c}{2 \\mu c + 2} + \\frac{D_{0} \\mu c}{2 \\mu c - 2}\\right) + C_{1} D_{0} \\alpha \\beta$"
      ],
      "text/plain": [
       "Eq(0, A_0*(D_0*\\alpha*\\beta*\\mu*c/(2*\\alpha*\\beta*\\mu*c + 2*\\alpha*\\beta + 2*\\alpha*\\mu*c**2 + 2*\\alpha*c + 2*\\mu*c + 2) + D_0*\\mu*c/(2*\\mu*c + 2) - 1) + A_{-\\Delta}*(D_0*\\alpha*\\beta*\\mu**2*c/(2*\\alpha*\\beta*\\mu**2*c + 2*\\alpha*\\beta*\\mu - 2*\\alpha*\\mu*c - 2*\\alpha + 2*\\mu**2*c + 2*\\mu) + D_0*\\alpha*\\beta*\\mu**2*c/(2*\\alpha*\\beta*\\mu**2*c - 2*\\alpha*\\beta*\\mu - 2*\\alpha*\\mu*c + 2*\\alpha + 2*\\mu**2*c - 2*\\mu) + D_0*\\alpha*\\beta*\\mu*c/(-2*\\alpha*\\beta*\\mu*c*exp(\\Delta)*exp(-\\Delta/(\\mu*c)) + 2*\\alpha*\\beta*exp(\\Delta)*exp(-\\Delta/(\\mu*c)) + 2*\\alpha*\\mu*c**2*exp(\\Delta)*exp(-\\Delta/(\\mu*c)) - 2*\\alpha*c*exp(\\Delta)*exp(-\\Delta/(\\mu*c)) - 2*\\mu*c*exp(\\Delta)*exp(-\\Delta/(\\mu*c)) + 2*exp(\\Delta)*exp(-\\Delta/(\\mu*c))) - D_0*\\mu*c*exp(\\Delta/(\\mu*c))/(2*\\mu*c*exp(\\Delta) - 2*exp(\\Delta)) + D_0*\\mu*c/(2*\\mu*c + 2) + D_0*\\mu*c/(2*\\mu*c - 2)) + C1*D_0*\\alpha*\\beta)"
      ]
     },
     "metadata": {},
     "output_type": "display_data"
    },
    {
     "data": {
      "text/latex": [
       "$\\displaystyle 0 = \\frac{A_{0} \\mu c}{2 \\alpha \\beta \\mu c e^{\\Delta} + 2 \\alpha \\beta e^{\\Delta} + 2 \\alpha \\mu c^{2} e^{\\Delta} + 2 \\alpha c e^{\\Delta} + 2 \\mu c e^{\\Delta} + 2 e^{\\Delta}} + A_{-\\Delta} \\left(\\frac{\\mu^{2} c e^{\\frac{\\Delta}{\\mu c}}}{2 \\alpha \\beta \\mu^{2} c + 2 \\alpha \\beta \\mu - 2 \\alpha \\mu c - 2 \\alpha + 2 \\mu^{2} c + 2 \\mu} + \\frac{\\mu^{2} c e^{\\frac{\\Delta}{\\mu c}}}{2 \\alpha \\beta \\mu^{2} c - 2 \\alpha \\beta \\mu - 2 \\alpha \\mu c + 2 \\alpha + 2 \\mu^{2} c - 2 \\mu} + \\frac{\\mu c e^{\\Delta}}{- 2 \\alpha \\beta \\mu c e^{\\Delta} e^{- \\frac{\\Delta}{\\mu c}} + 2 \\alpha \\beta e^{\\Delta} e^{- \\frac{\\Delta}{\\mu c}} + 2 \\alpha \\mu c^{2} e^{\\Delta} e^{- \\frac{\\Delta}{\\mu c}} - 2 \\alpha c e^{\\Delta} e^{- \\frac{\\Delta}{\\mu c}} - 2 \\mu c e^{\\Delta} e^{- \\frac{\\Delta}{\\mu c}} + 2 e^{\\Delta} e^{- \\frac{\\Delta}{\\mu c}}}\\right) + C_{1} e^{\\frac{\\Delta}{\\alpha c}} e^{\\frac{\\Delta \\beta}{c}}$"
      ],
      "text/plain": [
       "Eq(0, A_0*\\mu*c/(2*\\alpha*\\beta*\\mu*c*exp(\\Delta) + 2*\\alpha*\\beta*exp(\\Delta) + 2*\\alpha*\\mu*c**2*exp(\\Delta) + 2*\\alpha*c*exp(\\Delta) + 2*\\mu*c*exp(\\Delta) + 2*exp(\\Delta)) + A_{-\\Delta}*(\\mu**2*c*exp(\\Delta/(\\mu*c))/(2*\\alpha*\\beta*\\mu**2*c + 2*\\alpha*\\beta*\\mu - 2*\\alpha*\\mu*c - 2*\\alpha + 2*\\mu**2*c + 2*\\mu) + \\mu**2*c*exp(\\Delta/(\\mu*c))/(2*\\alpha*\\beta*\\mu**2*c - 2*\\alpha*\\beta*\\mu - 2*\\alpha*\\mu*c + 2*\\alpha + 2*\\mu**2*c - 2*\\mu) + \\mu*c*exp(\\Delta)/(-2*\\alpha*\\beta*\\mu*c*exp(\\Delta)*exp(-\\Delta/(\\mu*c)) + 2*\\alpha*\\beta*exp(\\Delta)*exp(-\\Delta/(\\mu*c)) + 2*\\alpha*\\mu*c**2*exp(\\Delta)*exp(-\\Delta/(\\mu*c)) - 2*\\alpha*c*exp(\\Delta)*exp(-\\Delta/(\\mu*c)) - 2*\\mu*c*exp(\\Delta)*exp(-\\Delta/(\\mu*c)) + 2*exp(\\Delta)*exp(-\\Delta/(\\mu*c)))) + C1*exp(\\Delta/(\\alpha*c))*exp(\\Delta*\\beta/c))"
      ]
     },
     "metadata": {},
     "output_type": "display_data"
    }
   ],
   "source": [
    "expr_v2 = v2_mid.subs(ξ, -Δ).subs(coeffs_sub_dict).expand().collect(A0).collect(Am).collect(C1)\n",
    "expr_m = expr_m.subs(v2(-Δ), 0)\n",
    "expr_0 = expr_0.subs(v2(0), v2_mid.subs(ξ,0).subs(coeffs_sub_dict)).expand().collect(A0).collect(Am).collect(C1)\n",
    "conditions = [expr_m, expr_0, expr_v2]\n",
    "for condition in conditions:\n",
    "    display(sym.Eq(0, condition))"
   ]
  },
  {
   "cell_type": "code",
   "execution_count": 32,
   "id": "b0d01211",
   "metadata": {},
   "outputs": [
    {
     "data": {
      "text/latex": [
       "$\\displaystyle 7.25839258067218 \\cdot 10^{-9} A_{0} - 0.279894369715441 A_{-\\Delta}$"
      ],
      "text/plain": [
       "7.25839258067218e-9*A_0 - 0.279894369715441*A_{-\\Delta}"
      ]
     },
     "metadata": {},
     "output_type": "display_data"
    },
    {
     "data": {
      "text/latex": [
       "$\\displaystyle - 2.46297649618725 A_{0} - 12.6199206331592 A_{-\\Delta} - 24.2707740158948 C_{1}$"
      ],
      "text/plain": [
       "-2.46297649618725*A_0 - 12.6199206331592*A_{-\\Delta} - 24.2707740158948*C1"
      ]
     },
     "metadata": {},
     "output_type": "display_data"
    },
    {
     "data": {
      "text/latex": [
       "$\\displaystyle 8.35545804468082 \\cdot 10^{-7} A_{0} - 595.481046930162 A_{-\\Delta} + 15.1960445481001 C_{1}$"
      ],
      "text/plain": [
       "8.35545804468082e-7*A_0 - 595.481046930162*A_{-\\Delta} + 15.1960445481001*C1"
      ]
     },
     "metadata": {},
     "output_type": "display_data"
    }
   ],
   "source": [
    "numerical_conditions = []\n",
    "for condition in conditions:\n",
    "    condition = condition.subs(Dm, Dm_sub)\n",
    "    condition = condition.subs(D0, D0_sub)\n",
    "    condition = condition.subs(sub_dict)\n",
    "    condition = condition.subs(params)\n",
    "    #print(condition.free_symbols)\n",
    "    display(condition)\n",
    "    numerical_conditions.append(condition)"
   ]
  },
  {
   "cell_type": "code",
   "execution_count": 33,
   "id": "75f9a32a",
   "metadata": {},
   "outputs": [],
   "source": [
    "my_vars = [A0, Am, C1]\n",
    "M = np.array([\n",
    "    [float(condition.coeff(v)) for v in my_vars] for condition in numerical_conditions\n",
    "])"
   ]
  },
  {
   "cell_type": "code",
   "execution_count": 40,
   "id": "e2492e3a",
   "metadata": {},
   "outputs": [
    {
     "name": "stdout",
     "output_type": "stream",
     "text": [
      "[ 7.15306826e-04 -1.19736707e+02  1.22312116e+02]\n",
      "[[ 9.95019164e-01 -5.16587132e-04  4.05131775e-04]\n",
      " [-2.54287636e-03 -2.20992091e-01 -1.77040091e-01]\n",
      " [-9.96513789e-02 -9.75275463e-01  9.84203557e-01]]\n"
     ]
    },
    {
     "data": {
      "text/latex": [
       "$\\displaystyle A_{0} = 0.995019163869862$"
      ],
      "text/plain": [
       "Eq(A_0, 0.995019163869862)"
      ]
     },
     "metadata": {},
     "output_type": "display_data"
    },
    {
     "data": {
      "text/latex": [
       "$\\displaystyle A_{-\\Delta} = -0.00254287636485066$"
      ],
      "text/plain": [
       "Eq(A_{-\\Delta}, -0.00254287636485066)"
      ]
     },
     "metadata": {},
     "output_type": "display_data"
    },
    {
     "data": {
      "text/latex": [
       "$\\displaystyle C_{1} = -0.0996513788741248$"
      ],
      "text/plain": [
       "Eq(C1, -0.0996513788741248)"
      ]
     },
     "metadata": {},
     "output_type": "display_data"
    }
   ],
   "source": [
    "eiven_vals, eigen_vect_mat = la.eig(M)\n",
    "print(eiven_vals)\n",
    "print(eigen_vect_mat)\n",
    "nullspace_sub_dict = {}\n",
    "for s, v in zip(my_vars, eigen_vect_mat[:,0]):\n",
    "    nullspace_sub_dict[s] = v\n",
    "    display(sym.Eq(s, v))"
   ]
  },
  {
   "cell_type": "markdown",
   "id": "3b5acf5a",
   "metadata": {},
   "source": [
    "**This is close to zero. Hopefully it is actually zero, and this is just numerical error.**"
   ]
  },
  {
   "cell_type": "code",
   "execution_count": 35,
   "id": "8d941324",
   "metadata": {},
   "outputs": [
    {
     "data": {
      "text/latex": [
       "$\\displaystyle \\left(A_{0} \\theta\\left(y\\right) + A_{-\\Delta} \\theta\\left(\\Delta + y\\right)\\right) e^{- \\frac{y}{\\mu c}}$"
      ],
      "text/plain": [
       "(A_0*Heaviside(y) + A_{-\\Delta}*Heaviside(\\Delta + y))*exp(-y/(\\mu*c))"
      ]
     },
     "execution_count": 35,
     "metadata": {},
     "output_type": "execute_result"
    }
   ],
   "source": [
    "v1_sub"
   ]
  },
  {
   "cell_type": "code",
   "execution_count": 38,
   "id": "a672ecc5",
   "metadata": {},
   "outputs": [],
   "source": [
    "v2_sub = sym.Piecewise(\n",
    "    (0, ξ< - Δ),\n",
    "    (v2_mid, ξ<0),\n",
    "    (v2_mid.subs(ξ, 0)*sym.exp(-1/c/μ * ξ), True)\n",
    ")"
   ]
  },
  {
   "cell_type": "code",
   "execution_count": 54,
   "id": "cbe17d69",
   "metadata": {},
   "outputs": [],
   "source": [
    "v1_numeric = sym.lambdify(ξ, v1_sub.subs(y, ξ).subs(nullspace_sub_dict).subs(params), modules=sympy_modules)\n",
    "v2_numeric = sym.lambdify(ξ, v2_sub.subs(y, ξ).subs(coeffs_sub_dict).subs(nullspace_sub_dict).subs(sub_dict).subs(params), modules = sympy_modules)"
   ]
  },
  {
   "cell_type": "code",
   "execution_count": 71,
   "id": "7a383204",
   "metadata": {},
   "outputs": [
    {
     "data": {
      "image/png": "[encoded data removed]",
      "text/plain": [
       "<Figure size 720x360 with 1 Axes>"
      ]
     },
     "metadata": {
      "needs_background": "light"
     },
     "output_type": "display_data"
    }
   ],
   "source": [
    "xs = np.linspace(-20, 20, 201)\n",
    "plt.figure(figsize=(10, 5))\n",
    "plt.plot(xs, v1_numeric(xs), 'b-', label='$v_1$')\n",
    "plt.plot(xs, v2_numeric(xs), 'g-', label='$v_2$')\n",
    "plt.ylim(-1, 1)\n",
    "plt.legend()\n",
    "plt.title('Nullspace')\n",
    "plt.show()"
   ]
  },
  {
   "cell_type": "code",
   "execution_count": 62,
   "id": "318462e3",
   "metadata": {},
   "outputs": [
    {
     "data": {
      "text/plain": [
       "{C1, E_0, E_1, E_2, \\Delta, \\alpha, \\beta, \\mu, \\xi, c}"
      ]
     },
     "execution_count": 62,
     "metadata": {},
     "output_type": "execute_result"
    }
   ],
   "source": [
    "v2_sub.free_symbols"
   ]
  },
  {
   "cell_type": "code",
   "execution_count": null,
   "id": "a19d6826",
   "metadata": {},
   "outputs": [],
   "source": []
  }
 ],
 "metadata": {
  "kernelspec": {
   "display_name": "Python 3",
   "language": "python",
   "name": "python3"
  },
  "language_info": {
   "codemirror_mode": {
    "name": "ipython",
    "version": 3
   },
   "file_extension": ".py",
   "mimetype": "text/x-python",
   "name": "python",
   "nbconvert_exporter": "python",
   "pygments_lexer": "ipython3",
   "version": "3.6.9"
  }
 },
 "nbformat": 4,
 "nbformat_minor": 5
}

{
 "cells": [
  {
   "cell_type": "code",
   "execution_count": 1,
   "metadata": {
    "jupyter": {
     "source_hidden": true
    },
    "tags": []
   },
   "outputs": [],
   "source": [
    "%matplotlib inline\n",
    "import matplotlib.pyplot as plt\n",
    "import matplotlib.animation as animation\n",
    "from IPython.display import HTML\n",
    "\n",
    "import numpy as np\n",
    "import numpy.linalg as la\n",
    "from scipy.integrate import RK45\n",
    "\n",
    "import sympy as sym\n",
    "# Heaviside numerics workaround\n",
    "from sympy.utilities.lambdify import implemented_function\n",
    "lambdafied_heaviside = implemented_function('H', lambda x: np.heaviside(x,0))\n",
    "\n",
    "from table_maker import *\n",
    "from functools import partial\n",
    "from itertools import *\n",
    "from math import ceil\n",
    "\n",
    "import pickle\n",
    "\n",
    "def cos_bell(x, center=0, width=2*np.pi, height=1):\n",
    "    return (np.cos((x-center)/width*2*np.pi)+1)/2*height * np.heaviside(x-center+width/2,0) * np.heaviside(-x+center+width/2,0)"
   ]
  },
  {
   "cell_type": "code",
   "execution_count": 2,
   "metadata": {
    "jupyter": {
     "source_hidden": true
    },
    "tags": []
   },
   "outputs": [],
   "source": [
    "import matplotlib\n",
    "matplotlib.rcParams.update({'font.size': 24})"
   ]
  },
  {
   "cell_type": "markdown",
   "metadata": {
    "tags": []
   },
   "source": [
    "From [Kilpatrick and Bressloff 2010](https://doi.org/10.1016/j.physd.2009.06.003)\n",
    "$$\\begin{align*}\n",
    "    \\mu u_t &= -u + \\int_{-\\infty}^\\infty w(x,x^\\prime) q(x^\\prime,t) f( u(x^\\prime,t) - a(x^\\prime,t)) \\ dx^\\prime \\\\\n",
    "    q_t &= \\frac{1 - q}{\\alpha} - \\beta q f(u - a) \\\\\n",
    "    \\epsilon a_t &= -a + \\gamma f(u - a)\n",
    "\\end{align*}$$"
   ]
  },
  {
   "cell_type": "markdown",
   "metadata": {},
   "source": [
    "Modified version - remove synaptic depression $q$\n",
    "$$\\begin{align*}\n",
    "    \\mu u_t &= -u + \\int_{-\\infty}^\\infty w(x,x^\\prime) f( u(x^\\prime,t) - a(x^\\prime,t)) \\ dx^\\prime \\\\\n",
    "    \\alpha a_t &= -a + \\gamma f(u - a)\n",
    "\\end{align*}$$\n",
    "(note that parameters have been relabeled)"
   ]
  },
  {
   "cell_type": "markdown",
   "metadata": {},
   "source": [
    "Beginning at (Kilpatrick & Bressloff 2010)[https://www.sciencedirect.com/science/article/abs/pii/S0167278909001833] equations 3.30 and 3.31. We will use the same notation they use (i.e. we will use the $\\alpha$ and $\\epsilon$ they use and substitute back to our notation later. Additionally, sympy uses $\\theta$ to denote the Heaviside function. We will thus use $\\tau$ to denote the threshold here."
   ]
  },
  {
   "cell_type": "code",
   "execution_count": 3,
   "metadata": {
    "jupyter": {
     "source_hidden": true
    },
    "tags": []
   },
   "outputs": [],
   "source": [
    "import collections.abc\n",
    "def collect_eqn(expr, terms):\n",
    "    if not isinstance(terms, collections.abc.Container):\n",
    "        term = terms # isn't a list or tuple\n",
    "        left, right = 0,0\n",
    "        for my_expr in expr.args:\n",
    "            has_term = False\n",
    "            for my_term in sym.postorder_traversal(my_expr):\n",
    "                if term == my_term:\n",
    "                    has_term = True\n",
    "                    break\n",
    "            if has_term:\n",
    "                left += my_expr\n",
    "            else:\n",
    "                right -= my_expr\n",
    "        return sym.Eq(left, right, evaluate=False)\n",
    "    else: # isn't a list or tuple\n",
    "        left_total, right_total = 0, expr\n",
    "        for term in terms:\n",
    "            left, right = collect_eqn(right_total, term).args\n",
    "            left_total += left\n",
    "            right_total = -right\n",
    "        return sym.Eq(left_total, right_total, evaluate=False)\n",
    "    \n",
    "def my_print(expr):\n",
    "    global eviron_print_tex\n",
    "    if eviron_print_tex:\n",
    "        print('$$' + sym.latex(expr) + '$$')\n",
    "    else:\n",
    "        display(expr)\n",
    "        \n",
    "def batch_print(expr_list, punctuation='.'):\n",
    "    global eviron_print_tex\n",
    "    if eviron_print_tex:\n",
    "        print_str = '$$\\\\begin{align*}\\n'\n",
    "        for expr in expr_list:\n",
    "            print_str += '\\t' + sym.latex(expr).replace('=','&=') + '\\\\\\\\\\n'\n",
    "        # remove last new-line and add ending puncuation\n",
    "        print_str = print_str[:-3] + punctuation + '\\n'\n",
    "        print_str += '\\\\end{align*}$$'\n",
    "        print(print_str)\n",
    "    else:\n",
    "        for expr in expr_list:\n",
    "            display(expr)\n",
    "            \n",
    "def py_code(expr, replace_numpy=True, replace_unicode=True, numpy_package='np.'):\n",
    "    code = sym.ccode(expr)\n",
    "    \n",
    "    if replace_unicode:\n",
    "        unicode_replacements = [\n",
    "            ('\\\\alpha', 'α'),\n",
    "            ('\\\\beta', 'β'),\n",
    "            ('\\\\gamma', 'γ'),\n",
    "            ('\\\\Gamma', 'Γ'),\n",
    "            ('\\\\delta', 'δ'),\n",
    "            ('\\\\Delta', 'Δ'),\n",
    "            ('\\\\epsilon', 'ϵ'),\n",
    "            ('\\\\zeta', 'ζ'),\n",
    "            ('\\\\eta', 'η'),\n",
    "            ('\\\\theta', 'θ'),\n",
    "            \n",
    "        ]\n",
    "        for unicode, symbol in unicode_replacements:\n",
    "            code = code.replace(unicode, symbol)\n",
    "    \n",
    "    if replace_numpy:\n",
    "        numpy_replacements = [\n",
    "            ('exp', numpy_package + 'exp'),\n",
    "            ('log', numpy_package + 'log'),\n",
    "            ('pow', '( lambda base, exponent: base**exponent )')\n",
    "        ]\n",
    "        for c_func, np_func in numpy_replacements:\n",
    "            code = code.replace(c_func, np_func)\n",
    "        \n",
    "    return code"
   ]
  },
  {
   "cell_type": "code",
   "execution_count": 6,
   "metadata": {},
   "outputs": [
    {
     "name": "stdout",
     "output_type": "stream",
     "text": [
      "Evaluating the integral, we then obtain\n"
     ]
    },
    {
     "data": {
      "text/latex": [
       "$\\displaystyle 0 = \\mu c \\frac{d}{d \\xi} U{\\left(\\xi \\right)} + \\frac{\\left(1 - e^{\\xi}\\right) \\theta\\left(- \\xi\\right)}{2} - \\frac{\\left(1 - e^{\\Delta + \\xi}\\right) \\theta\\left(- \\Delta - \\xi\\right)}{2} - U{\\left(\\xi \\right)} - \\frac{e^{- \\Delta - \\xi}}{2} + \\frac{e^{- \\xi}}{2}$"
      ],
      "text/plain": [
       "Eq(0, \\mu*c*Derivative(U(\\xi), \\xi) + (1 - exp(\\xi))*Heaviside(-\\xi)/2 - (1 - exp(\\Delta + \\xi))*Heaviside(-\\Delta - \\xi)/2 - U(\\xi) - exp(-\\Delta - \\xi)/2 + exp(-\\xi)/2)"
      ]
     },
     "metadata": {},
     "output_type": "display_data"
    },
    {
     "data": {
      "text/latex": [
       "$\\displaystyle 0 = \\alpha c \\frac{d}{d \\xi} A{\\left(\\xi \\right)} + \\gamma \\left(- \\theta\\left(\\xi\\right) + \\theta\\left(\\Delta + \\xi\\right)\\right) - A{\\left(\\xi \\right)}$"
      ],
      "text/plain": [
       "Eq(0, \\alpha*c*Derivative(A(\\xi), \\xi) + \\gamma*(-Heaviside(\\xi) + Heaviside(\\Delta + \\xi)) - A(\\xi))"
      ]
     },
     "metadata": {},
     "output_type": "display_data"
    },
    {
     "name": "stdout",
     "output_type": "stream",
     "text": [
      "We will solve each system using Laplace transforms\n"
     ]
    },
    {
     "data": {
      "text/latex": [
       "$\\displaystyle 0 = \\mu c \\left(s \\mathcal{L}_{\\xi}\\left[U{\\left(\\xi \\right)}\\right]\\left(s\\right) - U{\\left(0 \\right)}\\right) - \\mathcal{L}_{\\xi}\\left[U{\\left(\\xi \\right)}\\right]\\left(s\\right) + \\frac{1}{2 \\left(s + 1\\right)} - \\frac{e^{- \\Delta}}{2 \\left(s + 1\\right)}$"
      ],
      "text/plain": [
       "Eq(0, \\mu*c*(s*LaplaceTransform(U(\\xi), \\xi, s) - U(0)) - LaplaceTransform(U(\\xi), \\xi, s) + 1/(2*(s + 1)) - exp(-\\Delta)/(2*(s + 1)))"
      ]
     },
     "metadata": {},
     "output_type": "display_data"
    },
    {
     "data": {
      "text/latex": [
       "$\\displaystyle 0 = \\alpha c \\left(s \\mathcal{L}_{\\xi}\\left[A{\\left(\\xi \\right)}\\right]\\left(s\\right) - A{\\left(0 \\right)}\\right) - \\mathcal{L}_{\\xi}\\left[A{\\left(\\xi \\right)}\\right]\\left(s\\right)$"
      ],
      "text/plain": [
       "Eq(0, \\alpha*c*(s*LaplaceTransform(A(\\xi), \\xi, s) - A(0)) - LaplaceTransform(A(\\xi), \\xi, s))"
      ]
     },
     "metadata": {},
     "output_type": "display_data"
    },
    {
     "name": "stdout",
     "output_type": "stream",
     "text": [
      "which are jointly true on the domain $s>0$.\n",
      "Solving for the Laplace transform variables we have\n"
     ]
    },
    {
     "data": {
      "text/latex": [
       "$\\displaystyle \\mathcal{L}_{\\xi}\\left[U{\\left(\\xi \\right)}\\right]\\left(s\\right) = \\frac{\\left(2 \\mu c \\left(s + 1\\right)^{2} U{\\left(0 \\right)} e^{\\Delta} - s e^{\\Delta} + s - e^{\\Delta} + 1\\right) e^{- \\Delta}}{2 \\left(s + 1\\right)^{2} \\left(\\mu c s - 1\\right)}$"
      ],
      "text/plain": [
       "Eq(LaplaceTransform(U(\\xi), \\xi, s), (2*\\mu*c*(s + 1)**2*U(0)*exp(\\Delta) - s*exp(\\Delta) + s - exp(\\Delta) + 1)*exp(-\\Delta)/(2*(s + 1)**2*(\\mu*c*s - 1)))"
      ]
     },
     "metadata": {},
     "output_type": "display_data"
    },
    {
     "data": {
      "text/latex": [
       "$\\displaystyle \\mathcal{L}_{\\xi}\\left[A{\\left(\\xi \\right)}\\right]\\left(s\\right) = \\frac{\\alpha c A{\\left(0 \\right)}}{\\alpha c s - 1}$"
      ],
      "text/plain": [
       "Eq(LaplaceTransform(A(\\xi), \\xi, s), \\alpha*c*A(0)/(\\alpha*c*s - 1))"
      ]
     },
     "metadata": {},
     "output_type": "display_data"
    },
    {
     "name": "stdout",
     "output_type": "stream",
     "text": [
      "Applying the inverse Laplace transform then gives us the solutions for $\\xi > 0$\n"
     ]
    },
    {
     "data": {
      "text/latex": [
       "$\\displaystyle U{\\left(\\xi \\right)} = \\frac{\\left(2 \\mu c U{\\left(0 \\right)} e^{\\frac{\\xi}{\\mu c}} + 2 U{\\left(0 \\right)} e^{\\frac{\\xi}{\\mu c}} - e^{\\frac{\\xi}{\\mu c}} - e^{- \\Delta - \\xi} + e^{- \\Delta + \\frac{\\xi}{\\mu c}} + e^{- \\xi}\\right) \\theta\\left(\\xi\\right)}{2 \\left(\\mu c + 1\\right)}$"
      ],
      "text/plain": [
       "Eq(U(\\xi), (2*\\mu*c*U(0)*exp(\\xi/(\\mu*c)) + 2*U(0)*exp(\\xi/(\\mu*c)) - exp(\\xi/(\\mu*c)) - exp(-\\Delta - \\xi) + exp(-\\Delta + \\xi/(\\mu*c)) + exp(-\\xi))*Heaviside(\\xi)/(2*(\\mu*c + 1)))"
      ]
     },
     "metadata": {},
     "output_type": "display_data"
    },
    {
     "data": {
      "text/latex": [
       "$\\displaystyle A{\\left(\\xi \\right)} = A{\\left(0 \\right)} e^{\\frac{\\xi}{\\alpha c}} \\theta\\left(\\xi\\right)$"
      ],
      "text/plain": [
       "Eq(A(\\xi), A(0)*exp(\\xi/(\\alpha*c))*Heaviside(\\xi))"
      ]
     },
     "metadata": {},
     "output_type": "display_data"
    },
    {
     "name": "stdout",
     "output_type": "stream",
     "text": [
      "and thus\n"
     ]
    },
    {
     "data": {
      "text/latex": [
       "$\\displaystyle - A{\\left(\\xi \\right)} + U{\\left(\\xi \\right)} = - A{\\left(0 \\right)} e^{\\frac{\\xi}{\\alpha c}} \\theta\\left(\\xi\\right) + \\frac{\\left(\\left(2 \\mu c U{\\left(0 \\right)} + 2 U{\\left(0 \\right)} - 1 + e^{- \\Delta}\\right) e^{\\frac{\\xi}{\\mu c}} - e^{- \\Delta - \\xi} + e^{- \\xi}\\right) \\theta\\left(\\xi\\right)}{2 \\left(\\mu c + 1\\right)}$"
      ],
      "text/plain": [
       "Eq(-A(\\xi) + U(\\xi), -A(0)*exp(\\xi/(\\alpha*c))*Heaviside(\\xi) + ((2*\\mu*c*U(0) + 2*U(0) - 1 + exp(-\\Delta))*exp(\\xi/(\\mu*c)) - exp(-\\Delta - \\xi) + exp(-\\xi))*Heaviside(\\xi)/(2*(\\mu*c + 1)))"
      ]
     },
     "metadata": {},
     "output_type": "display_data"
    },
    {
     "name": "stdout",
     "output_type": "stream",
     "text": [
      "The right boundary condition then gives\n"
     ]
    },
    {
     "data": {
      "text/latex": [
       "$\\displaystyle 0 = A{\\left(0 \\right)}$"
      ],
      "text/plain": [
       "Eq(0, A(0))"
      ]
     },
     "metadata": {},
     "output_type": "display_data"
    },
    {
     "data": {
      "text/latex": [
       "$\\displaystyle 0 = 2 \\mu \\tau c e^{\\Delta} + 2 \\tau e^{\\Delta} - e^{\\Delta} + 1$"
      ],
      "text/plain": [
       "Eq(0, 2*\\mu*\\tau*c*exp(\\Delta) + 2*\\tau*exp(\\Delta) - exp(\\Delta) + 1)"
      ]
     },
     "metadata": {},
     "output_type": "display_data"
    },
    {
     "name": "stdout",
     "output_type": "stream",
     "text": [
      "Or equivalently,\n"
     ]
    },
    {
     "data": {
      "text/latex": [
       "$\\displaystyle c = \\frac{\\left(- 2 \\tau e^{\\Delta} + e^{\\Delta} - 1\\right) e^{- \\Delta}}{2 \\mu \\tau}$"
      ],
      "text/plain": [
       "Eq(c, (-2*\\tau*exp(\\Delta) + exp(\\Delta) - 1)*exp(-\\Delta)/(2*\\mu*\\tau))"
      ]
     },
     "metadata": {},
     "output_type": "display_data"
    },
    {
     "data": {
      "text/latex": [
       "$\\displaystyle \\Delta = \\log{\\left(- \\frac{1}{2 \\mu \\tau c + 2 \\tau - 1} \\right)}$"
      ],
      "text/plain": [
       "Eq(\\Delta, log(-1/(2*\\mu*\\tau*c + 2*\\tau - 1)))"
      ]
     },
     "metadata": {},
     "output_type": "display_data"
    },
    {
     "name": "stdout",
     "output_type": "stream",
     "text": [
      "To get solutions for $\\xi < 0$, we will make the substitution $\\zeta = -\\xi $ and use the variables V(\\zeta) = U(\\xi), and B(\\zeta) = A(\\xi).\n",
      "Our equations become\n"
     ]
    },
    {
     "data": {
      "text/latex": [
       "$\\displaystyle 0 = - \\mu c \\frac{d}{d \\zeta} V{\\left(\\zeta \\right)} + \\frac{\\left(1 - e^{- \\zeta}\\right) \\theta\\left(\\zeta\\right)}{2} - \\frac{\\left(1 - e^{\\Delta - \\zeta}\\right) \\theta\\left(- \\Delta + \\zeta\\right)}{2} - V{\\left(\\zeta \\right)} + \\frac{e^{\\zeta}}{2} - \\frac{e^{- \\Delta + \\zeta}}{2}$"
      ],
      "text/plain": [
       "Eq(0, -\\mu*c*Derivative(V(\\zeta), \\zeta) + (1 - exp(-\\zeta))*Heaviside(\\zeta)/2 - (1 - exp(\\Delta - \\zeta))*Heaviside(-\\Delta + \\zeta)/2 - V(\\zeta) + exp(\\zeta)/2 - exp(-\\Delta + \\zeta)/2)"
      ]
     },
     "metadata": {},
     "output_type": "display_data"
    },
    {
     "data": {
      "text/latex": [
       "$\\displaystyle 0 = - \\alpha c \\frac{d}{d \\zeta} B{\\left(\\zeta \\right)} + \\gamma \\left(- \\theta\\left(- \\zeta\\right) + \\theta\\left(\\Delta - \\zeta\\right)\\right) - B{\\left(\\zeta \\right)}$"
      ],
      "text/plain": [
       "Eq(0, -\\alpha*c*Derivative(B(\\zeta), \\zeta) + \\gamma*(-Heaviside(-\\zeta) + Heaviside(\\Delta - \\zeta)) - B(\\zeta))"
      ]
     },
     "metadata": {},
     "output_type": "display_data"
    },
    {
     "name": "stdout",
     "output_type": "stream",
     "text": [
      "We take the Laplace transform with respect to $\\zeta$ now, to obtain\n"
     ]
    },
    {
     "data": {
      "text/latex": [
       "$\\displaystyle 0 = - \\mu c \\left(s \\mathcal{L}_{\\zeta}\\left[V{\\left(\\zeta \\right)}\\right]\\left(s\\right) - V{\\left(0 \\right)}\\right) - \\mathcal{L}_{\\zeta}\\left[V{\\left(\\zeta \\right)}\\right]\\left(s\\right) + \\frac{1}{2 \\left(s - 1\\right)} - \\frac{e^{- \\Delta}}{2 \\left(s - 1\\right)} + \\frac{1}{2 s \\left(s + 1\\right)} - \\frac{e^{- \\Delta s}}{2 s \\left(s + 1\\right)}$"
      ],
      "text/plain": [
       "Eq(0, -\\mu*c*(s*LaplaceTransform(V(\\zeta), \\zeta, s) - V(0)) - LaplaceTransform(V(\\zeta), \\zeta, s) + 1/(2*(s - 1)) - exp(-\\Delta)/(2*(s - 1)) + 1/(2*s*(s + 1)) - exp(-\\Delta*s)/(2*s*(s + 1)))"
      ]
     },
     "metadata": {},
     "output_type": "display_data"
    },
    {
     "data": {
      "text/latex": [
       "$\\displaystyle 0 = - \\alpha c \\left(s \\mathcal{L}_{\\zeta}\\left[B{\\left(\\zeta \\right)}\\right]\\left(s\\right) - B{\\left(0 \\right)}\\right) + \\frac{\\gamma}{s} - \\frac{\\gamma e^{- \\Delta s}}{s} - \\mathcal{L}_{\\zeta}\\left[B{\\left(\\zeta \\right)}\\right]\\left(s\\right)$"
      ],
      "text/plain": [
       "Eq(0, -\\alpha*c*(s*LaplaceTransform(B(\\zeta), \\zeta, s) - B(0)) + \\gamma/s - \\gamma*exp(-\\Delta*s)/s - LaplaceTransform(B(\\zeta), \\zeta, s))"
      ]
     },
     "metadata": {},
     "output_type": "display_data"
    },
    {
     "name": "stdout",
     "output_type": "stream",
     "text": [
      "Next, we solve for the transformed varialbes\n"
     ]
    },
    {
     "data": {
      "text/latex": [
       "$\\displaystyle \\mathcal{L}_{\\zeta}\\left[V{\\left(\\zeta \\right)}\\right]\\left(s\\right) = \\frac{\\left(2 \\mu c s^{3} V{\\left(0 \\right)} e^{\\Delta s + \\Delta} - 2 \\mu c s V{\\left(0 \\right)} e^{\\Delta s + \\Delta} - s^{2} e^{\\Delta s} + s^{2} e^{\\Delta s + \\Delta} - s e^{\\Delta} - s e^{\\Delta s} + 2 s e^{\\Delta s + \\Delta} + e^{\\Delta} - e^{\\Delta s + \\Delta}\\right) e^{- \\Delta s - \\Delta}}{2 s \\left(\\mu c s^{3} - \\mu c s + s^{2} - 1\\right)}$"
      ],
      "text/plain": [
       "Eq(LaplaceTransform(V(\\zeta), \\zeta, s), (2*\\mu*c*s**3*V(0)*exp(\\Delta*s + \\Delta) - 2*\\mu*c*s*V(0)*exp(\\Delta*s + \\Delta) - s**2*exp(\\Delta*s) + s**2*exp(\\Delta*s + \\Delta) - s*exp(\\Delta) - s*exp(\\Delta*s) + 2*s*exp(\\Delta*s + \\Delta) + exp(\\Delta) - exp(\\Delta*s + \\Delta))*exp(-\\Delta*s - \\Delta)/(2*s*(\\mu*c*s**3 - \\mu*c*s + s**2 - 1)))"
      ]
     },
     "metadata": {},
     "output_type": "display_data"
    },
    {
     "data": {
      "text/latex": [
       "$\\displaystyle \\mathcal{L}_{\\zeta}\\left[B{\\left(\\zeta \\right)}\\right]\\left(s\\right) = \\frac{\\left(\\alpha c s B{\\left(0 \\right)} e^{\\Delta s} + \\gamma e^{\\Delta s} - \\gamma\\right) e^{- \\Delta s}}{s \\left(\\alpha c s + 1\\right)}$"
      ],
      "text/plain": [
       "Eq(LaplaceTransform(B(\\zeta), \\zeta, s), (\\alpha*c*s*B(0)*exp(\\Delta*s) + \\gamma*exp(\\Delta*s) - \\gamma)*exp(-\\Delta*s)/(s*(\\alpha*c*s + 1)))"
      ]
     },
     "metadata": {},
     "output_type": "display_data"
    },
    {
     "name": "stdout",
     "output_type": "stream",
     "text": [
      "and apply an inverse transform\n"
     ]
    }
   ],
   "source": [
    "eviron_print_tex = False\n",
    "\n",
    "μ, α, γ, τ, c, Δ = sym.symbols('\\\\mu \\\\alpha \\\\gamma, \\\\tau, c \\\\Delta', real=True, positive = True)\n",
    "x, xp, t, ξ, ξp = sym.symbols('x x^\\\\prime t \\\\xi \\\\xi^\\\\prime', real=True)\n",
    "u = sym.Function('u', real=True)(x,t)\n",
    "a = sym.Function('u', real=True)(x,t)\n",
    "U = sym.Function('U', real=True)(ξ)\n",
    "A = sym.Function('A', real=True)(ξ)\n",
    "\n",
    "G = sym.integrate( sym.Heaviside(ξp-ξ)*sym.exp(ξ-ξp) + sym.Heaviside(ξ-ξp)*sym.exp(ξp-ξ), (ξp, -Δ, 0) )/2\n",
    "eqn1 = μ*c*U.diff(ξ) - U + G\n",
    "eqn2 = α*c*A.diff(ξ) - A + γ*( sym.Heaviside(ξ+Δ) - sym.Heaviside(ξ) )\n",
    "\n",
    "\n",
    "print('Evaluating the integral, we then obtain')\n",
    "batch_print( [sym.Eq(0, eqn1), sym.Eq(0, eqn2)] )\n",
    "\n",
    "print('We will solve each system using Laplace transforms')\n",
    "s = sym.symbols('s', real=True, positive=True)\n",
    "Leqn1, eqn1_domain, _ = sym.laplace_transform(eqn1, ξ, s)\n",
    "Leqn2, eqn2_domain, _ = sym.laplace_transform(eqn2, ξ, s)\n",
    "# manually apply L(U') = s*L(U) - U(0)\n",
    "LUsym = sym.laplace_transform(U, ξ, s)\n",
    "Leqn1 = Leqn1.subs(sym.laplace_transform(U.diff(ξ), ξ, s), s*LUsym - U.subs(ξ,0))\n",
    "LAsym = sym.laplace_transform(A, ξ, s)\n",
    "Leqn2 = Leqn2.subs(sym.laplace_transform(A.diff(ξ), ξ, s), s*LAsym - A.subs(ξ,0))\n",
    "\n",
    "batch_print( [sym.Eq(0, Leqn1), sym.Eq(0, Leqn2)], punctuation='')\n",
    "print('which are jointly true on the domain $s>%s$.' % sym.latex(sym.Max(eqn1_domain, eqn2_domain)) )\n",
    "\n",
    "print('Solving for the Laplace transform variables we have')\n",
    "\n",
    "LU_sub = sym.solve(Leqn1, LUsym)[0]\n",
    "LA_sub = sym.solve(Leqn2, LAsym)[0]\n",
    "\n",
    "batch_print( [sym.Eq(LUsym, LU_sub), sym.Eq(LAsym, LA_sub)], punctuation='')\n",
    "\n",
    "print('Applying the inverse Laplace transform then gives us the solutions for $\\\\xi > 0$')\n",
    "\n",
    "U_sub = sym.inverse_laplace_transform(LU_sub, s, ξ)\n",
    "A_sub = sym.inverse_laplace_transform(LA_sub, s, ξ)\n",
    "\n",
    "batch_print( [sym.Eq(U, U_sub), sym.Eq(A, A_sub)], punctuation='')\n",
    "print('and thus')\n",
    "batch_print([sym.Eq( U-A, (U_sub - A_sub).collect(sym.exp(ξ/μ/c)) )])\n",
    "\n",
    "print('The right boundary condition then gives')\n",
    "cond1 = sym.limit(U_sub.subs( U.subs(ξ, 0), τ ) - A_sub.subs( A.subs(ξ,0), 0) , ξ, sym.oo).args[1].args[0]\n",
    "\n",
    "batch_print([sym.Eq(0, A.subs(ξ,0)), sym.Eq(0, cond1)])\n",
    "\n",
    "print('Or equivalently,')\n",
    "Δ_sub = sym.solve(cond1, Δ)[0]\n",
    "c_sub = sym.solve(cond1, c)[0]\n",
    "\n",
    "batch_print([sym.Eq(c, c_sub), sym.Eq(Δ, Δ_sub)])\n",
    "\n",
    "\n",
    "print('To get solutions for $\\\\xi < 0$, we will make the substitution $\\\\zeta = -\\\\xi $ and use the variables V(\\\\zeta) = U(\\\\xi), and B(\\\\zeta) = A(\\\\xi).')\n",
    "print('Our equations become')\n",
    "\n",
    "ζ = sym.symbols('\\\\zeta', real=True)\n",
    "V = sym.Function('V')(ζ)\n",
    "B = sym.Function('B')(ζ)\n",
    "eqn1V = eqn1.subs(U.diff(ξ), -V.diff(ζ)).subs(U, V).subs(ξ, -ζ)\n",
    "eqn2B = eqn2.subs(A.diff(ξ), -B.diff(ζ)).subs(A, B).subs(ξ, -ζ)\n",
    "\n",
    "batch_print([sym.Eq(0, eqn1V), sym.Eq(0, eqn2B)])\n",
    "\n",
    "print('We take the Laplace transform with respect to $\\\\zeta$ now, to obtain')\n",
    "\n",
    "Leqn1V, eqn1V_domain, _ = sym.laplace_transform(eqn1V, ζ, s)\n",
    "LVsym = sym.laplace_transform(V, ζ, s)\n",
    "Leqn1V = Leqn1V.subs(sym.laplace_transform(V.diff(ζ), ζ, s), s*LVsym - V.subs(ζ,0))\n",
    "\n",
    "Leqn2B, eqn2B_domain, _ = sym.laplace_transform(eqn2B, ζ, s)\n",
    "LBsym = sym.laplace_transform(B, ζ, s)\n",
    "Leqn2B = Leqn2B.subs(sym.laplace_transform(B.diff(ζ), ζ, s), s*LBsym - B.subs(ζ,0))\n",
    "\n",
    "batch_print([sym.Eq(0, Leqn1V), sym.Eq(0, Leqn2B)])\n",
    "\n",
    "print('Next, we solve for the transformed varialbes')\n",
    "\n",
    "LV_sub = sym.solve(Leqn1V, LVsym)[0] \n",
    "LB_sub = sym.solve(Leqn2B, LBsym)[0] \n",
    "\n",
    "batch_print([sym.Eq(LVsym, LV_sub), sym.Eq(LBsym, LB_sub)], punctuation='')\n",
    "\n",
    "print('and apply an inverse transform')\n",
    "\n",
    "#need to manually partial fraction decomp - sympy is struggling\n",
    "coeff = -(μ*c*s + 1)\n",
    "LV_sub_rational1 = 1/(s-1)/2\n",
    "LV_sub_rational2 = 1/s/(s+1)/2\n",
    "expr = LV_sub_rational1*(1 - sym.exp(-Δ)) + LV_sub_rational2 * (1 - sym.exp(-Δ*s)) + μ*c*V.subs(ζ,0)\n",
    "expr += coeff * LVsym\n",
    "assert expr.expand() - Leqn1V.expand() == 0 # properly factored expression\n",
    "A = -1/(1+c*μ)/2\n",
    "B = A + sym.Rational(1,2)\n",
    "LV_sub_pfd1 = A/(s-1) + B/(1+c*μ*s)\n",
    "assert (LV_sub_pfd1 - LV_sub_rational1/coeff).simplify() == 0\n",
    "A = -sym.Rational(1,2)\n",
    "B = -A/(1-μ*c)\n",
    "D = -B - A*(1+μ*c)\n",
    "LV_sub_pfd2 = A/s + B/(s+1) + D/(1+μ*c*s)\n",
    "assert (LV_sub_pfd2 - LV_sub_rational2/coeff).simplify() == 0\n",
    "LV_sub = -(LV_sub_pfd1*(1-sym.exp(-Δ)) + LV_sub_pfd2*(1-sym.exp(-Δ*s)) + μ*c*V.subs(ζ,0)/coeff)\n",
    "assert Leqn1V.subs(LVsym, LV_sub).simplify() == 0 # partial fraction decomposition satisfies the condition\n",
    "# sympy refuses to find the inverse laplace transform of the fourth term in this sum\n",
    "terms = [-LV_sub_pfd1, LV_sub_pfd1*sym.exp(-Δ), - LV_sub_pfd2,  LV_sub_pfd2*sym.exp(-Δ*s), - μ*c*V.subs(ζ,0)/coeff]\n",
    "term3 = sum([arg*sym.exp(-Δ*s) for arg in terms[3].args[0].args])\n",
    "# LV_sub = sum(terms)\n",
    "# assert Leqn1V.subs(LVsym, LV_sub).simplify() == 0\n",
    "# test = sum(term for i,term in enumerate(terms) if i!=3) + term3\n",
    "# assert (LV_sub - test).simplify() == 0 \n",
    "\n",
    "new_terms = [term for i,term in enumerate(terms) if i!=3] + [term3]\n",
    "assert (sum(new_terms) - sum(terms)).simplify() == 0 # we have refactored the expression correctly\n",
    "V_sub = sum(sym.inverse_laplace_transform(term, s, ζ) for term in new_terms)\n",
    "\n",
    "\n",
    "\n"
   ]
  },
  {
   "cell_type": "code",
   "execution_count": 9,
   "metadata": {},
   "outputs": [
    {
     "data": {
      "text/latex": [
       "$\\displaystyle - \\gamma \\mathcal{L}^{-1}_{s}\\left[\\frac{1}{\\alpha c s^{2} e^{\\Delta s} + s e^{\\Delta s}}\\right]\\left(\\zeta\\right) + \\gamma \\theta\\left(\\zeta\\right) - \\gamma e^{- \\frac{\\zeta}{\\alpha c}} \\theta\\left(\\zeta\\right) + B{\\left(0 \\right)} e^{- \\frac{\\zeta}{\\alpha c}} \\theta\\left(\\zeta\\right)$"
      ],
      "text/plain": [
       "-\\gamma*InverseLaplaceTransform(1/(\\alpha*c*s**2*exp(\\Delta*s) + s*exp(\\Delta*s)), s, \\zeta, _None) + \\gamma*Heaviside(\\zeta) - \\gamma*exp(-\\zeta/(\\alpha*c))*Heaviside(\\zeta) + B(0)*exp(-\\zeta/(\\alpha*c))*Heaviside(\\zeta)"
      ]
     },
     "execution_count": 9,
     "metadata": {},
     "output_type": "execute_result"
    }
   ],
   "source": [
    "sym.inverse_laplace_transform(LB_sub, s, ζ)"
   ]
  },
  {
   "cell_type": "code",
   "execution_count": 12,
   "metadata": {},
   "outputs": [
    {
     "data": {
      "text/latex": [
       "$\\displaystyle \\frac{\\left(\\alpha c s B{\\left(0 \\right)} e^{\\Delta s} + \\gamma e^{\\Delta s} - \\gamma\\right) e^{- \\Delta s}}{s \\left(\\alpha c s + 1\\right)}$"
      ],
      "text/plain": [
       "(\\alpha*c*s*B(0)*exp(\\Delta*s) + \\gamma*exp(\\Delta*s) - \\gamma)*exp(-\\Delta*s)/(s*(\\alpha*c*s + 1))"
      ]
     },
     "execution_count": 12,
     "metadata": {},
     "output_type": "execute_result"
    }
   ],
   "source": [
    "LB_sub.simplify()"
   ]
  },
  {
   "cell_type": "code",
   "execution_count": 24,
   "metadata": {},
   "outputs": [],
   "source": [
    "test = LB_sub.args[0] * LB_sub.args[1] * (LB_sub.args[2] * LB_sub.args[3]).expand()\n",
    "assert (test - LB_sub).simplify() == 0"
   ]
  },
  {
   "cell_type": "code",
   "execution_count": 26,
   "metadata": {},
   "outputs": [
    {
     "data": {
      "text/latex": [
       "$\\displaystyle - \\gamma \\mathcal{L}^{-1}_{s}\\left[\\frac{1}{\\alpha c s^{2} e^{\\Delta s} + s e^{\\Delta s}}\\right]\\left(\\zeta\\right) + \\gamma \\theta\\left(\\zeta\\right) - \\gamma e^{- \\frac{\\zeta}{\\alpha c}} \\theta\\left(\\zeta\\right) + B{\\left(0 \\right)} e^{- \\frac{\\zeta}{\\alpha c}} \\theta\\left(\\zeta\\right)$"
      ],
      "text/plain": [
       "-\\gamma*InverseLaplaceTransform(1/(\\alpha*c*s**2*exp(\\Delta*s) + s*exp(\\Delta*s)), s, \\zeta, _None) + \\gamma*Heaviside(\\zeta) - \\gamma*exp(-\\zeta/(\\alpha*c))*Heaviside(\\zeta) + B(0)*exp(-\\zeta/(\\alpha*c))*Heaviside(\\zeta)"
      ]
     },
     "execution_count": 26,
     "metadata": {},
     "output_type": "execute_result"
    }
   ],
   "source": [
    "sym.inverse_laplace_transform(test, s, ζ)"
   ]
  },
  {
   "cell_type": "code",
   "execution_count": 27,
   "metadata": {},
   "outputs": [
    {
     "data": {
      "text/latex": [
       "$\\displaystyle \\frac{\\alpha c s B{\\left(0 \\right)} + \\gamma - \\gamma e^{- \\Delta s}}{s \\left(\\alpha c s + 1\\right)}$"
      ],
      "text/plain": [
       "(\\alpha*c*s*B(0) + \\gamma - \\gamma*exp(-\\Delta*s))/(s*(\\alpha*c*s + 1))"
      ]
     },
     "execution_count": 27,
     "metadata": {},
     "output_type": "execute_result"
    }
   ],
   "source": [
    "test"
   ]
  },
  {
   "cell_type": "code",
   "execution_count": null,
   "metadata": {},
   "outputs": [],
   "source": [
    "# do a manual pdf again =("
   ]
  },
  {
   "cell_type": "code",
   "execution_count": null,
   "metadata": {},
   "outputs": [],
   "source": []
  }
 ],
 "metadata": {
  "kernelspec": {
   "display_name": "Python 3",
   "language": "python",
   "name": "python3"
  },
  "language_info": {
   "codemirror_mode": {
    "name": "ipython",
    "version": 3
   },
   "file_extension": ".py",
   "mimetype": "text/x-python",
   "name": "python",
   "nbconvert_exporter": "python",
   "pygments_lexer": "ipython3",
   "version": "3.6.9"
  }
 },
 "nbformat": 4,
 "nbformat_minor": 4
}

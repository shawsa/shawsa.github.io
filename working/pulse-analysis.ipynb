{
 "cells": [
  {
   "cell_type": "code",
   "execution_count": 1,
   "metadata": {
    "jupyter": {
     "source_hidden": true
    },
    "tags": []
   },
   "outputs": [],
   "source": [
    "%matplotlib inline\n",
    "import matplotlib.pyplot as plt\n",
    "import matplotlib.animation as animation\n",
    "from IPython.display import HTML\n",
    "\n",
    "import numpy as np\n",
    "import numpy.linalg as la\n",
    "from scipy.integrate import RK45\n",
    "\n",
    "import sympy as sym\n",
    "# Heaviside numerics workaround\n",
    "from sympy.utilities.lambdify import implemented_function\n",
    "lambdafied_heaviside = implemented_function('H', lambda x: np.heaviside(x,0.5))\n",
    "def heaviside_sub(expr):\n",
    "    return expr.subs(sym.Heaviside, lambdafied_heaviside)\n",
    "\n",
    "from table_maker import *\n",
    "from functools import partial, reduce\n",
    "from itertools import *\n",
    "from math import ceil\n",
    "\n",
    "import pickle\n",
    "\n",
    "def cos_bell(x, center=0, width=2*np.pi, height=1):\n",
    "    return (np.cos((x-center)/width*2*np.pi)+1)/2*height * np.heaviside(x-center+width/2,0) * np.heaviside(-x+center+width/2,0)\n",
    "\n",
    "import collections.abc\n",
    "def collect_eqn(expr, terms):\n",
    "    if not isinstance(terms, collections.abc.Container):\n",
    "        term = terms # isn't a list or tuple\n",
    "        left, right = 0,0\n",
    "        for my_expr in expr.args:\n",
    "            has_term = False\n",
    "            for my_term in sym.postorder_traversal(my_expr):\n",
    "                if term == my_term:\n",
    "                    has_term = True\n",
    "                    break\n",
    "            if has_term:\n",
    "                left += my_expr\n",
    "            else:\n",
    "                right -= my_expr\n",
    "        return sym.Eq(left, right, evaluate=False)\n",
    "    else: # isn't a list or tuple\n",
    "        left_total, right_total = 0, expr\n",
    "        for term in terms:\n",
    "            left, right = collect_eqn(right_total, term).args\n",
    "            left_total += left\n",
    "            right_total = -right\n",
    "        return sym.Eq(left_total, right_total, evaluate=False)\n",
    "    \n",
    "def my_print(expr):\n",
    "    global eviron_print_tex\n",
    "    if eviron_print_tex:\n",
    "        print('$$' + sym.latex(expr) + '$$')\n",
    "    else:\n",
    "        display(expr)\n",
    "        \n",
    "def batch_print(expr_list, punctuation='.'):\n",
    "    global eviron_print_tex\n",
    "    if eviron_print_tex:\n",
    "        print_str = '$$\\\\begin{align*}\\n'\n",
    "        for expr in expr_list:\n",
    "            print_str += '\\t' + sym.latex(expr).replace('=','&=') + '\\\\\\\\\\n'\n",
    "        # remove last new-line and add ending puncuation\n",
    "        print_str = print_str[:-3] + punctuation + '\\n'\n",
    "        print_str += '\\\\end{align*}$$'\n",
    "        print(print_str)\n",
    "    else:\n",
    "        for expr in expr_list:\n",
    "            display(expr)\n",
    "            \n",
    "def py_code(expr, replace_numpy=True, replace_unicode=True, numpy_package='np.'):\n",
    "    code = sym.ccode(expr)\n",
    "    \n",
    "    if replace_unicode:\n",
    "        unicode_replacements = [\n",
    "            ('\\\\alpha', 'α'),\n",
    "            ('\\\\beta', 'β'),\n",
    "            ('\\\\gamma', 'γ'),\n",
    "            ('\\\\Gamma', 'Γ'),\n",
    "            ('\\\\delta', 'δ'),\n",
    "            ('\\\\Delta', 'Δ'),\n",
    "            ('\\\\epsilon', 'ϵ'),\n",
    "            ('\\\\zeta', 'ζ'),\n",
    "            ('\\\\eta', 'η'),\n",
    "            ('\\\\theta', 'θ'),\n",
    "            \n",
    "        ]\n",
    "        for unicode, symbol in unicode_replacements:\n",
    "            code = code.replace(unicode, symbol)\n",
    "    \n",
    "    if replace_numpy:\n",
    "        numpy_replacements = [\n",
    "            ('exp', numpy_package + 'exp'),\n",
    "            ('log', numpy_package + 'log'),\n",
    "            ('pow', '( lambda base, exponent: base**exponent )')\n",
    "        ]\n",
    "        for c_func, np_func in numpy_replacements:\n",
    "            code = code.replace(c_func, np_func)\n",
    "        \n",
    "    return code"
   ]
  },
  {
   "cell_type": "code",
   "execution_count": 2,
   "metadata": {
    "jupyter": {
     "source_hidden": true
    },
    "tags": []
   },
   "outputs": [],
   "source": [
    "import matplotlib\n",
    "matplotlib.rcParams.update({'font.size': 24})"
   ]
  },
  {
   "cell_type": "markdown",
   "metadata": {
    "tags": []
   },
   "source": [
    "From [Kilpatrick and Bressloff 2010](https://doi.org/10.1016/j.physd.2009.06.003)\n",
    "$$\\begin{align*}\n",
    "    \\mu u_t &= -u + \\int_{-\\infty}^\\infty w(x,x^\\prime) q(x^\\prime,t) f( u(x^\\prime,t) - a(x^\\prime,t)) \\ dx^\\prime \\\\\n",
    "    q_t &= \\frac{1 - q}{\\alpha} - \\beta q f(u - a) \\\\\n",
    "    \\epsilon a_t &= -a + \\gamma f(u - a)\n",
    "\\end{align*}$$"
   ]
  },
  {
   "cell_type": "markdown",
   "metadata": {},
   "source": [
    "Modified version - remove synaptic depression $q$\n",
    "$$\\begin{align*}\n",
    "    \\mu u_t &= -u + \\int_{-\\infty}^\\infty w(x,x^\\prime) f( u(x^\\prime,t) - a(x^\\prime,t)) \\ dx^\\prime \\\\\n",
    "    \\alpha a_t &= -a + \\gamma f(u - a)\n",
    "\\end{align*}$$\n",
    "(note that parameters have been relabeled)"
   ]
  },
  {
   "cell_type": "markdown",
   "metadata": {},
   "source": [
    "Beginning at (Kilpatrick & Bressloff 2010)[https://www.sciencedirect.com/science/article/abs/pii/S0167278909001833] equations 3.30 and 3.31. We will use the same notation they use (i.e. we will use the $\\alpha$ and $\\epsilon$ they use and substitute back to our notation later. Additionally, sympy uses $\\theta$ to denote the Heaviside function. We will thus use $\\tau$ to denote the threshold here."
   ]
  },
  {
   "cell_type": "code",
   "execution_count": 69,
   "metadata": {},
   "outputs": [
    {
     "name": "stdout",
     "output_type": "stream",
     "text": [
      "Evaluating the integral, we then obtain\n"
     ]
    },
    {
     "data": {
      "text/latex": [
       "$\\displaystyle 0 = \\mu c \\frac{d}{d \\xi} U{\\left(\\xi \\right)} + \\frac{\\left(1 - e^{\\xi}\\right) \\theta\\left(- \\xi\\right)}{2} - \\frac{\\left(1 - e^{\\Delta + \\xi}\\right) \\theta\\left(- \\Delta - \\xi\\right)}{2} - U{\\left(\\xi \\right)} - \\frac{e^{- \\Delta - \\xi}}{2} + \\frac{e^{- \\xi}}{2}$"
      ],
      "text/plain": [
       "Eq(0, \\mu*c*Derivative(U(\\xi), \\xi) + (1 - exp(\\xi))*Heaviside(-\\xi)/2 - (1 - exp(\\Delta + \\xi))*Heaviside(-\\Delta - \\xi)/2 - U(\\xi) - exp(-\\Delta - \\xi)/2 + exp(-\\xi)/2)"
      ]
     },
     "metadata": {},
     "output_type": "display_data"
    },
    {
     "data": {
      "text/latex": [
       "$\\displaystyle 0 = \\alpha c \\frac{d}{d \\xi} A{\\left(\\xi \\right)} + \\gamma \\left(- \\theta\\left(\\xi\\right) + \\theta\\left(\\Delta + \\xi\\right)\\right) - A{\\left(\\xi \\right)}$"
      ],
      "text/plain": [
       "Eq(0, \\alpha*c*Derivative(A(\\xi), \\xi) + \\gamma*(-Heaviside(\\xi) + Heaviside(\\Delta + \\xi)) - A(\\xi))"
      ]
     },
     "metadata": {},
     "output_type": "display_data"
    },
    {
     "name": "stdout",
     "output_type": "stream",
     "text": [
      "We will solve each system using Laplace transforms\n"
     ]
    },
    {
     "data": {
      "text/latex": [
       "$\\displaystyle 0 = \\mu c \\left(s \\mathcal{L}_{\\xi}\\left[U{\\left(\\xi \\right)}\\right]\\left(s\\right) - U{\\left(0 \\right)}\\right) - \\mathcal{L}_{\\xi}\\left[U{\\left(\\xi \\right)}\\right]\\left(s\\right) + \\frac{1}{2 \\left(s + 1\\right)} - \\frac{e^{- \\Delta}}{2 \\left(s + 1\\right)}$"
      ],
      "text/plain": [
       "Eq(0, \\mu*c*(s*LaplaceTransform(U(\\xi), \\xi, s) - U(0)) - LaplaceTransform(U(\\xi), \\xi, s) + 1/(2*(s + 1)) - exp(-\\Delta)/(2*(s + 1)))"
      ]
     },
     "metadata": {},
     "output_type": "display_data"
    },
    {
     "data": {
      "text/latex": [
       "$\\displaystyle 0 = \\alpha c \\left(s \\mathcal{L}_{\\xi}\\left[A{\\left(\\xi \\right)}\\right]\\left(s\\right) - A{\\left(0 \\right)}\\right) - \\mathcal{L}_{\\xi}\\left[A{\\left(\\xi \\right)}\\right]\\left(s\\right)$"
      ],
      "text/plain": [
       "Eq(0, \\alpha*c*(s*LaplaceTransform(A(\\xi), \\xi, s) - A(0)) - LaplaceTransform(A(\\xi), \\xi, s))"
      ]
     },
     "metadata": {},
     "output_type": "display_data"
    },
    {
     "name": "stdout",
     "output_type": "stream",
     "text": [
      "which are jointly true on the domain $s>0$.\n",
      "Solving for the Laplace transform variables we have\n"
     ]
    },
    {
     "data": {
      "text/latex": [
       "$\\displaystyle \\mathcal{L}_{\\xi}\\left[U{\\left(\\xi \\right)}\\right]\\left(s\\right) = \\frac{\\left(2 \\mu c \\left(s + 1\\right)^{2} U{\\left(0 \\right)} e^{\\Delta} - s e^{\\Delta} + s - e^{\\Delta} + 1\\right) e^{- \\Delta}}{2 \\left(s + 1\\right)^{2} \\left(\\mu c s - 1\\right)}$"
      ],
      "text/plain": [
       "Eq(LaplaceTransform(U(\\xi), \\xi, s), (2*\\mu*c*(s + 1)**2*U(0)*exp(\\Delta) - s*exp(\\Delta) + s - exp(\\Delta) + 1)*exp(-\\Delta)/(2*(s + 1)**2*(\\mu*c*s - 1)))"
      ]
     },
     "metadata": {},
     "output_type": "display_data"
    },
    {
     "data": {
      "text/latex": [
       "$\\displaystyle \\mathcal{L}_{\\xi}\\left[A{\\left(\\xi \\right)}\\right]\\left(s\\right) = \\frac{\\alpha c A{\\left(0 \\right)}}{\\alpha c s - 1}$"
      ],
      "text/plain": [
       "Eq(LaplaceTransform(A(\\xi), \\xi, s), \\alpha*c*A(0)/(\\alpha*c*s - 1))"
      ]
     },
     "metadata": {},
     "output_type": "display_data"
    },
    {
     "name": "stdout",
     "output_type": "stream",
     "text": [
      "Applying the inverse Laplace transform then gives us the solutions for $\\xi > 0$\n"
     ]
    },
    {
     "data": {
      "text/latex": [
       "$\\displaystyle U{\\left(\\xi \\right)} = \\frac{\\left(2 \\mu c U{\\left(0 \\right)} e^{\\frac{\\xi}{\\mu c}} + 2 U{\\left(0 \\right)} e^{\\frac{\\xi}{\\mu c}} - e^{\\frac{\\xi}{\\mu c}} - e^{- \\Delta - \\xi} + e^{- \\Delta + \\frac{\\xi}{\\mu c}} + e^{- \\xi}\\right) \\theta\\left(\\xi\\right)}{2 \\left(\\mu c + 1\\right)}$"
      ],
      "text/plain": [
       "Eq(U(\\xi), (2*\\mu*c*U(0)*exp(\\xi/(\\mu*c)) + 2*U(0)*exp(\\xi/(\\mu*c)) - exp(\\xi/(\\mu*c)) - exp(-\\Delta - \\xi) + exp(-\\Delta + \\xi/(\\mu*c)) + exp(-\\xi))*Heaviside(\\xi)/(2*(\\mu*c + 1)))"
      ]
     },
     "metadata": {},
     "output_type": "display_data"
    },
    {
     "data": {
      "text/latex": [
       "$\\displaystyle A{\\left(\\xi \\right)} = A{\\left(0 \\right)} e^{\\frac{\\xi}{\\alpha c}} \\theta\\left(\\xi\\right)$"
      ],
      "text/plain": [
       "Eq(A(\\xi), A(0)*exp(\\xi/(\\alpha*c))*Heaviside(\\xi))"
      ]
     },
     "metadata": {},
     "output_type": "display_data"
    },
    {
     "name": "stdout",
     "output_type": "stream",
     "text": [
      "and thus\n"
     ]
    },
    {
     "data": {
      "text/latex": [
       "$\\displaystyle - A{\\left(\\xi \\right)} + U{\\left(\\xi \\right)} = - A{\\left(0 \\right)} e^{\\frac{\\xi}{\\alpha c}} \\theta\\left(\\xi\\right) + \\frac{\\left(\\left(2 \\mu c U{\\left(0 \\right)} + 2 U{\\left(0 \\right)} - 1 + e^{- \\Delta}\\right) e^{\\frac{\\xi}{\\mu c}} - e^{- \\Delta - \\xi} + e^{- \\xi}\\right) \\theta\\left(\\xi\\right)}{2 \\left(\\mu c + 1\\right)}$"
      ],
      "text/plain": [
       "Eq(-A(\\xi) + U(\\xi), -A(0)*exp(\\xi/(\\alpha*c))*Heaviside(\\xi) + ((2*\\mu*c*U(0) + 2*U(0) - 1 + exp(-\\Delta))*exp(\\xi/(\\mu*c)) - exp(-\\Delta - \\xi) + exp(-\\xi))*Heaviside(\\xi)/(2*(\\mu*c + 1)))"
      ]
     },
     "metadata": {},
     "output_type": "display_data"
    },
    {
     "name": "stdout",
     "output_type": "stream",
     "text": [
      "The right boundary condition then gives\n"
     ]
    },
    {
     "data": {
      "text/latex": [
       "$\\displaystyle 0 = A{\\left(0 \\right)}$"
      ],
      "text/plain": [
       "Eq(0, A(0))"
      ]
     },
     "metadata": {},
     "output_type": "display_data"
    },
    {
     "data": {
      "text/latex": [
       "$\\displaystyle 0 = \\left(2 \\tau \\left(\\mu c + 1\\right) - 1\\right) e^{\\Delta} + 1$"
      ],
      "text/plain": [
       "Eq(0, (2*\\tau*(\\mu*c + 1) - 1)*exp(\\Delta) + 1)"
      ]
     },
     "metadata": {},
     "output_type": "display_data"
    },
    {
     "name": "stdout",
     "output_type": "stream",
     "text": [
      "Or equivalently,\n"
     ]
    },
    {
     "data": {
      "text/latex": [
       "$\\displaystyle c = \\frac{\\left(- 2 \\tau e^{\\Delta} + e^{\\Delta} - 1\\right) e^{- \\Delta}}{2 \\mu \\tau}$"
      ],
      "text/plain": [
       "Eq(c, (-2*\\tau*exp(\\Delta) + exp(\\Delta) - 1)*exp(-\\Delta)/(2*\\mu*\\tau))"
      ]
     },
     "metadata": {},
     "output_type": "display_data"
    },
    {
     "data": {
      "text/latex": [
       "$\\displaystyle \\Delta = \\log{\\left(- \\frac{1}{2 \\mu \\tau c + 2 \\tau - 1} \\right)}$"
      ],
      "text/plain": [
       "Eq(\\Delta, log(-1/(2*\\mu*\\tau*c + 2*\\tau - 1)))"
      ]
     },
     "metadata": {},
     "output_type": "display_data"
    },
    {
     "name": "stdout",
     "output_type": "stream",
     "text": [
      "The threshold-crossing condition also gives $U(0) = \\tau$. Our solutions and conditions then become\n"
     ]
    },
    {
     "data": {
      "text/latex": [
       "$\\displaystyle U{\\left(\\xi \\right)} = \\begin{cases} \\frac{\\left(2 \\mu \\tau c e^{\\frac{\\xi}{\\mu c}} + 2 \\tau e^{\\frac{\\xi}{\\mu c}} - e^{\\frac{\\xi}{\\mu c}} - e^{- \\Delta - \\xi} + e^{- \\Delta + \\frac{\\xi}{\\mu c}} + e^{- \\xi}\\right) \\theta\\left(\\xi\\right)}{2 \\left(\\mu c + 1\\right)} & \\text{for}\\: \\xi > 0 \\end{cases}$"
      ],
      "text/plain": [
       "Eq(U(\\xi), Piecewise(((2*\\mu*\\tau*c*exp(\\xi/(\\mu*c)) + 2*\\tau*exp(\\xi/(\\mu*c)) - exp(\\xi/(\\mu*c)) - exp(-\\Delta - \\xi) + exp(-\\Delta + \\xi/(\\mu*c)) + exp(-\\xi))*Heaviside(\\xi)/(2*(\\mu*c + 1)), \\xi > 0)))"
      ]
     },
     "metadata": {},
     "output_type": "display_data"
    },
    {
     "data": {
      "text/latex": [
       "$\\displaystyle A{\\left(\\xi \\right)} = \\begin{cases} 0 & \\text{for}\\: \\xi > 0 \\end{cases}$"
      ],
      "text/plain": [
       "Eq(A(\\xi), Piecewise((0, \\xi > 0)))"
      ]
     },
     "metadata": {},
     "output_type": "display_data"
    },
    {
     "data": {
      "text/latex": [
       "$\\displaystyle 0 = \\left(2 \\tau \\left(\\mu c + 1\\right) - 1\\right) e^{\\Delta} + 1$"
      ],
      "text/plain": [
       "Eq(0, (2*\\tau*(\\mu*c + 1) - 1)*exp(\\Delta) + 1)"
      ]
     },
     "metadata": {},
     "output_type": "display_data"
    },
    {
     "name": "stdout",
     "output_type": "stream",
     "text": [
      "To get solutions for $\\xi < 0$, we will make the substitution $\\zeta = -\\xi $ and use the variables V(\\zeta) = U(\\xi), and B(\\zeta) = A(\\xi).\n",
      "Our equations become\n"
     ]
    },
    {
     "data": {
      "text/latex": [
       "$\\displaystyle 0 = - \\mu c \\frac{d}{d \\zeta} V{\\left(\\zeta \\right)} + \\frac{\\left(1 - e^{- \\zeta}\\right) \\theta\\left(\\zeta\\right)}{2} - \\frac{\\left(1 - e^{\\Delta - \\zeta}\\right) \\theta\\left(- \\Delta + \\zeta\\right)}{2} - V{\\left(\\zeta \\right)} + \\frac{e^{\\zeta}}{2} - \\frac{e^{- \\Delta + \\zeta}}{2}$"
      ],
      "text/plain": [
       "Eq(0, -\\mu*c*Derivative(V(\\zeta), \\zeta) + (1 - exp(-\\zeta))*Heaviside(\\zeta)/2 - (1 - exp(\\Delta - \\zeta))*Heaviside(-\\Delta + \\zeta)/2 - V(\\zeta) + exp(\\zeta)/2 - exp(-\\Delta + \\zeta)/2)"
      ]
     },
     "metadata": {},
     "output_type": "display_data"
    },
    {
     "data": {
      "text/latex": [
       "$\\displaystyle 0 = - \\alpha c \\frac{d}{d \\zeta} B{\\left(\\zeta \\right)} + \\gamma \\left(- \\theta\\left(- \\zeta\\right) + \\theta\\left(\\Delta - \\zeta\\right)\\right) - B{\\left(\\zeta \\right)}$"
      ],
      "text/plain": [
       "Eq(0, -\\alpha*c*Derivative(B(\\zeta), \\zeta) + \\gamma*(-Heaviside(-\\zeta) + Heaviside(\\Delta - \\zeta)) - B(\\zeta))"
      ]
     },
     "metadata": {},
     "output_type": "display_data"
    },
    {
     "name": "stdout",
     "output_type": "stream",
     "text": [
      "We take the Laplace transform with respect to $\\zeta$ now, to obtain\n"
     ]
    },
    {
     "data": {
      "text/latex": [
       "$\\displaystyle 0 = - \\mu c \\left(- \\tau + s \\mathcal{L}_{\\zeta}\\left[V{\\left(\\zeta \\right)}\\right]\\left(s\\right)\\right) - \\mathcal{L}_{\\zeta}\\left[V{\\left(\\zeta \\right)}\\right]\\left(s\\right) + \\frac{1}{2 \\left(s - 1\\right)} - \\frac{e^{- \\Delta}}{2 \\left(s - 1\\right)} + \\frac{1}{2 s \\left(s + 1\\right)} - \\frac{e^{- \\Delta s}}{2 s \\left(s + 1\\right)}$"
      ],
      "text/plain": [
       "Eq(0, -\\mu*c*(-\\tau + s*LaplaceTransform(V(\\zeta), \\zeta, s)) - LaplaceTransform(V(\\zeta), \\zeta, s) + 1/(2*(s - 1)) - exp(-\\Delta)/(2*(s - 1)) + 1/(2*s*(s + 1)) - exp(-\\Delta*s)/(2*s*(s + 1)))"
      ]
     },
     "metadata": {},
     "output_type": "display_data"
    },
    {
     "data": {
      "text/latex": [
       "$\\displaystyle 0 = - \\alpha c s \\mathcal{L}_{\\zeta}\\left[B{\\left(\\zeta \\right)}\\right]\\left(s\\right) + \\frac{\\gamma}{s} - \\frac{\\gamma e^{- \\Delta s}}{s} - \\mathcal{L}_{\\zeta}\\left[B{\\left(\\zeta \\right)}\\right]\\left(s\\right)$"
      ],
      "text/plain": [
       "Eq(0, -\\alpha*c*s*LaplaceTransform(B(\\zeta), \\zeta, s) + \\gamma/s - \\gamma*exp(-\\Delta*s)/s - LaplaceTransform(B(\\zeta), \\zeta, s))"
      ]
     },
     "metadata": {},
     "output_type": "display_data"
    },
    {
     "name": "stdout",
     "output_type": "stream",
     "text": [
      "Next, we solve for the transformed varialbes\n"
     ]
    },
    {
     "data": {
      "text/latex": [
       "$\\displaystyle \\mathcal{L}_{\\zeta}\\left[V{\\left(\\zeta \\right)}\\right]\\left(s\\right) = \\frac{\\left(2 \\mu \\tau c s^{3} e^{\\Delta s + \\Delta} - 2 \\mu \\tau c s e^{\\Delta s + \\Delta} - s^{2} e^{\\Delta s} + s^{2} e^{\\Delta s + \\Delta} - s e^{\\Delta} - s e^{\\Delta s} + 2 s e^{\\Delta s + \\Delta} + e^{\\Delta} - e^{\\Delta s + \\Delta}\\right) e^{- \\Delta s - \\Delta}}{2 s \\left(\\mu c s^{3} - \\mu c s + s^{2} - 1\\right)}$"
      ],
      "text/plain": [
       "Eq(LaplaceTransform(V(\\zeta), \\zeta, s), (2*\\mu*\\tau*c*s**3*exp(\\Delta*s + \\Delta) - 2*\\mu*\\tau*c*s*exp(\\Delta*s + \\Delta) - s**2*exp(\\Delta*s) + s**2*exp(\\Delta*s + \\Delta) - s*exp(\\Delta) - s*exp(\\Delta*s) + 2*s*exp(\\Delta*s + \\Delta) + exp(\\Delta) - exp(\\Delta*s + \\Delta))*exp(-\\Delta*s - \\Delta)/(2*s*(\\mu*c*s**3 - \\mu*c*s + s**2 - 1)))"
      ]
     },
     "metadata": {},
     "output_type": "display_data"
    },
    {
     "data": {
      "text/latex": [
       "$\\displaystyle \\mathcal{L}_{\\zeta}\\left[B{\\left(\\zeta \\right)}\\right]\\left(s\\right) = \\frac{\\gamma \\left(e^{\\Delta s} - 1\\right) e^{- \\Delta s}}{s \\left(\\alpha c s + 1\\right)}$"
      ],
      "text/plain": [
       "Eq(LaplaceTransform(B(\\zeta), \\zeta, s), \\gamma*(exp(\\Delta*s) - 1)*exp(-\\Delta*s)/(s*(\\alpha*c*s + 1)))"
      ]
     },
     "metadata": {},
     "output_type": "display_data"
    },
    {
     "name": "stdout",
     "output_type": "stream",
     "text": [
      "and apply an inverse transform\n"
     ]
    },
    {
     "data": {
      "text/latex": [
       "$\\displaystyle V{\\left(\\zeta \\right)} = \\left(\\frac{\\mu c e^{\\frac{\\Delta - \\zeta}{\\mu c}}}{2 \\left(\\mu c - 1\\right)} - \\frac{1}{2} - \\frac{e^{\\Delta - \\zeta}}{2 \\mu c - 2}\\right) \\theta\\left(- \\Delta + \\zeta\\right) + \\left(\\tau e^{- \\frac{\\zeta}{\\mu c}} + \\frac{\\left(- e^{\\zeta} + e^{- \\frac{\\zeta}{\\mu c}}\\right) e^{- \\Delta}}{2 \\left(\\mu c + 1\\right)} + \\frac{\\left(e^{\\zeta + \\frac{\\zeta}{\\mu c}} - 1\\right) e^{- \\frac{\\zeta}{\\mu c}}}{2 \\left(\\mu c + 1\\right)} + \\frac{\\left(- \\mu c e^{\\zeta} + \\mu c e^{\\zeta + \\frac{\\zeta}{\\mu c}} + e^{\\frac{\\zeta}{\\mu c}} - e^{\\zeta + \\frac{\\zeta}{\\mu c}}\\right) e^{- \\zeta - \\frac{\\zeta}{\\mu c}}}{2 \\left(\\mu c - 1\\right)}\\right) \\theta\\left(\\zeta\\right)$"
      ],
      "text/plain": [
       "Eq(V(\\zeta), (\\mu*c*exp((\\Delta - \\zeta)/(\\mu*c))/(2*(\\mu*c - 1)) - 1/2 - exp(\\Delta - \\zeta)/(2*\\mu*c - 2))*Heaviside(-\\Delta + \\zeta) + (\\tau*exp(-\\zeta/(\\mu*c)) + (-exp(\\zeta) + exp(-\\zeta/(\\mu*c)))*exp(-\\Delta)/(2*(\\mu*c + 1)) + (exp(\\zeta + \\zeta/(\\mu*c)) - 1)*exp(-\\zeta/(\\mu*c))/(2*(\\mu*c + 1)) + (-\\mu*c*exp(\\zeta) + \\mu*c*exp(\\zeta + \\zeta/(\\mu*c)) + exp(\\zeta/(\\mu*c)) - exp(\\zeta + \\zeta/(\\mu*c)))*exp(-\\zeta - \\zeta/(\\mu*c))/(2*(\\mu*c - 1)))*Heaviside(\\zeta))"
      ]
     },
     "metadata": {},
     "output_type": "display_data"
    },
    {
     "data": {
      "text/latex": [
       "$\\displaystyle B{\\left(\\zeta \\right)} = \\frac{\\gamma \\left(- \\Delta + \\zeta + \\left(\\Delta - \\zeta\\right) e^{\\frac{\\Delta - \\zeta}{\\alpha c}}\\right) \\theta\\left(- \\Delta + \\zeta\\right)}{\\Delta - \\zeta} + \\left(\\gamma - \\gamma e^{- \\frac{\\zeta}{\\alpha c}}\\right) \\theta\\left(\\zeta\\right)$"
      ],
      "text/plain": [
       "Eq(B(\\zeta), \\gamma*(-\\Delta + \\zeta + (\\Delta - \\zeta)*exp((\\Delta - \\zeta)/(\\alpha*c)))*Heaviside(-\\Delta + \\zeta)/(\\Delta - \\zeta) + (\\gamma - \\gamma*exp(-\\zeta/(\\alpha*c)))*Heaviside(\\zeta))"
      ]
     },
     "metadata": {},
     "output_type": "display_data"
    },
    {
     "name": "stdout",
     "output_type": "stream",
     "text": [
      "Substituting back $\\zeta \\to -\\xi$, and adding combining we have our final answer\n"
     ]
    },
    {
     "data": {
      "text/latex": [
       "$\\displaystyle U{\\left(\\xi \\right)} = \\left(\\frac{\\mu c e^{\\frac{\\Delta + \\xi}{\\mu c}}}{2 \\left(\\mu c - 1\\right)} - \\frac{1}{2} - \\frac{e^{\\Delta + \\xi}}{2 \\mu c - 2}\\right) \\theta\\left(- \\Delta - \\xi\\right) + \\left(\\tau e^{\\frac{\\xi}{\\mu c}} + \\frac{\\left(e^{\\frac{\\xi}{\\mu c}} - e^{- \\xi}\\right) e^{- \\Delta}}{2 \\left(\\mu c + 1\\right)} + \\frac{\\left(e^{- \\xi - \\frac{\\xi}{\\mu c}} - 1\\right) e^{\\frac{\\xi}{\\mu c}}}{2 \\left(\\mu c + 1\\right)} + \\frac{\\left(\\mu c e^{- \\xi - \\frac{\\xi}{\\mu c}} - \\mu c e^{- \\xi} - e^{- \\xi - \\frac{\\xi}{\\mu c}} + e^{- \\frac{\\xi}{\\mu c}}\\right) e^{\\xi + \\frac{\\xi}{\\mu c}}}{2 \\left(\\mu c - 1\\right)}\\right) \\theta\\left(- \\xi\\right) + \\frac{\\left(2 \\mu \\tau c e^{\\frac{\\xi}{\\mu c}} + 2 \\tau e^{\\frac{\\xi}{\\mu c}} - e^{\\frac{\\xi}{\\mu c}} - e^{- \\Delta - \\xi} + e^{- \\Delta + \\frac{\\xi}{\\mu c}} + e^{- \\xi}\\right) \\theta\\left(\\xi\\right)}{2 \\left(\\mu c + 1\\right)}$"
      ],
      "text/plain": [
       "Eq(U(\\xi), (\\mu*c*exp((\\Delta + \\xi)/(\\mu*c))/(2*(\\mu*c - 1)) - 1/2 - exp(\\Delta + \\xi)/(2*\\mu*c - 2))*Heaviside(-\\Delta - \\xi) + (\\tau*exp(\\xi/(\\mu*c)) + (exp(\\xi/(\\mu*c)) - exp(-\\xi))*exp(-\\Delta)/(2*(\\mu*c + 1)) + (exp(-\\xi - \\xi/(\\mu*c)) - 1)*exp(\\xi/(\\mu*c))/(2*(\\mu*c + 1)) + (\\mu*c*exp(-\\xi - \\xi/(\\mu*c)) - \\mu*c*exp(-\\xi) - exp(-\\xi - \\xi/(\\mu*c)) + exp(-\\xi/(\\mu*c)))*exp(\\xi + \\xi/(\\mu*c))/(2*(\\mu*c - 1)))*Heaviside(-\\xi) + (2*\\mu*\\tau*c*exp(\\xi/(\\mu*c)) + 2*\\tau*exp(\\xi/(\\mu*c)) - exp(\\xi/(\\mu*c)) - exp(-\\Delta - \\xi) + exp(-\\Delta + \\xi/(\\mu*c)) + exp(-\\xi))*Heaviside(\\xi)/(2*(\\mu*c + 1)))"
      ]
     },
     "metadata": {},
     "output_type": "display_data"
    },
    {
     "data": {
      "text/latex": [
       "$\\displaystyle A{\\left(\\xi \\right)} = \\frac{\\gamma \\left(- \\Delta - \\xi + \\left(\\Delta + \\xi\\right) e^{\\frac{\\Delta + \\xi}{\\alpha c}}\\right) \\theta\\left(- \\Delta - \\xi\\right)}{\\Delta + \\xi} + \\left(- \\gamma e^{\\frac{\\xi}{\\alpha c}} + \\gamma\\right) \\theta\\left(- \\xi\\right)$"
      ],
      "text/plain": [
       "Eq(A(\\xi), \\gamma*(-\\Delta - \\xi + (\\Delta + \\xi)*exp((\\Delta + \\xi)/(\\alpha*c)))*Heaviside(-\\Delta - \\xi)/(\\Delta + \\xi) + (-\\gamma*exp(\\xi/(\\alpha*c)) + \\gamma)*Heaviside(-\\xi))"
      ]
     },
     "metadata": {},
     "output_type": "display_data"
    }
   ],
   "source": [
    "eviron_print_tex = False\n",
    "\n",
    "μ, α, γ, τ, c, Δ = sym.symbols('\\\\mu \\\\alpha \\\\gamma, \\\\tau, c \\\\Delta', real=True, positive = True)\n",
    "x, xp, t, ξ, ξp = sym.symbols('x x^\\\\prime t \\\\xi \\\\xi^\\\\prime', real=True)\n",
    "u = sym.Function('u', real=True)(x,t)\n",
    "a = sym.Function('u', real=True)(x,t)\n",
    "U = sym.Function('U', real=True)(ξ)\n",
    "A = sym.Function('A', real=True)(ξ)\n",
    "\n",
    "G = sym.integrate( sym.Heaviside(ξp-ξ)*sym.exp(ξ-ξp) + sym.Heaviside(ξ-ξp)*sym.exp(ξp-ξ), (ξp, -Δ, 0) )/2\n",
    "\n",
    "# F_right = sym.exp(-ξ) - sym.exp(-ξ-Δ)\n",
    "# F_mid = 2 - sym.exp(ξ) - sym.exp(-ξ-Δ)\n",
    "# F_left = sym.exp(ξ+Δ) - sym.exp(ξ)\n",
    "# F = (F_right*sym.Heaviside(ξ) + F_mid*sym.Heaviside(ξ+Δ)*sym.Heaviside(-ξ) + F_left*sym.Heaviside(-ξ-Δ))/2\n",
    "# G = F\n",
    "\n",
    "eqn1 = μ*c*U.diff(ξ) - U + G\n",
    "eqn2 = α*c*A.diff(ξ) - A + γ*( sym.Heaviside(ξ+Δ) - sym.Heaviside(ξ) )\n",
    "\n",
    "\n",
    "print('Evaluating the integral, we then obtain')\n",
    "batch_print( [sym.Eq(0, eqn1), sym.Eq(0, eqn2)] )\n",
    "\n",
    "print('We will solve each system using Laplace transforms')\n",
    "s = sym.symbols('s', real=True, positive=True)\n",
    "Leqn1, eqn1_domain, _ = sym.laplace_transform(eqn1, ξ, s)\n",
    "Leqn2, eqn2_domain, _ = sym.laplace_transform(eqn2, ξ, s)\n",
    "# manually apply L(U') = s*L(U) - U(0)\n",
    "LUsym = sym.laplace_transform(U, ξ, s)\n",
    "Leqn1 = Leqn1.subs(sym.laplace_transform(U.diff(ξ), ξ, s), s*LUsym - U.subs(ξ,0))\n",
    "LAsym = sym.laplace_transform(A, ξ, s)\n",
    "Leqn2 = Leqn2.subs(sym.laplace_transform(A.diff(ξ), ξ, s), s*LAsym - A.subs(ξ,0))\n",
    "\n",
    "batch_print( [sym.Eq(0, Leqn1), sym.Eq(0, Leqn2)], punctuation='')\n",
    "print('which are jointly true on the domain $s>%s$.' % sym.latex(sym.Max(eqn1_domain, eqn2_domain)) )\n",
    "\n",
    "print('Solving for the Laplace transform variables we have')\n",
    "\n",
    "LU_sub = sym.solve(Leqn1, LUsym)[0]\n",
    "LA_sub = sym.solve(Leqn2, LAsym)[0]\n",
    "\n",
    "batch_print( [sym.Eq(LUsym, LU_sub), sym.Eq(LAsym, LA_sub)], punctuation='')\n",
    "\n",
    "print('Applying the inverse Laplace transform then gives us the solutions for $\\\\xi > 0$')\n",
    "\n",
    "U_sub = sym.inverse_laplace_transform(LU_sub, s, ξ)\n",
    "A_sub = sym.inverse_laplace_transform(LA_sub, s, ξ)\n",
    "\n",
    "batch_print( [sym.Eq(U, U_sub), sym.Eq(A, A_sub)], punctuation='')\n",
    "print('and thus')\n",
    "batch_print([sym.Eq( U-A, (U_sub - A_sub).collect(sym.exp(ξ/μ/c)) )])\n",
    "\n",
    "print('The right boundary condition then gives')\n",
    "cond1 = sym.limit(U_sub.subs( U.subs(ξ, 0), τ ) - A_sub.subs( A.subs(ξ,0), 0) , ξ, sym.oo).args[1].args[0]\n",
    "cond1 = cond1.collect(sym.exp(Δ)).collect(τ).collect(2)\n",
    "\n",
    "batch_print([sym.Eq(0, A.subs(ξ,0)), sym.Eq(0, cond1)])\n",
    "\n",
    "print('Or equivalently,')\n",
    "Δ_sub = sym.solve(cond1, Δ)[0]\n",
    "c_sub = sym.solve(cond1, c)[0]\n",
    "\n",
    "batch_print([sym.Eq(c, c_sub), sym.Eq(Δ, Δ_sub)])\n",
    "\n",
    "print('The threshold-crossing condition also gives $U(0) = \\\\tau$. Our solutions and conditions then become')\n",
    "\n",
    "U_right = U_sub.subs( U.subs(ξ,0), τ  ).subs( A.subs(ξ,0), 0 )\n",
    "A_right = A_sub.subs( U.subs(ξ,0), τ  ).subs( A.subs(ξ,0), 0 )\n",
    "cond1 = cond1.subs( U.subs(ξ,0), τ  ).subs( A.subs(ξ,0), 0 )\n",
    "\n",
    "\n",
    "batch_print( [sym.Eq(U, sym.Piecewise((U_right, ξ>0))), sym.Eq(A, sym.Piecewise((A_right, ξ>0))), sym.Eq(0, cond1)] )\n",
    "\n",
    "\n",
    "print('To get solutions for $\\\\xi < 0$, we will make the substitution $\\\\zeta = -\\\\xi $ and use the variables V(\\\\zeta) = U(\\\\xi), and B(\\\\zeta) = A(\\\\xi).')\n",
    "print('Our equations become')\n",
    "\n",
    "ζ = sym.symbols('\\\\zeta', real=True)\n",
    "V = sym.Function('V')(ζ)\n",
    "B = sym.Function('B')(ζ)\n",
    "eqn1V = eqn1.subs(U.diff(ξ), -V.diff(ζ)).subs(U, V).subs(ξ, -ζ)#.subs(Δ, -Δ)\n",
    "eqn2B = eqn2.subs(A.diff(ξ), -B.diff(ζ)).subs(A, B).subs(ξ, -ζ)#.subs(Δ, -Δ)\n",
    "\n",
    "batch_print([sym.Eq(0, eqn1V), sym.Eq(0, eqn2B)])\n",
    "\n",
    "print('We take the Laplace transform with respect to $\\\\zeta$ now, to obtain')\n",
    "\n",
    "Leqn1V, eqn1V_domain, _ = sym.laplace_transform(eqn1V, ζ, s)\n",
    "LVsym = sym.laplace_transform(V, ζ, s)\n",
    "V0 = τ #V(0) = U(0) = \\tau\n",
    "Leqn1V = Leqn1V.subs(sym.laplace_transform(V.diff(ζ), ζ, s), s*LVsym - V0)\n",
    "\n",
    "Leqn2B, eqn2B_domain, _ = sym.laplace_transform(eqn2B, ζ, s)\n",
    "LBsym = sym.laplace_transform(B, ζ, s)\n",
    "B0 = 0 #B(0) = A(0) = 0\n",
    "Leqn2B = Leqn2B.subs(sym.laplace_transform(B.diff(ζ), ζ, s), s*LBsym - B0) \n",
    "\n",
    "batch_print([sym.Eq(0, Leqn1V), sym.Eq(0, Leqn2B)], punctuation='')\n",
    "\n",
    "print('Next, we solve for the transformed varialbes')\n",
    "\n",
    "LV_sub = sym.solve(Leqn1V, LVsym)[0]\n",
    "LB_sub = sym.solve(Leqn2B, LBsym)[0] \n",
    "\n",
    "batch_print([sym.Eq(LVsym, LV_sub), sym.Eq(LBsym, LB_sub)], punctuation='')\n",
    "\n",
    "print('and apply an inverse transform')\n",
    "\n",
    "#need to manually partial fraction decomp - sympy is struggling\n",
    "coeff = -(μ*c*s + 1)\n",
    "LV_sub_rational1 = 1/(s-1)/2\n",
    "LV_sub_rational2 = 1/s/(s+1)/2\n",
    "expr = LV_sub_rational1*(1 - sym.exp(-Δ)) + LV_sub_rational2 * (1 - sym.exp(-Δ*s)) + μ*c*V0\n",
    "expr += coeff * LVsym\n",
    "assert expr.expand() - Leqn1V.expand() == 0 # properly factored expression\n",
    "Apfd = -1/(1+c*μ)/2\n",
    "Bpfd = Apfd + sym.Rational(1,2)\n",
    "LV_sub_pfd1 = Apfd/(s-1) + Bpfd/(1+c*μ*s)\n",
    "assert (LV_sub_pfd1 - LV_sub_rational1/coeff).simplify() == 0\n",
    "Apfd = -sym.Rational(1,2)\n",
    "Bpfd = -Apfd/(1-μ*c)\n",
    "Dpfd = -Bpfd - Apfd*(1+μ*c)\n",
    "LV_sub_pfd2 = Apfd/s + Bpfd/(s+1) + Dpfd/(1+μ*c*s)\n",
    "assert (LV_sub_pfd2 - LV_sub_rational2/coeff).simplify() == 0\n",
    "LV_sub = -(LV_sub_pfd1*(1-sym.exp(-Δ)) + LV_sub_pfd2*(1-sym.exp(-Δ*s)) + μ*c*V0/coeff)\n",
    "assert Leqn1V.subs(LVsym, LV_sub).simplify() == 0 # partial fraction decomposition satisfies the condition\n",
    "# sympy refuses to find the inverse laplace transform of the fourth term in this sum\n",
    "terms = [-LV_sub_pfd1, LV_sub_pfd1*sym.exp(-Δ), - LV_sub_pfd2,  LV_sub_pfd2*sym.exp(-Δ*s), - μ*c*V0/coeff]\n",
    "term3 = sum([arg*sym.exp(-Δ*s) for arg in terms[3].args[0].args])\n",
    "\n",
    "new_terms = [term for i,term in enumerate(terms) if i!=3] + [term3]\n",
    "assert (sum(new_terms) - sum(terms)).simplify() == 0 # we have refactored the expression correctly\n",
    "V_sub = sum(sym.inverse_laplace_transform(term, s, ζ) for term in new_terms).collect(sym.Heaviside(ζ)).collect(sym.Heaviside(-Δ+ζ))\n",
    "\n",
    "factor1 = reduce(lambda x, y: x*y, LB_sub.args[:3])\n",
    "factor2 = reduce(lambda x, y: x*y, LB_sub.args[3:]).expand()\n",
    "expr = sum(term*factor1 for term in factor2.args)\n",
    "assert (expr - LB_sub).simplify() == 0\n",
    "B_sub = sym.inverse_laplace_transform(expr, s, ζ).collect(sym.Heaviside(ζ)).collect(sym.Heaviside(-Δ+ζ))\n",
    "\n",
    "batch_print([sym.Eq(V, V_sub), sym.Eq(B, B_sub)])\n",
    "\n",
    "print('Substituting back $\\\\zeta \\\\to -\\\\xi$, and adding combining we have our final answer')\n",
    "\n",
    "U_final = U_right.collect(sym.Heaviside(ξ)) + V_sub.subs(ζ, -ξ)\n",
    "A_final = B_sub.subs(ζ, -ξ) + A_right\n",
    "\n",
    "batch_print([sym.Eq(U, U_final), sym.Eq(A, A_final)])"
   ]
  },
  {
   "cell_type": "code",
   "execution_count": null,
   "metadata": {},
   "outputs": [],
   "source": []
  },
  {
   "cell_type": "code",
   "execution_count": null,
   "metadata": {},
   "outputs": [],
   "source": []
  },
  {
   "cell_type": "code",
   "execution_count": 3,
   "metadata": {},
   "outputs": [
    {
     "ename": "NameError",
     "evalue": "name 'μ' is not defined",
     "output_type": "error",
     "traceback": [
      "\u001b[0;31m---------------------------------------------------------------------------\u001b[0m",
      "\u001b[0;31mNameError\u001b[0m                                 Traceback (most recent call last)",
      "\u001b[0;32m<ipython-input-3-1d5c89b00416>\u001b[0m in \u001b[0;36m<module>\u001b[0;34m\u001b[0m\n\u001b[1;32m      1\u001b[0m \u001b[0;32mwith\u001b[0m \u001b[0mopen\u001b[0m\u001b[0;34m(\u001b[0m\u001b[0;34m'profile.pickle'\u001b[0m\u001b[0;34m,\u001b[0m \u001b[0;34m'rb'\u001b[0m\u001b[0;34m)\u001b[0m \u001b[0;32mas\u001b[0m \u001b[0mf\u001b[0m\u001b[0;34m:\u001b[0m\u001b[0;34m\u001b[0m\u001b[0;34m\u001b[0m\u001b[0m\n\u001b[1;32m      2\u001b[0m     \u001b[0mxs\u001b[0m\u001b[0;34m,\u001b[0m \u001b[0mUs\u001b[0m\u001b[0;34m,\u001b[0m \u001b[0mAs\u001b[0m\u001b[0;34m,\u001b[0m \u001b[0mparam_list\u001b[0m \u001b[0;34m=\u001b[0m \u001b[0mpickle\u001b[0m\u001b[0;34m.\u001b[0m\u001b[0mload\u001b[0m\u001b[0;34m(\u001b[0m\u001b[0mf\u001b[0m\u001b[0;34m)\u001b[0m\u001b[0;34m\u001b[0m\u001b[0;34m\u001b[0m\u001b[0m\n\u001b[0;32m----> 3\u001b[0;31m \u001b[0mparams\u001b[0m \u001b[0;34m=\u001b[0m \u001b[0;34m[\u001b[0m\u001b[0mμ\u001b[0m\u001b[0;34m,\u001b[0m \u001b[0mα\u001b[0m\u001b[0;34m,\u001b[0m  \u001b[0mγ\u001b[0m\u001b[0;34m,\u001b[0m  \u001b[0mτ\u001b[0m\u001b[0;34m,\u001b[0m \u001b[0mΔ\u001b[0m\u001b[0;34m,\u001b[0m \u001b[0mc\u001b[0m\u001b[0;34m]\u001b[0m\u001b[0;34m\u001b[0m\u001b[0;34m\u001b[0m\u001b[0m\n\u001b[0m\u001b[1;32m      4\u001b[0m \u001b[0mparam_dict\u001b[0m \u001b[0;34m=\u001b[0m \u001b[0;34m{\u001b[0m\u001b[0mkey\u001b[0m\u001b[0;34m:\u001b[0m\u001b[0mval\u001b[0m \u001b[0;32mfor\u001b[0m \u001b[0mkey\u001b[0m\u001b[0;34m,\u001b[0m\u001b[0mval\u001b[0m \u001b[0;32min\u001b[0m \u001b[0mzip\u001b[0m\u001b[0;34m(\u001b[0m\u001b[0mparams\u001b[0m\u001b[0;34m,\u001b[0m \u001b[0mparam_list\u001b[0m\u001b[0;34m)\u001b[0m\u001b[0;34m}\u001b[0m\u001b[0;34m\u001b[0m\u001b[0;34m\u001b[0m\u001b[0m\n",
      "\u001b[0;31mNameError\u001b[0m: name 'μ' is not defined"
     ]
    }
   ],
   "source": []
  },
  {
   "cell_type": "markdown",
   "metadata": {},
   "source": [
    "# Piecewise"
   ]
  },
  {
   "cell_type": "code",
   "execution_count": 245,
   "metadata": {},
   "outputs": [],
   "source": [
    "eviron_print_tex = False\n",
    "\n",
    "μ, α, γ, τ, c, Δ = sym.symbols('\\\\mu \\\\alpha \\\\gamma, \\\\theta, c \\\\Delta', real=True, positive = True)\n",
    "with open('profile.pickle', 'rb') as f:\n",
    "    xs, Us, As, param_list = pickle.load(f)\n",
    "    params = [μ, α,  γ,  τ, Δ, c]\n",
    "    param_dict = {key:val for key,val in zip(params, param_list)}\n",
    "\n",
    "x, xp, t, ξ, ξp = sym.symbols('x x^\\\\prime t \\\\xi \\\\xi^\\\\prime', real=True)\n",
    "u = sym.Function('u', real=True)(x,t)\n",
    "a = sym.Function('u', real=True)(x,t)\n",
    "U = sym.Function('U', real=True)(ξ)\n",
    "A = sym.Function('A', real=True)(ξ)\n",
    "\n",
    "Fright = (1-sym.exp(-Δ))*sym.exp(-ξ)/2\n",
    "Fmid = (2 - sym.exp(ξ) - sym.exp(-ξ-Δ)).collect(sym.exp(ξ))/2\n",
    "Fleft = (sym.exp(ξ+Δ) - sym.exp(ξ)).collect(sym.exp(ξ))/2\n",
    "F = (Fright*sym.Heaviside(ξ) + Fmid*sym.Heaviside(ξ+Δ)*sym.Heaviside(-ξ) + Fleft*sym.Heaviside(-ξ-Δ))/2\n",
    "\n",
    "G =  γ*( sym.Heaviside(ξ+Δ) - sym.Heaviside(ξ) )\n",
    "L = lambda f: μ*c*f.diff(ξ) - f\n",
    "\n",
    "##########################################################\n",
    "#\n",
    "# Find Uright \n",
    "#\n",
    "##########################################################\n",
    "Uhom = sym.dsolve(L(U), U).args[1]\n",
    "assert L(Uhom).simplify() == 0\n",
    "temp = sym.symbols('T_{emp}')\n",
    "form = sym.exp(-ξ)\n",
    "temp_sub = sym.solve( L(temp*form)+Fright, temp )[0]\n",
    "Upar = temp_sub*form\n",
    "assert (L(Upar)+Fright).simplify() == 0\n",
    "Uright = Uhom + Upar\n",
    "assert (L(Uright)+Fright).simplify() == 0\n",
    "C1 = sym.symbols('C1')\n",
    "C1exp_sub = sym.solve(Uright.subs(ξ, 0).expand()-τ, sym.exp(C1/μ/c))[0]\n",
    "Uright = Uright.expand().subs(sym.exp(C1/μ/c), C1exp_sub)\n",
    "assert (L(Uright)+Fright).simplify() == 0\n",
    "assert (Uright.subs(ξ,0) - τ).simplify() == 0\n",
    "##########################################################\n",
    "#\n",
    "# Find Umid \n",
    "#\n",
    "##########################################################\n",
    "temp1, temp2, temp3 = sym.symbols('T1 T2 T3')\n",
    "form1, form2, form3 = 1, sym.exp(-ξ), sym.exp(ξ)\n",
    "ansatz = temp1*form1 + temp2*form2 + temp3*form3\n",
    "Lansatz = L(ansatz).expand().collect(sym.exp(ξ))\n",
    "temp1_sub = sym.solve( Lansatz.subs(temp2, 0).subs(temp3, 0) - [term for term in Fmid.args if 'exp' not in str(term)][0], temp1 )[0]\n",
    "temp2_sub = sym.solve(  Lansatz.coeff(sym.exp(-ξ)) - Fmid.coeff(sym.exp(-ξ)), temp2)[0]\n",
    "temp3_sub = sym.solve(  Lansatz.coeff(sym.exp(ξ)) - Fmid.coeff(sym.exp(ξ)), temp3)[0]\n",
    "Upar = -temp1_sub*form1 - temp2_sub*form2 - temp3_sub*form3\n",
    "assert (L(Upar) + Fmid).simplify() == 0\n",
    "Umid = Uhom + Upar\n",
    "C1exp_sub = sym.solve(Umid.subs(ξ, 0).expand()-τ, sym.exp(C1/μ/c))[0]\n",
    "Umid = Umid.expand().subs(sym.exp(C1/μ/c), C1exp_sub)\n",
    "assert (L(Umid)+Fmid).simplify() == 0\n",
    "assert (Umid.subs(ξ,0) - τ).simplify() == 0\n",
    "\n",
    "##########################################################\n",
    "#\n",
    "# Find Uleft \n",
    "#\n",
    "##########################################################\n",
    "form = sym.exp(ξ)\n",
    "ansatz = L(temp*form).collect(form)\n",
    "temp_sub = sym.solve( ansatz.coeff(form) - Fleft.coeff(form), temp )[0]\n",
    "Upar = -temp_sub * form\n",
    "assert (  L(Upar) + Fleft ).simplify() == 0\n",
    "Uleft = Uhom + Upar\n",
    "C1exp_sub = sym.solve( Uleft.subs(ξ,-Δ).expand() - Umid.subs(ξ,-Δ).expand(), sym.exp(C1/μ/c))[0]\n",
    "Uleft = Uleft.expand().subs(sym.exp(C1/μ/c), C1exp_sub)\n",
    "assert (  L(Uleft) + Fleft ).simplify() == 0\n",
    "assert ( Uleft.subs(ξ,-Δ) - Umid.subs(ξ,-Δ) ).simplify() == 0\n",
    "##########################################################\n",
    "#\n",
    "# Simplify and combine \n",
    "#\n",
    "##########################################################\n",
    "Uleft = Uleft.expand().collect(sym.exp(ξ)).collect(sym.exp(ξ/μ/c)).collect(sym.exp(Δ)).collect(τ).collect(1/(μ*c-1)).collect(1/(μ**2*c**2-1))\n",
    "Uleft = Uleft.collect(1/(2*μ**2*c**2-2)).collect(2).collect(1/(μ**2*c**2-1))\n",
    "Umid = Umid.expand().collect(sym.exp(ξ)).collect(sym.exp(ξ/μ/c)).collect(τ).collect(2).collect(sym.exp(Δ)).collect(1/(μ**2*c**2-1))\n",
    "Uright = Uright.collect(sym.exp(ξ)).collect(sym.exp(ξ/μ/c)).collect(sym.exp(Δ)).collect(τ).collect(2).collect(1/(μ*c+1))\n",
    "# display(Uleft)\n",
    "# display(Umid)\n",
    "# display(Uright)\n",
    "\n",
    "Usub = sym.Piecewise( (Uleft, ξ<-Δ), (Umid, ξ<0), (Uright, True))\n",
    "##########################################################\n",
    "#\n",
    "# A homogeneous \n",
    "#\n",
    "##########################################################\n",
    "L = lambda f: α*c*f.diff(ξ) - f\n",
    "Ahom = sym.dsolve(L(A), A).args[1].expand()\n",
    "\n",
    "##########################################################\n",
    "#\n",
    "# A right = 0 \n",
    "#\n",
    "##########################################################\n",
    "Aright = 0\n",
    "##########################################################\n",
    "#\n",
    "# A middle \n",
    "#\n",
    "##########################################################\n",
    "G = γ\n",
    "Amid = sym.dsolve(L(A) + G, ics={A.subs(ξ,0):0}).args[1].expand().collect(γ)\n",
    "\n",
    "##########################################################\n",
    "#\n",
    "# A left \n",
    "#\n",
    "##########################################################\n",
    "C1exp = sym.solve(Ahom.subs(ξ, -Δ) - Amid.subs(ξ,-Δ), sym.exp(C1/α/c))[0]\n",
    "Aleft = Ahom.subs(sym.exp(C1/α/c), C1exp)\n",
    "\n",
    "##########################################################\n",
    "#\n",
    "# Combine to get A\n",
    "#\n",
    "##########################################################\n",
    "Asub = sym.Piecewise( (Aleft, ξ<-Δ), (Amid, ξ<0), (Aright, True))\n",
    "\n",
    "##########################################################\n",
    "#\n",
    "# get conditions \n",
    "#\n",
    "##########################################################\n",
    "cond1 = sym.limit(Uright, ξ, sym.oo).args[1].args[0].collect(sym.exp(Δ)).collect(τ).collect(2)\n",
    "cond2 = (Umid - Amid).subs(ξ, -Δ) - τ\n",
    "#cond2 = cond2.expand().collect(γ).collect(τ).collect(sym.exp(Δ/μ/c)).collect(sym.exp(Δ)).collect(2).collect(μ**2 * c**2 - 1)\n",
    "cond2 = cond2.simplify()\n",
    "\n",
    "Δexp_sub = sym.solve(cond1, sym.exp(Δ))[0]\n",
    "cond2_c = cond2.subs(sym.exp(Δ), Δexp_sub).subs(sym.exp(Δ/μ/c), Δexp_sub**(1/μ/c)).subs(sym.exp(Δ/α/c), Δexp_sub**(1/α/c)).collect(τ).collect(2)"
   ]
  },
  {
   "cell_type": "code",
   "execution_count": 246,
   "metadata": {},
   "outputs": [
    {
     "data": {
      "text/latex": [
       "$\\displaystyle \\left(2 \\theta \\left(\\mu c + 1\\right) - 1\\right) e^{\\Delta} + 1$"
      ],
      "text/plain": [
       "(2*\\theta*(\\mu*c + 1) - 1)*exp(\\Delta) + 1"
      ]
     },
     "execution_count": 246,
     "metadata": {},
     "output_type": "execute_result"
    }
   ],
   "source": [
    "cond1"
   ]
  },
  {
   "cell_type": "code",
   "execution_count": 247,
   "metadata": {},
   "outputs": [
    {
     "data": {
      "text/latex": [
       "$\\displaystyle - \\gamma \\left(1 - e^{- \\frac{\\Delta}{\\alpha c}}\\right) - \\theta + 1 + \\frac{\\left(- \\mu^{2} c^{2} - \\frac{\\mu c}{2} + \\theta \\left(\\mu^{2} c^{2} - 1\\right) + \\left(\\frac{\\mu c}{2} - \\frac{1}{2}\\right) e^{- \\Delta} + \\frac{1}{2}\\right) e^{- \\frac{\\Delta}{\\mu c}}}{\\mu^{2} c^{2} - 1} - \\frac{1}{2 \\left(\\mu c + 1\\right)} + \\frac{e^{- \\Delta}}{2 \\left(\\mu c - 1\\right)}$"
      ],
      "text/plain": [
       "-\\gamma*(1 - exp(-\\Delta/(\\alpha*c))) - \\theta + 1 + (-\\mu**2*c**2 - \\mu*c/2 + \\theta*(\\mu**2*c**2 - 1) + (\\mu*c/2 - 1/2)*exp(-\\Delta) + 1/2)*exp(-\\Delta/(\\mu*c))/(\\mu**2*c**2 - 1) - 1/(2*(\\mu*c + 1)) + exp(-\\Delta)/(2*(\\mu*c - 1))"
      ]
     },
     "execution_count": 247,
     "metadata": {},
     "output_type": "execute_result"
    }
   ],
   "source": [
    "cond2"
   ]
  },
  {
   "cell_type": "code",
   "execution_count": 248,
   "metadata": {},
   "outputs": [
    {
     "data": {
      "text/latex": [
       "$\\displaystyle - \\gamma \\left(1 - \\left(- \\frac{1}{2 \\theta \\left(\\mu c + 1\\right) - 1}\\right)^{- \\frac{1}{\\alpha c}}\\right) - \\theta + 1 - \\frac{1}{2 \\left(\\mu c + 1\\right)} + \\frac{2 \\theta \\left(- \\mu c - 1\\right) + 1}{2 \\left(\\mu c - 1\\right)} + \\frac{\\left(- \\frac{1}{2 \\theta \\left(\\mu c + 1\\right) - 1}\\right)^{- \\frac{1}{\\mu c}} \\left(- \\mu^{2} c^{2} - \\frac{\\mu c}{2} + \\theta \\left(\\mu^{2} c^{2} - 1\\right) + \\left(\\frac{\\mu c}{2} - \\frac{1}{2}\\right) \\left(2 \\theta \\left(- \\mu c - 1\\right) + 1\\right) + \\frac{1}{2}\\right)}{\\mu^{2} c^{2} - 1}$"
      ],
      "text/plain": [
       "-\\gamma*(1 - (-1/(2*\\theta*(\\mu*c + 1) - 1))**(-1/(\\alpha*c))) - \\theta + 1 - 1/(2*(\\mu*c + 1)) + (2*\\theta*(-\\mu*c - 1) + 1)/(2*(\\mu*c - 1)) + (-1/(2*\\theta*(\\mu*c + 1) - 1))**(-1/(\\mu*c))*(-\\mu**2*c**2 - \\mu*c/2 + \\theta*(\\mu**2*c**2 - 1) + (\\mu*c/2 - 1/2)*(2*\\theta*(-\\mu*c - 1) + 1) + 1/2)/(\\mu**2*c**2 - 1)"
      ]
     },
     "execution_count": 248,
     "metadata": {},
     "output_type": "execute_result"
    }
   ],
   "source": [
    "cond2_c"
   ]
  },
  {
   "cell_type": "code",
   "execution_count": 251,
   "metadata": {},
   "outputs": [],
   "source": [
    "var_vec = sym.Matrix([[Δ], [c]])\n",
    "vecF = sym.Matrix([[cond1],[cond2]])"
   ]
  },
  {
   "cell_type": "code",
   "execution_count": 267,
   "metadata": {},
   "outputs": [],
   "source": [
    "param_dict2 = {key:param_dict[key] for key in param_dict if key not in [Δ, c]}\n",
    "jac = sym.lambdify( (Δ,c),  vecF.jacobian(var_vec).subs(param_dict2) )"
   ]
  },
  {
   "cell_type": "code",
   "execution_count": 271,
   "metadata": {},
   "outputs": [
    {
     "data": {
      "text/plain": [
       "array([[ 0.00000000e+00,  6.37118635e+15],\n",
       "       [-7.45847047e-03,  9.08596279e-02]])"
      ]
     },
     "execution_count": 271,
     "metadata": {},
     "output_type": "execute_result"
    }
   ],
   "source": [
    "jac(38, 4)"
   ]
  },
  {
   "cell_type": "code",
   "execution_count": 264,
   "metadata": {},
   "outputs": [],
   "source": [
    "param_dict2 = {key:param_dict[key] for key in param_dict if key not in [Δ, c]}"
   ]
  },
  {
   "cell_type": "code",
   "execution_count": 265,
   "metadata": {},
   "outputs": [
    {
     "data": {
      "text/plain": [
       "{\\mu: 1, \\alpha: 5, \\gamma: 1, \\theta: 0.1}"
      ]
     },
     "execution_count": 265,
     "metadata": {},
     "output_type": "execute_result"
    }
   ],
   "source": [
    "param_dict2"
   ]
  },
  {
   "cell_type": "code",
   "execution_count": 263,
   "metadata": {},
   "outputs": [
    {
     "ename": "TypeError",
     "evalue": "'Symbol' object is not iterable",
     "output_type": "error",
     "traceback": [
      "\u001b[0;31m---------------------------------------------------------------------------\u001b[0m",
      "\u001b[0;31mTypeError\u001b[0m                                 Traceback (most recent call last)",
      "\u001b[0;32m<ipython-input-263-03fd1e392eba>\u001b[0m in \u001b[0;36m<module>\u001b[0;34m\u001b[0m\n\u001b[0;32m----> 1\u001b[0;31m \u001b[0;32mfor\u001b[0m \u001b[0mkey\u001b[0m\u001b[0;34m,\u001b[0m\u001b[0mval\u001b[0m \u001b[0;32min\u001b[0m \u001b[0mparam_dict\u001b[0m\u001b[0;34m:\u001b[0m\u001b[0;34m\u001b[0m\u001b[0;34m\u001b[0m\u001b[0m\n\u001b[0m\u001b[1;32m      2\u001b[0m     \u001b[0mdisplay\u001b[0m\u001b[0;34m(\u001b[0m\u001b[0mkey\u001b[0m\u001b[0;34m)\u001b[0m\u001b[0;34m\u001b[0m\u001b[0;34m\u001b[0m\u001b[0m\n\u001b[1;32m      3\u001b[0m     \u001b[0mprint\u001b[0m\u001b[0;34m(\u001b[0m\u001b[0mval\u001b[0m\u001b[0;34m)\u001b[0m\u001b[0;34m\u001b[0m\u001b[0;34m\u001b[0m\u001b[0m\n",
      "\u001b[0;31mTypeError\u001b[0m: 'Symbol' object is not iterable"
     ]
    }
   ],
   "source": [
    "for key,val in param_dict:\n",
    "    display(key)\n",
    "    print(val)"
   ]
  },
  {
   "cell_type": "code",
   "execution_count": 237,
   "metadata": {},
   "outputs": [
    {
     "data": {
      "text/latex": [
       "$\\displaystyle - \\gamma \\left(1 - \\left(- \\frac{1}{2 \\mu \\theta c + 2 \\theta - 1}\\right)^{- \\frac{1}{\\alpha c}}\\right) - \\theta \\left(1 - \\left(- \\frac{1}{2 \\mu \\theta c + 2 \\theta - 1}\\right)^{- \\frac{1}{\\mu c}}\\right) + 1 - \\frac{1}{2 \\left(\\mu c + 1\\right)} + \\frac{- 2 \\mu \\theta c - 2 \\theta + 1}{2 \\left(\\mu c - 1\\right)} - \\frac{\\left(- \\frac{1}{2 \\mu \\theta c + 2 \\theta - 1}\\right)^{- \\frac{1}{\\mu c}} \\left(\\mu^{2} c^{2} + \\frac{\\mu c}{2} - \\frac{\\left(\\mu c - 1\\right) \\left(- 2 \\mu \\theta c - 2 \\theta + 1\\right)}{2} - \\frac{1}{2}\\right)}{\\mu^{2} c^{2} - 1}$"
      ],
      "text/plain": [
       "-\\gamma*(1 - (-1/(2*\\mu*\\theta*c + 2*\\theta - 1))**(-1/(\\alpha*c))) - \\theta*(1 - (-1/(2*\\mu*\\theta*c + 2*\\theta - 1))**(-1/(\\mu*c))) + 1 - 1/(2*(\\mu*c + 1)) + (-2*\\mu*\\theta*c - 2*\\theta + 1)/(2*(\\mu*c - 1)) - (-1/(2*\\mu*\\theta*c + 2*\\theta - 1))**(-1/(\\mu*c))*(\\mu**2*c**2 + \\mu*c/2 - (\\mu*c - 1)*(-2*\\mu*\\theta*c - 2*\\theta + 1)/2 - 1/2)/(\\mu**2*c**2 - 1)"
      ]
     },
     "execution_count": 237,
     "metadata": {},
     "output_type": "execute_result"
    }
   ],
   "source": [
    "cond2.simplify().subs(sym.exp(Δ), Δexp_sub).subs(sym.exp(Δ/μ/c), Δexp_sub**(1/μ/c)).subs(sym.exp(Δ/α/c), Δexp_sub**(1/α/c))"
   ]
  },
  {
   "cell_type": "code",
   "execution_count": 244,
   "metadata": {},
   "outputs": [
    {
     "data": {
      "text/latex": [
       "$\\displaystyle \\gamma \\left(-1 + \\left(- \\frac{1}{2 \\theta \\left(\\mu c + 1\\right) - 1}\\right)^{- \\frac{1}{\\alpha c}}\\right) + \\theta \\left(-1 + \\left(- \\frac{1}{2 \\theta \\left(\\mu c + 1\\right) - 1}\\right)^{- \\frac{1}{\\mu c}}\\right) + 1 - \\frac{1}{2 \\left(\\mu c + 1\\right)} + \\frac{2 \\theta \\left(- \\mu c - 1\\right) + 1}{2 \\left(\\mu c - 1\\right)} + \\frac{\\left(- \\frac{1}{2 \\theta \\left(\\mu c + 1\\right) - 1}\\right)^{- \\frac{1}{\\mu c}} \\left(- \\mu^{2} c^{2} - \\frac{\\mu c}{2} + \\frac{\\left(\\mu c - 1\\right) \\left(2 \\theta \\left(- \\mu c - 1\\right) + 1\\right)}{2} + \\frac{1}{2}\\right)}{\\mu^{2} c^{2} - 1}$"
      ],
      "text/plain": [
       "\\gamma*(-1 + (-1/(2*\\theta*(\\mu*c + 1) - 1))**(-1/(\\alpha*c))) + \\theta*(-1 + (-1/(2*\\theta*(\\mu*c + 1) - 1))**(-1/(\\mu*c))) + 1 - 1/(2*(\\mu*c + 1)) + (2*\\theta*(-\\mu*c - 1) + 1)/(2*(\\mu*c - 1)) + (-1/(2*\\theta*(\\mu*c + 1) - 1))**(-1/(\\mu*c))*(-\\mu**2*c**2 - \\mu*c/2 + (\\mu*c - 1)*(2*\\theta*(-\\mu*c - 1) + 1)/2 + 1/2)/(\\mu**2*c**2 - 1)"
      ]
     },
     "execution_count": 244,
     "metadata": {},
     "output_type": "execute_result"
    }
   ],
   "source": [
    "cond2_c"
   ]
  },
  {
   "cell_type": "code",
   "execution_count": 243,
   "metadata": {},
   "outputs": [
    {
     "data": {
      "text/latex": [
       "$\\displaystyle -0.0141987616314172$"
      ],
      "text/plain": [
       "-0.0141987616314172"
      ]
     },
     "execution_count": 243,
     "metadata": {},
     "output_type": "execute_result"
    }
   ],
   "source": [
    "((Umid - Amid).subs(ξ,-Δ) - τ).subs(param_dict)"
   ]
  },
  {
   "cell_type": "code",
   "execution_count": 241,
   "metadata": {},
   "outputs": [
    {
     "data": {
      "text/latex": [
       "$\\displaystyle - \\gamma \\left(1 - e^{\\frac{\\xi}{\\alpha c}}\\right) + 1 + \\frac{\\left(- \\mu^{2} c^{2} - \\frac{\\mu c}{2} + \\theta \\left(\\mu^{2} c^{2} - 1\\right) + \\left(\\frac{\\mu c}{2} - \\frac{1}{2}\\right) e^{- \\Delta} + \\frac{1}{2}\\right) e^{\\frac{\\xi}{\\mu c}}}{\\mu^{2} c^{2} - 1} - \\frac{e^{- \\Delta} e^{- \\xi}}{2 \\left(\\mu c + 1\\right)} + \\frac{e^{\\xi}}{2 \\left(\\mu c - 1\\right)}$"
      ],
      "text/plain": [
       "-\\gamma*(1 - exp(\\xi/(\\alpha*c))) + 1 + (-\\mu**2*c**2 - \\mu*c/2 + \\theta*(\\mu**2*c**2 - 1) + (\\mu*c/2 - 1/2)*exp(-\\Delta) + 1/2)*exp(\\xi/(\\mu*c))/(\\mu**2*c**2 - 1) - exp(-\\Delta)*exp(-\\xi)/(2*(\\mu*c + 1)) + exp(\\xi)/(2*(\\mu*c - 1))"
      ]
     },
     "execution_count": 241,
     "metadata": {},
     "output_type": "execute_result"
    }
   ],
   "source": [
    "Umid-Amid"
   ]
  },
  {
   "cell_type": "code",
   "execution_count": 226,
   "metadata": {},
   "outputs": [
    {
     "data": {
      "text/latex": [
       "$\\displaystyle \\log{\\left(- \\frac{1}{2 \\mu \\theta c + 2 \\theta - 1} \\right)}$"
      ],
      "text/plain": [
       "log(-1/(2*\\mu*\\theta*c + 2*\\theta - 1))"
      ]
     },
     "execution_count": 226,
     "metadata": {},
     "output_type": "execute_result"
    }
   ],
   "source": [
    "sym.solve(cond1, Δ)[0]"
   ]
  },
  {
   "cell_type": "code",
   "execution_count": 223,
   "metadata": {},
   "outputs": [],
   "source": [
    "cond2_c_diff = sym.diff(cond2_c, c)\n",
    "croot_numeric = sym.lambdify(temp, cond2.subs(c,temp).subs(param_dict))\n",
    "dcroot_numeric = sym.lambdify(temp, cond2.diff(c).subs(c,temp).subs(param_dict))\n",
    "my_c = param_dict[c]\n",
    "for i in range(10):\n",
    "    my_c -= croot_numeric(my_c)/dcroot_numeric(my_c)\n",
    "    \n",
    "param_dict2 = param_dict.copy()\n",
    "param_dict2[c] = my_c\n",
    "param_dict2[Δ] = sym.solve(cond1, Δ)[0].subs(param_dict2)"
   ]
  },
  {
   "cell_type": "code",
   "execution_count": 224,
   "metadata": {},
   "outputs": [
    {
     "ename": "TypeError",
     "evalue": "Invalid comparison of non-real 4.30665681913947 + I*pi",
     "output_type": "error",
     "traceback": [
      "\u001b[0;31m---------------------------------------------------------------------------\u001b[0m",
      "\u001b[0;31mTypeError\u001b[0m                                 Traceback (most recent call last)",
      "\u001b[0;32m/usr/local/lib/python3.6/dist-packages/sympy/core/cache.py\u001b[0m in \u001b[0;36mwrapper\u001b[0;34m(*args, **kwargs)\u001b[0m\n\u001b[1;32m     71\u001b[0m             \u001b[0;32mtry\u001b[0m\u001b[0;34m:\u001b[0m\u001b[0;34m\u001b[0m\u001b[0;34m\u001b[0m\u001b[0m\n\u001b[0;32m---> 72\u001b[0;31m                 \u001b[0mretval\u001b[0m \u001b[0;34m=\u001b[0m \u001b[0mcfunc\u001b[0m\u001b[0;34m(\u001b[0m\u001b[0;34m*\u001b[0m\u001b[0margs\u001b[0m\u001b[0;34m,\u001b[0m \u001b[0;34m**\u001b[0m\u001b[0mkwargs\u001b[0m\u001b[0;34m)\u001b[0m\u001b[0;34m\u001b[0m\u001b[0;34m\u001b[0m\u001b[0m\n\u001b[0m\u001b[1;32m     73\u001b[0m             \u001b[0;32mexcept\u001b[0m \u001b[0mTypeError\u001b[0m\u001b[0;34m:\u001b[0m\u001b[0;34m\u001b[0m\u001b[0;34m\u001b[0m\u001b[0m\n",
      "\u001b[0;32m/usr/local/lib/python3.6/dist-packages/sympy/core/basic.py\u001b[0m in \u001b[0;36m_subs\u001b[0;34m(self, old, new, **hints)\u001b[0m\n\u001b[1;32m   1065\u001b[0m         \u001b[0;32mif\u001b[0m \u001b[0mrv\u001b[0m \u001b[0;32mis\u001b[0m \u001b[0;32mNone\u001b[0m\u001b[0;34m:\u001b[0m\u001b[0;34m\u001b[0m\u001b[0;34m\u001b[0m\u001b[0m\n\u001b[0;32m-> 1066\u001b[0;31m             \u001b[0mrv\u001b[0m \u001b[0;34m=\u001b[0m \u001b[0mfallback\u001b[0m\u001b[0;34m(\u001b[0m\u001b[0mself\u001b[0m\u001b[0;34m,\u001b[0m \u001b[0mold\u001b[0m\u001b[0;34m,\u001b[0m \u001b[0mnew\u001b[0m\u001b[0;34m)\u001b[0m\u001b[0;34m\u001b[0m\u001b[0;34m\u001b[0m\u001b[0m\n\u001b[0m\u001b[1;32m   1067\u001b[0m         \u001b[0;32mreturn\u001b[0m \u001b[0mrv\u001b[0m\u001b[0;34m\u001b[0m\u001b[0;34m\u001b[0m\u001b[0m\n",
      "\u001b[0;32m/usr/local/lib/python3.6/dist-packages/sympy/core/basic.py\u001b[0m in \u001b[0;36mfallback\u001b[0;34m(self, old, new)\u001b[0m\n\u001b[1;32m   1042\u001b[0m             \u001b[0;32mif\u001b[0m \u001b[0mhit\u001b[0m\u001b[0;34m:\u001b[0m\u001b[0;34m\u001b[0m\u001b[0;34m\u001b[0m\u001b[0m\n\u001b[0;32m-> 1043\u001b[0;31m                 \u001b[0mrv\u001b[0m \u001b[0;34m=\u001b[0m \u001b[0mself\u001b[0m\u001b[0;34m.\u001b[0m\u001b[0mfunc\u001b[0m\u001b[0;34m(\u001b[0m\u001b[0;34m*\u001b[0m\u001b[0margs\u001b[0m\u001b[0;34m)\u001b[0m\u001b[0;34m\u001b[0m\u001b[0;34m\u001b[0m\u001b[0m\n\u001b[0m\u001b[1;32m   1044\u001b[0m                 \u001b[0mhack2\u001b[0m \u001b[0;34m=\u001b[0m \u001b[0mhints\u001b[0m\u001b[0;34m.\u001b[0m\u001b[0mget\u001b[0m\u001b[0;34m(\u001b[0m\u001b[0;34m'hack2'\u001b[0m\u001b[0;34m,\u001b[0m \u001b[0;32mFalse\u001b[0m\u001b[0;34m)\u001b[0m\u001b[0;34m\u001b[0m\u001b[0;34m\u001b[0m\u001b[0m\n",
      "\u001b[0;32m/usr/local/lib/python3.6/dist-packages/sympy/core/relational.py\u001b[0m in \u001b[0;36m__new__\u001b[0;34m(cls, lhs, rhs, **options)\u001b[0m\n\u001b[1;32m    705\u001b[0m                 \u001b[0;32mif\u001b[0m \u001b[0mme\u001b[0m\u001b[0;34m.\u001b[0m\u001b[0mis_extended_real\u001b[0m \u001b[0;32mis\u001b[0m \u001b[0;32mFalse\u001b[0m\u001b[0;34m:\u001b[0m\u001b[0;34m\u001b[0m\u001b[0;34m\u001b[0m\u001b[0m\n\u001b[0;32m--> 706\u001b[0;31m                     \u001b[0;32mraise\u001b[0m \u001b[0mTypeError\u001b[0m\u001b[0;34m(\u001b[0m\u001b[0;34m\"Invalid comparison of non-real %s\"\u001b[0m \u001b[0;34m%\u001b[0m \u001b[0mme\u001b[0m\u001b[0;34m)\u001b[0m\u001b[0;34m\u001b[0m\u001b[0;34m\u001b[0m\u001b[0m\n\u001b[0m\u001b[1;32m    707\u001b[0m                 \u001b[0;32mif\u001b[0m \u001b[0mme\u001b[0m \u001b[0;32mis\u001b[0m \u001b[0mS\u001b[0m\u001b[0;34m.\u001b[0m\u001b[0mNaN\u001b[0m\u001b[0;34m:\u001b[0m\u001b[0;34m\u001b[0m\u001b[0;34m\u001b[0m\u001b[0m\n",
      "\u001b[0;31mTypeError\u001b[0m: Invalid comparison of non-real 4.30665681913947 + I*pi",
      "\nDuring handling of the above exception, another exception occurred:\n",
      "\u001b[0;31mTypeError\u001b[0m                                 Traceback (most recent call last)",
      "\u001b[0;32m/usr/local/lib/python3.6/dist-packages/sympy/core/cache.py\u001b[0m in \u001b[0;36mwrapper\u001b[0;34m(*args, **kwargs)\u001b[0m\n\u001b[1;32m     71\u001b[0m             \u001b[0;32mtry\u001b[0m\u001b[0;34m:\u001b[0m\u001b[0;34m\u001b[0m\u001b[0;34m\u001b[0m\u001b[0m\n\u001b[0;32m---> 72\u001b[0;31m                 \u001b[0mretval\u001b[0m \u001b[0;34m=\u001b[0m \u001b[0mcfunc\u001b[0m\u001b[0;34m(\u001b[0m\u001b[0;34m*\u001b[0m\u001b[0margs\u001b[0m\u001b[0;34m,\u001b[0m \u001b[0;34m**\u001b[0m\u001b[0mkwargs\u001b[0m\u001b[0;34m)\u001b[0m\u001b[0;34m\u001b[0m\u001b[0;34m\u001b[0m\u001b[0m\n\u001b[0m\u001b[1;32m     73\u001b[0m             \u001b[0;32mexcept\u001b[0m \u001b[0mTypeError\u001b[0m\u001b[0;34m:\u001b[0m\u001b[0;34m\u001b[0m\u001b[0;34m\u001b[0m\u001b[0m\n",
      "\u001b[0;32m/usr/local/lib/python3.6/dist-packages/sympy/core/basic.py\u001b[0m in \u001b[0;36m_subs\u001b[0;34m(self, old, new, **hints)\u001b[0m\n\u001b[1;32m   1063\u001b[0m \u001b[0;34m\u001b[0m\u001b[0m\n\u001b[0;32m-> 1064\u001b[0;31m         \u001b[0mrv\u001b[0m \u001b[0;34m=\u001b[0m \u001b[0mself\u001b[0m\u001b[0;34m.\u001b[0m\u001b[0m_eval_subs\u001b[0m\u001b[0;34m(\u001b[0m\u001b[0mold\u001b[0m\u001b[0;34m,\u001b[0m \u001b[0mnew\u001b[0m\u001b[0;34m)\u001b[0m\u001b[0;34m\u001b[0m\u001b[0;34m\u001b[0m\u001b[0m\n\u001b[0m\u001b[1;32m   1065\u001b[0m         \u001b[0;32mif\u001b[0m \u001b[0mrv\u001b[0m \u001b[0;32mis\u001b[0m \u001b[0;32mNone\u001b[0m\u001b[0;34m:\u001b[0m\u001b[0;34m\u001b[0m\u001b[0;34m\u001b[0m\u001b[0m\n",
      "\u001b[0;32m/usr/local/lib/python3.6/dist-packages/sympy/functions/elementary/piecewise.py\u001b[0m in \u001b[0;36m_eval_subs\u001b[0;34m(self, old, new)\u001b[0m\n\u001b[1;32m    815\u001b[0m         \u001b[0;32mfor\u001b[0m \u001b[0mi\u001b[0m\u001b[0;34m,\u001b[0m \u001b[0;34m(\u001b[0m\u001b[0me\u001b[0m\u001b[0;34m,\u001b[0m \u001b[0mc\u001b[0m\u001b[0;34m)\u001b[0m \u001b[0;32min\u001b[0m \u001b[0menumerate\u001b[0m\u001b[0;34m(\u001b[0m\u001b[0margs\u001b[0m\u001b[0;34m)\u001b[0m\u001b[0;34m:\u001b[0m\u001b[0;34m\u001b[0m\u001b[0;34m\u001b[0m\u001b[0m\n\u001b[0;32m--> 816\u001b[0;31m             \u001b[0mc\u001b[0m \u001b[0;34m=\u001b[0m \u001b[0mc\u001b[0m\u001b[0;34m.\u001b[0m\u001b[0m_subs\u001b[0m\u001b[0;34m(\u001b[0m\u001b[0mold\u001b[0m\u001b[0;34m,\u001b[0m \u001b[0mnew\u001b[0m\u001b[0;34m)\u001b[0m\u001b[0;34m\u001b[0m\u001b[0;34m\u001b[0m\u001b[0m\n\u001b[0m\u001b[1;32m    817\u001b[0m             \u001b[0;32mif\u001b[0m \u001b[0mc\u001b[0m \u001b[0;34m!=\u001b[0m \u001b[0;32mFalse\u001b[0m\u001b[0;34m:\u001b[0m\u001b[0;34m\u001b[0m\u001b[0;34m\u001b[0m\u001b[0m\n",
      "\u001b[0;32m/usr/local/lib/python3.6/dist-packages/sympy/core/cache.py\u001b[0m in \u001b[0;36mwrapper\u001b[0;34m(*args, **kwargs)\u001b[0m\n\u001b[1;32m     73\u001b[0m             \u001b[0;32mexcept\u001b[0m \u001b[0mTypeError\u001b[0m\u001b[0;34m:\u001b[0m\u001b[0;34m\u001b[0m\u001b[0;34m\u001b[0m\u001b[0m\n\u001b[0;32m---> 74\u001b[0;31m                 \u001b[0mretval\u001b[0m \u001b[0;34m=\u001b[0m \u001b[0mfunc\u001b[0m\u001b[0;34m(\u001b[0m\u001b[0;34m*\u001b[0m\u001b[0margs\u001b[0m\u001b[0;34m,\u001b[0m \u001b[0;34m**\u001b[0m\u001b[0mkwargs\u001b[0m\u001b[0;34m)\u001b[0m\u001b[0;34m\u001b[0m\u001b[0;34m\u001b[0m\u001b[0m\n\u001b[0m\u001b[1;32m     75\u001b[0m             \u001b[0;32mreturn\u001b[0m \u001b[0mretval\u001b[0m\u001b[0;34m\u001b[0m\u001b[0;34m\u001b[0m\u001b[0m\n",
      "\u001b[0;32m/usr/local/lib/python3.6/dist-packages/sympy/core/basic.py\u001b[0m in \u001b[0;36m_subs\u001b[0;34m(self, old, new, **hints)\u001b[0m\n\u001b[1;32m   1065\u001b[0m         \u001b[0;32mif\u001b[0m \u001b[0mrv\u001b[0m \u001b[0;32mis\u001b[0m \u001b[0;32mNone\u001b[0m\u001b[0;34m:\u001b[0m\u001b[0;34m\u001b[0m\u001b[0;34m\u001b[0m\u001b[0m\n\u001b[0;32m-> 1066\u001b[0;31m             \u001b[0mrv\u001b[0m \u001b[0;34m=\u001b[0m \u001b[0mfallback\u001b[0m\u001b[0;34m(\u001b[0m\u001b[0mself\u001b[0m\u001b[0;34m,\u001b[0m \u001b[0mold\u001b[0m\u001b[0;34m,\u001b[0m \u001b[0mnew\u001b[0m\u001b[0;34m)\u001b[0m\u001b[0;34m\u001b[0m\u001b[0;34m\u001b[0m\u001b[0m\n\u001b[0m\u001b[1;32m   1067\u001b[0m         \u001b[0;32mreturn\u001b[0m \u001b[0mrv\u001b[0m\u001b[0;34m\u001b[0m\u001b[0;34m\u001b[0m\u001b[0m\n",
      "\u001b[0;32m/usr/local/lib/python3.6/dist-packages/sympy/core/basic.py\u001b[0m in \u001b[0;36mfallback\u001b[0;34m(self, old, new)\u001b[0m\n\u001b[1;32m   1042\u001b[0m             \u001b[0;32mif\u001b[0m \u001b[0mhit\u001b[0m\u001b[0;34m:\u001b[0m\u001b[0;34m\u001b[0m\u001b[0;34m\u001b[0m\u001b[0m\n\u001b[0;32m-> 1043\u001b[0;31m                 \u001b[0mrv\u001b[0m \u001b[0;34m=\u001b[0m \u001b[0mself\u001b[0m\u001b[0;34m.\u001b[0m\u001b[0mfunc\u001b[0m\u001b[0;34m(\u001b[0m\u001b[0;34m*\u001b[0m\u001b[0margs\u001b[0m\u001b[0;34m)\u001b[0m\u001b[0;34m\u001b[0m\u001b[0;34m\u001b[0m\u001b[0m\n\u001b[0m\u001b[1;32m   1044\u001b[0m                 \u001b[0mhack2\u001b[0m \u001b[0;34m=\u001b[0m \u001b[0mhints\u001b[0m\u001b[0;34m.\u001b[0m\u001b[0mget\u001b[0m\u001b[0;34m(\u001b[0m\u001b[0;34m'hack2'\u001b[0m\u001b[0;34m,\u001b[0m \u001b[0;32mFalse\u001b[0m\u001b[0;34m)\u001b[0m\u001b[0;34m\u001b[0m\u001b[0;34m\u001b[0m\u001b[0m\n",
      "\u001b[0;32m/usr/local/lib/python3.6/dist-packages/sympy/core/relational.py\u001b[0m in \u001b[0;36m__new__\u001b[0;34m(cls, lhs, rhs, **options)\u001b[0m\n\u001b[1;32m    705\u001b[0m                 \u001b[0;32mif\u001b[0m \u001b[0mme\u001b[0m\u001b[0;34m.\u001b[0m\u001b[0mis_extended_real\u001b[0m \u001b[0;32mis\u001b[0m \u001b[0;32mFalse\u001b[0m\u001b[0;34m:\u001b[0m\u001b[0;34m\u001b[0m\u001b[0;34m\u001b[0m\u001b[0m\n\u001b[0;32m--> 706\u001b[0;31m                     \u001b[0;32mraise\u001b[0m \u001b[0mTypeError\u001b[0m\u001b[0;34m(\u001b[0m\u001b[0;34m\"Invalid comparison of non-real %s\"\u001b[0m \u001b[0;34m%\u001b[0m \u001b[0mme\u001b[0m\u001b[0;34m)\u001b[0m\u001b[0;34m\u001b[0m\u001b[0;34m\u001b[0m\u001b[0m\n\u001b[0m\u001b[1;32m    707\u001b[0m                 \u001b[0;32mif\u001b[0m \u001b[0mme\u001b[0m \u001b[0;32mis\u001b[0m \u001b[0mS\u001b[0m\u001b[0;34m.\u001b[0m\u001b[0mNaN\u001b[0m\u001b[0;34m:\u001b[0m\u001b[0;34m\u001b[0m\u001b[0;34m\u001b[0m\u001b[0m\n",
      "\u001b[0;31mTypeError\u001b[0m: Invalid comparison of non-real 4.30665681913947 + I*pi",
      "\nDuring handling of the above exception, another exception occurred:\n",
      "\u001b[0;31mTypeError\u001b[0m                                 Traceback (most recent call last)",
      "\u001b[0;32m/usr/local/lib/python3.6/dist-packages/sympy/core/cache.py\u001b[0m in \u001b[0;36mwrapper\u001b[0;34m(*args, **kwargs)\u001b[0m\n\u001b[1;32m     71\u001b[0m             \u001b[0;32mtry\u001b[0m\u001b[0;34m:\u001b[0m\u001b[0;34m\u001b[0m\u001b[0;34m\u001b[0m\u001b[0m\n\u001b[0;32m---> 72\u001b[0;31m                 \u001b[0mretval\u001b[0m \u001b[0;34m=\u001b[0m \u001b[0mcfunc\u001b[0m\u001b[0;34m(\u001b[0m\u001b[0;34m*\u001b[0m\u001b[0margs\u001b[0m\u001b[0;34m,\u001b[0m \u001b[0;34m**\u001b[0m\u001b[0mkwargs\u001b[0m\u001b[0;34m)\u001b[0m\u001b[0;34m\u001b[0m\u001b[0;34m\u001b[0m\u001b[0m\n\u001b[0m\u001b[1;32m     73\u001b[0m             \u001b[0;32mexcept\u001b[0m \u001b[0mTypeError\u001b[0m\u001b[0;34m:\u001b[0m\u001b[0;34m\u001b[0m\u001b[0;34m\u001b[0m\u001b[0m\n",
      "\u001b[0;32m/usr/local/lib/python3.6/dist-packages/sympy/core/basic.py\u001b[0m in \u001b[0;36m_subs\u001b[0;34m(self, old, new, **hints)\u001b[0m\n\u001b[1;32m   1065\u001b[0m         \u001b[0;32mif\u001b[0m \u001b[0mrv\u001b[0m \u001b[0;32mis\u001b[0m \u001b[0;32mNone\u001b[0m\u001b[0;34m:\u001b[0m\u001b[0;34m\u001b[0m\u001b[0;34m\u001b[0m\u001b[0m\n\u001b[0;32m-> 1066\u001b[0;31m             \u001b[0mrv\u001b[0m \u001b[0;34m=\u001b[0m \u001b[0mfallback\u001b[0m\u001b[0;34m(\u001b[0m\u001b[0mself\u001b[0m\u001b[0;34m,\u001b[0m \u001b[0mold\u001b[0m\u001b[0;34m,\u001b[0m \u001b[0mnew\u001b[0m\u001b[0;34m)\u001b[0m\u001b[0;34m\u001b[0m\u001b[0;34m\u001b[0m\u001b[0m\n\u001b[0m\u001b[1;32m   1067\u001b[0m         \u001b[0;32mreturn\u001b[0m \u001b[0mrv\u001b[0m\u001b[0;34m\u001b[0m\u001b[0;34m\u001b[0m\u001b[0m\n",
      "\u001b[0;32m/usr/local/lib/python3.6/dist-packages/sympy/core/basic.py\u001b[0m in \u001b[0;36mfallback\u001b[0;34m(self, old, new)\u001b[0m\n\u001b[1;32m   1042\u001b[0m             \u001b[0;32mif\u001b[0m \u001b[0mhit\u001b[0m\u001b[0;34m:\u001b[0m\u001b[0;34m\u001b[0m\u001b[0;34m\u001b[0m\u001b[0m\n\u001b[0;32m-> 1043\u001b[0;31m                 \u001b[0mrv\u001b[0m \u001b[0;34m=\u001b[0m \u001b[0mself\u001b[0m\u001b[0;34m.\u001b[0m\u001b[0mfunc\u001b[0m\u001b[0;34m(\u001b[0m\u001b[0;34m*\u001b[0m\u001b[0margs\u001b[0m\u001b[0;34m)\u001b[0m\u001b[0;34m\u001b[0m\u001b[0;34m\u001b[0m\u001b[0m\n\u001b[0m\u001b[1;32m   1044\u001b[0m                 \u001b[0mhack2\u001b[0m \u001b[0;34m=\u001b[0m \u001b[0mhints\u001b[0m\u001b[0;34m.\u001b[0m\u001b[0mget\u001b[0m\u001b[0;34m(\u001b[0m\u001b[0;34m'hack2'\u001b[0m\u001b[0;34m,\u001b[0m \u001b[0;32mFalse\u001b[0m\u001b[0;34m)\u001b[0m\u001b[0;34m\u001b[0m\u001b[0;34m\u001b[0m\u001b[0m\n",
      "\u001b[0;32m/usr/local/lib/python3.6/dist-packages/sympy/core/relational.py\u001b[0m in \u001b[0;36m__new__\u001b[0;34m(cls, lhs, rhs, **options)\u001b[0m\n\u001b[1;32m    705\u001b[0m                 \u001b[0;32mif\u001b[0m \u001b[0mme\u001b[0m\u001b[0;34m.\u001b[0m\u001b[0mis_extended_real\u001b[0m \u001b[0;32mis\u001b[0m \u001b[0;32mFalse\u001b[0m\u001b[0;34m:\u001b[0m\u001b[0;34m\u001b[0m\u001b[0;34m\u001b[0m\u001b[0m\n\u001b[0;32m--> 706\u001b[0;31m                     \u001b[0;32mraise\u001b[0m \u001b[0mTypeError\u001b[0m\u001b[0;34m(\u001b[0m\u001b[0;34m\"Invalid comparison of non-real %s\"\u001b[0m \u001b[0;34m%\u001b[0m \u001b[0mme\u001b[0m\u001b[0;34m)\u001b[0m\u001b[0;34m\u001b[0m\u001b[0;34m\u001b[0m\u001b[0m\n\u001b[0m\u001b[1;32m    707\u001b[0m                 \u001b[0;32mif\u001b[0m \u001b[0mme\u001b[0m \u001b[0;32mis\u001b[0m \u001b[0mS\u001b[0m\u001b[0;34m.\u001b[0m\u001b[0mNaN\u001b[0m\u001b[0;34m:\u001b[0m\u001b[0;34m\u001b[0m\u001b[0;34m\u001b[0m\u001b[0m\n",
      "\u001b[0;31mTypeError\u001b[0m: Invalid comparison of non-real 4.30665681913947 + I*pi",
      "\nDuring handling of the above exception, another exception occurred:\n",
      "\u001b[0;31mTypeError\u001b[0m                                 Traceback (most recent call last)",
      "\u001b[0;32m<ipython-input-224-0b82ff5ced75>\u001b[0m in \u001b[0;36m<module>\u001b[0;34m\u001b[0m\n\u001b[0;32m----> 1\u001b[0;31m \u001b[0mUtest\u001b[0m \u001b[0;34m=\u001b[0m \u001b[0msym\u001b[0m\u001b[0;34m.\u001b[0m\u001b[0mlambdify\u001b[0m\u001b[0;34m(\u001b[0m\u001b[0mξ\u001b[0m\u001b[0;34m,\u001b[0m \u001b[0mUsub\u001b[0m\u001b[0;34m.\u001b[0m\u001b[0msubs\u001b[0m\u001b[0;34m(\u001b[0m\u001b[0mparam_dict2\u001b[0m\u001b[0;34m)\u001b[0m \u001b[0;34m)\u001b[0m\u001b[0;34m\u001b[0m\u001b[0;34m\u001b[0m\u001b[0m\n\u001b[0m\u001b[1;32m      2\u001b[0m \u001b[0mAtest\u001b[0m \u001b[0;34m=\u001b[0m \u001b[0msym\u001b[0m\u001b[0;34m.\u001b[0m\u001b[0mlambdify\u001b[0m\u001b[0;34m(\u001b[0m\u001b[0mξ\u001b[0m\u001b[0;34m,\u001b[0m \u001b[0mAsub\u001b[0m\u001b[0;34m.\u001b[0m\u001b[0msubs\u001b[0m\u001b[0;34m(\u001b[0m\u001b[0mparam_dict2\u001b[0m\u001b[0;34m)\u001b[0m \u001b[0;34m)\u001b[0m\u001b[0;34m\u001b[0m\u001b[0;34m\u001b[0m\u001b[0m\n\u001b[1;32m      3\u001b[0m \u001b[0mplt\u001b[0m\u001b[0;34m.\u001b[0m\u001b[0mplot\u001b[0m\u001b[0;34m(\u001b[0m\u001b[0mxs\u001b[0m\u001b[0;34m,\u001b[0m \u001b[0mUs\u001b[0m\u001b[0;34m,\u001b[0m \u001b[0;34m'b-'\u001b[0m\u001b[0;34m)\u001b[0m\u001b[0;34m\u001b[0m\u001b[0;34m\u001b[0m\u001b[0m\n\u001b[1;32m      4\u001b[0m \u001b[0mplt\u001b[0m\u001b[0;34m.\u001b[0m\u001b[0mplot\u001b[0m\u001b[0;34m(\u001b[0m\u001b[0mxs\u001b[0m\u001b[0;34m,\u001b[0m \u001b[0mUtest\u001b[0m\u001b[0;34m(\u001b[0m\u001b[0mxs\u001b[0m\u001b[0;34m)\u001b[0m\u001b[0;34m,\u001b[0m \u001b[0;34m'k--'\u001b[0m\u001b[0;34m)\u001b[0m\u001b[0;34m\u001b[0m\u001b[0;34m\u001b[0m\u001b[0m\n\u001b[1;32m      5\u001b[0m \u001b[0mplt\u001b[0m\u001b[0;34m.\u001b[0m\u001b[0mplot\u001b[0m\u001b[0;34m(\u001b[0m\u001b[0mxs\u001b[0m\u001b[0;34m,\u001b[0m \u001b[0mAs\u001b[0m\u001b[0;34m,\u001b[0m \u001b[0;34m'm-'\u001b[0m\u001b[0;34m)\u001b[0m\u001b[0;34m\u001b[0m\u001b[0;34m\u001b[0m\u001b[0m\n",
      "\u001b[0;32m/usr/local/lib/python3.6/dist-packages/sympy/core/basic.py\u001b[0m in \u001b[0;36msubs\u001b[0;34m(self, *args, **kwargs)\u001b[0m\n\u001b[1;32m    950\u001b[0m             \u001b[0mrv\u001b[0m \u001b[0;34m=\u001b[0m \u001b[0mself\u001b[0m\u001b[0;34m\u001b[0m\u001b[0;34m\u001b[0m\u001b[0m\n\u001b[1;32m    951\u001b[0m             \u001b[0;32mfor\u001b[0m \u001b[0mold\u001b[0m\u001b[0;34m,\u001b[0m \u001b[0mnew\u001b[0m \u001b[0;32min\u001b[0m \u001b[0msequence\u001b[0m\u001b[0;34m:\u001b[0m\u001b[0;34m\u001b[0m\u001b[0;34m\u001b[0m\u001b[0m\n\u001b[0;32m--> 952\u001b[0;31m                 \u001b[0mrv\u001b[0m \u001b[0;34m=\u001b[0m \u001b[0mrv\u001b[0m\u001b[0;34m.\u001b[0m\u001b[0m_subs\u001b[0m\u001b[0;34m(\u001b[0m\u001b[0mold\u001b[0m\u001b[0;34m,\u001b[0m \u001b[0mnew\u001b[0m\u001b[0;34m,\u001b[0m \u001b[0;34m**\u001b[0m\u001b[0mkwargs\u001b[0m\u001b[0;34m)\u001b[0m\u001b[0;34m\u001b[0m\u001b[0;34m\u001b[0m\u001b[0m\n\u001b[0m\u001b[1;32m    953\u001b[0m                 \u001b[0;32mif\u001b[0m \u001b[0;32mnot\u001b[0m \u001b[0misinstance\u001b[0m\u001b[0;34m(\u001b[0m\u001b[0mrv\u001b[0m\u001b[0;34m,\u001b[0m \u001b[0mBasic\u001b[0m\u001b[0;34m)\u001b[0m\u001b[0;34m:\u001b[0m\u001b[0;34m\u001b[0m\u001b[0;34m\u001b[0m\u001b[0m\n\u001b[1;32m    954\u001b[0m                     \u001b[0;32mbreak\u001b[0m\u001b[0;34m\u001b[0m\u001b[0;34m\u001b[0m\u001b[0m\n",
      "\u001b[0;32m/usr/local/lib/python3.6/dist-packages/sympy/core/cache.py\u001b[0m in \u001b[0;36mwrapper\u001b[0;34m(*args, **kwargs)\u001b[0m\n\u001b[1;32m     72\u001b[0m                 \u001b[0mretval\u001b[0m \u001b[0;34m=\u001b[0m \u001b[0mcfunc\u001b[0m\u001b[0;34m(\u001b[0m\u001b[0;34m*\u001b[0m\u001b[0margs\u001b[0m\u001b[0;34m,\u001b[0m \u001b[0;34m**\u001b[0m\u001b[0mkwargs\u001b[0m\u001b[0;34m)\u001b[0m\u001b[0;34m\u001b[0m\u001b[0;34m\u001b[0m\u001b[0m\n\u001b[1;32m     73\u001b[0m             \u001b[0;32mexcept\u001b[0m \u001b[0mTypeError\u001b[0m\u001b[0;34m:\u001b[0m\u001b[0;34m\u001b[0m\u001b[0;34m\u001b[0m\u001b[0m\n\u001b[0;32m---> 74\u001b[0;31m                 \u001b[0mretval\u001b[0m \u001b[0;34m=\u001b[0m \u001b[0mfunc\u001b[0m\u001b[0;34m(\u001b[0m\u001b[0;34m*\u001b[0m\u001b[0margs\u001b[0m\u001b[0;34m,\u001b[0m \u001b[0;34m**\u001b[0m\u001b[0mkwargs\u001b[0m\u001b[0;34m)\u001b[0m\u001b[0;34m\u001b[0m\u001b[0;34m\u001b[0m\u001b[0m\n\u001b[0m\u001b[1;32m     75\u001b[0m             \u001b[0;32mreturn\u001b[0m \u001b[0mretval\u001b[0m\u001b[0;34m\u001b[0m\u001b[0;34m\u001b[0m\u001b[0m\n\u001b[1;32m     76\u001b[0m \u001b[0;34m\u001b[0m\u001b[0m\n",
      "\u001b[0;32m/usr/local/lib/python3.6/dist-packages/sympy/core/basic.py\u001b[0m in \u001b[0;36m_subs\u001b[0;34m(self, old, new, **hints)\u001b[0m\n\u001b[1;32m   1062\u001b[0m             \u001b[0;32mreturn\u001b[0m \u001b[0mnew\u001b[0m\u001b[0;34m\u001b[0m\u001b[0;34m\u001b[0m\u001b[0m\n\u001b[1;32m   1063\u001b[0m \u001b[0;34m\u001b[0m\u001b[0m\n\u001b[0;32m-> 1064\u001b[0;31m         \u001b[0mrv\u001b[0m \u001b[0;34m=\u001b[0m \u001b[0mself\u001b[0m\u001b[0;34m.\u001b[0m\u001b[0m_eval_subs\u001b[0m\u001b[0;34m(\u001b[0m\u001b[0mold\u001b[0m\u001b[0;34m,\u001b[0m \u001b[0mnew\u001b[0m\u001b[0;34m)\u001b[0m\u001b[0;34m\u001b[0m\u001b[0;34m\u001b[0m\u001b[0m\n\u001b[0m\u001b[1;32m   1065\u001b[0m         \u001b[0;32mif\u001b[0m \u001b[0mrv\u001b[0m \u001b[0;32mis\u001b[0m \u001b[0;32mNone\u001b[0m\u001b[0;34m:\u001b[0m\u001b[0;34m\u001b[0m\u001b[0;34m\u001b[0m\u001b[0m\n\u001b[1;32m   1066\u001b[0m             \u001b[0mrv\u001b[0m \u001b[0;34m=\u001b[0m \u001b[0mfallback\u001b[0m\u001b[0;34m(\u001b[0m\u001b[0mself\u001b[0m\u001b[0;34m,\u001b[0m \u001b[0mold\u001b[0m\u001b[0;34m,\u001b[0m \u001b[0mnew\u001b[0m\u001b[0;34m)\u001b[0m\u001b[0;34m\u001b[0m\u001b[0;34m\u001b[0m\u001b[0m\n",
      "\u001b[0;32m/usr/local/lib/python3.6/dist-packages/sympy/functions/elementary/piecewise.py\u001b[0m in \u001b[0;36m_eval_subs\u001b[0;34m(self, old, new)\u001b[0m\n\u001b[1;32m    814\u001b[0m         \u001b[0margs_exist\u001b[0m \u001b[0;34m=\u001b[0m \u001b[0;32mFalse\u001b[0m\u001b[0;34m\u001b[0m\u001b[0;34m\u001b[0m\u001b[0m\n\u001b[1;32m    815\u001b[0m         \u001b[0;32mfor\u001b[0m \u001b[0mi\u001b[0m\u001b[0;34m,\u001b[0m \u001b[0;34m(\u001b[0m\u001b[0me\u001b[0m\u001b[0;34m,\u001b[0m \u001b[0mc\u001b[0m\u001b[0;34m)\u001b[0m \u001b[0;32min\u001b[0m \u001b[0menumerate\u001b[0m\u001b[0;34m(\u001b[0m\u001b[0margs\u001b[0m\u001b[0;34m)\u001b[0m\u001b[0;34m:\u001b[0m\u001b[0;34m\u001b[0m\u001b[0;34m\u001b[0m\u001b[0m\n\u001b[0;32m--> 816\u001b[0;31m             \u001b[0mc\u001b[0m \u001b[0;34m=\u001b[0m \u001b[0mc\u001b[0m\u001b[0;34m.\u001b[0m\u001b[0m_subs\u001b[0m\u001b[0;34m(\u001b[0m\u001b[0mold\u001b[0m\u001b[0;34m,\u001b[0m \u001b[0mnew\u001b[0m\u001b[0;34m)\u001b[0m\u001b[0;34m\u001b[0m\u001b[0;34m\u001b[0m\u001b[0m\n\u001b[0m\u001b[1;32m    817\u001b[0m             \u001b[0;32mif\u001b[0m \u001b[0mc\u001b[0m \u001b[0;34m!=\u001b[0m \u001b[0;32mFalse\u001b[0m\u001b[0;34m:\u001b[0m\u001b[0;34m\u001b[0m\u001b[0;34m\u001b[0m\u001b[0m\n\u001b[1;32m    818\u001b[0m                 \u001b[0margs_exist\u001b[0m \u001b[0;34m=\u001b[0m \u001b[0;32mTrue\u001b[0m\u001b[0;34m\u001b[0m\u001b[0;34m\u001b[0m\u001b[0m\n",
      "\u001b[0;32m/usr/local/lib/python3.6/dist-packages/sympy/core/cache.py\u001b[0m in \u001b[0;36mwrapper\u001b[0;34m(*args, **kwargs)\u001b[0m\n\u001b[1;32m     72\u001b[0m                 \u001b[0mretval\u001b[0m \u001b[0;34m=\u001b[0m \u001b[0mcfunc\u001b[0m\u001b[0;34m(\u001b[0m\u001b[0;34m*\u001b[0m\u001b[0margs\u001b[0m\u001b[0;34m,\u001b[0m \u001b[0;34m**\u001b[0m\u001b[0mkwargs\u001b[0m\u001b[0;34m)\u001b[0m\u001b[0;34m\u001b[0m\u001b[0;34m\u001b[0m\u001b[0m\n\u001b[1;32m     73\u001b[0m             \u001b[0;32mexcept\u001b[0m \u001b[0mTypeError\u001b[0m\u001b[0;34m:\u001b[0m\u001b[0;34m\u001b[0m\u001b[0;34m\u001b[0m\u001b[0m\n\u001b[0;32m---> 74\u001b[0;31m                 \u001b[0mretval\u001b[0m \u001b[0;34m=\u001b[0m \u001b[0mfunc\u001b[0m\u001b[0;34m(\u001b[0m\u001b[0;34m*\u001b[0m\u001b[0margs\u001b[0m\u001b[0;34m,\u001b[0m \u001b[0;34m**\u001b[0m\u001b[0mkwargs\u001b[0m\u001b[0;34m)\u001b[0m\u001b[0;34m\u001b[0m\u001b[0;34m\u001b[0m\u001b[0m\n\u001b[0m\u001b[1;32m     75\u001b[0m             \u001b[0;32mreturn\u001b[0m \u001b[0mretval\u001b[0m\u001b[0;34m\u001b[0m\u001b[0;34m\u001b[0m\u001b[0m\n\u001b[1;32m     76\u001b[0m \u001b[0;34m\u001b[0m\u001b[0m\n",
      "\u001b[0;32m/usr/local/lib/python3.6/dist-packages/sympy/core/basic.py\u001b[0m in \u001b[0;36m_subs\u001b[0;34m(self, old, new, **hints)\u001b[0m\n\u001b[1;32m   1064\u001b[0m         \u001b[0mrv\u001b[0m \u001b[0;34m=\u001b[0m \u001b[0mself\u001b[0m\u001b[0;34m.\u001b[0m\u001b[0m_eval_subs\u001b[0m\u001b[0;34m(\u001b[0m\u001b[0mold\u001b[0m\u001b[0;34m,\u001b[0m \u001b[0mnew\u001b[0m\u001b[0;34m)\u001b[0m\u001b[0;34m\u001b[0m\u001b[0;34m\u001b[0m\u001b[0m\n\u001b[1;32m   1065\u001b[0m         \u001b[0;32mif\u001b[0m \u001b[0mrv\u001b[0m \u001b[0;32mis\u001b[0m \u001b[0;32mNone\u001b[0m\u001b[0;34m:\u001b[0m\u001b[0;34m\u001b[0m\u001b[0;34m\u001b[0m\u001b[0m\n\u001b[0;32m-> 1066\u001b[0;31m             \u001b[0mrv\u001b[0m \u001b[0;34m=\u001b[0m \u001b[0mfallback\u001b[0m\u001b[0;34m(\u001b[0m\u001b[0mself\u001b[0m\u001b[0;34m,\u001b[0m \u001b[0mold\u001b[0m\u001b[0;34m,\u001b[0m \u001b[0mnew\u001b[0m\u001b[0;34m)\u001b[0m\u001b[0;34m\u001b[0m\u001b[0;34m\u001b[0m\u001b[0m\n\u001b[0m\u001b[1;32m   1067\u001b[0m         \u001b[0;32mreturn\u001b[0m \u001b[0mrv\u001b[0m\u001b[0;34m\u001b[0m\u001b[0;34m\u001b[0m\u001b[0m\n\u001b[1;32m   1068\u001b[0m \u001b[0;34m\u001b[0m\u001b[0m\n",
      "\u001b[0;32m/usr/local/lib/python3.6/dist-packages/sympy/core/basic.py\u001b[0m in \u001b[0;36mfallback\u001b[0;34m(self, old, new)\u001b[0m\n\u001b[1;32m   1041\u001b[0m                     \u001b[0margs\u001b[0m\u001b[0;34m[\u001b[0m\u001b[0mi\u001b[0m\u001b[0;34m]\u001b[0m \u001b[0;34m=\u001b[0m \u001b[0marg\u001b[0m\u001b[0;34m\u001b[0m\u001b[0;34m\u001b[0m\u001b[0m\n\u001b[1;32m   1042\u001b[0m             \u001b[0;32mif\u001b[0m \u001b[0mhit\u001b[0m\u001b[0;34m:\u001b[0m\u001b[0;34m\u001b[0m\u001b[0;34m\u001b[0m\u001b[0m\n\u001b[0;32m-> 1043\u001b[0;31m                 \u001b[0mrv\u001b[0m \u001b[0;34m=\u001b[0m \u001b[0mself\u001b[0m\u001b[0;34m.\u001b[0m\u001b[0mfunc\u001b[0m\u001b[0;34m(\u001b[0m\u001b[0;34m*\u001b[0m\u001b[0margs\u001b[0m\u001b[0;34m)\u001b[0m\u001b[0;34m\u001b[0m\u001b[0;34m\u001b[0m\u001b[0m\n\u001b[0m\u001b[1;32m   1044\u001b[0m                 \u001b[0mhack2\u001b[0m \u001b[0;34m=\u001b[0m \u001b[0mhints\u001b[0m\u001b[0;34m.\u001b[0m\u001b[0mget\u001b[0m\u001b[0;34m(\u001b[0m\u001b[0;34m'hack2'\u001b[0m\u001b[0;34m,\u001b[0m \u001b[0;32mFalse\u001b[0m\u001b[0;34m)\u001b[0m\u001b[0;34m\u001b[0m\u001b[0;34m\u001b[0m\u001b[0m\n\u001b[1;32m   1045\u001b[0m                 \u001b[0;32mif\u001b[0m \u001b[0mhack2\u001b[0m \u001b[0;32mand\u001b[0m \u001b[0mself\u001b[0m\u001b[0;34m.\u001b[0m\u001b[0mis_Mul\u001b[0m \u001b[0;32mand\u001b[0m \u001b[0;32mnot\u001b[0m \u001b[0mrv\u001b[0m\u001b[0;34m.\u001b[0m\u001b[0mis_Mul\u001b[0m\u001b[0;34m:\u001b[0m  \u001b[0;31m# 2-arg hack\u001b[0m\u001b[0;34m\u001b[0m\u001b[0;34m\u001b[0m\u001b[0m\n",
      "\u001b[0;32m/usr/local/lib/python3.6/dist-packages/sympy/core/relational.py\u001b[0m in \u001b[0;36m__new__\u001b[0;34m(cls, lhs, rhs, **options)\u001b[0m\n\u001b[1;32m    704\u001b[0m             \u001b[0;32mfor\u001b[0m \u001b[0mme\u001b[0m \u001b[0;32min\u001b[0m \u001b[0;34m(\u001b[0m\u001b[0mlhs\u001b[0m\u001b[0;34m,\u001b[0m \u001b[0mrhs\u001b[0m\u001b[0;34m)\u001b[0m\u001b[0;34m:\u001b[0m\u001b[0;34m\u001b[0m\u001b[0;34m\u001b[0m\u001b[0m\n\u001b[1;32m    705\u001b[0m                 \u001b[0;32mif\u001b[0m \u001b[0mme\u001b[0m\u001b[0;34m.\u001b[0m\u001b[0mis_extended_real\u001b[0m \u001b[0;32mis\u001b[0m \u001b[0;32mFalse\u001b[0m\u001b[0;34m:\u001b[0m\u001b[0;34m\u001b[0m\u001b[0;34m\u001b[0m\u001b[0m\n\u001b[0;32m--> 706\u001b[0;31m                     \u001b[0;32mraise\u001b[0m \u001b[0mTypeError\u001b[0m\u001b[0;34m(\u001b[0m\u001b[0;34m\"Invalid comparison of non-real %s\"\u001b[0m \u001b[0;34m%\u001b[0m \u001b[0mme\u001b[0m\u001b[0;34m)\u001b[0m\u001b[0;34m\u001b[0m\u001b[0;34m\u001b[0m\u001b[0m\n\u001b[0m\u001b[1;32m    707\u001b[0m                 \u001b[0;32mif\u001b[0m \u001b[0mme\u001b[0m \u001b[0;32mis\u001b[0m \u001b[0mS\u001b[0m\u001b[0;34m.\u001b[0m\u001b[0mNaN\u001b[0m\u001b[0;34m:\u001b[0m\u001b[0;34m\u001b[0m\u001b[0;34m\u001b[0m\u001b[0m\n\u001b[1;32m    708\u001b[0m                     \u001b[0;32mraise\u001b[0m \u001b[0mTypeError\u001b[0m\u001b[0;34m(\u001b[0m\u001b[0;34m\"Invalid NaN comparison\"\u001b[0m\u001b[0;34m)\u001b[0m\u001b[0;34m\u001b[0m\u001b[0;34m\u001b[0m\u001b[0m\n",
      "\u001b[0;31mTypeError\u001b[0m: Invalid comparison of non-real 4.30665681913947 + I*pi"
     ]
    }
   ],
   "source": [
    "Utest = sym.lambdify(ξ, Usub.subs(param_dict2) )\n",
    "Atest = sym.lambdify(ξ, Asub.subs(param_dict2) )\n",
    "plt.plot(xs, Us, 'b-')\n",
    "plt.plot(xs, Utest(xs), 'k--')\n",
    "plt.plot(xs, As, 'm-')\n",
    "plt.plot(xs, Atest(xs), 'k--')\n",
    "plt.xlim(xs[0], xs[-1])\n",
    "plt.ylim(-.1, 1.1)\n",
    "plt.show()"
   ]
  },
  {
   "cell_type": "code",
   "execution_count": 230,
   "metadata": {},
   "outputs": [
    {
     "data": {
      "image/png": "[encoded data removed]",
      "text/plain": [
       "<Figure size 432x288 with 1 Axes>"
      ]
     },
     "metadata": {
      "needs_background": "light"
     },
     "output_type": "display_data"
    }
   ],
   "source": [
    "c_test = sym.lambdify(x, cond2.subs(c,x).subs(param_dict))\n",
    "cs = np.linspace(1+np.finfo(float).eps, 10, 2001)\n",
    "plt.plot(cs, [c_test(my_c) for my_c in cs],'k')\n",
    "plt.xlim(cs[0], cs[-1])\n",
    "plt.plot(cs, 0*cs, 'k--')\n",
    "plt.show()"
   ]
  },
  {
   "cell_type": "code",
   "execution_count": 231,
   "metadata": {},
   "outputs": [
    {
     "data": {
      "text/plain": [
       "4.067392677681539"
      ]
     },
     "execution_count": 231,
     "metadata": {},
     "output_type": "execute_result"
    }
   ],
   "source": [
    "my_c"
   ]
  },
  {
   "cell_type": "code",
   "execution_count": 233,
   "metadata": {},
   "outputs": [
    {
     "data": {
      "text/latex": [
       "$\\displaystyle 4.30665681913947 + i \\pi$"
      ],
      "text/plain": [
       "4.30665681913947 + I*pi"
      ]
     },
     "execution_count": 233,
     "metadata": {},
     "output_type": "execute_result"
    }
   ],
   "source": [
    "param_dict2[Δ]"
   ]
  },
  {
   "cell_type": "code",
   "execution_count": null,
   "metadata": {},
   "outputs": [],
   "source": []
  }
 ],
 "metadata": {
  "kernelspec": {
   "display_name": "Python 3",
   "language": "python",
   "name": "python3"
  },
  "language_info": {
   "codemirror_mode": {
    "name": "ipython",
    "version": 3
   },
   "file_extension": ".py",
   "mimetype": "text/x-python",
   "name": "python",
   "nbconvert_exporter": "python",
   "pygments_lexer": "ipython3",
   "version": "3.6.9"
  }
 },
 "nbformat": 4,
 "nbformat_minor": 4
}

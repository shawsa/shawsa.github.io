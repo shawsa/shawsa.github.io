{
 "cells": [
  {
   "cell_type": "code",
   "execution_count": 1,
   "metadata": {},
   "outputs": [],
   "source": [
    "%matplotlib inline\n",
    "import matplotlib.pyplot as plt\n",
    "import matplotlib.animation as animation\n",
    "from IPython.display import HTML\n",
    "\n",
    "import numpy as np\n",
    "import numpy.linalg as la\n",
    "from scipy.integrate import RK45\n",
    "\n",
    "import sympy as sym\n",
    "\n",
    "from table_maker import *\n",
    "from functools import partial\n",
    "from itertools import *\n",
    "from math import ceil\n",
    "\n",
    "def cos_bell(x, center=0, width=2*np.pi, height=1):\n",
    "    return (np.cos((x-center)/width*2*np.pi)+1)/2*height * np.heaviside(x-center+width/2,0) * np.heaviside(-x+center+width/2,0)"
   ]
  },
  {
   "cell_type": "code",
   "execution_count": 2,
   "metadata": {},
   "outputs": [],
   "source": [
    "import matplotlib\n",
    "matplotlib.rcParams.update({'font.size': 24})"
   ]
  },
  {
   "cell_type": "markdown",
   "metadata": {},
   "source": [
    "From [Kilpatrick and Bressloff 2010](https://doi.org/10.1016/j.physd.2009.06.003)\n",
    "$$\\begin{align*}\n",
    "    \\mu u_t &= -u + \\int_{-\\infty}^\\infty w(x,x^\\prime) q(x^\\prime,t) f( u(x^\\prime,t) - a(x^\\prime,t)) \\ dx^\\prime \\\\\n",
    "    q_t &= \\frac{1 - q}{\\alpha} - \\beta q f(u - a) \\\\\n",
    "    \\epsilon a_t &= -a + \\gamma f(u - a)\n",
    "\\end{align*}$$"
   ]
  },
  {
   "cell_type": "markdown",
   "metadata": {},
   "source": [
    "Modified version - remove synaptic depression $q$\n",
    "$$\\begin{align*}\n",
    "    \\mu u_t &= -u + \\int_{-\\infty}^\\infty w(x,x^\\prime) f( u(x^\\prime,t) - a(x^\\prime,t)) \\ dx^\\prime \\\\\n",
    "    \\alpha a_t &= -a + \\gamma f(u - a)\n",
    "\\end{align*}$$\n",
    "(note that parameters have been relabeled)"
   ]
  },
  {
   "cell_type": "markdown",
   "metadata": {},
   "source": [
    "# Traveling pulse solution"
   ]
  },
  {
   "cell_type": "markdown",
   "metadata": {},
   "source": [
    "Beginning at (Kilpatrick & Bressloff 2010)[https://www.sciencedirect.com/science/article/abs/pii/S0167278909001833] equations 3.30 and 3.31. We will use the same notation they use (i.e. we will use the $\\alpha$ and $\\epsilon$ they use and substitute back to our notation later."
   ]
  },
  {
   "cell_type": "code",
   "execution_count": 3,
   "metadata": {},
   "outputs": [],
   "source": [
    "import collections.abc\n",
    "def collect_eqn(expr, terms):\n",
    "    if not isinstance(terms, collections.abc.Container):\n",
    "        term = terms # isn't a list or tuple\n",
    "        left, right = 0,0\n",
    "        for my_expr in expr.args:\n",
    "            has_term = False\n",
    "            for my_term in sym.postorder_traversal(my_expr):\n",
    "                if term == my_term:\n",
    "                    has_term = True\n",
    "                    break\n",
    "            if has_term:\n",
    "                left += my_expr\n",
    "            else:\n",
    "                right -= my_expr\n",
    "        return sym.Eq(left, right, evaluate=False)\n",
    "    else: # isn't a list or tuple\n",
    "        left_total, right_total = 0, expr\n",
    "        for term in terms:\n",
    "            left, right = collect_eqn(right_total, term).args\n",
    "            left_total += left\n",
    "            right_total = -right\n",
    "        return sym.Eq(left_total, right_total, evaluate=False)\n",
    "    \n",
    "def my_print(expr):\n",
    "    global eviron_print_tex\n",
    "    if eviron_print_tex:\n",
    "        print('$$' + sym.latex(expr) + '$$')\n",
    "    else:\n",
    "        display(expr)\n",
    "        \n",
    "def batch_print(expr_list, punctuation='.'):\n",
    "    global eviron_print_tex\n",
    "    if eviron_print_tex:\n",
    "        print_str = '$$\\\\begin{align*}\\n'\n",
    "        for expr in expr_list:\n",
    "            print_str += '\\t' + sym.latex(expr).replace('=','&=') + '\\\\\\\\\\n'\n",
    "        # remove last new-line and add ending puncuation\n",
    "        print_str = print_str[:-3] + punctuation + '\\n'\n",
    "        print_str += '\\\\end{align*}$$'\n",
    "        print(print_str)\n",
    "    else:\n",
    "        for expr in expr_list:\n",
    "            display(expr)"
   ]
  },
  {
   "cell_type": "code",
   "execution_count": 5,
   "metadata": {},
   "outputs": [
    {
     "name": "stdout",
     "output_type": "stream",
     "text": [
      "We begin with\n"
     ]
    },
    {
     "data": {
      "text/latex": [
       "$\\displaystyle 0 = K_{0} - K_{1} e^{- \\Delta} - K_{2} e^{- \\Delta} e^{\\frac{\\Delta \\left(- \\alpha \\beta - 1\\right)}{\\alpha c}} - \\theta$"
      ],
      "text/plain": [
       "Eq(0, K_0 - K_1*exp(-\\Delta) - K_2*exp(-\\Delta)*exp(\\Delta*(-\\alpha*\\beta - 1)/(\\alpha*c)) - \\theta)"
      ]
     },
     "metadata": {},
     "output_type": "display_data"
    },
    {
     "data": {
      "text/latex": [
       "$\\displaystyle 0 = L_{0} + L_{1} e^{- \\Delta} + L_{2} e^{\\frac{\\Delta \\left(- \\alpha \\beta - 1\\right)}{\\alpha c}} - L_{3} e^{- \\frac{\\Delta}{c}} + \\gamma e^{- \\frac{\\Delta}{\\epsilon c}} - \\theta$"
      ],
      "text/plain": [
       "Eq(0, L_0 + L_1*exp(-\\Delta) + L_2*exp(\\Delta*(-\\alpha*\\beta - 1)/(\\alpha*c)) - L_3*exp(-\\Delta/c) + \\gamma*exp(-\\Delta/(\\epsilon*c)) - \\theta)"
      ]
     },
     "metadata": {},
     "output_type": "display_data"
    },
    {
     "data": {
      "text/latex": [
       "$\\displaystyle K_{0} = \\frac{\\alpha c + 1}{\\left(2 c + 2\\right) \\left(\\alpha \\beta + \\alpha c + 1\\right)}$"
      ],
      "text/plain": [
       "Eq(K_0, (\\alpha*c + 1)/((2*c + 2)*(\\alpha*\\beta + \\alpha*c + 1)))"
      ]
     },
     "metadata": {},
     "output_type": "display_data"
    },
    {
     "data": {
      "text/latex": [
       "$\\displaystyle K_{1} = \\frac{1}{\\left(2 c + 2\\right) \\left(\\alpha \\beta + 1\\right)}$"
      ],
      "text/plain": [
       "Eq(K_1, 1/((2*c + 2)*(\\alpha*\\beta + 1)))"
      ]
     },
     "metadata": {},
     "output_type": "display_data"
    },
    {
     "data": {
      "text/latex": [
       "$\\displaystyle K_{2} = \\frac{\\alpha^{2} \\beta c}{\\left(2 c + 2\\right) \\left(\\alpha \\beta + 1\\right) \\left(\\alpha \\beta + \\alpha c + 1\\right)}$"
      ],
      "text/plain": [
       "Eq(K_2, \\alpha**2*\\beta*c/((2*c + 2)*(\\alpha*\\beta + 1)*(\\alpha*\\beta + \\alpha*c + 1)))"
      ]
     },
     "metadata": {},
     "output_type": "display_data"
    },
    {
     "data": {
      "text/latex": [
       "$\\displaystyle L_{0} = - \\gamma + \\frac{c + \\frac{1}{2}}{\\left(c + 1\\right) \\left(\\alpha \\beta + 1\\right)}$"
      ],
      "text/plain": [
       "Eq(L_0, -\\gamma + (c + 1/2)/((c + 1)*(\\alpha*\\beta + 1)))"
      ]
     },
     "metadata": {},
     "output_type": "display_data"
    },
    {
     "data": {
      "text/latex": [
       "$\\displaystyle L_{1} = \\frac{\\alpha c - 1}{\\left(2 c - 2\\right) \\left(- \\alpha \\beta + \\alpha c - 1\\right)}$"
      ],
      "text/plain": [
       "Eq(L_1, (\\alpha*c - 1)/((2*c - 2)*(-\\alpha*\\beta + \\alpha*c - 1)))"
      ]
     },
     "metadata": {},
     "output_type": "display_data"
    },
    {
     "data": {
      "text/latex": [
       "$\\displaystyle L_{2} = \\frac{\\alpha^{4} \\beta c^{2}}{\\left(\\alpha \\beta + 1\\right) \\left(\\alpha^{2} c^{2} - \\left(\\alpha \\beta + 1\\right)^{2}\\right) \\left(- \\alpha \\beta + \\alpha - 1\\right)} - \\frac{\\alpha^{2} \\beta c}{2 \\left(c + 1\\right) \\left(\\alpha \\beta + 1\\right) \\left(\\alpha \\beta + \\alpha c + 1\\right)}$"
      ],
      "text/plain": [
       "Eq(L_2, \\alpha**4*\\beta*c**2/((\\alpha*\\beta + 1)*(\\alpha**2*c**2 - (\\alpha*\\beta + 1)**2)*(-\\alpha*\\beta + \\alpha - 1)) - \\alpha**2*\\beta*c/(2*(c + 1)*(\\alpha*\\beta + 1)*(\\alpha*\\beta + \\alpha*c + 1)))"
      ]
     },
     "metadata": {},
     "output_type": "display_data"
    },
    {
     "data": {
      "text/latex": [
       "$\\displaystyle L_{3} = \\frac{\\frac{\\alpha^{4} \\beta c^{2}}{\\left(\\alpha^{2} c^{2} - \\left(\\alpha \\beta + 1\\right)^{2}\\right) \\left(- \\alpha \\beta + \\alpha - 1\\right)} + 1}{\\alpha \\beta + 1} + \\frac{\\alpha^{2} c^{2} \\left(\\beta + 1\\right) - \\alpha \\beta - 1}{\\left(c^{2} - 1\\right) \\left(\\alpha^{2} c^{2} - \\left(\\alpha \\beta + 1\\right)^{2}\\right)}$"
      ],
      "text/plain": [
       "Eq(L_3, (\\alpha**4*\\beta*c**2/((\\alpha**2*c**2 - (\\alpha*\\beta + 1)**2)*(-\\alpha*\\beta + \\alpha - 1)) + 1)/(\\alpha*\\beta + 1) + (\\alpha**2*c**2*(\\beta + 1) - \\alpha*\\beta - 1)/((c**2 - 1)*(\\alpha**2*c**2 - (\\alpha*\\beta + 1)**2)))"
      ]
     },
     "metadata": {},
     "output_type": "display_data"
    },
    {
     "name": "stdout",
     "output_type": "stream",
     "text": [
      "Then set $\\beta=0$ to obtain\n"
     ]
    },
    {
     "data": {
      "text/latex": [
       "$\\displaystyle 0 = K_{0} - K_{1} e^{- \\Delta} - K_{2} e^{- \\Delta} e^{- \\frac{\\Delta}{\\alpha c}} - \\theta$"
      ],
      "text/plain": [
       "Eq(0, K_0 - K_1*exp(-\\Delta) - K_2*exp(-\\Delta)*exp(-\\Delta/(\\alpha*c)) - \\theta)"
      ]
     },
     "metadata": {},
     "output_type": "display_data"
    },
    {
     "data": {
      "text/latex": [
       "$\\displaystyle 0 = L_{0} + L_{1} e^{- \\Delta} + L_{2} e^{- \\frac{\\Delta}{\\alpha c}} - L_{3} e^{- \\frac{\\Delta}{c}} + \\gamma e^{- \\frac{\\Delta}{\\epsilon c}} - \\theta$"
      ],
      "text/plain": [
       "Eq(0, L_0 + L_1*exp(-\\Delta) + L_2*exp(-\\Delta/(\\alpha*c)) - L_3*exp(-\\Delta/c) + \\gamma*exp(-\\Delta/(\\epsilon*c)) - \\theta)"
      ]
     },
     "metadata": {},
     "output_type": "display_data"
    },
    {
     "data": {
      "text/latex": [
       "$\\displaystyle K_{0} = \\frac{1}{2 \\left(c + 1\\right)}$"
      ],
      "text/plain": [
       "Eq(K_0, 1/(2*(c + 1)))"
      ]
     },
     "metadata": {},
     "output_type": "display_data"
    },
    {
     "data": {
      "text/latex": [
       "$\\displaystyle K_{1} = \\frac{1}{2 c + 2}$"
      ],
      "text/plain": [
       "Eq(K_1, 1/(2*c + 2))"
      ]
     },
     "metadata": {},
     "output_type": "display_data"
    },
    {
     "data": {
      "text/latex": [
       "$\\displaystyle K_{2} = 0$"
      ],
      "text/plain": [
       "Eq(K_2, 0)"
      ]
     },
     "metadata": {},
     "output_type": "display_data"
    },
    {
     "data": {
      "text/latex": [
       "$\\displaystyle L_{0} = - \\gamma + \\frac{c + \\frac{1}{2}}{c + 1}$"
      ],
      "text/plain": [
       "Eq(L_0, -\\gamma + (c + 1/2)/(c + 1))"
      ]
     },
     "metadata": {},
     "output_type": "display_data"
    },
    {
     "data": {
      "text/latex": [
       "$\\displaystyle L_{1} = \\frac{1}{2 c - 2}$"
      ],
      "text/plain": [
       "Eq(L_1, 1/(2*c - 2))"
      ]
     },
     "metadata": {},
     "output_type": "display_data"
    },
    {
     "data": {
      "text/latex": [
       "$\\displaystyle L_{2} = 0$"
      ],
      "text/plain": [
       "Eq(L_2, 0)"
      ]
     },
     "metadata": {},
     "output_type": "display_data"
    },
    {
     "data": {
      "text/latex": [
       "$\\displaystyle L_{3} = 1 + \\frac{1}{c^{2} - 1}$"
      ],
      "text/plain": [
       "Eq(L_3, 1 + 1/(c**2 - 1))"
      ]
     },
     "metadata": {},
     "output_type": "display_data"
    },
    {
     "name": "stdout",
     "output_type": "stream",
     "text": [
      "Substituting, we find\n"
     ]
    },
    {
     "data": {
      "text/latex": [
       "$\\displaystyle 0 = - \\theta c - \\theta + \\frac{1}{2} - \\frac{e^{- \\Delta}}{2}$"
      ],
      "text/plain": [
       "Eq(0, -\\theta*c - \\theta + 1/2 - exp(-\\Delta)/2)"
      ]
     },
     "metadata": {},
     "output_type": "display_data"
    },
    {
     "data": {
      "text/latex": [
       "$\\displaystyle 0 = - \\gamma c^{2} + \\gamma c^{2} e^{- \\frac{\\Delta}{\\epsilon c}} + \\gamma - \\gamma e^{- \\frac{\\Delta}{\\epsilon c}} - \\theta c^{2} + \\theta + c^{2} - c^{2} e^{- \\frac{\\Delta}{c}} - \\frac{c}{2} + \\frac{c e^{- \\Delta}}{2} - \\frac{1}{2} + \\frac{e^{- \\Delta}}{2}$"
      ],
      "text/plain": [
       "Eq(0, -\\gamma*c**2 + \\gamma*c**2*exp(-\\Delta/(\\epsilon*c)) + \\gamma - \\gamma*exp(-\\Delta/(\\epsilon*c)) - \\theta*c**2 + \\theta + c**2 - c**2*exp(-\\Delta/c) - c/2 + c*exp(-\\Delta)/2 - 1/2 + exp(-\\Delta)/2)"
      ]
     },
     "metadata": {},
     "output_type": "display_data"
    },
    {
     "name": "stdout",
     "output_type": "stream",
     "text": [
      "Simplifing, we arrive at the following system of equations\n"
     ]
    },
    {
     "data": {
      "text/latex": [
       "$\\displaystyle c = -1 + \\frac{1}{2 \\theta} - \\frac{e^{- \\Delta}}{2 \\theta}$"
      ],
      "text/plain": [
       "Eq(c, -1 + 1/(2*\\theta) - exp(-\\Delta)/(2*\\theta))"
      ]
     },
     "metadata": {},
     "output_type": "display_data"
    },
    {
     "data": {
      "text/latex": [
       "$\\displaystyle 0 = c^{2} \\left(1 - e^{- \\frac{\\Delta}{c}}\\right) - \\frac{\\left(1 - e^{- \\Delta}\\right) \\left(c + 1\\right)}{2} - \\left(c^{2} - 1\\right) \\left(\\gamma \\left(1 - e^{- \\frac{\\Delta}{\\epsilon c}}\\right) + \\theta\\right)$"
      ],
      "text/plain": [
       "Eq(0, c**2*(1 - exp(-\\Delta/c)) - (1 - exp(-\\Delta))*(c + 1)/2 - (c**2 - 1)*(\\gamma*(1 - exp(-\\Delta/(\\epsilon*c))) + \\theta))"
      ]
     },
     "metadata": {},
     "output_type": "display_data"
    },
    {
     "name": "stdout",
     "output_type": "stream",
     "text": [
      "Making the substitution\n"
     ]
    },
    {
     "data": {
      "text/latex": [
       "$\\displaystyle E = e^{- \\Delta}$"
      ],
      "text/plain": [
       "Eq(E, exp(-\\Delta))"
      ]
     },
     "metadata": {},
     "output_type": "display_data"
    },
    {
     "name": "stdout",
     "output_type": "stream",
     "text": [
      "we then have\n"
     ]
    },
    {
     "data": {
      "text/latex": [
       "$\\displaystyle 0 = - \\frac{E}{2 \\theta} - c - 1 + \\frac{1}{2 \\theta}$"
      ],
      "text/plain": [
       "Eq(0, -E/(2*\\theta) - c - 1 + 1/(2*\\theta))"
      ]
     },
     "metadata": {},
     "output_type": "display_data"
    },
    {
     "data": {
      "text/latex": [
       "$\\displaystyle 0 = - E^{\\frac{1}{c}} + \\frac{\\left(E - 1\\right) \\left(c + 1\\right)}{2} + \\left(c^{2} - 1\\right) \\left(- E^{\\frac{1}{c}} + \\gamma \\left(E^{\\frac{1}{\\epsilon c}} - 1\\right) - \\theta + 1\\right) + 1$"
      ],
      "text/plain": [
       "Eq(0, -E**(1/c) + (E - 1)*(c + 1)/2 + (c**2 - 1)*(-E**(1/c) + \\gamma*(E**(1/(\\epsilon*c)) - 1) - \\theta + 1) + 1)"
      ]
     },
     "metadata": {},
     "output_type": "display_data"
    },
    {
     "name": "stdout",
     "output_type": "stream",
     "text": [
      "In our notation, we replace $\\epsilon \\to 1/\\alpha$ to obtain\n"
     ]
    },
    {
     "data": {
      "text/latex": [
       "$\\displaystyle E = e^{- \\Delta}$"
      ],
      "text/plain": [
       "Eq(E, exp(-\\Delta))"
      ]
     },
     "metadata": {},
     "output_type": "display_data"
    },
    {
     "data": {
      "text/latex": [
       "$\\displaystyle 0 = - \\frac{E}{2 \\theta} - c - 1 + \\frac{1}{2 \\theta}$"
      ],
      "text/plain": [
       "Eq(0, -E/(2*\\theta) - c - 1 + 1/(2*\\theta))"
      ]
     },
     "metadata": {},
     "output_type": "display_data"
    },
    {
     "data": {
      "text/latex": [
       "$\\displaystyle 0 = - E^{\\frac{1}{c}} + \\frac{\\left(E - 1\\right) \\left(c + 1\\right)}{2} + \\left(c^{2} - 1\\right) \\left(- E^{\\frac{1}{c}} + \\gamma \\left(E^{\\frac{\\alpha}{c}} - 1\\right) - \\theta + 1\\right) + 1$"
      ],
      "text/plain": [
       "Eq(0, -E**(1/c) + (E - 1)*(c + 1)/2 + (c**2 - 1)*(-E**(1/c) + \\gamma*(E**(\\alpha/c) - 1) - \\theta + 1) + 1)"
      ]
     },
     "metadata": {},
     "output_type": "display_data"
    }
   ],
   "source": [
    "# eviron_print_tex = True\n",
    "eviron_print_tex = False\n",
    "\n",
    "c, Δ, α, β, ϵ, γ, θ = sym.symbols('c \\\\Delta \\\\alpha \\\\beta \\\\epsilon \\\\gamma \\\\theta', real=True)\n",
    "\n",
    "one_plus = 1+α*β\n",
    "cα = c*α\n",
    "\n",
    "K0 = (c*α + 1)/( 2*(c+1)*(cα + one_plus) )\n",
    "K1 = 1/ (2*(c+1)*one_plus)\n",
    "K2 = β*c*α**2 / ( 2 * (c+1) * one_plus * (c*α + one_plus) )\n",
    "\n",
    "L0 = (2*c+1) / 2 / (c+1) / one_plus - γ\n",
    "L1 = (c*α - 1) / ( 2 * (c-1) * (cα - one_plus) )\n",
    "L2 = β*c**2*α**4 / one_plus / (cα**2 - one_plus**2) / (α - one_plus) - β*c*α**2 / 2 / (c+1) / one_plus / (cα + one_plus)\n",
    "L3 = 1/one_plus * ( 1 + β*c**2*α**4 / (cα**2 - one_plus**2) / (α - one_plus) ) + (cα**2*(1+β) - one_plus) / (c**2 - 1) / (cα**2 - one_plus**2)\n",
    "\n",
    "# symbolic values for printing purposes\n",
    "symK0, symK1, symK2, symL0, symL1, symL2, symL3 = sym.symbols('K_0 K_1 K_2 L_0 L_1 L_2 L_3')\n",
    "\n",
    "expr1 = -θ + symK0 - symK1*sym.exp(-Δ) - symK2*sym.exp(-one_plus*Δ/cα)*sym.exp(-Δ)\n",
    "expr2 = -θ + symL0 + symL1*sym.exp(-Δ) + symL2*sym.exp(-one_plus*Δ/cα) - symL3*sym.exp(-Δ/c) + γ*sym.exp(-Δ/(c*ϵ))\n",
    "\n",
    "sym_pairs = [[0, expr1], [0, expr2], [symK0, K0], [symK1, K1], [symK2, K2], [symL0, L0], [symL1, L1], [symL2, L2], [symL3, L3]]\n",
    "\n",
    "print('We begin with')\n",
    "batch_print([ sym.Eq(symvar, var) for symvar, var in sym_pairs ])\n",
    "    \n",
    "print('Then set $\\\\beta=0$ to obtain')\n",
    "\n",
    "sub_var , sub_to = β, 0\n",
    "K0 = sym.simplify(K0.subs(sub_var, sub_to))\n",
    "K1 = K1.subs(sub_var, sub_to)\n",
    "K2 = K2.subs(sub_var, sub_to)\n",
    "L0 = L0.subs(sub_var, sub_to)\n",
    "L1 = L1.subs(sub_var, sub_to)\n",
    "L2 = L2.subs(sub_var, sub_to)\n",
    "L3 = L3.subs(sub_var, sub_to)\n",
    "expr1 = expr1.subs(sub_var, sub_to)\n",
    "expr2 = expr2.subs(sub_var, sub_to)\n",
    "sym_pairs = [[0, expr1], [0, expr2], [symK0, K0], [symK1, K1], [symK2, K2], [symL0, L0], [symL1, L1], [symL2, L2], [symL3, L3]]\n",
    "\n",
    "batch_print([ sym.Eq(symvar, var) for symvar, var in sym_pairs ])\n",
    "    \n",
    "print('Substituting, we find')\n",
    "for var, val in sym_pairs[2:]:\n",
    "    expr1 = expr1.subs(var, val)\n",
    "    expr2 = expr2.subs(var, val)\n",
    "expr1 = sym.simplify(expr1 * (c+1))\n",
    "expr2 = sym.simplify(expr2 * (c+1) * (c-1))\n",
    "expr2 = sym.simplify(sym.expand(expr2))\n",
    "sym_pairs = [[0, expr1], [0, expr2], [symK0, K0], [symK1, K1], [symK2, K2], [symL0, L0], [symL1, L1], [symL2, L2], [symL3, L3]]\n",
    "batch_print([ sym.Eq(symvar, var) for symvar, var in sym_pairs[:2] ])\n",
    "\n",
    "print('Simplifing, we arrive at the following system of equations')\n",
    "c_sub = sym.solve(expr1, c)[0]\n",
    "expr1 = -c + c_sub\n",
    "\n",
    "Eceps = 1 - sym.exp(-Δ/(c*ϵ))\n",
    "Ec = 1 - sym.exp(-Δ/c)\n",
    "E = 1 - sym.exp(-Δ)\n",
    "expr3 = c**2 * Ec - (c**2 - 1) * (γ* Eceps + θ) - (c+1) * E * sym.Rational(1,2)\n",
    "assert expr3.expand() - expr2.expand() == 0\n",
    "expr2 = expr3\n",
    "\n",
    "batch_print([sym.Eq(c, expr1+c), sym.Eq(0, expr3)])\n",
    "\n",
    "print('Making the substitution')\n",
    "E = sym.symbols('E')\n",
    "my_print(sym.Eq(E, sym.exp(-Δ)))\n",
    "print('we then have')\n",
    "expr3 = expr1.subs(sym.exp(-Δ), E)\n",
    "assert expr3.subs(E, sym.exp(-Δ)) - expr1 == 0\n",
    "expr1 = expr3\n",
    "expr3 = expr2.subs(sym.exp(-Δ), E).subs(sym.exp(-Δ/c), E**(1/c)).subs(sym.exp(-Δ/(ϵ*c)), E**(1/(ϵ*c)))\n",
    "assert expr3.subs(E, sym.exp(-Δ)) - expr2 == 0\n",
    "expr2 = expr3.expand().collect(c)\n",
    "\n",
    "# factor more\n",
    "expr3 = (c**2-1) * (γ*(E**(1/(ϵ*c)) - 1) + 1 - E**(1/c) - θ) + 1 - E**(1/c) + (c+1)*(E-1)/2\n",
    "assert (expr3 - expr2).expand() == 0\n",
    "expr2 = expr3\n",
    "\n",
    "sym_pairs = [[0, expr1], [0, expr2], [symK0, K0], [symK1, K1], [symK2, K2], [symL0, L0], [symL1, L1], [symL2, L2], [symL3, L3]]\n",
    "batch_print([ sym.Eq(0, expr1), sym.Eq(0, expr2) ])\n",
    "\n",
    "print('In our notation, we replace $\\\\epsilon \\\\to 1/\\\\alpha$ to obtain')\n",
    "batch_print([ sym.Eq(E, sym.exp(-Δ)), sym.Eq(0, expr1), sym.Eq(0, expr2.subs(ϵ,1/α)) ])\n"
   ]
  },
  {
   "cell_type": "code",
   "execution_count": null,
   "metadata": {},
   "outputs": [],
   "source": []
  }
 ],
 "metadata": {
  "kernelspec": {
   "display_name": "Python 3",
   "language": "python",
   "name": "python3"
  },
  "language_info": {
   "codemirror_mode": {
    "name": "ipython",
    "version": 3
   },
   "file_extension": ".py",
   "mimetype": "text/x-python",
   "name": "python",
   "nbconvert_exporter": "python",
   "pygments_lexer": "ipython3",
   "version": "3.6.9"
  }
 },
 "nbformat": 4,
 "nbformat_minor": 4
}

{
 "cells": [
  {
   "cell_type": "code",
   "execution_count": 1,
   "metadata": {},
   "outputs": [],
   "source": [
    "%matplotlib inline\n",
    "import matplotlib.pyplot as plt\n",
    "import matplotlib.animation as animation\n",
    "from IPython.display import HTML\n",
    "\n",
    "import numpy as np\n",
    "import numpy.linalg as la\n",
    "from scipy.integrate import RK45\n",
    "\n",
    "import sympy as sym\n",
    "# Heaviside numerics workaround\n",
    "sympy_modules = [{'Heaviside': lambda x: np.heaviside(x,0.5)}, 'numpy']\n",
    "\n",
    "from table_maker import *\n",
    "from functools import partial, reduce\n",
    "from itertools import *\n",
    "from math import ceil\n",
    "\n",
    "import pickle\n",
    "\n",
    "def cos_bell(x, center=0, width=2*np.pi, height=1):\n",
    "    return (np.cos((x-center)/width*2*np.pi)+1)/2*height * np.heaviside(x-center+width/2,0) * np.heaviside(-x+center+width/2,0)\n",
    "\n",
    "import collections.abc\n",
    "def collect_eqn(expr, terms):\n",
    "    if not isinstance(terms, collections.abc.Container):\n",
    "        term = terms # isn't a list or tuple\n",
    "        left, right = 0,0\n",
    "        for my_expr in expr.args:\n",
    "            has_term = False\n",
    "            for my_term in sym.postorder_traversal(my_expr):\n",
    "                if term == my_term:\n",
    "                    has_term = True\n",
    "                    break\n",
    "            if has_term:\n",
    "                left += my_expr\n",
    "            else:\n",
    "                right -= my_expr\n",
    "        return sym.Eq(left, right, evaluate=False)\n",
    "    else: # isn't a list or tuple\n",
    "        left_total, right_total = 0, expr\n",
    "        for term in terms:\n",
    "            left, right = collect_eqn(right_total, term).args\n",
    "            left_total += left\n",
    "            right_total = -right\n",
    "        return sym.Eq(left_total, right_total, evaluate=False)\n",
    "    \n",
    "def my_print(expr):\n",
    "    global eviron_print_tex\n",
    "    if eviron_print_tex:\n",
    "        print('$$' + sym.latex(expr) + '$$')\n",
    "    else:\n",
    "        display(expr)\n",
    "        \n",
    "def batch_print(expr_list, punctuation='.', return_string=False):\n",
    "    global eviron_print_tex\n",
    "    if eviron_print_tex:\n",
    "        print_str = '$$\\\\begin{align*}\\n'\n",
    "        for expr in expr_list:\n",
    "            print_str += '\\t' + sym.latex(expr).replace('=','&=') + '\\\\\\\\\\n'\n",
    "        # remove last new-line and add ending puncuation\n",
    "        print_str = print_str[:-3] + punctuation + '\\n'\n",
    "        print_str += '\\\\end{align*}$$'\n",
    "        if return_string:\n",
    "            return print_str\n",
    "        else:\n",
    "            print(print_str)\n",
    "    else:\n",
    "        for expr in expr_list:\n",
    "            display(expr)\n",
    "            \n",
    "def py_code(expr, replace_numpy=True, replace_unicode=True, numpy_package='np.'):\n",
    "    code = sym.ccode(expr)\n",
    "    \n",
    "    if replace_unicode:\n",
    "        unicode_replacements = [\n",
    "            ('\\\\alpha', 'α'),\n",
    "            ('\\\\beta', 'β'),\n",
    "            ('\\\\gamma', 'γ'),\n",
    "            ('\\\\Gamma', 'Γ'),\n",
    "            ('\\\\delta', 'δ'),\n",
    "            ('\\\\Delta', 'Δ'),\n",
    "            ('\\\\epsilon', 'ϵ'),\n",
    "            ('\\\\zeta', 'ζ'),\n",
    "            ('\\\\eta', 'η'),\n",
    "            ('\\\\theta', 'θ'),\n",
    "            ('\\\\xi', 'ξ'),\n",
    "            ('\\\\mu', 'μ')\n",
    "        ]\n",
    "        for unicode, symbol in unicode_replacements:\n",
    "            code = code.replace(unicode, symbol)\n",
    "    \n",
    "    if replace_numpy:\n",
    "        numpy_replacements = [\n",
    "            ('exp', numpy_package + 'exp'),\n",
    "            ('log', numpy_package + 'log'),\n",
    "            ('pow', '( lambda base, exponent: base**exponent )'),\n",
    "            ('Heaviside', '(lambda input: np.heaviside(input,0.5))')\n",
    "        ]\n",
    "        for c_func, np_func in numpy_replacements:\n",
    "            code = code.replace(c_func, np_func)\n",
    "        \n",
    "    return code"
   ]
  },
  {
   "cell_type": "code",
   "execution_count": 2,
   "metadata": {},
   "outputs": [],
   "source": [
    "import matplotlib\n",
    "matplotlib.rcParams.update({'font.size': 24})"
   ]
  },
  {
   "cell_type": "code",
   "execution_count": 15,
   "metadata": {},
   "outputs": [],
   "source": [
    "ξ, t, x, y = sym.symbols('\\\\xi t x y', real=True)\n",
    "c, μ, α, γ, ϵ = sym.symbols('c \\\\mu \\\\alpha \\\\gamma \\\\epsilon', real=True, positive=True)\n",
    "ν = sym.Function('\\\\nu')(t)\n",
    "U = sym.Function('U')(ξ)\n",
    "u1 = sym.Function('u1')(ξ, t)\n",
    "u = sym.Function('u')(ξ, t)\n",
    "\n",
    "w = sym.Function('w')\n",
    "f = sym.Function('f')\n",
    "F = sym.Integral(w(ξ,y)*f(u.subs(ξ,y)-a.subs(ξ,y)), (y, -sym.oo, sym.oo))\n",
    "usub = U.subs(ξ, ξ-ϵ*ν) + ϵ*u1 + sym.O(ϵ**2)\n",
    "a = sym.Function('a')(ξ, t)"
   ]
  },
  {
   "cell_type": "code",
   "execution_count": 17,
   "metadata": {},
   "outputs": [
    {
     "data": {
      "text/latex": [
       "$\\displaystyle \\mu c \\frac{\\partial}{\\partial \\xi} u{\\left(\\xi,t \\right)} - \\mu \\frac{\\partial}{\\partial t} u{\\left(\\xi,t \\right)} - \\int\\limits_{-\\infty}^{\\infty} f{\\left(- a{\\left(y,t \\right)} + u{\\left(y,t \\right)} \\right)} w{\\left(\\xi,y \\right)}\\, dy$"
      ],
      "text/plain": [
       "\\mu*c*Derivative(u(\\xi, t), \\xi) - \\mu*Derivative(u(\\xi, t), t) - Integral(f(-a(y, t) + u(y, t))*w(\\xi, y), (y, -oo, oo))"
      ]
     },
     "execution_count": 17,
     "metadata": {},
     "output_type": "execute_result"
    }
   ],
   "source": [
    "eqn1 = c*μ*u.diff(ξ) - μ*u.diff(t) - F\n",
    "eqn1"
   ]
  },
  {
   "cell_type": "code",
   "execution_count": 22,
   "metadata": {},
   "outputs": [
    {
     "data": {
      "text/latex": [
       "$\\displaystyle \\epsilon \\left(\\mu c \\frac{\\partial}{\\partial \\xi} \\operatorname{u_{1}}{\\left(\\xi,t \\right)} + \\mu \\frac{d}{d t} \\nu{\\left(t \\right)} \\left. \\frac{d}{d \\xi_{1}} U{\\left(\\xi_{1} \\right)} \\right|_{\\substack{ \\xi_{1}=- \\epsilon \\nu{\\left(t \\right)} + \\xi }} - \\mu \\frac{\\partial}{\\partial t} \\operatorname{u_{1}}{\\left(\\xi,t \\right)}\\right) + \\mu c \\left. \\frac{d}{d \\xi_{1}} U{\\left(\\xi_{1} \\right)} \\right|_{\\substack{ \\xi_{1}=- \\epsilon \\nu{\\left(t \\right)} + \\xi }} - \\int\\limits_{-\\infty}^{\\infty} f{\\left(- a{\\left(y,t \\right)} + u{\\left(y,t \\right)} \\right)} w{\\left(\\xi,y \\right)}\\, dy$"
      ],
      "text/plain": [
       "\\epsilon*(\\mu*c*Derivative(u1(\\xi, t), \\xi) + \\mu*Derivative(\\nu(t), t)*Subs(Derivative(U(_xi_1), _xi_1), _xi_1, -\\epsilon*\\nu(t) + \\xi) - \\mu*Derivative(u1(\\xi, t), t)) + \\mu*c*Subs(Derivative(U(_xi_1), _xi_1), _xi_1, -\\epsilon*\\nu(t) + \\xi) - Integral(f(-a(y, t) + u(y, t))*w(\\xi, y), (y, -oo, oo))"
      ]
     },
     "execution_count": 22,
     "metadata": {},
     "output_type": "execute_result"
    }
   ],
   "source": [
    "test = eqn1.subs(u, usub).doit().expand().collect(ϵ)\n",
    "test"
   ]
  },
  {
   "cell_type": "code",
   "execution_count": 23,
   "metadata": {},
   "outputs": [
    {
     "data": {
      "text/latex": [
       "$\\displaystyle \\mu c \\frac{\\partial}{\\partial \\xi} \\operatorname{u_{1}}{\\left(\\xi,t \\right)} + \\mu \\frac{d}{d t} \\nu{\\left(t \\right)} \\left. \\frac{d}{d \\xi_{1}} U{\\left(\\xi_{1} \\right)} \\right|_{\\substack{ \\xi_{1}=- \\epsilon \\nu{\\left(t \\right)} + \\xi }} - \\mu \\frac{\\partial}{\\partial t} \\operatorname{u_{1}}{\\left(\\xi,t \\right)}$"
      ],
      "text/plain": [
       "\\mu*c*Derivative(u1(\\xi, t), \\xi) + \\mu*Derivative(\\nu(t), t)*Subs(Derivative(U(_xi_1), _xi_1), _xi_1, -\\epsilon*\\nu(t) + \\xi) - \\mu*Derivative(u1(\\xi, t), t)"
      ]
     },
     "execution_count": 23,
     "metadata": {},
     "output_type": "execute_result"
    }
   ],
   "source": [
    "test.coeff(ϵ)"
   ]
  },
  {
   "cell_type": "code",
   "execution_count": null,
   "metadata": {},
   "outputs": [],
   "source": []
  }
 ],
 "metadata": {
  "kernelspec": {
   "display_name": "Python 3",
   "language": "python",
   "name": "python3"
  },
  "language_info": {
   "codemirror_mode": {
    "name": "ipython",
    "version": 3
   },
   "file_extension": ".py",
   "mimetype": "text/x-python",
   "name": "python",
   "nbconvert_exporter": "python",
   "pygments_lexer": "ipython3",
   "version": "3.6.9"
  }
 },
 "nbformat": 4,
 "nbformat_minor": 4
}

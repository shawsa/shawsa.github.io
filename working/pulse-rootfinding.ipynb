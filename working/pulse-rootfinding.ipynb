{
 "cells": [
  {
   "cell_type": "code",
   "execution_count": 1,
   "metadata": {
    "jupyter": {
     "source_hidden": true
    },
    "tags": []
   },
   "outputs": [],
   "source": [
    "%matplotlib inline\n",
    "import matplotlib.pyplot as plt\n",
    "import matplotlib.animation as animation\n",
    "from IPython.display import HTML\n",
    "\n",
    "import numpy as np\n",
    "import numpy.linalg as la\n",
    "from scipy.integrate import RK45\n",
    "\n",
    "import sympy as sym\n",
    "\n",
    "from table_maker import *\n",
    "from functools import partial\n",
    "from itertools import *\n",
    "from math import ceil\n",
    "\n",
    "import pickle\n",
    "\n",
    "def cos_bell(x, center=0, width=2*np.pi, height=1):\n",
    "    return (np.cos((x-center)/width*2*np.pi)+1)/2*height * np.heaviside(x-center+width/2,0) * np.heaviside(-x+center+width/2,0)"
   ]
  },
  {
   "cell_type": "code",
   "execution_count": 2,
   "metadata": {
    "jupyter": {
     "source_hidden": true
    },
    "tags": []
   },
   "outputs": [],
   "source": [
    "import matplotlib\n",
    "matplotlib.rcParams.update({'font.size': 24})"
   ]
  },
  {
   "cell_type": "markdown",
   "metadata": {},
   "source": [
    "From [Kilpatrick and Bressloff 2010](https://doi.org/10.1016/j.physd.2009.06.003)\n",
    "$$\\begin{align*}\n",
    "    \\mu u_t &= -u + \\int_{-\\infty}^\\infty w(x,x^\\prime) q(x^\\prime,t) f( u(x^\\prime,t) - a(x^\\prime,t)) \\ dx^\\prime \\\\\n",
    "    q_t &= \\frac{1 - q}{\\alpha} - \\beta q f(u - a) \\\\\n",
    "    \\epsilon a_t &= -a + \\gamma f(u - a)\n",
    "\\end{align*}$$"
   ]
  },
  {
   "cell_type": "markdown",
   "metadata": {},
   "source": [
    "Modified version - remove synaptic depression $q$\n",
    "$$\\begin{align*}\n",
    "    \\mu u_t &= -u + \\int_{-\\infty}^\\infty w(x,x^\\prime) f( u(x^\\prime,t) - a(x^\\prime,t)) \\ dx^\\prime \\\\\n",
    "    \\alpha a_t &= -a + \\gamma f(u - a)\n",
    "\\end{align*}$$\n",
    "(note that parameters have been relabeled)"
   ]
  },
  {
   "cell_type": "markdown",
   "metadata": {},
   "source": [
    "# Traveling pulse solution"
   ]
  },
  {
   "cell_type": "markdown",
   "metadata": {},
   "source": [
    "Beginning at (Kilpatrick & Bressloff 2010)[https://www.sciencedirect.com/science/article/abs/pii/S0167278909001833] equations 3.30 and 3.31. We will use the same notation they use (i.e. we will use the $\\alpha$ and $\\epsilon$ they use and substitute back to our notation later."
   ]
  },
  {
   "cell_type": "code",
   "execution_count": 16,
   "metadata": {
    "jupyter": {
     "source_hidden": true
    },
    "tags": []
   },
   "outputs": [],
   "source": [
    "import collections.abc\n",
    "def collect_eqn(expr, terms):\n",
    "    if not isinstance(terms, collections.abc.Container):\n",
    "        term = terms # isn't a list or tuple\n",
    "        left, right = 0,0\n",
    "        for my_expr in expr.args:\n",
    "            has_term = False\n",
    "            for my_term in sym.postorder_traversal(my_expr):\n",
    "                if term == my_term:\n",
    "                    has_term = True\n",
    "                    break\n",
    "            if has_term:\n",
    "                left += my_expr\n",
    "            else:\n",
    "                right -= my_expr\n",
    "        return sym.Eq(left, right, evaluate=False)\n",
    "    else: # isn't a list or tuple\n",
    "        left_total, right_total = 0, expr\n",
    "        for term in terms:\n",
    "            left, right = collect_eqn(right_total, term).args\n",
    "            left_total += left\n",
    "            right_total = -right\n",
    "        return sym.Eq(left_total, right_total, evaluate=False)\n",
    "    \n",
    "def my_print(expr):\n",
    "    global eviron_print_tex\n",
    "    if eviron_print_tex:\n",
    "        print('$$' + sym.latex(expr) + '$$')\n",
    "    else:\n",
    "        display(expr)\n",
    "        \n",
    "def batch_print(expr_list, punctuation='.'):\n",
    "    global eviron_print_tex\n",
    "    if eviron_print_tex:\n",
    "        print_str = '$$\\\\begin{align*}\\n'\n",
    "        for expr in expr_list:\n",
    "            print_str += '\\t' + sym.latex(expr).replace('=','&=') + '\\\\\\\\\\n'\n",
    "        # remove last new-line and add ending puncuation\n",
    "        print_str = print_str[:-3] + punctuation + '\\n'\n",
    "        print_str += '\\\\end{align*}$$'\n",
    "        print(print_str)\n",
    "    else:\n",
    "        for expr in expr_list:\n",
    "            display(expr)\n",
    "            \n",
    "def py_code(expr, replace_numpy=True, replace_unicode=True, numpy_package='np.'):\n",
    "    code = sym.ccode(expr)\n",
    "    \n",
    "    if replace_unicode:\n",
    "        unicode_replacements = [\n",
    "            ('\\\\alpha', 'α'),\n",
    "            ('\\\\beta', 'β'),\n",
    "            ('\\\\gamma', 'γ'),\n",
    "            ('\\\\Gamma', 'Γ'),\n",
    "            ('\\\\delta', 'δ'),\n",
    "            ('\\\\Delta', 'Δ'),\n",
    "            ('\\\\epsilon', 'ϵ'),\n",
    "            ('\\\\zeta', 'ζ'),\n",
    "            ('\\\\eta', 'η'),\n",
    "            ('\\\\theta', 'θ'),\n",
    "            \n",
    "        ]\n",
    "        for unicode, symbol in unicode_replacements:\n",
    "            code = code.replace(unicode, symbol)\n",
    "    \n",
    "    if replace_numpy:\n",
    "        numpy_replacements = [\n",
    "            ('exp', numpy_package + 'exp'),\n",
    "            ('log', numpy_package + 'log'),\n",
    "            ('pow', '( lambda base, exponent: base**exponent )')\n",
    "        ]\n",
    "        for c_func, np_func in numpy_replacements:\n",
    "            code = code.replace(c_func, np_func)\n",
    "        \n",
    "    return code"
   ]
  },
  {
   "cell_type": "code",
   "execution_count": 17,
   "metadata": {},
   "outputs": [
    {
     "name": "stdout",
     "output_type": "stream",
     "text": [
      "We begin with\n"
     ]
    },
    {
     "data": {
      "text/latex": [
       "$\\displaystyle 0 = K_{0} - K_{1} e^{- \\Delta} - K_{2} e^{- \\Delta} e^{\\frac{\\Delta \\left(- \\alpha \\beta - 1\\right)}{\\alpha c}} - \\theta$"
      ],
      "text/plain": [
       "Eq(0, K_0 - K_1*exp(-\\Delta) - K_2*exp(-\\Delta)*exp(\\Delta*(-\\alpha*\\beta - 1)/(\\alpha*c)) - \\theta)"
      ]
     },
     "metadata": {},
     "output_type": "display_data"
    },
    {
     "data": {
      "text/latex": [
       "$\\displaystyle 0 = L_{0} + L_{1} e^{- \\Delta} + L_{2} e^{\\frac{\\Delta \\left(- \\alpha \\beta - 1\\right)}{\\alpha c}} - L_{3} e^{- \\frac{\\Delta}{c}} + \\gamma e^{- \\frac{\\Delta}{\\epsilon c}} - \\theta$"
      ],
      "text/plain": [
       "Eq(0, L_0 + L_1*exp(-\\Delta) + L_2*exp(\\Delta*(-\\alpha*\\beta - 1)/(\\alpha*c)) - L_3*exp(-\\Delta/c) + \\gamma*exp(-\\Delta/(\\epsilon*c)) - \\theta)"
      ]
     },
     "metadata": {},
     "output_type": "display_data"
    },
    {
     "data": {
      "text/latex": [
       "$\\displaystyle K_{0} = \\frac{\\alpha c + 1}{\\left(2 c + 2\\right) \\left(\\alpha \\beta + \\alpha c + 1\\right)}$"
      ],
      "text/plain": [
       "Eq(K_0, (\\alpha*c + 1)/((2*c + 2)*(\\alpha*\\beta + \\alpha*c + 1)))"
      ]
     },
     "metadata": {},
     "output_type": "display_data"
    },
    {
     "data": {
      "text/latex": [
       "$\\displaystyle K_{1} = \\frac{1}{\\left(2 c + 2\\right) \\left(\\alpha \\beta + 1\\right)}$"
      ],
      "text/plain": [
       "Eq(K_1, 1/((2*c + 2)*(\\alpha*\\beta + 1)))"
      ]
     },
     "metadata": {},
     "output_type": "display_data"
    },
    {
     "data": {
      "text/latex": [
       "$\\displaystyle K_{2} = \\frac{\\alpha^{2} \\beta c}{\\left(2 c + 2\\right) \\left(\\alpha \\beta + 1\\right) \\left(\\alpha \\beta + \\alpha c + 1\\right)}$"
      ],
      "text/plain": [
       "Eq(K_2, \\alpha**2*\\beta*c/((2*c + 2)*(\\alpha*\\beta + 1)*(\\alpha*\\beta + \\alpha*c + 1)))"
      ]
     },
     "metadata": {},
     "output_type": "display_data"
    },
    {
     "data": {
      "text/latex": [
       "$\\displaystyle L_{0} = - \\gamma + \\frac{c + \\frac{1}{2}}{\\left(c + 1\\right) \\left(\\alpha \\beta + 1\\right)}$"
      ],
      "text/plain": [
       "Eq(L_0, -\\gamma + (c + 1/2)/((c + 1)*(\\alpha*\\beta + 1)))"
      ]
     },
     "metadata": {},
     "output_type": "display_data"
    },
    {
     "data": {
      "text/latex": [
       "$\\displaystyle L_{1} = \\frac{\\alpha c - 1}{\\left(2 c - 2\\right) \\left(- \\alpha \\beta + \\alpha c - 1\\right)}$"
      ],
      "text/plain": [
       "Eq(L_1, (\\alpha*c - 1)/((2*c - 2)*(-\\alpha*\\beta + \\alpha*c - 1)))"
      ]
     },
     "metadata": {},
     "output_type": "display_data"
    },
    {
     "data": {
      "text/latex": [
       "$\\displaystyle L_{2} = \\frac{\\alpha^{4} \\beta c^{2}}{\\left(\\alpha \\beta + 1\\right) \\left(\\alpha^{2} c^{2} - \\left(\\alpha \\beta + 1\\right)^{2}\\right) \\left(- \\alpha \\beta + \\alpha - 1\\right)} - \\frac{\\alpha^{2} \\beta c}{2 \\left(c + 1\\right) \\left(\\alpha \\beta + 1\\right) \\left(\\alpha \\beta + \\alpha c + 1\\right)}$"
      ],
      "text/plain": [
       "Eq(L_2, \\alpha**4*\\beta*c**2/((\\alpha*\\beta + 1)*(\\alpha**2*c**2 - (\\alpha*\\beta + 1)**2)*(-\\alpha*\\beta + \\alpha - 1)) - \\alpha**2*\\beta*c/(2*(c + 1)*(\\alpha*\\beta + 1)*(\\alpha*\\beta + \\alpha*c + 1)))"
      ]
     },
     "metadata": {},
     "output_type": "display_data"
    },
    {
     "data": {
      "text/latex": [
       "$\\displaystyle L_{3} = \\frac{\\frac{\\alpha^{4} \\beta c^{2}}{\\left(\\alpha^{2} c^{2} - \\left(\\alpha \\beta + 1\\right)^{2}\\right) \\left(- \\alpha \\beta + \\alpha - 1\\right)} + 1}{\\alpha \\beta + 1} + \\frac{\\alpha^{2} c^{2} \\left(\\beta + 1\\right) - \\alpha \\beta - 1}{\\left(c^{2} - 1\\right) \\left(\\alpha^{2} c^{2} - \\left(\\alpha \\beta + 1\\right)^{2}\\right)}$"
      ],
      "text/plain": [
       "Eq(L_3, (\\alpha**4*\\beta*c**2/((\\alpha**2*c**2 - (\\alpha*\\beta + 1)**2)*(-\\alpha*\\beta + \\alpha - 1)) + 1)/(\\alpha*\\beta + 1) + (\\alpha**2*c**2*(\\beta + 1) - \\alpha*\\beta - 1)/((c**2 - 1)*(\\alpha**2*c**2 - (\\alpha*\\beta + 1)**2)))"
      ]
     },
     "metadata": {},
     "output_type": "display_data"
    },
    {
     "name": "stdout",
     "output_type": "stream",
     "text": [
      "Then set $\\beta=0$ to obtain\n"
     ]
    },
    {
     "data": {
      "text/latex": [
       "$\\displaystyle 0 = K_{0} - K_{1} e^{- \\Delta} - K_{2} e^{- \\Delta} e^{- \\frac{\\Delta}{\\alpha c}} - \\theta$"
      ],
      "text/plain": [
       "Eq(0, K_0 - K_1*exp(-\\Delta) - K_2*exp(-\\Delta)*exp(-\\Delta/(\\alpha*c)) - \\theta)"
      ]
     },
     "metadata": {},
     "output_type": "display_data"
    },
    {
     "data": {
      "text/latex": [
       "$\\displaystyle 0 = L_{0} + L_{1} e^{- \\Delta} + L_{2} e^{- \\frac{\\Delta}{\\alpha c}} - L_{3} e^{- \\frac{\\Delta}{c}} + \\gamma e^{- \\frac{\\Delta}{\\epsilon c}} - \\theta$"
      ],
      "text/plain": [
       "Eq(0, L_0 + L_1*exp(-\\Delta) + L_2*exp(-\\Delta/(\\alpha*c)) - L_3*exp(-\\Delta/c) + \\gamma*exp(-\\Delta/(\\epsilon*c)) - \\theta)"
      ]
     },
     "metadata": {},
     "output_type": "display_data"
    },
    {
     "data": {
      "text/latex": [
       "$\\displaystyle K_{0} = \\frac{1}{2 \\left(c + 1\\right)}$"
      ],
      "text/plain": [
       "Eq(K_0, 1/(2*(c + 1)))"
      ]
     },
     "metadata": {},
     "output_type": "display_data"
    },
    {
     "data": {
      "text/latex": [
       "$\\displaystyle K_{1} = \\frac{1}{2 c + 2}$"
      ],
      "text/plain": [
       "Eq(K_1, 1/(2*c + 2))"
      ]
     },
     "metadata": {},
     "output_type": "display_data"
    },
    {
     "data": {
      "text/latex": [
       "$\\displaystyle K_{2} = 0$"
      ],
      "text/plain": [
       "Eq(K_2, 0)"
      ]
     },
     "metadata": {},
     "output_type": "display_data"
    },
    {
     "data": {
      "text/latex": [
       "$\\displaystyle L_{0} = - \\gamma + \\frac{c + \\frac{1}{2}}{c + 1}$"
      ],
      "text/plain": [
       "Eq(L_0, -\\gamma + (c + 1/2)/(c + 1))"
      ]
     },
     "metadata": {},
     "output_type": "display_data"
    },
    {
     "data": {
      "text/latex": [
       "$\\displaystyle L_{1} = \\frac{1}{2 c - 2}$"
      ],
      "text/plain": [
       "Eq(L_1, 1/(2*c - 2))"
      ]
     },
     "metadata": {},
     "output_type": "display_data"
    },
    {
     "data": {
      "text/latex": [
       "$\\displaystyle L_{2} = 0$"
      ],
      "text/plain": [
       "Eq(L_2, 0)"
      ]
     },
     "metadata": {},
     "output_type": "display_data"
    },
    {
     "data": {
      "text/latex": [
       "$\\displaystyle L_{3} = 1 + \\frac{1}{c^{2} - 1}$"
      ],
      "text/plain": [
       "Eq(L_3, 1 + 1/(c**2 - 1))"
      ]
     },
     "metadata": {},
     "output_type": "display_data"
    },
    {
     "name": "stdout",
     "output_type": "stream",
     "text": [
      "Substituting, we find\n"
     ]
    },
    {
     "data": {
      "text/latex": [
       "$\\displaystyle 0 = - \\theta - \\frac{e^{- \\Delta}}{2 c + 2} + \\frac{1}{2 \\left(c + 1\\right)}$"
      ],
      "text/plain": [
       "Eq(0, -\\theta - exp(-\\Delta)/(2*c + 2) + 1/(2*(c + 1)))"
      ]
     },
     "metadata": {},
     "output_type": "display_data"
    },
    {
     "data": {
      "text/latex": [
       "$\\displaystyle 0 = \\gamma \\left(-1 + e^{- \\frac{\\Delta}{\\epsilon c}}\\right) - \\theta + \\frac{c}{c + 1} - e^{- \\frac{\\Delta}{c}} - \\frac{1}{c^{2} e^{\\frac{\\Delta}{c}} - e^{\\frac{\\Delta}{c}}} + \\frac{1}{2 c + 2} + \\frac{e^{- \\Delta}}{2 c - 2}$"
      ],
      "text/plain": [
       "Eq(0, \\gamma*(-1 + exp(-\\Delta/(\\epsilon*c))) - \\theta + c/(c + 1) - exp(-\\Delta/c) - 1/(c**2*exp(\\Delta/c) - exp(\\Delta/c)) + 1/(2*c + 2) + exp(-\\Delta)/(2*c - 2))"
      ]
     },
     "metadata": {},
     "output_type": "display_data"
    },
    {
     "name": "stdout",
     "output_type": "stream",
     "text": [
      "Solving the first equation for $e^{-\\Delta}$ and substituting, we obtain\n"
     ]
    },
    {
     "data": {
      "text/latex": [
       "$\\displaystyle e^{- \\Delta} = - 2 \\theta c - 2 \\theta + 1$"
      ],
      "text/plain": [
       "Eq(exp(-\\Delta), -2*\\theta*c - 2*\\theta + 1)"
      ]
     },
     "metadata": {},
     "output_type": "display_data"
    },
    {
     "data": {
      "text/latex": [
       "$\\displaystyle 0 = \\gamma \\left(\\left(- 2 \\theta c - 2 \\theta + 1\\right)^{\\frac{1}{\\epsilon c}} - 1\\right) - \\theta + \\frac{c}{c + 1} - \\left(- 2 \\theta c - 2 \\theta + 1\\right)^{\\frac{1}{c}} - \\frac{1}{c^{2} \\left(- 2 \\theta c - 2 \\theta + 1\\right)^{- \\frac{1}{c}} - \\left(- 2 \\theta c - 2 \\theta + 1\\right)^{- \\frac{1}{c}}} + \\frac{1}{2 c + 2} + \\frac{- 2 \\theta c - 2 \\theta + 1}{2 c - 2}$"
      ],
      "text/plain": [
       "Eq(0, \\gamma*((-2*\\theta*c - 2*\\theta + 1)**(1/(\\epsilon*c)) - 1) - \\theta + c/(c + 1) - (-2*\\theta*c - 2*\\theta + 1)**(1/c) - 1/(c**2*(-2*\\theta*c - 2*\\theta + 1)**(-1/c) - (-2*\\theta*c - 2*\\theta + 1)**(-1/c)) + 1/(2*c + 2) + (-2*\\theta*c - 2*\\theta + 1)/(2*c - 2))"
      ]
     },
     "metadata": {},
     "output_type": "display_data"
    },
    {
     "name": "stdout",
     "output_type": "stream",
     "text": [
      "Rearranging, we arrive at a one-dimensional root finding problem for $c$, and some simple substitution for $\\Delta$\n"
     ]
    },
    {
     "data": {
      "text/latex": [
       "$\\displaystyle \\Delta = \\log{\\left(\\frac{1}{- 2 \\theta \\left(c + 1\\right) + 1} \\right)}$"
      ],
      "text/plain": [
       "Eq(\\Delta, log(1/(-2*\\theta*(c + 1) + 1)))"
      ]
     },
     "metadata": {},
     "output_type": "display_data"
    },
    {
     "data": {
      "text/latex": [
       "$\\displaystyle 0 = \\gamma \\left(\\left(- 2 \\theta \\left(c + 1\\right) + 1\\right)^{\\frac{1}{\\epsilon c}} - 1\\right) + \\frac{- 2 \\theta c + c^{2} \\left(- 2 \\theta - \\left(- 2 \\theta \\left(c + 1\\right) + 1\\right)^{\\frac{1}{c}} + 1\\right)}{c^{2} - 1}$"
      ],
      "text/plain": [
       "Eq(0, \\gamma*((-2*\\theta*(c + 1) + 1)**(1/(\\epsilon*c)) - 1) + (-2*\\theta*c + c**2*(-2*\\theta - (-2*\\theta*(c + 1) + 1)**(1/c) + 1))/(c**2 - 1))"
      ]
     },
     "metadata": {},
     "output_type": "display_data"
    },
    {
     "name": "stdout",
     "output_type": "stream",
     "text": [
      "Converting to our parameter naming conventions $\\epsilon \\to \\alpha$ we have\n"
     ]
    },
    {
     "data": {
      "text/latex": [
       "$\\displaystyle \\Delta = \\log{\\left(\\frac{1}{- 2 \\theta \\left(c + 1\\right) + 1} \\right)}$"
      ],
      "text/plain": [
       "Eq(\\Delta, log(1/(-2*\\theta*(c + 1) + 1)))"
      ]
     },
     "metadata": {},
     "output_type": "display_data"
    },
    {
     "data": {
      "text/latex": [
       "$\\displaystyle 0 = \\gamma \\left(\\left(- 2 \\theta \\left(c + 1\\right) + 1\\right)^{\\frac{1}{\\alpha c}} - 1\\right) + \\frac{- 2 \\theta c + c^{2} \\left(- 2 \\theta - \\left(- 2 \\theta \\left(c + 1\\right) + 1\\right)^{\\frac{1}{c}} + 1\\right)}{c^{2} - 1}$"
      ],
      "text/plain": [
       "Eq(0, \\gamma*((-2*\\theta*(c + 1) + 1)**(1/(\\alpha*c)) - 1) + (-2*\\theta*c + c**2*(-2*\\theta - (-2*\\theta*(c + 1) + 1)**(1/c) + 1))/(c**2 - 1))"
      ]
     },
     "metadata": {},
     "output_type": "display_data"
    }
   ],
   "source": [
    "# eviron_print_tex = True\n",
    "eviron_print_tex = False\n",
    "\n",
    "c, Δ, α, β, ϵ, γ, θ = sym.symbols('c \\\\Delta \\\\alpha \\\\beta \\\\epsilon \\\\gamma \\\\theta', real=True)\n",
    "\n",
    "one_plus = 1+α*β\n",
    "cα = c*α\n",
    "\n",
    "K0 = (c*α + 1)/( 2*(c+1)*(cα + one_plus) )\n",
    "K1 = 1/ (2*(c+1)*one_plus)\n",
    "K2 = β*c*α**2 / ( 2 * (c+1) * one_plus * (c*α + one_plus) )\n",
    "\n",
    "L0 = (2*c+1) / 2 / (c+1) / one_plus - γ\n",
    "L1 = (c*α - 1) / ( 2 * (c-1) * (cα - one_plus) )\n",
    "L2 = β*c**2*α**4 / one_plus / (cα**2 - one_plus**2) / (α - one_plus) - β*c*α**2 / 2 / (c+1) / one_plus / (cα + one_plus)\n",
    "L3 = 1/one_plus * ( 1 + β*c**2*α**4 / (cα**2 - one_plus**2) / (α - one_plus) ) + (cα**2*(1+β) - one_plus) / (c**2 - 1) / (cα**2 - one_plus**2)\n",
    "\n",
    "# symbolic values for printing purposes\n",
    "symK0, symK1, symK2, symL0, symL1, symL2, symL3 = sym.symbols('K_0 K_1 K_2 L_0 L_1 L_2 L_3')\n",
    "\n",
    "expr1 = -θ + symK0 - symK1*sym.exp(-Δ) - symK2*sym.exp(-one_plus*Δ/cα)*sym.exp(-Δ)\n",
    "expr2 = -θ + symL0 + symL1*sym.exp(-Δ) + symL2*sym.exp(-one_plus*Δ/cα) - symL3*sym.exp(-Δ/c) + γ*sym.exp(-Δ/(c*ϵ))\n",
    "\n",
    "sym_pairs = [[0, expr1], [0, expr2], [symK0, K0], [symK1, K1], [symK2, K2], [symL0, L0], [symL1, L1], [symL2, L2], [symL3, L3]]\n",
    "\n",
    "print('We begin with')\n",
    "batch_print([ sym.Eq(symvar, var) for symvar, var in sym_pairs ])\n",
    "    \n",
    "print('Then set $\\\\beta=0$ to obtain')\n",
    "\n",
    "sub_var , sub_to = β, 0\n",
    "K0 = sym.simplify(K0.subs(sub_var, sub_to))\n",
    "K1 = K1.subs(sub_var, sub_to)\n",
    "K2 = K2.subs(sub_var, sub_to)\n",
    "L0 = L0.subs(sub_var, sub_to)\n",
    "L1 = L1.subs(sub_var, sub_to)\n",
    "L2 = L2.subs(sub_var, sub_to)\n",
    "L3 = L3.subs(sub_var, sub_to)\n",
    "expr1 = expr1.subs(sub_var, sub_to)\n",
    "expr2 = expr2.subs(sub_var, sub_to)\n",
    "sym_pairs = [[0, expr1], [0, expr2], [symK0, K0], [symK1, K1], [symK2, K2], [symL0, L0], [symL1, L1], [symL2, L2], [symL3, L3]]\n",
    "\n",
    "batch_print([ sym.Eq(symvar, var) for symvar, var in sym_pairs ])\n",
    "    \n",
    "print('Substituting, we find')\n",
    "for var, val in sym_pairs[2:]:\n",
    "    expr1 = expr1.subs(var, val)\n",
    "    expr2 = expr2.subs(var, val)\n",
    "expr2 = sym.simplify(sym.expand(expr2))\n",
    "expr2 = expr2.collect(sym.exp(-Δ/(ϵ*c))).collect(sym.exp(-Δ)).collect(γ).collect(c)\n",
    "sym_pairs = [[0, expr1], [0, expr2], [symK0, K0], [symK1, K1], [symK2, K2], [symL0, L0], [symL1, L1], [symL2, L2], [symL3, L3]]\n",
    "batch_print([ sym.Eq(symvar, var) for symvar, var in sym_pairs[:2] ])\n",
    "\n",
    "print('Solving the first equation for $e^{-\\\\Delta}$ and substituting, we obtain')\n",
    "\n",
    "E_sub = sym.solve(expr1, sym.exp(-Δ))[0]\n",
    "assert (E_sub - sym.exp(-Δ)) - (expr1*2*(c+1)).simplify() == 0 #expr1=0 so expr1*2*(c+1)=0\n",
    "expr2 = expr2.subs(sym.exp(-Δ), E_sub).subs(sym.exp(-Δ/c), E_sub**(1/c)).subs(sym.exp(-Δ/(ϵ*c)), E_sub**(1/(ϵ*c)))\n",
    "batch_print([ sym.Eq(sym.exp(-Δ), E_sub), sym.Eq(0, expr2)])\n",
    "\n",
    "print('Rearranging, we arrive at a one-dimensional root finding problem for $c$, and some simple substitution for $\\\\Delta$')\n",
    "temp = (1 - 2*θ*(c+1))\n",
    "expr3 = γ*(temp**(1/(ϵ*c)) - 1) + (- 2*θ*c + c**2*(1-2*θ - temp**(1/(c))) ) / (c**2 - 1)\n",
    "assert (expr2 - expr3).simplify() == 0\n",
    "expr2 = expr3\n",
    "# Δ_sub = sym.solve(expr1, Δ)[0]\n",
    "Δ_sub = sym.log(1/(1 - 2*θ*(c+1))) # sympy is having trouble verifying log identities\n",
    "batch_print([ sym.Eq(Δ, Δ_sub), sym.Eq(0, expr2) ])\n",
    "\n",
    "print('Converting to our parameter naming conventions $\\\\epsilon \\\\to \\\\alpha$ we have')\n",
    "expr2 = expr2.subs(ϵ, α)\n",
    "batch_print([ sym.Eq(Δ, Δ_sub), sym.Eq(0, expr2) ])"
   ]
  },
  {
   "cell_type": "code",
   "execution_count": null,
   "metadata": {},
   "outputs": [],
   "source": []
  },
  {
   "cell_type": "code",
   "execution_count": 23,
   "metadata": {},
   "outputs": [
    {
     "data": {
      "text/latex": [
       "$\\displaystyle 3.99999999999997$"
      ],
      "text/plain": [
       "3.99999999999997"
      ]
     },
     "execution_count": 23,
     "metadata": {},
     "output_type": "execute_result"
    }
   ],
   "source": [
    "sym.solve(expr1, c)[0].subs(Δ, 32.8328).subs(θ,.1)"
   ]
  },
  {
   "cell_type": "code",
   "execution_count": null,
   "metadata": {},
   "outputs": [],
   "source": []
  },
  {
   "cell_type": "code",
   "execution_count": null,
   "metadata": {},
   "outputs": [],
   "source": []
  },
  {
   "cell_type": "code",
   "execution_count": 19,
   "metadata": {},
   "outputs": [
    {
     "name": "stdout",
     "output_type": "stream",
     "text": [
      "def delta_from_c(c, θ=0.1):\n",
      "    return np.log(1.0/(-2*θ*(c + 1) + 1))\n",
      "def c_implicit(c, γ, α, θ=0.1):\n",
      "    return γ*(( lambda base, exponent: base**exponent )(-2*θ*(c + 1) + 1, 1/(α*c)) - 1) + (-2*θ*c + ( lambda base, exponent: base**exponent )(c, 2)*(-2*θ - ( lambda base, exponent: base**exponent )(-2*θ*(c + 1) + 1, 1.0/c) + 1))/(( lambda base, exponent: base**exponent )(c, 2) - 1)\n",
      "def c_implicit_derivative(c, γ, α, θ=0.1):\n",
      "    return γ*( lambda base, exponent: base**exponent )(-2*θ*(c + 1) + 1, 1/(α*c))*(-2*θ/(α*c*(-2*θ*(c + 1) + 1)) - np.log(-2*θ*(c + 1) + 1)/(α*( lambda base, exponent: base**exponent )(c, 2))) - 2*c*(-2*θ*c + ( lambda base, exponent: base**exponent )(c, 2)*(-2*θ - ( lambda base, exponent: base**exponent )(-2*θ*(c + 1) + 1, 1.0/c) + 1))/( lambda base, exponent: base**exponent )(( lambda base, exponent: base**exponent )(c, 2) - 1, 2) + (-2*θ - ( lambda base, exponent: base**exponent )(c, 2)*( lambda base, exponent: base**exponent )(-2*θ*(c + 1) + 1, 1.0/c)*(-2*θ/(c*(-2*θ*(c + 1) + 1)) - np.log(-2*θ*(c + 1) + 1)/( lambda base, exponent: base**exponent )(c, 2)) + 2*c*(-2*θ - ( lambda base, exponent: base**exponent )(-2*θ*(c + 1) + 1, 1.0/c) + 1))/(( lambda base, exponent: base**exponent )(c, 2) - 1)\n"
     ]
    }
   ],
   "source": [
    "code = 'def delta_from_c(c, θ=0.1):\\n\\treturn ' + py_code(Δ_sub)\n",
    "print(code.replace('\\t',' '*4))\n",
    "\n",
    "code = 'def c_implicit(c, γ, α, θ=0.1):\\n\\treturn ' + py_code(expr2)\n",
    "print(code.replace('\\t',' '*4))\n",
    "\n",
    "code = 'def c_implicit_derivative(c, γ, α, θ=0.1):\\n\\treturn ' + py_code(expr2.diff(c))\n",
    "print(code.replace('\\t',' '*4))"
   ]
  },
  {
   "cell_type": "code",
   "execution_count": 20,
   "metadata": {},
   "outputs": [
    {
     "name": "stdout",
     "output_type": "stream",
     "text": [
      "0.9162907318741552\n",
      "-0.23986449605149623\n"
     ]
    }
   ],
   "source": [
    "def delta_from_c(c, θ=0.1):\n",
    "    return np.log(1.0/(-2*θ*(c + 1) + 1))\n",
    "def c_implicit(c, γ, α, θ=0.1):\n",
    "    return γ*(( lambda base, exponent: base**exponent )(-2*θ*(c + 1) + 1, 1/(α*c)) - 1) + (-2*θ*c + ( lambda base, exponent: base**exponent )(c, 2)*(-2*θ - ( lambda base, exponent: base**exponent )(-2*θ*(c + 1) + 1, 1.0/c) + 1))/(( lambda base, exponent: base**exponent )(c, 2) - 1)\n",
    "def c_implicit_derivative(c, γ, α, θ=0.1):\n",
    "    return γ*( lambda base, exponent: base**exponent )(-2*θ*(c + 1) + 1, 1/(α*c))*(-2*θ/(α*c*(-2*θ*(c + 1) + 1)) - np.log(-2*θ*(c + 1) + 1)/(α*( lambda base, exponent: base**exponent )(c, 2))) - 2*c*(-2*θ*c + ( lambda base, exponent: base**exponent )(c, 2)*(-2*θ - ( lambda base, exponent: base**exponent )(-2*θ*(c + 1) + 1, 1.0/c) + 1))/( lambda base, exponent: base**exponent )(( lambda base, exponent: base**exponent )(c, 2) - 1, 2) + (-2*θ - ( lambda base, exponent: base**exponent )(c, 2)*( lambda base, exponent: base**exponent )(-2*θ*(c + 1) + 1, 1.0/c)*(-2*θ/(c*(-2*θ*(c + 1) + 1)) - np.log(-2*θ*(c + 1) + 1)/( lambda base, exponent: base**exponent )(c, 2)) + 2*c*(-2*θ - ( lambda base, exponent: base**exponent )(-2*θ*(c + 1) + 1, 1.0/c) + 1))/(( lambda base, exponent: base**exponent )(c, 2) - 1)\n",
    "\n",
    "# Testing\n",
    "print(delta_from_c(2))\n",
    "print(c_implicit(3,4,5))"
   ]
  },
  {
   "cell_type": "code",
   "execution_count": 21,
   "metadata": {},
   "outputs": [],
   "source": [
    "def root_find(γ, α, θ=0.1):\n",
    "    c_max = 1/(2*θ) - 1\n",
    "    cs =  [1 + (c_max-1)/2] # start in the middle of the interval\n",
    "#     cs = [c_max* .9999999]\n",
    "    for i in range(20):\n",
    "        cs += [ cs[-1] -  c_implicit(cs[-1], γ, α, θ)/c_implicit_derivative(cs[-1], γ, α, θ) ]\n",
    "    return cs"
   ]
  },
  {
   "cell_type": "code",
   "execution_count": 22,
   "metadata": {},
   "outputs": [
    {
     "data": {
      "text/plain": [
       "-2.914335439641036e-16"
      ]
     },
     "execution_count": 22,
     "metadata": {},
     "output_type": "execute_result"
    }
   ],
   "source": [
    "cs = root_find(1, 5, θ=0.1)\n",
    "c_implicit(cs[-1], 1, 5)"
   ]
  },
  {
   "cell_type": "code",
   "execution_count": 11,
   "metadata": {},
   "outputs": [
    {
     "data": {
      "text/plain": [
       "-2.914335439641036e-16"
      ]
     },
     "execution_count": 11,
     "metadata": {},
     "output_type": "execute_result"
    }
   ],
   "source": [
    "cs = root_find(1, 5)\n",
    "c_implicit(cs[-1], 1, 5)"
   ]
  },
  {
   "cell_type": "code",
   "execution_count": 12,
   "metadata": {},
   "outputs": [
    {
     "data": {
      "text/plain": [
       "-2.914335439641036e-16"
      ]
     },
     "execution_count": 12,
     "metadata": {},
     "output_type": "execute_result"
    }
   ],
   "source": [
    "c_implicit(cs[-1], 1, 5)"
   ]
  },
  {
   "cell_type": "code",
   "execution_count": 13,
   "metadata": {},
   "outputs": [
    {
     "data": {
      "text/latex": [
       "$\\displaystyle -1 + \\frac{0.499999999999997}{\\theta}$"
      ],
      "text/plain": [
       "-1 + 0.499999999999997/\\theta"
      ]
     },
     "execution_count": 13,
     "metadata": {},
     "output_type": "execute_result"
    }
   ],
   "source": []
  },
  {
   "cell_type": "code",
   "execution_count": 11,
   "metadata": {},
   "outputs": [
    {
     "data": {
      "text/plain": [
       "1.9501692933397259"
      ]
     },
     "execution_count": 11,
     "metadata": {},
     "output_type": "execute_result"
    }
   ],
   "source": [
    "cs[-1]"
   ]
  },
  {
   "cell_type": "code",
   "execution_count": 12,
   "metadata": {},
   "outputs": [
    {
     "data": {
      "text/plain": [
       "0.8916807048108136"
      ]
     },
     "execution_count": 12,
     "metadata": {},
     "output_type": "execute_result"
    }
   ],
   "source": [
    "delta_from_c(cs[-1])"
   ]
  },
  {
   "cell_type": "code",
   "execution_count": 28,
   "metadata": {},
   "outputs": [
    {
     "data": {
      "image/png": "[encoded data removed]",
      "text/plain": [
       "<Figure size 720x360 with 1 Axes>"
      ]
     },
     "metadata": {
      "needs_background": "light"
     },
     "output_type": "display_data"
    }
   ],
   "source": [
    "γ = 1\n",
    "α = 5\n",
    "θ = .1\n",
    "c_max = 1/(2*θ) - 1\n",
    "\n",
    "cs = np.linspace(1+1e-10, c_max, 2001)\n",
    "plt.figure(figsize=(10,5))\n",
    "plt.plot(cs, c_implicit(cs, γ, α, θ))\n",
    "plt.xlabel('$c$')\n",
    "plt.ylabel('Expression 2')\n",
    "plt.tight_layout()\n",
    "# plt.savefig('../reports/report20210527/rootfinding.png')\n",
    "plt.show()"
   ]
  },
  {
   "cell_type": "code",
   "execution_count": 40,
   "metadata": {},
   "outputs": [
    {
     "data": {
      "image/png": "[encoded data removed]",
      "text/plain": [
       "<Figure size 720x360 with 1 Axes>"
      ]
     },
     "metadata": {
      "needs_background": "light"
     },
     "output_type": "display_data"
    }
   ],
   "source": [
    "γ = 1\n",
    "α = 5\n",
    "θ = .1\n",
    "c_max = 1/(2*θ) - 1\n",
    "\n",
    "cs = np.linspace(3.99999999999, c_max, 2001)\n",
    "plt.figure(figsize=(10,5))\n",
    "plt.plot(cs, c_implicit(cs, γ, α, θ))\n",
    "plt.xlabel('$c$')\n",
    "plt.ylabel('Expression 2')\n",
    "plt.tight_layout()\n",
    "# plt.savefig('../reports/report20210527/rootfinding.png')\n",
    "plt.show()"
   ]
  },
  {
   "cell_type": "code",
   "execution_count": 41,
   "metadata": {},
   "outputs": [
    {
     "data": {
      "text/plain": [
       "array([ 0.05877802,  0.05877239,  0.05876534, ..., -0.01563859,\n",
       "       -0.02236881, -0.2       ])"
      ]
     },
     "execution_count": 41,
     "metadata": {},
     "output_type": "execute_result"
    }
   ],
   "source": [
    "c_implicit(cs, γ, α, θ)"
   ]
  },
  {
   "cell_type": "code",
   "execution_count": 13,
   "metadata": {},
   "outputs": [
    {
     "data": {
      "image/png": "[encoded data removed]",
      "text/plain": [
       "<Figure size 720x360 with 1 Axes>"
      ]
     },
     "metadata": {
      "needs_background": "light"
     },
     "output_type": "display_data"
    }
   ],
   "source": [
    "γ = 1\n",
    "α = 5\n",
    "θ = .1\n",
    "c_max = 1/(2*θ) - 1\n",
    "\n",
    "cs = np.linspace(3.8, c_max, 2001)\n",
    "plt.figure(figsize=(10,5))\n",
    "plt.plot(cs, c_implicit(cs, γ, α, θ))\n",
    "plt.xlabel('$c$')\n",
    "plt.ylabel('Expression 2')\n",
    "plt.tight_layout()\n",
    "# plt.savefig('../reports/report20210527/rootfinding.png')\n",
    "plt.show()"
   ]
  },
  {
   "cell_type": "code",
   "execution_count": null,
   "metadata": {},
   "outputs": [],
   "source": []
  },
  {
   "cell_type": "markdown",
   "metadata": {},
   "source": [
    "# Inconsistent"
   ]
  },
  {
   "cell_type": "code",
   "execution_count": 8,
   "metadata": {},
   "outputs": [
    {
     "name": "stdout",
     "output_type": "stream",
     "text": [
      "0 = 0.00154503\n",
      "0 = -0.201793\n",
      "Appears inconsistent\n"
     ]
    }
   ],
   "source": [
    "# parameters chosen/measured from simulation\n",
    "Δ, c, γ, α, θ = pickle.load(open('parameters.pickle', 'rb'))\n",
    "β = 0\n",
    "ϵ = 1/α\n",
    "# α = 1\n",
    "one_plus = 1+α*β\n",
    "cα = c*α\n",
    "K0 = (c*α + 1)/( 2*(c+1)*(cα + one_plus) )\n",
    "K1 = 1/ (2*(c+1)*one_plus)\n",
    "K2 = β*c*α**2 / ( 2 * (c+1) * one_plus * (c*α + one_plus) )\n",
    "L0 = (2*c+1) / 2 / (c+1) / one_plus - γ\n",
    "L1 = (c*α - 1) / ( 2 * (c-1) * (cα - one_plus) )\n",
    "L2 = β*c**2*α**4 / one_plus / (cα**2 - one_plus**2) / (α - one_plus) - β*c*α**2 / 2 / (c+1) / one_plus / (cα + one_plus)\n",
    "L3 = 1/one_plus * ( 1 + β*c**2*α**4 / (cα**2 - one_plus**2) / (α - one_plus) ) + (cα**2*(1+β) - one_plus) / (c**2 - 1) / (cα**2 - one_plus**2)\n",
    "expr1 = -θ + K0 - K1*sym.exp(-Δ) - K2*sym.exp(-one_plus*Δ/cα)*sym.exp(-Δ)\n",
    "expr2 = -θ + L0 + L1*sym.exp(-Δ) + L2*sym.exp(-one_plus*Δ/cα) - L3*sym.exp(-Δ/c) + γ*sym.exp(-Δ/(c*ϵ))\n",
    "\n",
    "print('0 = %g' % expr1)\n",
    "print('0 = %g' % expr2)\n",
    "print('Appears inconsistent')"
   ]
  },
  {
   "cell_type": "code",
   "execution_count": null,
   "metadata": {},
   "outputs": [],
   "source": []
  }
 ],
 "metadata": {
  "kernelspec": {
   "display_name": "Python 3",
   "language": "python",
   "name": "python3"
  },
  "language_info": {
   "codemirror_mode": {
    "name": "ipython",
    "version": 3
   },
   "file_extension": ".py",
   "mimetype": "text/x-python",
   "name": "python",
   "nbconvert_exporter": "python",
   "pygments_lexer": "ipython3",
   "version": "3.6.9"
  }
 },
 "nbformat": 4,
 "nbformat_minor": 4
}

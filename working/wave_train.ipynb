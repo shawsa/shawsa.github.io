{
 "cells": [
  {
   "cell_type": "code",
   "execution_count": 1,
   "metadata": {},
   "outputs": [],
   "source": [
    "%matplotlib inline\n",
    "import matplotlib.pyplot as plt\n",
    "import matplotlib.animation as animation\n",
    "from IPython.display import HTML\n",
    "\n",
    "import numpy as np\n",
    "import numpy.linalg as la\n",
    "from scipy.integrate import RK45\n",
    "\n",
    "import sympy as sym\n",
    "# Heaviside numerics workaround\n",
    "sympy_modules = [{'Heaviside': lambda x: np.heaviside(x,0.5)}, 'numpy']\n",
    "\n",
    "from table_maker import *\n",
    "from functools import partial, reduce\n",
    "from itertools import *\n",
    "from math import ceil\n",
    "\n",
    "import pickle\n",
    "\n",
    "def cos_bell(x, center=0, width=2*np.pi, height=1):\n",
    "    return (np.cos((x-center)/width*2*np.pi)+1)/2*height * np.heaviside(x-center+width/2,0) * np.heaviside(-x+center+width/2,0)\n",
    "\n",
    "import collections.abc\n",
    "def collect_eqn(expr, terms):\n",
    "    if not isinstance(terms, collections.abc.Container):\n",
    "        term = terms # isn't a list or tuple\n",
    "        left, right = 0,0\n",
    "        for my_expr in expr.args:\n",
    "            has_term = False\n",
    "            for my_term in sym.postorder_traversal(my_expr):\n",
    "                if term == my_term:\n",
    "                    has_term = True\n",
    "                    break\n",
    "            if has_term:\n",
    "                left += my_expr\n",
    "            else:\n",
    "                right -= my_expr\n",
    "        return sym.Eq(left, right, evaluate=False)\n",
    "    else: # isn't a list or tuple\n",
    "        left_total, right_total = 0, expr\n",
    "        for term in terms:\n",
    "            left, right = collect_eqn(right_total, term).args\n",
    "            left_total += left\n",
    "            right_total = -right\n",
    "        return sym.Eq(left_total, right_total, evaluate=False)\n",
    "    \n",
    "def my_print(expr):\n",
    "    global eviron_print_tex\n",
    "    if eviron_print_tex:\n",
    "        print('$$' + sym.latex(expr) + '$$')\n",
    "    else:\n",
    "        display(expr)\n",
    "        \n",
    "def batch_print(expr_list, punctuation='.', return_string=False):\n",
    "    global eviron_print_tex\n",
    "    if eviron_print_tex:\n",
    "        print_str = '$$\\\\begin{align*}\\n'\n",
    "        for expr in expr_list:\n",
    "            print_str += '\\t' + sym.latex(expr).replace('=','&=') + '\\\\\\\\\\n'\n",
    "        # remove last new-line and add ending puncuation\n",
    "        print_str = print_str[:-3] + punctuation + '\\n'\n",
    "        print_str += '\\\\end{align*}$$'\n",
    "        if return_string:\n",
    "            return print_str\n",
    "        else:\n",
    "            print(print_str)\n",
    "    else:\n",
    "        for expr in expr_list:\n",
    "            display(expr)\n",
    "            \n",
    "def py_code(expr, replace_numpy=True, replace_unicode=True, numpy_package='np.'):\n",
    "    code = sym.ccode(expr)\n",
    "    \n",
    "    if replace_unicode:\n",
    "        unicode_replacements = [\n",
    "            ('\\\\alpha', 'α'),\n",
    "            ('\\\\beta', 'β'),\n",
    "            ('\\\\gamma', 'γ'),\n",
    "            ('\\\\Gamma', 'Γ'),\n",
    "            ('\\\\delta', 'δ'),\n",
    "            ('\\\\Delta', 'Δ'),\n",
    "            ('\\\\epsilon', 'ϵ'),\n",
    "            ('\\\\zeta', 'ζ'),\n",
    "            ('\\\\eta', 'η'),\n",
    "            ('\\\\theta', 'θ'),\n",
    "            ('\\\\xi', 'ξ'),\n",
    "            ('\\\\mu', 'μ')\n",
    "        ]\n",
    "        for unicode, symbol in unicode_replacements:\n",
    "            code = code.replace(unicode, symbol)\n",
    "    \n",
    "    if replace_numpy:\n",
    "        numpy_replacements = [\n",
    "            ('exp', numpy_package + 'exp'),\n",
    "            ('log', numpy_package + 'log'),\n",
    "            ('pow', '( lambda base, exponent: base**exponent )'),\n",
    "            ('Heaviside', '(lambda input: np.heaviside(input,0.5))')\n",
    "        ]\n",
    "        for c_func, np_func in numpy_replacements:\n",
    "            code = code.replace(c_func, np_func)\n",
    "        \n",
    "    return code"
   ]
  },
  {
   "cell_type": "code",
   "execution_count": 2,
   "metadata": {},
   "outputs": [],
   "source": [
    "import matplotlib\n",
    "matplotlib.rcParams.update({'font.size': 24})"
   ]
  },
  {
   "cell_type": "code",
   "execution_count": 3,
   "metadata": {},
   "outputs": [],
   "source": [
    "eviron_print_tex = False\n",
    "\n",
    "μ, α, γ, θ, c, Δ, λ = sym.symbols('\\\\mu \\\\alpha \\\\gamma, \\\\theta, c \\\\Delta \\\\lambda', real=True, positive = True)\n",
    "\n",
    "ξ = sym.symbols('\\\\xi', real=True)\n",
    "\n",
    "U = sym.Function('U', real=True)(ξ)\n",
    "A = sym.Function('A', real=True)(ξ)\n",
    "\n",
    "LU = lambda f: c*μ*f.diff(ξ) - f\n",
    "LA = lambda f: c*α*f.diff(ξ) - f\n",
    "\n",
    "F_shared = (sym.exp(Δ)-1)/(sym.exp(λ)-1)/2 * ( sym.exp(-ξ-Δ) + sym.exp(ξ)) - sym.exp(-ξ-Δ)/2\n",
    "F_left = F_shared + 1 - sym.exp(-ξ)/2\n",
    "F_right = F_shared + sym.exp(-ξ)/2\n",
    "\n",
    "F_left = F_left.expand().collect(sym.exp(ξ))\n",
    "F_right = F_right.expand().collect(sym.exp(ξ))\n",
    "\n",
    "G_left = 0\n",
    "G_right = γ"
   ]
  },
  {
   "cell_type": "code",
   "execution_count": 4,
   "metadata": {},
   "outputs": [
    {
     "data": {
      "text/latex": [
       "$\\displaystyle \\left(\\frac{e^{\\Delta}}{2 e^{\\lambda} - 2} - \\frac{1}{2 e^{\\lambda} - 2}\\right) e^{\\xi} + \\left(- \\frac{1}{2} - \\frac{e^{- \\Delta}}{2} + \\frac{1}{2 e^{\\lambda} - 2} - \\frac{1}{2 e^{\\Delta} e^{\\lambda} - 2 e^{\\Delta}}\\right) e^{- \\xi} + 1$"
      ],
      "text/plain": [
       "(exp(\\Delta)/(2*exp(\\lambda) - 2) - 1/(2*exp(\\lambda) - 2))*exp(\\xi) + (-1/2 - exp(-\\Delta)/2 + 1/(2*exp(\\lambda) - 2) - 1/(2*exp(\\Delta)*exp(\\lambda) - 2*exp(\\Delta)))*exp(-\\xi) + 1"
      ]
     },
     "metadata": {},
     "output_type": "display_data"
    },
    {
     "data": {
      "text/latex": [
       "$\\displaystyle - A_{L} + \\left(B_{L} \\mu c - B_{L}\\right) e^{\\xi} + \\left(- C_{L} \\mu c - C_{L}\\right) e^{- \\xi}$"
      ],
      "text/plain": [
       "-A_L + (B_L*\\mu*c - B_L)*exp(\\xi) + (-C_L*\\mu*c - C_L)*exp(-\\xi)"
      ]
     },
     "metadata": {},
     "output_type": "display_data"
    },
    {
     "data": {
      "text/latex": [
       "$\\displaystyle -1 + \\frac{\\left(\\frac{e^{\\Delta}}{2 e^{\\lambda} - 2} - \\frac{1}{2 e^{\\lambda} - 2}\\right) e^{\\xi}}{\\mu c - 1} + \\frac{\\left(- \\frac{1}{2} - \\frac{e^{- \\Delta}}{2} + \\frac{1}{2 e^{\\lambda} - 2} - \\frac{1}{2 e^{\\Delta} e^{\\lambda} - 2 e^{\\Delta}}\\right) e^{- \\xi}}{\\mu c - 1}$"
      ],
      "text/plain": [
       "-1 + (exp(\\Delta)/(2*exp(\\lambda) - 2) - 1/(2*exp(\\lambda) - 2))*exp(\\xi)/(\\mu*c - 1) + (-1/2 - exp(-\\Delta)/2 + 1/(2*exp(\\lambda) - 2) - 1/(2*exp(\\Delta)*exp(\\lambda) - 2*exp(\\Delta)))*exp(-\\xi)/(\\mu*c - 1)"
      ]
     },
     "metadata": {},
     "output_type": "display_data"
    }
   ],
   "source": [
    "# left\n",
    "U_hom = sym.dsolve(LU(U))\n",
    "AL, BL, CL = sym.symbols('A_L, B_L, C_L', real=True)\n",
    "form = AL + BL*sym.exp(ξ) + CL*sym.exp(-ξ)\n",
    "\n",
    "display(F_left)\n",
    "display(LU(form).expand().collect(sym.exp(ξ)))\n",
    "\n",
    "L_particular = form.subs({ AL: -1, BL: F_left.coeff(sym.exp(ξ))/(μ*c-1), CL: F_left.coeff(sym.exp(-ξ))/(μ*c-1) })\n",
    "display(L_particular)"
   ]
  },
  {
   "cell_type": "code",
   "execution_count": 5,
   "metadata": {},
   "outputs": [
    {
     "data": {
      "text/latex": [
       "$\\displaystyle \\frac{\\mu c \\left(- 2 e^{\\Delta} + e^{\\lambda} + e^{\\Delta + \\lambda}\\right) e^{- \\Delta - \\xi}}{\\mu c e^{\\lambda} - \\mu c - e^{\\lambda} + 1}$"
      ],
      "text/plain": [
       "\\mu*c*(-2*exp(\\Delta) + exp(\\lambda) + exp(\\Delta + \\lambda))*exp(-\\Delta - \\xi)/(\\mu*c*exp(\\lambda) - \\mu*c - exp(\\lambda) + 1)"
      ]
     },
     "execution_count": 5,
     "metadata": {},
     "output_type": "execute_result"
    }
   ],
   "source": [
    "(LU(L_particular) - F_left).expand().simplify()"
   ]
  },
  {
   "cell_type": "code",
   "execution_count": null,
   "metadata": {},
   "outputs": [],
   "source": []
  }
 ],
 "metadata": {
  "kernelspec": {
   "display_name": "Python 3",
   "language": "python",
   "name": "python3"
  },
  "language_info": {
   "codemirror_mode": {
    "name": "ipython",
    "version": 3
   },
   "file_extension": ".py",
   "mimetype": "text/x-python",
   "name": "python",
   "nbconvert_exporter": "python",
   "pygments_lexer": "ipython3",
   "version": "3.6.9"
  }
 },
 "nbformat": 4,
 "nbformat_minor": 4
}

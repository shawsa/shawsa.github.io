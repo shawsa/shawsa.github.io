{
 "cells": [
  {
   "cell_type": "code",
   "execution_count": 1,
   "metadata": {},
   "outputs": [],
   "source": [
    "%matplotlib inline\n",
    "import numpy as np\n",
    "import numpy.linalg as la\n",
    "import matplotlib.pyplot as plt\n",
    "import matplotlib\n",
    "\n",
    "from scipy.interpolate import lagrange\n",
    "import numpy.polynomial.polynomial as poly\n",
    "\n",
    "from halton import halton_sequence"
   ]
  },
  {
   "cell_type": "code",
   "execution_count": 19,
   "metadata": {},
   "outputs": [],
   "source": [
    "matplotlib.rcParams.update({'font.size': 14})"
   ]
  },
  {
   "cell_type": "code",
   "execution_count": 14,
   "metadata": {},
   "outputs": [],
   "source": [
    "n = 20\n",
    "a = 1\n",
    "b = 3"
   ]
  },
  {
   "cell_type": "code",
   "execution_count": 15,
   "metadata": {},
   "outputs": [],
   "source": [
    "xs = halton_sequence(1, (n-2), 2)#generates n halton points between 0 and 1"
   ]
  },
  {
   "cell_type": "code",
   "execution_count": 31,
   "metadata": {},
   "outputs": [
    {
     "data": {
      "image/png": "[encoded data removed]",
      "text/plain": [
       "<Figure size 360x360 with 1 Axes>"
      ]
     },
     "metadata": {},
     "output_type": "display_data"
    }
   ],
   "source": [
    "mid = .5*(xs[:,a] + xs[:,b])\n",
    "ts = np.linspace(0,2*np.pi)\n",
    "r = la.norm(xs[:,a] - xs[:,b])/2\n",
    "sines = r * np.sin(ts) + mid[1]\n",
    "cosines = r * np.cos(ts) + mid[0]\n",
    "\n",
    "fig = plt.figure(figsize=(5,5))\n",
    "plt.plot(xs[0], xs[1], 'bo')\n",
    "plt.plot(xs[0,a], xs[1,a], 'ro')\n",
    "plt.plot(xs[0,b], xs[1,b], 'ro')\n",
    "plt.plot(cosines, sines, 'g-')\n",
    "plt.xlim((0,1))\n",
    "plt.ylim((0,1))\n",
    "plt.axis('off')\n",
    "plt.show()"
   ]
  },
  {
   "cell_type": "code",
   "execution_count": null,
   "metadata": {},
   "outputs": [],
   "source": []
  }
 ],
 "metadata": {
  "kernelspec": {
   "display_name": "Python 3",
   "language": "python",
   "name": "python3"
  },
  "language_info": {
   "codemirror_mode": {
    "name": "ipython",
    "version": 3
   },
   "file_extension": ".py",
   "mimetype": "text/x-python",
   "name": "python",
   "nbconvert_exporter": "python",
   "pygments_lexer": "ipython3",
   "version": "3.6.5"
  }
 },
 "nbformat": 4,
 "nbformat_minor": 2
}

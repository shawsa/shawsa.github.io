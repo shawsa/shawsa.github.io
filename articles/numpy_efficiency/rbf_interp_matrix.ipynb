{
 "cells": [
  {
   "cell_type": "code",
   "execution_count": 1,
   "metadata": {},
   "outputs": [],
   "source": [
    "import numpy as np\n",
    "from numpy.linalg import norm\n",
    "from math import exp, sqrt"
   ]
  },
  {
   "cell_type": "code",
   "execution_count": 2,
   "metadata": {},
   "outputs": [],
   "source": [
    "n = 200\n",
    "eps = .3"
   ]
  },
  {
   "cell_type": "markdown",
   "metadata": {},
   "source": [
    "# One Dimensional Interpolation Matrix"
   ]
  },
  {
   "cell_type": "markdown",
   "metadata": {},
   "source": [
    "### Pure Python"
   ]
  },
  {
   "cell_type": "code",
   "execution_count": 3,
   "metadata": {},
   "outputs": [],
   "source": [
    "def rbf(r, eps):\n",
    "    return exp(-eps*r**2)\n",
    "def dist(x,y):\n",
    "    return abs(x-y)"
   ]
  },
  {
   "cell_type": "code",
   "execution_count": 4,
   "metadata": {},
   "outputs": [
    {
     "name": "stdout",
     "output_type": "stream",
     "text": [
      "10 loops, best of 3: 20.8 ms per loop\n"
     ]
    }
   ],
   "source": [
    "%%timeit\n",
    "xs = [i/(n-1) for i in range(n)]\n",
    "A = [[rbf(dist(x,y), eps) for y in xs] for x in xs]"
   ]
  },
  {
   "cell_type": "markdown",
   "metadata": {},
   "source": [
    "### Typical Use of Numpy with Python"
   ]
  },
  {
   "cell_type": "code",
   "execution_count": 5,
   "metadata": {},
   "outputs": [],
   "source": [
    "def rbf(r, eps):\n",
    "    return np.exp(-eps*r**2)\n",
    "def dist(x,y):\n",
    "    return np.abs(x-y)"
   ]
  },
  {
   "cell_type": "code",
   "execution_count": 6,
   "metadata": {},
   "outputs": [
    {
     "name": "stdout",
     "output_type": "stream",
     "text": [
      "1 loop, best of 3: 260 ms per loop\n"
     ]
    }
   ],
   "source": [
    "%%timeit\n",
    "xs = np.linspace(0,1,n)\n",
    "A = np.array([[rbf(dist(x,y), eps) for y in xs] for x in xs])"
   ]
  },
  {
   "cell_type": "markdown",
   "metadata": {},
   "source": [
    "### Pure Numpy"
   ]
  },
  {
   "cell_type": "code",
   "execution_count": 7,
   "metadata": {},
   "outputs": [],
   "source": [
    "def rbf(r, eps):\n",
    "    return np.exp(-eps*r**2)\n",
    "def dist(x,y):\n",
    "    return np.abs(x-y)"
   ]
  },
  {
   "cell_type": "code",
   "execution_count": 8,
   "metadata": {},
   "outputs": [
    {
     "name": "stdout",
     "output_type": "stream",
     "text": [
      "1000 loops, best of 3: 1.02 ms per loop\n"
     ]
    }
   ],
   "source": [
    "%%timeit\n",
    "xs = np.linspace(0,1,n)\n",
    "A = rbf(np.abs( np.subtract.outer(xs,xs) ), eps)"
   ]
  },
  {
   "cell_type": "markdown",
   "metadata": {},
   "source": [
    "# Higher Dimensional Interpolation Matrix"
   ]
  },
  {
   "cell_type": "code",
   "execution_count": 9,
   "metadata": {},
   "outputs": [],
   "source": [
    "def gen_spiral_nodes(n):\n",
    "    indices = np.arange(0, n, dtype=float) + 0.5\n",
    "    phi = np.arccos(1 - 2*indices/n)\n",
    "    theta = np.pi * (1 + 5**0.5) * indices\n",
    "    xs, ys, zs = np.cos(theta) * np.sin(phi), np.sin(theta) * np.sin(phi), np.cos(phi)\n",
    "    return np.array([(x,y,z) for x,y,z in zip(xs,ys,zs)])"
   ]
  },
  {
   "cell_type": "code",
   "execution_count": 11,
   "metadata": {},
   "outputs": [],
   "source": [
    "n = 200\n",
    "eps = .3\n",
    "\n",
    "nodes_np = gen_spiral_nodes(n)\n",
    "nodes_py = nodes_np.tolist()"
   ]
  },
  {
   "cell_type": "markdown",
   "metadata": {},
   "source": [
    "### Pure Python"
   ]
  },
  {
   "cell_type": "code",
   "execution_count": 12,
   "metadata": {},
   "outputs": [],
   "source": [
    "def rbf(r, eps):\n",
    "    return np.exp(-eps*r**2)\n",
    "def dist(x,y):\n",
    "    return sqrt(sum( (xi-yi)**2 for xi, yi in zip(x,y)))"
   ]
  },
  {
   "cell_type": "code",
   "execution_count": 13,
   "metadata": {},
   "outputs": [
    {
     "name": "stdout",
     "output_type": "stream",
     "text": [
      "10 loops, best of 3: 179 ms per loop\n"
     ]
    }
   ],
   "source": [
    "%%timeit\n",
    "A = [[rbf(dist(x,y), eps) for y in nodes_py] for x in nodes_py]"
   ]
  },
  {
   "cell_type": "markdown",
   "metadata": {},
   "source": [
    "### Typical Use of Numpy with Python"
   ]
  },
  {
   "cell_type": "code",
   "execution_count": 14,
   "metadata": {},
   "outputs": [],
   "source": [
    "def rbf(r, eps):\n",
    "    return np.exp(-eps*r**2)"
   ]
  },
  {
   "cell_type": "code",
   "execution_count": 15,
   "metadata": {},
   "outputs": [
    {
     "name": "stdout",
     "output_type": "stream",
     "text": [
      "1 loop, best of 3: 555 ms per loop\n"
     ]
    }
   ],
   "source": [
    "%%timeit\n",
    "A = np.array([[rbf(norm(x-y), eps) for y in nodes_np] for x in nodes_np])"
   ]
  },
  {
   "cell_type": "markdown",
   "metadata": {},
   "source": [
    "### Pure Numpy"
   ]
  },
  {
   "cell_type": "code",
   "execution_count": 16,
   "metadata": {},
   "outputs": [],
   "source": [
    "def rbf(r, eps):\n",
    "    return np.exp(-eps*r**2)\n",
    "\n",
    "def dist_outer(nodes1, nodes2):\n",
    "    d = len(nodes1[0]) # the dimension of each vector\n",
    "    n1 = len(nodes1)\n",
    "    n2 = len(nodes2)\n",
    "    # create a row vector of d dimensional vectors\n",
    "    row = nodes1.reshape((1,n1,d)) \n",
    "    # create a column vector of d dimensional vectors\n",
    "    col = nodes2.reshape((n2,1,d)) \n",
    "    ret = (row-col)**2\n",
    "    ret = np.sum(ret,2) #sum each d-dimensional vector\n",
    "    return np.sqrt(ret)"
   ]
  },
  {
   "cell_type": "code",
   "execution_count": 17,
   "metadata": {},
   "outputs": [
    {
     "name": "stdout",
     "output_type": "stream",
     "text": [
      "100 loops, best of 3: 2.15 ms per loop\n"
     ]
    }
   ],
   "source": [
    "%%timeit\n",
    "A = rbf(dist_outer(nodes_np, nodes_np), eps)"
   ]
  }
 ],
 "metadata": {
  "kernelspec": {
   "display_name": "Python 3",
   "language": "python",
   "name": "python3"
  },
  "language_info": {
   "codemirror_mode": {
    "name": "ipython",
    "version": 3
   },
   "file_extension": ".py",
   "mimetype": "text/x-python",
   "name": "python",
   "nbconvert_exporter": "python",
   "pygments_lexer": "ipython3",
   "version": "3.6.5"
  }
 },
 "nbformat": 4,
 "nbformat_minor": 2
}

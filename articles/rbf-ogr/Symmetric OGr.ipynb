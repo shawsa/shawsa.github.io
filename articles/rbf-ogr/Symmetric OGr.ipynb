{
 "cells": [
  {
   "cell_type": "code",
   "execution_count": null,
   "metadata": {},
   "outputs": [],
   "source": []
  },
  {
   "cell_type": "markdown",
   "metadata": {},
   "source": [
    "We wish to form the interpolant"
   ]
  },
  {
   "cell_type": "markdown",
   "metadata": {},
   "source": []
  },
  {
   "cell_type": "markdown",
   "metadata": {},
   "source": [
    "where $\\vec{y} = \\vec{x}_1$ (for notational convenience) and $\\mathcal{L}_\\vec{x} = \\vec{n}\\cdot \\nabla_\\vec{x}$"
   ]
  },
  {
   "cell_type": "code",
   "execution_count": null,
   "metadata": {},
   "outputs": [],
   "source": []
  },
  {
   "cell_type": "code",
   "execution_count": null,
   "metadata": {},
   "outputs": [],
   "source": []
  },
  {
   "cell_type": "code",
   "execution_count": null,
   "metadata": {},
   "outputs": [],
   "source": []
  },
  {
   "cell_type": "code",
   "execution_count": 14,
   "metadata": {},
   "outputs": [],
   "source": [
    "%matplotlib notebook\n",
    "import numpy as np\n",
    "import scipy.linalg as la\n",
    "import mpl_toolkits.mplot3d\n",
    "import matplotlib.pyplot as plt\n",
    "\n",
    "from scipy.spatial import cKDTree\n",
    "\n",
    "import scipy.sparse as sp\n",
    "from scipy.sparse.linalg import spsolve, lsqr\n",
    "\n",
    "from numpy.linalg import cond, norm, inv, lstsq\n",
    "\n",
    "from poly_basis import *\n",
    "from spherepts import *\n",
    "from rbf import *\n",
    "\n",
    "from math import *"
   ]
  },
  {
   "cell_type": "code",
   "execution_count": 3,
   "metadata": {},
   "outputs": [],
   "source": [
    "import matplotlib\n",
    "matplotlib.rcParams.update({'font.size': 14})"
   ]
  },
  {
   "cell_type": "code",
   "execution_count": 40,
   "metadata": {},
   "outputs": [],
   "source": [
    "rbf_obj = rbf_dict['multiquadric']\n",
    "eps = 1\n",
    "rbf = lambda r: rbf_obj['rbf'](r, eps)\n",
    "zeta = lambda r: rbf_obj['zeta'](r, eps)\n",
    "chi = lambda r: rbf_obj['chi'](r, eps)\n",
    "beta = lambda r: rbf_obj['beta'](r, eps)"
   ]
  },
  {
   "cell_type": "code",
   "execution_count": 41,
   "metadata": {},
   "outputs": [
    {
     "data": {
      "text/plain": [
       "0.7071067811865475"
      ]
     },
     "execution_count": 41,
     "metadata": {},
     "output_type": "execute_result"
    }
   ],
   "source": [
    "zeta(1)"
   ]
  },
  {
   "cell_type": "code",
   "execution_count": 82,
   "metadata": {},
   "outputs": [],
   "source": [
    "x = np.array([.1, .2, .3])\n",
    "y = np.array([.2,  0, .4])\n",
    "n = np.array([.1, .2, .3])\n",
    "n = n/la.norm(n)"
   ]
  },
  {
   "cell_type": "code",
   "execution_count": 95,
   "metadata": {},
   "outputs": [],
   "source": [
    "def Hess(x, y, n):\n",
    "    r = sqrt(sum([(a-b)**2 for a,b in zip(x,y)]))\n",
    "    H = [[zeta(r)+(x[0]-y[0])**2 * chi(r), (x[0]-y[0])*(x[1]-y[1])*chi(r) , (x[0]-y[0])*(x[2]-y[2])*chi(r) ],\n",
    "         [(x[0]-y[0])*(x[1]-y[1])*chi(r) , zeta(r)+(x[1]-y[1])**2 * chi(r), (x[1]-y[1])*(x[2]-y[2])*chi(r) ],\n",
    "         [(x[0]-y[0])*(x[2]-y[2])*chi(r) , (x[1]-y[1])*(x[2]-y[2])*chi(r) , zeta(r)+(x[2]-y[2])**2 * chi(r)]]\n",
    "    H = np.array(H)    \n",
    "    return n.T @ H @ n\n",
    "\n",
    "def L2(x,y,n):\n",
    "    r = sqrt(sum([(a-b)**2 for a,b in zip(x,y)]))\n",
    "    #return n @ (n*zeta(r) + x**2*chi(r)) - n@n + (n@x)*chi(r)\n",
    "    #return n@n + (n@x)*chi(r)\n",
    "    return zeta(r) + (n @ (x-y))**2*chi(r)"
   ]
  },
  {
   "cell_type": "code",
   "execution_count": 96,
   "metadata": {},
   "outputs": [
    {
     "name": "stdout",
     "output_type": "stream",
     "text": [
      "0.9712858623572641\n",
      "0.9712858623572642\n"
     ]
    }
   ],
   "source": [
    "H = Hess(x,y, n)\n",
    "L = L2(x,y,n)\n",
    "print(H)\n",
    "print(L)"
   ]
  },
  {
   "cell_type": "code",
   "execution_count": 62,
   "metadata": {},
   "outputs": [
    {
     "data": {
      "text/plain": [
       "array([[ 0.96212279, -0.01832615, -0.02748922],\n",
       "       [-0.01832615,  0.93463357, -0.05497845],\n",
       "       [-0.02748922, -0.05497845,  0.88881819]])"
      ]
     },
     "execution_count": 62,
     "metadata": {},
     "output_type": "execute_result"
    }
   ],
   "source": [
    "H"
   ]
  },
  {
   "cell_type": "code",
   "execution_count": 64,
   "metadata": {},
   "outputs": [
    {
     "data": {
      "text/plain": [
       "array([0.08430028, 0.16860056, 0.25290085])"
      ]
     },
     "execution_count": 64,
     "metadata": {},
     "output_type": "execute_result"
    }
   ],
   "source": [
    "n.T @ H"
   ]
  },
  {
   "cell_type": "code",
   "execution_count": 65,
   "metadata": {},
   "outputs": [
    {
     "data": {
      "text/plain": [
       "array([0.08430028, 0.16860056, 0.25290085])"
      ]
     },
     "execution_count": 65,
     "metadata": {},
     "output_type": "execute_result"
    }
   ],
   "source": [
    "H @ n"
   ]
  },
  {
   "cell_type": "code",
   "execution_count": 66,
   "metadata": {},
   "outputs": [
    {
     "data": {
      "text/plain": [
       "0.14"
      ]
     },
     "execution_count": 66,
     "metadata": {},
     "output_type": "execute_result"
    }
   ],
   "source": [
    "n @ x"
   ]
  },
  {
   "cell_type": "code",
   "execution_count": null,
   "metadata": {},
   "outputs": [],
   "source": []
  }
 ],
 "metadata": {
  "kernelspec": {
   "display_name": "Python 3",
   "language": "python",
   "name": "python3"
  },
  "language_info": {
   "codemirror_mode": {
    "name": "ipython",
    "version": 3
   },
   "file_extension": ".py",
   "mimetype": "text/x-python",
   "name": "python",
   "nbconvert_exporter": "python",
   "pygments_lexer": "ipython3",
   "version": "3.6.7"
  }
 },
 "nbformat": 4,
 "nbformat_minor": 2
}

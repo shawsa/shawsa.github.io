{
 "cells": [
  {
   "cell_type": "code",
   "execution_count": 1,
   "metadata": {},
   "outputs": [
    {
     "name": "stderr",
     "output_type": "stream",
     "text": [
      "/usr/lib/python3.6/importlib/_bootstrap.py:219: RuntimeWarning: numpy.dtype size changed, may indicate binary incompatibility. Expected 96, got 88\n",
      "  return f(*args, **kwds)\n"
     ]
    }
   ],
   "source": [
    "%matplotlib notebook\n",
    "import numpy as np\n",
    "import scipy.linalg as la\n",
    "import mpl_toolkits.mplot3d\n",
    "import matplotlib.pyplot as plt\n",
    "\n",
    "from scipy.spatial import cKDTree\n",
    "\n",
    "import scipy.sparse as sp\n",
    "from scipy.sparse.linalg import spsolve, lsqr\n",
    "\n",
    "from numpy.linalg import cond, norm, inv\n",
    "\n",
    "\n",
    "import pandas as pd\n",
    "\n",
    "import pickle\n",
    "import os.path\n",
    "\n",
    "import warnings\n",
    "warnings.simplefilter('ignore')\n",
    "\n",
    "from scipy.optimize import minimize_scalar\n",
    "\n",
    "from poly_basis import *\n",
    "\n",
    "from ex2_helper import *"
   ]
  },
  {
   "cell_type": "code",
   "execution_count": 179,
   "metadata": {},
   "outputs": [],
   "source": [
    "'''\n",
    "def rbf(r):\n",
    "    return r**9\n",
    "def l_rbf(r):\n",
    "    return 9*8*r**7 + 2*9*r**7\n",
    "'''\n",
    "\n",
    "#eps = 4\n",
    "def rbf(r):\n",
    "    return np.exp(-eps * r**2)\n",
    "def rbfd_div_r(r):\n",
    "    return -2*eps*rbf(r)\n",
    "def rbfd2(r):\n",
    "    return 2*eps*rbf(r)*(2*eps*r-1)\n",
    "\n",
    "def rbfL(r):\n",
    "    return rbfd2(r) + rbfd_div_r(r) *2\n",
    "\n",
    "def grad_rbf(node, center):\n",
    "    r = dist(node, center)\n",
    "    d_phi = -2*eps*rbf(r)\n",
    "    return node * d_phi\n",
    "\n",
    "\n",
    "def foo1(node):\n",
    "    return -node[0]*2\n",
    "def exact1(node):\n",
    "    return node[0]\n",
    "\n",
    "# l=3\n",
    "def foo2(node):\n",
    "    return -6 * (node[0]**2 - node[1]**2)\n",
    "def exact2(node):\n",
    "    return (node[0]**2 - node[1]**2)\n",
    "\n",
    "def foo3(node):\n",
    "    return -(node[0]**2 - node[1]**2) * node[2] * 12\n",
    "\n",
    "def exact3(node):\n",
    "    return (node[0]**2 - node[1]**2) * node[2]\n",
    "\n",
    "# l=4\n",
    "def foo4(node):\n",
    "    return -(3*node[0]**2 - node[1]**2)*node[1]*node[2] * 20\n",
    "def exact4(node):\n",
    "    return (3*node[0]**2 - node[1]**2)*node[1]*node[2]"
   ]
  },
  {
   "cell_type": "code",
   "execution_count": 194,
   "metadata": {},
   "outputs": [],
   "source": [
    "n = 400\n",
    "k = 41\n",
    "delta = .2\n",
    "gamma = 1\n",
    "my_node = 51\n",
    "eps = 2\n",
    "\n",
    "foo, exact = foo1, exact1"
   ]
  },
  {
   "cell_type": "code",
   "execution_count": 195,
   "metadata": {},
   "outputs": [],
   "source": [
    "nodes = gen_spiral_nodes(n)\n",
    "tree = cKDTree(np.array(nodes))\n",
    "stencil = tree.query(nodes[my_node], k)[1]\n",
    "nn = np.array([nodes[i] for i in stencil])"
   ]
  },
  {
   "cell_type": "code",
   "execution_count": 196,
   "metadata": {},
   "outputs": [
    {
     "name": "stdout",
     "output_type": "stream",
     "text": [
      "cond A: 1.92579e+14\n",
      "cond B: 1.92579e+14\n",
      "6876.273474267327\n",
      "22104.898096283\n"
     ]
    }
   ],
   "source": [
    "nodes = gen_spiral_nodes(n)\n",
    "tree = cKDTree(np.array(nodes))\n",
    "stencil = tree.query(nodes[my_node], k)[1]\n",
    "nn = np.array([nodes[i] for i in stencil])\n",
    "\n",
    "dist_mat = [[dist(x,y) for x in nn] for y in nn]\n",
    "d = np.min(np.diag([10**5]*k) + dist_mat)*delta\n",
    "\n",
    "nnp = nn*(1+d)\n",
    "nnm = nn*(1-d)\n",
    "nna = np.concatenate([[nn],[nnp],[nnm]]).reshape((3*k, 3))\n",
    "\n",
    "# reconstruct surface\n",
    "A = np.array([[rbf(dist(x,y)) for x in nna] for y in nna])\n",
    "#fsa = np.array([exact(x) for x in nn]*3)\n",
    "f_level = [0.0]*k + [1.0]*k+ [-1.0]*k\n",
    "f_level = np.array(f_level)\n",
    "cs = la.solve(A,f_level)\n",
    "\n",
    "grad_s = np.zeros((k, 3))\n",
    "for c, x in zip(cs, nna):\n",
    "    grad_s += [c*grad_rbf(x,y) for y in nn]\n",
    "\n",
    "normals = np.array([gs/norm(gs) for gs in grad_s])\n",
    "#for i, (node, normal) in enumerate(zip(nn, normals)):\n",
    "#    if norm(node - normal) > 1:\n",
    "#        normals[i] = -normals[i]\n",
    "\n",
    "#yyp = nn*(1+gamma*d)\n",
    "#yym = nn*(1-gamma*d)\n",
    "yyp = nn + normals*gamma*d\n",
    "yym = nn - normals*gamma*d\n",
    "\n",
    "yya = np.concatenate([[nn],[yyp],[yym]]).reshape((3*k, 3))\n",
    "\n",
    "'''\n",
    "fig = plt.figure(figsize=(8,8))\n",
    "ax = fig.add_subplot(111, projection='3d')\n",
    "\n",
    "ax.scatter(nnp[:,0], nnp[:,1], nnp[:,2], '.', color='r')\n",
    "ax.scatter(yyp[:,0], yyp[:,1], yyp[:,2], '.', color='c')\n",
    "ax.scatter( nn[:,0],  nn[:,1],  nn[:,2], '.', color='b')\n",
    "ax.scatter(yym[:,0], yym[:,1], yym[:,2], '.', color='y')\n",
    "ax.scatter(nnm[:,0], nnm[:,1], nnm[:,2], '.', color='g')\n",
    "ax.scatter(0, 0, 0, '.', color='k')\n",
    "\n",
    "plt.show()\n",
    "'''\n",
    "\n",
    "A = np.array([[rbf(dist(x,y)) for x in yya] for y in nna])\n",
    "B = np.array([[rbfL(dist(x,y)) for x in yya] for y in nna])\n",
    "\n",
    "print('cond A: %g' % cond(A))\n",
    "print('cond B: %g' % cond(A))\n",
    "\n",
    "fs = np.array([exact(x) for x in nna])\n",
    "us = B@la.solve(A, fs)\n",
    "\n",
    "#D = B * inv(A)\n",
    "#D = D[:k, :k] + D[:k, k:2*k] + D[:k, 2*k:3*k]\n",
    "\n",
    "\n",
    "ds = np.array([foo(x) for x in nn])\n",
    "\n",
    "print(norm(us[:k] - ds)/norm(ds))\n",
    "print(((us)[0] - foo(nn[0]))/foo(nn[0]))"
   ]
  },
  {
   "cell_type": "code",
   "execution_count": 87,
   "metadata": {},
   "outputs": [
    {
     "data": {
      "text/plain": [
       "array([[0.99716724, 0.59058204, 0.73274654],\n",
       "       [0.59057333, 0.99716724, 0.67010916],\n",
       "       [0.73274352, 0.67011336, 0.99716724]])"
      ]
     },
     "execution_count": 87,
     "metadata": {},
     "output_type": "execute_result"
    }
   ],
   "source": [
    "cond: 1.18112e+09\n",
    "2251585.55225971\n",
    "2579107.366339111"
   ]
  },
  {
   "cell_type": "code",
   "execution_count": 42,
   "metadata": {},
   "outputs": [
    {
     "data": {
      "text/plain": [
       "0.4882599028434908"
      ]
     },
     "execution_count": 42,
     "metadata": {},
     "output_type": "execute_result"
    }
   ],
   "source": [
    "rbf(dist(yya[-2], nna[-1]))"
   ]
  },
  {
   "cell_type": "code",
   "execution_count": 50,
   "metadata": {},
   "outputs": [
    {
     "data": {
      "text/plain": [
       "1.9502455490380237"
      ]
     },
     "execution_count": 50,
     "metadata": {},
     "output_type": "execute_result"
    }
   ],
   "source": [
    "np.max(ds)"
   ]
  },
  {
   "cell_type": "code",
   "execution_count": null,
   "metadata": {},
   "outputs": [],
   "source": [
    "grad_mat"
   ]
  },
  {
   "cell_type": "code",
   "execution_count": null,
   "metadata": {},
   "outputs": [],
   "source": [
    "grad_s"
   ]
  },
  {
   "cell_type": "code",
   "execution_count": null,
   "metadata": {},
   "outputs": [],
   "source": [
    "normals"
   ]
  },
  {
   "cell_type": "code",
   "execution_count": null,
   "metadata": {},
   "outputs": [],
   "source": [
    "yyp + nn"
   ]
  },
  {
   "cell_type": "code",
   "execution_count": null,
   "metadata": {},
   "outputs": [],
   "source": [
    "nn - yyp"
   ]
  },
  {
   "cell_type": "code",
   "execution_count": null,
   "metadata": {},
   "outputs": [],
   "source": [
    "normals"
   ]
  },
  {
   "cell_type": "code",
   "execution_count": null,
   "metadata": {},
   "outputs": [],
   "source": []
  }
 ],
 "metadata": {
  "kernelspec": {
   "display_name": "Python 3",
   "language": "python",
   "name": "python3"
  },
  "language_info": {
   "codemirror_mode": {
    "name": "ipython",
    "version": 3
   },
   "file_extension": ".py",
   "mimetype": "text/x-python",
   "name": "python",
   "nbconvert_exporter": "python",
   "pygments_lexer": "ipython3",
   "version": "3.6.5"
  }
 },
 "nbformat": 4,
 "nbformat_minor": 2
}

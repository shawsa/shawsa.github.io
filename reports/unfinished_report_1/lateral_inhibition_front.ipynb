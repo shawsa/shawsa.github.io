{
 "cells": [
  {
   "cell_type": "code",
   "execution_count": 102,
   "id": "78778518-5b5b-493b-81fd-01ecfbb381ae",
   "metadata": {},
   "outputs": [],
   "source": [
    "%matplotlib inline\n",
    "import matplotlib.pyplot as plt\n",
    "import sympy as sym\n",
    "import numpy as np\n",
    "\n",
    "sympy_modules = [{'Heaviside': lambda x: np.heaviside(x, 0.5)}, 'numpy']\n",
    "\n",
    "from scipy.optimize import bisect"
   ]
  },
  {
   "cell_type": "code",
   "execution_count": 2,
   "id": "2d2ae075-bb41-4cec-87d4-bc15ff3a24d0",
   "metadata": {},
   "outputs": [],
   "source": [
    "γ, c, α, μ, θ = sym.symbols(r'\\gamma c \\alpha \\mu \\theta', real=True, positive=True)\n",
    "ξ, y, x = sym.symbols(r'\\xi y x', real=True)"
   ]
  },
  {
   "cell_type": "code",
   "execution_count": 3,
   "id": "9ce84ee2-2b00-49be-a65d-1379983d4ba4",
   "metadata": {},
   "outputs": [],
   "source": [
    "w = (1 - sym.Abs(x))*sym.exp(-sym.Abs(x))\n",
    "Q = γ + (1-γ)*sym.exp(y/c/α/γ)"
   ]
  },
  {
   "cell_type": "code",
   "execution_count": 4,
   "id": "a36a6658-5740-42a0-81eb-717c58aeee6a",
   "metadata": {},
   "outputs": [],
   "source": [
    "arg = w.subs(x, ξ-y)*Q"
   ]
  },
  {
   "cell_type": "code",
   "execution_count": 5,
   "id": "1ff75828-7a18-42fb-9c4c-9f3a9cae679a",
   "metadata": {},
   "outputs": [],
   "source": [
    "forcing_positive = sym.integrate(arg.subs(sym.Abs(ξ-y), ξ-y), (y, -sym.oo, 0))"
   ]
  },
  {
   "cell_type": "code",
   "execution_count": 6,
   "id": "4fdd760d-5f58-427b-ba4e-7decebe1507d",
   "metadata": {},
   "outputs": [],
   "source": [
    "forcing_negative = sym.integrate(arg.subs(sym.Abs(ξ-y), ξ-y), (y, -sym.oo, ξ)) + sym.integrate(arg.subs(sym.Abs(ξ-y), y-ξ), (y, ξ, 0)).args[0][0]\n",
    "forcing_negative = forcing_negative.expand().collect(sym.exp(ξ)).collect(sym.exp(ξ/α/γ/c))"
   ]
  },
  {
   "cell_type": "markdown",
   "id": "6ba0584b-536a-41db-afc5-aca61507c0ec",
   "metadata": {},
   "source": [
    "$\\xi < 0$ "
   ]
  },
  {
   "cell_type": "code",
   "execution_count": 7,
   "id": "240e6d72-2417-4c1d-a309-45fa38086aa8",
   "metadata": {},
   "outputs": [],
   "source": [
    "U_left = sym.exp(ξ/c/μ) *(θ + sym.integrate(sym.exp(-ξ/c/μ)*forcing_negative, (ξ, 0, ξ)).args[-1][0])"
   ]
  },
  {
   "cell_type": "code",
   "execution_count": 8,
   "id": "06b50e1a-41fd-4a41-927a-a3f7bdec00f8",
   "metadata": {},
   "outputs": [
    {
     "data": {
      "text/latex": [
       "$\\displaystyle \\frac{\\gamma \\mu c^{2} \\left(- \\alpha^{5} \\gamma^{4} \\mu c^{4} + 2 \\alpha^{4} \\gamma^{4} \\mu c^{3} - \\alpha^{4} \\gamma^{4} c^{2} + \\alpha^{4} \\gamma^{3} \\mu^{2} c^{4} - 2 \\alpha^{4} \\gamma^{3} \\mu c^{3} + \\alpha^{4} \\gamma^{3} c^{2} + 2 \\alpha^{3} \\gamma^{3} \\mu^{2} c^{3} - 4 \\alpha^{3} \\gamma^{3} \\mu c^{2} + 2 \\alpha^{3} \\gamma^{3} c - 2 \\alpha^{3} \\gamma^{2} \\mu^{2} c^{3} + 6 \\alpha^{3} \\gamma^{2} \\mu c^{2} - 2 \\alpha^{3} \\gamma^{2} c - 3 \\alpha^{2} \\gamma^{2} \\mu^{2} c^{2} + 2 \\alpha^{2} \\gamma^{2} \\mu c - \\alpha^{2} \\gamma^{2} + \\alpha^{2} \\gamma \\mu^{2} c^{2} - 2 \\alpha^{2} \\gamma \\mu c + \\alpha^{2} \\gamma - \\alpha \\mu + \\mu^{2}\\right) e^{\\frac{\\xi}{\\mu c}} + \\gamma \\mu c \\left(- \\alpha^{5} \\gamma^{4} \\mu \\xi c^{5} e^{\\xi} + \\alpha^{5} \\gamma^{4} \\mu c^{5} e^{\\xi} + \\alpha^{5} \\gamma^{4} \\xi c^{4} e^{\\xi} + \\alpha^{4} \\gamma^{4} \\mu \\xi c^{4} e^{\\xi} - 2 \\alpha^{4} \\gamma^{4} \\mu c^{4} e^{\\xi} - \\alpha^{4} \\gamma^{4} \\xi c^{3} e^{\\xi} + \\alpha^{4} \\gamma^{4} c^{3} e^{\\xi} + \\alpha^{4} \\gamma^{3} \\mu^{2} \\xi c^{5} e^{\\xi} - \\alpha^{4} \\gamma^{3} \\mu^{2} c^{5} e^{\\xi} - 2 \\alpha^{4} \\gamma^{3} \\mu \\xi c^{4} e^{\\xi} + 2 \\alpha^{4} \\gamma^{3} \\mu c^{4} e^{\\xi} + \\alpha^{4} \\gamma^{3} \\xi c^{3} e^{\\xi} - \\alpha^{4} \\gamma^{3} c^{3} e^{\\xi} - \\alpha^{3} \\gamma^{3} \\mu^{2} \\xi c^{4} e^{\\xi} + 2 \\alpha^{3} \\gamma^{3} \\mu^{2} c^{4} e^{\\xi} - 4 \\alpha^{3} \\gamma^{3} \\mu^{2} c^{4} e^{\\frac{\\xi}{\\alpha \\gamma c}} + 2 \\alpha^{3} \\gamma^{3} \\mu \\xi c^{3} e^{\\xi} - 4 \\alpha^{3} \\gamma^{3} \\mu c^{3} e^{\\xi} + 8 \\alpha^{3} \\gamma^{3} \\mu c^{3} e^{\\frac{\\xi}{\\alpha \\gamma c}} - \\alpha^{3} \\gamma^{3} \\xi c^{2} e^{\\xi} + 2 \\alpha^{3} \\gamma^{3} c^{2} e^{\\xi} - 4 \\alpha^{3} \\gamma^{3} c^{2} e^{\\frac{\\xi}{\\alpha \\gamma c}} + \\alpha^{3} \\gamma^{2} \\mu^{2} \\xi c^{4} e^{\\xi} - 2 \\alpha^{3} \\gamma^{2} \\mu^{2} c^{4} e^{\\xi} + 4 \\alpha^{3} \\gamma^{2} \\mu^{2} c^{4} e^{\\frac{\\xi}{\\alpha \\gamma c}} + 2 \\alpha^{3} \\gamma^{2} \\mu c^{3} e^{\\xi} - 8 \\alpha^{3} \\gamma^{2} \\mu c^{3} e^{\\frac{\\xi}{\\alpha \\gamma c}} - \\alpha^{3} \\gamma^{2} \\xi c^{2} e^{\\xi} - 2 \\alpha^{3} \\gamma^{2} c^{2} e^{\\xi} + 4 \\alpha^{3} \\gamma^{2} c^{2} e^{\\frac{\\xi}{\\alpha \\gamma c}} - \\alpha^{2} \\gamma^{2} \\mu^{2} \\xi c^{3} e^{\\xi} + 3 \\alpha^{2} \\gamma^{2} \\mu^{2} c^{3} e^{\\xi} - 2 \\alpha^{2} \\gamma^{2} \\mu c^{2} e^{\\xi} + \\alpha^{2} \\gamma^{2} \\xi c e^{\\xi} + \\alpha^{2} \\gamma^{2} c e^{\\xi} - \\alpha^{2} \\gamma \\mu^{2} \\xi c^{3} e^{\\xi} - \\alpha^{2} \\gamma \\mu^{2} c^{3} e^{\\xi} + 2 \\alpha^{2} \\gamma \\mu \\xi c^{2} e^{\\xi} + 2 \\alpha^{2} \\gamma \\mu c^{2} e^{\\xi} - \\alpha^{2} \\gamma \\xi c e^{\\xi} - \\alpha^{2} \\gamma c e^{\\xi} + \\alpha \\gamma \\mu^{2} \\xi c^{2} e^{\\xi} - 2 \\alpha \\gamma \\mu \\xi c e^{\\xi} + \\alpha \\gamma \\xi e^{\\xi} - \\alpha \\mu^{2} \\xi c^{2} e^{\\xi} + \\alpha \\mu \\xi c e^{\\xi} + \\alpha \\mu c e^{\\xi} + \\mu^{2} \\xi c e^{\\xi} - \\mu^{2} c e^{\\xi} - \\mu \\xi e^{\\xi}\\right) + \\theta \\left(\\alpha^{5} \\gamma^{5} \\mu^{2} c^{6} - 2 \\alpha^{5} \\gamma^{5} \\mu c^{5} + \\alpha^{5} \\gamma^{5} c^{4} - \\alpha^{4} \\gamma^{4} \\mu^{3} c^{6} + 2 \\alpha^{4} \\gamma^{4} \\mu^{2} c^{5} - \\alpha^{4} \\gamma^{4} \\mu c^{4} - 2 \\alpha^{3} \\gamma^{3} \\mu^{2} c^{4} + 4 \\alpha^{3} \\gamma^{3} \\mu c^{3} - 2 \\alpha^{3} \\gamma^{3} c^{2} + 2 \\alpha^{2} \\gamma^{2} \\mu^{3} c^{4} - 4 \\alpha^{2} \\gamma^{2} \\mu^{2} c^{3} + 2 \\alpha^{2} \\gamma^{2} \\mu c^{2} + \\alpha \\gamma \\mu^{2} c^{2} - 2 \\alpha \\gamma \\mu c + \\alpha \\gamma - \\mu^{3} c^{2} + 2 \\mu^{2} c - \\mu\\right) e^{\\frac{\\xi}{\\mu c}}}{\\alpha^{5} \\gamma^{5} \\mu^{2} c^{6} - 2 \\alpha^{5} \\gamma^{5} \\mu c^{5} + \\alpha^{5} \\gamma^{5} c^{4} - \\alpha^{4} \\gamma^{4} \\mu^{3} c^{6} + 2 \\alpha^{4} \\gamma^{4} \\mu^{2} c^{5} - \\alpha^{4} \\gamma^{4} \\mu c^{4} - 2 \\alpha^{3} \\gamma^{3} \\mu^{2} c^{4} + 4 \\alpha^{3} \\gamma^{3} \\mu c^{3} - 2 \\alpha^{3} \\gamma^{3} c^{2} + 2 \\alpha^{2} \\gamma^{2} \\mu^{3} c^{4} - 4 \\alpha^{2} \\gamma^{2} \\mu^{2} c^{3} + 2 \\alpha^{2} \\gamma^{2} \\mu c^{2} + \\alpha \\gamma \\mu^{2} c^{2} - 2 \\alpha \\gamma \\mu c + \\alpha \\gamma - \\mu^{3} c^{2} + 2 \\mu^{2} c - \\mu}$"
      ],
      "text/plain": [
       "(\\gamma*\\mu*c**2*(-\\alpha**5*\\gamma**4*\\mu*c**4 + 2*\\alpha**4*\\gamma**4*\\mu*c**3 - \\alpha**4*\\gamma**4*c**2 + \\alpha**4*\\gamma**3*\\mu**2*c**4 - 2*\\alpha**4*\\gamma**3*\\mu*c**3 + \\alpha**4*\\gamma**3*c**2 + 2*\\alpha**3*\\gamma**3*\\mu**2*c**3 - 4*\\alpha**3*\\gamma**3*\\mu*c**2 + 2*\\alpha**3*\\gamma**3*c - 2*\\alpha**3*\\gamma**2*\\mu**2*c**3 + 6*\\alpha**3*\\gamma**2*\\mu*c**2 - 2*\\alpha**3*\\gamma**2*c - 3*\\alpha**2*\\gamma**2*\\mu**2*c**2 + 2*\\alpha**2*\\gamma**2*\\mu*c - \\alpha**2*\\gamma**2 + \\alpha**2*\\gamma*\\mu**2*c**2 - 2*\\alpha**2*\\gamma*\\mu*c + \\alpha**2*\\gamma - \\alpha*\\mu + \\mu**2)*exp(\\xi/(\\mu*c)) + \\gamma*\\mu*c*(-\\alpha**5*\\gamma**4*\\mu*\\xi*c**5*exp(\\xi) + \\alpha**5*\\gamma**4*\\mu*c**5*exp(\\xi) + \\alpha**5*\\gamma**4*\\xi*c**4*exp(\\xi) + \\alpha**4*\\gamma**4*\\mu*\\xi*c**4*exp(\\xi) - 2*\\alpha**4*\\gamma**4*\\mu*c**4*exp(\\xi) - \\alpha**4*\\gamma**4*\\xi*c**3*exp(\\xi) + \\alpha**4*\\gamma**4*c**3*exp(\\xi) + \\alpha**4*\\gamma**3*\\mu**2*\\xi*c**5*exp(\\xi) - \\alpha**4*\\gamma**3*\\mu**2*c**5*exp(\\xi) - 2*\\alpha**4*\\gamma**3*\\mu*\\xi*c**4*exp(\\xi) + 2*\\alpha**4*\\gamma**3*\\mu*c**4*exp(\\xi) + \\alpha**4*\\gamma**3*\\xi*c**3*exp(\\xi) - \\alpha**4*\\gamma**3*c**3*exp(\\xi) - \\alpha**3*\\gamma**3*\\mu**2*\\xi*c**4*exp(\\xi) + 2*\\alpha**3*\\gamma**3*\\mu**2*c**4*exp(\\xi) - 4*\\alpha**3*\\gamma**3*\\mu**2*c**4*exp(\\xi/(\\alpha*\\gamma*c)) + 2*\\alpha**3*\\gamma**3*\\mu*\\xi*c**3*exp(\\xi) - 4*\\alpha**3*\\gamma**3*\\mu*c**3*exp(\\xi) + 8*\\alpha**3*\\gamma**3*\\mu*c**3*exp(\\xi/(\\alpha*\\gamma*c)) - \\alpha**3*\\gamma**3*\\xi*c**2*exp(\\xi) + 2*\\alpha**3*\\gamma**3*c**2*exp(\\xi) - 4*\\alpha**3*\\gamma**3*c**2*exp(\\xi/(\\alpha*\\gamma*c)) + \\alpha**3*\\gamma**2*\\mu**2*\\xi*c**4*exp(\\xi) - 2*\\alpha**3*\\gamma**2*\\mu**2*c**4*exp(\\xi) + 4*\\alpha**3*\\gamma**2*\\mu**2*c**4*exp(\\xi/(\\alpha*\\gamma*c)) + 2*\\alpha**3*\\gamma**2*\\mu*c**3*exp(\\xi) - 8*\\alpha**3*\\gamma**2*\\mu*c**3*exp(\\xi/(\\alpha*\\gamma*c)) - \\alpha**3*\\gamma**2*\\xi*c**2*exp(\\xi) - 2*\\alpha**3*\\gamma**2*c**2*exp(\\xi) + 4*\\alpha**3*\\gamma**2*c**2*exp(\\xi/(\\alpha*\\gamma*c)) - \\alpha**2*\\gamma**2*\\mu**2*\\xi*c**3*exp(\\xi) + 3*\\alpha**2*\\gamma**2*\\mu**2*c**3*exp(\\xi) - 2*\\alpha**2*\\gamma**2*\\mu*c**2*exp(\\xi) + \\alpha**2*\\gamma**2*\\xi*c*exp(\\xi) + \\alpha**2*\\gamma**2*c*exp(\\xi) - \\alpha**2*\\gamma*\\mu**2*\\xi*c**3*exp(\\xi) - \\alpha**2*\\gamma*\\mu**2*c**3*exp(\\xi) + 2*\\alpha**2*\\gamma*\\mu*\\xi*c**2*exp(\\xi) + 2*\\alpha**2*\\gamma*\\mu*c**2*exp(\\xi) - \\alpha**2*\\gamma*\\xi*c*exp(\\xi) - \\alpha**2*\\gamma*c*exp(\\xi) + \\alpha*\\gamma*\\mu**2*\\xi*c**2*exp(\\xi) - 2*\\alpha*\\gamma*\\mu*\\xi*c*exp(\\xi) + \\alpha*\\gamma*\\xi*exp(\\xi) - \\alpha*\\mu**2*\\xi*c**2*exp(\\xi) + \\alpha*\\mu*\\xi*c*exp(\\xi) + \\alpha*\\mu*c*exp(\\xi) + \\mu**2*\\xi*c*exp(\\xi) - \\mu**2*c*exp(\\xi) - \\mu*\\xi*exp(\\xi)) + \\theta*(\\alpha**5*\\gamma**5*\\mu**2*c**6 - 2*\\alpha**5*\\gamma**5*\\mu*c**5 + \\alpha**5*\\gamma**5*c**4 - \\alpha**4*\\gamma**4*\\mu**3*c**6 + 2*\\alpha**4*\\gamma**4*\\mu**2*c**5 - \\alpha**4*\\gamma**4*\\mu*c**4 - 2*\\alpha**3*\\gamma**3*\\mu**2*c**4 + 4*\\alpha**3*\\gamma**3*\\mu*c**3 - 2*\\alpha**3*\\gamma**3*c**2 + 2*\\alpha**2*\\gamma**2*\\mu**3*c**4 - 4*\\alpha**2*\\gamma**2*\\mu**2*c**3 + 2*\\alpha**2*\\gamma**2*\\mu*c**2 + \\alpha*\\gamma*\\mu**2*c**2 - 2*\\alpha*\\gamma*\\mu*c + \\alpha*\\gamma - \\mu**3*c**2 + 2*\\mu**2*c - \\mu)*exp(\\xi/(\\mu*c)))/(\\alpha**5*\\gamma**5*\\mu**2*c**6 - 2*\\alpha**5*\\gamma**5*\\mu*c**5 + \\alpha**5*\\gamma**5*c**4 - \\alpha**4*\\gamma**4*\\mu**3*c**6 + 2*\\alpha**4*\\gamma**4*\\mu**2*c**5 - \\alpha**4*\\gamma**4*\\mu*c**4 - 2*\\alpha**3*\\gamma**3*\\mu**2*c**4 + 4*\\alpha**3*\\gamma**3*\\mu*c**3 - 2*\\alpha**3*\\gamma**3*c**2 + 2*\\alpha**2*\\gamma**2*\\mu**3*c**4 - 4*\\alpha**2*\\gamma**2*\\mu**2*c**3 + 2*\\alpha**2*\\gamma**2*\\mu*c**2 + \\alpha*\\gamma*\\mu**2*c**2 - 2*\\alpha*\\gamma*\\mu*c + \\alpha*\\gamma - \\mu**3*c**2 + 2*\\mu**2*c - \\mu)"
      ]
     },
     "execution_count": 8,
     "metadata": {},
     "output_type": "execute_result"
    }
   ],
   "source": [
    "U_left.simplify()"
   ]
  },
  {
   "cell_type": "markdown",
   "id": "a829690a-3c49-41bb-a870-850c398640ad",
   "metadata": {},
   "source": [
    "$\\xi > 0$"
   ]
  },
  {
   "cell_type": "code",
   "execution_count": 54,
   "id": "e1fc8555-6d60-4616-bbbd-5fcd57d2d85f",
   "metadata": {},
   "outputs": [
    {
     "data": {
      "text/latex": [
       "$\\displaystyle \\frac{\\left(\\gamma \\mu c \\left(\\alpha^{2} \\gamma \\mu \\xi c^{3} + \\alpha^{2} \\gamma \\mu c^{3} + \\alpha^{2} \\gamma \\xi c^{2} + \\alpha \\gamma \\mu \\xi c^{2} + 2 \\alpha \\gamma \\mu c^{2} + \\alpha \\gamma \\xi c + \\alpha \\gamma c + \\alpha \\mu \\xi c^{2} + \\alpha \\xi c - \\alpha c + \\mu \\xi c + \\mu c + \\xi\\right) + \\left(\\gamma \\mu c^{2} \\left(- \\alpha^{2} \\gamma \\mu c^{2} - 2 \\alpha \\gamma \\mu c - \\alpha \\gamma + \\alpha - \\mu\\right) + \\theta \\left(\\alpha^{2} \\gamma^{2} \\mu^{2} c^{4} + 2 \\alpha^{2} \\gamma^{2} \\mu c^{3} + \\alpha^{2} \\gamma^{2} c^{2} + 2 \\alpha \\gamma \\mu^{2} c^{3} + 4 \\alpha \\gamma \\mu c^{2} + 2 \\alpha \\gamma c + \\mu^{2} c^{2} + 2 \\mu c + 1\\right)\\right) e^{\\frac{\\xi \\left(\\mu c + 1\\right)}{\\mu c}}\\right) e^{- \\xi}}{\\alpha^{2} \\gamma^{2} \\mu^{2} c^{4} + 2 \\alpha^{2} \\gamma^{2} \\mu c^{3} + \\alpha^{2} \\gamma^{2} c^{2} + 2 \\alpha \\gamma \\mu^{2} c^{3} + 4 \\alpha \\gamma \\mu c^{2} + 2 \\alpha \\gamma c + \\mu^{2} c^{2} + 2 \\mu c + 1}$"
      ],
      "text/plain": [
       "(\\gamma*\\mu*c*(\\alpha**2*\\gamma*\\mu*\\xi*c**3 + \\alpha**2*\\gamma*\\mu*c**3 + \\alpha**2*\\gamma*\\xi*c**2 + \\alpha*\\gamma*\\mu*\\xi*c**2 + 2*\\alpha*\\gamma*\\mu*c**2 + \\alpha*\\gamma*\\xi*c + \\alpha*\\gamma*c + \\alpha*\\mu*\\xi*c**2 + \\alpha*\\xi*c - \\alpha*c + \\mu*\\xi*c + \\mu*c + \\xi) + (\\gamma*\\mu*c**2*(-\\alpha**2*\\gamma*\\mu*c**2 - 2*\\alpha*\\gamma*\\mu*c - \\alpha*\\gamma + \\alpha - \\mu) + \\theta*(\\alpha**2*\\gamma**2*\\mu**2*c**4 + 2*\\alpha**2*\\gamma**2*\\mu*c**3 + \\alpha**2*\\gamma**2*c**2 + 2*\\alpha*\\gamma*\\mu**2*c**3 + 4*\\alpha*\\gamma*\\mu*c**2 + 2*\\alpha*\\gamma*c + \\mu**2*c**2 + 2*\\mu*c + 1))*exp(\\xi*(\\mu*c + 1)/(\\mu*c)))*exp(-\\xi)/(\\alpha**2*\\gamma**2*\\mu**2*c**4 + 2*\\alpha**2*\\gamma**2*\\mu*c**3 + \\alpha**2*\\gamma**2*c**2 + 2*\\alpha*\\gamma*\\mu**2*c**3 + 4*\\alpha*\\gamma*\\mu*c**2 + 2*\\alpha*\\gamma*c + \\mu**2*c**2 + 2*\\mu*c + 1)"
      ]
     },
     "metadata": {},
     "output_type": "display_data"
    }
   ],
   "source": [
    "U_right = sym.exp(ξ/c/μ) *(θ + sym.integrate(sym.exp(-ξ/c/μ)*forcing_positive, (ξ, 0, ξ)))\n",
    "U_right = U_right.simplify().collect(sym.exp(ξ*(μ*c+1)/μ/c))\n",
    "display(U_right)"
   ]
  },
  {
   "cell_type": "code",
   "execution_count": 55,
   "id": "f1f2c4cb-5296-46f0-baff-6201d48d2b66",
   "metadata": {},
   "outputs": [
    {
     "data": {
      "text/latex": [
       "$\\displaystyle \\alpha^{2} \\gamma^{2} \\mu^{2} c^{4} \\left(\\theta - 1\\right) + 2 \\alpha \\gamma \\mu c^{3} \\left(\\alpha \\gamma \\theta - \\gamma \\mu + \\mu \\theta\\right) + 2 \\theta c \\left(\\alpha \\gamma + \\mu\\right) + \\theta + c^{2} \\left(\\alpha^{2} \\gamma^{2} \\theta - \\alpha \\gamma^{2} \\mu + 4 \\alpha \\gamma \\mu \\theta + \\alpha \\gamma \\mu - \\gamma \\mu^{2} + \\mu^{2} \\theta\\right)$"
      ],
      "text/plain": [
       "\\alpha**2*\\gamma**2*\\mu**2*c**4*(\\theta - 1) + 2*\\alpha*\\gamma*\\mu*c**3*(\\alpha*\\gamma*\\theta - \\gamma*\\mu + \\mu*\\theta) + 2*\\theta*c*(\\alpha*\\gamma + \\mu) + \\theta + c**2*(\\alpha**2*\\gamma**2*\\theta - \\alpha*\\gamma**2*\\mu + 4*\\alpha*\\gamma*\\mu*\\theta + \\alpha*\\gamma*\\mu - \\gamma*\\mu**2 + \\mu**2*\\theta)"
      ]
     },
     "metadata": {},
     "output_type": "display_data"
    }
   ],
   "source": [
    "expr = U_right.args[1].args[0].args[0]\n",
    "display(expr.expand().collect(c).simplify())"
   ]
  },
  {
   "cell_type": "code",
   "execution_count": 95,
   "id": "ee370600-17f4-4b52-9a5d-ff4b01e3df0d",
   "metadata": {},
   "outputs": [],
   "source": [
    "U = sym.Heaviside(ξ)*U_right.subs(expr, 0) + sym.Heaviside(-ξ)*U_left"
   ]
  },
  {
   "cell_type": "code",
   "execution_count": 143,
   "id": "332dc442-9a2e-494c-ad92-df31391b7973",
   "metadata": {},
   "outputs": [
    {
     "data": {
      "image/png": "[encoded data removed]",
      "text/plain": [
       "<Figure size 432x288 with 1 Axes>"
      ]
     },
     "metadata": {
      "needs_background": "light"
     },
     "output_type": "display_data"
    }
   ],
   "source": [
    "subs_dict = {\n",
    "    α: 20,\n",
    "    γ: .2,\n",
    "    θ: .1,\n",
    "    μ: 1\n",
    "}\n",
    "func = sym.lambdify(c, expr.subs(subs_dict))\n",
    "speed = bisect(func, 0, 5)\n",
    "xs = np.linspace(-2, 5, 20001)\n",
    "plt.plot(xs, 0*xs, 'k:')\n",
    "plt.plot(xs, func(xs))\n",
    "plt.plot(speed, 0, 'b.')\n",
    "plt.ylim(-1, 1)\n",
    "\n",
    "subs_dict2 = {c: speed, **subs_dict}"
   ]
  },
  {
   "cell_type": "code",
   "execution_count": 144,
   "id": "e5e62ad3-6a4e-4527-acd5-6b1fb392ad79",
   "metadata": {},
   "outputs": [
    {
     "data": {
      "text/plain": [
       "0.8179894612828775"
      ]
     },
     "execution_count": 144,
     "metadata": {},
     "output_type": "execute_result"
    }
   ],
   "source": [
    "speed"
   ]
  },
  {
   "cell_type": "code",
   "execution_count": 145,
   "id": "ddd013fa-209b-4e4f-8198-d9bba65bfb53",
   "metadata": {},
   "outputs": [],
   "source": [
    "U_numeric = sym.lambdify(ξ, U.subs(subs_dict2), modules=sympy_modules)"
   ]
  },
  {
   "cell_type": "code",
   "execution_count": 146,
   "id": "d9440957-2f8a-4f79-8b97-80bfcbe5034b",
   "metadata": {},
   "outputs": [
    {
     "data": {
      "text/plain": [
       "0.10000000000006598"
      ]
     },
     "execution_count": 146,
     "metadata": {},
     "output_type": "execute_result"
    }
   ],
   "source": [
    "U_numeric(0)"
   ]
  },
  {
   "cell_type": "code",
   "execution_count": 147,
   "id": "590edaa8-c883-4d7f-9a36-f5344b16fc5c",
   "metadata": {},
   "outputs": [
    {
     "data": {
      "text/plain": [
       "[<matplotlib.lines.Line2D at 0x7f58cb889b00>]"
      ]
     },
     "execution_count": 147,
     "metadata": {},
     "output_type": "execute_result"
    },
    {
     "data": {
      "image/png": "[encoded data removed]",
      "text/plain": [
       "<Figure size 432x288 with 1 Axes>"
      ]
     },
     "metadata": {
      "needs_background": "light"
     },
     "output_type": "display_data"
    }
   ],
   "source": [
    "xs = np.linspace(-20, 20, 201)\n",
    "plt.plot(xs, U_numeric(xs))"
   ]
  },
  {
   "cell_type": "code",
   "execution_count": 142,
   "id": "5a7fb295-af8f-47bf-93dd-d0498a016e95",
   "metadata": {},
   "outputs": [
    {
     "data": {
      "text/latex": [
       "$\\displaystyle 0$"
      ],
      "text/plain": [
       "0"
      ]
     },
     "execution_count": 142,
     "metadata": {},
     "output_type": "execute_result"
    }
   ],
   "source": [
    "sym.limit(test.subs(subs_dict2), ξ, -sym.oo)"
   ]
  },
  {
   "cell_type": "markdown",
   "id": "ce385b41-d0bf-4b8f-92ba-7e6407309b65",
   "metadata": {},
   "source": [
    "Cannot sustain fronts. Maybe it can sustain pulses."
   ]
  },
  {
   "cell_type": "code",
   "execution_count": null,
   "id": "e80ab6ac-0c6b-46fb-950e-98040886dc8c",
   "metadata": {},
   "outputs": [],
   "source": []
  }
 ],
 "metadata": {
  "kernelspec": {
   "display_name": "Python 3",
   "language": "python",
   "name": "python3"
  },
  "language_info": {
   "codemirror_mode": {
    "name": "ipython",
    "version": 3
   },
   "file_extension": ".py",
   "mimetype": "text/x-python",
   "name": "python",
   "nbconvert_exporter": "python",
   "pygments_lexer": "ipython3",
   "version": "3.6.9"
  }
 },
 "nbformat": 4,
 "nbformat_minor": 5
}

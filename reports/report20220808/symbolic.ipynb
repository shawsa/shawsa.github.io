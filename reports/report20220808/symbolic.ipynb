{
 "cells": [
  {
   "cell_type": "code",
   "execution_count": 1,
   "id": "ff330764-b872-4f7e-8509-3517964c0cea",
   "metadata": {},
   "outputs": [],
   "source": [
    "import matplotlib.pyplot as plt\n",
    "import numpy as np\n",
    "import sympy as sym\n",
    "sympy_modules = [{'Heaviside': lambda x: np.heaviside(x,0.5)}, 'numpy']"
   ]
  },
  {
   "cell_type": "markdown",
   "id": "4c0ee7cb-8d7a-44e7-a290-ef04a4a318d7",
   "metadata": {},
   "source": [
    "# Traveling Front Derivation\n",
    "The model in characteristic coordinates is\n",
    "\\begin{align*}\n",
    "    -c\\mu U' &= -U + \\int_{\\mathbb{R}}w(\\xi, y) Q(y) f[U(y)] \\ dy \\\\\n",
    "    -c \\alpha Q' &= 1 - Q - \\alpha \\beta Q f[U]\n",
    "\\end{align*}\n",
    "Take $f(\\cdot) = H(\\cdot - \\theta)$ and $w(x,y) = \\frac{1}{2}e^{-|x-y|}$."
   ]
  },
  {
   "cell_type": "markdown",
   "id": "b66b9ce8-046d-42c8-a25b-d297b2868921",
   "metadata": {},
   "source": [
    "### params"
   ]
  },
  {
   "cell_type": "code",
   "execution_count": 2,
   "id": "152604ed-ab0e-4f82-9842-dafe978f74d2",
   "metadata": {},
   "outputs": [],
   "source": [
    "c, α, β, μ, θ = sym.symbols(r'c \\alpha \\beta \\mu \\theta', real=True)\n",
    "numeric_sub = {\n",
    "    α: 20,\n",
    "    β: .2,\n",
    "    μ: 1,\n",
    "    θ: .1\n",
    "}"
   ]
  },
  {
   "cell_type": "markdown",
   "id": "a6147e52-10c6-4a2d-b393-d3058cdbd533",
   "metadata": {},
   "source": [
    "### Q"
   ]
  },
  {
   "cell_type": "code",
   "execution_count": 3,
   "id": "05e9ebb3-09a8-40f7-b378-84e01e5ef8ff",
   "metadata": {},
   "outputs": [
    {
     "data": {
      "text/latex": [
       "$\\displaystyle Q{\\left(\\xi \\right)} = \\begin{cases} \\frac{\\alpha \\beta e^{\\frac{\\xi \\left(\\alpha \\beta + 1\\right)}{\\alpha c}} + 1}{\\alpha \\beta + 1} & \\text{for}\\: \\xi < 0 \\\\1 & \\text{otherwise} \\end{cases}$"
      ],
      "text/plain": [
       "Eq(Q(\\xi), Piecewise(((\\alpha*\\beta*exp(\\xi*(\\alpha*\\beta + 1)/(\\alpha*c)) + 1)/(\\alpha*\\beta + 1), \\xi < 0), (1, True)))"
      ]
     },
     "metadata": {},
     "output_type": "display_data"
    }
   ],
   "source": [
    "ξ, y = sym.symbols(r'\\xi y', real=True)\n",
    "\n",
    "Q = sym.Function('Q')(ξ)\n",
    "Q_left = sym.dsolve(1 - Q - α*β*Q + c*α*Q.diff(ξ), ics={Q.subs(ξ,0): 1}).args[1].simplify().collect(sym.exp((1+α*β)/(c*α)*ξ))\n",
    "Q_right = 1\n",
    "Q_sol = sym.Piecewise((Q_left, ξ<0), (Q_right, True))\n",
    "display(sym.Eq(Q, Q_sol))"
   ]
  },
  {
   "cell_type": "markdown",
   "id": "76249910-46e2-44f5-9b7a-7c3a32d724b8",
   "metadata": {},
   "source": [
    "### U"
   ]
  },
  {
   "cell_type": "code",
   "execution_count": 4,
   "id": "c1d329cf-cb3b-4a10-acd8-2db07c119fc1",
   "metadata": {},
   "outputs": [],
   "source": [
    "U = sym.Function('U')(ξ)"
   ]
  },
  {
   "cell_type": "markdown",
   "id": "6923c830-639b-4320-9034-7cb8d2fbf828",
   "metadata": {},
   "source": [
    "If $\\xi > 0$ then\n",
    "$$\n",
    "-c \\mu U' + U = \\frac{1}{2} e^{-\\xi} \\int_{-\\infty}^0 e^y Q(y) \\ dy\n",
    "$$"
   ]
  },
  {
   "cell_type": "code",
   "execution_count": 5,
   "id": "dce5f327-47d1-44cd-b32d-501960161cb0",
   "metadata": {},
   "outputs": [
    {
     "name": "stdout",
     "output_type": "stream",
     "text": [
      "Assume\n"
     ]
    },
    {
     "data": {
      "text/latex": [
       "$\\displaystyle \\alpha \\neq - \\frac{1}{\\beta + c}$"
      ],
      "text/plain": [
       "Ne(\\alpha, -1/(\\beta + c))"
      ]
     },
     "metadata": {},
     "output_type": "display_data"
    }
   ],
   "source": [
    "integral_options = sym.integrate(sym.exp(y) * Q_left.subs(ξ, y), (y, -sym.oo, 0))\n",
    "# this integral evaluates to different values depending on the parameters\n",
    "print('Assume')\n",
    "display(integral_options.args[0].args[1])\n",
    "integral = integral_options.args[0].args[0]\n",
    "rhs = sym.Rational(1,2)*sym.exp(-ξ)*integral"
   ]
  },
  {
   "cell_type": "code",
   "execution_count": 6,
   "id": "71d84c05-fc6d-4406-9cc4-19d836f2d4be",
   "metadata": {},
   "outputs": [
    {
     "name": "stdout",
     "output_type": "stream",
     "text": [
      "Assume\n"
     ]
    },
    {
     "data": {
      "text/latex": [
       "$\\displaystyle \\mu \\neq - \\frac{1}{c}$"
      ],
      "text/plain": [
       "Ne(\\mu, -1/c)"
      ]
     },
     "metadata": {},
     "output_type": "display_data"
    }
   ],
   "source": [
    "sol_right_obj = sym.dsolve(-c*μ*U.diff(ξ) + U - rhs).simplify()\n",
    "print('Assume')\n",
    "display(sol_right_obj.args[1].args[0].args[1])\n",
    "sol_left_not_constrained = sol_right_obj.args[1].args[0].args[0].expand().powsimp()"
   ]
  },
  {
   "cell_type": "code",
   "execution_count": 7,
   "id": "09cbeee6-44b3-4b6e-b745-9b2879ba914f",
   "metadata": {},
   "outputs": [],
   "source": [
    "cond = sol_left_not_constrained.collect(sym.exp(ξ)).coeff(sym.exp(-ξ)).factor()\n",
    "U_right = cond*sym.exp(-ξ)"
   ]
  },
  {
   "cell_type": "markdown",
   "id": "f0c0772b-e4c4-4adc-8d7f-b64b9280876e",
   "metadata": {},
   "source": [
    "If $\\xi < 0$ then we will have two terms in the forcing\n",
    "$$\n",
    "-c \\mu U' + U = \\frac{1}{2}e^{-\\xi} \\int_{-\\infty}^\\xi e^y Q(y) \\ dy + \\frac{1}{2}e^\\xi \\int_{\\xi}^0 e^{-y}Q(y) \\ dy\n",
    "$$"
   ]
  },
  {
   "cell_type": "code",
   "execution_count": 8,
   "id": "7e64907e-2df7-4ff3-be6c-2f9a605a07da",
   "metadata": {},
   "outputs": [],
   "source": [
    "integral1_options = sym.integrate(sym.exp(y)*Q_left.subs(ξ, y), (y, -sym.oo, ξ))"
   ]
  },
  {
   "cell_type": "code",
   "execution_count": 9,
   "id": "f1a02a73-13bc-4d32-b146-f1bb52489bf5",
   "metadata": {},
   "outputs": [
    {
     "name": "stdout",
     "output_type": "stream",
     "text": [
      "Assume\n"
     ]
    },
    {
     "data": {
      "text/latex": [
       "$\\displaystyle \\alpha \\neq - \\frac{1}{\\beta + c}$"
      ],
      "text/plain": [
       "Ne(\\alpha, -1/(\\beta + c))"
      ]
     },
     "metadata": {},
     "output_type": "display_data"
    },
    {
     "data": {
      "text/latex": [
       "$\\displaystyle \\frac{\\alpha^{2} \\beta c e^{\\frac{\\beta \\xi}{c} + \\xi + \\frac{\\xi}{\\alpha c}}}{\\alpha^{2} \\beta^{2} + \\alpha^{2} \\beta c + 2 \\alpha \\beta + \\alpha c + 1} + \\frac{\\alpha \\beta e^{\\xi}}{\\alpha^{2} \\beta^{2} + \\alpha^{2} \\beta c + 2 \\alpha \\beta + \\alpha c + 1} + \\frac{\\alpha c e^{\\xi}}{\\alpha^{2} \\beta^{2} + \\alpha^{2} \\beta c + 2 \\alpha \\beta + \\alpha c + 1} + \\frac{e^{\\xi}}{\\alpha^{2} \\beta^{2} + \\alpha^{2} \\beta c + 2 \\alpha \\beta + \\alpha c + 1}$"
      ],
      "text/plain": [
       "\\alpha**2*\\beta*c*exp(\\beta*\\xi/c + \\xi + \\xi/(\\alpha*c))/(\\alpha**2*\\beta**2 + \\alpha**2*\\beta*c + 2*\\alpha*\\beta + \\alpha*c + 1) + \\alpha*\\beta*exp(\\xi)/(\\alpha**2*\\beta**2 + \\alpha**2*\\beta*c + 2*\\alpha*\\beta + \\alpha*c + 1) + \\alpha*c*exp(\\xi)/(\\alpha**2*\\beta**2 + \\alpha**2*\\beta*c + 2*\\alpha*\\beta + \\alpha*c + 1) + exp(\\xi)/(\\alpha**2*\\beta**2 + \\alpha**2*\\beta*c + 2*\\alpha*\\beta + \\alpha*c + 1)"
      ]
     },
     "metadata": {},
     "output_type": "display_data"
    }
   ],
   "source": [
    "print('Assume')\n",
    "display(integral1_options.args[0].args[1])\n",
    "integral1 = integral1_options.args[0].args[0].expand().powsimp()\n",
    "display(integral1)"
   ]
  },
  {
   "cell_type": "code",
   "execution_count": 10,
   "id": "05ebb9ca-bb5a-4ca1-8a54-f4932716da89",
   "metadata": {},
   "outputs": [],
   "source": [
    "A1, A2 = sym.symbols('A_1 A_2', real=True)\n",
    "coeffs = [A1, A2]\n",
    "terms = [sym.exp(ξ), \n",
    "         sym.exp((α*β + α*c + 1)/(α*c)*ξ)]\n",
    "sub_dict = {\n",
    "    A1: integral1.coeff(sym.exp(ξ)),\n",
    "    A2: integral1.coeff(sym.exp(β*ξ/c + ξ + ξ/α/c))\n",
    "}\n",
    "new_integral1 = sum(c*f for c, f in zip(coeffs, terms))\n",
    "assert((new_integral1.subs(sub_dict) - integral1).simplify() == 0)"
   ]
  },
  {
   "cell_type": "code",
   "execution_count": 11,
   "id": "f8fc8bec-0049-49e9-885e-b1251306757c",
   "metadata": {},
   "outputs": [],
   "source": [
    "integral2_options = sym.integrate(sym.exp(-y)*Q_left.subs(ξ, y), (y, ξ, 0))"
   ]
  },
  {
   "cell_type": "code",
   "execution_count": 12,
   "id": "2df7bdd4-9369-4771-baf1-eef00d0fe75f",
   "metadata": {},
   "outputs": [
    {
     "name": "stdout",
     "output_type": "stream",
     "text": [
      "Assume\n"
     ]
    },
    {
     "data": {
      "text/latex": [
       "$\\displaystyle \\alpha \\neq \\frac{1}{- \\beta + c}$"
      ],
      "text/plain": [
       "Ne(\\alpha, 1/(-\\beta + c))"
      ]
     },
     "metadata": {},
     "output_type": "display_data"
    },
    {
     "data": {
      "text/latex": [
       "$\\displaystyle \\frac{\\alpha^{2} \\beta c e^{\\frac{\\beta \\xi}{c} + \\frac{\\xi}{\\alpha c}}}{- \\alpha^{2} \\beta^{2} e^{\\xi} + \\alpha^{2} \\beta c e^{\\xi} - 2 \\alpha \\beta e^{\\xi} + \\alpha c e^{\\xi} - e^{\\xi}} - \\frac{\\alpha^{2} \\beta c}{- \\alpha^{2} \\beta^{2} + \\alpha^{2} \\beta c - 2 \\alpha \\beta + \\alpha c - 1} - \\frac{\\alpha \\beta}{- \\alpha^{2} \\beta^{2} e^{\\xi} + \\alpha^{2} \\beta c e^{\\xi} - 2 \\alpha \\beta e^{\\xi} + \\alpha c e^{\\xi} - e^{\\xi}} + \\frac{\\alpha \\beta}{- \\alpha^{2} \\beta^{2} + \\alpha^{2} \\beta c - 2 \\alpha \\beta + \\alpha c - 1} + \\frac{\\alpha c}{- \\alpha^{2} \\beta^{2} e^{\\xi} + \\alpha^{2} \\beta c e^{\\xi} - 2 \\alpha \\beta e^{\\xi} + \\alpha c e^{\\xi} - e^{\\xi}} - \\frac{\\alpha c}{- \\alpha^{2} \\beta^{2} + \\alpha^{2} \\beta c - 2 \\alpha \\beta + \\alpha c - 1} - \\frac{1}{- \\alpha^{2} \\beta^{2} e^{\\xi} + \\alpha^{2} \\beta c e^{\\xi} - 2 \\alpha \\beta e^{\\xi} + \\alpha c e^{\\xi} - e^{\\xi}} + \\frac{1}{- \\alpha^{2} \\beta^{2} + \\alpha^{2} \\beta c - 2 \\alpha \\beta + \\alpha c - 1}$"
      ],
      "text/plain": [
       "\\alpha**2*\\beta*c*exp(\\beta*\\xi/c + \\xi/(\\alpha*c))/(-\\alpha**2*\\beta**2*exp(\\xi) + \\alpha**2*\\beta*c*exp(\\xi) - 2*\\alpha*\\beta*exp(\\xi) + \\alpha*c*exp(\\xi) - exp(\\xi)) - \\alpha**2*\\beta*c/(-\\alpha**2*\\beta**2 + \\alpha**2*\\beta*c - 2*\\alpha*\\beta + \\alpha*c - 1) - \\alpha*\\beta/(-\\alpha**2*\\beta**2*exp(\\xi) + \\alpha**2*\\beta*c*exp(\\xi) - 2*\\alpha*\\beta*exp(\\xi) + \\alpha*c*exp(\\xi) - exp(\\xi)) + \\alpha*\\beta/(-\\alpha**2*\\beta**2 + \\alpha**2*\\beta*c - 2*\\alpha*\\beta + \\alpha*c - 1) + \\alpha*c/(-\\alpha**2*\\beta**2*exp(\\xi) + \\alpha**2*\\beta*c*exp(\\xi) - 2*\\alpha*\\beta*exp(\\xi) + \\alpha*c*exp(\\xi) - exp(\\xi)) - \\alpha*c/(-\\alpha**2*\\beta**2 + \\alpha**2*\\beta*c - 2*\\alpha*\\beta + \\alpha*c - 1) - 1/(-\\alpha**2*\\beta**2*exp(\\xi) + \\alpha**2*\\beta*c*exp(\\xi) - 2*\\alpha*\\beta*exp(\\xi) + \\alpha*c*exp(\\xi) - exp(\\xi)) + 1/(-\\alpha**2*\\beta**2 + \\alpha**2*\\beta*c - 2*\\alpha*\\beta + \\alpha*c - 1)"
      ]
     },
     "metadata": {},
     "output_type": "display_data"
    }
   ],
   "source": [
    "print('Assume')\n",
    "display(integral2_options.args[0].args[1])\n",
    "integral2 = integral2_options.args[0].args[0].expand().powsimp()\n",
    "display(integral2)"
   ]
  },
  {
   "cell_type": "code",
   "execution_count": 13,
   "id": "07ac8f07-8410-49b5-9440-2b7f738d1f39",
   "metadata": {},
   "outputs": [],
   "source": [
    "B1, B2, B3 = sym.symbols('B_1, B_2, B_3', real=True)\n",
    "coeffs = [B1, B2, B3]\n",
    "terms = [1, sym.exp(-ξ), sym.exp((α*β - α*c + 1)/(α*c) * ξ)]\n",
    "sub_dict[B3] = (integral2.coeff(sym.exp(β*ξ/c + ξ/α/c))*sym.exp(ξ)).simplify()\n",
    "sub_dict[B1] = sum(arg for arg in integral2.args if ξ not in arg.free_symbols)\n",
    "sub_dict[B2] = (integral2 - sub_dict[B1] - terms[2]*sub_dict[B3]).simplify().coeff(sym.exp(-ξ))\n",
    "new_integral2 = sum(c*f for c, f in zip(coeffs, terms))\n",
    "assert((new_integral2.subs(sub_dict) - integral2).simplify() == 0)"
   ]
  },
  {
   "cell_type": "code",
   "execution_count": 14,
   "id": "a0f8e97d-c1de-4d6e-961d-a2ad06bebb0d",
   "metadata": {},
   "outputs": [
    {
     "data": {
      "text/latex": [
       "$\\displaystyle \\frac{\\alpha^{2} \\beta c}{2 \\alpha^{2} \\beta^{2} e^{\\xi} + 2 \\alpha^{2} \\beta c e^{\\xi} + 4 \\alpha \\beta e^{\\xi} + 2 \\alpha c e^{\\xi} + 2 e^{\\xi}} + \\frac{\\alpha \\beta}{2 \\alpha^{2} \\beta^{2} e^{\\xi} + 2 \\alpha^{2} \\beta c e^{\\xi} + 4 \\alpha \\beta e^{\\xi} + 2 \\alpha c e^{\\xi} + 2 e^{\\xi}} + \\frac{\\alpha c}{2 \\alpha^{2} \\beta^{2} e^{\\xi} + 2 \\alpha^{2} \\beta c e^{\\xi} + 4 \\alpha \\beta e^{\\xi} + 2 \\alpha c e^{\\xi} + 2 e^{\\xi}} + \\frac{1}{2 \\alpha^{2} \\beta^{2} e^{\\xi} + 2 \\alpha^{2} \\beta c e^{\\xi} + 4 \\alpha \\beta e^{\\xi} + 2 \\alpha c e^{\\xi} + 2 e^{\\xi}}$"
      ],
      "text/plain": [
       "\\alpha**2*\\beta*c/(2*\\alpha**2*\\beta**2*exp(\\xi) + 2*\\alpha**2*\\beta*c*exp(\\xi) + 4*\\alpha*\\beta*exp(\\xi) + 2*\\alpha*c*exp(\\xi) + 2*exp(\\xi)) + \\alpha*\\beta/(2*\\alpha**2*\\beta**2*exp(\\xi) + 2*\\alpha**2*\\beta*c*exp(\\xi) + 4*\\alpha*\\beta*exp(\\xi) + 2*\\alpha*c*exp(\\xi) + 2*exp(\\xi)) + \\alpha*c/(2*\\alpha**2*\\beta**2*exp(\\xi) + 2*\\alpha**2*\\beta*c*exp(\\xi) + 4*\\alpha*\\beta*exp(\\xi) + 2*\\alpha*c*exp(\\xi) + 2*exp(\\xi)) + 1/(2*\\alpha**2*\\beta**2*exp(\\xi) + 2*\\alpha**2*\\beta*c*exp(\\xi) + 4*\\alpha*\\beta*exp(\\xi) + 2*\\alpha*c*exp(\\xi) + 2*exp(\\xi))"
      ]
     },
     "execution_count": 14,
     "metadata": {},
     "output_type": "execute_result"
    }
   ],
   "source": [
    "rhs.expand().powsimp()"
   ]
  },
  {
   "cell_type": "code",
   "execution_count": 15,
   "id": "3a8e326c-06d4-4517-947b-74e2e6f7c49c",
   "metadata": {},
   "outputs": [],
   "source": [
    "rhs = sym.Rational(1,2)*sym.exp(-ξ)*new_integral1 + sym.Rational(1,2)*sym.exp(ξ)*new_integral2\n",
    "sol_left_obj = sym.dsolve(-c*μ*U.diff(ξ) + U - rhs.expand().powsimp(), \n",
    "                          ics={U.subs(ξ,0): θ},\n",
    "                          hint='nth_linear_constant_coeff_undetermined_coefficients')"
   ]
  },
  {
   "cell_type": "code",
   "execution_count": 16,
   "id": "77065030-94b3-416b-a12a-60c557b38f20",
   "metadata": {},
   "outputs": [],
   "source": [
    "U_left = sol_left_obj.args[1].subs(sub_dict)"
   ]
  },
  {
   "cell_type": "code",
   "execution_count": 17,
   "id": "325ecdad-7fbe-4fcb-bbaa-bf2b398fb8a0",
   "metadata": {},
   "outputs": [],
   "source": [
    "U_sol = sym.Piecewise((U_left, ξ <0), (U_right, True))"
   ]
  },
  {
   "cell_type": "code",
   "execution_count": 18,
   "id": "2d514b69-a964-46a4-9c00-a07d693bc285",
   "metadata": {},
   "outputs": [
    {
     "data": {
      "text/latex": [
       "$\\displaystyle \\begin{cases} - \\frac{\\alpha^{3} \\beta c e^{\\frac{\\xi \\left(\\beta + \\frac{1}{\\alpha}\\right)}{c}}}{2 \\left(\\alpha \\beta \\mu - \\alpha + \\mu\\right) \\left(\\alpha^{2} \\beta^{2} + \\alpha^{2} \\beta c + 2 \\alpha \\beta + \\alpha c + 1\\right)} - \\frac{\\alpha^{3} \\beta c e^{\\frac{\\xi \\left(\\beta + \\frac{1}{\\alpha}\\right)}{c}}}{2 \\left(\\alpha \\beta \\mu - \\alpha + \\mu\\right) \\left(- \\alpha^{2} \\beta^{2} + \\alpha^{2} \\beta c - 2 \\alpha \\beta + \\alpha c - 1\\right)} + \\frac{\\alpha \\beta}{2 \\left(\\alpha^{2} \\beta^{2} + \\alpha^{2} \\beta c + 2 \\alpha \\beta + \\alpha c + 1\\right)} + \\frac{\\alpha c}{2 \\left(\\alpha^{2} \\beta^{2} + \\alpha^{2} \\beta c + 2 \\alpha \\beta + \\alpha c + 1\\right)} + \\frac{\\left(\\frac{\\alpha^{3} \\beta \\mu c^{2}}{\\alpha^{2} \\beta^{2} + \\alpha^{2} \\beta c + 2 \\alpha \\beta + \\alpha c + 1} + \\frac{\\alpha^{3} \\beta \\mu c^{2}}{- \\alpha^{2} \\beta^{2} + \\alpha^{2} \\beta c - 2 \\alpha \\beta + \\alpha c - 1} - \\frac{\\alpha^{3} \\beta c}{\\alpha^{2} \\beta^{2} + \\alpha^{2} \\beta c + 2 \\alpha \\beta + \\alpha c + 1} - \\frac{\\alpha^{3} \\beta c}{- \\alpha^{2} \\beta^{2} + \\alpha^{2} \\beta c - 2 \\alpha \\beta + \\alpha c - 1} + 2 \\alpha \\beta \\mu^{2} \\theta c - \\alpha \\beta \\mu^{2} c \\left(\\frac{\\alpha \\beta}{\\alpha^{2} \\beta^{2} + \\alpha^{2} \\beta c + 2 \\alpha \\beta + \\alpha c + 1} + \\frac{\\alpha c}{\\alpha^{2} \\beta^{2} + \\alpha^{2} \\beta c + 2 \\alpha \\beta + \\alpha c + 1} + \\frac{1}{\\alpha^{2} \\beta^{2} + \\alpha^{2} \\beta c + 2 \\alpha \\beta + \\alpha c + 1}\\right) - \\frac{\\alpha \\beta \\mu^{2} c}{\\alpha \\beta + 1} - 2 \\alpha \\beta \\mu \\theta + \\alpha \\beta \\mu \\left(\\frac{\\alpha \\beta}{\\alpha^{2} \\beta^{2} + \\alpha^{2} \\beta c + 2 \\alpha \\beta + \\alpha c + 1} + \\frac{\\alpha c}{\\alpha^{2} \\beta^{2} + \\alpha^{2} \\beta c + 2 \\alpha \\beta + \\alpha c + 1} + \\frac{1}{\\alpha^{2} \\beta^{2} + \\alpha^{2} \\beta c + 2 \\alpha \\beta + \\alpha c + 1}\\right) + \\alpha \\beta \\mu \\left(- \\frac{\\alpha^{2} \\beta c}{- \\alpha^{2} \\beta^{2} + \\alpha^{2} \\beta c - 2 \\alpha \\beta + \\alpha c - 1} + \\frac{\\alpha \\beta}{- \\alpha^{2} \\beta^{2} + \\alpha^{2} \\beta c - 2 \\alpha \\beta + \\alpha c - 1} - \\frac{\\alpha c}{- \\alpha^{2} \\beta^{2} + \\alpha^{2} \\beta c - 2 \\alpha \\beta + \\alpha c - 1} + \\frac{1}{- \\alpha^{2} \\beta^{2} + \\alpha^{2} \\beta c - 2 \\alpha \\beta + \\alpha c - 1}\\right) + \\frac{\\alpha \\beta \\mu}{\\alpha \\beta + 1} - 2 \\alpha \\mu \\theta c + \\alpha \\mu c \\left(\\frac{\\alpha \\beta}{\\alpha^{2} \\beta^{2} + \\alpha^{2} \\beta c + 2 \\alpha \\beta + \\alpha c + 1} + \\frac{\\alpha c}{\\alpha^{2} \\beta^{2} + \\alpha^{2} \\beta c + 2 \\alpha \\beta + \\alpha c + 1} + \\frac{1}{\\alpha^{2} \\beta^{2} + \\alpha^{2} \\beta c + 2 \\alpha \\beta + \\alpha c + 1}\\right) + \\frac{\\alpha \\mu c}{\\alpha \\beta + 1} + 2 \\alpha \\theta - \\alpha \\left(\\frac{\\alpha \\beta}{\\alpha^{2} \\beta^{2} + \\alpha^{2} \\beta c + 2 \\alpha \\beta + \\alpha c + 1} + \\frac{\\alpha c}{\\alpha^{2} \\beta^{2} + \\alpha^{2} \\beta c + 2 \\alpha \\beta + \\alpha c + 1} + \\frac{1}{\\alpha^{2} \\beta^{2} + \\alpha^{2} \\beta c + 2 \\alpha \\beta + \\alpha c + 1}\\right) - \\alpha \\left(- \\frac{\\alpha^{2} \\beta c}{- \\alpha^{2} \\beta^{2} + \\alpha^{2} \\beta c - 2 \\alpha \\beta + \\alpha c - 1} + \\frac{\\alpha \\beta}{- \\alpha^{2} \\beta^{2} + \\alpha^{2} \\beta c - 2 \\alpha \\beta + \\alpha c - 1} - \\frac{\\alpha c}{- \\alpha^{2} \\beta^{2} + \\alpha^{2} \\beta c - 2 \\alpha \\beta + \\alpha c - 1} + \\frac{1}{- \\alpha^{2} \\beta^{2} + \\alpha^{2} \\beta c - 2 \\alpha \\beta + \\alpha c - 1}\\right) - \\frac{\\alpha}{\\alpha \\beta + 1} + 2 \\mu^{2} \\theta c - \\mu^{2} c \\left(\\frac{\\alpha \\beta}{\\alpha^{2} \\beta^{2} + \\alpha^{2} \\beta c + 2 \\alpha \\beta + \\alpha c + 1} + \\frac{\\alpha c}{\\alpha^{2} \\beta^{2} + \\alpha^{2} \\beta c + 2 \\alpha \\beta + \\alpha c + 1} + \\frac{1}{\\alpha^{2} \\beta^{2} + \\alpha^{2} \\beta c + 2 \\alpha \\beta + \\alpha c + 1}\\right) - \\frac{\\mu^{2} c}{\\alpha \\beta + 1} - 2 \\mu \\theta + \\mu \\left(\\frac{\\alpha \\beta}{\\alpha^{2} \\beta^{2} + \\alpha^{2} \\beta c + 2 \\alpha \\beta + \\alpha c + 1} + \\frac{\\alpha c}{\\alpha^{2} \\beta^{2} + \\alpha^{2} \\beta c + 2 \\alpha \\beta + \\alpha c + 1} + \\frac{1}{\\alpha^{2} \\beta^{2} + \\alpha^{2} \\beta c + 2 \\alpha \\beta + \\alpha c + 1}\\right) + \\mu \\left(- \\frac{\\alpha^{2} \\beta c}{- \\alpha^{2} \\beta^{2} + \\alpha^{2} \\beta c - 2 \\alpha \\beta + \\alpha c - 1} + \\frac{\\alpha \\beta}{- \\alpha^{2} \\beta^{2} + \\alpha^{2} \\beta c - 2 \\alpha \\beta + \\alpha c - 1} - \\frac{\\alpha c}{- \\alpha^{2} \\beta^{2} + \\alpha^{2} \\beta c - 2 \\alpha \\beta + \\alpha c - 1} + \\frac{1}{- \\alpha^{2} \\beta^{2} + \\alpha^{2} \\beta c - 2 \\alpha \\beta + \\alpha c - 1}\\right) + \\frac{\\mu}{\\alpha \\beta + 1}\\right) e^{\\frac{\\xi}{\\mu c}}}{2 \\alpha \\beta \\mu^{2} c - 2 \\alpha \\beta \\mu - 2 \\alpha \\mu c + 2 \\alpha + 2 \\mu^{2} c - 2 \\mu} + \\frac{1}{2 \\left(\\alpha^{2} \\beta^{2} + \\alpha^{2} \\beta c + 2 \\alpha \\beta + \\alpha c + 1\\right)} - \\frac{\\left(- \\frac{\\alpha^{2} \\beta c}{- \\alpha^{2} \\beta^{2} + \\alpha^{2} \\beta c - 2 \\alpha \\beta + \\alpha c - 1} + \\frac{\\alpha \\beta}{- \\alpha^{2} \\beta^{2} + \\alpha^{2} \\beta c - 2 \\alpha \\beta + \\alpha c - 1} - \\frac{\\alpha c}{- \\alpha^{2} \\beta^{2} + \\alpha^{2} \\beta c - 2 \\alpha \\beta + \\alpha c - 1} + \\frac{1}{- \\alpha^{2} \\beta^{2} + \\alpha^{2} \\beta c - 2 \\alpha \\beta + \\alpha c - 1}\\right) e^{\\xi}}{2 \\left(\\mu c - 1\\right)} + \\frac{1}{2 \\left(\\alpha \\beta + 1\\right)} & \\text{for}\\: \\xi < 0 \\\\\\frac{\\left(\\alpha c + 1\\right) e^{- \\xi}}{2 \\left(\\mu c + 1\\right) \\left(\\alpha \\beta + \\alpha c + 1\\right)} & \\text{otherwise} \\end{cases}$"
      ],
      "text/plain": [
       "Piecewise((-\\alpha**3*\\beta*c*exp(\\xi*(\\beta + 1/\\alpha)/c)/(2*(\\alpha*\\beta*\\mu - \\alpha + \\mu)*(\\alpha**2*\\beta**2 + \\alpha**2*\\beta*c + 2*\\alpha*\\beta + \\alpha*c + 1)) - \\alpha**3*\\beta*c*exp(\\xi*(\\beta + 1/\\alpha)/c)/(2*(\\alpha*\\beta*\\mu - \\alpha + \\mu)*(-\\alpha**2*\\beta**2 + \\alpha**2*\\beta*c - 2*\\alpha*\\beta + \\alpha*c - 1)) + \\alpha*\\beta/(2*(\\alpha**2*\\beta**2 + \\alpha**2*\\beta*c + 2*\\alpha*\\beta + \\alpha*c + 1)) + \\alpha*c/(2*(\\alpha**2*\\beta**2 + \\alpha**2*\\beta*c + 2*\\alpha*\\beta + \\alpha*c + 1)) + (\\alpha**3*\\beta*\\mu*c**2/(\\alpha**2*\\beta**2 + \\alpha**2*\\beta*c + 2*\\alpha*\\beta + \\alpha*c + 1) + \\alpha**3*\\beta*\\mu*c**2/(-\\alpha**2*\\beta**2 + \\alpha**2*\\beta*c - 2*\\alpha*\\beta + \\alpha*c - 1) - \\alpha**3*\\beta*c/(\\alpha**2*\\beta**2 + \\alpha**2*\\beta*c + 2*\\alpha*\\beta + \\alpha*c + 1) - \\alpha**3*\\beta*c/(-\\alpha**2*\\beta**2 + \\alpha**2*\\beta*c - 2*\\alpha*\\beta + \\alpha*c - 1) + 2*\\alpha*\\beta*\\mu**2*\\theta*c - \\alpha*\\beta*\\mu**2*c*(\\alpha*\\beta/(\\alpha**2*\\beta**2 + \\alpha**2*\\beta*c + 2*\\alpha*\\beta + \\alpha*c + 1) + \\alpha*c/(\\alpha**2*\\beta**2 + \\alpha**2*\\beta*c + 2*\\alpha*\\beta + \\alpha*c + 1) + 1/(\\alpha**2*\\beta**2 + \\alpha**2*\\beta*c + 2*\\alpha*\\beta + \\alpha*c + 1)) - \\alpha*\\beta*\\mu**2*c/(\\alpha*\\beta + 1) - 2*\\alpha*\\beta*\\mu*\\theta + \\alpha*\\beta*\\mu*(\\alpha*\\beta/(\\alpha**2*\\beta**2 + \\alpha**2*\\beta*c + 2*\\alpha*\\beta + \\alpha*c + 1) + \\alpha*c/(\\alpha**2*\\beta**2 + \\alpha**2*\\beta*c + 2*\\alpha*\\beta + \\alpha*c + 1) + 1/(\\alpha**2*\\beta**2 + \\alpha**2*\\beta*c + 2*\\alpha*\\beta + \\alpha*c + 1)) + \\alpha*\\beta*\\mu*(-\\alpha**2*\\beta*c/(-\\alpha**2*\\beta**2 + \\alpha**2*\\beta*c - 2*\\alpha*\\beta + \\alpha*c - 1) + \\alpha*\\beta/(-\\alpha**2*\\beta**2 + \\alpha**2*\\beta*c - 2*\\alpha*\\beta + \\alpha*c - 1) - \\alpha*c/(-\\alpha**2*\\beta**2 + \\alpha**2*\\beta*c - 2*\\alpha*\\beta + \\alpha*c - 1) + 1/(-\\alpha**2*\\beta**2 + \\alpha**2*\\beta*c - 2*\\alpha*\\beta + \\alpha*c - 1)) + \\alpha*\\beta*\\mu/(\\alpha*\\beta + 1) - 2*\\alpha*\\mu*\\theta*c + \\alpha*\\mu*c*(\\alpha*\\beta/(\\alpha**2*\\beta**2 + \\alpha**2*\\beta*c + 2*\\alpha*\\beta + \\alpha*c + 1) + \\alpha*c/(\\alpha**2*\\beta**2 + \\alpha**2*\\beta*c + 2*\\alpha*\\beta + \\alpha*c + 1) + 1/(\\alpha**2*\\beta**2 + \\alpha**2*\\beta*c + 2*\\alpha*\\beta + \\alpha*c + 1)) + \\alpha*\\mu*c/(\\alpha*\\beta + 1) + 2*\\alpha*\\theta - \\alpha*(\\alpha*\\beta/(\\alpha**2*\\beta**2 + \\alpha**2*\\beta*c + 2*\\alpha*\\beta + \\alpha*c + 1) + \\alpha*c/(\\alpha**2*\\beta**2 + \\alpha**2*\\beta*c + 2*\\alpha*\\beta + \\alpha*c + 1) + 1/(\\alpha**2*\\beta**2 + \\alpha**2*\\beta*c + 2*\\alpha*\\beta + \\alpha*c + 1)) - \\alpha*(-\\alpha**2*\\beta*c/(-\\alpha**2*\\beta**2 + \\alpha**2*\\beta*c - 2*\\alpha*\\beta + \\alpha*c - 1) + \\alpha*\\beta/(-\\alpha**2*\\beta**2 + \\alpha**2*\\beta*c - 2*\\alpha*\\beta + \\alpha*c - 1) - \\alpha*c/(-\\alpha**2*\\beta**2 + \\alpha**2*\\beta*c - 2*\\alpha*\\beta + \\alpha*c - 1) + 1/(-\\alpha**2*\\beta**2 + \\alpha**2*\\beta*c - 2*\\alpha*\\beta + \\alpha*c - 1)) - \\alpha/(\\alpha*\\beta + 1) + 2*\\mu**2*\\theta*c - \\mu**2*c*(\\alpha*\\beta/(\\alpha**2*\\beta**2 + \\alpha**2*\\beta*c + 2*\\alpha*\\beta + \\alpha*c + 1) + \\alpha*c/(\\alpha**2*\\beta**2 + \\alpha**2*\\beta*c + 2*\\alpha*\\beta + \\alpha*c + 1) + 1/(\\alpha**2*\\beta**2 + \\alpha**2*\\beta*c + 2*\\alpha*\\beta + \\alpha*c + 1)) - \\mu**2*c/(\\alpha*\\beta + 1) - 2*\\mu*\\theta + \\mu*(\\alpha*\\beta/(\\alpha**2*\\beta**2 + \\alpha**2*\\beta*c + 2*\\alpha*\\beta + \\alpha*c + 1) + \\alpha*c/(\\alpha**2*\\beta**2 + \\alpha**2*\\beta*c + 2*\\alpha*\\beta + \\alpha*c + 1) + 1/(\\alpha**2*\\beta**2 + \\alpha**2*\\beta*c + 2*\\alpha*\\beta + \\alpha*c + 1)) + \\mu*(-\\alpha**2*\\beta*c/(-\\alpha**2*\\beta**2 + \\alpha**2*\\beta*c - 2*\\alpha*\\beta + \\alpha*c - 1) + \\alpha*\\beta/(-\\alpha**2*\\beta**2 + \\alpha**2*\\beta*c - 2*\\alpha*\\beta + \\alpha*c - 1) - \\alpha*c/(-\\alpha**2*\\beta**2 + \\alpha**2*\\beta*c - 2*\\alpha*\\beta + \\alpha*c - 1) + 1/(-\\alpha**2*\\beta**2 + \\alpha**2*\\beta*c - 2*\\alpha*\\beta + \\alpha*c - 1)) + \\mu/(\\alpha*\\beta + 1))*exp(\\xi/(\\mu*c))/(2*\\alpha*\\beta*\\mu**2*c - 2*\\alpha*\\beta*\\mu - 2*\\alpha*\\mu*c + 2*\\alpha + 2*\\mu**2*c - 2*\\mu) + 1/(2*(\\alpha**2*\\beta**2 + \\alpha**2*\\beta*c + 2*\\alpha*\\beta + \\alpha*c + 1)) - (-\\alpha**2*\\beta*c/(-\\alpha**2*\\beta**2 + \\alpha**2*\\beta*c - 2*\\alpha*\\beta + \\alpha*c - 1) + \\alpha*\\beta/(-\\alpha**2*\\beta**2 + \\alpha**2*\\beta*c - 2*\\alpha*\\beta + \\alpha*c - 1) - \\alpha*c/(-\\alpha**2*\\beta**2 + \\alpha**2*\\beta*c - 2*\\alpha*\\beta + \\alpha*c - 1) + 1/(-\\alpha**2*\\beta**2 + \\alpha**2*\\beta*c - 2*\\alpha*\\beta + \\alpha*c - 1))*exp(\\xi)/(2*(\\mu*c - 1)) + 1/(2*(\\alpha*\\beta + 1)), \\xi < 0), ((\\alpha*c + 1)*exp(-\\xi)/(2*(\\mu*c + 1)*(\\alpha*\\beta + \\alpha*c + 1)), True))"
      ]
     },
     "execution_count": 18,
     "metadata": {},
     "output_type": "execute_result"
    }
   ],
   "source": [
    "U_sol"
   ]
  },
  {
   "cell_type": "code",
   "execution_count": 22,
   "id": "f3f6603b-e100-4755-9068-0e37bc05a2bc",
   "metadata": {},
   "outputs": [
    {
     "data": {
      "text/latex": [
       "$\\displaystyle \\frac{\\left(\\alpha c + 1\\right) e^{- \\xi}}{2 \\left(\\mu c + 1\\right) \\left(\\alpha \\beta + \\alpha c + 1\\right)}$"
      ],
      "text/plain": [
       "(\\alpha*c + 1)*exp(-\\xi)/(2*(\\mu*c + 1)*(\\alpha*\\beta + \\alpha*c + 1))"
      ]
     },
     "execution_count": 22,
     "metadata": {},
     "output_type": "execute_result"
    }
   ],
   "source": [
    "U_right"
   ]
  },
  {
   "cell_type": "code",
   "execution_count": null,
   "id": "f44e77f2-e877-47bf-80fd-31cdafadf9dd",
   "metadata": {},
   "outputs": [],
   "source": []
  },
  {
   "cell_type": "code",
   "execution_count": 33,
   "id": "7a1fc608-8543-4eb8-83af-af7eeeeed33c",
   "metadata": {},
   "outputs": [
    {
     "data": {
      "text/plain": [
       "{\\alpha, \\beta, \\mu, \\theta, \\xi, c}"
      ]
     },
     "execution_count": 33,
     "metadata": {},
     "output_type": "execute_result"
    }
   ],
   "source": [
    "U_left.free_symbols"
   ]
  },
  {
   "cell_type": "code",
   "execution_count": 37,
   "id": "f010b567-1b81-4f06-a6e3-fd35bc00ab31",
   "metadata": {},
   "outputs": [],
   "source": [
    "left_lim = sum(term for term in U_left.expand().args if ξ not in term.free_symbols)"
   ]
  },
  {
   "cell_type": "code",
   "execution_count": 39,
   "id": "3912bf43-2cb8-4c46-b91b-b8e4ba84add9",
   "metadata": {},
   "outputs": [
    {
     "data": {
      "text/latex": [
       "$\\displaystyle \\frac{1}{\\alpha \\beta + 1}$"
      ],
      "text/plain": [
       "1/(\\alpha*\\beta + 1)"
      ]
     },
     "execution_count": 39,
     "metadata": {},
     "output_type": "execute_result"
    }
   ],
   "source": [
    "left_lim.simplify()"
   ]
  },
  {
   "cell_type": "code",
   "execution_count": null,
   "id": "cc4d6ab5-d6e5-4610-9173-030954b24a8a",
   "metadata": {},
   "outputs": [],
   "source": []
  },
  {
   "cell_type": "code",
   "execution_count": null,
   "id": "52580282-2bef-48dc-9afe-bd0618647632",
   "metadata": {},
   "outputs": [],
   "source": []
  },
  {
   "cell_type": "code",
   "execution_count": null,
   "id": "e00c7da5-939b-4563-8cb1-78e713b35347",
   "metadata": {},
   "outputs": [],
   "source": []
  },
  {
   "cell_type": "code",
   "execution_count": 34,
   "id": "2cbb4198-ab84-44ec-ab34-5bf7eaa8a9ab",
   "metadata": {},
   "outputs": [
    {
     "data": {
      "text/latex": [
       "$\\displaystyle \\frac{\\alpha c + 1}{2 \\left(\\mu c + 1\\right) \\left(\\alpha \\beta + \\alpha c + 1\\right)}$"
      ],
      "text/plain": [
       "(\\alpha*c + 1)/(2*(\\mu*c + 1)*(\\alpha*\\beta + \\alpha*c + 1))"
      ]
     },
     "execution_count": 34,
     "metadata": {},
     "output_type": "execute_result"
    }
   ],
   "source": [
    "cond"
   ]
  },
  {
   "cell_type": "code",
   "execution_count": 35,
   "id": "02eb205f-b780-4bab-a113-19f11d425d75",
   "metadata": {},
   "outputs": [
    {
     "data": {
      "text/latex": [
       "$\\displaystyle \\frac{- 2 \\alpha \\beta \\mu \\theta - 2 \\alpha \\theta + \\alpha - 2 \\mu \\theta - \\sqrt{4 \\alpha^{2} \\beta^{2} \\mu^{2} \\theta^{2} - 8 \\alpha^{2} \\beta \\mu \\theta^{2} - 4 \\alpha^{2} \\beta \\mu \\theta + 4 \\alpha^{2} \\theta^{2} - 4 \\alpha^{2} \\theta + \\alpha^{2} + 8 \\alpha \\beta \\mu^{2} \\theta^{2} - 8 \\alpha \\mu \\theta^{2} + 4 \\alpha \\mu \\theta + 4 \\mu^{2} \\theta^{2}}}{4 \\alpha \\mu \\theta}$"
      ],
      "text/plain": [
       "(-2*\\alpha*\\beta*\\mu*\\theta - 2*\\alpha*\\theta + \\alpha - 2*\\mu*\\theta - sqrt(4*\\alpha**2*\\beta**2*\\mu**2*\\theta**2 - 8*\\alpha**2*\\beta*\\mu*\\theta**2 - 4*\\alpha**2*\\beta*\\mu*\\theta + 4*\\alpha**2*\\theta**2 - 4*\\alpha**2*\\theta + \\alpha**2 + 8*\\alpha*\\beta*\\mu**2*\\theta**2 - 8*\\alpha*\\mu*\\theta**2 + 4*\\alpha*\\mu*\\theta + 4*\\mu**2*\\theta**2))/(4*\\alpha*\\mu*\\theta)"
      ]
     },
     "execution_count": 35,
     "metadata": {},
     "output_type": "execute_result"
    }
   ],
   "source": [
    "sols[0]"
   ]
  },
  {
   "cell_type": "code",
   "execution_count": 36,
   "id": "815c66ab-7597-4c61-854b-1d8bd9fb8704",
   "metadata": {},
   "outputs": [
    {
     "data": {
      "text/latex": [
       "$\\displaystyle \\frac{- 2 \\alpha \\beta \\mu \\theta - 2 \\alpha \\theta + \\alpha - 2 \\mu \\theta + \\sqrt{4 \\alpha^{2} \\beta^{2} \\mu^{2} \\theta^{2} - 8 \\alpha^{2} \\beta \\mu \\theta^{2} - 4 \\alpha^{2} \\beta \\mu \\theta + 4 \\alpha^{2} \\theta^{2} - 4 \\alpha^{2} \\theta + \\alpha^{2} + 8 \\alpha \\beta \\mu^{2} \\theta^{2} - 8 \\alpha \\mu \\theta^{2} + 4 \\alpha \\mu \\theta + 4 \\mu^{2} \\theta^{2}}}{4 \\alpha \\mu \\theta}$"
      ],
      "text/plain": [
       "(-2*\\alpha*\\beta*\\mu*\\theta - 2*\\alpha*\\theta + \\alpha - 2*\\mu*\\theta + sqrt(4*\\alpha**2*\\beta**2*\\mu**2*\\theta**2 - 8*\\alpha**2*\\beta*\\mu*\\theta**2 - 4*\\alpha**2*\\beta*\\mu*\\theta + 4*\\alpha**2*\\theta**2 - 4*\\alpha**2*\\theta + \\alpha**2 + 8*\\alpha*\\beta*\\mu**2*\\theta**2 - 8*\\alpha*\\mu*\\theta**2 + 4*\\alpha*\\mu*\\theta + 4*\\mu**2*\\theta**2))/(4*\\alpha*\\mu*\\theta)"
      ]
     },
     "execution_count": 36,
     "metadata": {},
     "output_type": "execute_result"
    }
   ],
   "source": [
    "sols[1]"
   ]
  },
  {
   "cell_type": "code",
   "execution_count": null,
   "id": "0109f7a3-d0c6-47fa-9ec0-fc794974da90",
   "metadata": {},
   "outputs": [],
   "source": []
  },
  {
   "cell_type": "code",
   "execution_count": null,
   "id": "902b13d5-fb89-4ddc-be11-b5768f273beb",
   "metadata": {},
   "outputs": [],
   "source": []
  },
  {
   "cell_type": "code",
   "execution_count": 20,
   "id": "b3965543-2f2c-455b-b26b-f837966f8043",
   "metadata": {},
   "outputs": [
    {
     "data": {
      "text/latex": [
       "$\\displaystyle 0.2$"
      ],
      "text/plain": [
       "0.200000000000000"
      ]
     },
     "execution_count": 20,
     "metadata": {},
     "output_type": "execute_result"
    }
   ],
   "source": [
    "(1/(α*β + 1)).subs(numeric_sub)"
   ]
  },
  {
   "cell_type": "code",
   "execution_count": 21,
   "id": "b67a0a82-86cf-46a2-b5ff-4ab4bcdf0763",
   "metadata": {},
   "outputs": [],
   "source": [
    "c_vals = sym.solve(cond - θ, c)\n",
    "c_subs = c_vals[1]"
   ]
  },
  {
   "cell_type": "code",
   "execution_count": 22,
   "id": "66141461-77fb-4bad-a48b-8dba5effd174",
   "metadata": {},
   "outputs": [
    {
     "data": {
      "text/plain": [
       "[<matplotlib.lines.Line2D at 0x7f7515807940>]"
      ]
     },
     "execution_count": 22,
     "metadata": {},
     "output_type": "execute_result"
    },
    {
     "data": {
      "image/png": "[encoded data removed]",
      "text/plain": [
       "<Figure size 432x288 with 1 Axes>"
      ]
     },
     "metadata": {
      "needs_background": "light"
     },
     "output_type": "display_data"
    }
   ],
   "source": [
    "U_numeric = sym.lambdify(ξ, U_sol.subs(c, c_subs).subs(numeric_sub), modules=sympy_modules)\n",
    "xs = np.linspace(-100, 20, 2001)\n",
    "plt.plot(xs, U_numeric(xs))"
   ]
  },
  {
   "cell_type": "code",
   "execution_count": 23,
   "id": "c8de7b30-9ed8-4d39-b3b1-849f8b1f51a5",
   "metadata": {},
   "outputs": [
    {
     "data": {
      "text/plain": [
       "[<matplotlib.lines.Line2D at 0x7f75157aaa20>]"
      ]
     },
     "execution_count": 23,
     "metadata": {},
     "output_type": "execute_result"
    },
    {
     "data": {
      "image/png": "[encoded data removed]",
      "text/plain": [
       "<Figure size 432x288 with 1 Axes>"
      ]
     },
     "metadata": {
      "needs_background": "light"
     },
     "output_type": "display_data"
    }
   ],
   "source": [
    "U_numeric = sym.lambdify(ξ, U_sol.subs(c, c_subs).subs(numeric_sub), modules=sympy_modules)\n",
    "xs = np.linspace(-100, 20, 2001)\n",
    "plt.plot(xs, U_numeric(xs))"
   ]
  },
  {
   "cell_type": "code",
   "execution_count": 24,
   "id": "2c8c5d00-aebe-4a51-afb1-fa8bba6bf26a",
   "metadata": {},
   "outputs": [
    {
     "data": {
      "text/latex": [
       "$\\displaystyle 3.75$"
      ],
      "text/plain": [
       "3.75000000000000"
      ]
     },
     "execution_count": 24,
     "metadata": {},
     "output_type": "execute_result"
    }
   ],
   "source": [
    "c_subs.subs(numeric_sub)"
   ]
  },
  {
   "cell_type": "code",
   "execution_count": 25,
   "id": "1c40e8b8-fe23-4e5e-8249-3be1be5ec0f1",
   "metadata": {},
   "outputs": [
    {
     "data": {
      "text/latex": [
       "$\\displaystyle \\frac{\\left(1 + \\frac{- 2 \\alpha \\beta \\mu \\theta - 2 \\alpha \\theta + \\alpha - 2 \\mu \\theta + \\sqrt{4 \\alpha^{2} \\beta^{2} \\mu^{2} \\theta^{2} - 8 \\alpha^{2} \\beta \\mu \\theta^{2} - 4 \\alpha^{2} \\beta \\mu \\theta + 4 \\alpha^{2} \\theta^{2} - 4 \\alpha^{2} \\theta + \\alpha^{2} + 8 \\alpha \\beta \\mu^{2} \\theta^{2} - 8 \\alpha \\mu \\theta^{2} + 4 \\alpha \\mu \\theta + 4 \\mu^{2} \\theta^{2}}}{4 \\mu \\theta}\\right) e^{- \\xi}}{2 \\left(1 + \\frac{- 2 \\alpha \\beta \\mu \\theta - 2 \\alpha \\theta + \\alpha - 2 \\mu \\theta + \\sqrt{4 \\alpha^{2} \\beta^{2} \\mu^{2} \\theta^{2} - 8 \\alpha^{2} \\beta \\mu \\theta^{2} - 4 \\alpha^{2} \\beta \\mu \\theta + 4 \\alpha^{2} \\theta^{2} - 4 \\alpha^{2} \\theta + \\alpha^{2} + 8 \\alpha \\beta \\mu^{2} \\theta^{2} - 8 \\alpha \\mu \\theta^{2} + 4 \\alpha \\mu \\theta + 4 \\mu^{2} \\theta^{2}}}{4 \\alpha \\theta}\\right) \\left(\\alpha \\beta + 1 + \\frac{- 2 \\alpha \\beta \\mu \\theta - 2 \\alpha \\theta + \\alpha - 2 \\mu \\theta + \\sqrt{4 \\alpha^{2} \\beta^{2} \\mu^{2} \\theta^{2} - 8 \\alpha^{2} \\beta \\mu \\theta^{2} - 4 \\alpha^{2} \\beta \\mu \\theta + 4 \\alpha^{2} \\theta^{2} - 4 \\alpha^{2} \\theta + \\alpha^{2} + 8 \\alpha \\beta \\mu^{2} \\theta^{2} - 8 \\alpha \\mu \\theta^{2} + 4 \\alpha \\mu \\theta + 4 \\mu^{2} \\theta^{2}}}{4 \\mu \\theta}\\right)}$"
      ],
      "text/plain": [
       "(1 + (-2*\\alpha*\\beta*\\mu*\\theta - 2*\\alpha*\\theta + \\alpha - 2*\\mu*\\theta + sqrt(4*\\alpha**2*\\beta**2*\\mu**2*\\theta**2 - 8*\\alpha**2*\\beta*\\mu*\\theta**2 - 4*\\alpha**2*\\beta*\\mu*\\theta + 4*\\alpha**2*\\theta**2 - 4*\\alpha**2*\\theta + \\alpha**2 + 8*\\alpha*\\beta*\\mu**2*\\theta**2 - 8*\\alpha*\\mu*\\theta**2 + 4*\\alpha*\\mu*\\theta + 4*\\mu**2*\\theta**2))/(4*\\mu*\\theta))*exp(-\\xi)/(2*(1 + (-2*\\alpha*\\beta*\\mu*\\theta - 2*\\alpha*\\theta + \\alpha - 2*\\mu*\\theta + sqrt(4*\\alpha**2*\\beta**2*\\mu**2*\\theta**2 - 8*\\alpha**2*\\beta*\\mu*\\theta**2 - 4*\\alpha**2*\\beta*\\mu*\\theta + 4*\\alpha**2*\\theta**2 - 4*\\alpha**2*\\theta + \\alpha**2 + 8*\\alpha*\\beta*\\mu**2*\\theta**2 - 8*\\alpha*\\mu*\\theta**2 + 4*\\alpha*\\mu*\\theta + 4*\\mu**2*\\theta**2))/(4*\\alpha*\\theta))*(\\alpha*\\beta + 1 + (-2*\\alpha*\\beta*\\mu*\\theta - 2*\\alpha*\\theta + \\alpha - 2*\\mu*\\theta + sqrt(4*\\alpha**2*\\beta**2*\\mu**2*\\theta**2 - 8*\\alpha**2*\\beta*\\mu*\\theta**2 - 4*\\alpha**2*\\beta*\\mu*\\theta + 4*\\alpha**2*\\theta**2 - 4*\\alpha**2*\\theta + \\alpha**2 + 8*\\alpha*\\beta*\\mu**2*\\theta**2 - 8*\\alpha*\\mu*\\theta**2 + 4*\\alpha*\\mu*\\theta + 4*\\mu**2*\\theta**2))/(4*\\mu*\\theta)))"
      ]
     },
     "execution_count": 25,
     "metadata": {},
     "output_type": "execute_result"
    }
   ],
   "source": [
    "U_right.subs(c, c_subs)"
   ]
  },
  {
   "cell_type": "code",
   "execution_count": 26,
   "id": "b4114faf-bcf0-4cad-ba78-c24fda7d9698",
   "metadata": {},
   "outputs": [
    {
     "data": {
      "text/latex": [
       "$\\displaystyle c$"
      ],
      "text/plain": [
       "c"
      ]
     },
     "execution_count": 26,
     "metadata": {},
     "output_type": "execute_result"
    }
   ],
   "source": [
    "c"
   ]
  },
  {
   "cell_type": "code",
   "execution_count": 27,
   "id": "58e97054-4fbe-4389-8bdc-f1dbdbd5dbbb",
   "metadata": {},
   "outputs": [
    {
     "data": {
      "text/plain": [
       "[<matplotlib.lines.Line2D at 0x7f75156aa9e8>]"
      ]
     },
     "execution_count": 27,
     "metadata": {},
     "output_type": "execute_result"
    },
    {
     "data": {
      "image/png": "[encoded data removed]",
      "text/plain": [
       "<Figure size 432x288 with 1 Axes>"
      ]
     },
     "metadata": {
      "needs_background": "light"
     },
     "output_type": "display_data"
    }
   ],
   "source": [
    "Q_numeric = sym.lambdify(ξ, Q_sol.subs(c, c_subs).subs(numeric_sub), modules=sympy_modules)\n",
    "xs = np.linspace(-100, 20, 201)\n",
    "plt.plot(xs, Q_numeric(xs))"
   ]
  },
  {
   "cell_type": "markdown",
   "id": "df979e5e-0356-4ec9-9b64-028c79c0d9ff",
   "metadata": {},
   "source": [
    "# Wave response\n",
    "We have\n",
    "\\begin{align*}\n",
    "    -c\\mu v_1' - v_1 &= -\\frac{\\delta(\\xi)}{|U'(\\xi)|}Q\\big[(w * v_1) + \\alpha\\beta v_2) \\big] \\\\\n",
    "    -c\\alpha v_2' - v_2 &= H(-\\xi)\\big(-(w*v_1) + \\alpha\\beta v_2\\big)\n",
    "\\end{align*}"
   ]
  },
  {
   "cell_type": "markdown",
   "id": "3b55e69d-e846-462c-b6d7-2e137b37a560",
   "metadata": {},
   "source": [
    "Choose $v_1(\\xi) = H(\\xi)e^{-\\frac{1}{c\\mu}\\xi}$. We seek\n",
    "\\begin{align*}\n",
    "    w * v_1 &= \\int_0^\\infty \\frac{1}{2}e^{-|\\xi - y|}e^{-\\frac{1}{c\\mu}y} \\ dy \\\\\n",
    "\\end{align*}"
   ]
  },
  {
   "cell_type": "markdown",
   "id": "22206a21-cb4b-4ff9-83e9-14616ae8578b",
   "metadata": {},
   "source": [
    "If $\\xi > 0$ then $-c\\alpha v_2' - v_2 = 0$ and \n",
    "\n",
    "$v_2(\\xi) = A_8 e^{-\\frac{1}{c\\alpha}\\xi}$."
   ]
  },
  {
   "cell_type": "markdown",
   "id": "fcb16c6a-5d3f-41d6-b103-fd4a131d83ac",
   "metadata": {},
   "source": [
    "If $\\xi < 0$ then $\\xi - y < 0$ and\n",
    "\\begin{align*}\n",
    "    (w * v_1) &= \\int_0^\\infty \\frac{1}{2}e^{\\xi} e^{-y}e^{-\\frac{1}{c\\mu}y} \\ dy \\\\\n",
    "        &= \\frac{1}{2}e^{\\xi} \\int_0^\\infty e^{-\\frac{1+c\\mu}{c\\mu} y} \\ dy \\\\\n",
    "        &= \\frac{c \\mu}{2(1+c\\mu)}e^{\\xi}\n",
    "\\end{align*}\n",
    "so we have\n",
    "\\begin{align*}\n",
    "    -c\\alpha v_2' - (1+\\alpha\\beta)v_2 &= -\\frac{c \\mu}{2(1+c\\mu)}e^{\\xi}\n",
    "\\end{align*}"
   ]
  },
  {
   "cell_type": "code",
   "execution_count": 28,
   "id": "e643800c-34ca-43a6-8c26-1729ff926165",
   "metadata": {},
   "outputs": [],
   "source": [
    "v1 = sym.exp(-1/c/μ*ξ)*sym.Heaviside(ξ)"
   ]
  },
  {
   "cell_type": "code",
   "execution_count": null,
   "id": "a357f404-8a94-4c39-8357-3da43e1a7809",
   "metadata": {},
   "outputs": [],
   "source": []
  },
  {
   "cell_type": "code",
   "execution_count": null,
   "id": "f9b2ce93-3bdb-4771-9c0d-a30b424975d3",
   "metadata": {},
   "outputs": [],
   "source": []
  },
  {
   "cell_type": "code",
   "execution_count": null,
   "id": "5ae4cf20-6283-4401-b375-2b48b097d164",
   "metadata": {},
   "outputs": [],
   "source": []
  },
  {
   "cell_type": "code",
   "execution_count": null,
   "id": "b1d3f283-114f-4c6b-8f80-d59b7fefbe9a",
   "metadata": {},
   "outputs": [],
   "source": []
  },
  {
   "cell_type": "code",
   "execution_count": null,
   "id": "d3bc0047-3c8d-47c0-a1de-77571fac7bab",
   "metadata": {},
   "outputs": [],
   "source": []
  },
  {
   "cell_type": "code",
   "execution_count": null,
   "id": "5576e30e-521d-4aa8-8e27-ae2284d0cbe1",
   "metadata": {},
   "outputs": [],
   "source": []
  },
  {
   "cell_type": "code",
   "execution_count": null,
   "id": "8c1faf37-52a5-49eb-bc1c-053e8fdeb8d0",
   "metadata": {},
   "outputs": [],
   "source": []
  },
  {
   "cell_type": "code",
   "execution_count": null,
   "id": "a3a5cf3e-151b-4f71-b112-2bf083370bf9",
   "metadata": {},
   "outputs": [],
   "source": []
  },
  {
   "cell_type": "code",
   "execution_count": null,
   "id": "accca1ef-b619-4d0c-9b33-2c5404b4afd7",
   "metadata": {},
   "outputs": [],
   "source": []
  },
  {
   "cell_type": "code",
   "execution_count": null,
   "id": "2a2277e1-7459-43a3-819c-f9a6cf0002a4",
   "metadata": {},
   "outputs": [],
   "source": []
  },
  {
   "cell_type": "code",
   "execution_count": null,
   "id": "558a372b-46ad-42b2-9f5a-0a6264be0f73",
   "metadata": {},
   "outputs": [],
   "source": []
  },
  {
   "cell_type": "markdown",
   "id": "b1e99e7d-ae55-4784-a86f-6c686ba4068b",
   "metadata": {},
   "source": [
    "# Code Generation"
   ]
  },
  {
   "cell_type": "code",
   "execution_count": 40,
   "id": "7352ad86-b2a1-47bc-bc85-c1f11e1116fe",
   "metadata": {},
   "outputs": [],
   "source": [
    "def py_code(expr, replace_numpy=True, replace_unicode=True, numpy_package='np.'):\n",
    "    code = sym.ccode(expr)\n",
    "    \n",
    "    if replace_unicode:\n",
    "        unicode_replacements = [\n",
    "            ('\\\\alpha', 'α'),\n",
    "            ('\\\\beta', 'β'),\n",
    "            ('\\\\gamma', 'γ'),\n",
    "            ('\\\\Gamma', 'Γ'),\n",
    "            ('\\\\delta', 'δ'),\n",
    "            ('\\\\Delta', 'Δ'),\n",
    "            ('\\\\epsilon', 'ϵ'),\n",
    "            ('\\\\zeta', 'ζ'),\n",
    "            ('\\\\eta', 'η'),\n",
    "            ('\\\\theta', 'θ'),\n",
    "            ('\\\\xi', 'ξ'),\n",
    "            ('\\\\mu', 'μ')\n",
    "        ]\n",
    "        for unicode, symbol in unicode_replacements:\n",
    "            code = code.replace(unicode, symbol)\n",
    "    \n",
    "    if replace_numpy:\n",
    "        numpy_replacements = [\n",
    "            ('exp', numpy_package + 'exp'),\n",
    "            ('log', numpy_package + 'log'),\n",
    "            ('sqrt', numpy_package + 'sqrt'),\n",
    "            ('pow', '( lambda base, exponent: base**exponent )'),\n",
    "            ('Heaviside', '(lambda input: np.heaviside(input,0.5))')\n",
    "        ]\n",
    "        for c_func, np_func in numpy_replacements:\n",
    "            code = code.replace(c_func, np_func)\n",
    "        \n",
    "    return code"
   ]
  },
  {
   "cell_type": "code",
   "execution_count": 48,
   "id": "ae4a18a5-368b-42d4-9e6d-58450160760f",
   "metadata": {},
   "outputs": [
    {
     "name": "stdout",
     "output_type": "stream",
     "text": [
      "def get_speed(μ, α, β, θ):\n",
      "\treturn (1.0/4.0)*(-2*α*β*μ*θ - 2*α*θ + α - 2*μ*θ + np.sqrt(4*( lambda base, exponent: base**exponent )(α, 2)*( lambda base, exponent: base**exponent )(β, 2)*( lambda base, exponent: base**exponent )(μ, 2)*( lambda base, exponent: base**exponent )(θ, 2) - 8*( lambda base, exponent: base**exponent )(α, 2)*β*μ*( lambda base, exponent: base**exponent )(θ, 2) - 4*( lambda base, exponent: base**exponent )(α, 2)*β*μ*θ + 4*( lambda base, exponent: base**exponent )(α, 2)*( lambda base, exponent: base**exponent )(θ, 2) - 4*( lambda base, exponent: base**exponent )(α, 2)*θ + ( lambda base, exponent: base**exponent )(α, 2) + 8*α*β*( lambda base, exponent: base**exponent )(μ, 2)*( lambda base, exponent: base**exponent )(θ, 2) - 8*α*μ*( lambda base, exponent: base**exponent )(θ, 2) + 4*α*μ*θ + 4*( lambda base, exponent: base**exponent )(μ, 2)*( lambda base, exponent: base**exponent )(θ, 2)))/(α*μ*θ)\n"
     ]
    }
   ],
   "source": [
    "code = 'def get_speed(μ, α, β, θ):\\n\\treturn ' + py_code(c_subs)\n",
    "print(code)"
   ]
  },
  {
   "cell_type": "code",
   "execution_count": 58,
   "id": "33eb0911-4475-44f0-a4be-055d91927367",
   "metadata": {},
   "outputs": [],
   "source": [
    "def get_speed(μ, α, β, θ):\n",
    "    return (1.0/4.0)*(-2*α*β*μ*θ - 2*α*θ + α - 2*μ*θ + np.sqrt(4*( lambda base, exponent: base**exponent )(α, 2)*( lambda base, exponent: base**exponent )(β, 2)*( lambda base, exponent: base**exponent )(μ, 2)*( lambda base, exponent: base**exponent )(θ, 2) - 8*( lambda base, exponent: base**exponent )(α, 2)*β*μ*( lambda base, exponent: base**exponent )(θ, 2) - 4*( lambda base, exponent: base**exponent )(α, 2)*β*μ*θ + 4*( lambda base, exponent: base**exponent )(α, 2)*( lambda base, exponent: base**exponent )(θ, 2) - 4*( lambda base, exponent: base**exponent )(α, 2)*θ + ( lambda base, exponent: base**exponent )(α, 2) + 8*α*β*( lambda base, exponent: base**exponent )(μ, 2)*( lambda base, exponent: base**exponent )(θ, 2) - 8*α*μ*( lambda base, exponent: base**exponent )(θ, 2) + 4*α*μ*θ + 4*( lambda base, exponent: base**exponent )(μ, 2)*( lambda base, exponent: base**exponent )(θ, 2)))/(α*μ*θ)"
   ]
  },
  {
   "cell_type": "code",
   "execution_count": 51,
   "id": "20d2adc7-acb8-45e8-8e24-ac9f194e4394",
   "metadata": {},
   "outputs": [
    {
     "data": {
      "text/plain": [
       "{\\alpha: 20, \\beta: 0.2, \\mu: 1, \\theta: 0.1}"
      ]
     },
     "execution_count": 51,
     "metadata": {},
     "output_type": "execute_result"
    }
   ],
   "source": [
    "numeric_sub"
   ]
  },
  {
   "cell_type": "code",
   "execution_count": 52,
   "id": "8c043b43-29aa-4418-8236-a72b3ab3be0e",
   "metadata": {},
   "outputs": [
    {
     "data": {
      "text/plain": [
       "3.75"
      ]
     },
     "execution_count": 52,
     "metadata": {},
     "output_type": "execute_result"
    }
   ],
   "source": [
    "get_speed(1, 20, .2, .1)"
   ]
  },
  {
   "cell_type": "code",
   "execution_count": 57,
   "id": "0156b35f-48cd-4d47-8d51-0367a63d2d05",
   "metadata": {},
   "outputs": [
    {
     "data": {
      "text/latex": [
       "$\\displaystyle 3.75$"
      ],
      "text/plain": [
       "3.75000000000000"
      ]
     },
     "execution_count": 57,
     "metadata": {},
     "output_type": "execute_result"
    }
   ],
   "source": [
    "c_subs.subs(numeric_sub)"
   ]
  },
  {
   "cell_type": "code",
   "execution_count": 73,
   "id": "8078d9fb-3304-47f7-887c-5a0ea8d05415",
   "metadata": {},
   "outputs": [
    {
     "data": {
      "text/latex": [
       "$\\displaystyle \\frac{\\left(\\alpha c + 1\\right) e^{- \\xi}}{2 \\left(\\mu c + 1\\right) \\left(\\alpha \\beta + \\alpha c + 1\\right)}$"
      ],
      "text/plain": [
       "(\\alpha*c + 1)*exp(-\\xi)/(2*(\\mu*c + 1)*(\\alpha*\\beta + \\alpha*c + 1))"
      ]
     },
     "execution_count": 73,
     "metadata": {},
     "output_type": "execute_result"
    }
   ],
   "source": [
    "U_right"
   ]
  },
  {
   "cell_type": "code",
   "execution_count": 81,
   "id": "60d5de84-cb31-4908-93c1-3f422db7341a",
   "metadata": {},
   "outputs": [
    {
     "name": "stdout",
     "output_type": "stream",
     "text": [
      "def U_numeric(ξ, μ, α, β, θ):\n",
      "\treturn // Not supported in C:\n",
      "// (lambda input: np.heaviside(input,0.5))\n",
      "// (lambda input: np.heaviside(input,0.5))\n",
      "(1.0/2.0)*(α*c + 1)*np.exp(-ξ)*(lambda input: np.heaviside(input,0.5))(ξ)/((μ*c + 1)*(α*β + α*c + 1)) + (-1.0/2.0*( lambda base, exponent: base**exponent )(α, 3)*β*c*np.exp(ξ*(β + 1.0/α)/c)/((α*β*μ - α + μ)*(( lambda base, exponent: base**exponent )(α, 2)*( lambda base, exponent: base**exponent )(β, 2) + ( lambda base, exponent: base**exponent )(α, 2)*β*c + 2*α*β + α*c + 1)) - 1.0/2.0*( lambda base, exponent: base**exponent )(α, 3)*β*c*np.exp(ξ*(β + 1.0/α)/c)/((α*β*μ - α + μ)*(-( lambda base, exponent: base**exponent )(α, 2)*( lambda base, exponent: base**exponent )(β, 2) + ( lambda base, exponent: base**exponent )(α, 2)*β*c - 2*α*β + α*c - 1)) + (1.0/2.0)*α*β/(( lambda base, exponent: base**exponent )(α, 2)*( lambda base, exponent: base**exponent )(β, 2) + ( lambda base, exponent: base**exponent )(α, 2)*β*c + 2*α*β + α*c + 1) + (1.0/2.0)*α*c/(( lambda base, exponent: base**exponent )(α, 2)*( lambda base, exponent: base**exponent )(β, 2) + ( lambda base, exponent: base**exponent )(α, 2)*β*c + 2*α*β + α*c + 1) + (( lambda base, exponent: base**exponent )(α, 3)*β*μ*( lambda base, exponent: base**exponent )(c, 2)/(( lambda base, exponent: base**exponent )(α, 2)*( lambda base, exponent: base**exponent )(β, 2) + ( lambda base, exponent: base**exponent )(α, 2)*β*c + 2*α*β + α*c + 1) + ( lambda base, exponent: base**exponent )(α, 3)*β*μ*( lambda base, exponent: base**exponent )(c, 2)/(-( lambda base, exponent: base**exponent )(α, 2)*( lambda base, exponent: base**exponent )(β, 2) + ( lambda base, exponent: base**exponent )(α, 2)*β*c - 2*α*β + α*c - 1) - ( lambda base, exponent: base**exponent )(α, 3)*β*c/(( lambda base, exponent: base**exponent )(α, 2)*( lambda base, exponent: base**exponent )(β, 2) + ( lambda base, exponent: base**exponent )(α, 2)*β*c + 2*α*β + α*c + 1) - ( lambda base, exponent: base**exponent )(α, 3)*β*c/(-( lambda base, exponent: base**exponent )(α, 2)*( lambda base, exponent: base**exponent )(β, 2) + ( lambda base, exponent: base**exponent )(α, 2)*β*c - 2*α*β + α*c - 1) + 2*α*β*( lambda base, exponent: base**exponent )(μ, 2)*θ*c - α*β*( lambda base, exponent: base**exponent )(μ, 2)*c*(α*β/(( lambda base, exponent: base**exponent )(α, 2)*( lambda base, exponent: base**exponent )(β, 2) + ( lambda base, exponent: base**exponent )(α, 2)*β*c + 2*α*β + α*c + 1) + α*c/(( lambda base, exponent: base**exponent )(α, 2)*( lambda base, exponent: base**exponent )(β, 2) + ( lambda base, exponent: base**exponent )(α, 2)*β*c + 2*α*β + α*c + 1) + 1.0/(( lambda base, exponent: base**exponent )(α, 2)*( lambda base, exponent: base**exponent )(β, 2) + ( lambda base, exponent: base**exponent )(α, 2)*β*c + 2*α*β + α*c + 1)) - α*β*( lambda base, exponent: base**exponent )(μ, 2)*c/(α*β + 1) - 2*α*β*μ*θ + α*β*μ*(α*β/(( lambda base, exponent: base**exponent )(α, 2)*( lambda base, exponent: base**exponent )(β, 2) + ( lambda base, exponent: base**exponent )(α, 2)*β*c + 2*α*β + α*c + 1) + α*c/(( lambda base, exponent: base**exponent )(α, 2)*( lambda base, exponent: base**exponent )(β, 2) + ( lambda base, exponent: base**exponent )(α, 2)*β*c + 2*α*β + α*c + 1) + 1.0/(( lambda base, exponent: base**exponent )(α, 2)*( lambda base, exponent: base**exponent )(β, 2) + ( lambda base, exponent: base**exponent )(α, 2)*β*c + 2*α*β + α*c + 1)) + α*β*μ*(-( lambda base, exponent: base**exponent )(α, 2)*β*c/(-( lambda base, exponent: base**exponent )(α, 2)*( lambda base, exponent: base**exponent )(β, 2) + ( lambda base, exponent: base**exponent )(α, 2)*β*c - 2*α*β + α*c - 1) + α*β/(-( lambda base, exponent: base**exponent )(α, 2)*( lambda base, exponent: base**exponent )(β, 2) + ( lambda base, exponent: base**exponent )(α, 2)*β*c - 2*α*β + α*c - 1) - α*c/(-( lambda base, exponent: base**exponent )(α, 2)*( lambda base, exponent: base**exponent )(β, 2) + ( lambda base, exponent: base**exponent )(α, 2)*β*c - 2*α*β + α*c - 1) + 1.0/(-( lambda base, exponent: base**exponent )(α, 2)*( lambda base, exponent: base**exponent )(β, 2) + ( lambda base, exponent: base**exponent )(α, 2)*β*c - 2*α*β + α*c - 1)) + α*β*μ/(α*β + 1) - 2*α*μ*θ*c + α*μ*c*(α*β/(( lambda base, exponent: base**exponent )(α, 2)*( lambda base, exponent: base**exponent )(β, 2) + ( lambda base, exponent: base**exponent )(α, 2)*β*c + 2*α*β + α*c + 1) + α*c/(( lambda base, exponent: base**exponent )(α, 2)*( lambda base, exponent: base**exponent )(β, 2) + ( lambda base, exponent: base**exponent )(α, 2)*β*c + 2*α*β + α*c + 1) + 1.0/(( lambda base, exponent: base**exponent )(α, 2)*( lambda base, exponent: base**exponent )(β, 2) + ( lambda base, exponent: base**exponent )(α, 2)*β*c + 2*α*β + α*c + 1)) + α*μ*c/(α*β + 1) + 2*α*θ - α*(α*β/(( lambda base, exponent: base**exponent )(α, 2)*( lambda base, exponent: base**exponent )(β, 2) + ( lambda base, exponent: base**exponent )(α, 2)*β*c + 2*α*β + α*c + 1) + α*c/(( lambda base, exponent: base**exponent )(α, 2)*( lambda base, exponent: base**exponent )(β, 2) + ( lambda base, exponent: base**exponent )(α, 2)*β*c + 2*α*β + α*c + 1) + 1.0/(( lambda base, exponent: base**exponent )(α, 2)*( lambda base, exponent: base**exponent )(β, 2) + ( lambda base, exponent: base**exponent )(α, 2)*β*c + 2*α*β + α*c + 1)) - α*(-( lambda base, exponent: base**exponent )(α, 2)*β*c/(-( lambda base, exponent: base**exponent )(α, 2)*( lambda base, exponent: base**exponent )(β, 2) + ( lambda base, exponent: base**exponent )(α, 2)*β*c - 2*α*β + α*c - 1) + α*β/(-( lambda base, exponent: base**exponent )(α, 2)*( lambda base, exponent: base**exponent )(β, 2) + ( lambda base, exponent: base**exponent )(α, 2)*β*c - 2*α*β + α*c - 1) - α*c/(-( lambda base, exponent: base**exponent )(α, 2)*( lambda base, exponent: base**exponent )(β, 2) + ( lambda base, exponent: base**exponent )(α, 2)*β*c - 2*α*β + α*c - 1) + 1.0/(-( lambda base, exponent: base**exponent )(α, 2)*( lambda base, exponent: base**exponent )(β, 2) + ( lambda base, exponent: base**exponent )(α, 2)*β*c - 2*α*β + α*c - 1)) - α/(α*β + 1) + 2*( lambda base, exponent: base**exponent )(μ, 2)*θ*c - ( lambda base, exponent: base**exponent )(μ, 2)*c*(α*β/(( lambda base, exponent: base**exponent )(α, 2)*( lambda base, exponent: base**exponent )(β, 2) + ( lambda base, exponent: base**exponent )(α, 2)*β*c + 2*α*β + α*c + 1) + α*c/(( lambda base, exponent: base**exponent )(α, 2)*( lambda base, exponent: base**exponent )(β, 2) + ( lambda base, exponent: base**exponent )(α, 2)*β*c + 2*α*β + α*c + 1) + 1.0/(( lambda base, exponent: base**exponent )(α, 2)*( lambda base, exponent: base**exponent )(β, 2) + ( lambda base, exponent: base**exponent )(α, 2)*β*c + 2*α*β + α*c + 1)) - ( lambda base, exponent: base**exponent )(μ, 2)*c/(α*β + 1) - 2*μ*θ + μ*(α*β/(( lambda base, exponent: base**exponent )(α, 2)*( lambda base, exponent: base**exponent )(β, 2) + ( lambda base, exponent: base**exponent )(α, 2)*β*c + 2*α*β + α*c + 1) + α*c/(( lambda base, exponent: base**exponent )(α, 2)*( lambda base, exponent: base**exponent )(β, 2) + ( lambda base, exponent: base**exponent )(α, 2)*β*c + 2*α*β + α*c + 1) + 1.0/(( lambda base, exponent: base**exponent )(α, 2)*( lambda base, exponent: base**exponent )(β, 2) + ( lambda base, exponent: base**exponent )(α, 2)*β*c + 2*α*β + α*c + 1)) + μ*(-( lambda base, exponent: base**exponent )(α, 2)*β*c/(-( lambda base, exponent: base**exponent )(α, 2)*( lambda base, exponent: base**exponent )(β, 2) + ( lambda base, exponent: base**exponent )(α, 2)*β*c - 2*α*β + α*c - 1) + α*β/(-( lambda base, exponent: base**exponent )(α, 2)*( lambda base, exponent: base**exponent )(β, 2) + ( lambda base, exponent: base**exponent )(α, 2)*β*c - 2*α*β + α*c - 1) - α*c/(-( lambda base, exponent: base**exponent )(α, 2)*( lambda base, exponent: base**exponent )(β, 2) + ( lambda base, exponent: base**exponent )(α, 2)*β*c - 2*α*β + α*c - 1) + 1.0/(-( lambda base, exponent: base**exponent )(α, 2)*( lambda base, exponent: base**exponent )(β, 2) + ( lambda base, exponent: base**exponent )(α, 2)*β*c - 2*α*β + α*c - 1)) + μ/(α*β + 1))*np.exp(ξ/(μ*c))/(2*α*β*( lambda base, exponent: base**exponent )(μ, 2)*c - 2*α*β*μ - 2*α*μ*c + 2*α + 2*( lambda base, exponent: base**exponent )(μ, 2)*c - 2*μ) + (1.0/2.0)/(( lambda base, exponent: base**exponent )(α, 2)*( lambda base, exponent: base**exponent )(β, 2) + ( lambda base, exponent: base**exponent )(α, 2)*β*c + 2*α*β + α*c + 1) - 1.0/2.0*(-( lambda base, exponent: base**exponent )(α, 2)*β*c/(-( lambda base, exponent: base**exponent )(α, 2)*( lambda base, exponent: base**exponent )(β, 2) + ( lambda base, exponent: base**exponent )(α, 2)*β*c - 2*α*β + α*c - 1) + α*β/(-( lambda base, exponent: base**exponent )(α, 2)*( lambda base, exponent: base**exponent )(β, 2) + ( lambda base, exponent: base**exponent )(α, 2)*β*c - 2*α*β + α*c - 1) - α*c/(-( lambda base, exponent: base**exponent )(α, 2)*( lambda base, exponent: base**exponent )(β, 2) + ( lambda base, exponent: base**exponent )(α, 2)*β*c - 2*α*β + α*c - 1) + 1.0/(-( lambda base, exponent: base**exponent )(α, 2)*( lambda base, exponent: base**exponent )(β, 2) + ( lambda base, exponent: base**exponent )(α, 2)*β*c - 2*α*β + α*c - 1))*np.exp(ξ)/(μ*c - 1) + (1.0/2.0)/(α*β + 1))*(lambda input: np.heaviside(input,0.5))(-ξ)\n"
     ]
    }
   ],
   "source": [
    "U_code = sym.Heaviside(ξ)*U_right + sym.Heaviside(-ξ)*U_left\n",
    "code = 'def U_numeric(ξ, μ, α, β, θ):\\n\\treturn ' + py_code(U_code)\n",
    "print(code)"
   ]
  },
  {
   "cell_type": "code",
   "execution_count": 75,
   "id": "b5b10e49-8964-4f97-a4a1-a92c1e98ffe3",
   "metadata": {},
   "outputs": [],
   "source": [
    "def U_numeric(ξ, μ, α, β, θ):\n",
    "    c = get_speed(μ, α, β, θ)\n",
    "    return (1.0/2.0)*(α*c + 1)*np.exp(-ξ)*(lambda input: np.heaviside(input,0.5))(ξ)/((μ*c + 1)*(α*β + α*c + 1)) + (-1.0/2.0*( lambda base, exponent: base**exponent )(α, 3)*β*c*np.exp(ξ*(β + 1.0/α)/c)/((α*β*μ - α + μ)*(( lambda base, exponent: base**exponent )(α, 2)*( lambda base, exponent: base**exponent )(β, 2) + ( lambda base, exponent: base**exponent )(α, 2)*β*c + 2*α*β + α*c + 1)) - 1.0/2.0*( lambda base, exponent: base**exponent )(α, 3)*β*c*np.exp(ξ*(β + 1.0/α)/c)/((α*β*μ - α + μ)*(-( lambda base, exponent: base**exponent )(α, 2)*( lambda base, exponent: base**exponent )(β, 2) + ( lambda base, exponent: base**exponent )(α, 2)*β*c - 2*α*β + α*c - 1)) + (1.0/2.0)*α*β/(( lambda base, exponent: base**exponent )(α, 2)*( lambda base, exponent: base**exponent )(β, 2) + ( lambda base, exponent: base**exponent )(α, 2)*β*c + 2*α*β + α*c + 1) + (1.0/2.0)*α*c/(( lambda base, exponent: base**exponent )(α, 2)*( lambda base, exponent: base**exponent )(β, 2) + ( lambda base, exponent: base**exponent )(α, 2)*β*c + 2*α*β + α*c + 1) + (( lambda base, exponent: base**exponent )(α, 3)*β*μ*( lambda base, exponent: base**exponent )(c, 2)/(( lambda base, exponent: base**exponent )(α, 2)*( lambda base, exponent: base**exponent )(β, 2) + ( lambda base, exponent: base**exponent )(α, 2)*β*c + 2*α*β + α*c + 1) + ( lambda base, exponent: base**exponent )(α, 3)*β*μ*( lambda base, exponent: base**exponent )(c, 2)/(-( lambda base, exponent: base**exponent )(α, 2)*( lambda base, exponent: base**exponent )(β, 2) + ( lambda base, exponent: base**exponent )(α, 2)*β*c - 2*α*β + α*c - 1) - ( lambda base, exponent: base**exponent )(α, 3)*β*c/(( lambda base, exponent: base**exponent )(α, 2)*( lambda base, exponent: base**exponent )(β, 2) + ( lambda base, exponent: base**exponent )(α, 2)*β*c + 2*α*β + α*c + 1) - ( lambda base, exponent: base**exponent )(α, 3)*β*c/(-( lambda base, exponent: base**exponent )(α, 2)*( lambda base, exponent: base**exponent )(β, 2) + ( lambda base, exponent: base**exponent )(α, 2)*β*c - 2*α*β + α*c - 1) + 2*α*β*( lambda base, exponent: base**exponent )(μ, 2)*θ*c - α*β*( lambda base, exponent: base**exponent )(μ, 2)*c*(α*β/(( lambda base, exponent: base**exponent )(α, 2)*( lambda base, exponent: base**exponent )(β, 2) + ( lambda base, exponent: base**exponent )(α, 2)*β*c + 2*α*β + α*c + 1) + α*c/(( lambda base, exponent: base**exponent )(α, 2)*( lambda base, exponent: base**exponent )(β, 2) + ( lambda base, exponent: base**exponent )(α, 2)*β*c + 2*α*β + α*c + 1) + 1.0/(( lambda base, exponent: base**exponent )(α, 2)*( lambda base, exponent: base**exponent )(β, 2) + ( lambda base, exponent: base**exponent )(α, 2)*β*c + 2*α*β + α*c + 1)) - α*β*( lambda base, exponent: base**exponent )(μ, 2)*c/(α*β + 1) - 2*α*β*μ*θ + α*β*μ*(α*β/(( lambda base, exponent: base**exponent )(α, 2)*( lambda base, exponent: base**exponent )(β, 2) + ( lambda base, exponent: base**exponent )(α, 2)*β*c + 2*α*β + α*c + 1) + α*c/(( lambda base, exponent: base**exponent )(α, 2)*( lambda base, exponent: base**exponent )(β, 2) + ( lambda base, exponent: base**exponent )(α, 2)*β*c + 2*α*β + α*c + 1) + 1.0/(( lambda base, exponent: base**exponent )(α, 2)*( lambda base, exponent: base**exponent )(β, 2) + ( lambda base, exponent: base**exponent )(α, 2)*β*c + 2*α*β + α*c + 1)) + α*β*μ*(-( lambda base, exponent: base**exponent )(α, 2)*β*c/(-( lambda base, exponent: base**exponent )(α, 2)*( lambda base, exponent: base**exponent )(β, 2) + ( lambda base, exponent: base**exponent )(α, 2)*β*c - 2*α*β + α*c - 1) + α*β/(-( lambda base, exponent: base**exponent )(α, 2)*( lambda base, exponent: base**exponent )(β, 2) + ( lambda base, exponent: base**exponent )(α, 2)*β*c - 2*α*β + α*c - 1) - α*c/(-( lambda base, exponent: base**exponent )(α, 2)*( lambda base, exponent: base**exponent )(β, 2) + ( lambda base, exponent: base**exponent )(α, 2)*β*c - 2*α*β + α*c - 1) + 1.0/(-( lambda base, exponent: base**exponent )(α, 2)*( lambda base, exponent: base**exponent )(β, 2) + ( lambda base, exponent: base**exponent )(α, 2)*β*c - 2*α*β + α*c - 1)) + α*β*μ/(α*β + 1) - 2*α*μ*θ*c + α*μ*c*(α*β/(( lambda base, exponent: base**exponent )(α, 2)*( lambda base, exponent: base**exponent )(β, 2) + ( lambda base, exponent: base**exponent )(α, 2)*β*c + 2*α*β + α*c + 1) + α*c/(( lambda base, exponent: base**exponent )(α, 2)*( lambda base, exponent: base**exponent )(β, 2) + ( lambda base, exponent: base**exponent )(α, 2)*β*c + 2*α*β + α*c + 1) + 1.0/(( lambda base, exponent: base**exponent )(α, 2)*( lambda base, exponent: base**exponent )(β, 2) + ( lambda base, exponent: base**exponent )(α, 2)*β*c + 2*α*β + α*c + 1)) + α*μ*c/(α*β + 1) + 2*α*θ - α*(α*β/(( lambda base, exponent: base**exponent )(α, 2)*( lambda base, exponent: base**exponent )(β, 2) + ( lambda base, exponent: base**exponent )(α, 2)*β*c + 2*α*β + α*c + 1) + α*c/(( lambda base, exponent: base**exponent )(α, 2)*( lambda base, exponent: base**exponent )(β, 2) + ( lambda base, exponent: base**exponent )(α, 2)*β*c + 2*α*β + α*c + 1) + 1.0/(( lambda base, exponent: base**exponent )(α, 2)*( lambda base, exponent: base**exponent )(β, 2) + ( lambda base, exponent: base**exponent )(α, 2)*β*c + 2*α*β + α*c + 1)) - α*(-( lambda base, exponent: base**exponent )(α, 2)*β*c/(-( lambda base, exponent: base**exponent )(α, 2)*( lambda base, exponent: base**exponent )(β, 2) + ( lambda base, exponent: base**exponent )(α, 2)*β*c - 2*α*β + α*c - 1) + α*β/(-( lambda base, exponent: base**exponent )(α, 2)*( lambda base, exponent: base**exponent )(β, 2) + ( lambda base, exponent: base**exponent )(α, 2)*β*c - 2*α*β + α*c - 1) - α*c/(-( lambda base, exponent: base**exponent )(α, 2)*( lambda base, exponent: base**exponent )(β, 2) + ( lambda base, exponent: base**exponent )(α, 2)*β*c - 2*α*β + α*c - 1) + 1.0/(-( lambda base, exponent: base**exponent )(α, 2)*( lambda base, exponent: base**exponent )(β, 2) + ( lambda base, exponent: base**exponent )(α, 2)*β*c - 2*α*β + α*c - 1)) - α/(α*β + 1) + 2*( lambda base, exponent: base**exponent )(μ, 2)*θ*c - ( lambda base, exponent: base**exponent )(μ, 2)*c*(α*β/(( lambda base, exponent: base**exponent )(α, 2)*( lambda base, exponent: base**exponent )(β, 2) + ( lambda base, exponent: base**exponent )(α, 2)*β*c + 2*α*β + α*c + 1) + α*c/(( lambda base, exponent: base**exponent )(α, 2)*( lambda base, exponent: base**exponent )(β, 2) + ( lambda base, exponent: base**exponent )(α, 2)*β*c + 2*α*β + α*c + 1) + 1.0/(( lambda base, exponent: base**exponent )(α, 2)*( lambda base, exponent: base**exponent )(β, 2) + ( lambda base, exponent: base**exponent )(α, 2)*β*c + 2*α*β + α*c + 1)) - ( lambda base, exponent: base**exponent )(μ, 2)*c/(α*β + 1) - 2*μ*θ + μ*(α*β/(( lambda base, exponent: base**exponent )(α, 2)*( lambda base, exponent: base**exponent )(β, 2) + ( lambda base, exponent: base**exponent )(α, 2)*β*c + 2*α*β + α*c + 1) + α*c/(( lambda base, exponent: base**exponent )(α, 2)*( lambda base, exponent: base**exponent )(β, 2) + ( lambda base, exponent: base**exponent )(α, 2)*β*c + 2*α*β + α*c + 1) + 1.0/(( lambda base, exponent: base**exponent )(α, 2)*( lambda base, exponent: base**exponent )(β, 2) + ( lambda base, exponent: base**exponent )(α, 2)*β*c + 2*α*β + α*c + 1)) + μ*(-( lambda base, exponent: base**exponent )(α, 2)*β*c/(-( lambda base, exponent: base**exponent )(α, 2)*( lambda base, exponent: base**exponent )(β, 2) + ( lambda base, exponent: base**exponent )(α, 2)*β*c - 2*α*β + α*c - 1) + α*β/(-( lambda base, exponent: base**exponent )(α, 2)*( lambda base, exponent: base**exponent )(β, 2) + ( lambda base, exponent: base**exponent )(α, 2)*β*c - 2*α*β + α*c - 1) - α*c/(-( lambda base, exponent: base**exponent )(α, 2)*( lambda base, exponent: base**exponent )(β, 2) + ( lambda base, exponent: base**exponent )(α, 2)*β*c - 2*α*β + α*c - 1) + 1.0/(-( lambda base, exponent: base**exponent )(α, 2)*( lambda base, exponent: base**exponent )(β, 2) + ( lambda base, exponent: base**exponent )(α, 2)*β*c - 2*α*β + α*c - 1)) + μ/(α*β + 1))*np.exp(ξ/(μ*c))/(2*α*β*( lambda base, exponent: base**exponent )(μ, 2)*c - 2*α*β*μ - 2*α*μ*c + 2*α + 2*( lambda base, exponent: base**exponent )(μ, 2)*c - 2*μ) + (1.0/2.0)/(( lambda base, exponent: base**exponent )(α, 2)*( lambda base, exponent: base**exponent )(β, 2) + ( lambda base, exponent: base**exponent )(α, 2)*β*c + 2*α*β + α*c + 1) - 1.0/2.0*(-( lambda base, exponent: base**exponent )(α, 2)*β*c/(-( lambda base, exponent: base**exponent )(α, 2)*( lambda base, exponent: base**exponent )(β, 2) + ( lambda base, exponent: base**exponent )(α, 2)*β*c - 2*α*β + α*c - 1) + α*β/(-( lambda base, exponent: base**exponent )(α, 2)*( lambda base, exponent: base**exponent )(β, 2) + ( lambda base, exponent: base**exponent )(α, 2)*β*c - 2*α*β + α*c - 1) - α*c/(-( lambda base, exponent: base**exponent )(α, 2)*( lambda base, exponent: base**exponent )(β, 2) + ( lambda base, exponent: base**exponent )(α, 2)*β*c - 2*α*β + α*c - 1) + 1.0/(-( lambda base, exponent: base**exponent )(α, 2)*( lambda base, exponent: base**exponent )(β, 2) + ( lambda base, exponent: base**exponent )(α, 2)*β*c - 2*α*β + α*c - 1))*np.exp(ξ)/(μ*c - 1) + (1.0/2.0)/(α*β + 1))*(lambda input: np.heaviside(input,0.5))(-ξ)"
   ]
  },
  {
   "cell_type": "code",
   "execution_count": 76,
   "id": "aa9bb279-083d-4721-8f78-fbc614edcebd",
   "metadata": {},
   "outputs": [
    {
     "data": {
      "text/plain": [
       "{\\alpha: 20, \\beta: 0.2, \\mu: 1, \\theta: 0.1}"
      ]
     },
     "execution_count": 76,
     "metadata": {},
     "output_type": "execute_result"
    }
   ],
   "source": [
    "numeric_sub"
   ]
  },
  {
   "cell_type": "code",
   "execution_count": 77,
   "id": "1b5bf100-ad93-481a-a045-0972701c0803",
   "metadata": {},
   "outputs": [
    {
     "data": {
      "text/plain": [
       "[<matplotlib.lines.Line2D at 0x7f51a70cc908>]"
      ]
     },
     "execution_count": 77,
     "metadata": {},
     "output_type": "execute_result"
    },
    {
     "data": {
      "image/png": "[encoded data removed]",
      "text/plain": [
       "<Figure size 432x288 with 1 Axes>"
      ]
     },
     "metadata": {
      "needs_background": "light"
     },
     "output_type": "display_data"
    }
   ],
   "source": [
    "xs = np.linspace(-100, 20, 2001)\n",
    "plt.plot(xs, U_numeric(xs, 1, 20, 0.2, .1))"
   ]
  },
  {
   "cell_type": "code",
   "execution_count": 82,
   "id": "2d50150e-efb4-4c72-8f4d-90e7e2e392bb",
   "metadata": {},
   "outputs": [
    {
     "name": "stdout",
     "output_type": "stream",
     "text": [
      "def Q_numeric(ξ, μ, α, β, θ):\n",
      "\treturn // Not supported in C:\n",
      "// (lambda input: np.heaviside(input,0.5))\n",
      "// (lambda input: np.heaviside(input,0.5))\n",
      "(lambda input: np.heaviside(input,0.5))(ξ) + (α*β*np.exp(ξ*(α*β + 1)/(α*c)) + 1)*(lambda input: np.heaviside(input,0.5))(-ξ)/(α*β + 1)\n"
     ]
    }
   ],
   "source": [
    "Q_code = sym.Heaviside(ξ)*Q_right + sym.Heaviside(-ξ)*Q_left\n",
    "code = 'def Q_numeric(ξ, μ, α, β, θ):\\n\\treturn ' + py_code(Q_code)\n",
    "print(code)"
   ]
  },
  {
   "cell_type": "code",
   "execution_count": 83,
   "id": "e5ce23b7-daf3-49c5-adf2-c1b6473753da",
   "metadata": {},
   "outputs": [],
   "source": [
    "def Q_numeric(ξ, μ, α, β, θ):\n",
    "    c = get_speed(μ, α, β, θ)\n",
    "    return (lambda input: np.heaviside(input,0.5))(ξ) + (α*β*np.exp(ξ*(α*β + 1)/(α*c)) + 1)*(lambda input: np.heaviside(input,0.5))(-ξ)/(α*β + 1)"
   ]
  },
  {
   "cell_type": "code",
   "execution_count": 84,
   "id": "0dbb01a4-a707-459e-9613-17af197faf8d",
   "metadata": {},
   "outputs": [
    {
     "data": {
      "text/plain": [
       "[<matplotlib.lines.Line2D at 0x7f51a70ac208>]"
      ]
     },
     "execution_count": 84,
     "metadata": {},
     "output_type": "execute_result"
    },
    {
     "data": {
      "image/png": "[encoded data removed]",
      "text/plain": [
       "<Figure size 432x288 with 1 Axes>"
      ]
     },
     "metadata": {
      "needs_background": "light"
     },
     "output_type": "display_data"
    }
   ],
   "source": [
    "xs = np.linspace(-100, 20, 2001)\n",
    "plt.plot(xs, Q_numeric(xs, 1, 20, 0.2, .1))"
   ]
  },
  {
   "cell_type": "code",
   "execution_count": null,
   "id": "4458bd89-a9ce-4fd5-9afa-b60b1dca0719",
   "metadata": {},
   "outputs": [],
   "source": []
  }
 ],
 "metadata": {
  "kernelspec": {
   "display_name": "Python 3",
   "language": "python",
   "name": "python3"
  },
  "language_info": {
   "codemirror_mode": {
    "name": "ipython",
    "version": 3
   },
   "file_extension": ".py",
   "mimetype": "text/x-python",
   "name": "python",
   "nbconvert_exporter": "python",
   "pygments_lexer": "ipython3",
   "version": "3.6.9"
  }
 },
 "nbformat": 4,
 "nbformat_minor": 5
}

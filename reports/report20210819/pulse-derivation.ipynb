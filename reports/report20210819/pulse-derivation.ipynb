{
 "cells": [
  {
   "cell_type": "code",
   "execution_count": 1,
   "metadata": {
    "tags": []
   },
   "outputs": [],
   "source": [
    "%matplotlib inline\n",
    "import matplotlib.pyplot as plt\n",
    "import matplotlib.animation as animation\n",
    "from IPython.display import HTML\n",
    "\n",
    "import numpy as np\n",
    "import numpy.linalg as la\n",
    "from scipy.integrate import RK45\n",
    "\n",
    "import sympy as sym\n",
    "# Heaviside numerics workaround\n",
    "sympy_modules = [{'Heaviside': lambda x: np.heaviside(x,0.5)}, 'numpy']\n",
    "\n",
    "from table_maker import *\n",
    "from functools import partial, reduce\n",
    "from itertools import *\n",
    "from math import ceil\n",
    "\n",
    "import pickle\n",
    "\n",
    "def cos_bell(x, center=0, width=2*np.pi, height=1):\n",
    "    return (np.cos((x-center)/width*2*np.pi)+1)/2*height * np.heaviside(x-center+width/2,0) * np.heaviside(-x+center+width/2,0)\n",
    "\n",
    "import collections.abc\n",
    "def collect_eqn(expr, terms):\n",
    "    if not isinstance(terms, collections.abc.Container):\n",
    "        term = terms # isn't a list or tuple\n",
    "        left, right = 0,0\n",
    "        for my_expr in expr.args:\n",
    "            has_term = False\n",
    "            for my_term in sym.postorder_traversal(my_expr):\n",
    "                if term == my_term:\n",
    "                    has_term = True\n",
    "                    break\n",
    "            if has_term:\n",
    "                left += my_expr\n",
    "            else:\n",
    "                right -= my_expr\n",
    "        return sym.Eq(left, right, evaluate=False)\n",
    "    else: # isn't a list or tuple\n",
    "        left_total, right_total = 0, expr\n",
    "        for term in terms:\n",
    "            left, right = collect_eqn(right_total, term).args\n",
    "            left_total += left\n",
    "            right_total = -right\n",
    "        return sym.Eq(left_total, right_total, evaluate=False)\n",
    "    \n",
    "def my_print(expr):\n",
    "    global eviron_print_tex\n",
    "    if eviron_print_tex:\n",
    "        print('$$' + sym.latex(expr) + '$$')\n",
    "    else:\n",
    "        display(expr)\n",
    "        \n",
    "def batch_print(expr_list, punctuation='.', return_string=False):\n",
    "    global eviron_print_tex\n",
    "    if eviron_print_tex:\n",
    "        print_str = '$$\\\\begin{align*}\\n'\n",
    "        for expr in expr_list:\n",
    "            print_str += '\\t' + sym.latex(expr).replace('=','&=') + '\\\\\\\\\\n'\n",
    "        # remove last new-line and add ending puncuation\n",
    "        print_str = print_str[:-3] + punctuation + '\\n'\n",
    "        print_str += '\\\\end{align*}$$'\n",
    "        if return_string:\n",
    "            return print_str\n",
    "        else:\n",
    "            print(print_str)\n",
    "    else:\n",
    "        for expr in expr_list:\n",
    "            display(expr)\n",
    "            \n",
    "def py_code(expr, replace_numpy=True, replace_unicode=True, numpy_package='np.'):\n",
    "    code = sym.ccode(expr)\n",
    "    \n",
    "    if replace_unicode:\n",
    "        unicode_replacements = [\n",
    "            ('\\\\alpha', 'α'),\n",
    "            ('\\\\beta', 'β'),\n",
    "            ('\\\\gamma', 'γ'),\n",
    "            ('\\\\Gamma', 'Γ'),\n",
    "            ('\\\\delta', 'δ'),\n",
    "            ('\\\\Delta', 'Δ'),\n",
    "            ('\\\\epsilon', 'ϵ'),\n",
    "            ('\\\\zeta', 'ζ'),\n",
    "            ('\\\\eta', 'η'),\n",
    "            ('\\\\theta', 'θ'),\n",
    "            ('\\\\xi', 'ξ'),\n",
    "            ('\\\\mu', 'μ')\n",
    "        ]\n",
    "        for unicode, symbol in unicode_replacements:\n",
    "            code = code.replace(unicode, symbol)\n",
    "    \n",
    "    if replace_numpy:\n",
    "        numpy_replacements = [\n",
    "            ('exp', numpy_package + 'exp'),\n",
    "            ('log', numpy_package + 'log'),\n",
    "            ('pow', '( lambda base, exponent: base**exponent )'),\n",
    "            ('Heaviside', '(lambda input: np.heaviside(input,0.5))')\n",
    "        ]\n",
    "        for c_func, np_func in numpy_replacements:\n",
    "            code = code.replace(c_func, np_func)\n",
    "        \n",
    "    return code"
   ]
  },
  {
   "cell_type": "code",
   "execution_count": 2,
   "metadata": {
    "tags": []
   },
   "outputs": [],
   "source": [
    "import matplotlib\n",
    "matplotlib.rcParams.update({'font.size': 24})"
   ]
  },
  {
   "cell_type": "markdown",
   "metadata": {},
   "source": [
    "# Inhibitory Weight Kernel\n",
    "$$\\begin{align*}\n",
    "    \\mu u_t &= -u + \\int_{-\\infty}^\\infty \\big(M_1e^{-|x-x^\\prime|/\\sigma_1} - M_2e^{-|x-x^\\prime|/\\sigma_2} \\big) f( u(x^\\prime,t) - a(x^\\prime,t)) \\ dx^\\prime \\\\\n",
    "    \\alpha a_t &= -a + \\gamma f(u - a)\n",
    "\\end{align*}$$\n",
    "This gives\n",
    "$$\n",
    "-c \\mu U' + U = \\begin{cases}\n",
    "    \\frac{M_2}{\\sigma_2}e^{\\xi/\\sigma_2} - \\frac{M_1}{\\sigma_1}e^{\\xi/\\sigma_1} - \\frac{M_2}{\\sigma_2}e^{(\\xi + \\Delta)/\\sigma_2} + \\frac{M_1}{\\sigma_1}e^{(\\xi + \\Delta)/\\sigma_1}, & \\xi < -\\Delta \\\\\n",
    "    2\\frac{M_1}{\\sigma_1} - 2\\frac{M_2}{\\sigma_2} - \\frac{M_1}{\\sigma_1}e^{(-\\Delta-\\xi)/\\sigma_1} + \\frac{M_2}{\\sigma_2}e^{(-\\Delta-\\xi)/\\sigma_2} + \\frac{M2}{\\sigma_2}e^{\\xi/\\sigma_2} - \\frac{M_1}{\\sigma_1}e^{\\xi/\\sigma_1}, & -\\Delta \\le \\xi < 0 \\\\\n",
    "    \\frac{M_1}{\\sigma_1}e^{-\\xi/\\sigma_1} - \\frac{M_2}{\\sigma_2}e^{-\\xi/\\sigma_2} - \\frac{M_1}{\\sigma_1}e^{(-\\Delta-\\xi)/\\sigma_1} + \\frac{M_2}{\\sigma_2}e^{(-\\Delta-\\xi)/\\sigma_2}, & 0 \\le \\xi\n",
    "\\end{cases}\n",
    "$$"
   ]
  },
  {
   "cell_type": "code",
   "execution_count": 3,
   "metadata": {},
   "outputs": [
    {
     "data": {
      "text/latex": [
       "$\\displaystyle U{\\left(\\xi \\right)} = \\begin{cases} \\frac{M_{1} \\sigma_{1}^{2} \\left(e^{\\frac{\\xi}{\\sigma_{1}}} - e^{\\frac{\\Delta + \\xi}{\\sigma_{1}}}\\right)}{\\mu c - \\sigma_{1}} + \\frac{M_{2} \\sigma_{2}^{2} \\left(- e^{\\frac{\\xi}{\\sigma_{2}}} + e^{\\frac{\\Delta + \\xi}{\\sigma_{2}}}\\right)}{\\mu c - \\sigma_{2}} + \\left(\\frac{M_{1} \\sigma_{1}^{2} \\left(1 - e^{- \\frac{\\Delta}{\\sigma_{1}}}\\right)}{\\mu c - \\sigma_{1}} + \\frac{M_{2} \\sigma_{2}^{2} \\left(-1 + e^{- \\frac{\\Delta}{\\sigma_{2}}}\\right)}{\\mu c - \\sigma_{2}} + \\gamma - \\gamma e^{- \\frac{\\Delta}{\\alpha c}} + \\theta\\right) e^{\\frac{\\Delta}{\\mu c}} e^{\\frac{\\xi}{\\mu c}} & \\text{for}\\: \\Delta < - \\xi \\\\- \\frac{M_{1} \\sigma_{1}^{2} e^{\\frac{- \\Delta - \\xi}{\\sigma_{1}}}}{\\mu c + \\sigma_{1}} + \\frac{M_{1} \\sigma_{1}^{2} e^{\\frac{\\xi}{\\sigma_{1}}}}{\\mu c - \\sigma_{1}} + 2 M_{1} \\sigma_{1} + \\frac{M_{2} \\sigma_{2}^{2} e^{\\frac{- \\Delta - \\xi}{\\sigma_{2}}}}{\\mu c + \\sigma_{2}} - \\frac{M_{2} \\sigma_{2}^{2} e^{\\frac{\\xi}{\\sigma_{2}}}}{\\mu c - \\sigma_{2}} - 2 M_{2} \\sigma_{2} + \\left(\\frac{M_{1} \\sigma_{1}^{2} e^{- \\frac{\\Delta}{\\sigma_{1}}}}{\\mu c + \\sigma_{1}} - \\frac{M_{1} \\sigma_{1}^{2}}{\\mu c - \\sigma_{1}} - 2 M_{1} \\sigma_{1} - \\frac{M_{2} \\sigma_{2}^{2} e^{- \\frac{\\Delta}{\\sigma_{2}}}}{\\mu c + \\sigma_{2}} + \\frac{M_{2} \\sigma_{2}^{2}}{\\mu c - \\sigma_{2}} + 2 M_{2} \\sigma_{2} + \\theta\\right) e^{\\frac{\\xi}{\\mu c}} & \\text{for}\\: \\xi < 0 \\\\\\frac{M_{1} \\sigma_{1}^{2} \\left(- e^{\\frac{- \\Delta - \\xi}{\\sigma_{1}}} + e^{- \\frac{\\xi}{\\sigma_{1}}}\\right)}{\\mu c + \\sigma_{1}} + \\frac{M_{2} \\sigma_{2}^{2} \\left(e^{\\frac{- \\Delta - \\xi}{\\sigma_{2}}} - e^{- \\frac{\\xi}{\\sigma_{2}}}\\right)}{\\mu c + \\sigma_{2}} & \\text{otherwise} \\end{cases}$"
      ],
      "text/plain": [
       "Eq(U(\\xi), Piecewise((M_1*\\sigma_1**2*(exp(\\xi/\\sigma_1) - exp((\\Delta + \\xi)/\\sigma_1))/(\\mu*c - \\sigma_1) + M_2*\\sigma_2**2*(-exp(\\xi/\\sigma_2) + exp((\\Delta + \\xi)/\\sigma_2))/(\\mu*c - \\sigma_2) + (M_1*\\sigma_1**2*(1 - exp(-\\Delta/\\sigma_1))/(\\mu*c - \\sigma_1) + M_2*\\sigma_2**2*(-1 + exp(-\\Delta/\\sigma_2))/(\\mu*c - \\sigma_2) + \\gamma - \\gamma*exp(-\\Delta/(\\alpha*c)) + \\theta)*exp(\\Delta/(\\mu*c))*exp(\\xi/(\\mu*c)), \\Delta < -\\xi), (-M_1*\\sigma_1**2*exp((-\\Delta - \\xi)/\\sigma_1)/(\\mu*c + \\sigma_1) + M_1*\\sigma_1**2*exp(\\xi/\\sigma_1)/(\\mu*c - \\sigma_1) + 2*M_1*\\sigma_1 + M_2*\\sigma_2**2*exp((-\\Delta - \\xi)/\\sigma_2)/(\\mu*c + \\sigma_2) - M_2*\\sigma_2**2*exp(\\xi/\\sigma_2)/(\\mu*c - \\sigma_2) - 2*M_2*\\sigma_2 + (M_1*\\sigma_1**2*exp(-\\Delta/\\sigma_1)/(\\mu*c + \\sigma_1) - M_1*\\sigma_1**2/(\\mu*c - \\sigma_1) - 2*M_1*\\sigma_1 - M_2*\\sigma_2**2*exp(-\\Delta/\\sigma_2)/(\\mu*c + \\sigma_2) + M_2*\\sigma_2**2/(\\mu*c - \\sigma_2) + 2*M_2*\\sigma_2 + \\theta)*exp(\\xi/(\\mu*c)), \\xi < 0), (M_1*\\sigma_1**2*(-exp((-\\Delta - \\xi)/\\sigma_1) + exp(-\\xi/\\sigma_1))/(\\mu*c + \\sigma_1) + M_2*\\sigma_2**2*(exp((-\\Delta - \\xi)/\\sigma_2) - exp(-\\xi/\\sigma_2))/(\\mu*c + \\sigma_2), True)))"
      ]
     },
     "metadata": {},
     "output_type": "display_data"
    },
    {
     "data": {
      "text/latex": [
       "$\\displaystyle A{\\left(\\xi \\right)} = \\begin{cases} \\gamma \\left(e^{\\frac{\\Delta}{\\alpha c}} - 1\\right) e^{\\frac{\\xi}{\\alpha c}} & \\text{for}\\: \\Delta < - \\xi \\\\\\gamma \\left(1 - e^{\\frac{\\xi}{\\alpha c}}\\right) & \\text{for}\\: \\xi < 0 \\\\0 & \\text{otherwise} \\end{cases}$"
      ],
      "text/plain": [
       "Eq(A(\\xi), Piecewise((\\gamma*(exp(\\Delta/(\\alpha*c)) - 1)*exp(\\xi/(\\alpha*c)), \\Delta < -\\xi), (\\gamma*(1 - exp(\\xi/(\\alpha*c))), \\xi < 0), (0, True)))"
      ]
     },
     "metadata": {},
     "output_type": "display_data"
    },
    {
     "name": "stdout",
     "output_type": "stream",
     "text": [
      "with speed c and pulse-width Δ chosen such that\n"
     ]
    },
    {
     "data": {
      "text/latex": [
       "$\\displaystyle 0 = \\frac{M_{1} \\sigma_{1}^{2} \\left(1 - e^{- \\frac{\\Delta}{\\sigma_{1}}}\\right)}{\\mu c + \\sigma_{1}} + \\frac{M_{2} \\sigma_{2}^{2} \\left(-1 + e^{- \\frac{\\Delta}{\\sigma_{2}}}\\right)}{\\mu c + \\sigma_{2}} - \\theta$"
      ],
      "text/plain": [
       "Eq(0, M_1*\\sigma_1**2*(1 - exp(-\\Delta/\\sigma_1))/(\\mu*c + \\sigma_1) + M_2*\\sigma_2**2*(-1 + exp(-\\Delta/\\sigma_2))/(\\mu*c + \\sigma_2) - \\theta)"
      ]
     },
     "metadata": {},
     "output_type": "display_data"
    },
    {
     "data": {
      "text/latex": [
       "$\\displaystyle 0 = - \\frac{M_{1} \\sigma_{1}^{2}}{\\mu c + \\sigma_{1}} + \\frac{M_{1} \\sigma_{1}^{2} e^{- \\frac{\\Delta}{\\sigma_{1}}}}{\\mu c - \\sigma_{1}} + 2 M_{1} \\sigma_{1} + \\frac{M_{2} \\sigma_{2}^{2}}{\\mu c + \\sigma_{2}} - \\frac{M_{2} \\sigma_{2}^{2} e^{- \\frac{\\Delta}{\\sigma_{2}}}}{\\mu c - \\sigma_{2}} - 2 M_{2} \\sigma_{2} - \\gamma \\left(1 - e^{- \\frac{\\Delta}{\\alpha c}}\\right) - \\theta + \\left(\\frac{M_{1} \\sigma_{1}^{2} e^{- \\frac{\\Delta}{\\sigma_{1}}}}{\\mu c + \\sigma_{1}} - \\frac{M_{1} \\sigma_{1}^{2}}{\\mu c - \\sigma_{1}} - 2 M_{1} \\sigma_{1} - \\frac{M_{2} \\sigma_{2}^{2} e^{- \\frac{\\Delta}{\\sigma_{2}}}}{\\mu c + \\sigma_{2}} + \\frac{M_{2} \\sigma_{2}^{2}}{\\mu c - \\sigma_{2}} + 2 M_{2} \\sigma_{2} + \\theta\\right) e^{- \\frac{\\Delta}{\\mu c}}$"
      ],
      "text/plain": [
       "Eq(0, -M_1*\\sigma_1**2/(\\mu*c + \\sigma_1) + M_1*\\sigma_1**2*exp(-\\Delta/\\sigma_1)/(\\mu*c - \\sigma_1) + 2*M_1*\\sigma_1 + M_2*\\sigma_2**2/(\\mu*c + \\sigma_2) - M_2*\\sigma_2**2*exp(-\\Delta/\\sigma_2)/(\\mu*c - \\sigma_2) - 2*M_2*\\sigma_2 - \\gamma*(1 - exp(-\\Delta/(\\alpha*c))) - \\theta + (M_1*\\sigma_1**2*exp(-\\Delta/\\sigma_1)/(\\mu*c + \\sigma_1) - M_1*\\sigma_1**2/(\\mu*c - \\sigma_1) - 2*M_1*\\sigma_1 - M_2*\\sigma_2**2*exp(-\\Delta/\\sigma_2)/(\\mu*c + \\sigma_2) + M_2*\\sigma_2**2/(\\mu*c - \\sigma_2) + 2*M_2*\\sigma_2 + \\theta)*exp(-\\Delta/(\\mu*c)))"
      ]
     },
     "metadata": {},
     "output_type": "display_data"
    }
   ],
   "source": [
    "eviron_print_tex = False\n",
    "\n",
    "μ, α, γ, τ, c, Δ = sym.symbols('\\\\mu \\\\alpha \\\\gamma, \\\\theta, c \\\\Delta', real=True, positive = True)\n",
    "with open('profile.pickle', 'rb') as f:\n",
    "    xs, Us, As, param_list = pickle.load(f)\n",
    "    params = [μ, α,  γ,  τ, Δ, c]\n",
    "    param_dict = {key:val for key,val in zip(params, param_list)}\n",
    "\n",
    "x, xp, t, ξ, ξp = sym.symbols('x x^\\\\prime t \\\\xi \\\\xi^\\\\prime', real=True)\n",
    "u = sym.Function('u', real=True)(x,t)\n",
    "a = sym.Function('a', real=True)(x,t)\n",
    "U = sym.Function('U', real=True)(ξ)\n",
    "A = sym.Function('A', real=True)(ξ)\n",
    "\n",
    "m1, m2, σ1, σ2 = sym.symbols('M_1 M_2 \\\\sigma_1 \\\\sigma_2', real=True, positive=True)\n",
    "\n",
    "Fright = m1*σ1*sym.exp(-ξ/σ1) - m2*σ2*sym.exp(-ξ/σ2) - m1*σ1*sym.exp((-Δ-ξ)/σ1) + m2*σ2*sym.exp((-Δ-ξ)/σ2)\n",
    "Fmid = 2*m1*σ1 - 2*m2*σ2 - m1*σ1*sym.exp((-Δ-ξ)/σ1) + m2*σ2*sym.exp((-Δ-ξ)/σ2) + m2*σ2*sym.exp(ξ/σ2) - m1*σ1*sym.exp(ξ/σ1)\n",
    "Fleft = m2*σ2*sym.exp(ξ/σ2) - m1*σ1*sym.exp(ξ/σ1) - m2*σ2*sym.exp((ξ+Δ)/σ2) + m1*σ1*sym.exp((ξ+Δ)/σ1)\n",
    "F = Fright*sym.Heaviside(ξ) + Fmid*sym.Heaviside(ξ+Δ)*sym.Heaviside(-ξ) + Fleft*sym.Heaviside(-ξ-Δ)\n",
    "G =  γ*( sym.Heaviside(ξ+Δ) - sym.Heaviside(ξ) )\n",
    "\n",
    "\n",
    "LU = lambda f: μ*c*f.diff(ξ) - f\n",
    "LA = lambda f: α*c*f.diff(ξ) - f\n",
    "\n",
    "##########################################################\n",
    "#\n",
    "# A homogeneous \n",
    "#\n",
    "##########################################################\n",
    "\n",
    "Ahom = sym.dsolve(LA(A), A).args[1].expand()\n",
    "C1 = sym.symbols('C1')\n",
    "\n",
    "##########################################################\n",
    "#\n",
    "# A right = 0 \n",
    "#\n",
    "##########################################################\n",
    "\n",
    "Aright = 0\n",
    "\n",
    "##########################################################\n",
    "#\n",
    "# A middle \n",
    "#\n",
    "##########################################################\n",
    "\n",
    "Gmid = γ\n",
    "Amid = sym.dsolve(LA(A) + Gmid, ics={A.subs(ξ,0):0}).args[1].expand().collect(γ)\n",
    "\n",
    "##########################################################\n",
    "#\n",
    "# A left \n",
    "#\n",
    "##########################################################\n",
    "\n",
    "C1exp = sym.solve(Ahom.subs(ξ, -Δ) - Amid.subs(ξ,-Δ), sym.exp(C1/α/c))[0]\n",
    "Aleft = Ahom.subs(sym.exp(C1/α/c), C1exp)\n",
    "\n",
    "##########################################################\n",
    "#\n",
    "# Combine to get A\n",
    "#\n",
    "##########################################################\n",
    "Asub = sym.Piecewise( (Aleft, ξ<-Δ), (Amid, ξ<0), (Aright, True))\n",
    "\n",
    "\n",
    "##########################################################\n",
    "#\n",
    "# U homogeneous \n",
    "#\n",
    "##########################################################\n",
    "\n",
    "Uhom = sym.dsolve(LU(U), U).args[1]\n",
    "Uhom = Uhom.expand().subs(sym.exp(C1/μ/c), C1)\n",
    "\n",
    "##########################################################\n",
    "#\n",
    "# Uright \n",
    "#\n",
    "##########################################################\n",
    "terms = [\n",
    "    sym.exp(-ξ/σ1),\n",
    "    sym.exp(-ξ/σ2),\n",
    "    sym.exp((-Δ-ξ)/σ1),\n",
    "    sym.exp((-Δ-ξ)/σ2)\n",
    "]\n",
    "coeffs = []\n",
    "temp = sym.symbols('T')\n",
    "for term in terms:\n",
    "    coeff_sub = sym.solve((LU(term*temp) + Fright).collect(term).coeff(term), temp)[0]\n",
    "    coeffs.append(coeff_sub)\n",
    "    \n",
    "Uright = Uhom.subs(C1, 0) + sum(c*term for c, term in zip(coeffs, terms))\n",
    "Uright = Uright.collect(m1*σ1**2/(μ*c+σ1)).collect(m2*σ2**2/(μ*c+σ2))\n",
    "assert (LU(Uright) + Fright).simplify() == 0\n",
    "\n",
    "##########################################################\n",
    "#\n",
    "# Umid\n",
    "#\n",
    "##########################################################\n",
    "\n",
    "terms = [\n",
    "    sym.exp(ξ/σ1),\n",
    "    sym.exp(ξ/σ2),\n",
    "    sym.exp((-Δ-ξ)/σ1),\n",
    "    sym.exp((-Δ-ξ)/σ2)\n",
    "]\n",
    "coeffs = []\n",
    "temp = sym.symbols('T')\n",
    "for term in terms:\n",
    "    coeff_sub = sym.solve((LU(term*temp) + Fmid).collect(term).coeff(term), temp)[0]\n",
    "    coeffs.append(coeff_sub)\n",
    "# handle constant\n",
    "coeff_sub = sym.solve((LU(temp) + Fmid).subs(dict(zip(terms, [0]*len(terms)))), temp)[0]\n",
    "coeffs.append(coeff_sub)\n",
    "terms.append(1)\n",
    "    \n",
    "Umid = Uhom + sum(c*term for c, term in zip(coeffs, terms))\n",
    "C1_subs = -(Umid.subs(ξ,0) - τ).subs(C1, 0)\n",
    "Umid = Umid.subs(C1, C1_subs)\n",
    "assert (LU(Umid) + Fmid).simplify() == 0\n",
    "\n",
    "##########################################################\n",
    "#\n",
    "# Uleft\n",
    "#\n",
    "##########################################################\n",
    "\n",
    "terms = [\n",
    "    sym.exp(ξ/σ1),\n",
    "    sym.exp(ξ/σ2),\n",
    "    sym.exp((Δ+ξ)/σ1),\n",
    "    sym.exp((Δ+ξ)/σ2)\n",
    "]\n",
    "coeffs = []\n",
    "temp = sym.symbols('T')\n",
    "for term in terms:\n",
    "    coeff_sub = sym.solve((LU(term*temp) + Fleft).collect(term).coeff(term), temp)[0]\n",
    "    coeffs.append(coeff_sub)\n",
    "    \n",
    "Uleft = Uhom + sum(c*term for c, term in zip(coeffs, terms))\n",
    "C1_subs = -(((Uleft - Aleft).subs(ξ, -Δ) - τ)*sym.exp(Δ/μ/c)).expand().subs(C1, 0)\n",
    "Uleft = Uleft.subs(C1, C1_subs)\n",
    "Uleft = Uleft.collect(sym.exp(Δ/σ1)).collect(sym.exp(Δ/σ2)).collect(sym.exp(Δ/μ/c)).collect(m1*σ1**2/(μ*c-σ1)).collect(m2*σ2**2/(μ*c-σ2))\n",
    "assert (LU(Uleft) + Fleft).simplify() == 0\n",
    "\n",
    "##########################################################\n",
    "#\n",
    "# Conditions\n",
    "#\n",
    "##########################################################\n",
    "\n",
    "cond1 = Uright.subs(ξ, 0) - τ\n",
    "cond2 = (Umid - Amid).subs(ξ, -Δ) - τ\n",
    "\n",
    "##########################################################\n",
    "#\n",
    "# Piecewise\n",
    "#\n",
    "##########################################################\n",
    "\n",
    "Usub = sym.Piecewise( (Uleft, ξ<-Δ), (Umid, ξ < 0), (Uright, True))\n",
    "batch_print([sym.Eq(U, Usub), sym.Eq(A, Asub)])\n",
    "print('with speed c and pulse-width Δ chosen such that')\n",
    "batch_print([sym.Eq(0, cond1), sym.Eq(0, cond2)])"
   ]
  },
  {
   "cell_type": "markdown",
   "metadata": {},
   "source": [
    "# Root find"
   ]
  },
  {
   "cell_type": "code",
   "execution_count": 4,
   "metadata": {},
   "outputs": [],
   "source": [
    "param_dict = {\n",
    "    μ: 1,\n",
    "    α: 5,\n",
    "    γ: 3,\n",
    "    τ: 0.1,\n",
    "    m1: 3,\n",
    "    m2: 1,\n",
    "    σ1: 1,\n",
    "    σ2: 2,\n",
    "}\n",
    "\n",
    "F = sym.Matrix([[cond1], [cond2]]).subs(param_dict)\n",
    "\n",
    "# jac = sym.Matrix([[f.diff(var) for f in F] for var in [c, Δ]])\n",
    "jac = sym.Matrix([[f.diff(var) for var in [c, Δ]] for f in F] )\n",
    "\n",
    "Fnum = sym.lambdify((c, Δ), F, 'numpy')\n",
    "Jnum = sym.lambdify((c, Δ), jac, 'numpy')"
   ]
  },
  {
   "cell_type": "code",
   "execution_count": 52,
   "metadata": {},
   "outputs": [
    {
     "name": "stdout",
     "output_type": "stream",
     "text": [
      "{\\mu: 1, \\alpha: 5, \\gamma: 3, \\theta: 0.1, M_1: 3, M_2: 1, \\sigma_1: 1, \\sigma_2: 2, c: 1.4206352135572324, \\Delta: 7.2672972146810135}\n"
     ]
    }
   ],
   "source": [
    "temp = np.array([[1.4028042056102772],\n",
    "                 [7.407407407407412]])\n",
    "# temp = np.array([[.3827641455270858],\n",
    "#                  [7.207207207207212]])\n",
    "for _ in range(10):\n",
    "    temp -= la.solve(Jnum(*temp.flatten()), Fnum(*temp.flatten()))\n",
    "    #print(Fnum(*temp.flatten()))\n",
    "    \n",
    "param_dict[c], param_dict[Δ] = temp.flatten()\n",
    "\n",
    "Unum = sym.lambdify(ξ, Usub.subs(param_dict), 'numpy')\n",
    "print(param_dict)\n",
    "\n",
    "# θ = τ\n",
    "# save_dict = {\n",
    "#     s: param_dict[eval(s)]\n",
    "#     for s in ['μ', 'α', 'γ', 'θ', 'm1', 'm2','σ1', 'σ2', 'c', 'Δ']\n",
    "# }\n",
    "# with open('exp_diff_params.pickle', 'wb') as f:\n",
    "#     pickle.dump(save_dict, f)"
   ]
  },
  {
   "cell_type": "code",
   "execution_count": 6,
   "metadata": {},
   "outputs": [
    {
     "data": {
      "image/png": "[encoded data removed]",
      "text/plain": [
       "<Figure size 720x576 with 1 Axes>"
      ]
     },
     "metadata": {
      "needs_background": "light"
     },
     "output_type": "display_data"
    }
   ],
   "source": [
    "plt.figure(figsize=(10,8))\n",
    "xs = np.linspace(-40, 20, 801)\n",
    "plt.plot(xs, Unum(xs), 'b.-')\n",
    "# Umid_num = sym.lambdify(ξ, Umid.subs(param_dict), 'numpy')\n",
    "# plt.plot(xs, Umid_num(xs), 'k.-')\n",
    "# plt.ylim(-1, 5)\n",
    "plt.show()"
   ]
  },
  {
   "cell_type": "code",
   "execution_count": 7,
   "metadata": {},
   "outputs": [
    {
     "name": "stdout",
     "output_type": "stream",
     "text": [
      "def Unum(ξ, μ, α, γ, θ, Δ, c, m1, s1, m2, s2):\n",
      "\treturn // Not supported in C:\n",
      "// (lambda input: np.heaviside(input,0.5))\n",
      "// (lambda input: np.heaviside(input,0.5))\n",
      "// (lambda input: np.heaviside(input,0.5))\n",
      "// (lambda input: np.heaviside(input,0.5))\n",
      "(m1*( lambda base, exponent: base**exponent )(σ1, 2)*(-np.exp((-Δ - ξ)/σ1) + np.exp(-ξ/σ1))/(μ*c + σ1) + m2*( lambda base, exponent: base**exponent )(σ2, 2)*(np.exp((-Δ - ξ)/σ2) - np.exp(-ξ/σ2))/(μ*c + σ2))*(lambda input: np.heaviside(input,0.5))(ξ) + (m1*( lambda base, exponent: base**exponent )(σ1, 2)*(np.exp(ξ/σ1) - np.exp((Δ + ξ)/σ1))/(μ*c - σ1) + m2*( lambda base, exponent: base**exponent )(σ2, 2)*(-np.exp(ξ/σ2) + np.exp((Δ + ξ)/σ2))/(μ*c - σ2) + (m1*( lambda base, exponent: base**exponent )(σ1, 2)*(1 - np.exp(-Δ/σ1))/(μ*c - σ1) + m2*( lambda base, exponent: base**exponent )(σ2, 2)*(-1 + np.exp(-Δ/σ2))/(μ*c - σ2) + γ - γ*np.exp(-Δ/(α*c)) + θ)*np.exp(Δ/(μ*c))*np.exp(ξ/(μ*c)))*(lambda input: np.heaviside(input,0.5))(-Δ - ξ) + (-m1*( lambda base, exponent: base**exponent )(σ1, 2)*np.exp((-Δ - ξ)/σ1)/(μ*c + σ1) + m1*( lambda base, exponent: base**exponent )(σ1, 2)*np.exp(ξ/σ1)/(μ*c - σ1) + 2*m1*σ1 + m2*( lambda base, exponent: base**exponent )(σ2, 2)*np.exp((-Δ - ξ)/σ2)/(μ*c + σ2) - m2*( lambda base, exponent: base**exponent )(σ2, 2)*np.exp(ξ/σ2)/(μ*c - σ2) - 2*m2*σ2 + (m1*( lambda base, exponent: base**exponent )(σ1, 2)*np.exp(-Δ/σ1)/(μ*c + σ1) - m1*( lambda base, exponent: base**exponent )(σ1, 2)/(μ*c - σ1) - 2*m1*σ1 - m2*( lambda base, exponent: base**exponent )(σ2, 2)*np.exp(-Δ/σ2)/(μ*c + σ2) + m2*( lambda base, exponent: base**exponent )(σ2, 2)/(μ*c - σ2) + 2*m2*σ2 + θ)*np.exp(ξ/(μ*c)))*(lambda input: np.heaviside(input,0.5))(-ξ)*(lambda input: np.heaviside(input,0.5))(Δ + ξ)\n",
      "def Anum(ξ, μ, α, γ, θ, Δ, c, m1, s1, m2, s2):\n",
      "\treturn // Not supported in C:\n",
      "// (lambda input: np.heaviside(input,0.5))\n",
      "// (lambda input: np.heaviside(input,0.5))\n",
      "// (lambda input: np.heaviside(input,0.5))\n",
      "γ*(1 - np.exp(ξ/(α*c)))*(lambda input: np.heaviside(input,0.5))(-ξ)*(lambda input: np.heaviside(input,0.5))(Δ + ξ) + γ*(np.exp(Δ/(α*c)) - 1)*np.exp(ξ/(α*c))*(lambda input: np.heaviside(input,0.5))(-Δ - ξ)\n"
     ]
    }
   ],
   "source": [
    "Utest = sym.Heaviside(-ξ-Δ)*Uleft + sym.Heaviside(-ξ)*sym.Heaviside(ξ+Δ)*Umid + sym.Heaviside(ξ)*Uright\n",
    "Atest = sym.Heaviside(-ξ-Δ)*Aleft + sym.Heaviside(-ξ)*sym.Heaviside(ξ+Δ)*Amid + sym.Heaviside(ξ)*Aright\n",
    "\n",
    "# Heaviside numerics workaround\n",
    "# sympy_modules = [{'Heaviside': lambda x: np.heaviside(x,0.5)}, 'numpy']\n",
    "\n",
    "# Unumeric = sym.lambdify(ξ, Utest.subs(param_dict), modules=sympy_modules)\n",
    "# Anumeric = sym.lambdify(ξ, Atest.subs(param_dict), modules=sympy_modules)\n",
    "\n",
    "code_replace_dict = {\n",
    "    '\\\\sigma_1' : 'σ1',\n",
    "    '\\\\sigma_2' : 'σ2',\n",
    "    'M_1' : 'm1',\n",
    "    'M_2' : 'm2'\n",
    "}\n",
    "\n",
    "code = 'def Unum(ξ, μ, α, γ, θ, Δ, c, m1, s1, m2, s2):\\n\\treturn ' + py_code(Utest)\n",
    "for key, val in code_replace_dict.items():\n",
    "    code = code.replace(key, val)\n",
    "print(code)\n",
    "\n",
    "code = 'def Anum(ξ, μ, α, γ, θ, Δ, c, m1, s1, m2, s2):\\n\\treturn ' + py_code(Atest)\n",
    "for key, val in code_replace_dict.items():\n",
    "    code = code.replace(key, val)\n",
    "print(code)"
   ]
  },
  {
   "cell_type": "code",
   "execution_count": 8,
   "metadata": {},
   "outputs": [
    {
     "data": {
      "image/png": "[encoded data removed]",
      "text/plain": [
       "<Figure size 432x288 with 1 Axes>"
      ]
     },
     "metadata": {
      "needs_background": "light"
     },
     "output_type": "display_data"
    }
   ],
   "source": [
    "def Unum(ξ, μ, α, γ, θ, Δ, c, m1, σ1, m2, σ2):\n",
    "    return (m1*( lambda base, exponent: base**exponent )(σ1, 2)*(-np.exp((-Δ - ξ)/σ1) + np.exp(-ξ/σ1))/(μ*c + σ1) + m2*( lambda base, exponent: base**exponent )(σ2, 2)*(np.exp((-Δ - ξ)/σ2) - np.exp(-ξ/σ2))/(μ*c + σ2))*(lambda input: np.heaviside(input,0.5))(ξ) + (m1*( lambda base, exponent: base**exponent )(σ1, 2)*(np.exp(ξ/σ1) - np.exp((Δ + ξ)/σ1))/(μ*c - σ1) + m2*( lambda base, exponent: base**exponent )(σ2, 2)*(-np.exp(ξ/σ2) + np.exp((Δ + ξ)/σ2))/(μ*c - σ2) + (m1*( lambda base, exponent: base**exponent )(σ1, 2)*(1 - np.exp(-Δ/σ1))/(μ*c - σ1) + m2*( lambda base, exponent: base**exponent )(σ2, 2)*(-1 + np.exp(-Δ/σ2))/(μ*c - σ2) + γ - γ*np.exp(-Δ/(α*c)) + θ)*np.exp(Δ/(μ*c))*np.exp(ξ/(μ*c)))*(lambda input: np.heaviside(input,0.5))(-Δ - ξ) + (-m1*( lambda base, exponent: base**exponent )(σ1, 2)*np.exp((-Δ - ξ)/σ1)/(μ*c + σ1) + m1*( lambda base, exponent: base**exponent )(σ1, 2)*np.exp(ξ/σ1)/(μ*c - σ1) + 2*m1*σ1 + m2*( lambda base, exponent: base**exponent )(σ2, 2)*np.exp((-Δ - ξ)/σ2)/(μ*c + σ2) - m2*( lambda base, exponent: base**exponent )(σ2, 2)*np.exp(ξ/σ2)/(μ*c - σ2) - 2*m2*σ2 + (m1*( lambda base, exponent: base**exponent )(σ1, 2)*np.exp(-Δ/σ1)/(μ*c + σ1) - m1*( lambda base, exponent: base**exponent )(σ1, 2)/(μ*c - σ1) - 2*m1*σ1 - m2*( lambda base, exponent: base**exponent )(σ2, 2)*np.exp(-Δ/σ2)/(μ*c + σ2) + m2*( lambda base, exponent: base**exponent )(σ2, 2)/(μ*c - σ2) + 2*m2*σ2 + θ)*np.exp(ξ/(μ*c)))*(lambda input: np.heaviside(input,0.5))(-ξ)*(lambda input: np.heaviside(input,0.5))(Δ + ξ)\n",
    "def Anum(ξ, μ, α, γ, θ, Δ, c, m1, σ1, m2, σ2):\n",
    "    return γ*(1 - np.exp(ξ/(α*c)))*(lambda input: np.heaviside(input,0.5))(-ξ)*(lambda input: np.heaviside(input,0.5))(Δ + ξ) + γ*(np.exp(Δ/(α*c)) - 1)*np.exp(ξ/(α*c))*(lambda input: np.heaviside(input,0.5))(-Δ - ξ)\n",
    "\n",
    "numeric_params_dict = {\n",
    "    'μ' : param_dict[μ],\n",
    "    'α' : param_dict[α],\n",
    "    'γ' : param_dict[γ],\n",
    "    'θ' : param_dict[τ],\n",
    "    'Δ' : param_dict[Δ],\n",
    "    'c' : param_dict[c],\n",
    "    'm1': param_dict[m1],\n",
    "    'm2': param_dict[m2],\n",
    "    'σ1': param_dict[σ1],\n",
    "    'σ2': param_dict[σ2],\n",
    "}\n",
    "\n",
    "with open('param_dict_exp_diff.pickle', 'wb') as f:\n",
    "    pickle.dump(numeric_params_dict, f)\n",
    "\n",
    "\n",
    "\n",
    "plt.plot(xs, Unum(xs, **numeric_params_dict))\n",
    "plt.plot(xs, Anum(xs, **numeric_params_dict))\n",
    "plt.show()"
   ]
  },
  {
   "cell_type": "code",
   "execution_count": 85,
   "metadata": {},
   "outputs": [],
   "source": [
    "response_coeff = sym.integrate((-μ*Uright.diff(ξ)*sym.exp(-ξ/c/μ)).expand(), (ξ, 0, sym.oo))\n",
    "expr = response_coeff.collect(sym.exp(Δ/σ1)).collect(sym.exp(Δ/σ2))\n",
    "sub1 = (μ*c+σ1)**2\n",
    "sub2 = (μ*c+σ2)**2\n",
    "expr = expr.subs(sub1.expand(), sub1).subs(sub2.expand(), sub2)\n",
    "expr = expr.collect( m1*μ**2*σ1**2*c/sub1 ).collect( m2*μ**2*σ2**2*c/sub2 )\n",
    "assert (response_coeff - expr).simplify() == 0\n",
    "response_coeff = expr"
   ]
  },
  {
   "cell_type": "code",
   "execution_count": 86,
   "metadata": {},
   "outputs": [
    {
     "data": {
      "text/latex": [
       "$\\displaystyle \\frac{\\int\\limits_{0}^{t}\\int\\limits_{0}^{\\infty} I{\\left(\\xi,\\tau \\right)} e^{- \\frac{\\xi}{\\mu c}}\\, d\\xi\\, d\\tau}{\\frac{M_{1} \\mu^{2} \\sigma_{1}^{2} c \\left(1 - e^{- \\frac{\\Delta}{\\sigma_{1}}}\\right)}{\\left(\\mu c + \\sigma_{1}\\right)^{2}} + \\frac{M_{2} \\mu^{2} \\sigma_{2}^{2} c \\left(-1 + e^{- \\frac{\\Delta}{\\sigma_{2}}}\\right)}{\\left(\\mu c + \\sigma_{2}\\right)^{2}}}$"
      ],
      "text/plain": [
       "Integral(I(\\xi, \\tau)*exp(-\\xi/(\\mu*c)), (\\xi, 0, oo), (\\tau, 0, t))/(M_1*\\mu**2*\\sigma_1**2*c*(1 - exp(-\\Delta/\\sigma_1))/(\\mu*c + \\sigma_1)**2 + M_2*\\mu**2*\\sigma_2**2*c*(-1 + exp(-\\Delta/\\sigma_2))/(\\mu*c + \\sigma_2)**2)"
      ]
     },
     "metadata": {},
     "output_type": "display_data"
    }
   ],
   "source": [
    "tau = sym.symbols('\\\\tau')\n",
    "I = sym.Function('I')\n",
    "wave_response = 1/response_coeff * sym.integrate(\n",
    "                                        sym.integrate(\n",
    "                                            sym.exp(-ξ/c/μ)*I(ξ,tau), \n",
    "                                            (ξ, 0, sym.oo)),\n",
    "                                        (tau, 0, t))\n",
    "display(wave_response)"
   ]
  },
  {
   "cell_type": "code",
   "execution_count": 90,
   "metadata": {},
   "outputs": [
    {
     "name": "stdout",
     "output_type": "stream",
     "text": [
      "\\frac{\\mu c}{\\frac{M_{1} \\mu^{2} \\sigma_{1}^{2} c \\left(1 - e^{- \\frac{\\Delta}{\\sigma_{1}}}\\right)}{\\left(\\mu c + \\sigma_{1}\\right)^{2}} + \\frac{M_{2} \\mu^{2} \\sigma_{2}^{2} c \\left(-1 + e^{- \\frac{\\Delta}{\\sigma_{2}}}\\right)}{\\left(\\mu c + \\sigma_{2}\\right)^{2}}}\n"
     ]
    }
   ],
   "source": [
    "print(sym.latex(\n",
    "wave_response.subs(I(ξ, tau), 1).doit().subs(t, 1)#.subs(param_dict).evalf()\n",
    "))"
   ]
  },
  {
   "cell_type": "code",
   "execution_count": 88,
   "metadata": {},
   "outputs": [
    {
     "data": {
      "text/plain": [
       "{\\mu: 1,\n",
       " \\alpha: 5,\n",
       " \\gamma: 3,\n",
       " \\theta: 0.1,\n",
       " M_1: 3,\n",
       " M_2: 1,\n",
       " \\sigma_1: 1,\n",
       " \\sigma_2: 2,\n",
       " c: 1.4206352135572324,\n",
       " \\Delta: 7.2672972146810135}"
      ]
     },
     "execution_count": 88,
     "metadata": {},
     "output_type": "execute_result"
    }
   ],
   "source": [
    "param_dict"
   ]
  },
  {
   "cell_type": "code",
   "execution_count": 98,
   "metadata": {},
   "outputs": [
    {
     "name": "stdout",
     "output_type": "stream",
     "text": [
      "$\\mu=1$, $\\alpha=5$, $\\gamma=3$, $\\theta=0.1$, $M_1=3$, $M_2=1$, $\\sigma_1=1$, $\\sigma_2=2$, $c=1.421$, $\\Delta=7.267$\n"
     ]
    }
   ],
   "source": [
    "def param_dict_print(param_dict):\n",
    "    print(', '.join(f'${key}={value:.4g}$' for key, value in param_dict.items()))\n",
    "        \n",
    "param_dict_print(param_dict)"
   ]
  },
  {
   "cell_type": "code",
   "execution_count": null,
   "metadata": {},
   "outputs": [],
   "source": []
  }
 ],
 "metadata": {
  "kernelspec": {
   "display_name": "Python 3",
   "language": "python",
   "name": "python3"
  },
  "language_info": {
   "codemirror_mode": {
    "name": "ipython",
    "version": 3
   },
   "file_extension": ".py",
   "mimetype": "text/x-python",
   "name": "python",
   "nbconvert_exporter": "python",
   "pygments_lexer": "ipython3",
   "version": "3.6.9"
  }
 },
 "nbformat": 4,
 "nbformat_minor": 4
}

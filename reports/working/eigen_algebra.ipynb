{
 "cells": [
  {
   "cell_type": "code",
   "execution_count": 1,
   "id": "c04a3c06-3e27-44c0-ac7a-0ccad81f74c0",
   "metadata": {},
   "outputs": [],
   "source": [
    "import sympy as sym"
   ]
  },
  {
   "cell_type": "code",
   "execution_count": 2,
   "id": "7a541371-23b4-4656-8233-c413fe427bb2",
   "metadata": {},
   "outputs": [],
   "source": [
    "α, β, θ, c, μ = sym.symbols(r'\\alpha \\beta \\theta c \\mu')"
   ]
  },
  {
   "cell_type": "code",
   "execution_count": 3,
   "id": "359590fd-682c-4670-8a7a-f6757ac7c097",
   "metadata": {},
   "outputs": [],
   "source": [
    "expr = θ*2*(μ*c + 1)*(1 + β + α*c) - α*c - 1"
   ]
  },
  {
   "cell_type": "code",
   "execution_count": 4,
   "id": "25d04eac-c09b-4e30-999c-6fd1eceeac14",
   "metadata": {},
   "outputs": [
    {
     "data": {
      "text/latex": [
       "$\\displaystyle 2 \\alpha \\mu \\theta c^{2} + 2 \\beta \\theta + 2 \\theta + c \\left(2 \\alpha \\theta - \\alpha + 2 \\beta \\mu \\theta + 2 \\mu \\theta\\right) - 1$"
      ],
      "text/plain": [
       "2*\\alpha*\\mu*\\theta*c**2 + 2*\\beta*\\theta + 2*\\theta + c*(2*\\alpha*\\theta - \\alpha + 2*\\beta*\\mu*\\theta + 2*\\mu*\\theta) - 1"
      ]
     },
     "metadata": {},
     "output_type": "display_data"
    }
   ],
   "source": [
    "expr = expr.expand().collect(c)\n",
    "display(expr)"
   ]
  },
  {
   "cell_type": "code",
   "execution_count": 5,
   "id": "ed29fa5b-1314-4a67-a857-c9f02bfc5441",
   "metadata": {},
   "outputs": [
    {
     "data": {
      "text/latex": [
       "$\\displaystyle 2 \\alpha \\mu \\theta$"
      ],
      "text/plain": [
       "2*\\alpha*\\mu*\\theta"
      ]
     },
     "metadata": {},
     "output_type": "display_data"
    },
    {
     "data": {
      "text/latex": [
       "$\\displaystyle 2 \\alpha \\theta - \\alpha + 2 \\beta \\mu \\theta + 2 \\mu \\theta$"
      ],
      "text/plain": [
       "2*\\alpha*\\theta - \\alpha + 2*\\beta*\\mu*\\theta + 2*\\mu*\\theta"
      ]
     },
     "metadata": {},
     "output_type": "display_data"
    },
    {
     "data": {
      "text/latex": [
       "$\\displaystyle 2 \\beta \\theta + 2 \\theta - 1$"
      ],
      "text/plain": [
       "2*\\beta*\\theta + 2*\\theta - 1"
      ]
     },
     "metadata": {},
     "output_type": "display_data"
    }
   ],
   "source": [
    "A = expr.coeff(c**2)\n",
    "B = expr.coeff(c)\n",
    "C = expr.subs(c, 0)\n",
    "display(A)\n",
    "display(B)\n",
    "display(C)"
   ]
  },
  {
   "cell_type": "code",
   "execution_count": 6,
   "id": "b3e181d2-0c03-473e-bd9a-b05806ac9982",
   "metadata": {},
   "outputs": [
    {
     "data": {
      "text/latex": [
       "$\\displaystyle 4 \\alpha^{2} \\theta^{2} - 4 \\alpha^{2} \\theta + \\alpha^{2} - 8 \\alpha \\beta \\mu \\theta^{2} - 4 \\alpha \\beta \\mu \\theta - 8 \\alpha \\mu \\theta^{2} + 4 \\alpha \\mu \\theta + 4 \\beta^{2} \\mu^{2} \\theta^{2} + 8 \\beta \\mu^{2} \\theta^{2} + 4 \\mu^{2} \\theta^{2}$"
      ],
      "text/plain": [
       "4*\\alpha**2*\\theta**2 - 4*\\alpha**2*\\theta + \\alpha**2 - 8*\\alpha*\\beta*\\mu*\\theta**2 - 4*\\alpha*\\beta*\\mu*\\theta - 8*\\alpha*\\mu*\\theta**2 + 4*\\alpha*\\mu*\\theta + 4*\\beta**2*\\mu**2*\\theta**2 + 8*\\beta*\\mu**2*\\theta**2 + 4*\\mu**2*\\theta**2"
      ]
     },
     "metadata": {},
     "output_type": "display_data"
    }
   ],
   "source": [
    "desc = B**2 - 4*A*C\n",
    "desc = desc.expand()\n",
    "display(desc)"
   ]
  },
  {
   "cell_type": "code",
   "execution_count": 7,
   "id": "3f67dfec-5400-4708-a7bc-5df224faaa4a",
   "metadata": {},
   "outputs": [],
   "source": [
    "def neg_filter(expr):\n",
    "    return str(expr)[0] == '-'"
   ]
  },
  {
   "cell_type": "code",
   "execution_count": 8,
   "id": "65da130d-d0be-482a-8036-765179ae28d6",
   "metadata": {},
   "outputs": [],
   "source": [
    "pos_part = sum(arg for arg in desc.args if not neg_filter(arg))\n",
    "neg_part = sum(-arg for arg in desc.args if neg_filter(arg))\n",
    "assert ((pos_part - neg_part) - desc).simplify() == 0"
   ]
  },
  {
   "cell_type": "code",
   "execution_count": 9,
   "id": "db11f0ed-5c3c-48a2-9cb4-ac589386bddd",
   "metadata": {},
   "outputs": [
    {
     "data": {
      "text/latex": [
       "$\\displaystyle \\alpha^{2} \\left(4 \\theta^{2} + 1\\right) + 4 \\alpha \\mu \\theta + 4 \\beta^{2} \\mu^{2} \\theta^{2} + 8 \\beta \\mu^{2} \\theta^{2} + 4 \\mu^{2} \\theta^{2}$"
      ],
      "text/plain": [
       "\\alpha**2*(4*\\theta**2 + 1) + 4*\\alpha*\\mu*\\theta + 4*\\beta**2*\\mu**2*\\theta**2 + 8*\\beta*\\mu**2*\\theta**2 + 4*\\mu**2*\\theta**2"
      ]
     },
     "execution_count": 9,
     "metadata": {},
     "output_type": "execute_result"
    }
   ],
   "source": [
    "pos_part.collect(α)"
   ]
  },
  {
   "cell_type": "code",
   "execution_count": 10,
   "id": "947e24cc-ac31-42b5-a1da-0081798aacfd",
   "metadata": {},
   "outputs": [
    {
     "data": {
      "text/latex": [
       "$\\displaystyle 4 \\alpha^{2} \\theta + 8 \\alpha \\beta \\mu \\theta^{2} + 4 \\alpha \\beta \\mu \\theta + 8 \\alpha \\mu \\theta^{2}$"
      ],
      "text/plain": [
       "4*\\alpha**2*\\theta + 8*\\alpha*\\beta*\\mu*\\theta**2 + 4*\\alpha*\\beta*\\mu*\\theta + 8*\\alpha*\\mu*\\theta**2"
      ]
     },
     "execution_count": 10,
     "metadata": {},
     "output_type": "execute_result"
    }
   ],
   "source": [
    "neg_part"
   ]
  },
  {
   "cell_type": "code",
   "execution_count": 11,
   "id": "c3e551ec-6282-4175-bf61-4802990a98d3",
   "metadata": {},
   "outputs": [
    {
     "data": {
      "text/latex": [
       "$\\displaystyle \\alpha^{2} + \\theta^{2} \\left(4 \\alpha^{2} - 8 \\alpha \\beta \\mu - 8 \\alpha \\mu + 4 \\beta^{2} \\mu^{2} + 8 \\beta \\mu^{2} + 4 \\mu^{2}\\right) + \\theta \\left(- 4 \\alpha^{2} - 4 \\alpha \\beta \\mu + 4 \\alpha \\mu\\right)$"
      ],
      "text/plain": [
       "\\alpha**2 + \\theta**2*(4*\\alpha**2 - 8*\\alpha*\\beta*\\mu - 8*\\alpha*\\mu + 4*\\beta**2*\\mu**2 + 8*\\beta*\\mu**2 + 4*\\mu**2) + \\theta*(-4*\\alpha**2 - 4*\\alpha*\\beta*\\mu + 4*\\alpha*\\mu)"
      ]
     },
     "execution_count": 11,
     "metadata": {},
     "output_type": "execute_result"
    }
   ],
   "source": [
    "desc.collect(θ)"
   ]
  },
  {
   "cell_type": "code",
   "execution_count": null,
   "id": "b22586f5-6c06-4667-9315-9408705185ee",
   "metadata": {},
   "outputs": [],
   "source": []
  },
  {
   "cell_type": "code",
   "execution_count": null,
   "id": "f16e0db2-887a-4116-8ee2-fff3eba31aab",
   "metadata": {},
   "outputs": [],
   "source": []
  },
  {
   "cell_type": "code",
   "execution_count": null,
   "id": "d1d5f044-90f3-4377-8dc3-12de36ff71e6",
   "metadata": {},
   "outputs": [],
   "source": []
  },
  {
   "cell_type": "markdown",
   "id": "d975d82a-5545-4d44-a752-83f082d01b7c",
   "metadata": {},
   "source": [
    "# Case ..."
   ]
  },
  {
   "cell_type": "code",
   "execution_count": 35,
   "id": "48f7dc98-29dd-4b92-b753-321c790de765",
   "metadata": {},
   "outputs": [],
   "source": [
    "α, β, θ, c, μ, λ = sym.symbols(r'\\alpha \\beta \\theta c \\mu \\lambda')\n",
    "#r = -(1 + β + α*λ)/(α * c)\n",
    "#s = -(1 + μ*λ)/(μ*c)\n",
    "r = sym.symbols('r')\n",
    "s = -1/μ/c + (1+β)/(α*c) + r\n",
    "A = sym.symbols('A')\n",
    "expr = 2*c*θ*(1-s)*(1-r) - (1 - r + θ*A)\n",
    "expr = (expr*μ*c*α).expand().collect(r)"
   ]
  },
  {
   "cell_type": "code",
   "execution_count": 36,
   "id": "df14d8b1-1814-46c0-9131-4af379238006",
   "metadata": {},
   "outputs": [
    {
     "data": {
      "text/latex": [
       "$\\displaystyle - A \\alpha \\mu \\theta c + 2 \\alpha \\mu \\theta c^{2} r^{2} + 2 \\alpha \\mu \\theta c^{2} - \\alpha \\mu c + 2 \\alpha \\theta c - 2 \\beta \\mu \\theta c - 2 \\mu \\theta c + r \\left(- 4 \\alpha \\mu \\theta c^{2} + \\alpha \\mu c - 2 \\alpha \\theta c + 2 \\beta \\mu \\theta c + 2 \\mu \\theta c\\right)$"
      ],
      "text/plain": [
       "-A*\\alpha*\\mu*\\theta*c + 2*\\alpha*\\mu*\\theta*c**2*r**2 + 2*\\alpha*\\mu*\\theta*c**2 - \\alpha*\\mu*c + 2*\\alpha*\\theta*c - 2*\\beta*\\mu*\\theta*c - 2*\\mu*\\theta*c + r*(-4*\\alpha*\\mu*\\theta*c**2 + \\alpha*\\mu*c - 2*\\alpha*\\theta*c + 2*\\beta*\\mu*\\theta*c + 2*\\mu*\\theta*c)"
      ]
     },
     "execution_count": 36,
     "metadata": {},
     "output_type": "execute_result"
    }
   ],
   "source": [
    "expr"
   ]
  },
  {
   "cell_type": "code",
   "execution_count": 40,
   "id": "aa919a5a-d176-4302-b42f-42b662fece16",
   "metadata": {},
   "outputs": [],
   "source": [
    "sols = sym.solve(expr, r)"
   ]
  },
  {
   "cell_type": "code",
   "execution_count": 41,
   "id": "6449d6f0-eafc-4bf5-92ef-3cc101474529",
   "metadata": {},
   "outputs": [
    {
     "data": {
      "text/latex": [
       "$\\displaystyle \\frac{4 \\alpha \\mu \\theta c - \\alpha \\mu + 2 \\alpha \\theta - 2 \\beta \\mu \\theta - 2 \\mu \\theta - \\sqrt{8 A \\alpha^{2} \\mu^{2} \\theta^{2} c + \\alpha^{2} \\mu^{2} - 4 \\alpha^{2} \\mu \\theta + 4 \\alpha^{2} \\theta^{2} + 4 \\alpha \\beta \\mu^{2} \\theta - 8 \\alpha \\beta \\mu \\theta^{2} + 4 \\alpha \\mu^{2} \\theta - 8 \\alpha \\mu \\theta^{2} + 4 \\beta^{2} \\mu^{2} \\theta^{2} + 8 \\beta \\mu^{2} \\theta^{2} + 4 \\mu^{2} \\theta^{2}}}{4 \\alpha \\mu \\theta c}$"
      ],
      "text/plain": [
       "(4*\\alpha*\\mu*\\theta*c - \\alpha*\\mu + 2*\\alpha*\\theta - 2*\\beta*\\mu*\\theta - 2*\\mu*\\theta - sqrt(8*A*\\alpha**2*\\mu**2*\\theta**2*c + \\alpha**2*\\mu**2 - 4*\\alpha**2*\\mu*\\theta + 4*\\alpha**2*\\theta**2 + 4*\\alpha*\\beta*\\mu**2*\\theta - 8*\\alpha*\\beta*\\mu*\\theta**2 + 4*\\alpha*\\mu**2*\\theta - 8*\\alpha*\\mu*\\theta**2 + 4*\\beta**2*\\mu**2*\\theta**2 + 8*\\beta*\\mu**2*\\theta**2 + 4*\\mu**2*\\theta**2))/(4*\\alpha*\\mu*\\theta*c)"
      ]
     },
     "metadata": {},
     "output_type": "display_data"
    },
    {
     "data": {
      "text/latex": [
       "$\\displaystyle \\frac{4 \\alpha \\mu \\theta c - \\alpha \\mu + 2 \\alpha \\theta - 2 \\beta \\mu \\theta - 2 \\mu \\theta + \\sqrt{8 A \\alpha^{2} \\mu^{2} \\theta^{2} c + \\alpha^{2} \\mu^{2} - 4 \\alpha^{2} \\mu \\theta + 4 \\alpha^{2} \\theta^{2} + 4 \\alpha \\beta \\mu^{2} \\theta - 8 \\alpha \\beta \\mu \\theta^{2} + 4 \\alpha \\mu^{2} \\theta - 8 \\alpha \\mu \\theta^{2} + 4 \\beta^{2} \\mu^{2} \\theta^{2} + 8 \\beta \\mu^{2} \\theta^{2} + 4 \\mu^{2} \\theta^{2}}}{4 \\alpha \\mu \\theta c}$"
      ],
      "text/plain": [
       "(4*\\alpha*\\mu*\\theta*c - \\alpha*\\mu + 2*\\alpha*\\theta - 2*\\beta*\\mu*\\theta - 2*\\mu*\\theta + sqrt(8*A*\\alpha**2*\\mu**2*\\theta**2*c + \\alpha**2*\\mu**2 - 4*\\alpha**2*\\mu*\\theta + 4*\\alpha**2*\\theta**2 + 4*\\alpha*\\beta*\\mu**2*\\theta - 8*\\alpha*\\beta*\\mu*\\theta**2 + 4*\\alpha*\\mu**2*\\theta - 8*\\alpha*\\mu*\\theta**2 + 4*\\beta**2*\\mu**2*\\theta**2 + 8*\\beta*\\mu**2*\\theta**2 + 4*\\mu**2*\\theta**2))/(4*\\alpha*\\mu*\\theta*c)"
      ]
     },
     "metadata": {},
     "output_type": "display_data"
    }
   ],
   "source": [
    "for sol in sols:\n",
    "    display(sol)"
   ]
  },
  {
   "cell_type": "code",
   "execution_count": 45,
   "id": "428f4c5a-b2e6-4772-b6f3-542c6238b62b",
   "metadata": {},
   "outputs": [
    {
     "data": {
      "text/latex": [
       "$\\displaystyle 2 \\alpha \\mu \\theta c^{2}$"
      ],
      "text/plain": [
       "2*\\alpha*\\mu*\\theta*c**2"
      ]
     },
     "metadata": {},
     "output_type": "display_data"
    },
    {
     "data": {
      "text/latex": [
       "$\\displaystyle - 4 \\alpha \\mu \\theta c^{2} + \\alpha \\mu c - 2 \\alpha \\theta c + 2 \\beta \\mu \\theta c + 2 \\mu \\theta c$"
      ],
      "text/plain": [
       "-4*\\alpha*\\mu*\\theta*c**2 + \\alpha*\\mu*c - 2*\\alpha*\\theta*c + 2*\\beta*\\mu*\\theta*c + 2*\\mu*\\theta*c"
      ]
     },
     "metadata": {},
     "output_type": "display_data"
    },
    {
     "data": {
      "text/latex": [
       "$\\displaystyle - A \\alpha \\mu \\theta c + 2 \\alpha \\mu \\theta c^{2} - \\alpha \\mu c + 2 \\alpha \\theta c - 2 \\beta \\mu \\theta c - 2 \\mu \\theta c$"
      ],
      "text/plain": [
       "-A*\\alpha*\\mu*\\theta*c + 2*\\alpha*\\mu*\\theta*c**2 - \\alpha*\\mu*c + 2*\\alpha*\\theta*c - 2*\\beta*\\mu*\\theta*c - 2*\\mu*\\theta*c"
      ]
     },
     "metadata": {},
     "output_type": "display_data"
    }
   ],
   "source": [
    "A = expr.coeff(r**2)\n",
    "B = expr.coeff(r)\n",
    "C = expr.subs(r, 0)\n",
    "display(A)\n",
    "display(B)\n",
    "display(C)"
   ]
  },
  {
   "cell_type": "code",
   "execution_count": 49,
   "id": "36e1802d-1bf9-4614-9212-fed4b3a7646e",
   "metadata": {},
   "outputs": [
    {
     "data": {
      "text/latex": [
       "$\\displaystyle -1 + \\frac{1}{4 \\theta c} - \\frac{1}{2 \\mu c} + \\frac{\\beta}{2 \\alpha c} + \\frac{1}{2 \\alpha c}$"
      ],
      "text/plain": [
       "-1 + 1/(4*\\theta*c) - 1/(2*\\mu*c) + \\beta/(2*\\alpha*c) + 1/(2*\\alpha*c)"
      ]
     },
     "execution_count": 49,
     "metadata": {},
     "output_type": "execute_result"
    }
   ],
   "source": [
    "(B/2/A).simplify()"
   ]
  },
  {
   "cell_type": "code",
   "execution_count": null,
   "id": "66a037ae-8ee6-41be-9e41-bdc7b701a9c7",
   "metadata": {},
   "outputs": [],
   "source": []
  }
 ],
 "metadata": {
  "kernelspec": {
   "display_name": "Python 3",
   "language": "python",
   "name": "python3"
  },
  "language_info": {
   "codemirror_mode": {
    "name": "ipython",
    "version": 3
   },
   "file_extension": ".py",
   "mimetype": "text/x-python",
   "name": "python",
   "nbconvert_exporter": "python",
   "pygments_lexer": "ipython3",
   "version": "3.6.9"
  }
 },
 "nbformat": 4,
 "nbformat_minor": 5
}

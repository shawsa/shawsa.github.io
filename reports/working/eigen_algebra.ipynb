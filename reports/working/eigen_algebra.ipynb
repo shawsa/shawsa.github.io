{
 "cells": [
  {
   "cell_type": "code",
   "execution_count": 1,
   "id": "c04a3c06-3e27-44c0-ac7a-0ccad81f74c0",
   "metadata": {},
   "outputs": [],
   "source": [
    "%matplotlib inline\n",
    "import matplotlib.pyplot as plt\n",
    "import numpy as np\n",
    "import sympy as sym\n",
    "def get_speed(*, mu, alpha, theta, gamma, desc=None):\n",
    "    A = 2*theta*mu*alpha\n",
    "    B = (2*theta-1)*alpha + 2*theta*mu/gamma\n",
    "    C = 2*theta/gamma - 1\n",
    "    if desc is None:\n",
    "        desc = B**2 - 4*A*C\n",
    "    return (-B + np.sqrt(desc))/(2*A)\n",
    "\n",
    "def get_speed2(*, mu, alpha, theta, gamma, desc=None):\n",
    "    A = 2*theta*mu*alpha\n",
    "    B = (2*theta-1)*alpha + 2*theta*mu/gamma\n",
    "    C = 2*theta/gamma - 1\n",
    "    if desc is None:\n",
    "        desc = B**2 - 4*A*C\n",
    "    return (-B - np.sqrt(desc))/(2*A)"
   ]
  },
  {
   "cell_type": "markdown",
   "id": "a6236d40-a283-4cae-8f61-467a2967773c",
   "metadata": {},
   "source": [
    "# Speed calc"
   ]
  },
  {
   "cell_type": "code",
   "execution_count": 2,
   "id": "db1b515f-b8f1-4c14-a611-3f04c6094dbb",
   "metadata": {},
   "outputs": [
    {
     "data": {
      "text/latex": [
       "$\\displaystyle 2 \\alpha \\mu \\theta c^{2} + 2 \\beta \\theta + 2 \\theta + c \\left(2 \\alpha \\theta - \\alpha + 2 \\beta \\mu \\theta + 2 \\mu \\theta\\right) - 1$"
      ],
      "text/plain": [
       "2*\\alpha*\\mu*\\theta*c**2 + 2*\\beta*\\theta + 2*\\theta + c*(2*\\alpha*\\theta - \\alpha + 2*\\beta*\\mu*\\theta + 2*\\mu*\\theta) - 1"
      ]
     },
     "metadata": {},
     "output_type": "display_data"
    },
    {
     "data": {
      "text/latex": [
       "$\\displaystyle 2 \\alpha \\mu \\theta$"
      ],
      "text/plain": [
       "2*\\alpha*\\mu*\\theta"
      ]
     },
     "metadata": {},
     "output_type": "display_data"
    },
    {
     "data": {
      "text/latex": [
       "$\\displaystyle 2 \\alpha \\theta - \\alpha + 2 \\beta \\mu \\theta + 2 \\mu \\theta$"
      ],
      "text/plain": [
       "2*\\alpha*\\theta - \\alpha + 2*\\beta*\\mu*\\theta + 2*\\mu*\\theta"
      ]
     },
     "metadata": {},
     "output_type": "display_data"
    },
    {
     "data": {
      "text/latex": [
       "$\\displaystyle 2 \\beta \\theta + 2 \\theta - 1$"
      ],
      "text/plain": [
       "2*\\beta*\\theta + 2*\\theta - 1"
      ]
     },
     "metadata": {},
     "output_type": "display_data"
    }
   ],
   "source": [
    "α, β, γ, θ, c, μ, λ = sym.symbols(r'\\alpha \\beta \\gamma \\theta c \\mu \\lambda')\n",
    "speed_poly = 2*θ*(1 + μ*c)*(1 + β + α*c) - α*c - 1\n",
    "speed_poly = speed_poly.expand().collect(c)\n",
    "speed_A = speed_poly.coeff(c**2)\n",
    "speed_B = speed_poly.coeff(c)\n",
    "speed_C = speed_poly.subs(c, 0)\n",
    "display(speed_poly)\n",
    "display(speed_A)\n",
    "display(speed_B)\n",
    "display(speed_C)\n",
    "speed_vertex = (-speed_B/2/speed_A).expand()"
   ]
  },
  {
   "cell_type": "code",
   "execution_count": 3,
   "id": "f917a3a3-17ce-451a-90f9-2eb7a8cd7c5a",
   "metadata": {},
   "outputs": [],
   "source": [
    "speed_desc = speed_B**2 - 4*speed_A*speed_C"
   ]
  },
  {
   "cell_type": "code",
   "execution_count": 4,
   "id": "fcb69c34-7409-47a9-a663-eb904e60a739",
   "metadata": {},
   "outputs": [
    {
     "data": {
      "text/latex": [
       "$\\displaystyle - 8 \\alpha \\mu \\theta \\left(2 \\beta \\theta + 2 \\theta - 1\\right) + \\left(2 \\alpha \\theta - \\alpha + 2 \\beta \\mu \\theta + 2 \\mu \\theta\\right)^{2}$"
      ],
      "text/plain": [
       "-8*\\alpha*\\mu*\\theta*(2*\\beta*\\theta + 2*\\theta - 1) + (2*\\alpha*\\theta - \\alpha + 2*\\beta*\\mu*\\theta + 2*\\mu*\\theta)**2"
      ]
     },
     "execution_count": 4,
     "metadata": {},
     "output_type": "execute_result"
    }
   ],
   "source": [
    "speed_desc"
   ]
  },
  {
   "cell_type": "code",
   "execution_count": 5,
   "id": "0cd047fa-9430-4bd5-9a28-89276409a49a",
   "metadata": {},
   "outputs": [
    {
     "data": {
      "text/latex": [
       "$\\displaystyle 2 \\beta \\theta + 2 \\theta - 1$"
      ],
      "text/plain": [
       "2*\\beta*\\theta + 2*\\theta - 1"
      ]
     },
     "execution_count": 5,
     "metadata": {},
     "output_type": "execute_result"
    }
   ],
   "source": [
    "speed_C"
   ]
  },
  {
   "cell_type": "markdown",
   "id": "d975d82a-5545-4d44-a752-83f082d01b7c",
   "metadata": {},
   "source": [
    "# Case 1"
   ]
  },
  {
   "cell_type": "markdown",
   "id": "93a87052-0a76-46c5-ab3d-99dce21f8786",
   "metadata": {},
   "source": [
    "\\begin{align*}\n",
    "    \\Re(s) &< 0 \\implies \\Re(\\lambda) > -\\frac{1}{\\mu} \\\\\n",
    "    \\Re(r) &< 1 \\implies \\Re(\\lambda) > -c - \\frac{1+\\beta}{\\alpha}\n",
    "\\end{align*}"
   ]
  },
  {
   "cell_type": "code",
   "execution_count": 3,
   "id": "48f7dc98-29dd-4b92-b753-321c790de765",
   "metadata": {},
   "outputs": [],
   "source": [
    "α, β, γ, θ, c, μ, λ = sym.symbols(r'\\alpha \\beta \\gamma \\theta c \\mu \\lambda')\n",
    "r = -(1 + β + α*λ)/(α * c)\n",
    "s = -(1 + μ*λ)/(μ*c)\n",
    "# r = sym.symbols('r')\n",
    "# s = -1/μ/c + (1+β)/(α*c) + r\n",
    "K = sym.symbols('K')\n",
    "expr = 2*c*θ*(s-1)*(1-r) + (1-r) + θ*K"
   ]
  },
  {
   "cell_type": "code",
   "execution_count": 4,
   "id": "66a037ae-8ee6-41be-9e41-bdc7b701a9c7",
   "metadata": {},
   "outputs": [],
   "source": [
    "expr = expr.expand().collect(λ)\n",
    "A = expr.coeff(λ**2)\n",
    "B = expr.coeff(λ)\n",
    "C = expr.subs(λ, 0)"
   ]
  },
  {
   "cell_type": "code",
   "execution_count": 5,
   "id": "17572e57-6890-4136-9209-3df35ec642a8",
   "metadata": {},
   "outputs": [
    {
     "data": {
      "text/latex": [
       "$\\displaystyle K \\theta - \\frac{2 \\lambda^{2} \\theta}{c} + \\lambda \\left(- 4 \\theta + \\frac{1}{c} - \\frac{2 \\theta}{\\mu c} - \\frac{2 \\beta \\theta}{\\alpha c} - \\frac{2 \\theta}{\\alpha c}\\right) - 2 \\theta c + 1 - \\frac{2 \\theta}{\\mu} - \\frac{2 \\beta \\theta}{\\alpha} + \\frac{\\beta}{\\alpha c} - \\frac{2 \\beta \\theta}{\\alpha \\mu c} - \\frac{2 \\theta}{\\alpha} + \\frac{1}{\\alpha c} - \\frac{2 \\theta}{\\alpha \\mu c}$"
      ],
      "text/plain": [
       "K*\\theta - 2*\\lambda**2*\\theta/c + \\lambda*(-4*\\theta + 1/c - 2*\\theta/(\\mu*c) - 2*\\beta*\\theta/(\\alpha*c) - 2*\\theta/(\\alpha*c)) - 2*\\theta*c + 1 - 2*\\theta/\\mu - 2*\\beta*\\theta/\\alpha + \\beta/(\\alpha*c) - 2*\\beta*\\theta/(\\alpha*\\mu*c) - 2*\\theta/\\alpha + 1/(\\alpha*c) - 2*\\theta/(\\alpha*\\mu*c)"
      ]
     },
     "execution_count": 5,
     "metadata": {},
     "output_type": "execute_result"
    }
   ],
   "source": [
    "expr"
   ]
  },
  {
   "cell_type": "code",
   "execution_count": 6,
   "id": "4bf81db4-9ed9-4eba-a9a0-d0f0160d8fe5",
   "metadata": {},
   "outputs": [
    {
     "data": {
      "text/latex": [
       "$\\displaystyle - \\frac{2 \\theta}{c}$"
      ],
      "text/plain": [
       "-2*\\theta/c"
      ]
     },
     "metadata": {},
     "output_type": "display_data"
    },
    {
     "data": {
      "text/latex": [
       "$\\displaystyle - 4 \\theta + \\frac{1}{c} - \\frac{2 \\theta}{\\mu c} - \\frac{2 \\beta \\theta}{\\alpha c} - \\frac{2 \\theta}{\\alpha c}$"
      ],
      "text/plain": [
       "-4*\\theta + 1/c - 2*\\theta/(\\mu*c) - 2*\\beta*\\theta/(\\alpha*c) - 2*\\theta/(\\alpha*c)"
      ]
     },
     "metadata": {},
     "output_type": "display_data"
    },
    {
     "data": {
      "text/latex": [
       "$\\displaystyle K \\theta - 2 \\theta c + 1 - \\frac{2 \\theta}{\\mu} - \\frac{2 \\beta \\theta}{\\alpha} + \\frac{\\beta}{\\alpha c} - \\frac{2 \\beta \\theta}{\\alpha \\mu c} - \\frac{2 \\theta}{\\alpha} + \\frac{1}{\\alpha c} - \\frac{2 \\theta}{\\alpha \\mu c}$"
      ],
      "text/plain": [
       "K*\\theta - 2*\\theta*c + 1 - 2*\\theta/\\mu - 2*\\beta*\\theta/\\alpha + \\beta/(\\alpha*c) - 2*\\beta*\\theta/(\\alpha*\\mu*c) - 2*\\theta/\\alpha + 1/(\\alpha*c) - 2*\\theta/(\\alpha*\\mu*c)"
      ]
     },
     "metadata": {},
     "output_type": "display_data"
    }
   ],
   "source": [
    "display(A)\n",
    "display(B)\n",
    "display(C)"
   ]
  },
  {
   "cell_type": "code",
   "execution_count": 7,
   "id": "9fa185ba-bc9e-4c31-8c42-71c118babe5a",
   "metadata": {},
   "outputs": [
    {
     "data": {
      "text/latex": [
       "$\\displaystyle \\frac{8 K \\theta^{2}}{c} + \\frac{1}{c^{2}} - \\frac{4 \\theta}{\\mu c^{2}} + \\frac{4 \\theta^{2}}{\\mu^{2} c^{2}} + \\frac{4 \\beta \\theta}{\\alpha c^{2}} - \\frac{8 \\beta \\theta^{2}}{\\alpha \\mu c^{2}} + \\frac{4 \\theta}{\\alpha c^{2}} - \\frac{8 \\theta^{2}}{\\alpha \\mu c^{2}} + \\frac{4 \\beta^{2} \\theta^{2}}{\\alpha^{2} c^{2}} + \\frac{8 \\beta \\theta^{2}}{\\alpha^{2} c^{2}} + \\frac{4 \\theta^{2}}{\\alpha^{2} c^{2}}$"
      ],
      "text/plain": [
       "8*K*\\theta**2/c + c**(-2) - 4*\\theta/(\\mu*c**2) + 4*\\theta**2/(\\mu**2*c**2) + 4*\\beta*\\theta/(\\alpha*c**2) - 8*\\beta*\\theta**2/(\\alpha*\\mu*c**2) + 4*\\theta/(\\alpha*c**2) - 8*\\theta**2/(\\alpha*\\mu*c**2) + 4*\\beta**2*\\theta**2/(\\alpha**2*c**2) + 8*\\beta*\\theta**2/(\\alpha**2*c**2) + 4*\\theta**2/(\\alpha**2*c**2)"
      ]
     },
     "metadata": {},
     "output_type": "display_data"
    }
   ],
   "source": [
    "desc = (B**2 - 4*A*C).expand()\n",
    "display(desc)"
   ]
  },
  {
   "cell_type": "code",
   "execution_count": 8,
   "id": "b1031784-151c-4074-9de2-0dd8997a5071",
   "metadata": {},
   "outputs": [
    {
     "data": {
      "text/latex": [
       "$\\displaystyle - c + \\frac{1}{4 \\theta} - \\frac{1}{2 \\mu} - \\frac{\\beta}{2 \\alpha} - \\frac{1}{2 \\alpha}$"
      ],
      "text/plain": [
       "-c + 1/(4*\\theta) - 1/(2*\\mu) - \\beta/(2*\\alpha) - 1/(2*\\alpha)"
      ]
     },
     "metadata": {},
     "output_type": "display_data"
    }
   ],
   "source": [
    "vertex = (-B/2/A).expand()\n",
    "display(vertex)"
   ]
  },
  {
   "cell_type": "code",
   "execution_count": 9,
   "id": "4c148554-c17c-48d4-b882-cc0f4866d5bb",
   "metadata": {},
   "outputs": [
    {
     "data": {
      "text/latex": [
       "$\\displaystyle - \\frac{1}{2 \\mu} + \\frac{1}{4 \\mu \\theta} - \\frac{\\beta}{2 \\alpha} - \\frac{1}{2 \\alpha}$"
      ],
      "text/plain": [
       "-1/(2*\\mu) + 1/(4*\\mu*\\theta) - \\beta/(2*\\alpha) - 1/(2*\\alpha)"
      ]
     },
     "execution_count": 9,
     "metadata": {},
     "output_type": "execute_result"
    }
   ],
   "source": [
    "speed_vertex"
   ]
  },
  {
   "cell_type": "code",
   "execution_count": 10,
   "id": "d4fafe9b-6408-4f2c-a75f-b1e30078b77b",
   "metadata": {},
   "outputs": [],
   "source": [
    "params = {\n",
    "    sym.latex(μ): 1,\n",
    "    sym.latex(α): 5,\n",
    "    sym.latex(γ): .15,\n",
    "    sym.latex(θ): .1}\n",
    "\n",
    "params[sym.latex(β)] = 1/params[sym.latex(γ)]  - 1\n",
    "\n",
    "c1 = get_speed(mu = params[sym.latex(μ)],\n",
    "               alpha = params[sym.latex(α)],\n",
    "               theta = params[sym.latex(θ)],\n",
    "               gamma = params[sym.latex(γ)])\n",
    "\n",
    "c2 = get_speed2(mu = params[sym.latex(μ)],\n",
    "                alpha = params[sym.latex(α)],\n",
    "                theta = params[sym.latex(θ)],\n",
    "                gamma = params[sym.latex(γ)])"
   ]
  },
  {
   "cell_type": "code",
   "execution_count": 11,
   "id": "135f6329-8242-48cb-bc87-7547a2fd98f5",
   "metadata": {},
   "outputs": [
    {
     "name": "stdout",
     "output_type": "stream",
     "text": [
      "{'\\\\mu': 1, '\\\\alpha': 5, '\\\\gamma': 0.15, '\\\\theta': 0.1, '\\\\beta': 5.666666666666667}\n",
      "2.535183758487996\n",
      "0.13148290817867037\n"
     ]
    }
   ],
   "source": [
    "print(params)\n",
    "print(c1)\n",
    "print(c2)"
   ]
  },
  {
   "cell_type": "code",
   "execution_count": 12,
   "id": "471f6608-7dcb-47ae-834f-c64b718cff9f",
   "metadata": {},
   "outputs": [
    {
     "data": {
      "text/latex": [
       "$\\displaystyle 1.33333333333333 - c$"
      ],
      "text/plain": [
       "1.33333333333333 - c"
      ]
     },
     "execution_count": 12,
     "metadata": {},
     "output_type": "execute_result"
    }
   ],
   "source": [
    "vertex.subs(params)"
   ]
  },
  {
   "cell_type": "code",
   "execution_count": 13,
   "id": "d5152da7-2582-48f3-acce-86616aee6f66",
   "metadata": {},
   "outputs": [
    {
     "name": "stdout",
     "output_type": "stream",
     "text": [
      "-1.20185042515466\n",
      "1.20185042515466\n"
     ]
    }
   ],
   "source": [
    "print(vertex.subs(params).subs(c, c1))\n",
    "print(vertex.subs(params).subs(c, c2))"
   ]
  },
  {
   "cell_type": "markdown",
   "id": "0cfff18e-141c-44d1-8c68-0d7c4f26d1f2",
   "metadata": {},
   "source": [
    "Seems to be symmetric about 0... but it isn't."
   ]
  },
  {
   "cell_type": "code",
   "execution_count": 14,
   "id": "af50ed46-71ca-483f-999f-cb022c99f062",
   "metadata": {},
   "outputs": [
    {
     "data": {
      "text/latex": [
       "$\\displaystyle K \\theta - \\frac{2 \\lambda^{2} \\theta}{c} + \\lambda \\left(- 4 \\theta + \\frac{1}{c} - \\frac{2 \\theta}{\\mu c} - \\frac{2 \\beta \\theta}{\\alpha c} - \\frac{2 \\theta}{\\alpha c}\\right) - 2 \\theta c + 1 - \\frac{2 \\theta}{\\mu} - \\frac{2 \\beta \\theta}{\\alpha} + \\frac{\\beta}{\\alpha c} - \\frac{2 \\beta \\theta}{\\alpha \\mu c} - \\frac{2 \\theta}{\\alpha} + \\frac{1}{\\alpha c} - \\frac{2 \\theta}{\\alpha \\mu c}$"
      ],
      "text/plain": [
       "K*\\theta - 2*\\lambda**2*\\theta/c + \\lambda*(-4*\\theta + 1/c - 2*\\theta/(\\mu*c) - 2*\\beta*\\theta/(\\alpha*c) - 2*\\theta/(\\alpha*c)) - 2*\\theta*c + 1 - 2*\\theta/\\mu - 2*\\beta*\\theta/\\alpha + \\beta/(\\alpha*c) - 2*\\beta*\\theta/(\\alpha*\\mu*c) - 2*\\theta/\\alpha + 1/(\\alpha*c) - 2*\\theta/(\\alpha*\\mu*c)"
      ]
     },
     "execution_count": 14,
     "metadata": {},
     "output_type": "execute_result"
    }
   ],
   "source": [
    "expr"
   ]
  },
  {
   "cell_type": "code",
   "execution_count": 15,
   "id": "b39d39c1-998b-43aa-86c8-cc6f32e58ac1",
   "metadata": {},
   "outputs": [
    {
     "data": {
      "text/latex": [
       "$\\displaystyle - c + \\frac{1}{4 \\theta} - \\frac{1}{2 \\mu} - \\frac{\\beta}{2 \\alpha} - \\frac{1}{2 \\alpha}$"
      ],
      "text/plain": [
       "-c + 1/(4*\\theta) - 1/(2*\\mu) - \\beta/(2*\\alpha) - 1/(2*\\alpha)"
      ]
     },
     "execution_count": 15,
     "metadata": {},
     "output_type": "execute_result"
    }
   ],
   "source": [
    "vertex"
   ]
  },
  {
   "cell_type": "code",
   "execution_count": 16,
   "id": "7457251a-51ee-4cd8-b900-b0c1027b147b",
   "metadata": {},
   "outputs": [
    {
     "data": {
      "text/latex": [
       "$\\displaystyle \\frac{8 K \\theta^{2}}{c} + \\frac{1}{c^{2}} - \\frac{4 \\theta}{\\mu c^{2}} + \\frac{4 \\theta^{2}}{\\mu^{2} c^{2}} + \\frac{4 \\beta \\theta}{\\alpha c^{2}} - \\frac{8 \\beta \\theta^{2}}{\\alpha \\mu c^{2}} + \\frac{4 \\theta}{\\alpha c^{2}} - \\frac{8 \\theta^{2}}{\\alpha \\mu c^{2}} + \\frac{4 \\beta^{2} \\theta^{2}}{\\alpha^{2} c^{2}} + \\frac{8 \\beta \\theta^{2}}{\\alpha^{2} c^{2}} + \\frac{4 \\theta^{2}}{\\alpha^{2} c^{2}}$"
      ],
      "text/plain": [
       "8*K*\\theta**2/c + c**(-2) - 4*\\theta/(\\mu*c**2) + 4*\\theta**2/(\\mu**2*c**2) + 4*\\beta*\\theta/(\\alpha*c**2) - 8*\\beta*\\theta**2/(\\alpha*\\mu*c**2) + 4*\\theta/(\\alpha*c**2) - 8*\\theta**2/(\\alpha*\\mu*c**2) + 4*\\beta**2*\\theta**2/(\\alpha**2*c**2) + 8*\\beta*\\theta**2/(\\alpha**2*c**2) + 4*\\theta**2/(\\alpha**2*c**2)"
      ]
     },
     "execution_count": 16,
     "metadata": {},
     "output_type": "execute_result"
    }
   ],
   "source": [
    "desc"
   ]
  },
  {
   "cell_type": "code",
   "execution_count": 38,
   "id": "3276e779-00ff-49a7-aefd-18578b01be85",
   "metadata": {},
   "outputs": [
    {
     "data": {
      "image/png": "[encoded data removed]",
      "text/plain": [
       "<Figure size 432x288 with 1 Axes>"
      ]
     },
     "metadata": {
      "needs_background": "light"
     },
     "output_type": "display_data"
    }
   ],
   "source": [
    "curves = sym.solve(expr.subs(params).subs(c, c1), λ)\n",
    "Re, Im = np.meshgrid(np.linspace(-10, 10, 21), np.linspace(-10, 10, 21))\n",
    "# Ks = np.linspace(-20, 20, 201) + 0j\n",
    "Ks = Re + 1j*Im\n",
    "for curve in curves:\n",
    "    temp = sym.lambdify(K, curve)\n",
    "    lams = temp(Ks)\n",
    "    plt.plot(lams.real, lams.imag, 'k.')"
   ]
  },
  {
   "cell_type": "code",
   "execution_count": 26,
   "id": "aa88a024-e5a6-4266-9540-fb83169f8b62",
   "metadata": {},
   "outputs": [
    {
     "data": {
      "text/latex": [
       "$\\displaystyle - 2.66666666666667 \\sqrt{0.178255108018687 K + 1} - 1.20185042515466$"
      ],
      "text/plain": [
       "-2.66666666666667*sqrt(0.178255108018687*K + 1) - 1.20185042515466"
      ]
     },
     "execution_count": 26,
     "metadata": {},
     "output_type": "execute_result"
    }
   ],
   "source": [
    "curve"
   ]
  },
  {
   "cell_type": "code",
   "execution_count": 29,
   "id": "df636558-4ce2-4ca5-a7d4-521d21c04862",
   "metadata": {},
   "outputs": [
    {
     "data": {
      "text/plain": [
       "array([-3.86851709, -4.09644936, -4.30769892, -4.50546765, -4.69204793])"
      ]
     },
     "execution_count": 29,
     "metadata": {},
     "output_type": "execute_result"
    }
   ],
   "source": [
    "temp(np.arange(5))"
   ]
  },
  {
   "cell_type": "code",
   "execution_count": 33,
   "id": "e8cfdc37-b234-4d34-ac53-7d2e6ef03799",
   "metadata": {},
   "outputs": [
    {
     "data": {
      "text/plain": [
       "nan"
      ]
     },
     "execution_count": 33,
     "metadata": {},
     "output_type": "execute_result"
    }
   ],
   "source": [
    "temp(-20)"
   ]
  },
  {
   "cell_type": "code",
   "execution_count": null,
   "id": "f10689a5-d289-48e7-8746-daafc1ea4b15",
   "metadata": {},
   "outputs": [],
   "source": []
  }
 ],
 "metadata": {
  "kernelspec": {
   "display_name": "Python 3",
   "language": "python",
   "name": "python3"
  },
  "language_info": {
   "codemirror_mode": {
    "name": "ipython",
    "version": 3
   },
   "file_extension": ".py",
   "mimetype": "text/x-python",
   "name": "python",
   "nbconvert_exporter": "python",
   "pygments_lexer": "ipython3",
   "version": "3.6.9"
  }
 },
 "nbformat": 4,
 "nbformat_minor": 5
}

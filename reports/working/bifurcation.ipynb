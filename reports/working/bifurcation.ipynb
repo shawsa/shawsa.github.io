{
 "cells": [
  {
   "cell_type": "code",
   "execution_count": 1,
   "id": "b50e03d9-e906-465c-a339-a579868e639c",
   "metadata": {},
   "outputs": [],
   "source": [
    "import sympy as sym"
   ]
  },
  {
   "cell_type": "code",
   "execution_count": 2,
   "id": "42cb90ed-69ce-43dc-98d3-1ff77882ba5f",
   "metadata": {},
   "outputs": [],
   "source": [
    "a, t, m, g = sym.symbols(r'\\alpha \\theta \\mu \\gamma')"
   ]
  },
  {
   "cell_type": "code",
   "execution_count": 4,
   "id": "83b6e8d4-d870-4159-9911-b1af754f6c1c",
   "metadata": {},
   "outputs": [],
   "source": [
    "A = 2*t*m*a\n",
    "B = (2*t-1)*a + 2*t*m/g\n",
    "C = 2*t/g - 1\n",
    "expr = B**2 - 4*A*C"
   ]
  },
  {
   "cell_type": "code",
   "execution_count": 7,
   "id": "c1cbd6c9-b12a-4764-b7ef-3405e926338d",
   "metadata": {},
   "outputs": [],
   "source": [
    "solution = sym.solve(expr, a)[1]"
   ]
  },
  {
   "cell_type": "code",
   "execution_count": 8,
   "id": "5baf94dd-1749-4f54-ab91-8922936fd9e4",
   "metadata": {},
   "outputs": [
    {
     "data": {
      "text/latex": [
       "$\\displaystyle \\frac{2 \\mu \\theta \\left(- 2 \\gamma + 2 \\theta + 2 \\sqrt{\\gamma^{2} - 2 \\gamma \\theta - \\gamma + 2 \\theta} + 1\\right)}{\\gamma \\left(4 \\theta^{2} - 4 \\theta + 1\\right)}$"
      ],
      "text/plain": [
       "2*\\mu*\\theta*(-2*\\gamma + 2*\\theta + 2*sqrt(\\gamma**2 - 2*\\gamma*\\theta - \\gamma + 2*\\theta) + 1)/(\\gamma*(4*\\theta**2 - 4*\\theta + 1))"
      ]
     },
     "execution_count": 8,
     "metadata": {},
     "output_type": "execute_result"
    }
   ],
   "source": [
    "solution"
   ]
  },
  {
   "cell_type": "code",
   "execution_count": 17,
   "id": "05b3a7fe-15f5-4950-845e-588117213827",
   "metadata": {},
   "outputs": [
    {
     "name": "stdout",
     "output_type": "stream",
     "text": [
      "2*mu*theta*(-2*gamma + 2*theta + 2*math.sqrt(gamma**2 - 2*gamma*theta - gamma + 2*theta) + 1)/(gamma*(4*theta**2 - 4*theta + 1))\n"
     ]
    }
   ],
   "source": [
    "print(sym.pycode(solution).replace('\\\\', ''))"
   ]
  },
  {
   "cell_type": "code",
   "execution_count": 20,
   "id": "49314361-4a19-4909-b35e-902846ef9790",
   "metadata": {},
   "outputs": [
    {
     "data": {
      "text/latex": [
       "$\\displaystyle - \\frac{\\mu}{2 \\theta - 1}$"
      ],
      "text/plain": [
       "-\\mu/(2*\\theta - 1)"
      ]
     },
     "execution_count": 20,
     "metadata": {},
     "output_type": "execute_result"
    }
   ],
   "source": [
    "solution.subs({g: 2*t}).factor()"
   ]
  },
  {
   "cell_type": "code",
   "execution_count": null,
   "id": "07e23563-11eb-4b72-999d-753a9c41283c",
   "metadata": {},
   "outputs": [],
   "source": []
  }
 ],
 "metadata": {
  "kernelspec": {
   "display_name": "Python 3",
   "language": "python",
   "name": "python3"
  },
  "language_info": {
   "codemirror_mode": {
    "name": "ipython",
    "version": 3
   },
   "file_extension": ".py",
   "mimetype": "text/x-python",
   "name": "python",
   "nbconvert_exporter": "python",
   "pygments_lexer": "ipython3",
   "version": "3.6.9"
  }
 },
 "nbformat": 4,
 "nbformat_minor": 5
}

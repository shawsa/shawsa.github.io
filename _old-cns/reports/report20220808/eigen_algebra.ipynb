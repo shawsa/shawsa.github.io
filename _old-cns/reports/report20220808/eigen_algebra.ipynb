{
 "cells": [
  {
   "cell_type": "code",
   "execution_count": 38,
   "id": "444bbfae-1c86-47b0-b6dd-c82094d44d46",
   "metadata": {},
   "outputs": [],
   "source": [
    "%matplotlib inline\n",
    "import matplotlib.pyplot as plt\n",
    "import numpy as np\n",
    "import sympy as sym"
   ]
  },
  {
   "cell_type": "code",
   "execution_count": 7,
   "id": "ca045aaa-3cf7-492b-888c-e1ba83417fb9",
   "metadata": {},
   "outputs": [],
   "source": [
    "c, α, θ, β, μ, λ = sym.symbols(r'c \\alpha \\theta \\beta \\mu \\lambda')"
   ]
  },
  {
   "cell_type": "code",
   "execution_count": 65,
   "id": "1e162ab0-b5c0-47ea-8de5-6063f3319d2a",
   "metadata": {},
   "outputs": [
    {
     "data": {
      "text/latex": [
       "$\\displaystyle 2 \\alpha \\theta c \\left(-1 + \\frac{- \\lambda \\mu - 1}{\\mu c}\\right) \\left(1 - \\frac{- \\alpha \\lambda - \\beta - 1}{\\alpha c}\\right) \\left(\\frac{- \\lambda \\mu - 1}{\\mu c} - \\frac{- \\alpha \\lambda - \\beta - 1}{\\alpha c}\\right) + \\alpha \\left(1 - \\frac{- \\alpha \\lambda - \\beta - 1}{\\alpha c}\\right) \\left(\\frac{- \\lambda \\mu - 1}{\\mu c} - \\frac{- \\alpha \\lambda - \\beta - 1}{\\alpha c}\\right) + \\beta \\left(-1 + \\frac{- \\lambda \\mu - 1}{\\mu c}\\right)$"
      ],
      "text/plain": [
       "2*\\alpha*\\theta*c*(-1 + (-\\lambda*\\mu - 1)/(\\mu*c))*(1 - (-\\alpha*\\lambda - \\beta - 1)/(\\alpha*c))*((-\\lambda*\\mu - 1)/(\\mu*c) - (-\\alpha*\\lambda - \\beta - 1)/(\\alpha*c)) + \\alpha*(1 - (-\\alpha*\\lambda - \\beta - 1)/(\\alpha*c))*((-\\lambda*\\mu - 1)/(\\mu*c) - (-\\alpha*\\lambda - \\beta - 1)/(\\alpha*c)) + \\beta*(-1 + (-\\lambda*\\mu - 1)/(\\mu*c))"
      ]
     },
     "metadata": {},
     "output_type": "display_data"
    }
   ],
   "source": [
    "s = -(1 + μ*λ)/(c*μ)\n",
    "r = -(1 + β + α*λ)/(c*α)\n",
    "expr = 2*c*α*θ*(s - 1)*(1-r)*(s-r) + α*(1-r)*(s-r) + β*(s-1)\n",
    "display(expr)\n",
    "expr *= (α*μ*c)**2"
   ]
  },
  {
   "cell_type": "code",
   "execution_count": 66,
   "id": "f00581ee-738c-459f-b80a-01a2ecc4cad9",
   "metadata": {},
   "outputs": [
    {
     "data": {
      "text/latex": [
       "$\\displaystyle 2 \\alpha^{3} \\mu \\theta c^{2} - \\alpha^{3} \\mu c + 2 \\alpha^{3} \\theta c - 2 \\alpha^{2} \\beta \\mu^{2} \\theta c^{2} - \\alpha^{2} \\beta \\mu^{2} c^{2} + \\alpha^{2} \\beta \\mu^{2} c - \\alpha^{2} \\beta \\mu c - \\alpha^{2} \\beta \\mu + 2 \\alpha^{2} \\beta \\theta - 2 \\alpha^{2} \\mu^{2} \\theta c^{2} + \\alpha^{2} \\mu^{2} c - \\alpha^{2} \\mu + 2 \\alpha^{2} \\theta - 2 \\alpha \\beta^{2} \\mu^{2} \\theta c + \\alpha \\beta^{2} \\mu^{2} - 2 \\alpha \\beta^{2} \\mu \\theta - 4 \\alpha \\beta \\mu^{2} \\theta c + 2 \\alpha \\beta \\mu^{2} - 4 \\alpha \\beta \\mu \\theta - 2 \\alpha \\mu^{2} \\theta c + \\alpha \\mu^{2} - 2 \\alpha \\mu \\theta + \\lambda^{2} \\left(2 \\alpha^{3} \\mu \\theta - 2 \\alpha^{2} \\beta \\mu^{2} \\theta - 2 \\alpha^{2} \\mu^{2} \\theta\\right) + \\lambda \\left(4 \\alpha^{3} \\mu \\theta c - \\alpha^{3} \\mu + 2 \\alpha^{3} \\theta - 4 \\alpha^{2} \\beta \\mu^{2} \\theta c - \\alpha^{2} \\beta \\mu^{2} c + \\alpha^{2} \\beta \\mu^{2} - 4 \\alpha^{2} \\mu^{2} \\theta c + \\alpha^{2} \\mu^{2} - 2 \\alpha \\beta^{2} \\mu^{2} \\theta - 4 \\alpha \\beta \\mu^{2} \\theta - 2 \\alpha \\mu^{2} \\theta\\right)$"
      ],
      "text/plain": [
       "2*\\alpha**3*\\mu*\\theta*c**2 - \\alpha**3*\\mu*c + 2*\\alpha**3*\\theta*c - 2*\\alpha**2*\\beta*\\mu**2*\\theta*c**2 - \\alpha**2*\\beta*\\mu**2*c**2 + \\alpha**2*\\beta*\\mu**2*c - \\alpha**2*\\beta*\\mu*c - \\alpha**2*\\beta*\\mu + 2*\\alpha**2*\\beta*\\theta - 2*\\alpha**2*\\mu**2*\\theta*c**2 + \\alpha**2*\\mu**2*c - \\alpha**2*\\mu + 2*\\alpha**2*\\theta - 2*\\alpha*\\beta**2*\\mu**2*\\theta*c + \\alpha*\\beta**2*\\mu**2 - 2*\\alpha*\\beta**2*\\mu*\\theta - 4*\\alpha*\\beta*\\mu**2*\\theta*c + 2*\\alpha*\\beta*\\mu**2 - 4*\\alpha*\\beta*\\mu*\\theta - 2*\\alpha*\\mu**2*\\theta*c + \\alpha*\\mu**2 - 2*\\alpha*\\mu*\\theta + \\lambda**2*(2*\\alpha**3*\\mu*\\theta - 2*\\alpha**2*\\beta*\\mu**2*\\theta - 2*\\alpha**2*\\mu**2*\\theta) + \\lambda*(4*\\alpha**3*\\mu*\\theta*c - \\alpha**3*\\mu + 2*\\alpha**3*\\theta - 4*\\alpha**2*\\beta*\\mu**2*\\theta*c - \\alpha**2*\\beta*\\mu**2*c + \\alpha**2*\\beta*\\mu**2 - 4*\\alpha**2*\\mu**2*\\theta*c + \\alpha**2*\\mu**2 - 2*\\alpha*\\beta**2*\\mu**2*\\theta - 4*\\alpha*\\beta*\\mu**2*\\theta - 2*\\alpha*\\mu**2*\\theta)"
      ]
     },
     "execution_count": 66,
     "metadata": {},
     "output_type": "execute_result"
    }
   ],
   "source": [
    "expr = expr.expand().collect(λ)\n",
    "expr"
   ]
  },
  {
   "cell_type": "code",
   "execution_count": 67,
   "id": "944d5ff5-02bb-45d4-84c1-6a463f39c7a0",
   "metadata": {},
   "outputs": [],
   "source": [
    "bifurcation_curves = sym.solve(expr.subs(λ, 0).collect(c), c)"
   ]
  },
  {
   "cell_type": "code",
   "execution_count": 68,
   "id": "a2a1adf1-d682-4622-98df-142c5af0ddcc",
   "metadata": {},
   "outputs": [
    {
     "data": {
      "text/latex": [
       "$\\displaystyle \\frac{- \\alpha^{2} \\mu + 2 \\alpha^{2} \\theta + \\alpha \\beta \\mu^{2} - \\alpha \\beta \\mu + \\alpha \\mu^{2} - 2 \\beta^{2} \\mu^{2} \\theta - 4 \\beta \\mu^{2} \\theta - 2 \\mu^{2} \\theta - \\sqrt{\\alpha^{4} \\mu^{2} - 4 \\alpha^{4} \\mu \\theta + 4 \\alpha^{4} \\theta^{2} - 2 \\alpha^{3} \\beta \\mu^{3} + 12 \\alpha^{3} \\beta \\mu^{2} \\theta + 2 \\alpha^{3} \\beta \\mu^{2} - 16 \\alpha^{3} \\beta \\mu \\theta^{2} - 4 \\alpha^{3} \\beta \\mu \\theta - 2 \\alpha^{3} \\mu^{3} + 12 \\alpha^{3} \\mu^{2} \\theta - 16 \\alpha^{3} \\mu \\theta^{2} + \\alpha^{2} \\beta^{2} \\mu^{4} - 12 \\alpha^{2} \\beta^{2} \\mu^{3} \\theta - 6 \\alpha^{2} \\beta^{2} \\mu^{3} + 24 \\alpha^{2} \\beta^{2} \\mu^{2} \\theta^{2} + 8 \\alpha^{2} \\beta^{2} \\mu^{2} \\theta + \\alpha^{2} \\beta^{2} \\mu^{2} + 2 \\alpha^{2} \\beta \\mu^{4} - 24 \\alpha^{2} \\beta \\mu^{3} \\theta - 6 \\alpha^{2} \\beta \\mu^{3} + 48 \\alpha^{2} \\beta \\mu^{2} \\theta^{2} + 8 \\alpha^{2} \\beta \\mu^{2} \\theta + \\alpha^{2} \\mu^{4} - 12 \\alpha^{2} \\mu^{3} \\theta + 24 \\alpha^{2} \\mu^{2} \\theta^{2} + 4 \\alpha \\beta^{3} \\mu^{4} \\theta + 4 \\alpha \\beta^{3} \\mu^{4} - 16 \\alpha \\beta^{3} \\mu^{3} \\theta^{2} - 4 \\alpha \\beta^{3} \\mu^{3} \\theta + 12 \\alpha \\beta^{2} \\mu^{4} \\theta + 8 \\alpha \\beta^{2} \\mu^{4} - 48 \\alpha \\beta^{2} \\mu^{3} \\theta^{2} - 8 \\alpha \\beta^{2} \\mu^{3} \\theta + 12 \\alpha \\beta \\mu^{4} \\theta + 4 \\alpha \\beta \\mu^{4} - 48 \\alpha \\beta \\mu^{3} \\theta^{2} - 4 \\alpha \\beta \\mu^{3} \\theta + 4 \\alpha \\mu^{4} \\theta - 16 \\alpha \\mu^{3} \\theta^{2} + 4 \\beta^{4} \\mu^{4} \\theta^{2} + 16 \\beta^{3} \\mu^{4} \\theta^{2} + 24 \\beta^{2} \\mu^{4} \\theta^{2} + 16 \\beta \\mu^{4} \\theta^{2} + 4 \\mu^{4} \\theta^{2}}}{2 \\alpha \\mu \\left(- 2 \\alpha \\theta + 2 \\beta \\mu \\theta + \\beta \\mu + 2 \\mu \\theta\\right)}$"
      ],
      "text/plain": [
       "(-\\alpha**2*\\mu + 2*\\alpha**2*\\theta + \\alpha*\\beta*\\mu**2 - \\alpha*\\beta*\\mu + \\alpha*\\mu**2 - 2*\\beta**2*\\mu**2*\\theta - 4*\\beta*\\mu**2*\\theta - 2*\\mu**2*\\theta - sqrt(\\alpha**4*\\mu**2 - 4*\\alpha**4*\\mu*\\theta + 4*\\alpha**4*\\theta**2 - 2*\\alpha**3*\\beta*\\mu**3 + 12*\\alpha**3*\\beta*\\mu**2*\\theta + 2*\\alpha**3*\\beta*\\mu**2 - 16*\\alpha**3*\\beta*\\mu*\\theta**2 - 4*\\alpha**3*\\beta*\\mu*\\theta - 2*\\alpha**3*\\mu**3 + 12*\\alpha**3*\\mu**2*\\theta - 16*\\alpha**3*\\mu*\\theta**2 + \\alpha**2*\\beta**2*\\mu**4 - 12*\\alpha**2*\\beta**2*\\mu**3*\\theta - 6*\\alpha**2*\\beta**2*\\mu**3 + 24*\\alpha**2*\\beta**2*\\mu**2*\\theta**2 + 8*\\alpha**2*\\beta**2*\\mu**2*\\theta + \\alpha**2*\\beta**2*\\mu**2 + 2*\\alpha**2*\\beta*\\mu**4 - 24*\\alpha**2*\\beta*\\mu**3*\\theta - 6*\\alpha**2*\\beta*\\mu**3 + 48*\\alpha**2*\\beta*\\mu**2*\\theta**2 + 8*\\alpha**2*\\beta*\\mu**2*\\theta + \\alpha**2*\\mu**4 - 12*\\alpha**2*\\mu**3*\\theta + 24*\\alpha**2*\\mu**2*\\theta**2 + 4*\\alpha*\\beta**3*\\mu**4*\\theta + 4*\\alpha*\\beta**3*\\mu**4 - 16*\\alpha*\\beta**3*\\mu**3*\\theta**2 - 4*\\alpha*\\beta**3*\\mu**3*\\theta + 12*\\alpha*\\beta**2*\\mu**4*\\theta + 8*\\alpha*\\beta**2*\\mu**4 - 48*\\alpha*\\beta**2*\\mu**3*\\theta**2 - 8*\\alpha*\\beta**2*\\mu**3*\\theta + 12*\\alpha*\\beta*\\mu**4*\\theta + 4*\\alpha*\\beta*\\mu**4 - 48*\\alpha*\\beta*\\mu**3*\\theta**2 - 4*\\alpha*\\beta*\\mu**3*\\theta + 4*\\alpha*\\mu**4*\\theta - 16*\\alpha*\\mu**3*\\theta**2 + 4*\\beta**4*\\mu**4*\\theta**2 + 16*\\beta**3*\\mu**4*\\theta**2 + 24*\\beta**2*\\mu**4*\\theta**2 + 16*\\beta*\\mu**4*\\theta**2 + 4*\\mu**4*\\theta**2))/(2*\\alpha*\\mu*(-2*\\alpha*\\theta + 2*\\beta*\\mu*\\theta + \\beta*\\mu + 2*\\mu*\\theta))"
      ]
     },
     "metadata": {},
     "output_type": "display_data"
    },
    {
     "data": {
      "text/latex": [
       "$\\displaystyle \\frac{- \\alpha^{2} \\mu + 2 \\alpha^{2} \\theta + \\alpha \\beta \\mu^{2} - \\alpha \\beta \\mu + \\alpha \\mu^{2} - 2 \\beta^{2} \\mu^{2} \\theta - 4 \\beta \\mu^{2} \\theta - 2 \\mu^{2} \\theta + \\sqrt{\\alpha^{4} \\mu^{2} - 4 \\alpha^{4} \\mu \\theta + 4 \\alpha^{4} \\theta^{2} - 2 \\alpha^{3} \\beta \\mu^{3} + 12 \\alpha^{3} \\beta \\mu^{2} \\theta + 2 \\alpha^{3} \\beta \\mu^{2} - 16 \\alpha^{3} \\beta \\mu \\theta^{2} - 4 \\alpha^{3} \\beta \\mu \\theta - 2 \\alpha^{3} \\mu^{3} + 12 \\alpha^{3} \\mu^{2} \\theta - 16 \\alpha^{3} \\mu \\theta^{2} + \\alpha^{2} \\beta^{2} \\mu^{4} - 12 \\alpha^{2} \\beta^{2} \\mu^{3} \\theta - 6 \\alpha^{2} \\beta^{2} \\mu^{3} + 24 \\alpha^{2} \\beta^{2} \\mu^{2} \\theta^{2} + 8 \\alpha^{2} \\beta^{2} \\mu^{2} \\theta + \\alpha^{2} \\beta^{2} \\mu^{2} + 2 \\alpha^{2} \\beta \\mu^{4} - 24 \\alpha^{2} \\beta \\mu^{3} \\theta - 6 \\alpha^{2} \\beta \\mu^{3} + 48 \\alpha^{2} \\beta \\mu^{2} \\theta^{2} + 8 \\alpha^{2} \\beta \\mu^{2} \\theta + \\alpha^{2} \\mu^{4} - 12 \\alpha^{2} \\mu^{3} \\theta + 24 \\alpha^{2} \\mu^{2} \\theta^{2} + 4 \\alpha \\beta^{3} \\mu^{4} \\theta + 4 \\alpha \\beta^{3} \\mu^{4} - 16 \\alpha \\beta^{3} \\mu^{3} \\theta^{2} - 4 \\alpha \\beta^{3} \\mu^{3} \\theta + 12 \\alpha \\beta^{2} \\mu^{4} \\theta + 8 \\alpha \\beta^{2} \\mu^{4} - 48 \\alpha \\beta^{2} \\mu^{3} \\theta^{2} - 8 \\alpha \\beta^{2} \\mu^{3} \\theta + 12 \\alpha \\beta \\mu^{4} \\theta + 4 \\alpha \\beta \\mu^{4} - 48 \\alpha \\beta \\mu^{3} \\theta^{2} - 4 \\alpha \\beta \\mu^{3} \\theta + 4 \\alpha \\mu^{4} \\theta - 16 \\alpha \\mu^{3} \\theta^{2} + 4 \\beta^{4} \\mu^{4} \\theta^{2} + 16 \\beta^{3} \\mu^{4} \\theta^{2} + 24 \\beta^{2} \\mu^{4} \\theta^{2} + 16 \\beta \\mu^{4} \\theta^{2} + 4 \\mu^{4} \\theta^{2}}}{2 \\alpha \\mu \\left(- 2 \\alpha \\theta + 2 \\beta \\mu \\theta + \\beta \\mu + 2 \\mu \\theta\\right)}$"
      ],
      "text/plain": [
       "(-\\alpha**2*\\mu + 2*\\alpha**2*\\theta + \\alpha*\\beta*\\mu**2 - \\alpha*\\beta*\\mu + \\alpha*\\mu**2 - 2*\\beta**2*\\mu**2*\\theta - 4*\\beta*\\mu**2*\\theta - 2*\\mu**2*\\theta + sqrt(\\alpha**4*\\mu**2 - 4*\\alpha**4*\\mu*\\theta + 4*\\alpha**4*\\theta**2 - 2*\\alpha**3*\\beta*\\mu**3 + 12*\\alpha**3*\\beta*\\mu**2*\\theta + 2*\\alpha**3*\\beta*\\mu**2 - 16*\\alpha**3*\\beta*\\mu*\\theta**2 - 4*\\alpha**3*\\beta*\\mu*\\theta - 2*\\alpha**3*\\mu**3 + 12*\\alpha**3*\\mu**2*\\theta - 16*\\alpha**3*\\mu*\\theta**2 + \\alpha**2*\\beta**2*\\mu**4 - 12*\\alpha**2*\\beta**2*\\mu**3*\\theta - 6*\\alpha**2*\\beta**2*\\mu**3 + 24*\\alpha**2*\\beta**2*\\mu**2*\\theta**2 + 8*\\alpha**2*\\beta**2*\\mu**2*\\theta + \\alpha**2*\\beta**2*\\mu**2 + 2*\\alpha**2*\\beta*\\mu**4 - 24*\\alpha**2*\\beta*\\mu**3*\\theta - 6*\\alpha**2*\\beta*\\mu**3 + 48*\\alpha**2*\\beta*\\mu**2*\\theta**2 + 8*\\alpha**2*\\beta*\\mu**2*\\theta + \\alpha**2*\\mu**4 - 12*\\alpha**2*\\mu**3*\\theta + 24*\\alpha**2*\\mu**2*\\theta**2 + 4*\\alpha*\\beta**3*\\mu**4*\\theta + 4*\\alpha*\\beta**3*\\mu**4 - 16*\\alpha*\\beta**3*\\mu**3*\\theta**2 - 4*\\alpha*\\beta**3*\\mu**3*\\theta + 12*\\alpha*\\beta**2*\\mu**4*\\theta + 8*\\alpha*\\beta**2*\\mu**4 - 48*\\alpha*\\beta**2*\\mu**3*\\theta**2 - 8*\\alpha*\\beta**2*\\mu**3*\\theta + 12*\\alpha*\\beta*\\mu**4*\\theta + 4*\\alpha*\\beta*\\mu**4 - 48*\\alpha*\\beta*\\mu**3*\\theta**2 - 4*\\alpha*\\beta*\\mu**3*\\theta + 4*\\alpha*\\mu**4*\\theta - 16*\\alpha*\\mu**3*\\theta**2 + 4*\\beta**4*\\mu**4*\\theta**2 + 16*\\beta**3*\\mu**4*\\theta**2 + 24*\\beta**2*\\mu**4*\\theta**2 + 16*\\beta*\\mu**4*\\theta**2 + 4*\\mu**4*\\theta**2))/(2*\\alpha*\\mu*(-2*\\alpha*\\theta + 2*\\beta*\\mu*\\theta + \\beta*\\mu + 2*\\mu*\\theta))"
      ]
     },
     "metadata": {},
     "output_type": "display_data"
    }
   ],
   "source": [
    "for curve in bifurcation_curves:\n",
    "    display(curve)"
   ]
  },
  {
   "cell_type": "code",
   "execution_count": 69,
   "id": "d48c18b3-3862-40d4-8715-187838b428e4",
   "metadata": {},
   "outputs": [],
   "source": [
    "alphas = np.linspace(0, 10)\n",
    "subs_dict = {\n",
    "    θ: 0.1,\n",
    "    μ: 1,\n",
    "    β: 0.2}\n"
   ]
  },
  {
   "cell_type": "code",
   "execution_count": 70,
   "id": "8f888b2a-e043-4f49-8c42-1bf8963d421d",
   "metadata": {},
   "outputs": [
    {
     "name": "stderr",
     "output_type": "stream",
     "text": [
      "<string>:2: RuntimeWarning: divide by zero encountered in true_divide\n",
      "<string>:2: RuntimeWarning: divide by zero encountered in true_divide\n"
     ]
    },
    {
     "data": {
      "text/plain": [
       "(-2, 4)"
      ]
     },
     "execution_count": 70,
     "metadata": {},
     "output_type": "execute_result"
    },
    {
     "data": {
      "image/png": "[encoded data removed]",
      "text/plain": [
       "<Figure size 432x288 with 1 Axes>"
      ]
     },
     "metadata": {
      "needs_background": "light"
     },
     "output_type": "display_data"
    }
   ],
   "source": [
    "for sym_curve in bifurcation_curves:\n",
    "    foo = sym.lambdify(α, sym_curve.subs(subs_dict))\n",
    "    plt.plot(alphas, foo(alphas))\n",
    "    \n",
    "plt.ylim(-2, 4)"
   ]
  },
  {
   "cell_type": "code",
   "execution_count": 71,
   "id": "fd933538-d4d1-42b0-9831-e899c9d10812",
   "metadata": {},
   "outputs": [
    {
     "data": {
      "text/latex": [
       "$\\displaystyle \\frac{- \\alpha^{2} \\mu + 2 \\alpha^{2} \\theta + \\alpha \\beta \\mu^{2} - \\alpha \\beta \\mu + \\alpha \\mu^{2} - 2 \\beta^{2} \\mu^{2} \\theta - 4 \\beta \\mu^{2} \\theta - 2 \\mu^{2} \\theta + \\sqrt{\\alpha^{4} \\mu^{2} - 4 \\alpha^{4} \\mu \\theta + 4 \\alpha^{4} \\theta^{2} - 2 \\alpha^{3} \\beta \\mu^{3} + 12 \\alpha^{3} \\beta \\mu^{2} \\theta + 2 \\alpha^{3} \\beta \\mu^{2} - 16 \\alpha^{3} \\beta \\mu \\theta^{2} - 4 \\alpha^{3} \\beta \\mu \\theta - 2 \\alpha^{3} \\mu^{3} + 12 \\alpha^{3} \\mu^{2} \\theta - 16 \\alpha^{3} \\mu \\theta^{2} + \\alpha^{2} \\beta^{2} \\mu^{4} - 12 \\alpha^{2} \\beta^{2} \\mu^{3} \\theta - 6 \\alpha^{2} \\beta^{2} \\mu^{3} + 24 \\alpha^{2} \\beta^{2} \\mu^{2} \\theta^{2} + 8 \\alpha^{2} \\beta^{2} \\mu^{2} \\theta + \\alpha^{2} \\beta^{2} \\mu^{2} + 2 \\alpha^{2} \\beta \\mu^{4} - 24 \\alpha^{2} \\beta \\mu^{3} \\theta - 6 \\alpha^{2} \\beta \\mu^{3} + 48 \\alpha^{2} \\beta \\mu^{2} \\theta^{2} + 8 \\alpha^{2} \\beta \\mu^{2} \\theta + \\alpha^{2} \\mu^{4} - 12 \\alpha^{2} \\mu^{3} \\theta + 24 \\alpha^{2} \\mu^{2} \\theta^{2} + 4 \\alpha \\beta^{3} \\mu^{4} \\theta + 4 \\alpha \\beta^{3} \\mu^{4} - 16 \\alpha \\beta^{3} \\mu^{3} \\theta^{2} - 4 \\alpha \\beta^{3} \\mu^{3} \\theta + 12 \\alpha \\beta^{2} \\mu^{4} \\theta + 8 \\alpha \\beta^{2} \\mu^{4} - 48 \\alpha \\beta^{2} \\mu^{3} \\theta^{2} - 8 \\alpha \\beta^{2} \\mu^{3} \\theta + 12 \\alpha \\beta \\mu^{4} \\theta + 4 \\alpha \\beta \\mu^{4} - 48 \\alpha \\beta \\mu^{3} \\theta^{2} - 4 \\alpha \\beta \\mu^{3} \\theta + 4 \\alpha \\mu^{4} \\theta - 16 \\alpha \\mu^{3} \\theta^{2} + 4 \\beta^{4} \\mu^{4} \\theta^{2} + 16 \\beta^{3} \\mu^{4} \\theta^{2} + 24 \\beta^{2} \\mu^{4} \\theta^{2} + 16 \\beta \\mu^{4} \\theta^{2} + 4 \\mu^{4} \\theta^{2}}}{2 \\alpha \\mu \\left(- 2 \\alpha \\theta + 2 \\beta \\mu \\theta + \\beta \\mu + 2 \\mu \\theta\\right)}$"
      ],
      "text/plain": [
       "(-\\alpha**2*\\mu + 2*\\alpha**2*\\theta + \\alpha*\\beta*\\mu**2 - \\alpha*\\beta*\\mu + \\alpha*\\mu**2 - 2*\\beta**2*\\mu**2*\\theta - 4*\\beta*\\mu**2*\\theta - 2*\\mu**2*\\theta + sqrt(\\alpha**4*\\mu**2 - 4*\\alpha**4*\\mu*\\theta + 4*\\alpha**4*\\theta**2 - 2*\\alpha**3*\\beta*\\mu**3 + 12*\\alpha**3*\\beta*\\mu**2*\\theta + 2*\\alpha**3*\\beta*\\mu**2 - 16*\\alpha**3*\\beta*\\mu*\\theta**2 - 4*\\alpha**3*\\beta*\\mu*\\theta - 2*\\alpha**3*\\mu**3 + 12*\\alpha**3*\\mu**2*\\theta - 16*\\alpha**3*\\mu*\\theta**2 + \\alpha**2*\\beta**2*\\mu**4 - 12*\\alpha**2*\\beta**2*\\mu**3*\\theta - 6*\\alpha**2*\\beta**2*\\mu**3 + 24*\\alpha**2*\\beta**2*\\mu**2*\\theta**2 + 8*\\alpha**2*\\beta**2*\\mu**2*\\theta + \\alpha**2*\\beta**2*\\mu**2 + 2*\\alpha**2*\\beta*\\mu**4 - 24*\\alpha**2*\\beta*\\mu**3*\\theta - 6*\\alpha**2*\\beta*\\mu**3 + 48*\\alpha**2*\\beta*\\mu**2*\\theta**2 + 8*\\alpha**2*\\beta*\\mu**2*\\theta + \\alpha**2*\\mu**4 - 12*\\alpha**2*\\mu**3*\\theta + 24*\\alpha**2*\\mu**2*\\theta**2 + 4*\\alpha*\\beta**3*\\mu**4*\\theta + 4*\\alpha*\\beta**3*\\mu**4 - 16*\\alpha*\\beta**3*\\mu**3*\\theta**2 - 4*\\alpha*\\beta**3*\\mu**3*\\theta + 12*\\alpha*\\beta**2*\\mu**4*\\theta + 8*\\alpha*\\beta**2*\\mu**4 - 48*\\alpha*\\beta**2*\\mu**3*\\theta**2 - 8*\\alpha*\\beta**2*\\mu**3*\\theta + 12*\\alpha*\\beta*\\mu**4*\\theta + 4*\\alpha*\\beta*\\mu**4 - 48*\\alpha*\\beta*\\mu**3*\\theta**2 - 4*\\alpha*\\beta*\\mu**3*\\theta + 4*\\alpha*\\mu**4*\\theta - 16*\\alpha*\\mu**3*\\theta**2 + 4*\\beta**4*\\mu**4*\\theta**2 + 16*\\beta**3*\\mu**4*\\theta**2 + 24*\\beta**2*\\mu**4*\\theta**2 + 16*\\beta*\\mu**4*\\theta**2 + 4*\\mu**4*\\theta**2))/(2*\\alpha*\\mu*(-2*\\alpha*\\theta + 2*\\beta*\\mu*\\theta + \\beta*\\mu + 2*\\mu*\\theta))"
      ]
     },
     "execution_count": 71,
     "metadata": {},
     "output_type": "execute_result"
    }
   ],
   "source": [
    "curve"
   ]
  },
  {
   "cell_type": "code",
   "execution_count": null,
   "id": "424c753e-047a-436b-ae5c-c437c644c93a",
   "metadata": {},
   "outputs": [],
   "source": []
  },
  {
   "cell_type": "code",
   "execution_count": null,
   "id": "7eca3c96-5918-4e64-abfd-0a92704aa7aa",
   "metadata": {},
   "outputs": [],
   "source": []
  },
  {
   "cell_type": "code",
   "execution_count": null,
   "id": "1b6b4800-53ed-45fd-8a9e-40240513bc00",
   "metadata": {},
   "outputs": [],
   "source": []
  },
  {
   "cell_type": "code",
   "execution_count": null,
   "id": "2c59171b-6402-4929-b6ee-25e2567e4664",
   "metadata": {},
   "outputs": [],
   "source": []
  },
  {
   "cell_type": "code",
   "execution_count": 72,
   "id": "8c9be2ba-d8f9-4fc1-8cbf-c7e65da4e234",
   "metadata": {},
   "outputs": [],
   "source": [
    "expr = 2*c*θ*α*(s+1)*(1-r**2)*(s-r) - β*(1-r)*(s-r) - α*(1-r**2)*(s-r) - 2*β*(s+1)"
   ]
  },
  {
   "cell_type": "code",
   "execution_count": 75,
   "id": "83faa8b4-173d-469a-9cef-46593f326ecb",
   "metadata": {},
   "outputs": [],
   "source": [
    "expr *= α**2*μ**2*c**3"
   ]
  },
  {
   "cell_type": "code",
   "execution_count": 77,
   "id": "d64b793b-7939-4347-8f62-86838a396623",
   "metadata": {},
   "outputs": [
    {
     "data": {
      "text/latex": [
       "$\\displaystyle - 2 \\alpha^{3} \\mu \\theta c^{3} + \\alpha^{3} \\mu c^{2} + 2 \\alpha^{3} \\theta c^{2} + 2 \\alpha^{2} \\beta \\mu^{2} \\theta c^{3} - 2 \\alpha^{2} \\beta \\mu^{2} c^{3} - \\alpha^{2} \\beta \\mu^{2} c^{2} - 2 \\alpha^{2} \\beta \\mu \\theta c^{2} + 3 \\alpha^{2} \\beta \\mu c^{2} + 2 \\alpha^{2} \\mu^{2} \\theta c^{3} - \\alpha^{2} \\mu^{2} c^{2} - 2 \\alpha^{2} \\mu \\theta c^{2} - \\alpha \\beta^{2} \\mu^{2} c^{2} + 2 \\alpha \\beta^{2} \\mu \\theta c + \\alpha \\beta^{2} \\mu c - \\alpha \\beta^{2} \\mu - 2 \\alpha \\beta^{2} \\theta - \\alpha \\beta \\mu^{2} c^{2} + 4 \\alpha \\beta \\mu \\theta c + \\alpha \\beta \\mu c - 2 \\alpha \\beta \\mu - 4 \\alpha \\beta \\theta + 2 \\alpha \\mu \\theta c - \\alpha \\mu - 2 \\alpha \\theta - 2 \\beta^{3} \\mu^{2} \\theta c - \\beta^{3} \\mu^{2} c + \\beta^{3} \\mu^{2} + 2 \\beta^{3} \\mu \\theta - 6 \\beta^{2} \\mu^{2} \\theta c - 2 \\beta^{2} \\mu^{2} c + 3 \\beta^{2} \\mu^{2} + 6 \\beta^{2} \\mu \\theta - 6 \\beta \\mu^{2} \\theta c - \\beta \\mu^{2} c + 3 \\beta \\mu^{2} + 6 \\beta \\mu \\theta + \\lambda^{3} \\left(- 2 \\alpha^{3} \\mu \\theta + 2 \\alpha^{2} \\beta \\mu^{2} \\theta + 2 \\alpha^{2} \\mu^{2} \\theta\\right) + \\lambda^{2} \\left(2 \\alpha^{3} \\mu \\theta c - \\alpha^{3} \\mu - 2 \\alpha^{3} \\theta - 2 \\alpha^{2} \\beta \\mu^{2} \\theta c + \\alpha^{2} \\beta \\mu^{2} - 2 \\alpha^{2} \\beta \\mu \\theta - 2 \\alpha^{2} \\mu^{2} \\theta c + \\alpha^{2} \\mu^{2} - 2 \\alpha^{2} \\mu \\theta + 4 \\alpha \\beta^{2} \\mu^{2} \\theta + 8 \\alpha \\beta \\mu^{2} \\theta + 4 \\alpha \\mu^{2} \\theta\\right) + \\lambda \\left(2 \\alpha^{3} \\mu \\theta c^{2} - 2 \\alpha^{2} \\beta \\mu^{2} \\theta c^{2} + 2 \\alpha^{2} \\beta \\mu^{2} c^{2} + 4 \\alpha^{2} \\beta \\mu \\theta c + \\alpha^{2} \\beta \\mu c - 2 \\alpha^{2} \\beta \\mu - 4 \\alpha^{2} \\beta \\theta - 2 \\alpha^{2} \\mu^{2} \\theta c^{2} + 4 \\alpha^{2} \\mu \\theta c - 2 \\alpha^{2} \\mu - 4 \\alpha^{2} \\theta - 4 \\alpha \\beta^{2} \\mu^{2} \\theta c - \\alpha \\beta^{2} \\mu^{2} c + 2 \\alpha \\beta^{2} \\mu^{2} + 2 \\alpha \\beta^{2} \\mu \\theta - 8 \\alpha \\beta \\mu^{2} \\theta c - \\alpha \\beta \\mu^{2} c + 4 \\alpha \\beta \\mu^{2} + 4 \\alpha \\beta \\mu \\theta - 4 \\alpha \\mu^{2} \\theta c + 2 \\alpha \\mu^{2} + 2 \\alpha \\mu \\theta + 2 \\beta^{3} \\mu^{2} \\theta + 6 \\beta^{2} \\mu^{2} \\theta + 6 \\beta \\mu^{2} \\theta + 2 \\mu^{2} \\theta\\right) - 2 \\mu^{2} \\theta c + \\mu^{2} + 2 \\mu \\theta$"
      ],
      "text/plain": [
       "-2*\\alpha**3*\\mu*\\theta*c**3 + \\alpha**3*\\mu*c**2 + 2*\\alpha**3*\\theta*c**2 + 2*\\alpha**2*\\beta*\\mu**2*\\theta*c**3 - 2*\\alpha**2*\\beta*\\mu**2*c**3 - \\alpha**2*\\beta*\\mu**2*c**2 - 2*\\alpha**2*\\beta*\\mu*\\theta*c**2 + 3*\\alpha**2*\\beta*\\mu*c**2 + 2*\\alpha**2*\\mu**2*\\theta*c**3 - \\alpha**2*\\mu**2*c**2 - 2*\\alpha**2*\\mu*\\theta*c**2 - \\alpha*\\beta**2*\\mu**2*c**2 + 2*\\alpha*\\beta**2*\\mu*\\theta*c + \\alpha*\\beta**2*\\mu*c - \\alpha*\\beta**2*\\mu - 2*\\alpha*\\beta**2*\\theta - \\alpha*\\beta*\\mu**2*c**2 + 4*\\alpha*\\beta*\\mu*\\theta*c + \\alpha*\\beta*\\mu*c - 2*\\alpha*\\beta*\\mu - 4*\\alpha*\\beta*\\theta + 2*\\alpha*\\mu*\\theta*c - \\alpha*\\mu - 2*\\alpha*\\theta - 2*\\beta**3*\\mu**2*\\theta*c - \\beta**3*\\mu**2*c + \\beta**3*\\mu**2 + 2*\\beta**3*\\mu*\\theta - 6*\\beta**2*\\mu**2*\\theta*c - 2*\\beta**2*\\mu**2*c + 3*\\beta**2*\\mu**2 + 6*\\beta**2*\\mu*\\theta - 6*\\beta*\\mu**2*\\theta*c - \\beta*\\mu**2*c + 3*\\beta*\\mu**2 + 6*\\beta*\\mu*\\theta + \\lambda**3*(-2*\\alpha**3*\\mu*\\theta + 2*\\alpha**2*\\beta*\\mu**2*\\theta + 2*\\alpha**2*\\mu**2*\\theta) + \\lambda**2*(2*\\alpha**3*\\mu*\\theta*c - \\alpha**3*\\mu - 2*\\alpha**3*\\theta - 2*\\alpha**2*\\beta*\\mu**2*\\theta*c + \\alpha**2*\\beta*\\mu**2 - 2*\\alpha**2*\\beta*\\mu*\\theta - 2*\\alpha**2*\\mu**2*\\theta*c + \\alpha**2*\\mu**2 - 2*\\alpha**2*\\mu*\\theta + 4*\\alpha*\\beta**2*\\mu**2*\\theta + 8*\\alpha*\\beta*\\mu**2*\\theta + 4*\\alpha*\\mu**2*\\theta) + \\lambda*(2*\\alpha**3*\\mu*\\theta*c**2 - 2*\\alpha**2*\\beta*\\mu**2*\\theta*c**2 + 2*\\alpha**2*\\beta*\\mu**2*c**2 + 4*\\alpha**2*\\beta*\\mu*\\theta*c + \\alpha**2*\\beta*\\mu*c - 2*\\alpha**2*\\beta*\\mu - 4*\\alpha**2*\\beta*\\theta - 2*\\alpha**2*\\mu**2*\\theta*c**2 + 4*\\alpha**2*\\mu*\\theta*c - 2*\\alpha**2*\\mu - 4*\\alpha**2*\\theta - 4*\\alpha*\\beta**2*\\mu**2*\\theta*c - \\alpha*\\beta**2*\\mu**2*c + 2*\\alpha*\\beta**2*\\mu**2 + 2*\\alpha*\\beta**2*\\mu*\\theta - 8*\\alpha*\\beta*\\mu**2*\\theta*c - \\alpha*\\beta*\\mu**2*c + 4*\\alpha*\\beta*\\mu**2 + 4*\\alpha*\\beta*\\mu*\\theta - 4*\\alpha*\\mu**2*\\theta*c + 2*\\alpha*\\mu**2 + 2*\\alpha*\\mu*\\theta + 2*\\beta**3*\\mu**2*\\theta + 6*\\beta**2*\\mu**2*\\theta + 6*\\beta*\\mu**2*\\theta + 2*\\mu**2*\\theta) - 2*\\mu**2*\\theta*c + \\mu**2 + 2*\\mu*\\theta"
      ]
     },
     "execution_count": 77,
     "metadata": {},
     "output_type": "execute_result"
    }
   ],
   "source": [
    "expr.expand().collect(λ)"
   ]
  },
  {
   "cell_type": "code",
   "execution_count": null,
   "id": "3d7df13f-c9e6-47dc-a728-04a8af6e93a6",
   "metadata": {},
   "outputs": [],
   "source": []
  }
 ],
 "metadata": {
  "kernelspec": {
   "display_name": "Python 3",
   "language": "python",
   "name": "python3"
  },
  "language_info": {
   "codemirror_mode": {
    "name": "ipython",
    "version": 3
   },
   "file_extension": ".py",
   "mimetype": "text/x-python",
   "name": "python",
   "nbconvert_exporter": "python",
   "pygments_lexer": "ipython3",
   "version": "3.6.9"
  }
 },
 "nbformat": 4,
 "nbformat_minor": 5
}

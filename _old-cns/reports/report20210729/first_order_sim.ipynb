{
 "cells": [
  {
   "cell_type": "code",
   "execution_count": 1,
   "metadata": {},
   "outputs": [],
   "source": [
    "%matplotlib inline\n",
    "import matplotlib.pyplot as plt\n",
    "import matplotlib.animation as animation\n",
    "from IPython.display import HTML\n",
    "\n",
    "import numpy as np\n",
    "import numpy.linalg as la\n",
    "\n",
    "import pickle\n",
    "\n",
    "# from functools import partial\n",
    "# from itertools import product\n",
    "# from math import ceil\n",
    "# import warnings"
   ]
  },
  {
   "cell_type": "code",
   "execution_count": null,
   "metadata": {},
   "outputs": [],
   "source": [
    "def find_cusps(zs, h, d2_max):\n",
    "    d2z = (zs[:-2] - 2*zs[1:-1] + zs[2:])/h**2\n",
    "    cusp_indices = [int(i)+1 for i in np.where(np.abs(d2z)>d2_max)[0]]\n",
    "    if cusp_indices == []:\n",
    "        return []\n",
    "    else:\n",
    "        return merge_cusps(cusp_indices)\n",
    "    \n",
    "def merge_cusps(index_list):\n",
    "    ret_list = [index_list[0]]\n",
    "    for index in index_list[1:]:\n",
    "        if index-1 == ret_list[-1]:\n",
    "            ret_list[-1] = (ret_list[-1], index)\n",
    "        else:\n",
    "            ret_list.append(index)\n",
    "    return ret_list\n",
    "\n",
    "def cusp_loc(index, xs):\n",
    "    if type(index) is int:\n",
    "        return xs[index]\n",
    "    else:\n",
    "        return sum(xs[i] for i in index)/2\n",
    "    \n"
   ]
  }
 ],
 "metadata": {
  "kernelspec": {
   "display_name": "Python 3",
   "language": "python",
   "name": "python3"
  },
  "language_info": {
   "codemirror_mode": {
    "name": "ipython",
    "version": 3
   },
   "file_extension": ".py",
   "mimetype": "text/x-python",
   "name": "python",
   "nbconvert_exporter": "python",
   "pygments_lexer": "ipython3",
   "version": "3.6.9"
  }
 },
 "nbformat": 4,
 "nbformat_minor": 4
}

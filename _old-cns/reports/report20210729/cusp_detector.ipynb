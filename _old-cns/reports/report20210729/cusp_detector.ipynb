{
 "cells": [
  {
   "cell_type": "code",
   "execution_count": 1,
   "metadata": {},
   "outputs": [],
   "source": [
    "%matplotlib inline\n",
    "import matplotlib.pyplot as plt\n",
    "import matplotlib.animation as animation\n",
    "from IPython.display import HTML\n",
    "\n",
    "import numpy as np\n",
    "import numpy.linalg as la\n",
    "\n",
    "import pickle\n",
    "\n",
    "# from functools import partial\n",
    "# from itertools import product\n",
    "from math import ceil\n",
    "# import warnings"
   ]
  },
  {
   "cell_type": "code",
   "execution_count": 2,
   "metadata": {},
   "outputs": [],
   "source": [
    "def find_cusps(zs, h, d2_max):\n",
    "    d2z = (zs[:-2] - 2*zs[1:-1] + zs[2:])/h**2\n",
    "    cusp_indices = [int(i)+1 for i in np.where(np.abs(d2z)>d2_max)[0]]\n",
    "    if cusp_indices == []:\n",
    "        return []\n",
    "    else:\n",
    "        return merge_cusps(cusp_indices)\n",
    "    \n",
    "def merge_cusps(index_list):\n",
    "    ret_list = [index_list[0]]\n",
    "    for index in index_list[1:]:\n",
    "        if index-1 == ret_list[-1]:\n",
    "            ret_list[-1] = (ret_list[-1], index)\n",
    "        else:\n",
    "            ret_list.append(index)\n",
    "    return ret_list\n",
    "\n",
    "def cusp_loc(index, xs):\n",
    "    if type(index) is int:\n",
    "        return xs[index]\n",
    "    else:\n",
    "        return sum(xs[i] for i in index)/2\n",
    "    \n",
    "def cusp_maker(f,g, c=0):\n",
    "    return lambda xs: np.heaviside(c-xs, .5)*(f(xs) - f(c)) + np.heaviside(xs-c, .5)*(g(xs) - g(c))"
   ]
  },
  {
   "cell_type": "code",
   "execution_count": 3,
   "metadata": {},
   "outputs": [
    {
     "name": "stdout",
     "output_type": "stream",
     "text": [
      "0.3999999999999737\n"
     ]
    }
   ],
   "source": [
    "f = lambda x: np.cos(x)\n",
    "g = lambda x: 2*np.sin(2*x)\n",
    "\n",
    "a, b = -5, 5\n",
    "n = 801\n",
    "errors = []\n",
    "for c in np.linspace(-1, 1, 101):\n",
    "    #c = .69757\n",
    "    xs = np.linspace(a, b, n)\n",
    "    h = (b-a)/(n-1)\n",
    "    zs = cusp_maker(f,g,c)(xs)\n",
    "\n",
    "    d2_max = 20\n",
    "\n",
    "    cusp_indices = find_cusps(zs, h, d2_max)\n",
    "    errors += [ (cusp_loc(index, xs)-c)/h for index in cusp_indices] \n",
    "print(max(abs(e) for e in errors))"
   ]
  },
  {
   "cell_type": "code",
   "execution_count": 4,
   "metadata": {},
   "outputs": [],
   "source": [
    "a, b = -5, 10\n",
    "n = 1601\n",
    "\n",
    "cs = [-3, 1, 7]\n",
    "max_d2 = 25\n",
    "\n",
    "foos = [\n",
    "    lambda x: np.sin(4*x),\n",
    "    lambda x: np.cos(3*x),\n",
    "    lambda x: np.sin(3*x) - np.cos(2*x),\n",
    "    lambda x: np.cos(x)*np.sin(x)\n",
    "]\n",
    "\n",
    "foo = foos[0]\n",
    "for f, c in zip(foos[1:], cs):\n",
    "    foo = cusp_maker(foo, f, c)\n",
    "    \n",
    "xs = np.linspace(a, b, n)\n",
    "h = (b-a)/(n-1)\n",
    "\n",
    "zs = foo(xs)\n",
    "cusp_indices = find_cusps(zs, h, max_d2)"
   ]
  },
  {
   "cell_type": "code",
   "execution_count": 5,
   "metadata": {},
   "outputs": [
    {
     "data": {
      "text/plain": [
       "[<matplotlib.lines.Line2D at 0x7fcf302526d8>]"
      ]
     },
     "execution_count": 5,
     "metadata": {},
     "output_type": "execute_result"
    },
    {
     "data": {
      "image/png": "[encoded data removed]",
      "text/plain": [
       "<Figure size 432x288 with 1 Axes>"
      ]
     },
     "metadata": {
      "needs_background": "light"
     },
     "output_type": "display_data"
    }
   ],
   "source": [
    "plt.plot(xs, zs)\n",
    "plt.plot([cusp_loc(index, xs) for index in cusp_indices], [0]*len(cusp_indices), 'go')"
   ]
  },
  {
   "cell_type": "code",
   "execution_count": null,
   "metadata": {},
   "outputs": [],
   "source": []
  }
 ],
 "metadata": {
  "kernelspec": {
   "display_name": "Python 3",
   "language": "python",
   "name": "python3"
  },
  "language_info": {
   "codemirror_mode": {
    "name": "ipython",
    "version": 3
   },
   "file_extension": ".py",
   "mimetype": "text/x-python",
   "name": "python",
   "nbconvert_exporter": "python",
   "pygments_lexer": "ipython3",
   "version": "3.6.9"
  }
 },
 "nbformat": 4,
 "nbformat_minor": 4
}

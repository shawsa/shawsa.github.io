{
 "cells": [
  {
   "cell_type": "code",
   "execution_count": 5,
   "id": "ba8c2884",
   "metadata": {},
   "outputs": [],
   "source": [
    "from functools import partial, reduce\n",
    "from itertools import accumulate, repeat, chain, takewhile, tee, islice\n",
    "import more_itertools"
   ]
  },
  {
   "cell_type": "code",
   "execution_count": 6,
   "id": "9306accb",
   "metadata": {},
   "outputs": [],
   "source": [
    "def take(n):\n",
    "    return lambda iterable: islice(iterable, 0, n)\n",
    "\n",
    "def head(iterable, n=10):\n",
    "    return list(take(n)(iterable))\n",
    "    \n",
    "last = more_itertools.last\n",
    "        \n",
    "def pipeline(*func_list):\n",
    "    def compose_two(f, g):\n",
    "        return lambda x: g(f(x))\n",
    "    return reduce(compose_two, func_list)\n",
    "\n",
    "def pipeline_eval(x, *func_list):\n",
    "    def apply(x, f):\n",
    "        return f(x)\n",
    "    return reduce(apply, func_list, x)\n",
    "\n",
    "# def filter_printer(iterable):\n",
    "#     for element in iterable:\n",
    "#         print(element)\n",
    "#         yield element\n",
    "        \n",
    "def print_and_return(x):\n",
    "    print(x)\n",
    "    return x\n",
    "\n",
    "filter_printer = partial(map, print_and_return)"
   ]
  },
  {
   "cell_type": "code",
   "execution_count": 7,
   "id": "3c52f8e2",
   "metadata": {},
   "outputs": [],
   "source": [
    "def iterate_seq(x0, update):\n",
    "    x = x0\n",
    "    yield x\n",
    "    while True:\n",
    "        x = update(x)\n",
    "        yield x\n",
    "\n",
    "def iterate_seq(x0, update):\n",
    "    apply = lambda x, f: f(x)\n",
    "    return accumulate(chain((x0,), \n",
    "                            repeat(update)),\n",
    "                      apply)\n",
    "\n",
    "# def newton_sequence(x0, f, df):\n",
    "#     x = x0\n",
    "#     while True:\n",
    "#         yield x\n",
    "#         x -= f(x)/df(x)\n",
    "\n",
    "def newton_sequence(x0, f, df):\n",
    "    def newton_improve(x):\n",
    "        return x - f(x)/df(x)\n",
    "    return iterate_seq(x0, newton_improve)\n",
    "\n",
    "# def filter_cauchy_tol(difference_function = lambda x1, x2: abs(x1 - x2), tol=1e-10):\n",
    "#     def my_filter(iterable):\n",
    "#         x1 = next(iterable)\n",
    "#         yield x1\n",
    "#         x2 = next(iterable)\n",
    "#         while( difference_function(x1, x2) > tol ):\n",
    "#             x1, x2 = x2, next(iterable)\n",
    "#             yield x2\n",
    "#     return my_filter\n",
    "\n",
    "# def filter_cauchy_tol(difference_function = lambda x1, x2: abs(x1 - x2), tol=1e-10):\n",
    "#     predicate = lambda tup: difference_function(*tup) > tol\n",
    "#     def my_filter(iterable):\n",
    "#         copy1, copy2 = tee(iterable)\n",
    "#         x0 = next(copy2)\n",
    "#         filtered_pairs = takewhile(predicate, zip(copy1, copy2))\n",
    "#         filtered_vals = map(lambda tup: tup[1], filtered_pairs)\n",
    "#         return chain((x0,), filtered_vals)\n",
    "#     return my_filter\n",
    "\n",
    "def collect_pairs(iterable):\n",
    "    pair = tuple(islice(iterable, 0, 2))\n",
    "    def next_pair(pair, next_element):\n",
    "        return (pair[1], next_element)\n",
    "    my_iterable = chain((pair,), iterable)\n",
    "    yield from accumulate(my_iterable, next_pair)\n",
    "    \n",
    "def pairs_to_element(iterable):\n",
    "    first_pair = next(iterable)\n",
    "    yield from first_pair\n",
    "    select_2nd = lambda tup: tup[1]\n",
    "    yield from map(select_2nd, iterable)\n",
    "    \n",
    "def prepend_first(mapping, iterable):\n",
    "    first = next(iterable)\n",
    "    yield first\n",
    "    yield from mapping(chain((first,), iterable))\n",
    "\n",
    "def filter_cauchy_tol(difference_function = lambda x1, x2: abs(x1 - x2), tol=1e-10):\n",
    "    predicate = lambda tup: difference_function(*tup) > tol\n",
    "    my_filter = pipeline(collect_pairs, \n",
    "                         partial(takewhile, predicate),\n",
    "                         pairs_to_element)\n",
    "    return my_filter\n",
    "    \n",
    "def filter_f_tol(f, tol=1e-10):\n",
    "    def my_filter(iterable):\n",
    "        x = next(iterable)\n",
    "        yield x\n",
    "        while f(x) > tol:\n",
    "            x = next(iterable)\n",
    "            yield x\n",
    "    return my_filter\n",
    "\n",
    "def filter_f_tol(f, tol=1e-10):\n",
    "    predicate = lambda x: abs(f(x)) > tol\n",
    "    return partial(takewhile, predicate)\n",
    "        \n",
    "# def filter_max_iter(max_iter=10**3):\n",
    "#     def my_filter(iterable):\n",
    "#         for _, element in zip(range(max_iter), iterable):\n",
    "#             yield element\n",
    "#     return my_filter\n",
    "\n",
    "# def filter_max_iter(max_iter=10**3):\n",
    "#     def my_filter(iterable):\n",
    "#         take_first = lambda tup: tup[0]\n",
    "#         return map(take_first, zip(iterable, range(max_iter)))\n",
    "#     return my_filter\n",
    "\n",
    "# def take_10(iterable):\n",
    "#     for _ in range(10):\n",
    "#         yield next(iterable)\n",
    "        \n",
    "# def take_n(iterable, n=10):\n",
    "#     for _ in range(n):\n",
    "#         yield next(iterable)\n",
    "\n",
    "# def filter_max_iter(max_iter=10**3):\n",
    "#     def my_filter(iterable):\n",
    "#         for _ in range(max_iter):\n",
    "#             yield next(iterable)\n",
    "#     return my_filter\n",
    "\n",
    "def filter_max_iter(max_iter=10**3):\n",
    "    def my_filter(seq):\n",
    "        return islice(seq, 0, max_iter)\n",
    "    return my_filter"
   ]
  },
  {
   "cell_type": "code",
   "execution_count": 8,
   "id": "a99173ea",
   "metadata": {},
   "outputs": [
    {
     "name": "stdout",
     "output_type": "stream",
     "text": [
      "[1, 2, 3]\n",
      "1\n",
      "2\n",
      "3\n"
     ]
    },
    {
     "ename": "StopIteration",
     "evalue": "",
     "output_type": "error",
     "traceback": [
      "\u001b[0;31m---------------------------------------------------------------------------\u001b[0m",
      "\u001b[0;31mStopIteration\u001b[0m                             Traceback (most recent call last)",
      "\u001b[0;32m<ipython-input-8-f2e7e1d9875d>\u001b[0m in \u001b[0;36m<module>\u001b[0;34m\u001b[0m\n\u001b[1;32m      9\u001b[0m \u001b[0mprint\u001b[0m\u001b[0;34m(\u001b[0m\u001b[0ma\u001b[0m\u001b[0;34m)\u001b[0m\u001b[0;34m\u001b[0m\u001b[0;34m\u001b[0m\u001b[0m\n\u001b[1;32m     10\u001b[0m \u001b[0;32mfor\u001b[0m \u001b[0m_\u001b[0m \u001b[0;32min\u001b[0m \u001b[0mrange\u001b[0m\u001b[0;34m(\u001b[0m\u001b[0;36m4\u001b[0m\u001b[0;34m)\u001b[0m\u001b[0;34m:\u001b[0m\u001b[0;34m\u001b[0m\u001b[0;34m\u001b[0m\u001b[0m\n\u001b[0;32m---> 11\u001b[0;31m     \u001b[0mprint\u001b[0m\u001b[0;34m(\u001b[0m\u001b[0mnext\u001b[0m\u001b[0;34m(\u001b[0m\u001b[0mmy_gen\u001b[0m\u001b[0;34m)\u001b[0m\u001b[0;34m)\u001b[0m\u001b[0;34m\u001b[0m\u001b[0;34m\u001b[0m\u001b[0m\n\u001b[0m",
      "\u001b[0;31mStopIteration\u001b[0m: "
     ]
    }
   ],
   "source": [
    "def example_generator():\n",
    "    yield 1\n",
    "    yield 2\n",
    "    yield 3\n",
    "    \n",
    "print(list(example_generator()))\n",
    "my_gen = example_generator()\n",
    "a = next(my_gen)\n",
    "print(a)\n",
    "for _ in range(4):\n",
    "    print(next(my_gen))"
   ]
  },
  {
   "cell_type": "code",
   "execution_count": 9,
   "id": "b056fdd2",
   "metadata": {},
   "outputs": [
    {
     "data": {
      "text/plain": [
       "[8, 5.9, 5.139655172413793, 5.004557642613021]"
      ]
     },
     "execution_count": 9,
     "metadata": {},
     "output_type": "execute_result"
    }
   ],
   "source": [
    "x0 = 8\n",
    "f = lambda x: (x-1)*(x-5)\n",
    "df = lambda x: 2*x - 6\n",
    "list(\n",
    "    filter_max_iter(4)(\n",
    "        newton_sequence(x0, f, df)))"
   ]
  },
  {
   "cell_type": "code",
   "execution_count": 10,
   "id": "1f0f8493",
   "metadata": {},
   "outputs": [
    {
     "name": "stdout",
     "output_type": "stream",
     "text": [
      "9\n",
      "5\n"
     ]
    }
   ],
   "source": [
    "def pipeline_eval(x, *func_list):\n",
    "    def apply(x, f):\n",
    "        return f(x)\n",
    "    return reduce(apply, func_list, x)\n",
    "f = lambda x: x+1\n",
    "g = lambda x: x**2\n",
    "print(pipeline_eval(2, f, g))\n",
    "print(pipeline_eval(2, g, f))"
   ]
  },
  {
   "cell_type": "code",
   "execution_count": 11,
   "id": "8908257e",
   "metadata": {},
   "outputs": [
    {
     "data": {
      "text/plain": [
       "[8, 5.9, 5.139655172413793, 5.004557642613021]"
      ]
     },
     "execution_count": 11,
     "metadata": {},
     "output_type": "execute_result"
    }
   ],
   "source": [
    "x0 = 8\n",
    "f = lambda x: (x-1)*(x-5)\n",
    "df = lambda x: 2*x - 6\n",
    "pipeline_eval(newton_sequence(x0, f, df),\n",
    "              filter_max_iter(4),\n",
    "              list)"
   ]
  },
  {
   "cell_type": "code",
   "execution_count": 12,
   "id": "50b2c381",
   "metadata": {},
   "outputs": [
    {
     "data": {
      "text/plain": [
       "[8, 5.9, 5.139655172413793, 5.004557642613021]"
      ]
     },
     "execution_count": 12,
     "metadata": {},
     "output_type": "execute_result"
    }
   ],
   "source": [
    "def filter_f_tol(f, tol=1e-10):\n",
    "    def predicate(x):\n",
    "        return abs(f(x) > tol)\n",
    "    return partial(takewhile, predicate)\n",
    "\n",
    "x0 = 8\n",
    "f = lambda x: (x-1)*(x-5)\n",
    "df = lambda x: 2*x - 6\n",
    "pipeline_eval(newton_sequence(x0, f, df),\n",
    "              filter_max_iter(20),\n",
    "              filter_f_tol(f, tol=1e-4),\n",
    "              list)"
   ]
  },
  {
   "cell_type": "code",
   "execution_count": 13,
   "id": "f8238d22",
   "metadata": {},
   "outputs": [
    {
     "data": {
      "text/plain": [
       "[8, 5.9, 5.139655172413793, 5.004557642613021]"
      ]
     },
     "execution_count": 13,
     "metadata": {},
     "output_type": "execute_result"
    }
   ],
   "source": [
    "def distance(x1, x2):\n",
    "    return abs(x1 - x2)\n",
    "\n",
    "def filter_cauchy_tol(distance=distance, tol=1e-10):\n",
    "    predicate = lambda tup: distance(*tup) > tol\n",
    "    my_filter = pipeline(collect_pairs, \n",
    "                         partial(takewhile, predicate),\n",
    "                         pairs_to_element)\n",
    "    return my_filter\n",
    "\n",
    "x0 = 8\n",
    "f = lambda x: (x-1)*(x-5)\n",
    "df = lambda x: 2*x - 6\n",
    "pipeline_eval(newton_sequence(x0, f, df),\n",
    "              filter_max_iter(20),\n",
    "              filter_cauchy_tol(tol=1e-2),\n",
    "              list)"
   ]
  },
  {
   "cell_type": "markdown",
   "id": "9f4cb91c",
   "metadata": {},
   "source": [
    "$f(x) = (x-1)(x-5) = x^2 - 6x + 5$"
   ]
  },
  {
   "cell_type": "code",
   "execution_count": 19,
   "id": "798e9b3b",
   "metadata": {},
   "outputs": [
    {
     "data": {
      "text/plain": [
       "[8,\n",
       " 5.9,\n",
       " 5.139655172413793,\n",
       " 5.004557642613021,\n",
       " 5.000005181219474,\n",
       " 5.000000000006711]"
      ]
     },
     "execution_count": 19,
     "metadata": {},
     "output_type": "execute_result"
    }
   ],
   "source": [
    "list(\n",
    "    filter_max_iter(max_iter=20)(\n",
    "#         filter_f_tol(f=lambda x: abs(f(x)), tol=1e-10)(\n",
    "        filter_cauchy_tol(tol=1e-10)(\n",
    "            newton_sequence(8, f, df)\n",
    "        )\n",
    "    )\n",
    ")"
   ]
  },
  {
   "cell_type": "code",
   "execution_count": 38,
   "id": "a8cc1116",
   "metadata": {},
   "outputs": [
    {
     "data": {
      "text/plain": [
       "5.000005181219474"
      ]
     },
     "execution_count": 38,
     "metadata": {},
     "output_type": "execute_result"
    }
   ],
   "source": [
    "pipeline_eval(\n",
    "    newton_sequence(8, f, df),\n",
    "    filter_max_iter(max_iter=20),\n",
    "    filter_f_tol(f = lambda x: abs(f(x))),\n",
    "    last)"
   ]
  },
  {
   "cell_type": "code",
   "execution_count": 39,
   "id": "998447b7",
   "metadata": {},
   "outputs": [
    {
     "data": {
      "text/plain": [
       "5.000000000006711"
      ]
     },
     "execution_count": 39,
     "metadata": {},
     "output_type": "execute_result"
    }
   ],
   "source": [
    "def newton_root_find(x0, f, df=, df_inv=None, \n",
    "                     max_iter=20, tol=1e-15):\n",
    "    return pipeline_eval(\n",
    "        newton_sequence(x0, f, df), \n",
    "        filter_f_tol(f = lambda x: abs(f(x)), tol=tol), \n",
    "        filter_max_iter(max_iter), \n",
    "        more_itertools.last)\n",
    "\n",
    "newton_root_find(8, f, df)"
   ]
  },
  {
   "cell_type": "code",
   "execution_count": 46,
   "id": "f79d7da7",
   "metadata": {},
   "outputs": [
    {
     "name": "stdout",
     "output_type": "stream",
     "text": [
      "The critical point is at \n",
      "x = [1.25331414 1.25331414]\n",
      "f(x) = 1.0\n",
      "Jac(f)(x) = [-1.7218578332986044e-13, -1.7218578332986039e-13]\n"
     ]
    }
   ],
   "source": [
    "import numpy as np\n",
    "import numpy.linalg as la\n",
    "# def muli_newton_sequence(x0, jac, hes):\n",
    "#     x = x0\n",
    "#     yield x\n",
    "#     while True:\n",
    "#         x -= la.solve(hes(*x), jac(*x))\n",
    "#         yield x\n",
    "\n",
    "def multi_newton_sequence(x0, jac, hes):\n",
    "    def muli_newton_improve(x):\n",
    "        return x - la.solve(hes(*x), jac(*x))\n",
    "    return iterate_seq(x0, muli_newton_improve)\n",
    "\n",
    "def vec_dist(x, y):\n",
    "    return la.norm(x - y)\n",
    "\n",
    "def multi_newton_root_find(x0, jac, hes):\n",
    "    return pipeline_eval(muli_newton_sequence(x0, jac, hes),\n",
    "                         filter_max_iter(max_iter=10),\n",
    "                         filter_cauchy_tol(distance = vec_dist),\n",
    "                         last)\n",
    "\n",
    "# symbolic stuff - this is just because I don't want to manually define the Jacobian and Hessian functions\n",
    "import sympy as sym\n",
    "x, y = sym.symbols('x y')\n",
    "f = sym.sin(x*y)\n",
    "jac = [f.diff(var) for var in (x,y)]\n",
    "hes = sym.Matrix([[f.diff(var) for var in (x,y)] for f in jac])\n",
    "\n",
    "# numeric stuff\n",
    "f_numeric = sym.lambdify((x,y), f)\n",
    "jac_numeric = sym.lambdify((x,y), jac, 'numpy')\n",
    "hes_numeric = sym.lambdify((x,y), hes, 'numpy')\n",
    "\n",
    "\n",
    "\n",
    "root = multi_newton_root_find(np.array([1, 1]), jac_numeric, hes_numeric)\n",
    "print(f'The critical point is at \\nx = {root}')\n",
    "print(f'f(x) = {f_numeric(*root)}')\n",
    "print(f'Jac(f)(x) = {jac_numeric(*root)}')"
   ]
  },
  {
   "cell_type": "markdown",
   "id": "a3cf2b29",
   "metadata": {},
   "source": [
    "# Reuse with Secant Method"
   ]
  },
  {
   "cell_type": "code",
   "execution_count": 48,
   "id": "5112c41f",
   "metadata": {},
   "outputs": [],
   "source": [
    "def secant_sequence(x0, x1, f):\n",
    "    yield x0\n",
    "    yield x1\n",
    "    while True:\n",
    "        x0, x1 = x1, x1 - f(x1)*(x1 - x0)/(f(x1) - f(x0))\n",
    "        yield x1\n",
    "        \n",
    "def secant_sequence(x0, x1, f):\n",
    "    def secant_update(tup):\n",
    "        y0, y1 = tup\n",
    "        return y1, y1 - f(y1)*(y1 - y0)/(f(y1) - f(y0))\n",
    "    return map(lambda tup: tup[0],\n",
    "               iterate_seq((x0, x1), secant_update))"
   ]
  },
  {
   "cell_type": "code",
   "execution_count": 49,
   "id": "714d5316",
   "metadata": {},
   "outputs": [
    {
     "data": {
      "text/plain": [
       "[7,\n",
       " 8,\n",
       " 5.666666666666666,\n",
       " 5.260869565217391,\n",
       " 5.035294117647059,\n",
       " 5.002143112275271,\n",
       " 5.000018734472505,\n",
       " 5.000000010032098,\n",
       " 5.000000000000047]"
      ]
     },
     "execution_count": 49,
     "metadata": {},
     "output_type": "execute_result"
    }
   ],
   "source": [
    "f = lambda x: (x-1)*(x-5)\n",
    "df = lambda x: 2*x - 6\n",
    "\n",
    "pipeline_eval(secant_sequence(7, 8, f),\n",
    "              filter_f_tol(f = lambda x: abs(f(x)), tol=1e-15),\n",
    "              filter_max_iter(),\n",
    "              take(15),\n",
    "              list)"
   ]
  },
  {
   "cell_type": "code",
   "execution_count": null,
   "id": "a2521d77",
   "metadata": {},
   "outputs": [],
   "source": []
  },
  {
   "cell_type": "code",
   "execution_count": null,
   "id": "b8659344",
   "metadata": {},
   "outputs": [],
   "source": []
  },
  {
   "cell_type": "code",
   "execution_count": null,
   "id": "0fdbe4aa",
   "metadata": {},
   "outputs": [],
   "source": []
  },
  {
   "cell_type": "code",
   "execution_count": null,
   "id": "e5097738",
   "metadata": {},
   "outputs": [],
   "source": []
  },
  {
   "cell_type": "code",
   "execution_count": null,
   "id": "59cc1fe5",
   "metadata": {},
   "outputs": [],
   "source": []
  },
  {
   "cell_type": "code",
   "execution_count": null,
   "id": "16f8052a",
   "metadata": {},
   "outputs": [],
   "source": []
  },
  {
   "cell_type": "code",
   "execution_count": null,
   "id": "e8e6ca0a",
   "metadata": {},
   "outputs": [],
   "source": []
  },
  {
   "cell_type": "code",
   "execution_count": null,
   "id": "8f6901b6",
   "metadata": {},
   "outputs": [],
   "source": []
  },
  {
   "cell_type": "code",
   "execution_count": 15,
   "id": "6fe654c4",
   "metadata": {},
   "outputs": [],
   "source": [
    "# %matplotlib inline\n",
    "# import time\n",
    "# from IPython import display\n",
    "# from random import random\n",
    "# import matplotlib.pyplot as plt\n",
    "# for i in range(10):\n",
    "#     plt.clf()\n",
    "#     plt.plot([10*(random()-.5) for _ in range(100)], 'b.')\n",
    "#     plt.ylim(-5, 5)\n",
    "#     plt.xlim(-1, 101)\n",
    "#     display.display(plt.gcf())\n",
    "#     display.clear_output(wait=True)\n",
    "#     time.sleep(1.0)"
   ]
  },
  {
   "cell_type": "markdown",
   "id": "f031f0b4",
   "metadata": {},
   "source": [
    "Libnitz pi"
   ]
  },
  {
   "cell_type": "code",
   "execution_count": 16,
   "id": "c033f44c",
   "metadata": {},
   "outputs": [
    {
     "name": "stdout",
     "output_type": "stream",
     "text": [
      "3.1414926535900367\n"
     ]
    }
   ],
   "source": [
    "a, b = 1, 20000\n",
    "\n",
    "\n",
    "v = 0\n",
    "for i in range(a, b, 4):\n",
    "    v += 1/(i * (i + 2))\n",
    "print(v*8)"
   ]
  },
  {
   "cell_type": "code",
   "execution_count": 17,
   "id": "a12278a2",
   "metadata": {},
   "outputs": [],
   "source": [
    "def i_generator(i, step):\n",
    "    yield i\n",
    "    while True:\n",
    "        i += step\n",
    "        yield i\n",
    "        \n",
    "def print_running(iterable):\n",
    "    for x in iterable:\n",
    "        print(str(x) + ' '*100, end='\\r')\n",
    "        yield x"
   ]
  },
  {
   "cell_type": "code",
   "execution_count": 18,
   "id": "96e00335",
   "metadata": {},
   "outputs": [
    {
     "name": "stdout",
     "output_type": "stream",
     "text": [
      "3.1415676535897927                                                                                                    \r"
     ]
    },
    {
     "data": {
      "text/plain": [
       "3.1415676535897927"
      ]
     },
     "execution_count": 18,
     "metadata": {},
     "output_type": "execute_result"
    }
   ],
   "source": [
    "pipeline_eval( i_generator(1, 4), [\n",
    "    partial(map, lambda x: 1/(x*(x+2))),\n",
    "    accumulate,\n",
    "    partial(map, lambda x: 8*x),\n",
    "    take(20_000),\n",
    "    print_running,\n",
    "    last\n",
    "] )"
   ]
  }
 ],
 "metadata": {
  "kernelspec": {
   "display_name": "Python 3",
   "language": "python",
   "name": "python3"
  },
  "language_info": {
   "codemirror_mode": {
    "name": "ipython",
    "version": 3
   },
   "file_extension": ".py",
   "mimetype": "text/x-python",
   "name": "python",
   "nbconvert_exporter": "python",
   "pygments_lexer": "ipython3",
   "version": "3.6.9"
  }
 },
 "nbformat": 4,
 "nbformat_minor": 5
}

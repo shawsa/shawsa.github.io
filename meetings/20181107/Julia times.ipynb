{
 "cells": [
  {
   "cell_type": "code",
   "execution_count": 1,
   "metadata": {},
   "outputs": [],
   "source": [
    "using BenchmarkTools\n",
    "using Plots"
   ]
  },
  {
   "cell_type": "code",
   "execution_count": 3,
   "metadata": {},
   "outputs": [],
   "source": [
    "x = rand(10^7);"
   ]
  },
  {
   "cell_type": "code",
   "execution_count": 4,
   "metadata": {},
   "outputs": [
    {
     "name": "stdout",
     "output_type": "stream",
     "text": [
      "  5.526 ms (1 allocation: 16 bytes)\n"
     ]
    },
    {
     "data": {
      "text/plain": [
       "4.99836172370562e6"
      ]
     },
     "execution_count": 4,
     "metadata": {},
     "output_type": "execute_result"
    }
   ],
   "source": [
    "@btime sum(x)"
   ]
  },
  {
   "cell_type": "code",
   "execution_count": 5,
   "metadata": {},
   "outputs": [],
   "source": [
    "n = 10^4;\n",
    "A = rand(n, n);\n",
    "x = rand(n);"
   ]
  },
  {
   "cell_type": "code",
   "execution_count": 6,
   "metadata": {},
   "outputs": [
    {
     "name": "stdout",
     "output_type": "stream",
     "text": [
      "  44.382 ms (2 allocations: 78.20 KiB)\n"
     ]
    }
   ],
   "source": [
    "@btime A*x;"
   ]
  },
  {
   "cell_type": "markdown",
   "metadata": {},
   "source": [
    "# RBF Interpolation"
   ]
  },
  {
   "cell_type": "code",
   "execution_count": 2,
   "metadata": {},
   "outputs": [
    {
     "data": {
      "text/plain": [
       "rbf_interp (generic function with 1 method)"
      ]
     },
     "execution_count": 2,
     "metadata": {},
     "output_type": "execute_result"
    }
   ],
   "source": [
    "function rbf_interp(x, y, z, eps)\n",
    "    A = exp.(-(abs.(x .- x').*eps).^2)\n",
    "    c = A\\y\n",
    "    A = exp.(-(abs.(z .- x').*eps).^2)\n",
    "    return A * c\n",
    "end\n",
    "\n",
    "function rbf_interp(x, y, z, eps)\n",
    "    return exp.(-(abs.(z .- x').*eps).^2) * (exp.(-(abs.(x .- x').*eps).^2)\\y)\n",
    "end"
   ]
  },
  {
   "cell_type": "code",
   "execution_count": 7,
   "metadata": {},
   "outputs": [],
   "source": [
    "epsilon = 45\n",
    "#n = 20 \n",
    "n = 10^3\n",
    "m = 10^5\n",
    "a, b = 0, 2*pi\n",
    "x = range(a, stop=b, length=n)\n",
    "z = range(a, stop=b, length=m)\n",
    "y = sin.(x)\n",
    "u = rbf_interp(x,y,z,epsilon)\n",
    "\n",
    "if n< 200\n",
    "    plot(z, sin.(z), label=\"sine\", color=\"blue\")\n",
    "    plot!(z, u, label=\"interpolant\", color=\"red\")\n",
    "    scatter!(x, y)\n",
    "end"
   ]
  },
  {
   "cell_type": "code",
   "execution_count": 8,
   "metadata": {},
   "outputs": [
    {
     "name": "stdout",
     "output_type": "stream",
     "text": [
      "  1.979 s (21 allocations: 2.27 GiB)\n"
     ]
    }
   ],
   "source": [
    "@btime rbf_interp(x,y,z,epsilon);"
   ]
  },
  {
   "cell_type": "code",
   "execution_count": null,
   "metadata": {},
   "outputs": [],
   "source": []
  }
 ],
 "metadata": {
  "kernelspec": {
   "display_name": "Julia 1.0.2",
   "language": "julia",
   "name": "julia-1.0"
  },
  "language_info": {
   "file_extension": ".jl",
   "mimetype": "application/julia",
   "name": "julia",
   "version": "1.0.2"
  }
 },
 "nbformat": 4,
 "nbformat_minor": 2
}

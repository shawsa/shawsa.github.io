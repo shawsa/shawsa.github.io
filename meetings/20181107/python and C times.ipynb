{
 "cells": [
  {
   "cell_type": "code",
   "execution_count": 1,
   "metadata": {},
   "outputs": [],
   "source": [
    "import numpy as np\n",
    "import numpy.linalg as la\n",
    "import random\n",
    "%matplotlib inline\n",
    "import matplotlib.pyplot as plt"
   ]
  },
  {
   "cell_type": "markdown",
   "metadata": {},
   "source": [
    "# Summing Vectors"
   ]
  },
  {
   "cell_type": "code",
   "execution_count": 19,
   "metadata": {},
   "outputs": [],
   "source": [
    "ls = np.random.randn(10**7)"
   ]
  },
  {
   "cell_type": "code",
   "execution_count": 20,
   "metadata": {},
   "outputs": [
    {
     "name": "stdout",
     "output_type": "stream",
     "text": [
      "100 loops, best of 3: 5.54 ms per loop\n"
     ]
    }
   ],
   "source": [
    "%%timeit\n",
    "np.sum(ls)"
   ]
  },
  {
   "cell_type": "code",
   "execution_count": 21,
   "metadata": {},
   "outputs": [],
   "source": [
    "ls = [random.random() for i in range(10**7)]"
   ]
  },
  {
   "cell_type": "code",
   "execution_count": 22,
   "metadata": {},
   "outputs": [
    {
     "name": "stdout",
     "output_type": "stream",
     "text": [
      "1 loop, best of 3: 281 ms per loop\n"
     ]
    }
   ],
   "source": [
    "%%timeit\n",
    "sum = 0\n",
    "for x in ls:\n",
    "    sum += x"
   ]
  },
  {
   "cell_type": "code",
   "execution_count": 23,
   "metadata": {},
   "outputs": [
    {
     "name": "stdout",
     "output_type": "stream",
     "text": [
      "3.020000ms\n"
     ]
    }
   ],
   "source": [
    "%%bash\n",
    "./sum_time"
   ]
  },
  {
   "cell_type": "markdown",
   "metadata": {},
   "source": [
    "# Matrix Multiplication"
   ]
  },
  {
   "cell_type": "code",
   "execution_count": 26,
   "metadata": {},
   "outputs": [],
   "source": [
    "n = 5000\n",
    "A = np.random.randn(n**2).reshape((n,n))"
   ]
  },
  {
   "cell_type": "code",
   "execution_count": 27,
   "metadata": {},
   "outputs": [
    {
     "name": "stdout",
     "output_type": "stream",
     "text": [
      "1 loop, best of 3: 3.01 s per loop\n"
     ]
    }
   ],
   "source": [
    "%%timeit\n",
    "B = A @ A"
   ]
  },
  {
   "cell_type": "code",
   "execution_count": 1,
   "metadata": {},
   "outputs": [],
   "source": [
    "%%bash\n",
    "g++ mat_mult.cpp -o matmult -O3 -larmadillo"
   ]
  },
  {
   "cell_type": "code",
   "execution_count": 2,
   "metadata": {},
   "outputs": [
    {
     "name": "stdout",
     "output_type": "stream",
     "text": [
      "2.770789 s\n"
     ]
    }
   ],
   "source": [
    "%%bash\n",
    "./matmult"
   ]
  },
  {
   "cell_type": "markdown",
   "metadata": {},
   "source": [
    "# RBF Interpolation"
   ]
  },
  {
   "cell_type": "code",
   "execution_count": 2,
   "metadata": {},
   "outputs": [],
   "source": [
    "def rbf_interp(x, y, z, eps):\n",
    "    A = np.abs(np.subtract.outer(x,x))*eps\n",
    "    A = np.exp(-A**2)\n",
    "    c = la.solve(A, y)\n",
    "    A = np.abs(np.subtract.outer(z,x))*eps\n",
    "    A = np.exp(-A**2)\n",
    "    return A @ c"
   ]
  },
  {
   "cell_type": "code",
   "execution_count": 3,
   "metadata": {},
   "outputs": [
    {
     "name": "stdout",
     "output_type": "stream",
     "text": [
      "cond(A)=1.18983e+13\n"
     ]
    },
    {
     "data": {
      "text/plain": [
       "[<matplotlib.lines.Line2D at 0x7f8a770f37f0>]"
      ]
     },
     "execution_count": 3,
     "metadata": {},
     "output_type": "execute_result"
    },
    {
     "data": {
      "image/png": "[encoded data removed]",
      "text/plain": [
       "<Figure size 432x288 with 1 Axes>"
      ]
     },
     "metadata": {},
     "output_type": "display_data"
    }
   ],
   "source": [
    "eps = 45\n",
    "n = 1000\n",
    "m = 10**5\n",
    "a, b = 0, 2*np.pi\n",
    "\n",
    "x = np.linspace(a, b, n)\n",
    "z = np.linspace(a, b, m)\n",
    "y = np.sin(x)\n",
    "\n",
    "A = np.abs(np.subtract.outer(x,x))*eps\n",
    "A = np.exp(-A**2)\n",
    "print('cond(A)=%g' % la.cond(A))\n",
    "\n",
    "u = rbf_interp(x,y,z,eps)\n",
    "\n",
    "plt.plot(x, y)\n",
    "plt.plot(z, u, 'r--')"
   ]
  },
  {
   "cell_type": "code",
   "execution_count": 4,
   "metadata": {},
   "outputs": [
    {
     "name": "stdout",
     "output_type": "stream",
     "text": [
      "1 loop, best of 3: 3.13 s per loop\n"
     ]
    }
   ],
   "source": [
    "%%timeit\n",
    "u = rbf_interp(x,y,z,eps)"
   ]
  },
  {
   "cell_type": "code",
   "execution_count": 68,
   "metadata": {},
   "outputs": [],
   "source": [
    "%%bash\n",
    "g++ rbf_interp_test.cpp -o rbf_interp_test -O3 -larmadillo"
   ]
  },
  {
   "cell_type": "code",
   "execution_count": 5,
   "metadata": {},
   "outputs": [
    {
     "name": "stdout",
     "output_type": "stream",
     "text": [
      "Best of 10 runs: \t0.416424s\n"
     ]
    }
   ],
   "source": [
    "%%bash\n",
    "./rbf_interp_test"
   ]
  },
  {
   "cell_type": "code",
   "execution_count": 66,
   "metadata": {},
   "outputs": [
    {
     "data": {
      "image/png": "[encoded data removed]",
      "text/plain": [
       "<Figure size 432x288 with 1 Axes>"
      ]
     },
     "metadata": {},
     "output_type": "display_data"
    }
   ],
   "source": [
    "u = np.genfromtxt('u_sine.dat')\n",
    "n = len(u)\n",
    "z = np.linspace(0, 2*np.pi, n)\n",
    "plt.plot(z, np.sin(z), 'b-')\n",
    "plt.plot(z, u, 'r--')\n",
    "plt.show()"
   ]
  },
  {
   "cell_type": "code",
   "execution_count": 6,
   "metadata": {},
   "outputs": [],
   "source": [
    "%%bash\n",
    "g++ rbf_interp_test.cpp -o rbf_interp_test -O3 -larmadillo -DARMA_DONT_USE_WRAPPER -lopenblas -llapack"
   ]
  },
  {
   "cell_type": "code",
   "execution_count": 7,
   "metadata": {},
   "outputs": [
    {
     "name": "stdout",
     "output_type": "stream",
     "text": [
      "Best of 10 runs: \t0.415460s\n"
     ]
    }
   ],
   "source": [
    "%%bash\n",
    "./rbf_interp_test"
   ]
  },
  {
   "cell_type": "code",
   "execution_count": null,
   "metadata": {},
   "outputs": [],
   "source": []
  }
 ],
 "metadata": {
  "kernelspec": {
   "display_name": "Python 3",
   "language": "python",
   "name": "python3"
  },
  "language_info": {
   "codemirror_mode": {
    "name": "ipython",
    "version": 3
   },
   "file_extension": ".py",
   "mimetype": "text/x-python",
   "name": "python",
   "nbconvert_exporter": "python",
   "pygments_lexer": "ipython3",
   "version": "3.6.6"
  }
 },
 "nbformat": 4,
 "nbformat_minor": 2
}

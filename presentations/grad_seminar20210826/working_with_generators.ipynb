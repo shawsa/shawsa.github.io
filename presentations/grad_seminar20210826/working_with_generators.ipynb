{
 "cells": [
  {
   "cell_type": "code",
   "execution_count": 1,
   "id": "53e47bde",
   "metadata": {},
   "outputs": [],
   "source": [
    "from functools import partial, reduce\n",
    "from itertools import accumulate, repeat, chain, takewhile, tee"
   ]
  },
  {
   "cell_type": "code",
   "execution_count": 2,
   "id": "aef32952",
   "metadata": {},
   "outputs": [],
   "source": [
    "def take(n):\n",
    "    return lambda iterable: (element for _, element in zip(range(n), iterable))\n",
    "\n",
    "def head(iterable, n=10):\n",
    "    return list(take(n)(iterable))\n",
    "\n",
    "def last(iterable):\n",
    "    try:\n",
    "        while True:\n",
    "            x = next(iterable)\n",
    "    except StopIteration:\n",
    "        return x\n",
    "        \n",
    "def pipeline(*func_list):\n",
    "    def compose_two(f, g):\n",
    "        return lambda x: g(f(x))\n",
    "    return reduce(compose_two, func_list)\n",
    "\n",
    "def pipeline_eval(x, func_list):\n",
    "    return reduce(lambda x, f: f(x), func_list, x)\n",
    "\n",
    "# def filter_printer(iterable):\n",
    "#     for element in iterable:\n",
    "#         print(element)\n",
    "#         yield element\n",
    "        \n",
    "def print_and_return(x):\n",
    "    print(x)\n",
    "    return x\n",
    "\n",
    "filter_printer = partial(map, print_and_return)"
   ]
  },
  {
   "cell_type": "code",
   "execution_count": 3,
   "id": "4140d32b",
   "metadata": {},
   "outputs": [],
   "source": [
    "foo = lambda x: x**2\n",
    "goo = lambda x: x+1"
   ]
  },
  {
   "cell_type": "code",
   "execution_count": 4,
   "id": "cfb67169",
   "metadata": {},
   "outputs": [
    {
     "data": {
      "text/plain": [
       "5"
      ]
     },
     "execution_count": 4,
     "metadata": {},
     "output_type": "execute_result"
    }
   ],
   "source": [
    "pipeline_eval(2, [foo, goo])"
   ]
  },
  {
   "cell_type": "code",
   "execution_count": 19,
   "id": "534d16ff",
   "metadata": {},
   "outputs": [],
   "source": [
    "# def iterate_seq(x0, update):\n",
    "#     x = x0\n",
    "#     yield x\n",
    "#     while True:\n",
    "#         x = update(x)\n",
    "#         yield x\n",
    "\n",
    "def iterate_seq(x0, update):\n",
    "    apply = lambda x, f: f(x)\n",
    "    return accumulate(\n",
    "            chain((x0,), repeat(update)),\n",
    "            apply\n",
    "    )\n",
    "\n",
    "def newton_sequence(x0, f, df):\n",
    "    def newton_improve(x):\n",
    "        return x - f(x)/df(x)\n",
    "    return iterate_seq(x0, newton_improve)\n",
    "\n",
    "# def filter_cauchy_tol(difference_function = lambda x1, x2: abs(x1 - x2), tol=1e-10):\n",
    "#     def my_filter(iterable):\n",
    "#         x1 = next(iterable)\n",
    "#         yield x1\n",
    "#         x2 = next(iterable)\n",
    "#         while( difference_function(x1, x2) > tol ):\n",
    "#             x1, x2 = x2, next(iterable)\n",
    "#             yield x2\n",
    "#     return my_filter\n",
    "\n",
    "def filter_cauchy_tol(difference_function = lambda x1, x2: abs(x1 - x2), tol=1e-10):\n",
    "    predicate = lambda tup: difference_function(*tup) > tol\n",
    "    def my_filter(iterable):\n",
    "        copy1, copy2 = tee(iterable)\n",
    "        x0 = next(copy2)\n",
    "        filtered_pairs = takewhile(predicate, zip(copy1, copy2))\n",
    "        filtered_vals = map(lambda tup: tup[1], filtered_pairs)\n",
    "        return chain((x0,), filtered_vals)\n",
    "    return my_filter\n",
    "    \n",
    "# def filter_f_tol(f, tol=1e-10):\n",
    "#     def my_filter(iterable):\n",
    "#         x = next(iterable)\n",
    "#         yield x\n",
    "#         while f(x) > tol:\n",
    "#             x = next(iterable)\n",
    "#             yield x\n",
    "#     return my_filter\n",
    "\n",
    "def filter_f_tol(f, tol=1e-10):\n",
    "    predicate = lambda x: abs(f(x) > tol)\n",
    "    return partial(takewhile, predicate)\n",
    "        \n",
    "# def filter_max_iter(max_iter=10**3):\n",
    "#     def my_filter(iterable):\n",
    "#         for _, element in zip(range(max_iter), iterable):\n",
    "#             yield element\n",
    "#     return my_filter\n",
    "\n",
    "def filter_max_iter(max_iter=10**3):\n",
    "    def my_filter(iterable):\n",
    "        take_first = lambda tup: tup[0]\n",
    "        return map(take_first, zip(iterable, range(max_iter)))\n",
    "    return my_filter"
   ]
  },
  {
   "cell_type": "markdown",
   "id": "775fc5bc",
   "metadata": {},
   "source": [
    "$f(x) = (x-1)(x-5) = x^2 - 6x + 5$"
   ]
  },
  {
   "cell_type": "code",
   "execution_count": 20,
   "id": "68eefa39",
   "metadata": {},
   "outputs": [
    {
     "data": {
      "text/plain": [
       "[8, 5.9, 5.139655172413793, 5.004557642613021, 5.000005181219474]"
      ]
     },
     "execution_count": 20,
     "metadata": {},
     "output_type": "execute_result"
    }
   ],
   "source": [
    "f = lambda x: (x-1)*(x-5)\n",
    "df = lambda x: 2*x - 6\n",
    "\n",
    "head(filter_max_iter(10)(filter_cauchy_tol(tol=1e-5)(newton_sequence(8, f, df))))"
   ]
  },
  {
   "cell_type": "code",
   "execution_count": 23,
   "id": "ca01a707",
   "metadata": {},
   "outputs": [
    {
     "data": {
      "text/plain": [
       "[8,\n",
       " 5.9,\n",
       " 5.139655172413793,\n",
       " 5.004557642613021,\n",
       " 5.000005181219474,\n",
       " 5.000000000006711]"
      ]
     },
     "execution_count": 23,
     "metadata": {},
     "output_type": "execute_result"
    }
   ],
   "source": [
    "list(\n",
    "    filter_max_iter(max_iter=20)(\n",
    "#         filter_f_tol(f=lambda x: abs(f(x)), tol=1e-10)(\n",
    "        filter_cauchy_tol(tol=1e-10)(\n",
    "            newton_sequence(8, f, df)\n",
    "        )\n",
    "    )\n",
    ")"
   ]
  },
  {
   "cell_type": "code",
   "execution_count": 24,
   "id": "38fd0bd1",
   "metadata": {},
   "outputs": [
    {
     "data": {
      "text/plain": [
       "[0, 2, 4, 6, 8, 10, 12, 14, 16, 18]"
      ]
     },
     "execution_count": 24,
     "metadata": {},
     "output_type": "execute_result"
    }
   ],
   "source": [
    "list(partial(filter, lambda x: x%2==0)(range(20)))"
   ]
  },
  {
   "cell_type": "code",
   "execution_count": 25,
   "id": "1f5c8d9b",
   "metadata": {},
   "outputs": [
    {
     "data": {
      "text/plain": [
       "5.000005181219474"
      ]
     },
     "execution_count": 25,
     "metadata": {},
     "output_type": "execute_result"
    }
   ],
   "source": [
    "last(filter_max_iter()(filter_cauchy_tol(tol=1e-5)(newton_sequence(8, f, df))))"
   ]
  },
  {
   "cell_type": "code",
   "execution_count": 27,
   "id": "98540473",
   "metadata": {},
   "outputs": [
    {
     "data": {
      "text/plain": [
       "5.0"
      ]
     },
     "execution_count": 27,
     "metadata": {},
     "output_type": "execute_result"
    }
   ],
   "source": [
    "pipeline_eval(\n",
    "    newton_sequence(8, f, df),\n",
    "    [\n",
    "        filter_max_iter(max_iter=20),\n",
    "        filter_f_tol(f = lambda x: abs(f(x))),\n",
    "        last\n",
    "    ]\n",
    ")"
   ]
  },
  {
   "cell_type": "code",
   "execution_count": 11,
   "id": "b1830022",
   "metadata": {},
   "outputs": [
    {
     "data": {
      "text/plain": [
       "5.000000000006711"
      ]
     },
     "execution_count": 11,
     "metadata": {},
     "output_type": "execute_result"
    }
   ],
   "source": [
    "def newton_root_find(x0, f, df=None, df_inv=None, max_iter=20, tol=1e-15):\n",
    "    return pipeline_eval(\n",
    "        newton_sequence(x0, f, df), \n",
    "        [\n",
    "            filter_f_tol(f = lambda x: abs(f(x)), tol=tol), \n",
    "            filter_max_iter(max_iter), \n",
    "            last\n",
    "        ]\n",
    "    )\n",
    "\n",
    "newton_root_find(8, f, df)"
   ]
  },
  {
   "cell_type": "code",
   "execution_count": 12,
   "id": "10029143",
   "metadata": {},
   "outputs": [
    {
     "name": "stdout",
     "output_type": "stream",
     "text": [
      "[1. 1.]\n",
      "[1.4728545 1.4728545]\n",
      "[1.27279594 1.27279594]\n",
      "[1.25373733 1.25373733]\n",
      "[1.25331435 1.25331435]\n",
      "[1.25331414 1.25331414]\n",
      "[1.25331414 1.25331414]\n",
      "[1.25331414 1.25331414]\n",
      "[1.25331414 1.25331414]\n",
      "[1.25331414 1.25331414]\n",
      "The critical point is at \n",
      "x = [1.25331414 1.25331414]\n",
      "f(x) = 1.0\n",
      "Jac(f)(x) = [-2.0154828513769903e-16, -2.0154828513769903e-16]\n"
     ]
    }
   ],
   "source": [
    "import numpy as np\n",
    "import numpy.linalg as la\n",
    "# def muli_newton_sequence(x0, jac, hes):\n",
    "#     x = x0\n",
    "#     yield x\n",
    "#     while True:\n",
    "#         x -= la.solve(hes(*x), jac(*x))\n",
    "#         yield x\n",
    "\n",
    "def muli_newton_sequence(x0, jac, hes):\n",
    "    def muli_newton_improve(x):\n",
    "        return x - la.solve(hes(*x), jac(*x))\n",
    "    return iterate_seq(x0, muli_newton_improve)\n",
    "\n",
    "# symbolic stuff - this is just because I don't want to manually define the Jacobian and Hessian functions\n",
    "import sympy as sym\n",
    "x, y = sym.symbols('x y')\n",
    "f = sym.sin(x*y)\n",
    "jac = [f.diff(var) for var in (x,y)]\n",
    "hes = sym.Matrix([[f.diff(var) for var in (x,y)] for f in jac])\n",
    "\n",
    "# numeric stuff\n",
    "f_numeric = sym.lambdify((x,y), f)\n",
    "jac_numeric = sym.lambdify((x,y), jac, 'numpy')\n",
    "hes_numeric = sym.lambdify((x,y), hes, 'numpy')\n",
    "\n",
    "root = pipeline_eval(\n",
    "            muli_newton_sequence(np.array([1, 1], dtype=float), \n",
    "                                jac = jac_numeric,\n",
    "                                hes = hes_numeric),\n",
    "            [\n",
    "                filter_printer,\n",
    "                filter_max_iter(max_iter=10),\n",
    "                last\n",
    "            ])\n",
    "print(f'The critical point is at \\nx = {root}')\n",
    "print(f'f(x) = {f_numeric(*root)}')\n",
    "print(f'Jac(f)(x) = {jac_numeric(*root)}')"
   ]
  },
  {
   "cell_type": "markdown",
   "id": "78a7c669",
   "metadata": {},
   "source": [
    "# Reuse with Secant Method"
   ]
  },
  {
   "cell_type": "code",
   "execution_count": 13,
   "id": "52d5ccc1",
   "metadata": {},
   "outputs": [],
   "source": [
    "# def secant_sequence(x0, x1, f):\n",
    "#     yield x0\n",
    "#     yield x1\n",
    "#     while True:\n",
    "#         x0, x1 = x1, x1 - f(x1)*(x1 - x0)/(f(x1) - f(x0))\n",
    "#         yield x1\n",
    "        \n",
    "def secant_sequence(x0, x1, f):\n",
    "    def secant_update(tup):\n",
    "        y0, y1 = tup\n",
    "        return y1, y1 - f(y1)*(y1 - y0)/(f(y1) - f(y0))\n",
    "    return map(lambda tup: tup[0],\n",
    "               iterate_seq((x0, x1), secant_update))"
   ]
  },
  {
   "cell_type": "code",
   "execution_count": 14,
   "id": "046b6595",
   "metadata": {},
   "outputs": [
    {
     "data": {
      "text/plain": [
       "[7,\n",
       " 8,\n",
       " 5.666666666666666,\n",
       " 5.260869565217391,\n",
       " 5.035294117647059,\n",
       " 5.002143112275271,\n",
       " 5.000018734472505,\n",
       " 5.000000010032098,\n",
       " 5.000000000000047]"
      ]
     },
     "execution_count": 14,
     "metadata": {},
     "output_type": "execute_result"
    }
   ],
   "source": [
    "f = lambda x: (x-1)*(x-5)\n",
    "df = lambda x: 2*x - 6\n",
    "\n",
    "pipeline_eval(\n",
    "    secant_sequence(7, 8, f),\n",
    "    [\n",
    "        filter_f_tol(f = lambda x: abs(f(x)), tol=1e-15),\n",
    "        filter_max_iter(),\n",
    "        take(15),\n",
    "        list\n",
    "    ]\n",
    ")"
   ]
  },
  {
   "cell_type": "code",
   "execution_count": null,
   "id": "cdb3fc2e",
   "metadata": {},
   "outputs": [],
   "source": []
  },
  {
   "cell_type": "code",
   "execution_count": null,
   "id": "8b0c8060",
   "metadata": {},
   "outputs": [],
   "source": []
  },
  {
   "cell_type": "code",
   "execution_count": null,
   "id": "bde33785",
   "metadata": {},
   "outputs": [],
   "source": []
  },
  {
   "cell_type": "code",
   "execution_count": null,
   "id": "6c342253",
   "metadata": {},
   "outputs": [],
   "source": []
  },
  {
   "cell_type": "code",
   "execution_count": null,
   "id": "a04435d5",
   "metadata": {},
   "outputs": [],
   "source": []
  },
  {
   "cell_type": "code",
   "execution_count": null,
   "id": "b4d048af",
   "metadata": {},
   "outputs": [],
   "source": []
  },
  {
   "cell_type": "code",
   "execution_count": null,
   "id": "3bb0317b",
   "metadata": {},
   "outputs": [],
   "source": []
  },
  {
   "cell_type": "code",
   "execution_count": null,
   "id": "6f3b556f",
   "metadata": {},
   "outputs": [],
   "source": []
  },
  {
   "cell_type": "code",
   "execution_count": 15,
   "id": "cfb91c08",
   "metadata": {},
   "outputs": [],
   "source": [
    "# %matplotlib inline\n",
    "# import time\n",
    "# from IPython import display\n",
    "# from random import random\n",
    "# import matplotlib.pyplot as plt\n",
    "# for i in range(10):\n",
    "#     plt.clf()\n",
    "#     plt.plot([10*(random()-.5) for _ in range(100)], 'b.')\n",
    "#     plt.ylim(-5, 5)\n",
    "#     plt.xlim(-1, 101)\n",
    "#     display.display(plt.gcf())\n",
    "#     display.clear_output(wait=True)\n",
    "#     time.sleep(1.0)"
   ]
  },
  {
   "cell_type": "markdown",
   "id": "d6a5fdc6",
   "metadata": {},
   "source": [
    "Libnitz pi"
   ]
  },
  {
   "cell_type": "code",
   "execution_count": 16,
   "id": "1f3a08dc",
   "metadata": {},
   "outputs": [
    {
     "name": "stdout",
     "output_type": "stream",
     "text": [
      "3.1414926535900367\n"
     ]
    }
   ],
   "source": [
    "a, b = 1, 20000\n",
    "\n",
    "\n",
    "v = 0\n",
    "for i in range(a, b, 4):\n",
    "    v += 1/(i * (i + 2))\n",
    "print(v*8)"
   ]
  },
  {
   "cell_type": "code",
   "execution_count": 17,
   "id": "9d23e4ce",
   "metadata": {},
   "outputs": [],
   "source": [
    "def i_generator(i, step):\n",
    "    yield i\n",
    "    while True:\n",
    "        i += step\n",
    "        yield i\n",
    "        \n",
    "def print_running(iterable):\n",
    "    for x in iterable:\n",
    "        print(str(x) + ' '*100, end='\\r')\n",
    "        yield x"
   ]
  },
  {
   "cell_type": "code",
   "execution_count": 18,
   "id": "f03fee22",
   "metadata": {},
   "outputs": [
    {
     "name": "stdout",
     "output_type": "stream",
     "text": [
      "3.1415676535897927                                                                                                    \r"
     ]
    },
    {
     "data": {
      "text/plain": [
       "3.1415676535897927"
      ]
     },
     "execution_count": 18,
     "metadata": {},
     "output_type": "execute_result"
    }
   ],
   "source": [
    "pipeline_eval( i_generator(1, 4), [\n",
    "    partial(map, lambda x: 1/(x*(x+2))),\n",
    "    accumulate,\n",
    "    partial(map, lambda x: 8*x),\n",
    "    take(20_000),\n",
    "    print_running,\n",
    "    last\n",
    "] )"
   ]
  }
 ],
 "metadata": {
  "kernelspec": {
   "display_name": "Python 3",
   "language": "python",
   "name": "python3"
  },
  "language_info": {
   "codemirror_mode": {
    "name": "ipython",
    "version": 3
   },
   "file_extension": ".py",
   "mimetype": "text/x-python",
   "name": "python",
   "nbconvert_exporter": "python",
   "pygments_lexer": "ipython3",
   "version": "3.6.9"
  }
 },
 "nbformat": 4,
 "nbformat_minor": 5
}

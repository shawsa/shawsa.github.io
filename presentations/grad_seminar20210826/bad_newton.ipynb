{
 "cells": [
  {
   "cell_type": "code",
   "execution_count": 42,
   "id": "572db595",
   "metadata": {},
   "outputs": [
    {
     "name": "stdout",
     "output_type": "stream",
     "text": [
      "2\n",
      "1.5\n",
      "1.25\n",
      "1.125\n",
      "1.0625\n",
      "1.03125\n",
      "1.015625\n",
      "1.0078125\n",
      "1.00390625\n",
      "1.001953125\n",
      "1.0009765625\n"
     ]
    }
   ],
   "source": [
    "def newton_method(x0, f, df):\n",
    "    x = x0\n",
    "    print(x)\n",
    "    for _ in range(10):\n",
    "        x = x - f(x)/df(x)\n",
    "        print(x)\n",
    "f = lambda x: (x-1)**2\n",
    "df = lambda x: 2*(x-1)\n",
    "newton_method(2, f, df)"
   ]
  },
  {
   "cell_type": "code",
   "execution_count": 43,
   "id": "b23385d9",
   "metadata": {},
   "outputs": [
    {
     "name": "stdout",
     "output_type": "stream",
     "text": [
      "2\n",
      "1.5\n",
      "1.25\n",
      "1.125\n",
      "1.0625\n"
     ]
    }
   ],
   "source": [
    "def newton_method(x0, f, df, max_iter=10):\n",
    "    x = x0\n",
    "    print(x)\n",
    "    for _ in range(max_iter):\n",
    "        x = x - f(x)/df(x)\n",
    "        print(x)\n",
    "f = lambda x: (x-1)**2\n",
    "df = lambda x: 2*(x-1)\n",
    "newton_method(2, f, df, max_iter=4)"
   ]
  },
  {
   "cell_type": "code",
   "execution_count": 44,
   "id": "00f8ce10",
   "metadata": {},
   "outputs": [
    {
     "name": "stdout",
     "output_type": "stream",
     "text": [
      "2\n",
      "1.5\n",
      "1.25\n",
      "1.125\n",
      "1.0625\n",
      "1.03125\n"
     ]
    }
   ],
   "source": [
    "def newton_method(x0, f, df, \n",
    "                  max_iter=10, tol=1e-5):\n",
    "    x = x0\n",
    "    print(x)\n",
    "    for _ in range(max_iter):\n",
    "        x = x - f(x)/df(x)\n",
    "        print(x)\n",
    "        if abs(f(x)) <= tol:\n",
    "            break\n",
    "f = lambda x: (x-1)**2\n",
    "df = lambda x: 2*(x-1)\n",
    "newton_method(2, f, df, tol=1e-3)"
   ]
  },
  {
   "cell_type": "code",
   "execution_count": 45,
   "id": "bc26ca7f",
   "metadata": {},
   "outputs": [
    {
     "name": "stdout",
     "output_type": "stream",
     "text": [
      "2\n",
      "1.5\n",
      "1.25\n",
      "1.125\n",
      "1.0625\n",
      "1.03125\n",
      "1.015625\n",
      "1.0078125\n",
      "1.00390625\n",
      "1.001953125\n",
      "1.0009765625\n"
     ]
    }
   ],
   "source": [
    "def newton_method(x0, f, df, max_iter=10, \n",
    "                  tol=1e-5, tol_type='abs'):\n",
    "    assert tol_type.lower() in ('abs', 'cauchy')\n",
    "    x = x0\n",
    "    x_old = x\n",
    "    print(x)\n",
    "    for _ in range(max_iter):\n",
    "        x, x_old = x - f(x)/df(x), x\n",
    "        print(x)\n",
    "        if tol_type is 'abs':\n",
    "            if abs(f(x)) <= tol:\n",
    "                break\n",
    "        elif tol_type is 'cauchy':\n",
    "            if abs(x - x_old) < tol:\n",
    "                break\n",
    "f = lambda x: (x-1)**2\n",
    "df = lambda x: 2*(x-1)\n",
    "newton_method(2, f, df, tol=1e-3, tol_type='cauchy')"
   ]
  },
  {
   "cell_type": "code",
   "execution_count": 46,
   "id": "1c73ca84",
   "metadata": {},
   "outputs": [
    {
     "name": "stdout",
     "output_type": "stream",
     "text": [
      "2\n",
      "1.5\n",
      "1.25\n",
      "1.125\n",
      "1.0625\n",
      "1.03125\n",
      "1.015625\n",
      "1.0078125\n",
      "1.00390625\n",
      "1.001953125\n",
      "1.0009765625\n"
     ]
    }
   ],
   "source": [
    "def newton_method(x0, f, df, \n",
    "                  max_iter=10, tol=1e-5, \n",
    "                  tol_type='abs'):\n",
    "    assert tol_type.lower() in ('abs', 'cauchy')\n",
    "    x = x0\n",
    "    x_old = x\n",
    "    xs = [x]\n",
    "    for _ in range(max_iter):\n",
    "        x, x_old = x - f(x)/df(x), x\n",
    "        xs.append(x)\n",
    "        if tol_type is 'abs':\n",
    "            if abs(f(x)) <= tol:\n",
    "                break\n",
    "        elif tol_type is 'cauchy':\n",
    "            if abs(x - x_old) < tol:\n",
    "                break\n",
    "    return xs\n",
    "\n",
    "f = lambda x: (x-1)**2\n",
    "df = lambda x: 2*(x-1)\n",
    "for x in newton_method(2, f, df, tol=1e-3, tol_type='cauchy'):\n",
    "    print(x)"
   ]
  },
  {
   "cell_type": "code",
   "execution_count": 2,
   "id": "8f22b438",
   "metadata": {},
   "outputs": [
    {
     "name": "stdout",
     "output_type": "stream",
     "text": [
      "2\n",
      "1.5\n",
      "1.25\n",
      "1.125\n",
      "1.0625\n",
      "1.03125\n",
      "1.015625\n",
      "1.0078125\n",
      "1.00390625\n",
      "1.001953125\n",
      "1.0009765625\n",
      "\n",
      "1.0009765625\n"
     ]
    }
   ],
   "source": [
    "def newton_method(x0, f, df, \n",
    "                  max_iter=10, tol=1e-5, \n",
    "                  tol_type='abs', return_all=False):\n",
    "    assert tol_type.lower() in ('abs', 'cauchy')\n",
    "    x = x0\n",
    "    x_old = x\n",
    "    if return_all:\n",
    "        xs = [x]\n",
    "    for _ in range(max_iter):\n",
    "        x, x_old = x - f(x)/df(x), x\n",
    "        if return_all:\n",
    "            xs.append(x)\n",
    "        if tol_type is 'abs':\n",
    "            if abs(f(x)) <= tol:\n",
    "                break\n",
    "        elif tol_type is 'cauchy':\n",
    "            if abs(x - x_old) < tol:\n",
    "                break\n",
    "    if return_all:\n",
    "        return xs\n",
    "    return x\n",
    "\n",
    "f = lambda x: (x-1)**2\n",
    "df = lambda x: 2*(x-1)\n",
    "for x in newton_method(2, f, df, tol=1e-3, \n",
    "                       tol_type='cauchy', return_all=True):\n",
    "    print(x)\n",
    "    \n",
    "print()\n",
    "print(newton_method(2, f, df, tol=1e-3, tol_type='cauchy'))"
   ]
  },
  {
   "cell_type": "code",
   "execution_count": null,
   "id": "95cbf567",
   "metadata": {},
   "outputs": [],
   "source": []
  }
 ],
 "metadata": {
  "kernelspec": {
   "display_name": "Python 3",
   "language": "python",
   "name": "python3"
  },
  "language_info": {
   "codemirror_mode": {
    "name": "ipython",
    "version": 3
   },
   "file_extension": ".py",
   "mimetype": "text/x-python",
   "name": "python",
   "nbconvert_exporter": "python",
   "pygments_lexer": "ipython3",
   "version": "3.6.9"
  }
 },
 "nbformat": 4,
 "nbformat_minor": 5
}

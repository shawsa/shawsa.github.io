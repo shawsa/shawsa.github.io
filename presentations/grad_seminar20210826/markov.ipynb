{
 "cells": [
  {
   "cell_type": "code",
   "execution_count": 2,
   "id": "f053e05a",
   "metadata": {},
   "outputs": [],
   "source": [
    "from functools import partial, reduce\n",
    "from itertools import accumulate, repeat, chain, takewhile, tee, islice\n",
    "import more_itertools\n",
    "import operator\n",
    "\n",
    "import numpy as np\n",
    "import sympy as sym\n",
    "import random"
   ]
  },
  {
   "cell_type": "code",
   "execution_count": 3,
   "id": "cc3dd72d",
   "metadata": {},
   "outputs": [],
   "source": [
    "def take(n):\n",
    "    return lambda iterable: islice(iterable, 0, n)\n",
    "\n",
    "def head(iterable, n=10):\n",
    "    return list(take(n)(iterable))\n",
    "\n",
    "# def last(iterable):\n",
    "#     try:\n",
    "#         while True:\n",
    "#             x = next(iterable)\n",
    "#     except StopIteration:\n",
    "#         return x\n",
    "    \n",
    "last = more_itertools.last\n",
    "        \n",
    "def pipeline(*func_list):\n",
    "    def compose_two(f, g):\n",
    "        return lambda x: g(f(x))\n",
    "    return reduce(compose_two, func_list)\n",
    "\n",
    "def pipeline_eval(x, *func_list):\n",
    "    def apply(x, f):\n",
    "        return f(x)\n",
    "    return reduce(apply, func_list, x)\n",
    "\n",
    "# def filter_printer(iterable):\n",
    "#     for element in iterable:\n",
    "#         print(element)\n",
    "#         yield element\n",
    "        \n",
    "def print_and_return(x):\n",
    "    print(x)\n",
    "    return x\n",
    "\n",
    "filter_printer = partial(map, print_and_return)"
   ]
  },
  {
   "cell_type": "code",
   "execution_count": 4,
   "id": "3cfee40a",
   "metadata": {},
   "outputs": [],
   "source": [
    "class Markov:\n",
    "    def __init__(self, state_space, P):\n",
    "        self.state_space = state_space\n",
    "        if callable(P):\n",
    "            self.next_state = P\n",
    "        else:\n",
    "            if isinstance(P, sym.Matrix):\n",
    "                P = P.tolist()\n",
    "            try:\n",
    "                self.weights = [[float(i) for i in row] for row in P]\n",
    "                self.index_dict = {state:index for index,state in enumerate(state_space)}\n",
    "                self.next_state = lambda state: random.choices(state_space, \n",
    "                                weights=self.weights[self.index_dict[state]])[0]\n",
    "            except:\n",
    "                raise ValueError(\"Illegal argument for probability transition matrix: \\n{}\".format(P))\n",
    "\n",
    "    def chain(self, state0):\n",
    "        state = state0\n",
    "        while True:\n",
    "            yield state\n",
    "            state = self.next_state(state)"
   ]
  },
  {
   "cell_type": "code",
   "execution_count": 5,
   "id": "2d701b8b",
   "metadata": {},
   "outputs": [
    {
     "data": {
      "text/plain": [
       "[4, 2, 1, 2, 1, 2, 4, 2, 4, 2]"
      ]
     },
     "execution_count": 5,
     "metadata": {},
     "output_type": "execute_result"
    }
   ],
   "source": [
    "state_space = [1,2,3,4,5,6]\n",
    "P = sym.Matrix([\n",
    "        [0, 6, 0, 0, 0, 0],\n",
    "        [3, 0, 0, 3, 0, 0],\n",
    "        [0, 0, 0, 0, 6, 0],\n",
    "        [0, 3, 0, 0, 3, 0],\n",
    "        [0, 0, 2, 2, 0, 2],\n",
    "        [0, 0, 0, 0, 6, 0]])/6\n",
    "\n",
    "markov = Markov(state_space, P)\n",
    "\n",
    "pipeline_eval(markov.chain(4),\n",
    "              take(10),\n",
    "              list)"
   ]
  },
  {
   "cell_type": "code",
   "execution_count": 20,
   "id": "b1c4b6c3",
   "metadata": {},
   "outputs": [
    {
     "name": "stdout",
     "output_type": "stream",
     "text": [
      "4.99006\n"
     ]
    }
   ],
   "source": [
    "def until(condition, seq):\n",
    "    for element in seq:\n",
    "        yield element\n",
    "        if condition(element):\n",
    "            break\n",
    "\n",
    "def seq_len(seq):\n",
    "    return sum(1 for _ in seq)\n",
    "\n",
    "def sub1(x):\n",
    "    return x - 1\n",
    "\n",
    "def trial():\n",
    "    return pipeline_eval(\n",
    "        markov.chain(4),\n",
    "        partial(until, lambda state: state in [1, 6]),\n",
    "        seq_len,\n",
    "        sub1)\n",
    "\n",
    "# a\n",
    "N = 10**5\n",
    "average = sum(trial() for _ in range(N))/N\n",
    "print(average)"
   ]
  },
  {
   "cell_type": "code",
   "execution_count": 10,
   "id": "0646213f",
   "metadata": {},
   "outputs": [
    {
     "name": "stdout",
     "output_type": "stream",
     "text": [
      "2.00233\n"
     ]
    }
   ],
   "source": [
    "# b\n",
    "def count_if(state):\n",
    "    return state == 6\n",
    "\n",
    "def trial():\n",
    "    return pipeline_eval(\n",
    "        markov.chain(4),\n",
    "        partial(until, lambda state: state in [1]),\n",
    "        partial(map, count_if),\n",
    "        sum)\n",
    "\n",
    "N = 10**5\n",
    "average = sum(trial() for _ in range(N))/N\n",
    "print(average)"
   ]
  },
  {
   "cell_type": "code",
   "execution_count": 11,
   "id": "5e30c147",
   "metadata": {},
   "outputs": [
    {
     "name": "stdout",
     "output_type": "stream",
     "text": [
      "0.50147\n"
     ]
    }
   ],
   "source": [
    "# c\n",
    "def found_food(final_state):\n",
    "    return final_state == 1\n",
    "\n",
    "def trial():\n",
    "    return pipeline_eval(\n",
    "        markov.chain(4),\n",
    "        partial(until, lambda state: state in [1, 6]),\n",
    "        last,\n",
    "        found_food)\n",
    "\n",
    "N = 10**5\n",
    "prob = sum(trial() for _ in range(N))/N\n",
    "print(prob)"
   ]
  },
  {
   "cell_type": "code",
   "execution_count": null,
   "id": "0e550bc2",
   "metadata": {},
   "outputs": [],
   "source": []
  },
  {
   "cell_type": "code",
   "execution_count": null,
   "id": "c6bd42e8",
   "metadata": {},
   "outputs": [],
   "source": []
  }
 ],
 "metadata": {
  "kernelspec": {
   "display_name": "Python 3",
   "language": "python",
   "name": "python3"
  },
  "language_info": {
   "codemirror_mode": {
    "name": "ipython",
    "version": 3
   },
   "file_extension": ".py",
   "mimetype": "text/x-python",
   "name": "python",
   "nbconvert_exporter": "python",
   "pygments_lexer": "ipython3",
   "version": "3.6.9"
  }
 },
 "nbformat": 4,
 "nbformat_minor": 5
}

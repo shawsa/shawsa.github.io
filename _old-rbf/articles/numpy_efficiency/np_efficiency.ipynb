{
 "cells": [
  {
   "cell_type": "code",
   "execution_count": 1,
   "metadata": {},
   "outputs": [],
   "source": [
    "import numpy as np\n",
    "from math import exp"
   ]
  },
  {
   "cell_type": "markdown",
   "metadata": {},
   "source": [
    "# Loops"
   ]
  },
  {
   "cell_type": "code",
   "execution_count": 2,
   "metadata": {},
   "outputs": [],
   "source": [
    "n = 10**7"
   ]
  },
  {
   "cell_type": "markdown",
   "metadata": {},
   "source": [
    "### Looping in Python"
   ]
  },
  {
   "cell_type": "code",
   "execution_count": 3,
   "metadata": {},
   "outputs": [
    {
     "name": "stdout",
     "output_type": "stream",
     "text": [
      "1 loop, best of 3: 1.73 s per loop\n"
     ]
    }
   ],
   "source": [
    "%%timeit\n",
    "xs = [i/(n-1) for i in range(n)]\n",
    "ys = [x**2 for x in xs]"
   ]
  },
  {
   "cell_type": "code",
   "execution_count": 4,
   "metadata": {},
   "outputs": [
    {
     "name": "stdout",
     "output_type": "stream",
     "text": [
      "0.0\n",
      "1.00000020000003e-14\n",
      "4.00000080000012e-14\n",
      "9.00000180000027e-14\n",
      "1.600000320000048e-13\n",
      "2.5000005000000755e-13\n",
      "3.600000720000108e-13\n",
      "4.900000980000147e-13\n",
      "6.400001280000192e-13\n",
      "8.100001620000242e-13\n"
     ]
    }
   ],
   "source": [
    "xs = [i/(n-1) for i in range(n)]\n",
    "ys = [x**2 for x in xs]\n",
    "for y in ys[:10]:\n",
    "    print(y)"
   ]
  },
  {
   "cell_type": "markdown",
   "metadata": {},
   "source": [
    "### Mixing Python and Numpy"
   ]
  },
  {
   "cell_type": "code",
   "execution_count": 5,
   "metadata": {},
   "outputs": [
    {
     "name": "stdout",
     "output_type": "stream",
     "text": [
      "1 loop, best of 3: 3.54 s per loop\n"
     ]
    }
   ],
   "source": [
    "%%timeit\n",
    "xs = np.linspace(0,1,n)\n",
    "ys = np.array([x**2 for x in xs])"
   ]
  },
  {
   "cell_type": "code",
   "execution_count": 6,
   "metadata": {},
   "outputs": [
    {
     "name": "stdout",
     "output_type": "stream",
     "text": [
      "0.0\n",
      "1.00000020000003e-14\n",
      "4.00000080000012e-14\n",
      "9.00000180000027e-14\n",
      "1.600000320000048e-13\n",
      "2.5000005000000755e-13\n",
      "3.600000720000108e-13\n",
      "4.900000980000147e-13\n",
      "6.400001280000192e-13\n",
      "8.100001620000242e-13\n"
     ]
    }
   ],
   "source": [
    "xs = np.linspace(0,1,n)\n",
    "ys = np.array([x**2 for x in xs])\n",
    "for y in ys[:10]:\n",
    "    print(y)"
   ]
  },
  {
   "cell_type": "markdown",
   "metadata": {},
   "source": [
    "### Pure Numpy"
   ]
  },
  {
   "cell_type": "code",
   "execution_count": 7,
   "metadata": {},
   "outputs": [
    {
     "name": "stdout",
     "output_type": "stream",
     "text": [
      "10 loops, best of 3: 106 ms per loop\n"
     ]
    }
   ],
   "source": [
    "%%timeit\n",
    "xs = np.linspace(0,1,n)\n",
    "ys = xs**2"
   ]
  },
  {
   "cell_type": "code",
   "execution_count": 8,
   "metadata": {},
   "outputs": [
    {
     "name": "stdout",
     "output_type": "stream",
     "text": [
      "0.0\n",
      "1.00000020000003e-14\n",
      "4.00000080000012e-14\n",
      "9.00000180000027e-14\n",
      "1.600000320000048e-13\n",
      "2.5000005000000755e-13\n",
      "3.600000720000108e-13\n",
      "4.900000980000147e-13\n",
      "6.400001280000192e-13\n",
      "8.100001620000242e-13\n"
     ]
    }
   ],
   "source": [
    "xs = np.linspace(0,1,n)\n",
    "ys = xs**2\n",
    "for y in ys[:10]:\n",
    "    print(y)"
   ]
  },
  {
   "cell_type": "markdown",
   "metadata": {},
   "source": [
    "### Python Cheating"
   ]
  },
  {
   "cell_type": "code",
   "execution_count": 9,
   "metadata": {},
   "outputs": [
    {
     "name": "stdout",
     "output_type": "stream",
     "text": [
      "1000000 loops, best of 3: 713 ns per loop\n"
     ]
    }
   ],
   "source": [
    "%%timeit\n",
    "xs = map(lambda i: i/(n-1), range(n))\n",
    "ys = map(lambda x: x**2, xs)"
   ]
  },
  {
   "cell_type": "code",
   "execution_count": 10,
   "metadata": {},
   "outputs": [
    {
     "name": "stdout",
     "output_type": "stream",
     "text": [
      "0.0\n",
      "1.00000020000003e-14\n",
      "4.00000080000012e-14\n",
      "9.00000180000027e-14\n",
      "1.600000320000048e-13\n",
      "2.5000005000000755e-13\n",
      "3.600000720000108e-13\n",
      "4.900000980000147e-13\n",
      "6.400001280000192e-13\n",
      "8.100001620000242e-13\n"
     ]
    }
   ],
   "source": [
    "for i, y in zip(range(10),ys):\n",
    "    print(y)"
   ]
  },
  {
   "cell_type": "markdown",
   "metadata": {},
   "source": [
    "# Forming the RBF Interpolation Matrix"
   ]
  },
  {
   "cell_type": "markdown",
   "metadata": {},
   "source": [
    "### Pure Python"
   ]
  },
  {
   "cell_type": "code",
   "execution_count": 11,
   "metadata": {},
   "outputs": [],
   "source": [
    "n = 300\n",
    "eps = .3"
   ]
  },
  {
   "cell_type": "code",
   "execution_count": 12,
   "metadata": {},
   "outputs": [],
   "source": [
    "def rbf(r, eps):\n",
    "    return exp(-eps*r**2)\n",
    "def dist(x,y):\n",
    "    return abs(x-y)"
   ]
  },
  {
   "cell_type": "code",
   "execution_count": 13,
   "metadata": {},
   "outputs": [
    {
     "name": "stdout",
     "output_type": "stream",
     "text": [
      "10 loops, best of 3: 47 ms per loop\n"
     ]
    }
   ],
   "source": [
    "%%timeit\n",
    "xs = [i/(n-1) for i in range(n)]\n",
    "A = [[rbf(dist(x,y), eps) for y in xs] for x in xs]"
   ]
  },
  {
   "cell_type": "markdown",
   "metadata": {},
   "source": [
    "### Typical Use of Numpy with Python"
   ]
  },
  {
   "cell_type": "code",
   "execution_count": 14,
   "metadata": {},
   "outputs": [],
   "source": [
    "def rbf(r, eps):\n",
    "    return np.exp(-eps*r**2)\n",
    "def dist(x,y):\n",
    "    return np.abs(x-y)"
   ]
  },
  {
   "cell_type": "code",
   "execution_count": 15,
   "metadata": {},
   "outputs": [
    {
     "name": "stdout",
     "output_type": "stream",
     "text": [
      "1 loop, best of 3: 580 ms per loop\n"
     ]
    }
   ],
   "source": [
    "%%timeit\n",
    "xs = np.linspace(0,1,n)\n",
    "A = np.array([[rbf(dist(x,y), eps) for y in xs] for x in xs])"
   ]
  },
  {
   "cell_type": "markdown",
   "metadata": {},
   "source": [
    "### Better Use of Numpy with Python"
   ]
  },
  {
   "cell_type": "code",
   "execution_count": 16,
   "metadata": {},
   "outputs": [
    {
     "name": "stdout",
     "output_type": "stream",
     "text": [
      "10 loops, best of 3: 19.6 ms per loop\n"
     ]
    }
   ],
   "source": [
    "%%timeit\n",
    "xs = np.linspace(0,1,n)\n",
    "A = rbf(np.abs([[x-y for y in xs] for x in xs]), eps)"
   ]
  },
  {
   "cell_type": "markdown",
   "metadata": {},
   "source": [
    "### Pure Numpy"
   ]
  },
  {
   "cell_type": "code",
   "execution_count": 17,
   "metadata": {},
   "outputs": [],
   "source": [
    "def rbf(r, eps):\n",
    "    return np.exp(-eps*r**2)\n",
    "def dist(x,y):\n",
    "    return np.abs(x-y)"
   ]
  },
  {
   "cell_type": "code",
   "execution_count": 18,
   "metadata": {},
   "outputs": [
    {
     "name": "stdout",
     "output_type": "stream",
     "text": [
      "100 loops, best of 3: 2.45 ms per loop\n"
     ]
    }
   ],
   "source": [
    "%%timeit\n",
    "xs = np.linspace(0,1,n)\n",
    "A = rbf(np.abs( np.subtract.outer(xs,xs) ), eps)"
   ]
  }
 ],
 "metadata": {
  "kernelspec": {
   "display_name": "Python 3",
   "language": "python",
   "name": "python3"
  },
  "language_info": {
   "codemirror_mode": {
    "name": "ipython",
    "version": 3
   },
   "file_extension": ".py",
   "mimetype": "text/x-python",
   "name": "python",
   "nbconvert_exporter": "python",
   "pygments_lexer": "ipython3",
   "version": "3.6.5"
  }
 },
 "nbformat": 4,
 "nbformat_minor": 2
}

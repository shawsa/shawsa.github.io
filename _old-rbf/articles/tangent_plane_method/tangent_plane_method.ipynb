{
 "cells": [
  {
   "cell_type": "code",
   "execution_count": 1,
   "metadata": {},
   "outputs": [],
   "source": [
    "%matplotlib notebook\n",
    "import matplotlib.pyplot as plt\n",
    "\n",
    "import numpy as np\n",
    "import scipy.linalg as la\n",
    "from scipy.spatial import cKDTree\n",
    "import scipy.sparse as sp\n",
    "\n",
    "from poly_basis import *\n",
    "from spherepts import *\n",
    "from rbf import *"
   ]
  },
  {
   "cell_type": "markdown",
   "metadata": {},
   "source": [
    "# Tangent Plane Method"
   ]
  },
  {
   "cell_type": "code",
   "execution_count": 9,
   "metadata": {},
   "outputs": [],
   "source": [
    "#def poly_basis_2D()\n",
    "\n",
    "def dist_outer_W(nodes1, nodes2, W):\n",
    "    d = len(nodes1[0]) # the dimension of each vector\n",
    "    n1 = len(nodes1)\n",
    "    n2 = len(nodes2)\n",
    "    # create a row vector of d-dimensional vectors\n",
    "    row = nodes1.reshape((1,n1,d)) \n",
    "    # create a column vector of d-dimensional vectors\n",
    "    col = nodes2.reshape((n2,1,d)) \n",
    "    diff = row-col\n",
    "    ret = diff @ W * diff\n",
    "    #ret = (row-col)**2\n",
    "    ret = np.sum(ret,2) #sum each d-dimensional vector\n",
    "    return np.sqrt(ret)\n",
    "\n",
    "# calculate the weights using the tangent plane method.\n",
    "def weights_tan(nodes, rbf, Lrbf, eps=None, normals=None, stencil_size=10):    \n",
    "    n = len(nodes)\n",
    "    tree = cKDTree(np.array(nodes))\n",
    "\n",
    "    e1, e2, e3 = np.eye(3)\n",
    "    E = np.eye(3)\n",
    "    E[2,2] = 0\n",
    "    \n",
    "    # Calculate Weights\n",
    "    weights = np.zeros((n, stencil_size))\n",
    "    row_index = [r for r in range(n) for c in range(stencil_size)]\n",
    "    col_index = np.zeros((n, stencil_size))\n",
    "    for i, node in enumerate(nodes):\n",
    "        stencil = tree.query(node, stencil_size)[1]\n",
    "        col_index[i] = stencil\n",
    "        \n",
    "        nn = np.array([nodes[i] for i in stencil])\n",
    "        \n",
    "        W = np.zeros((3, 3))\n",
    "        R = np.zeros((3, 3))\n",
    "        \n",
    "        t1 = e2 - np.dot(node, e2)*node\n",
    "        t1 /= la.norm(t1)\n",
    "        t2 = e3 - np.dot(node, e3)*node - np.dot(t1, e3)*t1\n",
    "        t2 /= la.norm(t2)\n",
    "        R[:,0] = t1\n",
    "        R[:,1] = t2\n",
    "        R[:,2] = node\n",
    "        W = R @ E @ R.T\n",
    "        \n",
    "        if eps is None:\n",
    "            eps = optimize_eps(rbf, dist_outer_W(nn, nn, W))\n",
    "        \n",
    "        A = rbf(dist_outer_W(nn, nn, W), eps)\n",
    "        rhs = Lrbf(dist_outer_W(nn,nn[0].reshape((1,3)), W), eps)\n",
    "        weights[i] = la.solve(A, rhs.flatten())\n",
    "    C = sp.csc_matrix((weights.ravel(), (row_index, col_index.ravel())),shape=(n,n))\n",
    "    return C"
   ]
  },
  {
   "cell_type": "markdown",
   "metadata": {},
   "source": [
    "# Projection Method"
   ]
  },
  {
   "cell_type": "code",
   "execution_count": 10,
   "metadata": {},
   "outputs": [],
   "source": [
    "def grad_rbf_outer(zeta, eps, nodes, centers):\n",
    "    n_len = len(nodes)\n",
    "    c_len = len(centers)\n",
    "    r = dist_outer(nodes, centers)[:,:,np.newaxis]\n",
    "    xs = (np.array(nodes).reshape((1,n_len,3)) - np.array(centers).reshape((c_len,1,3)))\n",
    "    return zeta(r, eps) * xs\n",
    "\n",
    "def weights_proj(nodes, rbf, zeta, eps=None, normals=None, stencil_size=10, basis_type='s', basis_deg=-1):\n",
    "    n = len(nodes)\n",
    "    tree = cKDTree(np.array(nodes))\n",
    "    projectors = [np.eye(3) - np.outer(node, node) for node in nodes]\n",
    "    \n",
    "    weights = np.zeros((n, stencil_size))\n",
    "    row_index = [r for r in range(n) for c in range(stencil_size)]\n",
    "    col_index = np.zeros((n, stencil_size))\n",
    "    for i, node in enumerate(nodes):\n",
    "        stencil = tree.query(node, stencil_size)[1]\n",
    "        col_index[i] = stencil\n",
    "        nn = np.array([nodes[i] for i in stencil])\n",
    "        \n",
    "        nn_proj = np.array([projectors[i] for i in stencil])\n",
    "        center_x, center_y, center_z = nn[0]\n",
    "\n",
    "        if basis_type == 'p':\n",
    "            P, rhs_x, rhs_y, rhs_z = get_poly_basis(basis_deg, nn, nn_proj)\n",
    "        elif basis_type == 's':\n",
    "            P, rhs_x, rhs_y, rhs_z = gen_sphere_harm_basis(basis_deg, nn, nn_proj)\n",
    "\n",
    "        dist_mat = dist_outer(nn,nn)\n",
    "        if eps is None:\n",
    "            eps = optimize_eps(rbf, dist_mat)\n",
    "\n",
    "        A = rbf(dist_mat, eps)\n",
    "\n",
    "        num_basis = P.shape[1]\n",
    "        AP = np.block([[A,P],[P.T, np.zeros((num_basis,num_basis))]])\n",
    "\n",
    "        rhsAs = np.matmul(nn_proj, \n",
    "                          grad_rbf_outer(zeta, eps, nn, nn).reshape(\n",
    "                            (stencil_size,stencil_size,3,1))).reshape(\n",
    "                            (stencil_size,stencil_size,3))\n",
    "\n",
    "        rhsA = rhsAs[:,:,0] # only the x coordinates\n",
    "        rhs = np.block([[rhsA],\n",
    "                        [rhs_x]])\n",
    "        weights_grad = la.solve(AP, rhs)[:stencil_size,:].T\n",
    "        weights[i] = (weights_grad@weights_grad)[0]\n",
    "\n",
    "        rhsA = rhsAs[:,:,1] # only the y coordinates\n",
    "        rhs = np.block([[rhsA],\n",
    "                        [rhs_y]])\n",
    "        weights_grad = la.solve(AP, rhs)[:stencil_size,:].T\n",
    "        weights[i] += (weights_grad@weights_grad)[0]\n",
    "\n",
    "        rhsA = rhsAs[:,:,2] # only the z coordinates\n",
    "        rhs = np.block([[rhsA],\n",
    "                        [rhs_z]])\n",
    "        weights_grad = la.solve(AP, rhs)[:stencil_size,:].T\n",
    "        weights[i] += (weights_grad@weights_grad)[0]\n",
    "\n",
    "    C = sp.csc_matrix((weights.ravel(), (row_index, col_index.ravel())),shape=(n,n))\n",
    "    return C"
   ]
  },
  {
   "cell_type": "code",
   "execution_count": 11,
   "metadata": {},
   "outputs": [
    {
     "name": "stdout",
     "output_type": "stream",
     "text": [
      "Harmonic degree: 3\n"
     ]
    }
   ],
   "source": [
    "# Choose solution and forcing fuction\n",
    "solution_index = 10\n",
    "sol_deg = sphere_harm_degs[solution_index]\n",
    "exact = lambda x: sphere_harm[solution_index](*x)*-sol_deg*(sol_deg+1)\n",
    "forcing = lambda x: sphere_harm[solution_index](*x)\n",
    "print('Harmonic degree: %d' % sol_deg)"
   ]
  },
  {
   "cell_type": "code",
   "execution_count": 12,
   "metadata": {},
   "outputs": [],
   "source": [
    "n = 2000\n",
    "k = 100\n",
    "eps = .25\n",
    "rbf_obj=rbf_dict['multiquadric']\n",
    "\n",
    "\n",
    "rbf = rbf_obj['rbf']\n",
    "zeta  = rbf_obj['zeta']\n",
    "d2rbf = rbf_obj['d2rbf']\n",
    "Lrbf = lambda r,eps: 1*zeta(r,eps) + d2rbf(r,eps)\n",
    "def Lpoly(P):\n",
    "    ret = np.zeros((P.shape[1],1))\n",
    "    if len(ret) >= 3:\n",
    "        ret[3,0] = 2\n",
    "    if len(ret) >= 5:\n",
    "        ret[5,0] = 2\n",
    "    return ret\n",
    "\n",
    "# generate nodes\n",
    "nodes = gen_spiral_nodes(n)\n",
    "true = np.array([exact(node) for node in nodes])\n",
    "fs = np.array([forcing(node) for node in nodes])"
   ]
  },
  {
   "cell_type": "code",
   "execution_count": 13,
   "metadata": {},
   "outputs": [
    {
     "name": "stdout",
     "output_type": "stream",
     "text": [
      "7.487853926857502e-05\n"
     ]
    }
   ],
   "source": [
    "# Tangent Plane Method\n",
    "C = weights_tan(nodes, rbf, Lrbf, normals=nodes, eps=None, stencil_size=k)\n",
    "print(la.norm(true - C@fs)/la.norm(true))"
   ]
  },
  {
   "cell_type": "code",
   "execution_count": 14,
   "metadata": {},
   "outputs": [
    {
     "name": "stdout",
     "output_type": "stream",
     "text": [
      "0.0002886258011746915\n"
     ]
    }
   ],
   "source": [
    "# Projection Method\n",
    "C = weights_proj(nodes, rbf, zeta, normals=nodes, eps=None, stencil_size=k, basis_deg=-1)\n",
    "print(la.norm(true - C@fs)/la.norm(true))"
   ]
  },
  {
   "cell_type": "code",
   "execution_count": 23,
   "metadata": {},
   "outputs": [],
   "source": [
    "stencil_size = k\n",
    "e1, e2, e3 = np.eye(3)\n",
    "E = np.eye(3)\n",
    "E[2,2] = 0\n",
    "\n",
    "i = 1\n",
    "node = nodes[i]\n",
    "tree = cKDTree(np.array(nodes))\n",
    "stencil = tree.query(node, stencil_size)[1]\n",
    "\n",
    "nn = np.array([nodes[i] for i in stencil])\n",
    "\n",
    "W = np.zeros((3, 3))\n",
    "R = np.zeros((3, 3))\n",
    "\n",
    "t1 = e2 - np.dot(node, e2)*node\n",
    "t1 /= la.norm(t1)\n",
    "t2 = e3 - np.dot(node, e3)*node - np.dot(t1, e3)*t1\n",
    "t2 /= la.norm(t2)\n",
    "R[:,0] = t1\n",
    "R[:,1] = t2\n",
    "R[:,2] = node"
   ]
  },
  {
   "cell_type": "code",
   "execution_count": 24,
   "metadata": {},
   "outputs": [
    {
     "data": {
      "text/plain": [
       "array([[ 1.18985754e-03,  9.98793139e-01, -4.91003951e-02],\n",
       "       [ 9.99706506e-01, -7.06395271e-17,  2.42260439e-02],\n",
       "       [-2.41968064e-02,  4.91148100e-02,  9.98500000e-01]])"
      ]
     },
     "execution_count": 24,
     "metadata": {},
     "output_type": "execute_result"
    }
   ],
   "source": [
    "R"
   ]
  },
  {
   "cell_type": "code",
   "execution_count": 27,
   "metadata": {},
   "outputs": [
    {
     "data": {
      "text/plain": [
       "array([[-5.36321943e-02,  6.05342922e-02,  9.96724228e-01],\n",
       "       [ 0.00000000e+00,  3.88578059e-16,  1.00000000e+00],\n",
       "       [-4.30983530e-03,  1.16760167e-01,  9.93150789e-01],\n",
       "       ...,\n",
       "       [ 3.43460662e-02,  2.08602805e-02, -9.99192272e-01],\n",
       "       [-1.82576542e-02, -8.36531901e-02, -9.96327658e-01],\n",
       "       [ 5.57420507e-02, -5.08673211e-02, -9.97148604e-01]])"
      ]
     },
     "execution_count": 27,
     "metadata": {},
     "output_type": "execute_result"
    }
   ],
   "source": [
    "nodes @ R"
   ]
  },
  {
   "cell_type": "code",
   "execution_count": 28,
   "metadata": {},
   "outputs": [
    {
     "data": {
      "text/plain": [
       "array([[-5.36321943e-02,  6.05342922e-02],\n",
       "       [ 0.00000000e+00,  3.88578059e-16],\n",
       "       [-4.30983530e-03,  1.16760167e-01],\n",
       "       ...,\n",
       "       [ 3.43460662e-02,  2.08602805e-02],\n",
       "       [-1.82576542e-02, -8.36531901e-02],\n",
       "       [ 5.57420507e-02, -5.08673211e-02]])"
      ]
     },
     "execution_count": 28,
     "metadata": {},
     "output_type": "execute_result"
    }
   ],
   "source": [
    "nodes @ R[:,:2]"
   ]
  },
  {
   "cell_type": "code",
   "execution_count": 36,
   "metadata": {},
   "outputs": [],
   "source": [
    "P = np.zeros((10,4))"
   ]
  },
  {
   "cell_type": "code",
   "execution_count": 38,
   "metadata": {},
   "outputs": [
    {
     "data": {
      "text/plain": [
       "4"
      ]
     },
     "execution_count": 38,
     "metadata": {},
     "output_type": "execute_result"
    }
   ],
   "source": [
    "P.shape[1]"
   ]
  },
  {
   "cell_type": "code",
   "execution_count": 39,
   "metadata": {},
   "outputs": [
    {
     "data": {
      "text/plain": [
       "['/usr/local/lib/python3.6/dist-packages/numpy']"
      ]
     },
     "execution_count": 39,
     "metadata": {},
     "output_type": "execute_result"
    }
   ],
   "source": [
    "np.__path__"
   ]
  },
  {
   "cell_type": "code",
   "execution_count": null,
   "metadata": {},
   "outputs": [],
   "source": []
  }
 ],
 "metadata": {
  "kernelspec": {
   "display_name": "Python 3",
   "language": "python",
   "name": "python3"
  },
  "language_info": {
   "codemirror_mode": {
    "name": "ipython",
    "version": 3
   },
   "file_extension": ".py",
   "mimetype": "text/x-python",
   "name": "python",
   "nbconvert_exporter": "python",
   "pygments_lexer": "ipython3",
   "version": "3.6.7"
  }
 },
 "nbformat": 4,
 "nbformat_minor": 2
}
